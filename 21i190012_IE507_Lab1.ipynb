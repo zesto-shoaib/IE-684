{
  "nbformat": 4,
  "nbformat_minor": 0,
  "metadata": {
    "colab": {
      "name": "21i190012_IE507_Lab1.ipynb",
      "provenance": [],
      "collapsed_sections": []
    },
    "kernelspec": {
      "name": "python3",
      "display_name": "Python 3"
    },
    "language_info": {
      "name": "python"
    }
  },
  "cells": [
    {
      "cell_type": "markdown",
      "metadata": {
        "id": "ezx642ZDB57w"
      },
      "source": [
        "# Exercise 1"
      ]
    },
    {
      "cell_type": "code",
      "metadata": {
        "id": "IVE3LU6AVO-c"
      },
      "source": [
        "!pip install -q pyomo"
      ],
      "execution_count": 1,
      "outputs": []
    },
    {
      "cell_type": "code",
      "metadata": {
        "id": "3EXkZa9cVQMj"
      },
      "source": [
        "from pyomo.environ import *"
      ],
      "execution_count": 2,
      "outputs": []
    },
    {
      "cell_type": "code",
      "metadata": {
        "id": "JZIIEgBJVZYq"
      },
      "source": [
        "model = ConcreteModel()"
      ],
      "execution_count": 3,
      "outputs": []
    },
    {
      "cell_type": "code",
      "metadata": {
        "id": "eZfm0CjYVcvs"
      },
      "source": [
        "model.x1 = Var(domain = Reals)\n",
        "model.x2 = Var(domain = Reals)\n",
        "model.x3 = Var(domain = Reals)\n",
        "model.x4 = Var(domain = Reals)\n",
        "model.x5 = Var(domain = Reals)\n",
        "model.x6 = Var(domain = Reals)\n",
        "model.x7 = Var(domain = Reals)"
      ],
      "execution_count": 4,
      "outputs": []
    },
    {
      "cell_type": "code",
      "metadata": {
        "id": "12-ODa6DV6OU"
      },
      "source": [
        "model.obj = Objective(expr = 2*model.x1 - 5*model.x2 + 14*model.x3 +7*model.x4 - 11*model.x5 + 0.17*model.x6 - 10.2*model.x7, sense = minimize)"
      ],
      "execution_count": 5,
      "outputs": []
    },
    {
      "cell_type": "code",
      "metadata": {
        "id": "Vff2XtD7Wpzr"
      },
      "source": [
        "model.constr1 = Constraint(expr = model.x1 + model.x2 + model.x3 + model.x4 + model.x5 + model.x6 + model.x7 == 280)\n",
        "model.constr2 = Constraint(expr = model.x1 - model.x2 >= 10)\n",
        "model.constr3 = Constraint(expr = -3*model.x3 + model.x6 - 3*model.x7 <= 205)\n",
        "model.constr4 = Constraint(expr = 20*model.x1 + 42*model.x6 + model.x5 >= 35)\n",
        "model.constr5 = Constraint(expr = model.x2 - model.x3 + 4*model.x7 >= 24)\n",
        "model.constr6 = Constraint(expr = model.x1 >= 12)\n",
        "model.constr7 = Constraint(expr = model.x2 >= 0)\n",
        "model.constr8 = Constraint(expr = model.x3 >= -5)\n",
        "model.constr9 = Constraint(expr = model.x4 >= 3)\n",
        "model.constr10 = Constraint(expr = model.x5 >=10)\n",
        "model.constr11 = Constraint(expr = model.x6 >= -4)\n",
        "model.constr12 = Constraint(expr = model.x7 >= 0)"
      ],
      "execution_count": 6,
      "outputs": []
    },
    {
      "cell_type": "code",
      "metadata": {
        "colab": {
          "base_uri": "https://localhost:8080/"
        },
        "id": "Q03bPxsCXRK8",
        "outputId": "207bf6cc-985f-4135-f567-e042ea9e7687"
      },
      "source": [
        "model.pprint()"
      ],
      "execution_count": 7,
      "outputs": [
        {
          "output_type": "stream",
          "text": [
            "7 Var Declarations\n",
            "    x1 : Size=1, Index=None\n",
            "        Key  : Lower : Value : Upper : Fixed : Stale : Domain\n",
            "        None :  None :  None :  None : False :  True :  Reals\n",
            "    x2 : Size=1, Index=None\n",
            "        Key  : Lower : Value : Upper : Fixed : Stale : Domain\n",
            "        None :  None :  None :  None : False :  True :  Reals\n",
            "    x3 : Size=1, Index=None\n",
            "        Key  : Lower : Value : Upper : Fixed : Stale : Domain\n",
            "        None :  None :  None :  None : False :  True :  Reals\n",
            "    x4 : Size=1, Index=None\n",
            "        Key  : Lower : Value : Upper : Fixed : Stale : Domain\n",
            "        None :  None :  None :  None : False :  True :  Reals\n",
            "    x5 : Size=1, Index=None\n",
            "        Key  : Lower : Value : Upper : Fixed : Stale : Domain\n",
            "        None :  None :  None :  None : False :  True :  Reals\n",
            "    x6 : Size=1, Index=None\n",
            "        Key  : Lower : Value : Upper : Fixed : Stale : Domain\n",
            "        None :  None :  None :  None : False :  True :  Reals\n",
            "    x7 : Size=1, Index=None\n",
            "        Key  : Lower : Value : Upper : Fixed : Stale : Domain\n",
            "        None :  None :  None :  None : False :  True :  Reals\n",
            "\n",
            "1 Objective Declarations\n",
            "    obj : Size=1, Index=None, Active=True\n",
            "        Key  : Active : Sense    : Expression\n",
            "        None :   True : minimize : 2*x1 - 5*x2 + 14*x3 + 7*x4 - 11*x5 + 0.17*x6 - 10.2*x7\n",
            "\n",
            "12 Constraint Declarations\n",
            "    constr1 : Size=1, Index=None, Active=True\n",
            "        Key  : Lower : Body                             : Upper : Active\n",
            "        None : 280.0 : x1 + x2 + x3 + x4 + x5 + x6 + x7 : 280.0 :   True\n",
            "    constr10 : Size=1, Index=None, Active=True\n",
            "        Key  : Lower : Body : Upper : Active\n",
            "        None :  10.0 :   x5 :  +Inf :   True\n",
            "    constr11 : Size=1, Index=None, Active=True\n",
            "        Key  : Lower : Body : Upper : Active\n",
            "        None :  -4.0 :   x6 :  +Inf :   True\n",
            "    constr12 : Size=1, Index=None, Active=True\n",
            "        Key  : Lower : Body : Upper : Active\n",
            "        None :   0.0 :   x7 :  +Inf :   True\n",
            "    constr2 : Size=1, Index=None, Active=True\n",
            "        Key  : Lower : Body    : Upper : Active\n",
            "        None :  10.0 : x1 - x2 :  +Inf :   True\n",
            "    constr3 : Size=1, Index=None, Active=True\n",
            "        Key  : Lower : Body              : Upper : Active\n",
            "        None :  -Inf : -3*x3 + x6 - 3*x7 : 205.0 :   True\n",
            "    constr4 : Size=1, Index=None, Active=True\n",
            "        Key  : Lower : Body               : Upper : Active\n",
            "        None :  35.0 : 20*x1 + 42*x6 + x5 :  +Inf :   True\n",
            "    constr5 : Size=1, Index=None, Active=True\n",
            "        Key  : Lower : Body           : Upper : Active\n",
            "        None :  24.0 : x2 - x3 + 4*x7 :  +Inf :   True\n",
            "    constr6 : Size=1, Index=None, Active=True\n",
            "        Key  : Lower : Body : Upper : Active\n",
            "        None :  12.0 :   x1 :  +Inf :   True\n",
            "    constr7 : Size=1, Index=None, Active=True\n",
            "        Key  : Lower : Body : Upper : Active\n",
            "        None :   0.0 :   x2 :  +Inf :   True\n",
            "    constr8 : Size=1, Index=None, Active=True\n",
            "        Key  : Lower : Body : Upper : Active\n",
            "        None :  -5.0 :   x3 :  +Inf :   True\n",
            "    constr9 : Size=1, Index=None, Active=True\n",
            "        Key  : Lower : Body : Upper : Active\n",
            "        None :   3.0 :   x4 :  +Inf :   True\n",
            "\n",
            "20 Declarations: x1 x2 x3 x4 x5 x6 x7 obj constr1 constr2 constr3 constr4 constr5 constr6 constr7 constr8 constr9 constr10 constr11 constr12\n"
          ],
          "name": "stdout"
        }
      ]
    },
    {
      "cell_type": "code",
      "metadata": {
        "id": "07Z3Jw84Zk-K"
      },
      "source": [
        "!apt-get install -y -qq glpk-utils"
      ],
      "execution_count": 8,
      "outputs": []
    },
    {
      "cell_type": "code",
      "metadata": {
        "colab": {
          "base_uri": "https://localhost:8080/"
        },
        "id": "hrLZ7WO3aGj8",
        "outputId": "254b0cd6-b9d7-48f3-8004-0b5ab4255552"
      },
      "source": [
        "SolverFactory('glpk', executable='/usr/bin/glpsol').solve(model).write()"
      ],
      "execution_count": 9,
      "outputs": [
        {
          "output_type": "stream",
          "text": [
            "# ==========================================================\n",
            "# = Solver Results                                         =\n",
            "# ==========================================================\n",
            "# ----------------------------------------------------------\n",
            "#   Problem Information\n",
            "# ----------------------------------------------------------\n",
            "Problem: \n",
            "- Name: unknown\n",
            "  Lower bound: -3035.88\n",
            "  Upper bound: -3035.88\n",
            "  Number of objectives: 1\n",
            "  Number of constraints: 13\n",
            "  Number of variables: 8\n",
            "  Number of nonzeros: 26\n",
            "  Sense: minimize\n",
            "# ----------------------------------------------------------\n",
            "#   Solver Information\n",
            "# ----------------------------------------------------------\n",
            "Solver: \n",
            "- Status: ok\n",
            "  Termination condition: optimal\n",
            "  Statistics: \n",
            "    Branch and bound: \n",
            "      Number of bounded subproblems: 0\n",
            "      Number of created subproblems: 0\n",
            "  Error rc: 0\n",
            "  Time: 0.010161161422729492\n",
            "# ----------------------------------------------------------\n",
            "#   Solution Information\n",
            "# ----------------------------------------------------------\n",
            "Solution: \n",
            "- number of solutions: 0\n",
            "  number of solutions displayed: 0\n"
          ],
          "name": "stdout"
        }
      ]
    },
    {
      "cell_type": "code",
      "metadata": {
        "colab": {
          "base_uri": "https://localhost:8080/"
        },
        "id": "z5MLOpIXag3P",
        "outputId": "bc1d2483-e4b4-4754-f549-eb3ab3e822fd"
      },
      "source": [
        "print('Obj =',model.obj())\n",
        "print('\\nDecision Variables :')\n",
        "print('x1 =',model.x1())\n",
        "print('x2 =',model.x2())\n",
        "print('x3 =',model.x3())\n",
        "print('x4 =',model.x4())\n",
        "print('x5 =',model.x5())\n",
        "print('x6 =',model.x6())\n",
        "print('x7 =',model.x7())\n",
        "print('\\nConstraints :')\n",
        "print('Constraint 1 :',model.constr1())\n",
        "print('Constraint 2 :',model.constr2())\n",
        "print('Constraint 3 :',model.constr3())\n",
        "print('Constraint 4 :',model.constr4())\n",
        "print('Constraint 5 :',model.constr5())\n",
        "print('Constraint 6 :',model.constr6())\n",
        "print('Constraint 7 :',model.constr7())\n",
        "print('Constraint 8 :',model.constr8())\n",
        "print('Constraint 9 :',model.constr9())\n",
        "print('Constraint 10 :',model.constr10())\n",
        "print('Constraint 11 :',model.constr11())\n",
        "print('Constraint 12 :',model.constr12())"
      ],
      "execution_count": 10,
      "outputs": [
        {
          "output_type": "stream",
          "text": [
            "Obj = -3035.8799999999997\n",
            "\n",
            "Decision Variables :\n",
            "x1 = 12.0\n",
            "x2 = 0.0\n",
            "x3 = -5.0\n",
            "x4 = 3.0\n",
            "x5 = 269.25\n",
            "x6 = -4.0\n",
            "x7 = 4.75\n",
            "\n",
            "Constraints :\n",
            "Constraint 1 : 280.0\n",
            "Constraint 2 : 12.0\n",
            "Constraint 3 : -3.25\n",
            "Constraint 4 : 341.25\n",
            "Constraint 5 : 24.0\n",
            "Constraint 6 : 12.0\n",
            "Constraint 7 : 0.0\n",
            "Constraint 8 : -5.0\n",
            "Constraint 9 : 3.0\n",
            "Constraint 10 : 269.25\n",
            "Constraint 11 : -4.0\n",
            "Constraint 12 : 4.75\n"
          ],
          "name": "stdout"
        }
      ]
    },
    {
      "cell_type": "markdown",
      "metadata": {
        "id": "SPzA_YUZDChl"
      },
      "source": [
        "## Ans 3: The value of Objective function is -3035.8799999999997.\n",
        "The values of the decision variables at the optimal point are as following :\n",
        "\n",
        "\n",
        "*   $x_1 = 12.0$\n",
        "*   $x_2 = 0.0$\n",
        "*   $x_3 = -5.0$\n",
        "*   $x_4 = 3.0$\n",
        "*   $x_5 = 269.25$\n",
        "*   $x_6 = -4.0$\n",
        "*   $x_7 = 4.75$\n",
        "\n",
        "##Ans 4:\n",
        "\n",
        "\n",
        "1.   The value of LHS in Constraint : $\\sum_{i=1}^{7}{x_i} = 280$ is 280, hence it is satisfied to equality.\n",
        "2.   The value of LHS in Constraint : $x_1 - x_2 \\geq 10$ is 12. Hence, the constraint is satisfied but not to equality.\n",
        "3.   The value of LHS in Constraint : $-3x_3 + x_6 - 3x_7 \\leq 205$ is -3.25. Hence, the constraint is satisfied but not to equality.\n",
        "4.   The value of LHS in Constraint : $20x_1 + 42x_6 + x_5 \\geq 35$ is 341.25. Hence, the constraint is satisfied but not to equality.\n",
        "\n",
        "\n",
        "\n",
        "\n",
        "\n",
        "\n",
        "\n",
        "\n",
        "\n"
      ]
    },
    {
      "cell_type": "markdown",
      "metadata": {
        "id": "s7sMN3DD31Co"
      },
      "source": [
        "# Exercise 2"
      ]
    },
    {
      "cell_type": "markdown",
      "metadata": {
        "id": "9DJjc8udbjtx"
      },
      "source": [
        "##Ans 1: \n",
        "\n",
        "For constraint 3 and 4, we assume the denominator to be greater than zero and thus arrive at new constraints :\n",
        "\n",
        "$-0.8x_1 + 4.8x_2 - 1.8 x_3 + 3.8 x_4 + 2.2 x_5 \\leq 0$\n",
        "\n",
        "$-x_1 + 12x_2 + x_3 + 3x_4 - 5x_5 \\leq 0$"
      ]
    },
    {
      "cell_type": "code",
      "metadata": {
        "id": "ezClGDqGcUI_"
      },
      "source": [
        "exr2_model = ConcreteModel()"
      ],
      "execution_count": 11,
      "outputs": []
    },
    {
      "cell_type": "code",
      "metadata": {
        "id": "t18GIx9Orbyf"
      },
      "source": [
        "exr2_model.x1 = Var(domain = Reals)\n",
        "exr2_model.x2 = Var(domain = Reals)\n",
        "exr2_model.x3 = Var(domain = Reals)\n",
        "exr2_model.x4 = Var(domain = Reals)\n",
        "exr2_model.x5 = Var(domain = Reals)\n",
        "exr2_model.y = Var(domain = Reals)"
      ],
      "execution_count": 12,
      "outputs": []
    },
    {
      "cell_type": "code",
      "metadata": {
        "id": "xdj4DCK3ruQP"
      },
      "source": [
        "exr2_model.obj = Objective(expr = 0.043*exr2_model.x1 + 0.027*exr2_model.x2 + 0.025*exr2_model.x3 + 0.022*exr2_model.x4 + 0.045*exr2_model.x5 - 0.0275*exr2_model.y, sense = maximize)"
      ],
      "execution_count": 13,
      "outputs": []
    },
    {
      "cell_type": "code",
      "metadata": {
        "id": "4i1Dug9tsfyY"
      },
      "source": [
        "exr2_model.constr1 = Constraint(expr = exr2_model.x1 + 3*exr2_model.x2 + exr2_model.x3 + 7*exr2_model.x4 + exr2_model.x5 - exr2_model.y <= 100)\n",
        "exr2_model.constr2 = Constraint(expr = exr2_model.x2 + 2*exr2_model.x3 + 4*exr2_model.x4 >= 60)\n",
        "exr2_model.constr3 = Constraint(expr = -0.8*exr2_model.x1 + 4.8*exr2_model.x2 - 1.8*exr2_model.x3 + 3.8*exr2_model.x4 + 2.2*exr2_model.x5 <= 0)\n",
        "exr2_model.constr4 = Constraint(expr = -exr2_model.x1 + 12*exr2_model.x2 + exr2_model.x3 + 3*exr2_model.x4 - 5*exr2_model.x5 <= 0)\n",
        "exr2_model.constr5 = Constraint(expr = exr2_model.x1 >= 0)\n",
        "exr2_model.constr6 = Constraint(expr = exr2_model.x2 >= 0)\n",
        "exr2_model.constr7 = Constraint(expr = exr2_model.x3 >= 0)\n",
        "exr2_model.constr8 = Constraint(expr = exr2_model.x4 >= 0)\n",
        "exr2_model.constr9 = Constraint(expr = exr2_model.x5 >= 0)\n",
        "exr2_model.constr10 = Constraint(expr = exr2_model.y >= 0)\n",
        "exr2_model.constr11 = Constraint(expr = exr2_model.y <= 2.25)\n",
        "exr2_model.constr12 = Constraint(expr = exr2_model.x1 - exr2_model.x2 + exr2_model.x3 - exr2_model.x4 + exr2_model.x5 >= 0)\n",
        "exr2_model.constr13 = Constraint(expr = exr2_model.x1 + exr2_model.x2 + exr2_model.x3 - exr2_model.x5 >= 0)"
      ],
      "execution_count": 14,
      "outputs": []
    },
    {
      "cell_type": "code",
      "metadata": {
        "colab": {
          "base_uri": "https://localhost:8080/"
        },
        "id": "oSkWu6lBwpJE",
        "outputId": "d38eb879-b252-464c-8a32-af365fed4066"
      },
      "source": [
        "exr2_model.pprint()"
      ],
      "execution_count": 15,
      "outputs": [
        {
          "output_type": "stream",
          "text": [
            "6 Var Declarations\n",
            "    x1 : Size=1, Index=None\n",
            "        Key  : Lower : Value : Upper : Fixed : Stale : Domain\n",
            "        None :  None :  None :  None : False :  True :  Reals\n",
            "    x2 : Size=1, Index=None\n",
            "        Key  : Lower : Value : Upper : Fixed : Stale : Domain\n",
            "        None :  None :  None :  None : False :  True :  Reals\n",
            "    x3 : Size=1, Index=None\n",
            "        Key  : Lower : Value : Upper : Fixed : Stale : Domain\n",
            "        None :  None :  None :  None : False :  True :  Reals\n",
            "    x4 : Size=1, Index=None\n",
            "        Key  : Lower : Value : Upper : Fixed : Stale : Domain\n",
            "        None :  None :  None :  None : False :  True :  Reals\n",
            "    x5 : Size=1, Index=None\n",
            "        Key  : Lower : Value : Upper : Fixed : Stale : Domain\n",
            "        None :  None :  None :  None : False :  True :  Reals\n",
            "    y : Size=1, Index=None\n",
            "        Key  : Lower : Value : Upper : Fixed : Stale : Domain\n",
            "        None :  None :  None :  None : False :  True :  Reals\n",
            "\n",
            "1 Objective Declarations\n",
            "    obj : Size=1, Index=None, Active=True\n",
            "        Key  : Active : Sense    : Expression\n",
            "        None :   True : maximize : 0.043*x1 + 0.027*x2 + 0.025*x3 + 0.022*x4 + 0.045*x5 - 0.0275*y\n",
            "\n",
            "13 Constraint Declarations\n",
            "    constr1 : Size=1, Index=None, Active=True\n",
            "        Key  : Lower : Body                           : Upper : Active\n",
            "        None :  -Inf : x1 + 3*x2 + x3 + 7*x4 + x5 - y : 100.0 :   True\n",
            "    constr10 : Size=1, Index=None, Active=True\n",
            "        Key  : Lower : Body : Upper : Active\n",
            "        None :   0.0 :    y :  +Inf :   True\n",
            "    constr11 : Size=1, Index=None, Active=True\n",
            "        Key  : Lower : Body : Upper : Active\n",
            "        None :  -Inf :    y :  2.25 :   True\n",
            "    constr12 : Size=1, Index=None, Active=True\n",
            "        Key  : Lower : Body                   : Upper : Active\n",
            "        None :   0.0 : x1 - x2 + x3 - x4 + x5 :  +Inf :   True\n",
            "    constr13 : Size=1, Index=None, Active=True\n",
            "        Key  : Lower : Body              : Upper : Active\n",
            "        None :   0.0 : x1 + x2 + x3 - x5 :  +Inf :   True\n",
            "    constr2 : Size=1, Index=None, Active=True\n",
            "        Key  : Lower : Body             : Upper : Active\n",
            "        None :  60.0 : x2 + 2*x3 + 4*x4 :  +Inf :   True\n",
            "    constr3 : Size=1, Index=None, Active=True\n",
            "        Key  : Lower : Body                                        : Upper : Active\n",
            "        None :  -Inf : -0.8*x1 + 4.8*x2 - 1.8*x3 + 3.8*x4 + 2.2*x5 :   0.0 :   True\n",
            "    constr4 : Size=1, Index=None, Active=True\n",
            "        Key  : Lower : Body                            : Upper : Active\n",
            "        None :  -Inf : - x1 + 12*x2 + x3 + 3*x4 - 5*x5 :   0.0 :   True\n",
            "    constr5 : Size=1, Index=None, Active=True\n",
            "        Key  : Lower : Body : Upper : Active\n",
            "        None :   0.0 :   x1 :  +Inf :   True\n",
            "    constr6 : Size=1, Index=None, Active=True\n",
            "        Key  : Lower : Body : Upper : Active\n",
            "        None :   0.0 :   x2 :  +Inf :   True\n",
            "    constr7 : Size=1, Index=None, Active=True\n",
            "        Key  : Lower : Body : Upper : Active\n",
            "        None :   0.0 :   x3 :  +Inf :   True\n",
            "    constr8 : Size=1, Index=None, Active=True\n",
            "        Key  : Lower : Body : Upper : Active\n",
            "        None :   0.0 :   x4 :  +Inf :   True\n",
            "    constr9 : Size=1, Index=None, Active=True\n",
            "        Key  : Lower : Body : Upper : Active\n",
            "        None :   0.0 :   x5 :  +Inf :   True\n",
            "\n",
            "20 Declarations: x1 x2 x3 x4 x5 y obj constr1 constr2 constr3 constr4 constr5 constr6 constr7 constr8 constr9 constr10 constr11 constr12 constr13\n"
          ],
          "name": "stdout"
        }
      ]
    },
    {
      "cell_type": "code",
      "metadata": {
        "colab": {
          "base_uri": "https://localhost:8080/"
        },
        "id": "jBkhgdDzx4HC",
        "outputId": "7952aae4-62ef-4ece-9a63-124b96c8bea0"
      },
      "source": [
        "SolverFactory('glpk', executable='/usr/bin/glpsol').solve(exr2_model).write()"
      ],
      "execution_count": 16,
      "outputs": [
        {
          "output_type": "stream",
          "text": [
            "# ==========================================================\n",
            "# = Solver Results                                         =\n",
            "# ==========================================================\n",
            "# ----------------------------------------------------------\n",
            "#   Problem Information\n",
            "# ----------------------------------------------------------\n",
            "Problem: \n",
            "- Name: unknown\n",
            "  Lower bound: 3.86940833333333\n",
            "  Upper bound: 3.86940833333333\n",
            "  Number of objectives: 1\n",
            "  Number of constraints: 14\n",
            "  Number of variables: 7\n",
            "  Number of nonzeros: 36\n",
            "  Sense: maximize\n",
            "# ----------------------------------------------------------\n",
            "#   Solver Information\n",
            "# ----------------------------------------------------------\n",
            "Solver: \n",
            "- Status: ok\n",
            "  Termination condition: optimal\n",
            "  Statistics: \n",
            "    Branch and bound: \n",
            "      Number of bounded subproblems: 0\n",
            "      Number of created subproblems: 0\n",
            "  Error rc: 0\n",
            "  Time: 0.017251968383789062\n",
            "# ----------------------------------------------------------\n",
            "#   Solution Information\n",
            "# ----------------------------------------------------------\n",
            "Solution: \n",
            "- number of solutions: 0\n",
            "  number of solutions displayed: 0\n"
          ],
          "name": "stdout"
        }
      ]
    },
    {
      "cell_type": "code",
      "metadata": {
        "colab": {
          "base_uri": "https://localhost:8080/"
        },
        "id": "JfbEgwXGzW7M",
        "outputId": "c5e592fa-564c-4172-e6b3-17813f9d8285"
      },
      "source": [
        "print('Obj =',exr2_model.obj())\n",
        "print('\\nDecision Variables :')\n",
        "print('x1 =',exr2_model.x1())\n",
        "print('x2 =',exr2_model.x2())\n",
        "print('x3 =',exr2_model.x3())\n",
        "print('x4 =',exr2_model.x4())\n",
        "print('x5 =',exr2_model.x5())\n",
        "print('y =',exr2_model.y())\n",
        "print('\\nConstraints :')\n",
        "print('Constraint 1 :',exr2_model.constr1())\n",
        "print('Constraint 2 :',exr2_model.constr2())\n",
        "print('Constraint 3 :',exr2_model.constr3())\n",
        "print('Constraint 4 :',exr2_model.constr4())\n",
        "print('Constraint 5 :',exr2_model.constr5())\n",
        "print('Constraint 6 :',exr2_model.constr6())\n",
        "print('Constraint 7 :',exr2_model.constr7())\n",
        "print('Constraint 8 :',exr2_model.constr8())\n",
        "print('Constraint 9 :',exr2_model.constr9())\n",
        "print('Constraint 10 :',exr2_model.constr10())\n",
        "print('Constraint 11 :',exr2_model.constr11())\n",
        "print('Constraint 12 :',exr2_model.constr12())\n",
        "print('Constraint 13 :',exr2_model.constr13())"
      ],
      "execution_count": 17,
      "outputs": [
        {
          "output_type": "stream",
          "text": [
            "Obj = 3.869408333333333\n",
            "\n",
            "Decision Variables :\n",
            "x1 = 34.9833333333333\n",
            "x2 = 0.0\n",
            "x3 = 30.0\n",
            "x4 = 0.0\n",
            "x5 = 37.2666666666667\n",
            "y = 2.25\n",
            "\n",
            "Constraints :\n",
            "Constraint 1 : 100.0\n",
            "Constraint 2 : 60.0\n",
            "Constraint 3 : 1.1368683772161603e-13\n",
            "Constraint 4 : -191.3166666666668\n",
            "Constraint 5 : 34.9833333333333\n",
            "Constraint 6 : 0.0\n",
            "Constraint 7 : 30.0\n",
            "Constraint 8 : 0.0\n",
            "Constraint 9 : 37.2666666666667\n",
            "Constraint 10 : 2.25\n",
            "Constraint 11 : 2.25\n",
            "Constraint 12 : 102.25\n",
            "Constraint 13 : 27.71666666666659\n"
          ],
          "name": "stdout"
        }
      ]
    },
    {
      "cell_type": "markdown",
      "metadata": {
        "id": "JEVkAri_dZ_C"
      },
      "source": [
        "## Ans 3 :\n",
        "\n",
        "The optimal solution value is 3.869408333333333.\n",
        "\n",
        "The values of all the variables are :\n",
        "\n",
        "\n",
        "*   $x_1 = 34.983333...$\n",
        "\n",
        "*   $x_2 = 0.0$\n",
        "\n",
        "*   $x_3 = 30.0$\n",
        "*   $x_4 = 0.0$\n",
        "\n",
        "\n",
        "*   $x_5 = 37.26666666667$\n",
        "\n",
        "\n",
        "*   $y = 2.25$\n",
        "\n",
        "Activity of constraints :\n",
        "\n",
        "\n",
        "1.   The value of LHS in Constraint : $x_1 + 3x_2 + x_3 + 7x_4 + x_5 - y \\leq 100$ is 100. Hence, the constraint is satisfied to equality.\n",
        "2.   The value of LHS in Constraint : $x_2 + 2x_3 + 4x_4\\geq 60$ is 60. Hence, the constraint is satisfied to equality.\n",
        "3.   The value of LHS in Constraint : $-0.8x_1 + 4.8x_2 - 1.8 x_3 + 3.8 x_4 + 2.2 x_5 \\leq 0$ is 1.1368683772161603e-13. Hence, the constraint is satisfied but not to equality.\n",
        "4.   The value of LHS in Constraint : $-x_1 + 12x_2 + x_3 + 3x_4 - 5x_5 \\leq 0$ is -191.3166666666668. Hence, the constraint is satisfied but not to equality.\n",
        "5.   The value of LHS in Constraint : $x_1 \\geq 0$ is 34.9833333333333. Hence, the constraint is satisfied but not to equality.\n",
        "6.   The value of LHS in Constraint : $x_2 \\geq 0$ is 0. Hence, the constraint is satisfied to equality.\n",
        "7.   The value of LHS in Constraint : $x_3 \\geq 0$ is 30.0. Hence, the constraint is satisfied but not to equality.\n",
        "8.   The value of LHS in Constraint : $x_4 \\geq 0$ is 0.0. Hence, the constraint is satisfied to equality.\n",
        "9.   The value of LHS in Constraint : $x_5 \\geq 0$ is 37.2666666666667. Hence, the constraint is satisfied but not to equality.\n",
        "10.   The value of LHS in Constraint : $y \\geq 0$ is 2.25. Hence, the constraint is satisfied but not to equality.\n",
        "11.   The value of LHS in Constraint : $y \\leq 0$ is 2.25. Hence, the constraint is satisfied to equality.\n",
        "12.   The value of LHS in Constraint : $x_1 - x_2 + x_3 - x_4 + x_5 \\geq 0$ is 102.25. Hence, the constraint is satisfied but not to equality.\n",
        "13.   The value of LHS in Constraint : $x_1 + x_2 + x_3 - x_5 \\geq 0$ is 27.71666666666659. Hence, the constraint is satisfied but not to equality.\n",
        "\n",
        "\n"
      ]
    },
    {
      "cell_type": "markdown",
      "metadata": {
        "id": "iPZbUundgxHd"
      },
      "source": [
        "## Ans 4 :\n",
        "\n",
        "In case we do not make any assumptions, we will solve the model for all the four cases relating to the denominators in constraint 3 and 4 and choose the solution accordingly.\n",
        "So, in this case we will get 4 linear programs corresponding to each case relating to the denominators in constraint 3 and 4."
      ]
    },
    {
      "cell_type": "markdown",
      "metadata": {
        "id": "yjaQ9-n-5I5e"
      },
      "source": [
        "# Exercise 3"
      ]
    },
    {
      "cell_type": "markdown",
      "metadata": {
        "id": "G2rJn7mTRyBE"
      },
      "source": [
        "## Ans 1 : Formulation as a linear program:\n",
        "\n",
        "$\\text{Decision Variables : p = production of product P in this month.}\\\\\\text{q = production of product Q in this month.}$\n",
        "\n",
        "$\\text{Objective Function : min 145p + 280q}\\\\\n",
        "\\text{subject to: p} \\geq {84}\\\\\n",
        "\\text{q}\\geq80\\\\\n",
        "\\text{p + q}\\geq{274}\\\\\n",
        "\\text{69p + 55q}\\leq{25800}\\text{     (changed the time to minutes for easier calculation)}$\n",
        "\n"
      ]
    },
    {
      "cell_type": "code",
      "metadata": {
        "id": "Kmu2Y7Aj0HNM"
      },
      "source": [
        "exr3_model = ConcreteModel()"
      ],
      "execution_count": 18,
      "outputs": []
    },
    {
      "cell_type": "code",
      "metadata": {
        "id": "lkCjIfFy5OEE"
      },
      "source": [
        "exr3_model.prod_p = Var(domain = Reals)\n",
        "exr3_model.prod_q = Var(domain = Reals)"
      ],
      "execution_count": 19,
      "outputs": []
    },
    {
      "cell_type": "code",
      "metadata": {
        "id": "ntGDCzA45s6i"
      },
      "source": [
        "exr3_model.cost = Objective(expr = 145*exr3_model.prod_p + 280*exr3_model.prod_q, sense = minimize)"
      ],
      "execution_count": 20,
      "outputs": []
    },
    {
      "cell_type": "code",
      "metadata": {
        "id": "QkTIJtbH6GwH"
      },
      "source": [
        "exr3_model.prod_minimum = Constraint(expr = exr3_model.prod_p + exr3_model.prod_q >= 110 + 84 +80)\n",
        "exr3_model.prod_p_minimum = Constraint(expr = exr3_model.prod_p >= 84)\n",
        "exr3_model.prod_q_minimum = Constraint(expr = exr3_model.prod_q >= 80)\n",
        "exr3_model.time_maximum = Constraint(expr = 69 * exr3_model.prod_p + 55 * exr3_model.prod_q <= 25800)"
      ],
      "execution_count": 21,
      "outputs": []
    },
    {
      "cell_type": "code",
      "metadata": {
        "colab": {
          "base_uri": "https://localhost:8080/"
        },
        "id": "ewypG3KM7OdX",
        "outputId": "70bb1fde-c38a-4106-f125-b90c1d6f47cf"
      },
      "source": [
        "exr3_model.pprint()"
      ],
      "execution_count": 22,
      "outputs": [
        {
          "output_type": "stream",
          "text": [
            "2 Var Declarations\n",
            "    prod_p : Size=1, Index=None\n",
            "        Key  : Lower : Value : Upper : Fixed : Stale : Domain\n",
            "        None :  None :  None :  None : False :  True :  Reals\n",
            "    prod_q : Size=1, Index=None\n",
            "        Key  : Lower : Value : Upper : Fixed : Stale : Domain\n",
            "        None :  None :  None :  None : False :  True :  Reals\n",
            "\n",
            "1 Objective Declarations\n",
            "    cost : Size=1, Index=None, Active=True\n",
            "        Key  : Active : Sense    : Expression\n",
            "        None :   True : minimize : 145*prod_p + 280*prod_q\n",
            "\n",
            "4 Constraint Declarations\n",
            "    prod_minimum : Size=1, Index=None, Active=True\n",
            "        Key  : Lower : Body            : Upper : Active\n",
            "        None : 274.0 : prod_p + prod_q :  +Inf :   True\n",
            "    prod_p_minimum : Size=1, Index=None, Active=True\n",
            "        Key  : Lower : Body   : Upper : Active\n",
            "        None :  84.0 : prod_p :  +Inf :   True\n",
            "    prod_q_minimum : Size=1, Index=None, Active=True\n",
            "        Key  : Lower : Body   : Upper : Active\n",
            "        None :  80.0 : prod_q :  +Inf :   True\n",
            "    time_maximum : Size=1, Index=None, Active=True\n",
            "        Key  : Lower : Body                  : Upper   : Active\n",
            "        None :  -Inf : 69*prod_p + 55*prod_q : 25800.0 :   True\n",
            "\n",
            "7 Declarations: prod_p prod_q cost prod_minimum prod_p_minimum prod_q_minimum time_maximum\n"
          ],
          "name": "stdout"
        }
      ]
    },
    {
      "cell_type": "code",
      "metadata": {
        "colab": {
          "base_uri": "https://localhost:8080/"
        },
        "id": "FtKgaZMP7RIN",
        "outputId": "592bf01c-6e18-4c0f-cf9f-ee2bedf924f4"
      },
      "source": [
        "SolverFactory('glpk', executable='/usr/bin/glpsol').solve(exr3_model).write()"
      ],
      "execution_count": 23,
      "outputs": [
        {
          "output_type": "stream",
          "text": [
            "# ==========================================================\n",
            "# = Solver Results                                         =\n",
            "# ==========================================================\n",
            "# ----------------------------------------------------------\n",
            "#   Problem Information\n",
            "# ----------------------------------------------------------\n",
            "Problem: \n",
            "- Name: unknown\n",
            "  Lower bound: 50530.0\n",
            "  Upper bound: 50530.0\n",
            "  Number of objectives: 1\n",
            "  Number of constraints: 5\n",
            "  Number of variables: 3\n",
            "  Number of nonzeros: 7\n",
            "  Sense: minimize\n",
            "# ----------------------------------------------------------\n",
            "#   Solver Information\n",
            "# ----------------------------------------------------------\n",
            "Solver: \n",
            "- Status: ok\n",
            "  Termination condition: optimal\n",
            "  Statistics: \n",
            "    Branch and bound: \n",
            "      Number of bounded subproblems: 0\n",
            "      Number of created subproblems: 0\n",
            "  Error rc: 0\n",
            "  Time: 0.012539386749267578\n",
            "# ----------------------------------------------------------\n",
            "#   Solution Information\n",
            "# ----------------------------------------------------------\n",
            "Solution: \n",
            "- number of solutions: 0\n",
            "  number of solutions displayed: 0\n"
          ],
          "name": "stdout"
        }
      ]
    },
    {
      "cell_type": "code",
      "metadata": {
        "colab": {
          "base_uri": "https://localhost:8080/"
        },
        "id": "2QzikPeI7skt",
        "outputId": "2cc31a13-4bb4-47c6-d046-43067396d083"
      },
      "source": [
        "print('Cost = ',exr3_model.cost())\n",
        "\n",
        "print('\\nDecision Variables')\n",
        "print('Production of P = ',exr3_model.prod_p())\n",
        "print('Production of Q = ',exr3_model.prod_q())\n",
        "\n",
        "print('\\nConstraints')\n",
        "print('Total Production  = ',exr3_model.prod_minimum())\n",
        "print('Production of P  = ',exr3_model.prod_p_minimum())\n",
        "print('Production of Q  = ',exr3_model.prod_q_minimum())\n",
        "print('Time used for Production (in hrs)  = ',exr3_model.time_maximum()/60)"
      ],
      "execution_count": 24,
      "outputs": [
        {
          "output_type": "stream",
          "text": [
            "Cost =  50530.0\n",
            "\n",
            "Decision Variables\n",
            "Production of P =  194.0\n",
            "Production of Q =  80.0\n",
            "\n",
            "Constraints\n",
            "Total Production  =  274.0\n",
            "Production of P  =  194.0\n",
            "Production of Q  =  80.0\n",
            "Time used for Production (in hrs)  =  296.43333333333334\n"
          ],
          "name": "stdout"
        }
      ]
    },
    {
      "cell_type": "markdown",
      "metadata": {
        "id": "uddxbrJgVw0m"
      },
      "source": [
        "## Ans 3 : \n",
        "The optimal value of Cost is 50530.\n",
        "\n",
        "The values of the variables i.e. production of each product in September:\n",
        "\n",
        "\n",
        "1.   p = 194\n",
        "2.   q = 80\n",
        "\n",
        "Activity of constraints :\n",
        "\n",
        "\n",
        "1.   The value of LHS in constraint 1 i.e. total production of cost ($\\text{p + q}\\geq{274}$) is 274. Hence, it satisfies the constraint to equality.\n",
        "2.   The value of LHS in constraint 2 i.e. minimum production of p ($\\text{p} \\geq {84}$) is 194, hence it satisfies the constraint but not to equality.\n",
        "3.   The value of LHS in constraint 3 i.e. minimum production of q ($\\text{q} \\geq {80}$) is 80, hence it satisfies the constraint to equality.\n",
        "4.   The value of LHS in constraint 4 i.e. maximum time required for production of p and q ($\\text{69p + 55q}\\leq{25800}\\text{(430 hrs)}$) is 296.43333333333334 (in hrs), hence it satisfies the constraint but not to equality.\n",
        "\n"
      ]
    },
    {
      "cell_type": "markdown",
      "metadata": {
        "id": "lX2c6RGvY3rh"
      },
      "source": [
        "## Ans 4 :\n",
        "\n",
        "After the industry recieves another order, the linear program would look like :\n",
        "\n",
        "$\\text{Decision Variables : p = production of product P in this month.}\\\\\\text{q = production of product Q in this month.}$\n",
        "\n",
        "$\\text{Objective Function : min 145p + 280q}\\\\\n",
        "\\text{subject to: p} \\geq {186}\\text{        (We add the new order into the previous order)}\\\\ \n",
        "\\text{q}\\geq{197}\\text{           (We add the new order into the previous order)}\\\\\n",
        "\\text{p + q}\\geq{493}\\text{           (We add the new order into the previous combined minimum production)}\\\\\n",
        "\\text{69p + 55q}\\leq{25800}\\text{     (changed the time to minutes for easier calculation)}$ "
      ]
    },
    {
      "cell_type": "code",
      "metadata": {
        "id": "g7G6kopy9cEX"
      },
      "source": [
        "exr3_model.prod_p_minimum_revised = Constraint(expr = exr3_model.prod_p >= 84 + 102)\n",
        "exr3_model.prod_q_minimum_revised = Constraint(expr = exr3_model.prod_q >= 80 + 117)\n",
        "exr3_model.prod_minimum_revised = Constraint(expr = exr3_model.prod_p + exr3_model.prod_q >= 110 + 84 + 80 + 102 + 117)"
      ],
      "execution_count": 25,
      "outputs": []
    },
    {
      "cell_type": "code",
      "metadata": {
        "colab": {
          "base_uri": "https://localhost:8080/"
        },
        "id": "peyLTcjx-6jF",
        "outputId": "81acbef5-02b3-480c-ae90-20a1c37b0d13"
      },
      "source": [
        "exr3_model.pprint()"
      ],
      "execution_count": 26,
      "outputs": [
        {
          "output_type": "stream",
          "text": [
            "2 Var Declarations\n",
            "    prod_p : Size=1, Index=None\n",
            "        Key  : Lower : Value : Upper : Fixed : Stale : Domain\n",
            "        None :  None : 194.0 :  None : False : False :  Reals\n",
            "    prod_q : Size=1, Index=None\n",
            "        Key  : Lower : Value : Upper : Fixed : Stale : Domain\n",
            "        None :  None :  80.0 :  None : False : False :  Reals\n",
            "\n",
            "1 Objective Declarations\n",
            "    cost : Size=1, Index=None, Active=True\n",
            "        Key  : Active : Sense    : Expression\n",
            "        None :   True : minimize : 145*prod_p + 280*prod_q\n",
            "\n",
            "7 Constraint Declarations\n",
            "    prod_minimum : Size=1, Index=None, Active=True\n",
            "        Key  : Lower : Body            : Upper : Active\n",
            "        None : 274.0 : prod_p + prod_q :  +Inf :   True\n",
            "    prod_minimum_revised : Size=1, Index=None, Active=True\n",
            "        Key  : Lower : Body            : Upper : Active\n",
            "        None : 493.0 : prod_p + prod_q :  +Inf :   True\n",
            "    prod_p_minimum : Size=1, Index=None, Active=True\n",
            "        Key  : Lower : Body   : Upper : Active\n",
            "        None :  84.0 : prod_p :  +Inf :   True\n",
            "    prod_p_minimum_revised : Size=1, Index=None, Active=True\n",
            "        Key  : Lower : Body   : Upper : Active\n",
            "        None : 186.0 : prod_p :  +Inf :   True\n",
            "    prod_q_minimum : Size=1, Index=None, Active=True\n",
            "        Key  : Lower : Body   : Upper : Active\n",
            "        None :  80.0 : prod_q :  +Inf :   True\n",
            "    prod_q_minimum_revised : Size=1, Index=None, Active=True\n",
            "        Key  : Lower : Body   : Upper : Active\n",
            "        None : 197.0 : prod_q :  +Inf :   True\n",
            "    time_maximum : Size=1, Index=None, Active=True\n",
            "        Key  : Lower : Body                  : Upper   : Active\n",
            "        None :  -Inf : 69*prod_p + 55*prod_q : 25800.0 :   True\n",
            "\n",
            "10 Declarations: prod_p prod_q cost prod_minimum prod_p_minimum prod_q_minimum time_maximum prod_p_minimum_revised prod_q_minimum_revised prod_minimum_revised\n"
          ],
          "name": "stdout"
        }
      ]
    },
    {
      "cell_type": "code",
      "metadata": {
        "colab": {
          "base_uri": "https://localhost:8080/"
        },
        "id": "CPMPNPaj_C2i",
        "outputId": "a4a8b364-dad1-469c-fea5-54bd8f445863"
      },
      "source": [
        "SolverFactory('glpk', executable='/usr/bin/glpsol').solve(exr3_model).write()"
      ],
      "execution_count": 27,
      "outputs": [
        {
          "output_type": "stream",
          "text": [
            "# ==========================================================\n",
            "# = Solver Results                                         =\n",
            "# ==========================================================\n",
            "# ----------------------------------------------------------\n",
            "#   Problem Information\n",
            "# ----------------------------------------------------------\n",
            "Problem: \n",
            "- Name: unknown\n",
            "  Lower bound: -inf\n",
            "  Upper bound: inf\n",
            "  Number of objectives: 1\n",
            "  Number of constraints: 8\n",
            "  Number of variables: 3\n",
            "  Number of nonzeros: 11\n",
            "  Sense: minimize\n",
            "# ----------------------------------------------------------\n",
            "#   Solver Information\n",
            "# ----------------------------------------------------------\n",
            "Solver: \n",
            "- Status: ok\n",
            "  Termination condition: other\n",
            "  Statistics: \n",
            "    Branch and bound: \n",
            "      Number of bounded subproblems: 0\n",
            "      Number of created subproblems: 0\n",
            "  Error rc: 0\n",
            "  Time: 0.014358758926391602\n"
          ],
          "name": "stdout"
        }
      ]
    },
    {
      "cell_type": "markdown",
      "metadata": {
        "id": "cjwURRdxaXc6"
      },
      "source": [
        "## Ans 6 : \n",
        "\n",
        "We don't attain an optimal solution after the introduction of the new order.\n",
        "\n",
        "This happens because the time required the produce the total production after the new order requires more time than what is available.\n",
        "\n",
        "Based on the results obtained, Maple Industries should either increase the manufacturing time or decline the new order.\n"
      ]
    }
  ]
}