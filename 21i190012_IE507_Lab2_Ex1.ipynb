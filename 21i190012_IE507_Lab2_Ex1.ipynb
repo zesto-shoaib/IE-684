{
  "nbformat": 4,
  "nbformat_minor": 0,
  "metadata": {
    "colab": {
      "name": "21i190012_IE507_Lab2_Ex1.ipynb",
      "provenance": [],
      "collapsed_sections": []
    },
    "kernelspec": {
      "name": "python3",
      "display_name": "Python 3"
    },
    "language_info": {
      "name": "python"
    }
  },
  "cells": [
    {
      "cell_type": "markdown",
      "metadata": {
        "id": "a2ox1HYamh3t"
      },
      "source": [
        "# Exercise 1"
      ]
    },
    {
      "cell_type": "code",
      "metadata": {
        "colab": {
          "base_uri": "https://localhost:8080/"
        },
        "id": "kD_tktIjh6NA",
        "outputId": "6f6133b7-5224-47b1-9595-57da836a9bc9"
      },
      "source": [
        "!pip install -q pyomo"
      ],
      "execution_count": 2,
      "outputs": [
        {
          "output_type": "stream",
          "text": [
            "\u001b[K     |████████████████████████████████| 8.9 MB 23.0 MB/s \n",
            "\u001b[K     |████████████████████████████████| 49 kB 5.7 MB/s \n",
            "\u001b[?25h"
          ],
          "name": "stdout"
        }
      ]
    },
    {
      "cell_type": "code",
      "metadata": {
        "id": "nZJald-giE-O"
      },
      "source": [
        "from pyomo.environ import *"
      ],
      "execution_count": 6,
      "outputs": []
    },
    {
      "cell_type": "code",
      "metadata": {
        "id": "PZQtAWPGitb8"
      },
      "source": [
        "import numpy as np"
      ],
      "execution_count": 7,
      "outputs": []
    },
    {
      "cell_type": "code",
      "metadata": {
        "id": "d4XynojMiv8d"
      },
      "source": [
        "model = ConcreteModel()"
      ],
      "execution_count": 8,
      "outputs": []
    },
    {
      "cell_type": "code",
      "metadata": {
        "id": "crkfVbF2iy_C"
      },
      "source": [
        "N = 12"
      ],
      "execution_count": 9,
      "outputs": []
    },
    {
      "cell_type": "code",
      "metadata": {
        "id": "x-972tsPi7HW"
      },
      "source": [
        "obj_coeff = np.array([ -8.1, 10.15, 30.5, 50.05, 0.05, 80.5, -0.25, -31.02, 50.65, 0.725, -0.8, 100.6 ])"
      ],
      "execution_count": 12,
      "outputs": []
    },
    {
      "cell_type": "code",
      "metadata": {
        "id": "EsGzJ64kjGCm"
      },
      "source": [
        "constr1_coeff = np.array([1,1,1,1,1,1,1,1,1,1,1,1])\n",
        "constr2_coeff = np.array([0, 1.6, -2.02, 0, 1.01, -2.005, 0, 1.39, 1, -1.214, 0, -5.32])"
      ],
      "execution_count": 13,
      "outputs": []
    },
    {
      "cell_type": "code",
      "metadata": {
        "id": "WbuuVqxMjvH0"
      },
      "source": [
        "constr1_rhs = 161.2\n",
        "constr2_rhs = 52.6"
      ],
      "execution_count": 14,
      "outputs": []
    },
    {
      "cell_type": "code",
      "metadata": {
        "id": "WePH-HHOj43K"
      },
      "source": [
        "lower_bound = np.array([-np.inf, 1, 0, 0, 7, 0, -np.inf, -np.inf, 1, 1, -5, 2])\n",
        "upper_bound = np.array([4,3,np.inf,2,10,np.inf,13,20,np.inf,21,5,60])"
      ],
      "execution_count": 15,
      "outputs": []
    },
    {
      "cell_type": "code",
      "metadata": {
        "id": "s31vE3sskTdZ"
      },
      "source": [
        "col_indices = np.arange(N)"
      ],
      "execution_count": 16,
      "outputs": []
    },
    {
      "cell_type": "code",
      "metadata": {
        "id": "ZWhM7sn1kX_E"
      },
      "source": [
        "model.x = Var(col_indices)"
      ],
      "execution_count": 17,
      "outputs": []
    },
    {
      "cell_type": "code",
      "metadata": {
        "id": "bxoUvo4GkbFU"
      },
      "source": [
        "model.constraints = ConstraintList()"
      ],
      "execution_count": 18,
      "outputs": []
    },
    {
      "cell_type": "code",
      "metadata": {
        "colab": {
          "base_uri": "https://localhost:8080/"
        },
        "id": "595s0uBkkfJ1",
        "outputId": "542f46e2-5e6e-4ee8-8407-521af13e7afb"
      },
      "source": [
        "model.constraints.add(sum(constr1_coeff[i]*model.x[i] for i in col_indices) <= constr1_rhs)"
      ],
      "execution_count": 19,
      "outputs": [
        {
          "output_type": "execute_result",
          "data": {
            "text/plain": [
              "<pyomo.core.base.constraint._GeneralConstraintData at 0x7f26d8525d00>"
            ]
          },
          "metadata": {
            "tags": []
          },
          "execution_count": 19
        }
      ]
    },
    {
      "cell_type": "code",
      "metadata": {
        "colab": {
          "base_uri": "https://localhost:8080/"
        },
        "id": "wmuIDYAOk1Eb",
        "outputId": "de1add1a-d553-44f7-a5f5-f7510cb44af5"
      },
      "source": [
        "model.constraints.add(sum(constr2_coeff[i]*model.x[i] for i in col_indices) <= constr2_rhs)"
      ],
      "execution_count": 20,
      "outputs": [
        {
          "output_type": "execute_result",
          "data": {
            "text/plain": [
              "<pyomo.core.base.constraint._GeneralConstraintData at 0x7f26d8525440>"
            ]
          },
          "metadata": {
            "tags": []
          },
          "execution_count": 20
        }
      ]
    },
    {
      "cell_type": "code",
      "metadata": {
        "id": "GuR1U-qnk6AX"
      },
      "source": [
        "for i in col_indices:\n",
        "  model.x[i].setlb(lower_bound[i])\n",
        "  model.x[i].setub(upper_bound[i])"
      ],
      "execution_count": 22,
      "outputs": []
    },
    {
      "cell_type": "code",
      "metadata": {
        "id": "_KzyB3awlO1O"
      },
      "source": [
        "model.obj = Objective(expr = sum(obj_coeff[i]*model.x[i] for i in col_indices), sense = minimize)"
      ],
      "execution_count": 23,
      "outputs": []
    },
    {
      "cell_type": "code",
      "metadata": {
        "colab": {
          "base_uri": "https://localhost:8080/"
        },
        "id": "KMmEuzhNlkTb",
        "outputId": "5f2d6490-6a96-4958-b670-6f24e4a4628c"
      },
      "source": [
        "model.pprint()"
      ],
      "execution_count": 24,
      "outputs": [
        {
          "output_type": "stream",
          "text": [
            "2 Set Declarations\n",
            "    constraints_index : Size=1, Index=None, Ordered=Insertion\n",
            "        Key  : Dimen : Domain : Size : Members\n",
            "        None :     1 :    Any :    2 : {1, 2}\n",
            "    x_index : Size=1, Index=None, Ordered=False\n",
            "        Key  : Dimen : Domain : Size : Members\n",
            "        None :     1 :    Any :   12 : {0, 1, 2, 3, 4, 5, 6, 7, 8, 9, 10, 11}\n",
            "\n",
            "1 Var Declarations\n",
            "    x : Size=12, Index=x_index\n",
            "        Key : Lower : Value : Upper : Fixed : Stale : Domain\n",
            "          0 :  -inf :  None :   4.0 : False :  True :  Reals\n",
            "          1 :   1.0 :  None :   3.0 : False :  True :  Reals\n",
            "          2 :   0.0 :  None :   inf : False :  True :  Reals\n",
            "          3 :   0.0 :  None :   2.0 : False :  True :  Reals\n",
            "          4 :   7.0 :  None :  10.0 : False :  True :  Reals\n",
            "          5 :   0.0 :  None :   inf : False :  True :  Reals\n",
            "          6 :  -inf :  None :  13.0 : False :  True :  Reals\n",
            "          7 :  -inf :  None :  20.0 : False :  True :  Reals\n",
            "          8 :   1.0 :  None :   inf : False :  True :  Reals\n",
            "          9 :   1.0 :  None :  21.0 : False :  True :  Reals\n",
            "         10 :  -5.0 :  None :   5.0 : False :  True :  Reals\n",
            "         11 :   2.0 :  None :  60.0 : False :  True :  Reals\n",
            "\n",
            "1 Objective Declarations\n",
            "    obj : Size=1, Index=None, Active=True\n",
            "        Key  : Active : Sense    : Expression\n",
            "        None :   True : minimize : -8.1*x[0] + 10.15*x[1] + 30.5*x[2] + 50.05*x[3] + 0.05*x[4] + 80.5*x[5] - 0.25*x[6] - 31.02*x[7] + 50.65*x[8] + 0.725*x[9] - 0.8*x[10] + 100.6*x[11]\n",
            "\n",
            "1 Constraint Declarations\n",
            "    constraints : Size=2, Index=constraints_index, Active=True\n",
            "        Key : Lower : Body                                                                                       : Upper : Active\n",
            "          1 :  -Inf :        x[0] + x[1] + x[2] + x[3] + x[4] + x[5] + x[6] + x[7] + x[8] + x[9] + x[10] + x[11] : 161.2 :   True\n",
            "          2 :  -Inf : 1.6*x[1] - 2.02*x[2] + 1.01*x[4] - 2.005*x[5] + 1.39*x[7] + x[8] - 1.214*x[9] - 5.32*x[11] :  52.6 :   True\n",
            "\n",
            "5 Declarations: x_index x constraints_index constraints obj\n"
          ],
          "name": "stdout"
        }
      ]
    },
    {
      "cell_type": "code",
      "metadata": {
        "colab": {
          "base_uri": "https://localhost:8080/"
        },
        "id": "ICHKMDTNlsqt",
        "outputId": "6f40367e-83ac-4a33-8cff-64d571da5afe"
      },
      "source": [
        "!apt-get install -y -qq glpk-utils"
      ],
      "execution_count": 25,
      "outputs": [
        {
          "output_type": "stream",
          "text": [
            "Selecting previously unselected package libsuitesparseconfig5:amd64.\n",
            "(Reading database ... 160837 files and directories currently installed.)\n",
            "Preparing to unpack .../libsuitesparseconfig5_1%3a5.1.2-2_amd64.deb ...\n",
            "Unpacking libsuitesparseconfig5:amd64 (1:5.1.2-2) ...\n",
            "Selecting previously unselected package libamd2:amd64.\n",
            "Preparing to unpack .../libamd2_1%3a5.1.2-2_amd64.deb ...\n",
            "Unpacking libamd2:amd64 (1:5.1.2-2) ...\n",
            "Selecting previously unselected package libcolamd2:amd64.\n",
            "Preparing to unpack .../libcolamd2_1%3a5.1.2-2_amd64.deb ...\n",
            "Unpacking libcolamd2:amd64 (1:5.1.2-2) ...\n",
            "Selecting previously unselected package libglpk40:amd64.\n",
            "Preparing to unpack .../libglpk40_4.65-1_amd64.deb ...\n",
            "Unpacking libglpk40:amd64 (4.65-1) ...\n",
            "Selecting previously unselected package glpk-utils.\n",
            "Preparing to unpack .../glpk-utils_4.65-1_amd64.deb ...\n",
            "Unpacking glpk-utils (4.65-1) ...\n",
            "Setting up libsuitesparseconfig5:amd64 (1:5.1.2-2) ...\n",
            "Setting up libcolamd2:amd64 (1:5.1.2-2) ...\n",
            "Setting up libamd2:amd64 (1:5.1.2-2) ...\n",
            "Setting up libglpk40:amd64 (4.65-1) ...\n",
            "Setting up glpk-utils (4.65-1) ...\n",
            "Processing triggers for libc-bin (2.27-3ubuntu1.2) ...\n",
            "/sbin/ldconfig.real: /usr/local/lib/python3.7/dist-packages/ideep4py/lib/libmkldnn.so.0 is not a symbolic link\n",
            "\n",
            "Processing triggers for man-db (2.8.3-2ubuntu0.1) ...\n"
          ],
          "name": "stdout"
        }
      ]
    },
    {
      "cell_type": "code",
      "metadata": {
        "colab": {
          "base_uri": "https://localhost:8080/"
        },
        "id": "92WIqQPblmE0",
        "outputId": "eac68e3f-c87e-4a5d-d092-281b28c44560"
      },
      "source": [
        "SolverFactory('glpk', executable = '/usr/bin/glpsol').solve(model).write()"
      ],
      "execution_count": 26,
      "outputs": [
        {
          "output_type": "stream",
          "text": [
            "# ==========================================================\n",
            "# = Solver Results                                         =\n",
            "# ==========================================================\n",
            "# ----------------------------------------------------------\n",
            "#   Problem Information\n",
            "# ----------------------------------------------------------\n",
            "Problem: \n",
            "- Name: unknown\n",
            "  Lower bound: -396.975\n",
            "  Upper bound: -396.975\n",
            "  Number of objectives: 1\n",
            "  Number of constraints: 3\n",
            "  Number of variables: 13\n",
            "  Number of nonzeros: 21\n",
            "  Sense: minimize\n",
            "# ----------------------------------------------------------\n",
            "#   Solver Information\n",
            "# ----------------------------------------------------------\n",
            "Solver: \n",
            "- Status: ok\n",
            "  Termination condition: optimal\n",
            "  Statistics: \n",
            "    Branch and bound: \n",
            "      Number of bounded subproblems: 0\n",
            "      Number of created subproblems: 0\n",
            "  Error rc: 0\n",
            "  Time: 0.012834310531616211\n",
            "# ----------------------------------------------------------\n",
            "#   Solution Information\n",
            "# ----------------------------------------------------------\n",
            "Solution: \n",
            "- number of solutions: 0\n",
            "  number of solutions displayed: 0\n"
          ],
          "name": "stdout"
        }
      ]
    },
    {
      "cell_type": "code",
      "metadata": {
        "colab": {
          "base_uri": "https://localhost:8080/"
        },
        "id": "vu6Zk__WmB55",
        "outputId": "788e8415-0975-4515-8f68-edae50a66edb"
      },
      "source": [
        "print('Objective = ', model.obj())\n",
        "\n",
        "print('\\nDecision Variables')\n",
        "for i in col_indices:\n",
        "  print('x[',i,'] = ', model.x[i].value)\n",
        "\n",
        "print('\\nConstraints')\n",
        "model.constraints.display()"
      ],
      "execution_count": 27,
      "outputs": [
        {
          "output_type": "stream",
          "text": [
            "Objective =  -396.97499999999997\n",
            "\n",
            "Decision Variables\n",
            "x[ 0 ] =  4.0\n",
            "x[ 1 ] =  1.0\n",
            "x[ 2 ] =  0.0\n",
            "x[ 3 ] =  0.0\n",
            "x[ 4 ] =  7.0\n",
            "x[ 5 ] =  0.0\n",
            "x[ 6 ] =  13.0\n",
            "x[ 7 ] =  20.0\n",
            "x[ 8 ] =  1.0\n",
            "x[ 9 ] =  1.0\n",
            "x[ 10 ] =  5.0\n",
            "x[ 11 ] =  2.0\n",
            "\n",
            "Constraints\n",
            "constraints : Size=2\n",
            "    Key : Lower : Body   : Upper\n",
            "      1 :  None :   54.0 : 161.2\n",
            "      2 :  None : 25.616 :  52.6\n"
          ],
          "name": "stdout"
        }
      ]
    },
    {
      "cell_type": "markdown",
      "metadata": {
        "id": "fKo3EV-8mgVZ"
      },
      "source": [
        "## Ans 2 :\n",
        "\n",
        "The optimal solution is -396.975 at which the values of decision variables are as follows:\n",
        "\n",
        "$x_1 = 4.0\\\\x_2 = 1.0\\\\x_3 = 0.0\\\\x_4 = 0.0\\\\x_5 = 7.0\\\\x_6 = 0.0\\\\x_7 = 13.0\\\\x_8 = 20.0\\\\x_9 = 1.0\\\\x_{10} = 1.0\\\\x_{11} = 5.0\\\\x_{12} = 2.0$\n",
        "\n",
        "The value of the objective function is -396.975."
      ]
    }
  ]
}