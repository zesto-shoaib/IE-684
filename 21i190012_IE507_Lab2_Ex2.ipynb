{
  "nbformat": 4,
  "nbformat_minor": 0,
  "metadata": {
    "colab": {
      "name": "21i190012_IE507_Lab2_Ex2.ipynb",
      "provenance": [],
      "collapsed_sections": []
    },
    "kernelspec": {
      "name": "python3",
      "display_name": "Python 3"
    },
    "language_info": {
      "name": "python"
    }
  },
  "cells": [
    {
      "cell_type": "markdown",
      "metadata": {
        "id": "KNh136iTxAPD"
      },
      "source": [
        "# Exercise 2"
      ]
    },
    {
      "cell_type": "code",
      "metadata": {
        "id": "MTaoMLiZoaBq"
      },
      "source": [
        "!pip install -q pyomo"
      ],
      "execution_count": 1,
      "outputs": []
    },
    {
      "cell_type": "code",
      "metadata": {
        "id": "frc5TKm2prgJ"
      },
      "source": [
        "from pyomo.environ import *"
      ],
      "execution_count": 2,
      "outputs": []
    },
    {
      "cell_type": "code",
      "metadata": {
        "id": "_NBFhFuHqBo2"
      },
      "source": [
        "import numpy as np"
      ],
      "execution_count": 3,
      "outputs": []
    },
    {
      "cell_type": "code",
      "metadata": {
        "id": "TCplwWuzqDAM"
      },
      "source": [
        "model = ConcreteModel()"
      ],
      "execution_count": 4,
      "outputs": []
    },
    {
      "cell_type": "code",
      "metadata": {
        "id": "lRALfYIKqG8M"
      },
      "source": [
        "N = 10\n",
        "M = 4"
      ],
      "execution_count": 5,
      "outputs": []
    },
    {
      "cell_type": "code",
      "metadata": {
        "id": "ytHGM4E9qJkv"
      },
      "source": [
        "obj_coef_c = np.array([-9.6, -2.85, 41.5, 33.05, -0.75, 20.5, -0.35, -31.02, 50.65, 6.125])"
      ],
      "execution_count": 17,
      "outputs": []
    },
    {
      "cell_type": "code",
      "metadata": {
        "id": "qI8SDLLaqVaz"
      },
      "source": [
        "constr_coef_A = np.array([[0, 1,-2, 0, 1, -2, 0, 1, 1, -1],[-1, 1, -3, 2.5, 0, 1.4, 0, -2, 1, -1.5],[-0.45, 4.78, -2, -3.22, -1.3, 1, -1, 0, 0, 0.25],[1, 0, 0, 0, 1, 1, 0, 2, 3, 0]])"
      ],
      "execution_count": 7,
      "outputs": []
    },
    {
      "cell_type": "code",
      "metadata": {
        "id": "mZF-a4X7rE-O"
      },
      "source": [
        "constr_rhs_b = np.array([35.4, 47.9, 41.43, 22.7])"
      ],
      "execution_count": 8,
      "outputs": []
    },
    {
      "cell_type": "code",
      "metadata": {
        "id": "LFcZJxHYtdMl"
      },
      "source": [
        "lower_bound = np.array([-np.inf,-np.inf,0,0,-67,0,-23,-5,6,1])\n",
        "upper_bound = np.array([4,np.inf,np.inf,2,20,55,23,15,np.inf,np.inf])"
      ],
      "execution_count": 9,
      "outputs": []
    },
    {
      "cell_type": "code",
      "metadata": {
        "id": "wsdBwIaQtzj7"
      },
      "source": [
        "col_indices = np.arange(N)"
      ],
      "execution_count": 10,
      "outputs": []
    },
    {
      "cell_type": "code",
      "metadata": {
        "id": "Cmc7Hw4huLBV"
      },
      "source": [
        "model.x = Var(col_indices)"
      ],
      "execution_count": 11,
      "outputs": []
    },
    {
      "cell_type": "code",
      "metadata": {
        "id": "6BTpykSXuRMR"
      },
      "source": [
        "model.constraints = ConstraintList()"
      ],
      "execution_count": 12,
      "outputs": []
    },
    {
      "cell_type": "code",
      "metadata": {
        "colab": {
          "base_uri": "https://localhost:8080/"
        },
        "id": "qH6Gh0lIuVYN",
        "outputId": "f87ad3a2-d38d-45e8-e769-a7eed5ede69f"
      },
      "source": [
        "row_indices = np.arange(M)\n",
        "print(row_indices)"
      ],
      "execution_count": 15,
      "outputs": [
        {
          "output_type": "stream",
          "text": [
            "[0 1 2 3]\n"
          ],
          "name": "stdout"
        }
      ]
    },
    {
      "cell_type": "code",
      "metadata": {
        "id": "aYKT63CQvSri"
      },
      "source": [
        "for i in row_indices:\n",
        "  model.constraints.add(sum(constr_coef_A[i][j]*model.x[j] for j in col_indices) <= constr_rhs_b[i])"
      ],
      "execution_count": 14,
      "outputs": []
    },
    {
      "cell_type": "code",
      "metadata": {
        "id": "3lo1Uqs3vz7X"
      },
      "source": [
        "for i in col_indices:\n",
        "  model.x[i].setlb(lower_bound[i])\n",
        "  model.x[i].setub(upper_bound[i])"
      ],
      "execution_count": 16,
      "outputs": []
    },
    {
      "cell_type": "code",
      "metadata": {
        "id": "SLvoXvpQwIG2"
      },
      "source": [
        "model.obj = Objective(expr = sum(obj_coef_c[i]*model.x[i] for i in col_indices), sense = minimize)"
      ],
      "execution_count": 18,
      "outputs": []
    },
    {
      "cell_type": "code",
      "metadata": {
        "colab": {
          "base_uri": "https://localhost:8080/"
        },
        "id": "ForEY3r5whqK",
        "outputId": "8d90d9b2-7d60-4733-fed3-ba2eca7af3d1"
      },
      "source": [
        "model.pprint()"
      ],
      "execution_count": 19,
      "outputs": [
        {
          "output_type": "stream",
          "text": [
            "2 Set Declarations\n",
            "    constraints_index : Size=1, Index=None, Ordered=Insertion\n",
            "        Key  : Dimen : Domain : Size : Members\n",
            "        None :     1 :    Any :    4 : {1, 2, 3, 4}\n",
            "    x_index : Size=1, Index=None, Ordered=False\n",
            "        Key  : Dimen : Domain : Size : Members\n",
            "        None :     1 :    Any :   10 : {0, 1, 2, 3, 4, 5, 6, 7, 8, 9}\n",
            "\n",
            "1 Var Declarations\n",
            "    x : Size=10, Index=x_index\n",
            "        Key : Lower : Value : Upper : Fixed : Stale : Domain\n",
            "          0 :  -inf :  None :   4.0 : False :  True :  Reals\n",
            "          1 :  -inf :  None :   inf : False :  True :  Reals\n",
            "          2 :   0.0 :  None :   inf : False :  True :  Reals\n",
            "          3 :   0.0 :  None :   2.0 : False :  True :  Reals\n",
            "          4 : -67.0 :  None :  20.0 : False :  True :  Reals\n",
            "          5 :   0.0 :  None :  55.0 : False :  True :  Reals\n",
            "          6 : -23.0 :  None :  23.0 : False :  True :  Reals\n",
            "          7 :  -5.0 :  None :  15.0 : False :  True :  Reals\n",
            "          8 :   6.0 :  None :   inf : False :  True :  Reals\n",
            "          9 :   1.0 :  None :   inf : False :  True :  Reals\n",
            "\n",
            "1 Objective Declarations\n",
            "    obj : Size=1, Index=None, Active=True\n",
            "        Key  : Active : Sense    : Expression\n",
            "        None :   True : minimize : -9.6*x[0] - 2.85*x[1] + 41.5*x[2] + 33.05*x[3] - 0.75*x[4] + 20.5*x[5] - 0.35*x[6] - 31.02*x[7] + 50.65*x[8] + 6.125*x[9]\n",
            "\n",
            "1 Constraint Declarations\n",
            "    constraints : Size=4, Index=constraints_index, Active=True\n",
            "        Key : Lower : Body                                                                               : Upper : Active\n",
            "          1 :  -Inf :                             x[1] - 2.0*x[2] + x[4] - 2.0*x[5] + x[7] + x[8] - x[9] :  35.4 :   True\n",
            "          2 :  -Inf :        - x[0] + x[1] - 3.0*x[2] + 2.5*x[3] + 1.4*x[5] - 2.0*x[7] + x[8] - 1.5*x[9] :  47.9 :   True\n",
            "          3 :  -Inf : -0.45*x[0] + 4.78*x[1] - 2.0*x[2] - 3.22*x[3] - 1.3*x[4] + x[5] - x[6] + 0.25*x[9] : 41.43 :   True\n",
            "          4 :  -Inf :                                           x[0] + x[4] + x[5] + 2.0*x[7] + 3.0*x[8] :  22.7 :   True\n",
            "\n",
            "5 Declarations: x_index x constraints_index constraints obj\n"
          ],
          "name": "stdout"
        }
      ]
    },
    {
      "cell_type": "code",
      "metadata": {
        "colab": {
          "base_uri": "https://localhost:8080/"
        },
        "id": "tpH6yBhwwjmg",
        "outputId": "aedeacb2-0aa3-4091-c7b6-bdb2cd94d523"
      },
      "source": [
        "!apt-get install -y -qq glpk-utils"
      ],
      "execution_count": 20,
      "outputs": [
        {
          "output_type": "stream",
          "text": [
            "Selecting previously unselected package libsuitesparseconfig5:amd64.\n",
            "(Reading database ... 160837 files and directories currently installed.)\n",
            "Preparing to unpack .../libsuitesparseconfig5_1%3a5.1.2-2_amd64.deb ...\n",
            "Unpacking libsuitesparseconfig5:amd64 (1:5.1.2-2) ...\n",
            "Selecting previously unselected package libamd2:amd64.\n",
            "Preparing to unpack .../libamd2_1%3a5.1.2-2_amd64.deb ...\n",
            "Unpacking libamd2:amd64 (1:5.1.2-2) ...\n",
            "Selecting previously unselected package libcolamd2:amd64.\n",
            "Preparing to unpack .../libcolamd2_1%3a5.1.2-2_amd64.deb ...\n",
            "Unpacking libcolamd2:amd64 (1:5.1.2-2) ...\n",
            "Selecting previously unselected package libglpk40:amd64.\n",
            "Preparing to unpack .../libglpk40_4.65-1_amd64.deb ...\n",
            "Unpacking libglpk40:amd64 (4.65-1) ...\n",
            "Selecting previously unselected package glpk-utils.\n",
            "Preparing to unpack .../glpk-utils_4.65-1_amd64.deb ...\n",
            "Unpacking glpk-utils (4.65-1) ...\n",
            "Setting up libsuitesparseconfig5:amd64 (1:5.1.2-2) ...\n",
            "Setting up libcolamd2:amd64 (1:5.1.2-2) ...\n",
            "Setting up libamd2:amd64 (1:5.1.2-2) ...\n",
            "Setting up libglpk40:amd64 (4.65-1) ...\n",
            "Setting up glpk-utils (4.65-1) ...\n",
            "Processing triggers for libc-bin (2.27-3ubuntu1.2) ...\n",
            "/sbin/ldconfig.real: /usr/local/lib/python3.7/dist-packages/ideep4py/lib/libmkldnn.so.0 is not a symbolic link\n",
            "\n",
            "Processing triggers for man-db (2.8.3-2ubuntu0.1) ...\n"
          ],
          "name": "stdout"
        }
      ]
    },
    {
      "cell_type": "code",
      "metadata": {
        "colab": {
          "base_uri": "https://localhost:8080/"
        },
        "id": "cGgfddOhwwxN",
        "outputId": "6a772a27-c393-4f11-a694-d8bc06474e6c"
      },
      "source": [
        "SolverFactory('glpk', executable='/usr/bin/glpsol').solve(model).write()"
      ],
      "execution_count": 21,
      "outputs": [
        {
          "output_type": "stream",
          "text": [
            "# ==========================================================\n",
            "# = Solver Results                                         =\n",
            "# ==========================================================\n",
            "# ----------------------------------------------------------\n",
            "#   Problem Information\n",
            "# ----------------------------------------------------------\n",
            "Problem: \n",
            "- Name: unknown\n",
            "  Lower bound: -196.378974895398\n",
            "  Upper bound: -196.378974895398\n",
            "  Number of objectives: 1\n",
            "  Number of constraints: 5\n",
            "  Number of variables: 11\n",
            "  Number of nonzeros: 29\n",
            "  Sense: minimize\n",
            "# ----------------------------------------------------------\n",
            "#   Solver Information\n",
            "# ----------------------------------------------------------\n",
            "Solver: \n",
            "- Status: ok\n",
            "  Termination condition: optimal\n",
            "  Statistics: \n",
            "    Branch and bound: \n",
            "      Number of bounded subproblems: 0\n",
            "      Number of created subproblems: 0\n",
            "  Error rc: 0\n",
            "  Time: 0.015891551971435547\n",
            "# ----------------------------------------------------------\n",
            "#   Solution Information\n",
            "# ----------------------------------------------------------\n",
            "Solution: \n",
            "- number of solutions: 0\n",
            "  number of solutions displayed: 0\n"
          ],
          "name": "stdout"
        }
      ]
    },
    {
      "cell_type": "code",
      "metadata": {
        "colab": {
          "base_uri": "https://localhost:8080/"
        },
        "id": "QXB1mJtHw2FQ",
        "outputId": "d2bd6188-650c-4d0a-8c39-178eb9108559"
      },
      "source": [
        "print('Objective = ', model.obj())\n",
        "\n",
        "print('\\nDecision Variables')\n",
        "for i in col_indices:\n",
        "  print('x[',i,'] = ', model.x[i].value)\n",
        "\n",
        "print('\\nConstraints')\n",
        "model.constraints.display()"
      ],
      "execution_count": 22,
      "outputs": [
        {
          "output_type": "stream",
          "text": [
            "Objective =  -196.3789748953975\n",
            "\n",
            "Decision Variables\n",
            "x[ 0 ] =  4.0\n",
            "x[ 1 ] =  5.8347280334728\n",
            "x[ 2 ] =  0.0\n",
            "x[ 3 ] =  0.0\n",
            "x[ 4 ] =  -29.3\n",
            "x[ 5 ] =  0.0\n",
            "x[ 6 ] =  23.0\n",
            "x[ 7 ] =  15.0\n",
            "x[ 8 ] =  6.0\n",
            "x[ 9 ] =  1.0\n",
            "\n",
            "Constraints\n",
            "constraints : Size=4\n",
            "    Key : Lower : Body               : Upper\n",
            "      1 :  None : -3.465271966527201 :  35.4\n",
            "      2 :  None :  -23.6652719665272 :  47.9\n",
            "      3 :  None :  41.42999999999998 : 41.43\n",
            "      4 :  None :               22.7 :  22.7\n"
          ],
          "name": "stdout"
        }
      ]
    },
    {
      "cell_type": "markdown",
      "metadata": {
        "id": "L1EMjPtyxLi4"
      },
      "source": [
        "## Ans 1 :\n",
        "\n",
        "The optimal solution is -196.378974895398 at which the values of decision variables are as follows:\n",
        "\n",
        "$x_1 = 4.0\\\\x_2 = 5.8347280334728\\\\x_3 = 0.0\\\\x_4 = 0.0\\\\x_5 = -29.3\\\\x_6 = 0.0\\\\x_7 = 23.0\\\\x_8 = 15.0\\\\x_9 = 6.0\\\\x_{10} = 1.0$\n",
        "\n",
        "The value of the objective function is -196.378974895398."
      ]
    },
    {
      "cell_type": "markdown",
      "metadata": {
        "id": "mzB4akzzxkw4"
      },
      "source": [
        "## Ans 2 :\n",
        "\n",
        "All the constraints are active. Since all the constraints are applied while solving the problem and all the constraints are satisified while reaching the optimum solution, they are all active."
      ]
    }
  ]
}