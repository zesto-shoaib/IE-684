{
  "nbformat": 4,
  "nbformat_minor": 0,
  "metadata": {
    "colab": {
      "name": "21i190012_IE507_Lab2_Ex3.ipynb",
      "provenance": [],
      "collapsed_sections": []
    },
    "kernelspec": {
      "name": "python3",
      "display_name": "Python 3"
    },
    "language_info": {
      "name": "python"
    }
  },
  "cells": [
    {
      "cell_type": "markdown",
      "metadata": {
        "id": "3Q4hv-nGAWAZ"
      },
      "source": [
        "#Exercise 3"
      ]
    },
    {
      "cell_type": "code",
      "metadata": {
        "id": "MhCZNU1K377s",
        "colab": {
          "base_uri": "https://localhost:8080/"
        },
        "outputId": "677f9a05-e9c3-4a69-afba-d4d1e465fb84"
      },
      "source": [
        "!pip install -q pyomo"
      ],
      "execution_count": 1,
      "outputs": [
        {
          "output_type": "stream",
          "text": [
            "\u001b[K     |████████████████████████████████| 8.9 MB 12.5 MB/s \n",
            "\u001b[K     |████████████████████████████████| 49 kB 4.6 MB/s \n",
            "\u001b[?25h"
          ],
          "name": "stdout"
        }
      ]
    },
    {
      "cell_type": "code",
      "metadata": {
        "id": "XsLZxh073_GU"
      },
      "source": [
        "from pyomo.environ import *"
      ],
      "execution_count": 2,
      "outputs": []
    },
    {
      "cell_type": "code",
      "metadata": {
        "id": "HL06AIr44KLz"
      },
      "source": [
        "import numpy as np"
      ],
      "execution_count": 3,
      "outputs": []
    },
    {
      "cell_type": "code",
      "metadata": {
        "id": "lgxb35GA4MAh"
      },
      "source": [
        "model = ConcreteModel()"
      ],
      "execution_count": 4,
      "outputs": []
    },
    {
      "cell_type": "code",
      "metadata": {
        "id": "DZayMN_K4Nuk"
      },
      "source": [
        "N = 10\n",
        "M = 4"
      ],
      "execution_count": 5,
      "outputs": []
    },
    {
      "cell_type": "code",
      "metadata": {
        "id": "iaahIHOn4XFh"
      },
      "source": [
        "obj_inhouse = np.array([35,50,58,60,44,39,45,55,35,40])\n",
        "obj_ext = np.array([72,95,110,125,88,74,95,115,60,84])"
      ],
      "execution_count": 6,
      "outputs": []
    },
    {
      "cell_type": "code",
      "metadata": {
        "id": "wl_pNY3f4-z1"
      },
      "source": [
        "constr_coeff_A = np.array([[1,1,1,1,1,1,1,1,1,1],[0.15,0.15,0.1,0.2,0.25,0.1,0.5,0.15,0.3,0.55],[0.8,0.75,0.75,0.6,0.55,0.55,0.4,0.35,0.3,0.3],[0.05,0.1,0.15,0.2,0.2,0.35,0.1,0.5,0.4,0.15]])"
      ],
      "execution_count": 7,
      "outputs": []
    },
    {
      "cell_type": "code",
      "metadata": {
        "id": "iSMoCu2s6cvl"
      },
      "source": [
        "constr_rhs_b = np.array([450,0.35*450,0.45*450,0.2*450])"
      ],
      "execution_count": 8,
      "outputs": []
    },
    {
      "cell_type": "code",
      "metadata": {
        "id": "GisEroeA6uFs"
      },
      "source": [
        "lower_bound = np.array([0,0,0,0,0,0,0,0,0,0])\n",
        "upper_bound = np.array([12,9,16,25,4,5,10,13,0,6])"
      ],
      "execution_count": 9,
      "outputs": []
    },
    {
      "cell_type": "code",
      "metadata": {
        "id": "CBbiJ-4f676X"
      },
      "source": [
        "col_indices = np.arange(N)"
      ],
      "execution_count": 10,
      "outputs": []
    },
    {
      "cell_type": "code",
      "metadata": {
        "id": "yqCqpWsE7Yvj"
      },
      "source": [
        "model.x = Var(col_indices)\n",
        "model.y = Var(col_indices)"
      ],
      "execution_count": 11,
      "outputs": []
    },
    {
      "cell_type": "code",
      "metadata": {
        "id": "dO8XdX4d7eXA"
      },
      "source": [
        "model.constraints = ConstraintList()"
      ],
      "execution_count": 12,
      "outputs": []
    },
    {
      "cell_type": "code",
      "metadata": {
        "colab": {
          "base_uri": "https://localhost:8080/"
        },
        "id": "MjOkVoQU7iVS",
        "outputId": "289802b6-36e0-42cc-97d3-bafcf38c3b16"
      },
      "source": [
        "row_indices = np.arange(M)\n",
        "print(row_indices)"
      ],
      "execution_count": 13,
      "outputs": [
        {
          "output_type": "stream",
          "text": [
            "[0 1 2 3]\n"
          ],
          "name": "stdout"
        }
      ]
    },
    {
      "cell_type": "code",
      "metadata": {
        "id": "nOpd69oj7niV"
      },
      "source": [
        "for i in row_indices:\n",
        "  model.constraints.add(sum(constr_coeff_A[i][j]*model.x[j] + constr_coeff_A[i][j]*model.y[j] for j in col_indices)>=constr_rhs_b[i])"
      ],
      "execution_count": 14,
      "outputs": []
    },
    {
      "cell_type": "code",
      "metadata": {
        "id": "4_v57WnV8rLz"
      },
      "source": [
        "for i in col_indices:\n",
        "  model.x[i].setlb(lower_bound[i])\n",
        "  model.y[i].setlb(lower_bound[i])\n",
        "  model.x[i].setub(upper_bound[i])"
      ],
      "execution_count": 15,
      "outputs": []
    },
    {
      "cell_type": "code",
      "metadata": {
        "id": "U2hkqvgR91V8"
      },
      "source": [
        "model.obj = Objective(expr = sum(obj_inhouse[i]*model.x[i]+obj_ext[i]*model.y[i] for i in col_indices), sense = minimize)"
      ],
      "execution_count": 16,
      "outputs": []
    },
    {
      "cell_type": "code",
      "metadata": {
        "colab": {
          "base_uri": "https://localhost:8080/"
        },
        "id": "ayNTvzKS-Nev",
        "outputId": "126b7fc3-8e1e-4f4a-dd42-132d21ccf17a"
      },
      "source": [
        "model.pprint()"
      ],
      "execution_count": 17,
      "outputs": [
        {
          "output_type": "stream",
          "text": [
            "3 Set Declarations\n",
            "    constraints_index : Size=1, Index=None, Ordered=Insertion\n",
            "        Key  : Dimen : Domain : Size : Members\n",
            "        None :     1 :    Any :    4 : {1, 2, 3, 4}\n",
            "    x_index : Size=1, Index=None, Ordered=False\n",
            "        Key  : Dimen : Domain : Size : Members\n",
            "        None :     1 :    Any :   10 : {0, 1, 2, 3, 4, 5, 6, 7, 8, 9}\n",
            "    y_index : Size=1, Index=None, Ordered=False\n",
            "        Key  : Dimen : Domain : Size : Members\n",
            "        None :     1 :    Any :   10 : {0, 1, 2, 3, 4, 5, 6, 7, 8, 9}\n",
            "\n",
            "2 Var Declarations\n",
            "    x : Size=10, Index=x_index\n",
            "        Key : Lower : Value : Upper : Fixed : Stale : Domain\n",
            "          0 :     0 :  None :    12 : False :  True :  Reals\n",
            "          1 :     0 :  None :     9 : False :  True :  Reals\n",
            "          2 :     0 :  None :    16 : False :  True :  Reals\n",
            "          3 :     0 :  None :    25 : False :  True :  Reals\n",
            "          4 :     0 :  None :     4 : False :  True :  Reals\n",
            "          5 :     0 :  None :     5 : False :  True :  Reals\n",
            "          6 :     0 :  None :    10 : False :  True :  Reals\n",
            "          7 :     0 :  None :    13 : False :  True :  Reals\n",
            "          8 :     0 :  None :     0 : False :  True :  Reals\n",
            "          9 :     0 :  None :     6 : False :  True :  Reals\n",
            "    y : Size=10, Index=y_index\n",
            "        Key : Lower : Value : Upper : Fixed : Stale : Domain\n",
            "          0 :     0 :  None :  None : False :  True :  Reals\n",
            "          1 :     0 :  None :  None : False :  True :  Reals\n",
            "          2 :     0 :  None :  None : False :  True :  Reals\n",
            "          3 :     0 :  None :  None : False :  True :  Reals\n",
            "          4 :     0 :  None :  None : False :  True :  Reals\n",
            "          5 :     0 :  None :  None : False :  True :  Reals\n",
            "          6 :     0 :  None :  None : False :  True :  Reals\n",
            "          7 :     0 :  None :  None : False :  True :  Reals\n",
            "          8 :     0 :  None :  None : False :  True :  Reals\n",
            "          9 :     0 :  None :  None : False :  True :  Reals\n",
            "\n",
            "1 Objective Declarations\n",
            "    obj : Size=1, Index=None, Active=True\n",
            "        Key  : Active : Sense    : Expression\n",
            "        None :   True : minimize : 35*x[0] + 72*y[0] + 50*x[1] + 95*y[1] + 58*x[2] + 110*y[2] + 60*x[3] + 125*y[3] + 44*x[4] + 88*y[4] + 39*x[5] + 74*y[5] + 45*x[6] + 95*y[6] + 55*x[7] + 115*y[7] + 35*x[8] + 60*y[8] + 40*x[9] + 84*y[9]\n",
            "\n",
            "1 Constraint Declarations\n",
            "    constraints : Size=4, Index=constraints_index, Active=True\n",
            "        Key : Lower : Body                                                                                                                                                                                                                                : Upper : Active\n",
            "          1 : 450.0 :                                                                                           x[0] + y[0] + x[1] + y[1] + x[2] + y[2] + x[3] + y[3] + x[4] + y[4] + x[5] + y[5] + x[6] + y[6] + x[7] + y[7] + x[8] + y[8] + x[9] + y[9] :  +Inf :   True\n",
            "          2 : 157.5 : 0.15*x[0] + 0.15*y[0] + 0.15*x[1] + 0.15*y[1] + 0.1*x[2] + 0.1*y[2] + 0.2*x[3] + 0.2*y[3] + 0.25*x[4] + 0.25*y[4] + 0.1*x[5] + 0.1*y[5] + 0.5*x[6] + 0.5*y[6] + 0.15*x[7] + 0.15*y[7] + 0.3*x[8] + 0.3*y[8] + 0.55*x[9] + 0.55*y[9] :  +Inf :   True\n",
            "          3 : 202.5 : 0.8*x[0] + 0.8*y[0] + 0.75*x[1] + 0.75*y[1] + 0.75*x[2] + 0.75*y[2] + 0.6*x[3] + 0.6*y[3] + 0.55*x[4] + 0.55*y[4] + 0.55*x[5] + 0.55*y[5] + 0.4*x[6] + 0.4*y[6] + 0.35*x[7] + 0.35*y[7] + 0.3*x[8] + 0.3*y[8] + 0.3*x[9] + 0.3*y[9] :  +Inf :   True\n",
            "          4 :  90.0 :   0.05*x[0] + 0.05*y[0] + 0.1*x[1] + 0.1*y[1] + 0.15*x[2] + 0.15*y[2] + 0.2*x[3] + 0.2*y[3] + 0.2*x[4] + 0.2*y[4] + 0.35*x[5] + 0.35*y[5] + 0.1*x[6] + 0.1*y[6] + 0.5*x[7] + 0.5*y[7] + 0.4*x[8] + 0.4*y[8] + 0.15*x[9] + 0.15*y[9] :  +Inf :   True\n",
            "\n",
            "7 Declarations: x_index x y_index y constraints_index constraints obj\n"
          ],
          "name": "stdout"
        }
      ]
    },
    {
      "cell_type": "code",
      "metadata": {
        "id": "fhT3qg81-PX2",
        "colab": {
          "base_uri": "https://localhost:8080/"
        },
        "outputId": "c1300d26-8d20-4678-8ee7-98c71e92efe3"
      },
      "source": [
        "!apt-get install -y -qq glpk-utils"
      ],
      "execution_count": 18,
      "outputs": [
        {
          "output_type": "stream",
          "text": [
            "Selecting previously unselected package libsuitesparseconfig5:amd64.\n",
            "(Reading database ... 160837 files and directories currently installed.)\n",
            "Preparing to unpack .../libsuitesparseconfig5_1%3a5.1.2-2_amd64.deb ...\n",
            "Unpacking libsuitesparseconfig5:amd64 (1:5.1.2-2) ...\n",
            "Selecting previously unselected package libamd2:amd64.\n",
            "Preparing to unpack .../libamd2_1%3a5.1.2-2_amd64.deb ...\n",
            "Unpacking libamd2:amd64 (1:5.1.2-2) ...\n",
            "Selecting previously unselected package libcolamd2:amd64.\n",
            "Preparing to unpack .../libcolamd2_1%3a5.1.2-2_amd64.deb ...\n",
            "Unpacking libcolamd2:amd64 (1:5.1.2-2) ...\n",
            "Selecting previously unselected package libglpk40:amd64.\n",
            "Preparing to unpack .../libglpk40_4.65-1_amd64.deb ...\n",
            "Unpacking libglpk40:amd64 (4.65-1) ...\n",
            "Selecting previously unselected package glpk-utils.\n",
            "Preparing to unpack .../glpk-utils_4.65-1_amd64.deb ...\n",
            "Unpacking glpk-utils (4.65-1) ...\n",
            "Setting up libsuitesparseconfig5:amd64 (1:5.1.2-2) ...\n",
            "Setting up libcolamd2:amd64 (1:5.1.2-2) ...\n",
            "Setting up libamd2:amd64 (1:5.1.2-2) ...\n",
            "Setting up libglpk40:amd64 (4.65-1) ...\n",
            "Setting up glpk-utils (4.65-1) ...\n",
            "Processing triggers for libc-bin (2.27-3ubuntu1.2) ...\n",
            "/sbin/ldconfig.real: /usr/local/lib/python3.7/dist-packages/ideep4py/lib/libmkldnn.so.0 is not a symbolic link\n",
            "\n",
            "Processing triggers for man-db (2.8.3-2ubuntu0.1) ...\n"
          ],
          "name": "stdout"
        }
      ]
    },
    {
      "cell_type": "code",
      "metadata": {
        "colab": {
          "base_uri": "https://localhost:8080/"
        },
        "id": "BHOWaBb2-jMy",
        "outputId": "5fb98909-a555-449b-b0be-be93caeb6a24"
      },
      "source": [
        "SolverFactory('glpk', executable='/usr/bin/glpsol').solve(model).write()"
      ],
      "execution_count": 19,
      "outputs": [
        {
          "output_type": "stream",
          "text": [
            "# ==========================================================\n",
            "# = Solver Results                                         =\n",
            "# ==========================================================\n",
            "# ----------------------------------------------------------\n",
            "#   Problem Information\n",
            "# ----------------------------------------------------------\n",
            "Problem: \n",
            "- Name: unknown\n",
            "  Lower bound: 31013.4\n",
            "  Upper bound: 31013.4\n",
            "  Number of objectives: 1\n",
            "  Number of constraints: 5\n",
            "  Number of variables: 21\n",
            "  Number of nonzeros: 81\n",
            "  Sense: minimize\n",
            "# ----------------------------------------------------------\n",
            "#   Solver Information\n",
            "# ----------------------------------------------------------\n",
            "Solver: \n",
            "- Status: ok\n",
            "  Termination condition: optimal\n",
            "  Statistics: \n",
            "    Branch and bound: \n",
            "      Number of bounded subproblems: 0\n",
            "      Number of created subproblems: 0\n",
            "  Error rc: 0\n",
            "  Time: 0.0081634521484375\n",
            "# ----------------------------------------------------------\n",
            "#   Solution Information\n",
            "# ----------------------------------------------------------\n",
            "Solution: \n",
            "- number of solutions: 0\n",
            "  number of solutions displayed: 0\n"
          ],
          "name": "stdout"
        }
      ]
    },
    {
      "cell_type": "code",
      "metadata": {
        "colab": {
          "base_uri": "https://localhost:8080/"
        },
        "id": "sV2_zr4S-oGb",
        "outputId": "9ee36fdb-00be-466c-a5da-eb0a44acdda8"
      },
      "source": [
        "print('Objective = ', model.obj())\n",
        "\n",
        "print('\\nDecision Variables')\n",
        "for i in col_indices:\n",
        "  print('x[',i,'] = ', model.x[i].value)\n",
        "  print('y[',i,'] = ', model.y[i].value)\n",
        "\n",
        "print('\\nConstraints')\n",
        "model.constraints.display()"
      ],
      "execution_count": 20,
      "outputs": [
        {
          "output_type": "stream",
          "text": [
            "Objective =  31013.4\n",
            "\n",
            "Decision Variables\n",
            "x[ 0 ] =  12.0\n",
            "y[ 0 ] =  79.0\n",
            "x[ 1 ] =  9.0\n",
            "y[ 1 ] =  0.0\n",
            "x[ 2 ] =  16.0\n",
            "y[ 2 ] =  0.0\n",
            "x[ 3 ] =  25.0\n",
            "y[ 3 ] =  0.0\n",
            "x[ 4 ] =  4.0\n",
            "y[ 4 ] =  0.0\n",
            "x[ 5 ] =  5.0\n",
            "y[ 5 ] =  0.0\n",
            "x[ 6 ] =  10.0\n",
            "y[ 6 ] =  0.0\n",
            "x[ 7 ] =  0.0\n",
            "y[ 7 ] =  0.0\n",
            "x[ 8 ] =  0.0\n",
            "y[ 8 ] =  120.4\n",
            "x[ 9 ] =  6.0\n",
            "y[ 9 ] =  163.6\n",
            "\n",
            "Constraints\n",
            "constraints : Size=4\n",
            "    Key : Lower : Body  : Upper\n",
            "      1 : 450.0 : 450.0 :  None\n",
            "      2 : 157.5 : 157.5 :  None\n",
            "      3 : 202.5 : 202.5 :  None\n",
            "      4 :  90.0 :  90.0 :  None\n"
          ],
          "name": "stdout"
        }
      ]
    },
    {
      "cell_type": "markdown",
      "metadata": {
        "id": "LLYvlegxAfOm"
      },
      "source": [
        "## Ans 1 :\n",
        "\n",
        "###Decision Variables :\n",
        "\n",
        "$x_i = \\text{amount of alloy A-i bought in house}\\\\y_i = \\text{amount of alloy A-i bought in the market}$\n",
        "\n",
        "###Objective Function :\n",
        "\n",
        "$\\text{min 35}x_1+50x_2+56x_3+60x_4+44x_5+39x_6+45x_7+55x_8+35x_9+40x_{10}+72y_1+95y_2+110y_3+126y_4+88y_5+74y_6+95y_7+115y_8+60y_9+84y_{10}$\n",
        "\n",
        "###subject to:\n",
        "\n",
        "$\\bullet\\sum_{i=1}^{10}x_i+y_i = 450\\\\\n",
        "\\bullet0.15(x_1+y_1) + 0.15(x_2+y_2) + 0.1(x_3+y_3) + 0.2(x_4+y_4) + 0.25(x_5+y_5) + 0.1(x_6+y_6) + 0.5(x_7+y_7) + 0.15(x_8+y_8) +0.3(x_9+y_9)+0.55(x_{10}+y_{10}) = 157.5\\\\\n",
        "\\bullet0.8(x_1+y_1) + 0.75(x_2+y_2) + 0.75(x_3+y_3) + 0.6(x_4+y_4) + 0.55(x_5+y_5) + 0.55(x_6+y_6) + 0.4(x_7+y_7) + 0.35(x_8+y_8) +0.3(x_9+y_9)+0.3(x_{10}+y_{10}) = 202.5\\\\\n",
        "\\bullet0.05(x_1+y_1) + 0.1(x_2+y_2) + 0.15(x_3+y_3) + 0.2(x_4+y_4) + 0.2(x_5+y_5) + 0.35(x_6+y_6) + 0.1(x_7+y_7) + 0.5(x_8+y_8) +0.4(x_9+y_9)+0.15(x_{10}+y_{10}) = 90\\\\\n",
        "\\bullet x_1\\leq12, x_2\\leq9, x_3\\leq16, x_4\\leq25, x_5\\leq4, x_6\\leq5, x_7\\leq10, x_8\\leq13, x_9\\leq0, x_{10}\\leq6\\\\\n",
        "\\bullet x_i\\geq0, y_i\\geq0;i = 1,\\cdots,10$\n"
      ]
    },
    {
      "cell_type": "markdown",
      "metadata": {
        "id": "OQBK1jhSGoQq"
      },
      "source": [
        "##Ans 3 :\n",
        "\n",
        "The optimal solution is 31013.4 at which the values of decision variables are as follows:\n",
        "\n",
        "$x_1 = 12\\\\x_2 = 9\\\\x_3 = 16\\\\x_4 = 25\\\\x_5 = 4\\\\x_6 = 5\\\\x_7 = 10\\\\x_8 = 0\\\\x_9 = 0\\\\x_{10} = 6\\\\y_1 = 79\\\\y_2 = 0\\\\y_3 = 0\\\\y_4 = 0\\\\y_5 = 0\\\\y_6 = 0\\\\y_7 = 0\\\\y_8 = 0\\\\y_9 = 120.4\\\\y_{10} = 163.6$\n",
        "\n",
        "The optimal value is 31013.4."
      ]
    },
    {
      "cell_type": "markdown",
      "metadata": {
        "id": "qQP3rPrvGvmZ"
      },
      "source": [
        "## Ans 4 :\n",
        "\n",
        "In terms of quantity, alloy A-1, A-9 and A-10 are ranked highest among all the alloys with quantities 91, 120.4, and 169.6 respectively.\n",
        "\n",
        "The alloys ranking the lowest are A-8, A-5 and A-6 with quantities 0, 4 and 5 respectively."
      ]
    },
    {
      "cell_type": "markdown",
      "metadata": {
        "id": "PFJLct_SHr1A"
      },
      "source": [
        "##Ans 5 :\n",
        "\n",
        "Except A-8 and A-9, every alloy's inhouse stock is completely utilized, it happens because the cost of the alloy in the market for all these alloys, i.e., A-1, A-2, A-3, A-4, A-5, A-6, A-7 and A-10 is comparatively very high than what their inhouse cost is which is why only when the inhouse stock is completely utilized, the alloy is bought from the market (if bought).\n",
        "A-9's inhouse stock is already 0."
      ]
    },
    {
      "cell_type": "markdown",
      "metadata": {
        "id": "6M2jBw1FJwFd"
      },
      "source": [
        "##Ans 6 :\n",
        "\n",
        "Yes, alloys A-2, A-3, A-4, A-5, A-6, A-7 and A-8, need not be acquired from the market since according to the composition requirement, the requirement of the alloys is fulfilled by the quantity available in the inhouse stocks."
      ]
    }
  ]
}