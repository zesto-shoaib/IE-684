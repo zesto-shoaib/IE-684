{
  "nbformat": 4,
  "nbformat_minor": 0,
  "metadata": {
    "colab": {
      "name": "21i190012_IE507_Lab3_Ex1.ipynb",
      "provenance": [],
      "collapsed_sections": []
    },
    "kernelspec": {
      "name": "python3",
      "display_name": "Python 3"
    },
    "language_info": {
      "name": "python"
    }
  },
  "cells": [
    {
      "cell_type": "markdown",
      "metadata": {
        "id": "200npYIP3BHa"
      },
      "source": [
        "#Exercise 1"
      ]
    },
    {
      "cell_type": "code",
      "metadata": {
        "id": "txa5gmtuWMsV"
      },
      "source": [
        "!pip install -q pyomo"
      ],
      "execution_count": 1,
      "outputs": []
    },
    {
      "cell_type": "code",
      "metadata": {
        "id": "UCDnMAKdWV_J"
      },
      "source": [
        "from pyomo.environ import *"
      ],
      "execution_count": 2,
      "outputs": []
    },
    {
      "cell_type": "code",
      "metadata": {
        "id": "m6hprj1GWgNd"
      },
      "source": [
        "import numpy as np"
      ],
      "execution_count": 3,
      "outputs": []
    },
    {
      "cell_type": "code",
      "metadata": {
        "id": "TbvUrMooWiM1"
      },
      "source": [
        "model = ConcreteModel()"
      ],
      "execution_count": 4,
      "outputs": []
    },
    {
      "cell_type": "code",
      "metadata": {
        "id": "7a_km58JWmH3"
      },
      "source": [
        "N = 3\n",
        "M = 3\n",
        "lb = np.array([1,2,1])\n",
        "ub = np.array([np.inf,np.inf,np.inf])\n",
        "obj_coeff = np.array([1,-2,3])\n",
        "constr_coeff_A = np.array([[2,1,2],[-1,1,2],[2,-3,1]])\n",
        "constr_rhs_b = np.array([10,-3,-6])\n",
        "row_indices = np.arange(M)\n",
        "col_indices = np.arange(N)"
      ],
      "execution_count": 5,
      "outputs": []
    },
    {
      "cell_type": "code",
      "metadata": {
        "id": "NlHRv_vzXfLA"
      },
      "source": [
        "model.x = Var(col_indices)\n",
        "model.constraints = ConstraintList()"
      ],
      "execution_count": 6,
      "outputs": []
    },
    {
      "cell_type": "code",
      "metadata": {
        "id": "jNGBX0giYF4I"
      },
      "source": [
        "for i in col_indices:\n",
        "  model.x[i].setlb(lb[i])\n",
        "  model.x[i].setub(ub[i])"
      ],
      "execution_count": 7,
      "outputs": []
    },
    {
      "cell_type": "code",
      "metadata": {
        "id": "iQ5VxDweYmSe"
      },
      "source": [
        "for i in row_indices:\n",
        "  model.constraints.add(sum(constr_coeff_A[i][j]*model.x[j] for j in col_indices) <= constr_rhs_b[i])"
      ],
      "execution_count": 8,
      "outputs": []
    },
    {
      "cell_type": "code",
      "metadata": {
        "colab": {
          "base_uri": "https://localhost:8080/"
        },
        "id": "VVPhd-ZSY7Wr",
        "outputId": "3e0ab13d-df14-4a6c-c433-e4bbc7d4cf7b"
      },
      "source": [
        "model.objective = Objective(expr = summation(obj_coeff,model.x), sense = minimize)\n",
        "model.pprint()"
      ],
      "execution_count": 9,
      "outputs": [
        {
          "output_type": "stream",
          "text": [
            "2 Set Declarations\n",
            "    constraints_index : Size=1, Index=None, Ordered=Insertion\n",
            "        Key  : Dimen : Domain : Size : Members\n",
            "        None :     1 :    Any :    3 : {1, 2, 3}\n",
            "    x_index : Size=1, Index=None, Ordered=False\n",
            "        Key  : Dimen : Domain : Size : Members\n",
            "        None :     1 :    Any :    3 : {0, 1, 2}\n",
            "\n",
            "1 Var Declarations\n",
            "    x : Size=3, Index=x_index\n",
            "        Key : Lower : Value : Upper : Fixed : Stale : Domain\n",
            "          0 :     1 :  None :   inf : False :  True :  Reals\n",
            "          1 :     2 :  None :   inf : False :  True :  Reals\n",
            "          2 :     1 :  None :   inf : False :  True :  Reals\n",
            "\n",
            "1 Objective Declarations\n",
            "    objective : Size=1, Index=None, Active=True\n",
            "        Key  : Active : Sense    : Expression\n",
            "        None :   True : minimize : x[0] - 2.0*x[1] + 3*x[2]\n",
            "\n",
            "1 Constraint Declarations\n",
            "    constraints : Size=3, Index=constraints_index, Active=True\n",
            "        Key : Lower : Body                   : Upper : Active\n",
            "          1 :  -Inf : 2*x[0] + x[1] + 2*x[2] :  10.0 :   True\n",
            "          2 :  -Inf : - x[0] + x[1] + 2*x[2] :  -3.0 :   True\n",
            "          3 :  -Inf : 2*x[0] - 3*x[1] + x[2] :  -6.0 :   True\n",
            "\n",
            "5 Declarations: x_index x constraints_index constraints objective\n"
          ],
          "name": "stdout"
        }
      ]
    },
    {
      "cell_type": "code",
      "metadata": {
        "id": "lBNHAp9zZcuF"
      },
      "source": [
        "!apt-get install -y -qq glpk-utils"
      ],
      "execution_count": 10,
      "outputs": []
    },
    {
      "cell_type": "code",
      "metadata": {
        "colab": {
          "base_uri": "https://localhost:8080/"
        },
        "id": "Jn6EV6aiZ-U5",
        "outputId": "e78618b4-ffc6-4ec7-dda6-d332337bc249"
      },
      "source": [
        "opt_glpk = SolverFactory('glpk', executable='/usr/bin/glpsol')\n",
        "result_glpk = opt_glpk.solve(model)\n",
        "print(result_glpk)\n",
        "print('Solver status:', result_glpk.solver.status)\n",
        "print('Solver termination condition:',result_glpk.solver.termination_condition)"
      ],
      "execution_count": 11,
      "outputs": [
        {
          "output_type": "stream",
          "text": [
            "\n",
            "Problem: \n",
            "- Name: unknown\n",
            "  Lower bound: -inf\n",
            "  Upper bound: inf\n",
            "  Number of objectives: 1\n",
            "  Number of constraints: 4\n",
            "  Number of variables: 4\n",
            "  Number of nonzeros: 10\n",
            "  Sense: minimize\n",
            "Solver: \n",
            "- Status: ok\n",
            "  Termination condition: other\n",
            "  Statistics: \n",
            "    Branch and bound: \n",
            "      Number of bounded subproblems: 0\n",
            "      Number of created subproblems: 0\n",
            "  Error rc: 0\n",
            "  Time: 0.011620521545410156\n",
            "\n",
            "Solver status: ok\n",
            "Solver termination condition: other\n"
          ],
          "name": "stdout"
        }
      ]
    },
    {
      "cell_type": "code",
      "metadata": {
        "id": "EJWmNh4yaNVH"
      },
      "source": [
        "!apt-get install -y -qq coinor-cbc"
      ],
      "execution_count": 12,
      "outputs": []
    },
    {
      "cell_type": "code",
      "metadata": {
        "colab": {
          "base_uri": "https://localhost:8080/"
        },
        "id": "1eEWWA2saj6w",
        "outputId": "fc872ca5-c881-4010-e4ea-ea4925c867c5"
      },
      "source": [
        "opt_cbc = SolverFactory('cbc')\n",
        "result_cbc = opt_cbc.solve(model)\n",
        "print(result_cbc)\n",
        "print('Solver status:', result_cbc.solver.status)\n",
        "print('Solver termination condition:',result_cbc.solver.termination_condition)"
      ],
      "execution_count": 13,
      "outputs": [
        {
          "output_type": "stream",
          "text": [
            "WARNING: Loading a SolverResults object with a warning status into\n",
            "    model.name=\"unknown\";\n",
            "      - termination condition: infeasible\n",
            "      - message from solver: <undefined>\n",
            "\n",
            "Problem: \n",
            "- Name: unknown\n",
            "  Lower bound: None\n",
            "  Upper bound: inf\n",
            "  Number of objectives: 1\n",
            "  Number of constraints: 4\n",
            "  Number of variables: 4\n",
            "  Number of nonzeros: 3\n",
            "  Sense: minimize\n",
            "Solver: \n",
            "- Status: warning\n",
            "  User time: -1.0\n",
            "  System time: 0.0\n",
            "  Wallclock time: 0.0\n",
            "  Termination condition: infeasible\n",
            "  Termination message: Model was proven to be infeasible.\n",
            "  Statistics: \n",
            "    Branch and bound: \n",
            "      Number of bounded subproblems: 0\n",
            "      Number of created subproblems: 0\n",
            "    Black box: \n",
            "      Number of iterations: 0\n",
            "  Error rc: 0\n",
            "  Time: 0.016359806060791016\n",
            "\n",
            "Solver status: warning\n",
            "Solver termination condition: infeasible\n"
          ],
          "name": "stdout"
        }
      ]
    },
    {
      "cell_type": "markdown",
      "metadata": {
        "id": "M8tThJXm6xlB"
      },
      "source": [
        "## Ans 1 :\n",
        "\n",
        "When we use glpk solver, the solver status is ok and solver termination condition is other.\n",
        "It is not meaningful as it does not tell what is actually the termination condition.\n",
        "\n",
        "Whereas when we use cbc solver, the solver status is warning and solver termination condition is infeasible.\n",
        "It has more meaning as we get to know that our linear program is infeasible and it also gives us a warning relating to the conflict in the constraints.\n",
        "\n",
        "Possible reasons for these messages could be that the constraints are conflicting.\n"
      ]
    },
    {
      "cell_type": "code",
      "metadata": {
        "id": "J4m9gRzOa4RF"
      },
      "source": [
        "model.objective.set_sense(maximize)"
      ],
      "execution_count": 14,
      "outputs": []
    },
    {
      "cell_type": "code",
      "metadata": {
        "colab": {
          "base_uri": "https://localhost:8080/"
        },
        "id": "bK0Boxb7baYK",
        "outputId": "4dced8a7-1ee3-4df0-c14e-3eb780a4c340"
      },
      "source": [
        "result_cbc = opt_cbc.solve(model)\n",
        "print(result_cbc)\n",
        "print('Solver status:', result_cbc.solver.status)\n",
        "print('Solver termination condition:',result_cbc.solver.termination_condition)"
      ],
      "execution_count": 15,
      "outputs": [
        {
          "output_type": "stream",
          "text": [
            "WARNING: Loading a SolverResults object with a warning status into\n",
            "    model.name=\"unknown\";\n",
            "      - termination condition: infeasible\n",
            "      - message from solver: <undefined>\n",
            "\n",
            "Problem: \n",
            "- Name: unknown\n",
            "  Lower bound: -inf\n",
            "  Upper bound: None\n",
            "  Number of objectives: 1\n",
            "  Number of constraints: 4\n",
            "  Number of variables: 4\n",
            "  Number of nonzeros: 3\n",
            "  Sense: maximize\n",
            "Solver: \n",
            "- Status: warning\n",
            "  User time: -1.0\n",
            "  System time: 0.0\n",
            "  Wallclock time: 0.0\n",
            "  Termination condition: infeasible\n",
            "  Termination message: Model was proven to be infeasible.\n",
            "  Statistics: \n",
            "    Branch and bound: \n",
            "      Number of bounded subproblems: 0\n",
            "      Number of created subproblems: 0\n",
            "    Black box: \n",
            "      Number of iterations: 0\n",
            "  Error rc: 0\n",
            "  Time: 0.02814197540283203\n",
            "\n",
            "Solver status: warning\n",
            "Solver termination condition: infeasible\n"
          ],
          "name": "stdout"
        }
      ]
    },
    {
      "cell_type": "markdown",
      "metadata": {
        "id": "6IquT8-x_4Kn"
      },
      "source": [
        "##Ans 2(a) :\n",
        "\n",
        "Solver Status is warning.\n",
        "Solver termination condition is infeasible.\n",
        "\n",
        "There does not exist any solution that satisfies all the given constraints and hence it is infeasible."
      ]
    },
    {
      "cell_type": "code",
      "metadata": {
        "id": "GeD-fgIDbfu7"
      },
      "source": [
        "model.objective.set_sense(minimize)"
      ],
      "execution_count": 16,
      "outputs": []
    },
    {
      "cell_type": "code",
      "metadata": {
        "id": "S8Dpler9bruQ"
      },
      "source": [
        "model.x[1].setub(8)"
      ],
      "execution_count": 17,
      "outputs": []
    },
    {
      "cell_type": "code",
      "metadata": {
        "colab": {
          "base_uri": "https://localhost:8080/"
        },
        "id": "0CxELaz9b63T",
        "outputId": "1996a9de-7d40-43f0-d054-c6a892d4d89e"
      },
      "source": [
        "result_cbc = opt_cbc.solve(model)\n",
        "print(result_cbc)\n",
        "print('Solver status:', result_cbc.solver.status)\n",
        "print('Solver termination condition:',result_cbc.solver.termination_condition)"
      ],
      "execution_count": 18,
      "outputs": [
        {
          "output_type": "stream",
          "text": [
            "WARNING: Loading a SolverResults object with a warning status into\n",
            "    model.name=\"unknown\";\n",
            "      - termination condition: infeasible\n",
            "      - message from solver: <undefined>\n",
            "\n",
            "Problem: \n",
            "- Name: unknown\n",
            "  Lower bound: None\n",
            "  Upper bound: inf\n",
            "  Number of objectives: 1\n",
            "  Number of constraints: 4\n",
            "  Number of variables: 4\n",
            "  Number of nonzeros: 3\n",
            "  Sense: minimize\n",
            "Solver: \n",
            "- Status: warning\n",
            "  User time: -1.0\n",
            "  System time: 0.0\n",
            "  Wallclock time: 0.0\n",
            "  Termination condition: infeasible\n",
            "  Termination message: Model was proven to be infeasible.\n",
            "  Statistics: \n",
            "    Branch and bound: \n",
            "      Number of bounded subproblems: 0\n",
            "      Number of created subproblems: 0\n",
            "    Black box: \n",
            "      Number of iterations: 0\n",
            "  Error rc: 0\n",
            "  Time: 0.02325129508972168\n",
            "\n",
            "Solver status: warning\n",
            "Solver termination condition: infeasible\n"
          ],
          "name": "stdout"
        }
      ]
    },
    {
      "cell_type": "markdown",
      "metadata": {
        "id": "6t_Bh9xSAWjN"
      },
      "source": [
        "##Ans 2(b) :\n",
        "\n",
        "Solver Status is warning.\n",
        "Solver termination condition is infeasible.\n",
        "There does not exist any solution that satisfies all the given constraints and hence it is infeasible."
      ]
    },
    {
      "cell_type": "code",
      "metadata": {
        "id": "DAS1Ve7_b9ez"
      },
      "source": [
        "model.x[1].setub(np.inf)"
      ],
      "execution_count": 19,
      "outputs": []
    },
    {
      "cell_type": "code",
      "metadata": {
        "colab": {
          "base_uri": "https://localhost:8080/"
        },
        "id": "yONlFv1wcQ6G",
        "outputId": "95b7dc96-135b-41c2-fca4-c5c4a8d61bb1"
      },
      "source": [
        "new_constr_coeff = [0,-1,1]\n",
        "new_constr_coeff_b = 9\n",
        "model.constraints.add(sum(new_constr_coeff[i]*model.x[i] for i in col_indices) <= new_constr_coeff_b)"
      ],
      "execution_count": 20,
      "outputs": [
        {
          "output_type": "execute_result",
          "data": {
            "text/plain": [
              "<pyomo.core.base.constraint._GeneralConstraintData at 0x7f3fb4ff6360>"
            ]
          },
          "metadata": {},
          "execution_count": 20
        }
      ]
    },
    {
      "cell_type": "code",
      "metadata": {
        "colab": {
          "base_uri": "https://localhost:8080/"
        },
        "id": "X1BOKRJkcw-9",
        "outputId": "cb71d566-d414-453c-d5f8-17296b1cd6c6"
      },
      "source": [
        "result_cbc = opt_cbc.solve(model)\n",
        "print(result_cbc)\n",
        "print('Solver status:', result_cbc.solver.status)\n",
        "print('Solver termination condition:',result_cbc.solver.termination_condition)"
      ],
      "execution_count": 21,
      "outputs": [
        {
          "output_type": "stream",
          "text": [
            "WARNING: Loading a SolverResults object with a warning status into\n",
            "    model.name=\"unknown\";\n",
            "      - termination condition: infeasible\n",
            "      - message from solver: <undefined>\n",
            "\n",
            "Problem: \n",
            "- Name: unknown\n",
            "  Lower bound: None\n",
            "  Upper bound: inf\n",
            "  Number of objectives: 1\n",
            "  Number of constraints: 5\n",
            "  Number of variables: 4\n",
            "  Number of nonzeros: 3\n",
            "  Sense: minimize\n",
            "Solver: \n",
            "- Status: warning\n",
            "  User time: -1.0\n",
            "  System time: 0.0\n",
            "  Wallclock time: 0.0\n",
            "  Termination condition: infeasible\n",
            "  Termination message: Model was proven to be infeasible.\n",
            "  Statistics: \n",
            "    Branch and bound: \n",
            "      Number of bounded subproblems: 0\n",
            "      Number of created subproblems: 0\n",
            "    Black box: \n",
            "      Number of iterations: 0\n",
            "  Error rc: 0\n",
            "  Time: 0.019324064254760742\n",
            "\n",
            "Solver status: warning\n",
            "Solver termination condition: infeasible\n"
          ],
          "name": "stdout"
        }
      ]
    },
    {
      "cell_type": "markdown",
      "metadata": {
        "id": "qlhjcQNPAvmV"
      },
      "source": [
        "##Ans 2(c) :\n",
        "\n",
        "Solver Status is warning.\n",
        "Solver termination condition is infeasible.\n",
        "There does not exist any solution that satisfies all the given constraints and hence it is infeasible."
      ]
    },
    {
      "cell_type": "code",
      "metadata": {
        "id": "Izy3jHSYcyzq"
      },
      "source": [
        "model.constraints[4].deactivate()"
      ],
      "execution_count": 22,
      "outputs": []
    },
    {
      "cell_type": "code",
      "metadata": {
        "id": "WQLE0E75c-CL"
      },
      "source": [
        "model.objective.deactivate()"
      ],
      "execution_count": 23,
      "outputs": []
    },
    {
      "cell_type": "code",
      "metadata": {
        "colab": {
          "base_uri": "https://localhost:8080/"
        },
        "id": "G7WWvGPodFVN",
        "outputId": "e32b7d88-deaf-4d9d-c8fe-fb5ae5d1fd2d"
      },
      "source": [
        "new_obj_coeff = np.array([1,1,1])\n",
        "model.new_objective = Objective(expr = summation(new_obj_coeff,model.x), sense = minimize)\n",
        "model.constraints[1].deactivate()\n",
        "new_constr_coeff_1 = [1,1,0]\n",
        "new_constr_coeff_b_1 = 45\n",
        "model.constraints.add(sum(new_constr_coeff_1[i]*model.x[i] for i in col_indices) >= 45)"
      ],
      "execution_count": 24,
      "outputs": [
        {
          "output_type": "execute_result",
          "data": {
            "text/plain": [
              "<pyomo.core.base.constraint._GeneralConstraintData at 0x7f3fb4ff62f0>"
            ]
          },
          "metadata": {},
          "execution_count": 24
        }
      ]
    },
    {
      "cell_type": "code",
      "metadata": {
        "colab": {
          "base_uri": "https://localhost:8080/"
        },
        "id": "IdbblM70d_rS",
        "outputId": "9113027b-cf8e-491e-8e0a-885e8b2a04e4"
      },
      "source": [
        "model.pprint()"
      ],
      "execution_count": 25,
      "outputs": [
        {
          "output_type": "stream",
          "text": [
            "2 Set Declarations\n",
            "    constraints_index : Size=1, Index=None, Ordered=Insertion\n",
            "        Key  : Dimen : Domain : Size : Members\n",
            "        None :     1 :    Any :    5 : {1, 2, 3, 4, 5}\n",
            "    x_index : Size=1, Index=None, Ordered=False\n",
            "        Key  : Dimen : Domain : Size : Members\n",
            "        None :     1 :    Any :    3 : {0, 1, 2}\n",
            "\n",
            "1 Var Declarations\n",
            "    x : Size=3, Index=x_index\n",
            "        Key : Lower : Value : Upper : Fixed : Stale : Domain\n",
            "          0 :     1 :  None :   inf : False :  True :  Reals\n",
            "          1 :     2 :  None :   inf : False :  True :  Reals\n",
            "          2 :     1 :  None :   inf : False :  True :  Reals\n",
            "\n",
            "2 Objective Declarations\n",
            "    new_objective : Size=1, Index=None, Active=True\n",
            "        Key  : Active : Sense    : Expression\n",
            "        None :   True : minimize : x[0] + x[1] + x[2]\n",
            "    objective : Size=1, Index=None, Active=False\n",
            "        Key  : Active : Sense    : Expression\n",
            "        None :  False : minimize : x[0] - 2.0*x[1] + 3*x[2]\n",
            "\n",
            "1 Constraint Declarations\n",
            "    constraints : Size=5, Index=constraints_index, Active=True\n",
            "        Key : Lower : Body                   : Upper : Active\n",
            "          1 :  -Inf : 2*x[0] + x[1] + 2*x[2] :  10.0 :  False\n",
            "          2 :  -Inf : - x[0] + x[1] + 2*x[2] :  -3.0 :   True\n",
            "          3 :  -Inf : 2*x[0] - 3*x[1] + x[2] :  -6.0 :   True\n",
            "          4 :  -Inf :          - x[1] + x[2] :   9.0 :  False\n",
            "          5 :  45.0 :            x[0] + x[1] :  +Inf :   True\n",
            "\n",
            "6 Declarations: x_index x constraints_index constraints objective new_objective\n"
          ],
          "name": "stdout"
        }
      ]
    },
    {
      "cell_type": "code",
      "metadata": {
        "colab": {
          "base_uri": "https://localhost:8080/"
        },
        "id": "wSTo5lkyeUvp",
        "outputId": "75010ca1-0c71-48a5-cf5b-affb7da6bf1d"
      },
      "source": [
        "result_cbc = opt_cbc.solve(model)\n",
        "print(result_cbc)\n",
        "print('Solver status:', result_cbc.solver.status)\n",
        "print('Solver termination condition:',result_cbc.solver.termination_condition)"
      ],
      "execution_count": 26,
      "outputs": [
        {
          "output_type": "stream",
          "text": [
            "\n",
            "Problem: \n",
            "- Name: unknown\n",
            "  Lower bound: 46.0\n",
            "  Upper bound: 46.0\n",
            "  Number of objectives: 1\n",
            "  Number of constraints: 4\n",
            "  Number of variables: 4\n",
            "  Number of nonzeros: 2\n",
            "  Sense: minimize\n",
            "Solver: \n",
            "- Status: ok\n",
            "  User time: -1.0\n",
            "  System time: 0.0\n",
            "  Wallclock time: 0.0\n",
            "  Termination condition: optimal\n",
            "  Termination message: Model was solved to optimality (subject to tolerances), and an optimal solution is available.\n",
            "  Statistics: \n",
            "    Branch and bound: \n",
            "      Number of bounded subproblems: None\n",
            "      Number of created subproblems: None\n",
            "    Black box: \n",
            "      Number of iterations: 2\n",
            "  Error rc: 0\n",
            "  Time: 0.018092870712280273\n",
            "Solution: \n",
            "- number of solutions: 0\n",
            "  number of solutions displayed: 0\n",
            "\n",
            "Solver status: ok\n",
            "Solver termination condition: optimal\n"
          ],
          "name": "stdout"
        }
      ]
    },
    {
      "cell_type": "code",
      "metadata": {
        "colab": {
          "base_uri": "https://localhost:8080/"
        },
        "id": "nnpexzb64ply",
        "outputId": "90e23b3b-a1d6-472c-9a83-1e98e1f43e65"
      },
      "source": [
        "print('Objective = ', model.new_objective())\n",
        "\n",
        "print('\\nDecision Variables')\n",
        "for i in col_indices:\n",
        "  print('x[',i,'] = ', model.x[i].value)\n",
        "print('\\nConstraints')\n",
        "model.constraints.display()"
      ],
      "execution_count": 27,
      "outputs": [
        {
          "output_type": "stream",
          "text": [
            "Objective =  46.0\n",
            "\n",
            "Decision Variables\n",
            "x[ 0 ] =  25.6\n",
            "x[ 1 ] =  19.4\n",
            "x[ 2 ] =  1.0\n",
            "\n",
            "Constraints\n",
            "constraints : Size=5\n",
            "    Key : Lower : Body               : Upper\n",
            "      2 :  None : -4.200000000000003 :  -3.0\n",
            "      3 :  None : -5.999999999999993 :  -6.0\n",
            "      5 :  45.0 :               45.0 :  None\n"
          ],
          "name": "stdout"
        }
      ]
    },
    {
      "cell_type": "markdown",
      "metadata": {
        "id": "33DM3P-gAz7A"
      },
      "source": [
        "##Ans 2(d) :\n",
        "\n",
        "The value of the objective function is : 46.0\n",
        "\n",
        "The values of decision variables are:\n",
        "\n",
        "$x_1 = 25.6\\\\x_2 = 19.4\\\\x_3 = 1.0$\n",
        "\n",
        "The constraint 1 : $-x_1+x_2+2x_3\\leq-3$ is not active as it is not satisifed to equality.\n",
        "\n",
        "The constraint 2 : $2x_1-3x_2+x_3\\leq-6$ is not active as it is not satisifed to equality.\n",
        "\n",
        "The constraint 3 : $x_1+x_2\\geq45$ is active as it is satisifed to equality."
      ]
    },
    {
      "cell_type": "code",
      "metadata": {
        "id": "ks7Pqqsr49v6"
      },
      "source": [
        ""
      ],
      "execution_count": 27,
      "outputs": []
    }
  ]
}