{
  "nbformat": 4,
  "nbformat_minor": 0,
  "metadata": {
    "colab": {
      "name": "21i190012_IE507_Lab3_Ex2.ipynb",
      "provenance": [],
      "collapsed_sections": []
    },
    "kernelspec": {
      "name": "python3",
      "display_name": "Python 3"
    },
    "language_info": {
      "name": "python"
    }
  },
  "cells": [
    {
      "cell_type": "markdown",
      "metadata": {
        "id": "qx1qlq5JECT6"
      },
      "source": [
        "#Exercise 2"
      ]
    },
    {
      "cell_type": "markdown",
      "metadata": {
        "id": "hV4sRU5MEGS1"
      },
      "source": [
        "##Ans 1 :\n",
        "\n",
        "Decision Variables :\n",
        "$c_i = \\left\\{\n",
        "\\begin{array}{ll}\n",
        "      1 & \\text{if Course Ci is selected} \\\\\n",
        "      0 & \\text{otherwise} \\\\\n",
        "\\end{array} \n",
        "\\right.$ $i = 0,1,2,3,4,5,6,7,8,9$\n",
        "\n",
        "Objective Function :\n",
        "$\\text{max   }3c_0+2c_1+6c_2+5c_3+5c_4+4c_5+6c_6+8c_7+8c_8+5c_9+4c_{10}$\n",
        "\n",
        "subject to:\n",
        "$\\bullet-3c_0-2c_1-6c_2-5c_3-5c_4-4c_5-6c_6-8c_7-8c_8-5c_9-4c_{10} \\leq -30\\\\\n",
        "\\bullet-c_1-c_2-c_3-c_4-c_5-c_6-c_7-c_8-c_9-c_{10} \\leq -5\\\\\n",
        "\\bullet c_1+c_2+c_3+c_4+c_5+c_6+c_7+c_8+c_9+c_{10}\\leq9\\\\\n",
        "\\bullet c_2+c_7\\leq1\\\\\n",
        "\\bullet c_4+c_9\\leq1\\\\\n",
        "\\bullet c_2+c_8\\leq1\\\\\n",
        "\\bullet c_0-c_{10}\\leq0\\\\\n",
        "\\bullet -c_0-c_1-c_2\\leq-1\\\\\n",
        "\\bullet c_0+c_1+c_2\\leq2\\\\\n",
        "\\bullet c_5+c_6\\leq1\\\\\n",
        "\\bullet c_3+c_6+c_9\\leq2\\\\\n",
        "\\bullet c_i = \\text{{0,1}}\n",
        "$\n",
        "\n"
      ]
    },
    {
      "cell_type": "code",
      "metadata": {
        "id": "GqNWY6NahI8_"
      },
      "source": [
        "!pip install -q pyomo"
      ],
      "execution_count": 1,
      "outputs": []
    },
    {
      "cell_type": "code",
      "metadata": {
        "id": "Hic416cKh4iX"
      },
      "source": [
        "from pyomo.environ import *"
      ],
      "execution_count": 2,
      "outputs": []
    },
    {
      "cell_type": "code",
      "metadata": {
        "id": "XArwXe0Jh_BL"
      },
      "source": [
        "import numpy as np"
      ],
      "execution_count": 3,
      "outputs": []
    },
    {
      "cell_type": "code",
      "metadata": {
        "id": "HxVyCRftiDRJ"
      },
      "source": [
        "model = ConcreteModel()"
      ],
      "execution_count": 4,
      "outputs": []
    },
    {
      "cell_type": "code",
      "metadata": {
        "id": "_g0qr0bjiHCK"
      },
      "source": [
        "N = 11\n",
        "M = 11\n",
        "obj_coeff = np.array([3,2,6,5,5,4,6,8,8,5,4])\n",
        "constr_coeff_A = np.array([[-3,-2,-6,-5,-5,-4,-6,-8,-8,-5,-4],[-1,-1,-1,-1,-1,-1,-1,-1,-1,-1,-1],[1,1,1,1,1,1,1,1,1,1,1],[0,0,1,0,0,0,0,1,0,0,0],[0,0,0,0,1,0,0,0,0,1,0],[0,0,1,0,0,0,0,0,1,0,0],[1,0,0,0,0,0,0,0,0,0,-1],[-1,-1,-1,0,0,0,0,0,0,0,0],[1,1,1,0,0,0,0,0,0,0,0],[0,0,0,0,0,1,1,0,0,0,0],[0,0,0,1,0,0,1,0,0,1,0]])\n",
        "constr_rhs_b = np.array([-30,-5,9,1,1,1,0,-1,2,1,2])\n",
        "col_indices = np.arange(N)\n",
        "row_indices = np.arange(M)"
      ],
      "execution_count": 5,
      "outputs": []
    },
    {
      "cell_type": "code",
      "metadata": {
        "id": "94nOxI-cmfZD"
      },
      "source": [
        "\n",
        "model.c = Var(col_indices, domain = Binary)"
      ],
      "execution_count": 6,
      "outputs": []
    },
    {
      "cell_type": "code",
      "metadata": {
        "id": "bhJC0B82nQkB"
      },
      "source": [
        "model.constraints = ConstraintList()"
      ],
      "execution_count": 7,
      "outputs": []
    },
    {
      "cell_type": "code",
      "metadata": {
        "id": "3Tw6BAXlnZe8"
      },
      "source": [
        "for i in row_indices:\n",
        "  model.constraints.add(sum(constr_coeff_A[i][j]*model.c[j] for j in col_indices) <= constr_rhs_b[i])"
      ],
      "execution_count": 8,
      "outputs": []
    },
    {
      "cell_type": "code",
      "metadata": {
        "id": "sf2ZMhyXoUHf"
      },
      "source": [
        "model.objective = Objective(expr = summation(obj_coeff,model.c), sense = maximize)"
      ],
      "execution_count": 9,
      "outputs": []
    },
    {
      "cell_type": "code",
      "metadata": {
        "id": "pM0lZGTKot0I",
        "colab": {
          "base_uri": "https://localhost:8080/"
        },
        "outputId": "af33e14a-2fd1-4962-801b-5876320cbed7"
      },
      "source": [
        "model.pprint()"
      ],
      "execution_count": 10,
      "outputs": [
        {
          "output_type": "stream",
          "text": [
            "2 Set Declarations\n",
            "    c_index : Size=1, Index=None, Ordered=False\n",
            "        Key  : Dimen : Domain : Size : Members\n",
            "        None :     1 :    Any :   11 : {0, 1, 2, 3, 4, 5, 6, 7, 8, 9, 10}\n",
            "    constraints_index : Size=1, Index=None, Ordered=Insertion\n",
            "        Key  : Dimen : Domain : Size : Members\n",
            "        None :     1 :    Any :   11 : {1, 2, 3, 4, 5, 6, 7, 8, 9, 10, 11}\n",
            "\n",
            "1 Var Declarations\n",
            "    c : Size=11, Index=c_index\n",
            "        Key : Lower : Value : Upper : Fixed : Stale : Domain\n",
            "          0 :     0 :  None :     1 : False :  True : Binary\n",
            "          1 :     0 :  None :     1 : False :  True : Binary\n",
            "          2 :     0 :  None :     1 : False :  True : Binary\n",
            "          3 :     0 :  None :     1 : False :  True : Binary\n",
            "          4 :     0 :  None :     1 : False :  True : Binary\n",
            "          5 :     0 :  None :     1 : False :  True : Binary\n",
            "          6 :     0 :  None :     1 : False :  True : Binary\n",
            "          7 :     0 :  None :     1 : False :  True : Binary\n",
            "          8 :     0 :  None :     1 : False :  True : Binary\n",
            "          9 :     0 :  None :     1 : False :  True : Binary\n",
            "         10 :     0 :  None :     1 : False :  True : Binary\n",
            "\n",
            "1 Objective Declarations\n",
            "    objective : Size=1, Index=None, Active=True\n",
            "        Key  : Active : Sense    : Expression\n",
            "        None :   True : maximize : 3*c[0] + 2*c[1] + 6*c[2] + 5*c[3] + 5*c[4] + 4*c[5] + 6*c[6] + 8*c[7] + 8*c[8] + 5*c[9] + 4*c[10]\n",
            "\n",
            "1 Constraint Declarations\n",
            "    constraints : Size=11, Index=constraints_index, Active=True\n",
            "        Key : Lower : Body                                                                                               : Upper : Active\n",
            "          1 :  -Inf : -3*c[0] - 2*c[1] - 6*c[2] - 5*c[3] - 5*c[4] - 4*c[5] - 6*c[6] - 8*c[7] - 8*c[8] - 5*c[9] - 4*c[10] : -30.0 :   True\n",
            "          2 :  -Inf :                      - c[0] - c[1] - c[2] - c[3] - c[4] - c[5] - c[6] - c[7] - c[8] - c[9] - c[10] :  -5.0 :   True\n",
            "          3 :  -Inf :                        c[0] + c[1] + c[2] + c[3] + c[4] + c[5] + c[6] + c[7] + c[8] + c[9] + c[10] :   9.0 :   True\n",
            "          4 :  -Inf :                                                                                        c[2] + c[7] :   1.0 :   True\n",
            "          5 :  -Inf :                                                                                        c[4] + c[9] :   1.0 :   True\n",
            "          6 :  -Inf :                                                                                        c[2] + c[8] :   1.0 :   True\n",
            "          7 :  -Inf :                                                                                       c[0] - c[10] :   0.0 :   True\n",
            "          8 :  -Inf :                                                                               - c[0] - c[1] - c[2] :  -1.0 :   True\n",
            "          9 :  -Inf :                                                                                 c[0] + c[1] + c[2] :   2.0 :   True\n",
            "         10 :  -Inf :                                                                                        c[5] + c[6] :   1.0 :   True\n",
            "         11 :  -Inf :                                                                                 c[3] + c[6] + c[9] :   2.0 :   True\n",
            "\n",
            "5 Declarations: c_index c constraints_index constraints objective\n"
          ],
          "name": "stdout"
        }
      ]
    },
    {
      "cell_type": "code",
      "metadata": {
        "id": "CZwadF_NdE_j"
      },
      "source": [
        "!apt-get install -y -qq coinor-cbc"
      ],
      "execution_count": 11,
      "outputs": []
    },
    {
      "cell_type": "code",
      "metadata": {
        "colab": {
          "base_uri": "https://localhost:8080/"
        },
        "id": "TJlodKkYdf2x",
        "outputId": "e585f9cb-b1db-44b2-ae59-e1e6d015a17a"
      },
      "source": [
        "opt_cbc = SolverFactory('cbc')\n",
        "result_cbc = opt_cbc.solve(model)\n",
        "print(result_cbc)\n",
        "print('Solver status:', result_cbc.solver.status)\n",
        "print('Solver termination condition:',result_cbc.solver.termination_condition)"
      ],
      "execution_count": 12,
      "outputs": [
        {
          "output_type": "stream",
          "text": [
            "\n",
            "Problem: \n",
            "- Name: unknown\n",
            "  Lower bound: 41.0\n",
            "  Upper bound: 41.0\n",
            "  Number of objectives: 1\n",
            "  Number of constraints: 11\n",
            "  Number of variables: 11\n",
            "  Number of binary variables: 11\n",
            "  Number of integer variables: 11\n",
            "  Number of nonzeros: 11\n",
            "  Sense: maximize\n",
            "Solver: \n",
            "- Status: ok\n",
            "  User time: -1.0\n",
            "  System time: 0.0\n",
            "  Wallclock time: 0.0\n",
            "  Termination condition: optimal\n",
            "  Termination message: Model was solved to optimality (subject to tolerances), and an optimal solution is available.\n",
            "  Statistics: \n",
            "    Branch and bound: \n",
            "      Number of bounded subproblems: 0\n",
            "      Number of created subproblems: 0\n",
            "    Black box: \n",
            "      Number of iterations: 0\n",
            "  Error rc: 0\n",
            "  Time: 0.020386695861816406\n",
            "Solution: \n",
            "- number of solutions: 0\n",
            "  number of solutions displayed: 0\n",
            "\n",
            "Solver status: ok\n",
            "Solver termination condition: optimal\n"
          ],
          "name": "stdout"
        }
      ]
    },
    {
      "cell_type": "code",
      "metadata": {
        "colab": {
          "base_uri": "https://localhost:8080/"
        },
        "id": "vaOvS1NEdm_9",
        "outputId": "94d37732-d608-4a3a-e10c-56b891d25ef6"
      },
      "source": [
        "print('Objective = ', model.objective())\n",
        "\n",
        "print('\\nDecision Variables')\n",
        "for i in col_indices:\n",
        "  print('c[',i,'] = ', model.c[i].value)\n",
        "print('\\nConstraints')\n",
        "model.constraints.display()"
      ],
      "execution_count": 13,
      "outputs": [
        {
          "output_type": "stream",
          "text": [
            "Objective =  41.0\n",
            "\n",
            "Decision Variables\n",
            "c[ 0 ] =  1.0\n",
            "c[ 1 ] =  1.0\n",
            "c[ 2 ] =  0.0\n",
            "c[ 3 ] =  1.0\n",
            "c[ 4 ] =  1.0\n",
            "c[ 5 ] =  0.0\n",
            "c[ 6 ] =  1.0\n",
            "c[ 7 ] =  1.0\n",
            "c[ 8 ] =  1.0\n",
            "c[ 9 ] =  0.0\n",
            "c[ 10 ] =  1.0\n",
            "\n",
            "Constraints\n",
            "constraints : Size=11\n",
            "    Key : Lower : Body  : Upper\n",
            "      1 :  None : -41.0 : -30.0\n",
            "      2 :  None :  -8.0 :  -5.0\n",
            "      3 :  None :   8.0 :   9.0\n",
            "      4 :  None :   1.0 :   1.0\n",
            "      5 :  None :   1.0 :   1.0\n",
            "      6 :  None :   1.0 :   1.0\n",
            "      7 :  None :   0.0 :   0.0\n",
            "      8 :  None :  -2.0 :  -1.0\n",
            "      9 :  None :   2.0 :   2.0\n",
            "     10 :  None :   1.0 :   1.0\n",
            "     11 :  None :   2.0 :   2.0\n"
          ],
          "name": "stdout"
        }
      ]
    },
    {
      "cell_type": "markdown",
      "metadata": {
        "id": "WOQTJmPtMUY0"
      },
      "source": [
        "##Ans 3 :\n",
        "\n",
        "The value of the objective function is : 41.\n",
        "\n",
        "The values of decision variables are:\n",
        "\n",
        "$c_0=1\\\\c_1=1\\\\c_2=0\\\\c_3=1\\\\c_4=1\\\\c_5=0\\\\c_6=1\\\\c_7=1\\\\c_8=1\\\\c_9=0\\\\c_{10}=1$"
      ]
    },
    {
      "cell_type": "code",
      "metadata": {
        "id": "oORUWM87d7nL"
      },
      "source": [
        "model_lp = ConcreteModel()\n",
        "model_lp.y = Var(col_indices)"
      ],
      "execution_count": 14,
      "outputs": []
    },
    {
      "cell_type": "code",
      "metadata": {
        "id": "jl6Nmr27gJjw"
      },
      "source": [
        "model_lp.constraints_y = ConstraintList()\n",
        "for i in row_indices:\n",
        "  model_lp.constraints_y.add(sum(constr_coeff_A[i][j]*model_lp.y[j] for j in col_indices) <= constr_rhs_b[i])"
      ],
      "execution_count": 15,
      "outputs": []
    },
    {
      "cell_type": "code",
      "metadata": {
        "id": "Ac26PYN5hlss"
      },
      "source": [
        "model_lp.new_objective = Objective(expr = summation(obj_coeff,model_lp.y), sense = maximize)"
      ],
      "execution_count": 16,
      "outputs": []
    },
    {
      "cell_type": "code",
      "metadata": {
        "id": "1rGF9RVeihg0"
      },
      "source": [
        "lb = np.array([0,0,0,0,0,0,0,0,0,0,0])\n",
        "ub = np.array([1,1,1,1,1,1,1,1,1,1,1])\n",
        "for i in col_indices:\n",
        "  model_lp.y[i].setlb(lb[i])\n",
        "  model_lp.y[i].setub(ub[i])"
      ],
      "execution_count": 17,
      "outputs": []
    },
    {
      "cell_type": "code",
      "metadata": {
        "colab": {
          "base_uri": "https://localhost:8080/"
        },
        "id": "ibSQxViPiGiz",
        "outputId": "98b6fa46-966e-4c57-cdaf-892205412bb0"
      },
      "source": [
        "model_lp.pprint()"
      ],
      "execution_count": 18,
      "outputs": [
        {
          "output_type": "stream",
          "text": [
            "2 Set Declarations\n",
            "    constraints_y_index : Size=1, Index=None, Ordered=Insertion\n",
            "        Key  : Dimen : Domain : Size : Members\n",
            "        None :     1 :    Any :   11 : {1, 2, 3, 4, 5, 6, 7, 8, 9, 10, 11}\n",
            "    y_index : Size=1, Index=None, Ordered=False\n",
            "        Key  : Dimen : Domain : Size : Members\n",
            "        None :     1 :    Any :   11 : {0, 1, 2, 3, 4, 5, 6, 7, 8, 9, 10}\n",
            "\n",
            "1 Var Declarations\n",
            "    y : Size=11, Index=y_index\n",
            "        Key : Lower : Value : Upper : Fixed : Stale : Domain\n",
            "          0 :     0 :  None :     1 : False :  True :  Reals\n",
            "          1 :     0 :  None :     1 : False :  True :  Reals\n",
            "          2 :     0 :  None :     1 : False :  True :  Reals\n",
            "          3 :     0 :  None :     1 : False :  True :  Reals\n",
            "          4 :     0 :  None :     1 : False :  True :  Reals\n",
            "          5 :     0 :  None :     1 : False :  True :  Reals\n",
            "          6 :     0 :  None :     1 : False :  True :  Reals\n",
            "          7 :     0 :  None :     1 : False :  True :  Reals\n",
            "          8 :     0 :  None :     1 : False :  True :  Reals\n",
            "          9 :     0 :  None :     1 : False :  True :  Reals\n",
            "         10 :     0 :  None :     1 : False :  True :  Reals\n",
            "\n",
            "1 Objective Declarations\n",
            "    new_objective : Size=1, Index=None, Active=True\n",
            "        Key  : Active : Sense    : Expression\n",
            "        None :   True : maximize : 3*y[0] + 2*y[1] + 6*y[2] + 5*y[3] + 5*y[4] + 4*y[5] + 6*y[6] + 8*y[7] + 8*y[8] + 5*y[9] + 4*y[10]\n",
            "\n",
            "1 Constraint Declarations\n",
            "    constraints_y : Size=11, Index=constraints_y_index, Active=True\n",
            "        Key : Lower : Body                                                                                               : Upper : Active\n",
            "          1 :  -Inf : -3*y[0] - 2*y[1] - 6*y[2] - 5*y[3] - 5*y[4] - 4*y[5] - 6*y[6] - 8*y[7] - 8*y[8] - 5*y[9] - 4*y[10] : -30.0 :   True\n",
            "          2 :  -Inf :                      - y[0] - y[1] - y[2] - y[3] - y[4] - y[5] - y[6] - y[7] - y[8] - y[9] - y[10] :  -5.0 :   True\n",
            "          3 :  -Inf :                        y[0] + y[1] + y[2] + y[3] + y[4] + y[5] + y[6] + y[7] + y[8] + y[9] + y[10] :   9.0 :   True\n",
            "          4 :  -Inf :                                                                                        y[2] + y[7] :   1.0 :   True\n",
            "          5 :  -Inf :                                                                                        y[4] + y[9] :   1.0 :   True\n",
            "          6 :  -Inf :                                                                                        y[2] + y[8] :   1.0 :   True\n",
            "          7 :  -Inf :                                                                                       y[0] - y[10] :   0.0 :   True\n",
            "          8 :  -Inf :                                                                               - y[0] - y[1] - y[2] :  -1.0 :   True\n",
            "          9 :  -Inf :                                                                                 y[0] + y[1] + y[2] :   2.0 :   True\n",
            "         10 :  -Inf :                                                                                        y[5] + y[6] :   1.0 :   True\n",
            "         11 :  -Inf :                                                                                 y[3] + y[6] + y[9] :   2.0 :   True\n",
            "\n",
            "5 Declarations: y_index y constraints_y_index constraints_y new_objective\n"
          ],
          "name": "stdout"
        }
      ]
    },
    {
      "cell_type": "code",
      "metadata": {
        "colab": {
          "base_uri": "https://localhost:8080/"
        },
        "id": "dCzafgCm0zGU",
        "outputId": "7178f66b-a988-483e-de65-8e752aafe510"
      },
      "source": [
        "result_cbc_y = opt_cbc.solve(model_lp)\n",
        "print(result_cbc_y)\n",
        "print('Solver status:', result_cbc_y.solver.status)\n",
        "print('Solver termination condition:',result_cbc_y.solver.termination_condition)"
      ],
      "execution_count": 19,
      "outputs": [
        {
          "output_type": "stream",
          "text": [
            "\n",
            "Problem: \n",
            "- Name: unknown\n",
            "  Lower bound: 41.0\n",
            "  Upper bound: 41.0\n",
            "  Number of objectives: 1\n",
            "  Number of constraints: 12\n",
            "  Number of variables: 12\n",
            "  Number of nonzeros: 11\n",
            "  Sense: maximize\n",
            "Solver: \n",
            "- Status: ok\n",
            "  User time: -1.0\n",
            "  System time: 0.0\n",
            "  Wallclock time: 0.0\n",
            "  Termination condition: optimal\n",
            "  Termination message: Model was solved to optimality (subject to tolerances), and an optimal solution is available.\n",
            "  Statistics: \n",
            "    Branch and bound: \n",
            "      Number of bounded subproblems: None\n",
            "      Number of created subproblems: None\n",
            "    Black box: \n",
            "      Number of iterations: 5\n",
            "  Error rc: 0\n",
            "  Time: 0.030948162078857422\n",
            "Solution: \n",
            "- number of solutions: 0\n",
            "  number of solutions displayed: 0\n",
            "\n",
            "Solver status: ok\n",
            "Solver termination condition: optimal\n"
          ],
          "name": "stdout"
        }
      ]
    },
    {
      "cell_type": "code",
      "metadata": {
        "colab": {
          "base_uri": "https://localhost:8080/"
        },
        "id": "8IKJDR2xPHht",
        "outputId": "ad71c599-8b54-43a4-b959-406511077bf8"
      },
      "source": [
        "print('Objective = ', model_lp.new_objective())\n",
        "\n",
        "print('\\nDecision Variables')\n",
        "for i in col_indices:\n",
        "  print('c[',i,'] = ', model_lp.y[i].value)\n",
        "print('\\nConstraints')\n",
        "model_lp.constraints_y.display()"
      ],
      "execution_count": 20,
      "outputs": [
        {
          "output_type": "stream",
          "text": [
            "Objective =  41.0\n",
            "\n",
            "Decision Variables\n",
            "c[ 0 ] =  1.0\n",
            "c[ 1 ] =  1.0\n",
            "c[ 2 ] =  0.0\n",
            "c[ 3 ] =  1.0\n",
            "c[ 4 ] =  1.0\n",
            "c[ 5 ] =  0.0\n",
            "c[ 6 ] =  1.0\n",
            "c[ 7 ] =  1.0\n",
            "c[ 8 ] =  1.0\n",
            "c[ 9 ] =  0.0\n",
            "c[ 10 ] =  1.0\n",
            "\n",
            "Constraints\n",
            "constraints_y : Size=11\n",
            "    Key : Lower : Body  : Upper\n",
            "      1 :  None : -41.0 : -30.0\n",
            "      2 :  None :  -8.0 :  -5.0\n",
            "      3 :  None :   8.0 :   9.0\n",
            "      4 :  None :   1.0 :   1.0\n",
            "      5 :  None :   1.0 :   1.0\n",
            "      6 :  None :   1.0 :   1.0\n",
            "      7 :  None :   0.0 :   0.0\n",
            "      8 :  None :  -2.0 :  -1.0\n",
            "      9 :  None :   2.0 :   2.0\n",
            "     10 :  None :   1.0 :   1.0\n",
            "     11 :  None :   2.0 :   2.0\n"
          ],
          "name": "stdout"
        }
      ]
    },
    {
      "cell_type": "markdown",
      "metadata": {
        "id": "u-S_XX7QPfp8"
      },
      "source": [
        "##Ans 4 :\n",
        "When $c_i$'s are reals:\n",
        "\n",
        "The value of the objective function is : 41.\n",
        "\n",
        "The values of decision variables are:\n",
        "\n",
        "$c_0=1\\\\c_1=1\\\\c_2=0\\\\c_3=1\\\\c_4=1\\\\c_5=0\\\\c_6=1\\\\c_7=1\\\\c_8=1\\\\c_9=0\\\\c_{10}=1$"
      ]
    },
    {
      "cell_type": "markdown",
      "metadata": {
        "id": "x9jbWljBP3Xa"
      },
      "source": [
        "##Ans 5 :\n",
        "\n",
        "The solution of MILP is the same as that of the LP. This happens because the optimal solution occurs at extreme points which occur at corner points."
      ]
    },
    {
      "cell_type": "markdown",
      "metadata": {
        "id": "fnihHmm82QR4"
      },
      "source": [
        "##Ans 6 :\n",
        "\n",
        "We will change the objective function and change a few constraints accordingly.\n",
        "\n",
        "New Objective Function : $\\text{max   }3c_0+2c_1+6c_2+5c_3+5c_4+4c_5+6c_6+8c_7+8c_8+5c_9+4c_{10}+9c_{11}$\n",
        "\n",
        "Changed Constraints : \n",
        "$\\bullet-3c_0-2c_1-6c_2-5c_3-5c_4-4c_5-6c_6-8c_7-8c_8-5c_9-4c_{10}-9c_{11} \\leq -30\\\\\n",
        "\\bullet-c_1-c_2-c_3-c_4-c_5-c_6-c_7-c_8-c_9-c_{10}-c_{11} \\leq -5\\\\\n",
        "\\bullet c_1+c_2+c_3+c_4+c_5+c_6+c_7+c_8+c_9+c_{10}+c{11}\\leq9$\n",
        "\n",
        "To include the new constraint, we add three constraints :\n",
        "\n",
        "$\\bullet c_7+c_{11}\\leq1\\\\\n",
        "\\bullet c_8+c_{11}\\leq1\\\\\n",
        "\\bullet c_9+c_{11}\\leq1$"
      ]
    },
    {
      "cell_type": "code",
      "metadata": {
        "id": "qPzNqH4Zjmb3"
      },
      "source": [
        "model.c11 = Var(domain = Binary)\n",
        "model.new_objective_q6 = Objective(expr = summation(obj_coeff,model.c) + 9*model.c11, sense = maximize)\n",
        "model.constraints.add(sum(constr_coeff_A[0][i]*model.c[i] for i in col_indices) - 9*model.c11 <= -30)\n",
        "model.constraints.add(sum(constr_coeff_A[1][i]*model.c[i] for i in col_indices) - model.c11 <= -5)\n",
        "model.constraints.add(sum(constr_coeff_A[2][i]*model.c[i] for i in col_indices) + model.c11 <= 9)\n",
        "model.constraints[1].deactivate()\n",
        "model.constraints[2].deactivate()\n",
        "model.constraints[3].deactivate()"
      ],
      "execution_count": 21,
      "outputs": []
    },
    {
      "cell_type": "code",
      "metadata": {
        "id": "Qbprus4rnkZd",
        "colab": {
          "base_uri": "https://localhost:8080/"
        },
        "outputId": "ac606c9e-f434-4516-fa69-81e027b2648d"
      },
      "source": [
        "model.constraints.add(model.c[7] + model.c11 <= 1)\n",
        "model.constraints.add(model.c[8] + model.c11 <= 1)\n",
        "model.constraints.add(model.c[9] + model.c11 <= 1)"
      ],
      "execution_count": 22,
      "outputs": [
        {
          "output_type": "execute_result",
          "data": {
            "text/plain": [
              "<pyomo.core.base.constraint._GeneralConstraintData at 0x7f467194e9f0>"
            ]
          },
          "metadata": {},
          "execution_count": 22
        }
      ]
    },
    {
      "cell_type": "code",
      "metadata": {
        "id": "vsmlqM7yoFJS",
        "colab": {
          "base_uri": "https://localhost:8080/"
        },
        "outputId": "b09ee277-c729-4211-d4a9-fa545446a86b"
      },
      "source": [
        "model.objective.deactivate()\n",
        "model.pprint()"
      ],
      "execution_count": 23,
      "outputs": [
        {
          "output_type": "stream",
          "text": [
            "2 Set Declarations\n",
            "    c_index : Size=1, Index=None, Ordered=False\n",
            "        Key  : Dimen : Domain : Size : Members\n",
            "        None :     1 :    Any :   11 : {0, 1, 2, 3, 4, 5, 6, 7, 8, 9, 10}\n",
            "    constraints_index : Size=1, Index=None, Ordered=Insertion\n",
            "        Key  : Dimen : Domain : Size : Members\n",
            "        None :     1 :    Any :   17 : {1, 2, 3, 4, 5, 6, 7, 8, 9, 10, 11, 12, 13, 14, 15, 16, 17}\n",
            "\n",
            "2 Var Declarations\n",
            "    c : Size=11, Index=c_index\n",
            "        Key : Lower : Value : Upper : Fixed : Stale : Domain\n",
            "          0 :     0 :   1.0 :     1 : False : False : Binary\n",
            "          1 :     0 :   1.0 :     1 : False : False : Binary\n",
            "          2 :     0 :   0.0 :     1 : False : False : Binary\n",
            "          3 :     0 :   1.0 :     1 : False : False : Binary\n",
            "          4 :     0 :   1.0 :     1 : False : False : Binary\n",
            "          5 :     0 :   0.0 :     1 : False : False : Binary\n",
            "          6 :     0 :   1.0 :     1 : False : False : Binary\n",
            "          7 :     0 :   1.0 :     1 : False : False : Binary\n",
            "          8 :     0 :   1.0 :     1 : False : False : Binary\n",
            "          9 :     0 :   0.0 :     1 : False : False : Binary\n",
            "         10 :     0 :   1.0 :     1 : False : False : Binary\n",
            "    c11 : Size=1, Index=None\n",
            "        Key  : Lower : Value : Upper : Fixed : Stale : Domain\n",
            "        None :     0 :  None :     1 : False :  True : Binary\n",
            "\n",
            "2 Objective Declarations\n",
            "    new_objective_q6 : Size=1, Index=None, Active=True\n",
            "        Key  : Active : Sense    : Expression\n",
            "        None :   True : maximize : 3*c[0] + 2*c[1] + 6*c[2] + 5*c[3] + 5*c[4] + 4*c[5] + 6*c[6] + 8*c[7] + 8*c[8] + 5*c[9] + 4*c[10] + 9*c11\n",
            "    objective : Size=1, Index=None, Active=False\n",
            "        Key  : Active : Sense    : Expression\n",
            "        None :  False : maximize : 3*c[0] + 2*c[1] + 6*c[2] + 5*c[3] + 5*c[4] + 4*c[5] + 6*c[6] + 8*c[7] + 8*c[8] + 5*c[9] + 4*c[10]\n",
            "\n",
            "1 Constraint Declarations\n",
            "    constraints : Size=17, Index=constraints_index, Active=True\n",
            "        Key : Lower : Body                                                                                                       : Upper : Active\n",
            "          1 :  -Inf :         -3*c[0] - 2*c[1] - 6*c[2] - 5*c[3] - 5*c[4] - 4*c[5] - 6*c[6] - 8*c[7] - 8*c[8] - 5*c[9] - 4*c[10] : -30.0 :  False\n",
            "          2 :  -Inf :                              - c[0] - c[1] - c[2] - c[3] - c[4] - c[5] - c[6] - c[7] - c[8] - c[9] - c[10] :  -5.0 :  False\n",
            "          3 :  -Inf :                                c[0] + c[1] + c[2] + c[3] + c[4] + c[5] + c[6] + c[7] + c[8] + c[9] + c[10] :   9.0 :  False\n",
            "          4 :  -Inf :                                                                                                c[2] + c[7] :   1.0 :   True\n",
            "          5 :  -Inf :                                                                                                c[4] + c[9] :   1.0 :   True\n",
            "          6 :  -Inf :                                                                                                c[2] + c[8] :   1.0 :   True\n",
            "          7 :  -Inf :                                                                                               c[0] - c[10] :   0.0 :   True\n",
            "          8 :  -Inf :                                                                                       - c[0] - c[1] - c[2] :  -1.0 :   True\n",
            "          9 :  -Inf :                                                                                         c[0] + c[1] + c[2] :   2.0 :   True\n",
            "         10 :  -Inf :                                                                                                c[5] + c[6] :   1.0 :   True\n",
            "         11 :  -Inf :                                                                                         c[3] + c[6] + c[9] :   2.0 :   True\n",
            "         12 :  -Inf : -3*c[0] - 2*c[1] - 6*c[2] - 5*c[3] - 5*c[4] - 4*c[5] - 6*c[6] - 8*c[7] - 8*c[8] - 5*c[9] - 4*c[10] - 9*c11 : -30.0 :   True\n",
            "         13 :  -Inf :                        - c[0] - c[1] - c[2] - c[3] - c[4] - c[5] - c[6] - c[7] - c[8] - c[9] - c[10] - c11 :  -5.0 :   True\n",
            "         14 :  -Inf :                          c[0] + c[1] + c[2] + c[3] + c[4] + c[5] + c[6] + c[7] + c[8] + c[9] + c[10] + c11 :   9.0 :   True\n",
            "         15 :  -Inf :                                                                                                 c[7] + c11 :   1.0 :   True\n",
            "         16 :  -Inf :                                                                                                 c[8] + c11 :   1.0 :   True\n",
            "         17 :  -Inf :                                                                                                 c[9] + c11 :   1.0 :   True\n",
            "\n",
            "7 Declarations: c_index c constraints_index constraints objective c11 new_objective_q6\n"
          ],
          "name": "stdout"
        }
      ]
    },
    {
      "cell_type": "code",
      "metadata": {
        "id": "p4WdG1sToHtX",
        "colab": {
          "base_uri": "https://localhost:8080/"
        },
        "outputId": "31f9d7f5-9511-4dc9-e50a-036247a7abd0"
      },
      "source": [
        "result_cbc_new = opt_cbc.solve(model)\n",
        "print(result_cbc_new)\n",
        "print('Solver status:', result_cbc_new.solver.status)\n",
        "print('Solver termination condition:',result_cbc_new.solver.termination_condition)"
      ],
      "execution_count": 24,
      "outputs": [
        {
          "output_type": "stream",
          "text": [
            "\n",
            "Problem: \n",
            "- Name: unknown\n",
            "  Lower bound: 41.0\n",
            "  Upper bound: 41.0\n",
            "  Number of objectives: 1\n",
            "  Number of constraints: 14\n",
            "  Number of variables: 12\n",
            "  Number of binary variables: 12\n",
            "  Number of integer variables: 12\n",
            "  Number of nonzeros: 12\n",
            "  Sense: maximize\n",
            "Solver: \n",
            "- Status: ok\n",
            "  User time: -1.0\n",
            "  System time: 0.0\n",
            "  Wallclock time: 0.0\n",
            "  Termination condition: optimal\n",
            "  Termination message: Model was solved to optimality (subject to tolerances), and an optimal solution is available.\n",
            "  Statistics: \n",
            "    Branch and bound: \n",
            "      Number of bounded subproblems: 0\n",
            "      Number of created subproblems: 0\n",
            "    Black box: \n",
            "      Number of iterations: 0\n",
            "  Error rc: 0\n",
            "  Time: 0.03268289566040039\n",
            "Solution: \n",
            "- number of solutions: 0\n",
            "  number of solutions displayed: 0\n",
            "\n",
            "Solver status: ok\n",
            "Solver termination condition: optimal\n"
          ],
          "name": "stdout"
        }
      ]
    },
    {
      "cell_type": "code",
      "metadata": {
        "id": "_uHPG_1zofQe",
        "colab": {
          "base_uri": "https://localhost:8080/"
        },
        "outputId": "a5517e49-795d-48c4-c57c-ef9caf6830d6"
      },
      "source": [
        "print('Objective = ', model.new_objective_q6())\n",
        "\n",
        "print('\\nDecision Variables')\n",
        "for i in col_indices:\n",
        "  print('c[',i,'] = ', model.c[i].value)\n",
        "print('c[ 11 ] = ', model.c11.value)\n",
        "print('\\nConstraints')\n",
        "model.constraints.display()"
      ],
      "execution_count": 26,
      "outputs": [
        {
          "output_type": "stream",
          "text": [
            "Objective =  41.0\n",
            "\n",
            "Decision Variables\n",
            "c[ 0 ] =  1.0\n",
            "c[ 1 ] =  1.0\n",
            "c[ 2 ] =  0.0\n",
            "c[ 3 ] =  1.0\n",
            "c[ 4 ] =  1.0\n",
            "c[ 5 ] =  0.0\n",
            "c[ 6 ] =  1.0\n",
            "c[ 7 ] =  1.0\n",
            "c[ 8 ] =  1.0\n",
            "c[ 9 ] =  0.0\n",
            "c[ 10 ] =  1.0\n",
            "c[ 11 ] =  0.0\n",
            "\n",
            "Constraints\n",
            "constraints : Size=17\n",
            "    Key : Lower : Body  : Upper\n",
            "      4 :  None :   1.0 :   1.0\n",
            "      5 :  None :   1.0 :   1.0\n",
            "      6 :  None :   1.0 :   1.0\n",
            "      7 :  None :   0.0 :   0.0\n",
            "      8 :  None :  -2.0 :  -1.0\n",
            "      9 :  None :   2.0 :   2.0\n",
            "     10 :  None :   1.0 :   1.0\n",
            "     11 :  None :   2.0 :   2.0\n",
            "     12 :  None : -41.0 : -30.0\n",
            "     13 :  None :  -8.0 :  -5.0\n",
            "     14 :  None :   8.0 :   9.0\n",
            "     15 :  None :   1.0 :   1.0\n",
            "     16 :  None :   1.0 :   1.0\n",
            "     17 :  None :   0.0 :   1.0\n"
          ],
          "name": "stdout"
        }
      ]
    },
    {
      "cell_type": "markdown",
      "metadata": {
        "id": "E4l17vPW4vEF"
      },
      "source": [
        "##Ans 7 :\n",
        "\n",
        "After the introduction of C11,\n",
        "\n",
        "The value of the objective function is : 41.\n",
        "\n",
        "The values of decision variables are:\n",
        "\n",
        "$c_0=1\\\\c_1=1\\\\c_2=0\\\\c_3=1\\\\c_4=1\\\\c_5=0\\\\c_6=1\\\\c_7=1\\\\c_8=1\\\\c_9=0\\\\c_{10}=1\\\\c_{11}=0$"
      ]
    },
    {
      "cell_type": "code",
      "metadata": {
        "id": "5kWrai6pq_83"
      },
      "source": [
        "model_lp.y11 = Var()"
      ],
      "execution_count": 27,
      "outputs": []
    },
    {
      "cell_type": "code",
      "metadata": {
        "id": "2J6V5kA1raQs"
      },
      "source": [
        "model_lp.new_objective_q8 = Objective(expr = summation(obj_coeff,model_lp.y) + 9*model_lp.y11, sense = maximize)"
      ],
      "execution_count": 28,
      "outputs": []
    },
    {
      "cell_type": "code",
      "metadata": {
        "id": "sjsxS8lp6MO7"
      },
      "source": [
        "model_lp.new_objective.deactivate()"
      ],
      "execution_count": 32,
      "outputs": []
    },
    {
      "cell_type": "code",
      "metadata": {
        "id": "6nv0Jcf2r-8F",
        "colab": {
          "base_uri": "https://localhost:8080/"
        },
        "outputId": "35690a4e-4c67-4484-922d-2cdc322cec01"
      },
      "source": [
        "model_lp.constraints_y.add(sum(constr_coeff_A[0][i]*model_lp.y[i] for i in col_indices) - 9*model_lp.y11 <= -30)\n",
        "model_lp.constraints_y.add(sum(constr_coeff_A[1][i]*model_lp.y[i] for i in col_indices) - model_lp.y11 <= -5)\n",
        "model_lp.constraints_y.add(sum(constr_coeff_A[2][i]*model_lp.y[i] for i in col_indices) + model_lp.y11 <= 9)\n",
        "model_lp.constraints_y[1].deactivate()\n",
        "model_lp.constraints_y[2].deactivate()\n",
        "model_lp.constraints_y[3].deactivate()\n",
        "model_lp.constraints_y.add(model_lp.y[7] + model_lp.y11 <= 1)\n",
        "model_lp.constraints_y.add(model_lp.y[8] + model_lp.y11 <= 1)\n",
        "model_lp.constraints_y.add(model_lp.y[9] + model_lp.y11 <= 1)"
      ],
      "execution_count": 29,
      "outputs": [
        {
          "output_type": "execute_result",
          "data": {
            "text/plain": [
              "<pyomo.core.base.constraint._GeneralConstraintData at 0x7f46716de910>"
            ]
          },
          "metadata": {},
          "execution_count": 29
        }
      ]
    },
    {
      "cell_type": "code",
      "metadata": {
        "id": "fhUOg06fsMKJ",
        "colab": {
          "base_uri": "https://localhost:8080/"
        },
        "outputId": "56177f25-2fd7-4e35-964d-e91eae014f0f"
      },
      "source": [
        "model_lp.pprint()"
      ],
      "execution_count": 33,
      "outputs": [
        {
          "output_type": "stream",
          "text": [
            "2 Set Declarations\n",
            "    constraints_y_index : Size=1, Index=None, Ordered=Insertion\n",
            "        Key  : Dimen : Domain : Size : Members\n",
            "        None :     1 :    Any :   17 : {1, 2, 3, 4, 5, 6, 7, 8, 9, 10, 11, 12, 13, 14, 15, 16, 17}\n",
            "    y_index : Size=1, Index=None, Ordered=False\n",
            "        Key  : Dimen : Domain : Size : Members\n",
            "        None :     1 :    Any :   11 : {0, 1, 2, 3, 4, 5, 6, 7, 8, 9, 10}\n",
            "\n",
            "2 Var Declarations\n",
            "    y : Size=11, Index=y_index\n",
            "        Key : Lower : Value : Upper : Fixed : Stale : Domain\n",
            "          0 :     0 :   1.0 :     1 : False : False :  Reals\n",
            "          1 :     0 :   1.0 :     1 : False : False :  Reals\n",
            "          2 :     0 :   0.0 :     1 : False : False :  Reals\n",
            "          3 :     0 :   1.0 :     1 : False : False :  Reals\n",
            "          4 :     0 :   1.0 :     1 : False : False :  Reals\n",
            "          5 :     0 :   0.0 :     1 : False : False :  Reals\n",
            "          6 :     0 :   1.0 :     1 : False : False :  Reals\n",
            "          7 :     0 :   1.0 :     1 : False : False :  Reals\n",
            "          8 :     0 :   1.0 :     1 : False : False :  Reals\n",
            "          9 :     0 :   0.0 :     1 : False : False :  Reals\n",
            "         10 :     0 :   1.0 :     1 : False : False :  Reals\n",
            "    y11 : Size=1, Index=None\n",
            "        Key  : Lower : Value : Upper : Fixed : Stale : Domain\n",
            "        None :  None :  None :  None : False :  True :  Reals\n",
            "\n",
            "2 Objective Declarations\n",
            "    new_objective : Size=1, Index=None, Active=False\n",
            "        Key  : Active : Sense    : Expression\n",
            "        None :  False : maximize : 3*y[0] + 2*y[1] + 6*y[2] + 5*y[3] + 5*y[4] + 4*y[5] + 6*y[6] + 8*y[7] + 8*y[8] + 5*y[9] + 4*y[10]\n",
            "    new_objective_q8 : Size=1, Index=None, Active=True\n",
            "        Key  : Active : Sense    : Expression\n",
            "        None :   True : maximize : 3*y[0] + 2*y[1] + 6*y[2] + 5*y[3] + 5*y[4] + 4*y[5] + 6*y[6] + 8*y[7] + 8*y[8] + 5*y[9] + 4*y[10] + 9*y11\n",
            "\n",
            "1 Constraint Declarations\n",
            "    constraints_y : Size=17, Index=constraints_y_index, Active=True\n",
            "        Key : Lower : Body                                                                                                       : Upper : Active\n",
            "          1 :  -Inf :         -3*y[0] - 2*y[1] - 6*y[2] - 5*y[3] - 5*y[4] - 4*y[5] - 6*y[6] - 8*y[7] - 8*y[8] - 5*y[9] - 4*y[10] : -30.0 :  False\n",
            "          2 :  -Inf :                              - y[0] - y[1] - y[2] - y[3] - y[4] - y[5] - y[6] - y[7] - y[8] - y[9] - y[10] :  -5.0 :  False\n",
            "          3 :  -Inf :                                y[0] + y[1] + y[2] + y[3] + y[4] + y[5] + y[6] + y[7] + y[8] + y[9] + y[10] :   9.0 :  False\n",
            "          4 :  -Inf :                                                                                                y[2] + y[7] :   1.0 :   True\n",
            "          5 :  -Inf :                                                                                                y[4] + y[9] :   1.0 :   True\n",
            "          6 :  -Inf :                                                                                                y[2] + y[8] :   1.0 :   True\n",
            "          7 :  -Inf :                                                                                               y[0] - y[10] :   0.0 :   True\n",
            "          8 :  -Inf :                                                                                       - y[0] - y[1] - y[2] :  -1.0 :   True\n",
            "          9 :  -Inf :                                                                                         y[0] + y[1] + y[2] :   2.0 :   True\n",
            "         10 :  -Inf :                                                                                                y[5] + y[6] :   1.0 :   True\n",
            "         11 :  -Inf :                                                                                         y[3] + y[6] + y[9] :   2.0 :   True\n",
            "         12 :  -Inf : -3*y[0] - 2*y[1] - 6*y[2] - 5*y[3] - 5*y[4] - 4*y[5] - 6*y[6] - 8*y[7] - 8*y[8] - 5*y[9] - 4*y[10] - 9*y11 : -30.0 :   True\n",
            "         13 :  -Inf :                        - y[0] - y[1] - y[2] - y[3] - y[4] - y[5] - y[6] - y[7] - y[8] - y[9] - y[10] - y11 :  -5.0 :   True\n",
            "         14 :  -Inf :                          y[0] + y[1] + y[2] + y[3] + y[4] + y[5] + y[6] + y[7] + y[8] + y[9] + y[10] + y11 :   9.0 :   True\n",
            "         15 :  -Inf :                                                                                                 y[7] + y11 :   1.0 :   True\n",
            "         16 :  -Inf :                                                                                                 y[8] + y11 :   1.0 :   True\n",
            "         17 :  -Inf :                                                                                                 y[9] + y11 :   1.0 :   True\n",
            "\n",
            "7 Declarations: y_index y constraints_y_index constraints_y new_objective y11 new_objective_q8\n"
          ],
          "name": "stdout"
        }
      ]
    },
    {
      "cell_type": "code",
      "metadata": {
        "id": "batn6lzIt53g",
        "colab": {
          "base_uri": "https://localhost:8080/"
        },
        "outputId": "f3395da4-70b4-4b43-dae6-dff397b265e5"
      },
      "source": [
        "result_cbc_y = opt_cbc.solve(model_lp)\n",
        "print(result_cbc_y)\n",
        "print('Solver status:', result_cbc_y.solver.status)\n",
        "print('Solver termination condition:',result_cbc_y.solver.termination_condition)"
      ],
      "execution_count": 34,
      "outputs": [
        {
          "output_type": "stream",
          "text": [
            "\n",
            "Problem: \n",
            "- Name: unknown\n",
            "  Lower bound: 41.0\n",
            "  Upper bound: 41.0\n",
            "  Number of objectives: 1\n",
            "  Number of constraints: 15\n",
            "  Number of variables: 13\n",
            "  Number of nonzeros: 12\n",
            "  Sense: maximize\n",
            "Solver: \n",
            "- Status: ok\n",
            "  User time: -1.0\n",
            "  System time: 0.0\n",
            "  Wallclock time: 0.0\n",
            "  Termination condition: optimal\n",
            "  Termination message: Model was solved to optimality (subject to tolerances), and an optimal solution is available.\n",
            "  Statistics: \n",
            "    Branch and bound: \n",
            "      Number of bounded subproblems: None\n",
            "      Number of created subproblems: None\n",
            "    Black box: \n",
            "      Number of iterations: 9\n",
            "  Error rc: 0\n",
            "  Time: 0.025120258331298828\n",
            "Solution: \n",
            "- number of solutions: 0\n",
            "  number of solutions displayed: 0\n",
            "\n",
            "Solver status: ok\n",
            "Solver termination condition: optimal\n"
          ],
          "name": "stdout"
        }
      ]
    },
    {
      "cell_type": "code",
      "metadata": {
        "id": "ayXyUM82t6dP",
        "colab": {
          "base_uri": "https://localhost:8080/"
        },
        "outputId": "0cd6b24b-9740-4b0f-fe81-d3b699881217"
      },
      "source": [
        "print('Objective = ', model_lp.new_objective())\n",
        "\n",
        "print('\\nDecision Variables')\n",
        "for i in col_indices:\n",
        "  print('c[',i,'] = ', model_lp.y[i].value)\n",
        "print('c[ 11 ] = ', model_lp.y11.value)\n",
        "print('\\nConstraints')\n",
        "model_lp.constraints_y.display()"
      ],
      "execution_count": 36,
      "outputs": [
        {
          "output_type": "stream",
          "text": [
            "Objective =  41.0\n",
            "\n",
            "Decision Variables\n",
            "c[ 0 ] =  1.0\n",
            "c[ 1 ] =  1.0\n",
            "c[ 2 ] =  0.0\n",
            "c[ 3 ] =  1.0\n",
            "c[ 4 ] =  1.0\n",
            "c[ 5 ] =  0.0\n",
            "c[ 6 ] =  1.0\n",
            "c[ 7 ] =  1.0\n",
            "c[ 8 ] =  1.0\n",
            "c[ 9 ] =  0.0\n",
            "c[ 10 ] =  1.0\n",
            "c[ 11 ] =  0.0\n",
            "\n",
            "Constraints\n",
            "constraints_y : Size=17\n",
            "    Key : Lower : Body  : Upper\n",
            "      4 :  None :   1.0 :   1.0\n",
            "      5 :  None :   1.0 :   1.0\n",
            "      6 :  None :   1.0 :   1.0\n",
            "      7 :  None :   0.0 :   0.0\n",
            "      8 :  None :  -2.0 :  -1.0\n",
            "      9 :  None :   2.0 :   2.0\n",
            "     10 :  None :   1.0 :   1.0\n",
            "     11 :  None :   2.0 :   2.0\n",
            "     12 :  None : -41.0 : -30.0\n",
            "     13 :  None :  -8.0 :  -5.0\n",
            "     14 :  None :   8.0 :   9.0\n",
            "     15 :  None :   1.0 :   1.0\n",
            "     16 :  None :   1.0 :   1.0\n",
            "     17 :  None :   0.0 :   1.0\n"
          ],
          "name": "stdout"
        }
      ]
    },
    {
      "cell_type": "markdown",
      "metadata": {
        "id": "dWL7ZOHH6otv"
      },
      "source": [
        "##Ans 8 :\n",
        "When $c_i$'s are reals and C11 is introduced:\n",
        "\n",
        "The value of the objective function is : 41.\n",
        "\n",
        "The values of decision variables are:\n",
        "\n",
        "$c_0=1\\\\c_1=1\\\\c_2=0\\\\c_3=1\\\\c_4=1\\\\c_5=0\\\\c_6=1\\\\c_7=1\\\\c_8=1\\\\c_9=0\\\\c_{10}=1\\\\c_{11}=0$\n",
        "\n",
        "The values of both the MILP and the LP are same, it happens because the optimal solution occurs at extreme points, which occur at corners."
      ]
    },
    {
      "cell_type": "code",
      "metadata": {
        "id": "SuPkGBCD6fNH"
      },
      "source": [
        ""
      ],
      "execution_count": null,
      "outputs": []
    }
  ]
}