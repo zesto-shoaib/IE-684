{
  "nbformat": 4,
  "nbformat_minor": 0,
  "metadata": {
    "colab": {
      "name": "21i190012_IE507_Lab4_Ex1.ipynb",
      "provenance": [],
      "collapsed_sections": []
    },
    "kernelspec": {
      "name": "python3",
      "display_name": "Python 3"
    },
    "language_info": {
      "name": "python"
    }
  },
  "cells": [
    {
      "cell_type": "markdown",
      "metadata": {
        "id": "m5IWbU0G1jBs"
      },
      "source": [
        "#Exercise 1"
      ]
    },
    {
      "cell_type": "code",
      "metadata": {
        "id": "O4RYbDV6PwLT",
        "colab": {
          "base_uri": "https://localhost:8080/"
        },
        "outputId": "06552a68-3db3-42f3-cda7-5b7724158aa5"
      },
      "source": [
        "!pip install -q pyomo"
      ],
      "execution_count": null,
      "outputs": [
        {
          "output_type": "stream",
          "text": [
            "\u001b[K     |████████████████████████████████| 9.1 MB 4.9 MB/s \n",
            "\u001b[K     |████████████████████████████████| 49 kB 5.2 MB/s \n",
            "\u001b[?25h"
          ],
          "name": "stdout"
        }
      ]
    },
    {
      "cell_type": "code",
      "metadata": {
        "id": "PpnB5sjYSJvx"
      },
      "source": [
        "from pyomo.environ import *"
      ],
      "execution_count": null,
      "outputs": []
    },
    {
      "cell_type": "code",
      "metadata": {
        "id": "F2QTkqTWSbFG"
      },
      "source": [
        "import numpy as np"
      ],
      "execution_count": null,
      "outputs": []
    },
    {
      "cell_type": "code",
      "metadata": {
        "id": "HbQoLezFSc1O"
      },
      "source": [
        "coef = np.loadtxt('/content/lab4_ex1_coef.txt', delimiter = ',')"
      ],
      "execution_count": null,
      "outputs": []
    },
    {
      "cell_type": "code",
      "metadata": {
        "colab": {
          "base_uri": "https://localhost:8080/"
        },
        "id": "QwfI69tSSqIf",
        "outputId": "7fcd8720-c940-4c8a-fe3b-aaad719100c7"
      },
      "source": [
        "print(coef.shape)\n",
        "print('Num rows:',coef.shape[0])\n",
        "print('Num cols:',coef.shape[1])"
      ],
      "execution_count": null,
      "outputs": [
        {
          "output_type": "stream",
          "text": [
            "(6, 7)\n",
            "Num rows: 6\n",
            "Num cols: 7\n"
          ],
          "name": "stdout"
        }
      ]
    },
    {
      "cell_type": "code",
      "metadata": {
        "colab": {
          "base_uri": "https://localhost:8080/"
        },
        "id": "Rsl2RBbOTN82",
        "outputId": "2844a6ba-6ced-4e82-cfc0-2438a9e409b6"
      },
      "source": [
        "print(coef)"
      ],
      "execution_count": null,
      "outputs": [
        {
          "output_type": "stream",
          "text": [
            "[[  0.85   3.75  -8.75  -3.45 -22.38  20.     0.  ]\n",
            " [ -0.7   -3.9   -1.     0.     1.     0.    14.9 ]\n",
            " [  1.     0.     0.    -1.     0.    -1.     0.9 ]\n",
            " [  0.    -3.    -2.     0.     0.    -1.   -51.7 ]\n",
            " [  0.     0.     0.     4.8    9.12   7.2   75.  ]\n",
            " [ -0.8   -1.5    8.    -2.     1.     0.   -27.  ]]\n"
          ],
          "name": "stdout"
        }
      ]
    },
    {
      "cell_type": "code",
      "metadata": {
        "id": "7pi0nUauTRzD"
      },
      "source": [
        "model = ConcreteModel()"
      ],
      "execution_count": null,
      "outputs": []
    },
    {
      "cell_type": "code",
      "metadata": {
        "id": "6IlcCENXTcy6"
      },
      "source": [
        "N = coef.shape[1]-1\n",
        "M = coef.shape[0]-1"
      ],
      "execution_count": null,
      "outputs": []
    },
    {
      "cell_type": "code",
      "metadata": {
        "colab": {
          "base_uri": "https://localhost:8080/"
        },
        "id": "2FHUZxRaTo1s",
        "outputId": "5aa7f2dc-bbfa-41e9-b4d3-958aeb00ed82"
      },
      "source": [
        "obj_coef = coef[0][:-1]\n",
        "print(obj_coef.shape)\n",
        "print(obj_coef)"
      ],
      "execution_count": null,
      "outputs": [
        {
          "output_type": "stream",
          "text": [
            "(6,)\n",
            "[  0.85   3.75  -8.75  -3.45 -22.38  20.  ]\n"
          ],
          "name": "stdout"
        }
      ]
    },
    {
      "cell_type": "code",
      "metadata": {
        "colab": {
          "base_uri": "https://localhost:8080/"
        },
        "id": "BLe2MQIvT2w2",
        "outputId": "e6a34137-0397-49a1-c77e-b3f92e0a5c03"
      },
      "source": [
        "constr_coef = coef[1:,:-1]\n",
        "print(constr_coef.shape)\n",
        "print(constr_coef)"
      ],
      "execution_count": null,
      "outputs": [
        {
          "output_type": "stream",
          "text": [
            "(5, 6)\n",
            "[[-0.7  -3.9  -1.    0.    1.    0.  ]\n",
            " [ 1.    0.    0.   -1.    0.   -1.  ]\n",
            " [ 0.   -3.   -2.    0.    0.   -1.  ]\n",
            " [ 0.    0.    0.    4.8   9.12  7.2 ]\n",
            " [-0.8  -1.5   8.   -2.    1.    0.  ]]\n"
          ],
          "name": "stdout"
        }
      ]
    },
    {
      "cell_type": "code",
      "metadata": {
        "colab": {
          "base_uri": "https://localhost:8080/"
        },
        "id": "8hIPaxScUJps",
        "outputId": "aef3d471-caf6-4b84-9e57-a962e16792a0"
      },
      "source": [
        "constr_rhs = coef[1:,-1]\n",
        "print(constr_rhs.shape)\n",
        "print(constr_rhs)"
      ],
      "execution_count": null,
      "outputs": [
        {
          "output_type": "stream",
          "text": [
            "(5,)\n",
            "[ 14.9   0.9 -51.7  75.  -27. ]\n"
          ],
          "name": "stdout"
        }
      ]
    },
    {
      "cell_type": "code",
      "metadata": {
        "id": "LIqz3uLLUzmJ"
      },
      "source": [
        "lower_bound = 0\n",
        "upper_bound = np.inf"
      ],
      "execution_count": null,
      "outputs": []
    },
    {
      "cell_type": "code",
      "metadata": {
        "id": "r7FP8hXWVNbP"
      },
      "source": [
        "col_indices = np.arange(N)\n",
        "model.x = Var(col_indices)"
      ],
      "execution_count": null,
      "outputs": []
    },
    {
      "cell_type": "code",
      "metadata": {
        "id": "qNZP2e2QVVvy"
      },
      "source": [
        "row_indices = np.arange(M)\n",
        "model.constraints = ConstraintList()"
      ],
      "execution_count": null,
      "outputs": []
    },
    {
      "cell_type": "code",
      "metadata": {
        "id": "ImnXU_8bVixn"
      },
      "source": [
        "for i in row_indices:\n",
        "  model.constraints.add(summation(constr_coef[i],model.x)<=constr_rhs[i])"
      ],
      "execution_count": null,
      "outputs": []
    },
    {
      "cell_type": "code",
      "metadata": {
        "id": "uuHCmdd5V05G"
      },
      "source": [
        "for j in col_indices:\n",
        "  model.x[j].setlb(lower_bound)\n",
        "  model.x[j].setub(upper_bound)"
      ],
      "execution_count": null,
      "outputs": []
    },
    {
      "cell_type": "code",
      "metadata": {
        "id": "GM72lRPOWDXS"
      },
      "source": [
        "model.objective = Objective(expr = summation(obj_coef,model.x),sense = maximize)"
      ],
      "execution_count": null,
      "outputs": []
    },
    {
      "cell_type": "code",
      "metadata": {
        "colab": {
          "base_uri": "https://localhost:8080/"
        },
        "id": "b_buElgMWS2-",
        "outputId": "a0a13ff6-981c-490d-a7c1-7a1d5238bcc5"
      },
      "source": [
        "model.pprint()"
      ],
      "execution_count": null,
      "outputs": [
        {
          "output_type": "stream",
          "text": [
            "2 Set Declarations\n",
            "    constraints_index : Size=1, Index=None, Ordered=Insertion\n",
            "        Key  : Dimen : Domain : Size : Members\n",
            "        None :     1 :    Any :    5 : {1, 2, 3, 4, 5}\n",
            "    x_index : Size=1, Index=None, Ordered=False\n",
            "        Key  : Dimen : Domain : Size : Members\n",
            "        None :     1 :    Any :    6 : {0, 1, 2, 3, 4, 5}\n",
            "\n",
            "1 Var Declarations\n",
            "    x : Size=6, Index=x_index\n",
            "        Key : Lower : Value : Upper : Fixed : Stale : Domain\n",
            "          0 :     0 :  None :   inf : False :  True :  Reals\n",
            "          1 :     0 :  None :   inf : False :  True :  Reals\n",
            "          2 :     0 :  None :   inf : False :  True :  Reals\n",
            "          3 :     0 :  None :   inf : False :  True :  Reals\n",
            "          4 :     0 :  None :   inf : False :  True :  Reals\n",
            "          5 :     0 :  None :   inf : False :  True :  Reals\n",
            "\n",
            "1 Objective Declarations\n",
            "    objective : Size=1, Index=None, Active=True\n",
            "        Key  : Active : Sense    : Expression\n",
            "        None :   True : maximize : 0.85*x[0] + 3.75*x[1] - 8.75*x[2] - 3.45*x[3] - 22.38*x[4] + 20.0*x[5]\n",
            "\n",
            "1 Constraint Declarations\n",
            "    constraints : Size=5, Index=constraints_index, Active=True\n",
            "        Key : Lower : Body                                               : Upper : Active\n",
            "          1 :  -Inf :                - 0.7*x[0] - 3.9*x[1] - x[2] + x[4] :  14.9 :   True\n",
            "          2 :  -Inf :                                 x[0] - x[3] - x[5] :   0.9 :   True\n",
            "          3 :  -Inf :                       - 3.0*x[1] - 2.0*x[2] - x[5] : -51.7 :   True\n",
            "          4 :  -Inf :                    4.8*x[3] + 9.12*x[4] + 7.2*x[5] :  75.0 :   True\n",
            "          5 :  -Inf : - 0.8*x[0] - 1.5*x[1] + 8.0*x[2] - 2.0*x[3] + x[4] : -27.0 :   True\n",
            "\n",
            "5 Declarations: x_index x constraints_index constraints objective\n"
          ],
          "name": "stdout"
        }
      ]
    },
    {
      "cell_type": "code",
      "metadata": {
        "colab": {
          "base_uri": "https://localhost:8080/"
        },
        "id": "EcZd8uSqW3l3",
        "outputId": "e3a24893-ccdd-4260-f74d-ba9f76286d87"
      },
      "source": [
        "!apt-get install -y -qq coinor-cbc"
      ],
      "execution_count": null,
      "outputs": [
        {
          "output_type": "stream",
          "text": [
            "Selecting previously unselected package coinor-libcoinutils3v5.\n",
            "(Reading database ... 148486 files and directories currently installed.)\n",
            "Preparing to unpack .../0-coinor-libcoinutils3v5_2.10.14+repack1-1_amd64.deb ...\n",
            "Unpacking coinor-libcoinutils3v5 (2.10.14+repack1-1) ...\n",
            "Selecting previously unselected package coinor-libosi1v5.\n",
            "Preparing to unpack .../1-coinor-libosi1v5_0.107.9+repack1-1_amd64.deb ...\n",
            "Unpacking coinor-libosi1v5 (0.107.9+repack1-1) ...\n",
            "Selecting previously unselected package coinor-libclp1.\n",
            "Preparing to unpack .../2-coinor-libclp1_1.16.11+repack1-1_amd64.deb ...\n",
            "Unpacking coinor-libclp1 (1.16.11+repack1-1) ...\n",
            "Selecting previously unselected package coinor-libcgl1.\n",
            "Preparing to unpack .../3-coinor-libcgl1_0.59.10+repack1-1_amd64.deb ...\n",
            "Unpacking coinor-libcgl1 (0.59.10+repack1-1) ...\n",
            "Selecting previously unselected package coinor-libcbc3.\n",
            "Preparing to unpack .../4-coinor-libcbc3_2.9.9+repack1-1_amd64.deb ...\n",
            "Unpacking coinor-libcbc3 (2.9.9+repack1-1) ...\n",
            "Selecting previously unselected package coinor-cbc.\n",
            "Preparing to unpack .../5-coinor-cbc_2.9.9+repack1-1_amd64.deb ...\n",
            "Unpacking coinor-cbc (2.9.9+repack1-1) ...\n",
            "Setting up coinor-libcoinutils3v5 (2.10.14+repack1-1) ...\n",
            "Setting up coinor-libosi1v5 (0.107.9+repack1-1) ...\n",
            "Setting up coinor-libclp1 (1.16.11+repack1-1) ...\n",
            "Setting up coinor-libcgl1 (0.59.10+repack1-1) ...\n",
            "Setting up coinor-libcbc3 (2.9.9+repack1-1) ...\n",
            "Setting up coinor-cbc (2.9.9+repack1-1) ...\n",
            "Processing triggers for man-db (2.8.3-2ubuntu0.1) ...\n",
            "Processing triggers for libc-bin (2.27-3ubuntu1.2) ...\n",
            "/sbin/ldconfig.real: /usr/local/lib/python3.7/dist-packages/ideep4py/lib/libmkldnn.so.0 is not a symbolic link\n",
            "\n"
          ],
          "name": "stdout"
        }
      ]
    },
    {
      "cell_type": "code",
      "metadata": {
        "id": "BQiJg42NXBFN"
      },
      "source": [
        "opt_cbc = SolverFactory('cbc')"
      ],
      "execution_count": null,
      "outputs": []
    },
    {
      "cell_type": "code",
      "metadata": {
        "colab": {
          "base_uri": "https://localhost:8080/"
        },
        "id": "ig_fq4ffXGMd",
        "outputId": "78af66cf-f949-4660-ba9f-0c3392c148f7"
      },
      "source": [
        "result = opt_cbc.solve(model)\n",
        "print('Solver status:', result.solver.status)\n",
        "print('Solver termination condition:',result.solver.termination_condition)"
      ],
      "execution_count": null,
      "outputs": [
        {
          "output_type": "stream",
          "text": [
            "WARNING: Loading a SolverResults object with a warning status into\n",
            "    model.name=\"unknown\";\n",
            "      - termination condition: unbounded\n",
            "      - message from solver: <undefined>\n",
            "Solver status: warning\n",
            "Solver termination condition: unbounded\n"
          ],
          "name": "stdout"
        }
      ]
    },
    {
      "cell_type": "markdown",
      "metadata": {
        "id": "sCngq8tWYP0L"
      },
      "source": [
        "## Ans 7 :\n",
        "\n",
        "The Solver Status gives a warning and the Solver Termination Condition comes out to be unbounded.\n",
        "This happens because there is no upperbound on the variables and we are maximising the problem."
      ]
    },
    {
      "cell_type": "code",
      "metadata": {
        "id": "anITQh_oXJoX"
      },
      "source": [
        "model.objective.set_sense(minimize)"
      ],
      "execution_count": null,
      "outputs": []
    },
    {
      "cell_type": "code",
      "metadata": {
        "colab": {
          "base_uri": "https://localhost:8080/"
        },
        "id": "Msj49r2oXYKF",
        "outputId": "f07eed82-2e43-49c6-b469-73a9188ef47a"
      },
      "source": [
        "model.pprint()"
      ],
      "execution_count": null,
      "outputs": [
        {
          "output_type": "stream",
          "text": [
            "2 Set Declarations\n",
            "    constraints_index : Size=1, Index=None, Ordered=Insertion\n",
            "        Key  : Dimen : Domain : Size : Members\n",
            "        None :     1 :    Any :    5 : {1, 2, 3, 4, 5}\n",
            "    x_index : Size=1, Index=None, Ordered=False\n",
            "        Key  : Dimen : Domain : Size : Members\n",
            "        None :     1 :    Any :    6 : {0, 1, 2, 3, 4, 5}\n",
            "\n",
            "1 Var Declarations\n",
            "    x : Size=6, Index=x_index\n",
            "        Key : Lower : Value : Upper : Fixed : Stale : Domain\n",
            "          0 :     0 :  None :   inf : False :  True :  Reals\n",
            "          1 :     0 :  None :   inf : False :  True :  Reals\n",
            "          2 :     0 :  None :   inf : False :  True :  Reals\n",
            "          3 :     0 :  None :   inf : False :  True :  Reals\n",
            "          4 :     0 :  None :   inf : False :  True :  Reals\n",
            "          5 :     0 :  None :   inf : False :  True :  Reals\n",
            "\n",
            "1 Objective Declarations\n",
            "    objective : Size=1, Index=None, Active=True\n",
            "        Key  : Active : Sense    : Expression\n",
            "        None :   True : minimize : 0.85*x[0] + 3.75*x[1] - 8.75*x[2] - 3.45*x[3] - 22.38*x[4] + 20.0*x[5]\n",
            "\n",
            "1 Constraint Declarations\n",
            "    constraints : Size=5, Index=constraints_index, Active=True\n",
            "        Key : Lower : Body                                               : Upper : Active\n",
            "          1 :  -Inf :                - 0.7*x[0] - 3.9*x[1] - x[2] + x[4] :  14.9 :   True\n",
            "          2 :  -Inf :                                 x[0] - x[3] - x[5] :   0.9 :   True\n",
            "          3 :  -Inf :                       - 3.0*x[1] - 2.0*x[2] - x[5] : -51.7 :   True\n",
            "          4 :  -Inf :                    4.8*x[3] + 9.12*x[4] + 7.2*x[5] :  75.0 :   True\n",
            "          5 :  -Inf : - 0.8*x[0] - 1.5*x[1] + 8.0*x[2] - 2.0*x[3] + x[4] : -27.0 :   True\n",
            "\n",
            "5 Declarations: x_index x constraints_index constraints objective\n"
          ],
          "name": "stdout"
        }
      ]
    },
    {
      "cell_type": "code",
      "metadata": {
        "colab": {
          "base_uri": "https://localhost:8080/"
        },
        "id": "jwq_aVlIXZ6X",
        "outputId": "2febaa4e-ef3f-410c-cc44-5fa6715d1624"
      },
      "source": [
        "result = opt_cbc.solve(model)\n",
        "print('Solver status:', result.solver.status)\n",
        "print('Solver termination condition:',result.solver.termination_condition)"
      ],
      "execution_count": null,
      "outputs": [
        {
          "output_type": "stream",
          "text": [
            "Solver status: ok\n",
            "Solver termination condition: optimal\n"
          ],
          "name": "stdout"
        }
      ]
    },
    {
      "cell_type": "code",
      "metadata": {
        "colab": {
          "base_uri": "https://localhost:8080/"
        },
        "id": "IeRncspRXeDX",
        "outputId": "0cc0b45a-1cdf-4af1-b407-755fd2ef3fee"
      },
      "source": [
        "print('Objective = ', model.objective())\n",
        "\n",
        "print('\\nDecision Variables')\n",
        "for i in col_indices:\n",
        "  print('x[',i,'] = ', model.x[i].value)\n",
        "\n",
        "print('\\nConstraints')\n",
        "model.constraints.display()"
      ],
      "execution_count": null,
      "outputs": [
        {
          "output_type": "stream",
          "text": [
            "Objective =  -97.02184239599997\n",
            "\n",
            "Decision Variables\n",
            "x[ 0 ] =  0.9\n",
            "x[ 1 ] =  23.002456\n",
            "x[ 2 ] =  0.0\n",
            "x[ 3 ] =  0.0\n",
            "x[ 4 ] =  8.2236842\n",
            "x[ 5 ] =  0.0\n",
            "\n",
            "Constraints\n",
            "constraints : Size=5\n",
            "    Key : Lower : Body                : Upper\n",
            "      1 :  None :         -82.1158942 :  14.9\n",
            "      2 :  None :                 0.9 :   0.9\n",
            "      3 :  None :          -69.007368 : -51.7\n",
            "      4 :  None :   74.99999990399999 :  75.0\n",
            "      5 :  None : -26.999999799999998 : -27.0\n"
          ],
          "name": "stdout"
        }
      ]
    },
    {
      "cell_type": "markdown",
      "metadata": {
        "id": "vqk-Y8_hYk1G"
      },
      "source": [
        "##Ans 9 :\n",
        "\n",
        "To get an optimal value we change the sense from maximization to minimization.\n",
        "\n",
        "The optimal objective function value is : -97.02184239599997\n",
        "\n",
        "The values of decision variables are as follows:\n",
        "\n",
        "$x_1 = 0.9\\\\x_2 = 23.002456\\\\x_3 = 0.0\\\\x_4 = 0.0\\\\x_5 = 8.2236842\\\\x_6 = 0.0$\n",
        "\n",
        "The constraint 1 : $-0.7x_1-3.9x_2-x_3+x_5\\leq14.9$ is equal to -82.1158942 and hence is not satisfied to equality.\n",
        "\n",
        "The constraint 2 : $x_1-x_4-x_6\\leq0.9$ is equal to 0.9 and hence is satisfied to equality.\n",
        "\n",
        "The constraint 3 : $-3x_2-2x_3-x_6\\leq-51.7$ is equal to -69.007368 and hence is not satisfied to equality.\n",
        "\n",
        "The constraint 4 : $4.8x_4+9.12x_5+7.2x_6\\leq75$ is equal to 74.9999 and hence is not satisfied to equality.\n",
        "\n",
        "The constraint 5 : $-0.8x_1-1.5x_2+8x_3-2x_4+x_5\\leq-27$ is equal to -26.9999 and hence is not satisfied to equality."
      ]
    },
    {
      "cell_type": "code",
      "metadata": {
        "id": "kiOTAAptXog5"
      },
      "source": [
        ""
      ],
      "execution_count": null,
      "outputs": []
    }
  ]
}