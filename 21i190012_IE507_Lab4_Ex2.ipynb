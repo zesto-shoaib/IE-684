{
  "nbformat": 4,
  "nbformat_minor": 0,
  "metadata": {
    "colab": {
      "name": "21i190012_IE507_Lab4_Ex2.ipynb",
      "provenance": [],
      "collapsed_sections": []
    },
    "kernelspec": {
      "name": "python3",
      "display_name": "Python 3"
    },
    "language_info": {
      "name": "python"
    }
  },
  "cells": [
    {
      "cell_type": "markdown",
      "metadata": {
        "id": "vrpftqBX1lHu"
      },
      "source": [
        "#Exercise 2"
      ]
    },
    {
      "cell_type": "code",
      "metadata": {
        "id": "iQDflXd8bpP9"
      },
      "source": [
        "!pip install -q pyomo"
      ],
      "execution_count": null,
      "outputs": []
    },
    {
      "cell_type": "code",
      "metadata": {
        "id": "LH3Jx4pWb6RJ"
      },
      "source": [
        "from pyomo.environ import *"
      ],
      "execution_count": null,
      "outputs": []
    },
    {
      "cell_type": "code",
      "metadata": {
        "id": "mSO9d7QCcFR6"
      },
      "source": [
        "import numpy as np"
      ],
      "execution_count": null,
      "outputs": []
    },
    {
      "cell_type": "code",
      "metadata": {
        "id": "tyTF0QrpcGsS"
      },
      "source": [
        "coef = np.loadtxt('/content/lab4_ex2_lp_ip_coef.txt', delimiter = ',')"
      ],
      "execution_count": null,
      "outputs": []
    },
    {
      "cell_type": "code",
      "metadata": {
        "colab": {
          "base_uri": "https://localhost:8080/"
        },
        "id": "yJaW1B2PcR2F",
        "outputId": "a4a878a3-4d3c-4708-9bf9-5d840e23bb16"
      },
      "source": [
        "print(coef.shape)\n",
        "print('Num rows:',coef.shape[0])\n",
        "print('Num cols:',coef.shape[1])"
      ],
      "execution_count": null,
      "outputs": [
        {
          "output_type": "stream",
          "text": [
            "(6, 501)\n",
            "Num rows: 6\n",
            "Num cols: 501\n"
          ],
          "name": "stdout"
        }
      ]
    },
    {
      "cell_type": "code",
      "metadata": {
        "id": "KbT-zQcvcT06"
      },
      "source": [
        "model = ConcreteModel()"
      ],
      "execution_count": null,
      "outputs": []
    },
    {
      "cell_type": "code",
      "metadata": {
        "id": "m5BETjfZcckT"
      },
      "source": [
        "N = coef.shape[1]-1\n",
        "M = coef.shape[0]-1"
      ],
      "execution_count": null,
      "outputs": []
    },
    {
      "cell_type": "code",
      "metadata": {
        "colab": {
          "base_uri": "https://localhost:8080/"
        },
        "id": "k4g8Bylucf2M",
        "outputId": "473aaccf-d8d0-4b3f-9889-cee7ab63d639"
      },
      "source": [
        "obj_coef = coef[0][:-1]\n",
        "print(obj_coef.shape)"
      ],
      "execution_count": null,
      "outputs": [
        {
          "output_type": "stream",
          "text": [
            "(500,)\n"
          ],
          "name": "stdout"
        }
      ]
    },
    {
      "cell_type": "code",
      "metadata": {
        "colab": {
          "base_uri": "https://localhost:8080/"
        },
        "id": "ZSFBdmjdciuM",
        "outputId": "c02d38b7-3174-4fa2-fea3-7e90d16a4e3c"
      },
      "source": [
        "constr_coef = coef[1:,:-1]\n",
        "print(constr_coef.shape)"
      ],
      "execution_count": null,
      "outputs": [
        {
          "output_type": "stream",
          "text": [
            "(5, 500)\n"
          ],
          "name": "stdout"
        }
      ]
    },
    {
      "cell_type": "code",
      "metadata": {
        "colab": {
          "base_uri": "https://localhost:8080/"
        },
        "id": "reEoEebxcsel",
        "outputId": "3b354947-52bd-42f3-a2e6-882487bf8e65"
      },
      "source": [
        "constr_rhs = coef[1:,-1]\n",
        "print(constr_rhs.shape)"
      ],
      "execution_count": null,
      "outputs": [
        {
          "output_type": "stream",
          "text": [
            "(5,)\n"
          ],
          "name": "stdout"
        }
      ]
    },
    {
      "cell_type": "code",
      "metadata": {
        "id": "lWF5ULlmcykv"
      },
      "source": [
        "col_indices = np.arange(N)\n",
        "model.x = Var(col_indices, domain = Binary)"
      ],
      "execution_count": null,
      "outputs": []
    },
    {
      "cell_type": "code",
      "metadata": {
        "id": "jjh1kXyjc7Vv"
      },
      "source": [
        "row_indices = np.arange(M)\n",
        "model.constraints = ConstraintList()"
      ],
      "execution_count": null,
      "outputs": []
    },
    {
      "cell_type": "code",
      "metadata": {
        "id": "wKByMXvNc9ta"
      },
      "source": [
        "for i in row_indices:\n",
        "  model.constraints.add(summation(constr_coef[i],model.x)<=constr_rhs[i])"
      ],
      "execution_count": null,
      "outputs": []
    },
    {
      "cell_type": "code",
      "metadata": {
        "id": "KKSkpOi_dDey"
      },
      "source": [
        "model.objective = Objective(expr = summation(obj_coef,model.x),sense = maximize)"
      ],
      "execution_count": null,
      "outputs": []
    },
    {
      "cell_type": "code",
      "metadata": {
        "id": "sD7hUCRTdGue"
      },
      "source": [
        "!apt-get install -y -qq coinor-cbc"
      ],
      "execution_count": null,
      "outputs": []
    },
    {
      "cell_type": "code",
      "metadata": {
        "id": "W0S6SD3BdNw4"
      },
      "source": [
        "opt_cbc = SolverFactory('cbc')"
      ],
      "execution_count": null,
      "outputs": []
    },
    {
      "cell_type": "code",
      "metadata": {
        "colab": {
          "base_uri": "https://localhost:8080/"
        },
        "id": "ibPF7WskdRrc",
        "outputId": "a64ed885-dbef-45c2-ac2d-1bf07259ece9"
      },
      "source": [
        "result_x = opt_cbc.solve(model)\n",
        "print('Solver status:', result_x.solver.status)\n",
        "print('Solver termination condition:',result_x.solver.termination_condition)"
      ],
      "execution_count": null,
      "outputs": [
        {
          "output_type": "stream",
          "text": [
            "Solver status: ok\n",
            "Solver termination condition: optimal\n"
          ],
          "name": "stdout"
        }
      ]
    },
    {
      "cell_type": "code",
      "metadata": {
        "colab": {
          "base_uri": "https://localhost:8080/"
        },
        "id": "m4NlMgVLdT_T",
        "outputId": "3bdda733-d7b1-446e-e88e-2f39084725fc"
      },
      "source": [
        "print('Objective = ', model.objective())"
      ],
      "execution_count": null,
      "outputs": [
        {
          "output_type": "stream",
          "text": [
            "Objective =  295828.0\n"
          ],
          "name": "stdout"
        }
      ]
    },
    {
      "cell_type": "markdown",
      "metadata": {
        "id": "DHlHoJsE1sKJ"
      },
      "source": [
        "#Ans 3 :\n",
        "\n",
        "The optimal value of the objective function is : 295828"
      ]
    },
    {
      "cell_type": "code",
      "metadata": {
        "colab": {
          "base_uri": "https://localhost:8080/"
        },
        "id": "_XaaKA6IdxzK",
        "outputId": "37b7aed6-5dfc-439c-e73f-59271b62e2ab"
      },
      "source": [
        "print('Solver time:',result_x.solver.time)"
      ],
      "execution_count": null,
      "outputs": [
        {
          "output_type": "stream",
          "text": [
            "Solver time: 65.68236517906189\n"
          ],
          "name": "stdout"
        }
      ]
    },
    {
      "cell_type": "markdown",
      "metadata": {
        "id": "L0AyHP2R2GT5"
      },
      "source": [
        "##Ans 4 :\n",
        "\n",
        "The time taken to solve the milp is 65.68 seconds"
      ]
    },
    {
      "cell_type": "code",
      "metadata": {
        "id": "nUhKe7OB1PMg"
      },
      "source": [
        "model_y = ConcreteModel()\n",
        "model_y.y = Var(col_indices)\n",
        "model_y.objective_y = Objective(expr = summation(obj_coef,model_y.y),sense = maximize)\n",
        "model_y.constraints_y = ConstraintList()\n",
        "for i in row_indices:\n",
        "  model_y.constraints_y.add(summation(constr_coef[i],model_y.y)<=constr_rhs[i])\n",
        "lower_bound = 0\n",
        "upper_bound = 1\n",
        "for j in col_indices:\n",
        "  model_y.y[j].setlb(lower_bound)\n",
        "  model_y.y[j].setub(upper_bound)"
      ],
      "execution_count": null,
      "outputs": []
    },
    {
      "cell_type": "code",
      "metadata": {
        "colab": {
          "base_uri": "https://localhost:8080/"
        },
        "id": "XFda_pzmvdIh",
        "outputId": "6cbfe666-26f9-403c-bb02-7191b5309111"
      },
      "source": [
        "result_y = opt_cbc.solve(model_y)\n",
        "print('Solver status:', result_y.solver.status)\n",
        "print('Solver termination condition:',result_y.solver.termination_condition)"
      ],
      "execution_count": null,
      "outputs": [
        {
          "output_type": "stream",
          "text": [
            "Solver status: ok\n",
            "Solver termination condition: optimal\n"
          ],
          "name": "stdout"
        }
      ]
    },
    {
      "cell_type": "code",
      "metadata": {
        "colab": {
          "base_uri": "https://localhost:8080/"
        },
        "id": "IahY1htPwq_2",
        "outputId": "66f37810-70a2-4433-faa6-14d410c616b0"
      },
      "source": [
        "print('Objective = ', model_y.objective_y())"
      ],
      "execution_count": null,
      "outputs": [
        {
          "output_type": "stream",
          "text": [
            "Objective =  295896.37697236\n"
          ],
          "name": "stdout"
        }
      ]
    },
    {
      "cell_type": "markdown",
      "metadata": {
        "id": "ChnHdf662QGb"
      },
      "source": [
        "##Ans 5 :\n",
        "\n",
        "The optimal value of the objective function in the case of LP is : 295896.377"
      ]
    },
    {
      "cell_type": "code",
      "metadata": {
        "colab": {
          "base_uri": "https://localhost:8080/"
        },
        "id": "pvpzjntAxR4Y",
        "outputId": "4e7f847e-3e13-4201-8303-b09c7c4f832e"
      },
      "source": [
        "print('Solver time:',result_y.solver.time)"
      ],
      "execution_count": null,
      "outputs": [
        {
          "output_type": "stream",
          "text": [
            "Solver time: 0.024901628494262695\n"
          ],
          "name": "stdout"
        }
      ]
    },
    {
      "cell_type": "markdown",
      "metadata": {
        "id": "ITVWAQHn2f0Q"
      },
      "source": [
        "##Ans 6 :\n",
        "\n",
        "The time taken to solve the LP is 0.0249 seconds.\n",
        "\n",
        "The time taken to solve the LP is way less than the time taken to solve the MILP.\n",
        "295828, 295896\n",
        "The optimal value for the LP is 295896.377 whereas for the MILP is 295828.\n",
        "\n"
      ]
    },
    {
      "cell_type": "code",
      "metadata": {
        "colab": {
          "base_uri": "https://localhost:8080/"
        },
        "id": "2zq0dzTux_IL",
        "outputId": "c822286a-3f77-4113-9457-f2d1647e9b2d"
      },
      "source": [
        "print(result_x.solver.statistics.branch_and_bound)"
      ],
      "execution_count": null,
      "outputs": [
        {
          "output_type": "stream",
          "text": [
            "\n",
            "Number of bounded subproblems: 347044\n",
            "Number of created subproblems: 347044\n",
            "\n"
          ],
          "name": "stdout"
        }
      ]
    },
    {
      "cell_type": "code",
      "metadata": {
        "colab": {
          "base_uri": "https://localhost:8080/"
        },
        "id": "DrmAYuiEyPy6",
        "outputId": "82d836e9-8930-479a-bc70-655908e27204"
      },
      "source": [
        "print(result_y.solver.statistics.branch_and_bound)"
      ],
      "execution_count": null,
      "outputs": [
        {
          "output_type": "stream",
          "text": [
            "\n",
            "Number of bounded subproblems: None\n",
            "Number of created subproblems: None\n",
            "\n"
          ],
          "name": "stdout"
        }
      ]
    },
    {
      "cell_type": "markdown",
      "metadata": {
        "id": "1Y1s9A3G3RuE"
      },
      "source": [
        "##Ans 7 :\n",
        "\n",
        "The statistics printed in the branch and bound section of MILP is :\n",
        "\n",
        "Number of bounded subproblems: 347044\n",
        "\n",
        "Number of created subproblems: 347044\n",
        "\n",
        "The statistics printed in the branch and bound section of LP is :\n",
        "\n",
        "Number of bounded subproblems: None\n",
        "\n",
        "Number of created subproblems: None"
      ]
    }
  ]
}