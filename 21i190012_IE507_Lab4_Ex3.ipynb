{
  "nbformat": 4,
  "nbformat_minor": 0,
  "metadata": {
    "colab": {
      "name": "21i190012_IE507_Lab4_Ex3.ipynb",
      "provenance": [],
      "collapsed_sections": []
    },
    "kernelspec": {
      "name": "python3",
      "display_name": "Python 3"
    },
    "language_info": {
      "name": "python"
    }
  },
  "cells": [
    {
      "cell_type": "code",
      "metadata": {
        "id": "BjoQRtXp1zNJ"
      },
      "source": [
        "!pip install -q pyomo"
      ],
      "execution_count": null,
      "outputs": []
    },
    {
      "cell_type": "code",
      "metadata": {
        "id": "8RnmfJSk45WS"
      },
      "source": [
        "from pyomo.environ import *"
      ],
      "execution_count": null,
      "outputs": []
    },
    {
      "cell_type": "code",
      "metadata": {
        "id": "Zxylf5SJ49or"
      },
      "source": [
        "import numpy as np"
      ],
      "execution_count": null,
      "outputs": []
    },
    {
      "cell_type": "code",
      "metadata": {
        "id": "HZI00aOq4_ke"
      },
      "source": [
        "import pandas as pd"
      ],
      "execution_count": null,
      "outputs": []
    },
    {
      "cell_type": "code",
      "metadata": {
        "id": "Tsr8I5Cx5WOl"
      },
      "source": [
        "data_csvfile = pd.read_csv('/content/lab4_ex3.csv')"
      ],
      "execution_count": null,
      "outputs": []
    },
    {
      "cell_type": "code",
      "metadata": {
        "colab": {
          "base_uri": "https://localhost:8080/"
        },
        "id": "HbL6uOyV5oec",
        "outputId": "8b65d809-e9e1-4805-a461-6f15e54739e1"
      },
      "source": [
        "print(type(data_csvfile))"
      ],
      "execution_count": null,
      "outputs": [
        {
          "output_type": "stream",
          "text": [
            "<class 'pandas.core.frame.DataFrame'>\n"
          ],
          "name": "stdout"
        }
      ]
    },
    {
      "cell_type": "code",
      "metadata": {
        "colab": {
          "base_uri": "https://localhost:8080/"
        },
        "id": "6KxHOW3v5srH",
        "outputId": "0d46284b-90cd-4918-f07c-4bb562ab25c0"
      },
      "source": [
        "data_csvfile.columns"
      ],
      "execution_count": null,
      "outputs": [
        {
          "output_type": "execute_result",
          "data": {
            "text/plain": [
              "Index(['Drone Model', 'Carrying Capacity', 'Cost', 'Parking space'], dtype='object')"
            ]
          },
          "metadata": {},
          "execution_count": 7
        }
      ]
    },
    {
      "cell_type": "code",
      "metadata": {
        "colab": {
          "base_uri": "https://localhost:8080/"
        },
        "id": "goB9nxBt5xED",
        "outputId": "c519900c-a8de-4127-94e0-eb266bbc1da6"
      },
      "source": [
        "data_csvfile['Drone Model']"
      ],
      "execution_count": null,
      "outputs": [
        {
          "output_type": "execute_result",
          "data": {
            "text/plain": [
              "0     MANAS\n",
              "1       JAY\n",
              "2      VEER\n",
              "3    SPASHT\n",
              "4    DHAKSH\n",
              "Name: Drone Model, dtype: object"
            ]
          },
          "metadata": {},
          "execution_count": 8
        }
      ]
    },
    {
      "cell_type": "code",
      "metadata": {
        "colab": {
          "base_uri": "https://localhost:8080/"
        },
        "id": "HMMy6M-U56UW",
        "outputId": "0c832567-b379-4eed-95f9-f3877d78eb7c"
      },
      "source": [
        "data_csvfile['Carrying Capacity']"
      ],
      "execution_count": null,
      "outputs": [
        {
          "output_type": "execute_result",
          "data": {
            "text/plain": [
              "0    12\n",
              "1    14\n",
              "2    10\n",
              "3    15\n",
              "4    14\n",
              "Name: Carrying Capacity, dtype: int64"
            ]
          },
          "metadata": {},
          "execution_count": 9
        }
      ]
    },
    {
      "cell_type": "code",
      "metadata": {
        "colab": {
          "base_uri": "https://localhost:8080/"
        },
        "id": "VKs3Q8Um6BLA",
        "outputId": "45ec29c1-e39a-4606-ecd2-0170809a0715"
      },
      "source": [
        "data_csvfile['Cost']"
      ],
      "execution_count": null,
      "outputs": [
        {
          "output_type": "execute_result",
          "data": {
            "text/plain": [
              "0     6.0\n",
              "1     7.5\n",
              "2     9.5\n",
              "3    10.0\n",
              "4    12.5\n",
              "Name: Cost, dtype: float64"
            ]
          },
          "metadata": {},
          "execution_count": 10
        }
      ]
    },
    {
      "cell_type": "code",
      "metadata": {
        "colab": {
          "base_uri": "https://localhost:8080/"
        },
        "id": "TMtUAvDe6Ekw",
        "outputId": "56ec7a82-369a-49d0-bb9a-5494d8a5df57"
      },
      "source": [
        "data_csvfile['Parking space']"
      ],
      "execution_count": null,
      "outputs": [
        {
          "output_type": "execute_result",
          "data": {
            "text/plain": [
              "0    4.25\n",
              "1    3.25\n",
              "2    2.50\n",
              "3    3.45\n",
              "4    2.25\n",
              "Name: Parking space, dtype: float64"
            ]
          },
          "metadata": {},
          "execution_count": 11
        }
      ]
    },
    {
      "cell_type": "code",
      "metadata": {
        "colab": {
          "base_uri": "https://localhost:8080/"
        },
        "id": "4R-_9KtO6IOs",
        "outputId": "8cc198d7-6c7a-404d-da25-be34396146d5"
      },
      "source": [
        "data_csvfile.index"
      ],
      "execution_count": null,
      "outputs": [
        {
          "output_type": "execute_result",
          "data": {
            "text/plain": [
              "RangeIndex(start=0, stop=5, step=1)"
            ]
          },
          "metadata": {},
          "execution_count": 12
        }
      ]
    },
    {
      "cell_type": "markdown",
      "metadata": {
        "id": "VkedAig364nM"
      },
      "source": [
        "##Ans 4 :\n",
        "\n",
        "Decision Variables : $x_i=$ Number of drones of model i, $x_i\\in\\mathbb{Z^{+}}, i = 1,2,3,4,5$\n",
        "\n",
        "i = 1 = Manas\n",
        "\n",
        "i = 2 = Jay\n",
        "\n",
        "i = 3 = Veer\n",
        "\n",
        "i = 4 = Spasht\n",
        "\n",
        "i = 5 = Dhaksh\n",
        "\n",
        "$\\text{max  } 12x_1+14x_2+10x_3+15x_4+14x_5$\n",
        "\n",
        "subject to:\n",
        "\n",
        "$\\bullet 6x_1+7.5x_2+9.5x_3+10x_4+12.5x_5\\leq59\\\\\n",
        "\\bullet 4.25x_1+3.25x_2+2.5x_3+3.45x_4+2.25x_5\\leq73\\\\\n",
        "\\bullet x_i\\in\\mathbb{Z^{+}}, i = 1,2,3,4,5$"
      ]
    },
    {
      "cell_type": "code",
      "metadata": {
        "id": "t9zZj7Xw6Qtk"
      },
      "source": [
        "model = ConcreteModel()"
      ],
      "execution_count": null,
      "outputs": []
    },
    {
      "cell_type": "code",
      "metadata": {
        "id": "xX3T3M-e6Uf0"
      },
      "source": [
        "N = len(data_csvfile.index)"
      ],
      "execution_count": null,
      "outputs": []
    },
    {
      "cell_type": "code",
      "metadata": {
        "id": "uDfJu66F6cQn"
      },
      "source": [
        "M = 2"
      ],
      "execution_count": null,
      "outputs": []
    },
    {
      "cell_type": "code",
      "metadata": {
        "id": "gcFu7gSt9UDN"
      },
      "source": [
        "col_indices = range(N)"
      ],
      "execution_count": null,
      "outputs": []
    },
    {
      "cell_type": "code",
      "metadata": {
        "id": "zO-94d839aEO"
      },
      "source": [
        "model.x = Var(col_indices,domain = NonNegativeIntegers)"
      ],
      "execution_count": null,
      "outputs": []
    },
    {
      "cell_type": "code",
      "metadata": {
        "id": "RH_OO4bW9h_c"
      },
      "source": [
        "model.objective = Objective(expr = summation(data_csvfile['Carrying Capacity'], model.x),sense=maximize)"
      ],
      "execution_count": null,
      "outputs": []
    },
    {
      "cell_type": "code",
      "metadata": {
        "id": "xg7H-sDR9wI3"
      },
      "source": [
        "model.constraints = ConstraintList()"
      ],
      "execution_count": null,
      "outputs": []
    },
    {
      "cell_type": "code",
      "metadata": {
        "colab": {
          "base_uri": "https://localhost:8080/"
        },
        "id": "dXU1IoGN915T",
        "outputId": "dbd5cace-ae1b-4a4f-ae41-ae82d3659c16"
      },
      "source": [
        "model.constraints.add(expr = summation(data_csvfile['Cost'],model.x) <= 59 )"
      ],
      "execution_count": null,
      "outputs": [
        {
          "output_type": "execute_result",
          "data": {
            "text/plain": [
              "<pyomo.core.base.constraint._GeneralConstraintData at 0x7f305e0c2c90>"
            ]
          },
          "metadata": {},
          "execution_count": 20
        }
      ]
    },
    {
      "cell_type": "code",
      "metadata": {
        "colab": {
          "base_uri": "https://localhost:8080/"
        },
        "id": "EurCQc-x-XiL",
        "outputId": "5892d37e-ed18-4b11-b04f-58ab6c49cc14"
      },
      "source": [
        "model.constraints.add(expr = summation(data_csvfile['Parking space'],model.x) <= 73 )"
      ],
      "execution_count": null,
      "outputs": [
        {
          "output_type": "execute_result",
          "data": {
            "text/plain": [
              "<pyomo.core.base.constraint._GeneralConstraintData at 0x7f305e0c2f30>"
            ]
          },
          "metadata": {},
          "execution_count": 21
        }
      ]
    },
    {
      "cell_type": "code",
      "metadata": {
        "colab": {
          "base_uri": "https://localhost:8080/"
        },
        "id": "XpoEKCfi-d-P",
        "outputId": "2fe8d432-b1b1-4685-89c8-30c39c5059f5"
      },
      "source": [
        "model.pprint()"
      ],
      "execution_count": null,
      "outputs": [
        {
          "output_type": "stream",
          "text": [
            "2 Set Declarations\n",
            "    constraints_index : Size=1, Index=None, Ordered=Insertion\n",
            "        Key  : Dimen : Domain : Size : Members\n",
            "        None :     1 :    Any :    2 : {1, 2}\n",
            "    x_index : Size=1, Index=None, Ordered=False\n",
            "        Key  : Dimen : Domain : Size : Members\n",
            "        None :     1 :    Any :    5 : {0, 1, 2, 3, 4}\n",
            "\n",
            "1 Var Declarations\n",
            "    x : Size=5, Index=x_index\n",
            "        Key : Lower : Value : Upper : Fixed : Stale : Domain\n",
            "          0 :     0 :  None :  None : False :  True : NonNegativeIntegers\n",
            "          1 :     0 :  None :  None : False :  True : NonNegativeIntegers\n",
            "          2 :     0 :  None :  None : False :  True : NonNegativeIntegers\n",
            "          3 :     0 :  None :  None : False :  True : NonNegativeIntegers\n",
            "          4 :     0 :  None :  None : False :  True : NonNegativeIntegers\n",
            "\n",
            "1 Objective Declarations\n",
            "    objective : Size=1, Index=None, Active=True\n",
            "        Key  : Active : Sense    : Expression\n",
            "        None :   True : maximize : 12*x[0] + 14*x[1] + 10*x[2] + 15*x[3] + 14*x[4]\n",
            "\n",
            "1 Constraint Declarations\n",
            "    constraints : Size=2, Index=constraints_index, Active=True\n",
            "        Key : Lower : Body                                                     : Upper : Active\n",
            "          1 :  -Inf :   6.0*x[0] + 7.5*x[1] + 9.5*x[2] + 10.0*x[3] + 12.5*x[4] :  59.0 :   True\n",
            "          2 :  -Inf : 4.25*x[0] + 3.25*x[1] + 2.5*x[2] + 3.45*x[3] + 2.25*x[4] :  73.0 :   True\n",
            "\n",
            "5 Declarations: x_index x objective constraints_index constraints\n"
          ],
          "name": "stdout"
        }
      ]
    },
    {
      "cell_type": "code",
      "metadata": {
        "id": "eU0M03FR_LjD"
      },
      "source": [
        "!apt-get install -y -qq coinor-cbc"
      ],
      "execution_count": null,
      "outputs": []
    },
    {
      "cell_type": "code",
      "metadata": {
        "id": "_SlJh7zJ_h54"
      },
      "source": [
        "opt_cbc = SolverFactory('cbc')"
      ],
      "execution_count": null,
      "outputs": []
    },
    {
      "cell_type": "code",
      "metadata": {
        "colab": {
          "base_uri": "https://localhost:8080/"
        },
        "id": "IQ5CGa-s_mND",
        "outputId": "e84c05f6-0aaf-4163-ef50-d76d3bb31b09"
      },
      "source": [
        "result = opt_cbc.solve(model)\n",
        "print('Solver status:', result.solver.status)\n",
        "print('Solver termination condition:',result.solver.termination_condition)"
      ],
      "execution_count": null,
      "outputs": [
        {
          "output_type": "stream",
          "text": [
            "Solver status: ok\n",
            "Solver termination condition: optimal\n"
          ],
          "name": "stdout"
        }
      ]
    },
    {
      "cell_type": "code",
      "metadata": {
        "colab": {
          "base_uri": "https://localhost:8080/"
        },
        "id": "ykvVoEVd_tNv",
        "outputId": "b6fcf9b0-b0e0-4345-c4a3-68399705b35e"
      },
      "source": [
        "print('Objective = ', model.objective())\n",
        "\n",
        "print('\\nDecision Variables')\n",
        "for i in col_indices:\n",
        "  print('x[',i,'] = ', model.x[i].value)\n",
        "\n",
        "print('\\nConstraints')\n",
        "model.constraints.display()"
      ],
      "execution_count": null,
      "outputs": [
        {
          "output_type": "stream",
          "text": [
            "Objective =  114.0\n",
            "\n",
            "Decision Variables\n",
            "x[ 0 ] =  6.0\n",
            "x[ 1 ] =  3.0\n",
            "x[ 2 ] =  0.0\n",
            "x[ 3 ] =  0.0\n",
            "x[ 4 ] =  0.0\n",
            "\n",
            "Constraints\n",
            "constraints : Size=2\n",
            "    Key : Lower : Body  : Upper\n",
            "      1 :  None :  58.5 :  59.0\n",
            "      2 :  None : 35.25 :  73.0\n"
          ],
          "name": "stdout"
        }
      ]
    },
    {
      "cell_type": "markdown",
      "metadata": {
        "id": "4VCOBJT5SC2-"
      },
      "source": [
        "##Ans 6 :\n",
        "\n",
        "The objective function value at optimality is 114.\n",
        "\n",
        "$x_1$, quantity of MANAS model = 6\n",
        "\n",
        "$x_2$, quantity of JAY model = 3\n",
        "\n",
        "$x_3$, quantity of VEER model = 0\n",
        "\n",
        "$x_4$, quantity of SPASHT model = 0\n",
        "\n",
        "$x_5$, quantity of DHAKSH model = 0\n",
        "\n",
        "The constraint 1 = 58.5 and is not satisfied to equality.\n",
        "\n",
        "The constraint 2 = 35.25 and is not satisfied to equality.\n",
        "\n"
      ]
    },
    {
      "cell_type": "code",
      "metadata": {
        "id": "qih1xZLc_yUE"
      },
      "source": [
        "model_y = ConcreteModel()\n",
        "model_y.y = Var(col_indices)"
      ],
      "execution_count": null,
      "outputs": []
    },
    {
      "cell_type": "code",
      "metadata": {
        "id": "h_T3bssbAYbQ"
      },
      "source": [
        "model_y.objective_y = Objective(expr = summation(data_csvfile['Carrying Capacity'], model_y.y),sense=maximize)"
      ],
      "execution_count": null,
      "outputs": []
    },
    {
      "cell_type": "code",
      "metadata": {
        "colab": {
          "base_uri": "https://localhost:8080/"
        },
        "id": "3dmHW7gDAyEe",
        "outputId": "f3b22e8e-8f81-4d11-c4af-d9a3d4bfbfab"
      },
      "source": [
        "model_y.constraints_y = ConstraintList()\n",
        "model_y.constraints_y.add(expr = summation(data_csvfile['Cost'],model_y.y) <= 59 )\n",
        "model_y.constraints_y.add(expr = summation(data_csvfile['Parking space'],model_y.y) <= 73 )"
      ],
      "execution_count": null,
      "outputs": [
        {
          "output_type": "execute_result",
          "data": {
            "text/plain": [
              "<pyomo.core.base.constraint._GeneralConstraintData at 0x7f305e038f30>"
            ]
          },
          "metadata": {},
          "execution_count": 29
        }
      ]
    },
    {
      "cell_type": "code",
      "metadata": {
        "id": "T20CSMJCBNzq"
      },
      "source": [
        "lower_bound = 0\n",
        "upper_bound = np.inf\n",
        "for i in col_indices:\n",
        "  model_y.y[i].setlb(lower_bound)\n",
        "  model_y.y[i].setub(upper_bound)"
      ],
      "execution_count": null,
      "outputs": []
    },
    {
      "cell_type": "code",
      "metadata": {
        "colab": {
          "base_uri": "https://localhost:8080/"
        },
        "id": "BDNho6vhBf2Q",
        "outputId": "981bd1d8-4a49-4dd9-eabb-67b053c2d5b9"
      },
      "source": [
        "model_y.pprint()"
      ],
      "execution_count": null,
      "outputs": [
        {
          "output_type": "stream",
          "text": [
            "2 Set Declarations\n",
            "    constraints_y_index : Size=1, Index=None, Ordered=Insertion\n",
            "        Key  : Dimen : Domain : Size : Members\n",
            "        None :     1 :    Any :    2 : {1, 2}\n",
            "    y_index : Size=1, Index=None, Ordered=False\n",
            "        Key  : Dimen : Domain : Size : Members\n",
            "        None :     1 :    Any :    5 : {0, 1, 2, 3, 4}\n",
            "\n",
            "1 Var Declarations\n",
            "    y : Size=5, Index=y_index\n",
            "        Key : Lower : Value : Upper : Fixed : Stale : Domain\n",
            "          0 :     0 :  None :   inf : False :  True :  Reals\n",
            "          1 :     0 :  None :   inf : False :  True :  Reals\n",
            "          2 :     0 :  None :   inf : False :  True :  Reals\n",
            "          3 :     0 :  None :   inf : False :  True :  Reals\n",
            "          4 :     0 :  None :   inf : False :  True :  Reals\n",
            "\n",
            "1 Objective Declarations\n",
            "    objective_y : Size=1, Index=None, Active=True\n",
            "        Key  : Active : Sense    : Expression\n",
            "        None :   True : maximize : 12*y[0] + 14*y[1] + 10*y[2] + 15*y[3] + 14*y[4]\n",
            "\n",
            "1 Constraint Declarations\n",
            "    constraints_y : Size=2, Index=constraints_y_index, Active=True\n",
            "        Key : Lower : Body                                                     : Upper : Active\n",
            "          1 :  -Inf :   6.0*y[0] + 7.5*y[1] + 9.5*y[2] + 10.0*y[3] + 12.5*y[4] :  59.0 :   True\n",
            "          2 :  -Inf : 4.25*y[0] + 3.25*y[1] + 2.5*y[2] + 3.45*y[3] + 2.25*y[4] :  73.0 :   True\n",
            "\n",
            "5 Declarations: y_index y objective_y constraints_y_index constraints_y\n"
          ],
          "name": "stdout"
        }
      ]
    },
    {
      "cell_type": "code",
      "metadata": {
        "colab": {
          "base_uri": "https://localhost:8080/"
        },
        "id": "ksYBFvKDBiPQ",
        "outputId": "2b986c21-52f7-4c49-d940-cc891f3da2c9"
      },
      "source": [
        "result_y = opt_cbc.solve(model_y)\n",
        "print('Solver status:', result_y.solver.status)\n",
        "print('Solver termination condition:',result_y.solver.termination_condition)"
      ],
      "execution_count": null,
      "outputs": [
        {
          "output_type": "stream",
          "text": [
            "Solver status: ok\n",
            "Solver termination condition: optimal\n"
          ],
          "name": "stdout"
        }
      ]
    },
    {
      "cell_type": "code",
      "metadata": {
        "colab": {
          "base_uri": "https://localhost:8080/"
        },
        "id": "dzEclO62BwSc",
        "outputId": "acbbe7a8-cb45-4efd-a100-82470e2f5edd"
      },
      "source": [
        "print('Objective = ', model_y.objective_y())\n",
        "\n",
        "print('\\nDecision Variables')\n",
        "for i in col_indices:\n",
        "  print('x[',i,'] = ', model_y.y[i].value)\n",
        "\n",
        "print('\\nConstraints')\n",
        "model_y.constraints_y.display()"
      ],
      "execution_count": null,
      "outputs": [
        {
          "output_type": "stream",
          "text": [
            "Objective =  117.9999996\n",
            "\n",
            "Decision Variables\n",
            "x[ 0 ] =  9.8333333\n",
            "x[ 1 ] =  0.0\n",
            "x[ 2 ] =  0.0\n",
            "x[ 3 ] =  0.0\n",
            "x[ 4 ] =  0.0\n",
            "\n",
            "Constraints\n",
            "constraints_y : Size=2\n",
            "    Key : Lower : Body         : Upper\n",
            "      1 :  None :   58.9999998 :  59.0\n",
            "      2 :  None : 41.791666525 :  73.0\n"
          ],
          "name": "stdout"
        }
      ]
    },
    {
      "cell_type": "markdown",
      "metadata": {
        "id": "fKFDSzvVSJdA"
      },
      "source": [
        "##Ans 7 :\n",
        "\n",
        "The objective function value at optimality is 117.9999996.\n",
        "\n",
        "$x_1=9.8333333$\n",
        "\n",
        "$x_2=0$\n",
        "\n",
        "$x_3=0$\n",
        "\n",
        "$x_4=0$\n",
        "\n",
        "$x_5=0$\n",
        "\n",
        "The constraint 1 = 58.9999998 and is not satisfied to equality.\n",
        "\n",
        "The constraint 2 = 41.791666525 and is not satisfied to equality.\n",
        "\n"
      ]
    },
    {
      "cell_type": "markdown",
      "metadata": {
        "id": "j_JH85DZSLaf"
      },
      "source": [
        "##Ans 8 :\n",
        "\n",
        "The solution of the MILP cannot be obtained by just rounding off the solution of the LP.\n",
        "\n",
        "This is not possible since in the case of LP, it does not consider the fact that the quantity cannot be a decimal value."
      ]
    },
    {
      "cell_type": "code",
      "metadata": {
        "id": "3S8WvNbNB26a"
      },
      "source": [
        "model_y.constraints_y[1].deactivate()\n",
        "model_y.constraints_y[2].deactivate()"
      ],
      "execution_count": null,
      "outputs": []
    },
    {
      "cell_type": "code",
      "metadata": {
        "colab": {
          "base_uri": "https://localhost:8080/"
        },
        "id": "DH1upe6UJ74H",
        "outputId": "17c08721-8cb1-4267-af86-018c8a4f44c4"
      },
      "source": [
        "model_y.constraints_y.add(expr = summation(data_csvfile['Cost'],model_y.y) <= 71 )\n",
        "model_y.constraints_y.add(expr = summation(data_csvfile['Parking space'],model_y.y) <= 87 )"
      ],
      "execution_count": null,
      "outputs": [
        {
          "output_type": "execute_result",
          "data": {
            "text/plain": [
              "<pyomo.core.base.constraint._GeneralConstraintData at 0x7f305dfe6830>"
            ]
          },
          "metadata": {},
          "execution_count": 35
        }
      ]
    },
    {
      "cell_type": "code",
      "metadata": {
        "colab": {
          "base_uri": "https://localhost:8080/"
        },
        "id": "-NUfu3iVKF86",
        "outputId": "a9fb5ddd-6090-4c8b-ea04-b52cfd211aa5"
      },
      "source": [
        "result_y = opt_cbc.solve(model_y)\n",
        "print('Solver status:', result_y.solver.status)\n",
        "print('Solver termination condition:',result_y.solver.termination_condition)"
      ],
      "execution_count": null,
      "outputs": [
        {
          "output_type": "stream",
          "text": [
            "Solver status: ok\n",
            "Solver termination condition: optimal\n"
          ],
          "name": "stdout"
        }
      ]
    },
    {
      "cell_type": "code",
      "metadata": {
        "colab": {
          "base_uri": "https://localhost:8080/"
        },
        "id": "ZGxyXKr5KP6s",
        "outputId": "6c5b89af-df37-40f1-93ef-4d9c42a8aff3"
      },
      "source": [
        "print('Objective = ', model_y.objective_y())\n",
        "\n",
        "print('\\nDecision Variables')\n",
        "for i in col_indices:\n",
        "  print('x[',i,'] = ', model_y.y[i].value)\n",
        "\n",
        "print('\\nConstraints')\n",
        "model_y.constraints_y.display()"
      ],
      "execution_count": null,
      "outputs": [
        {
          "output_type": "stream",
          "text": [
            "Objective =  141.999996\n",
            "\n",
            "Decision Variables\n",
            "x[ 0 ] =  11.833333\n",
            "x[ 1 ] =  0.0\n",
            "x[ 2 ] =  0.0\n",
            "x[ 3 ] =  0.0\n",
            "x[ 4 ] =  0.0\n",
            "\n",
            "Constraints\n",
            "constraints_y : Size=4\n",
            "    Key : Lower : Body        : Upper\n",
            "      3 :  None :   70.999998 :  71.0\n",
            "      4 :  None : 50.29166525 :  87.0\n"
          ],
          "name": "stdout"
        }
      ]
    },
    {
      "cell_type": "code",
      "metadata": {
        "colab": {
          "base_uri": "https://localhost:8080/"
        },
        "id": "YIedoEDhKSV9",
        "outputId": "688091d5-ff86-47f8-9977-70acc991c136"
      },
      "source": [
        "model.constraints[1].deactivate()\n",
        "model.constraints[2].deactivate()\n",
        "model.constraints.add(expr = summation(data_csvfile['Cost'],model.x) <= 71 )\n",
        "model.constraints.add(expr = summation(data_csvfile['Parking space'],model.x) <= 87 )"
      ],
      "execution_count": null,
      "outputs": [
        {
          "output_type": "execute_result",
          "data": {
            "text/plain": [
              "<pyomo.core.base.constraint._GeneralConstraintData at 0x7f305e08f830>"
            ]
          },
          "metadata": {},
          "execution_count": 38
        }
      ]
    },
    {
      "cell_type": "code",
      "metadata": {
        "colab": {
          "base_uri": "https://localhost:8080/"
        },
        "id": "99bUrJLYKxUP",
        "outputId": "c70ef6d1-8df3-49c8-bf27-1a3a0ffad677"
      },
      "source": [
        "result = opt_cbc.solve(model)\n",
        "print('Solver status:', result.solver.status)\n",
        "print('Solver termination condition:',result.solver.termination_condition)"
      ],
      "execution_count": null,
      "outputs": [
        {
          "output_type": "stream",
          "text": [
            "Solver status: ok\n",
            "Solver termination condition: optimal\n"
          ],
          "name": "stdout"
        }
      ]
    },
    {
      "cell_type": "code",
      "metadata": {
        "colab": {
          "base_uri": "https://localhost:8080/"
        },
        "id": "arS8fh7WK1ok",
        "outputId": "5a68c967-3678-42ee-ce8e-eafd13f03229"
      },
      "source": [
        "print('Objective = ', model.objective())\n",
        "\n",
        "print('\\nDecision Variables')\n",
        "for i in col_indices:\n",
        "  print('x[',i,'] = ', model.x[i].value)\n",
        "\n",
        "print('\\nConstraints')\n",
        "model.constraints.display()"
      ],
      "execution_count": null,
      "outputs": [
        {
          "output_type": "stream",
          "text": [
            "Objective =  138.0\n",
            "\n",
            "Decision Variables\n",
            "x[ 0 ] =  8.0\n",
            "x[ 1 ] =  3.0\n",
            "x[ 2 ] =  0.0\n",
            "x[ 3 ] =  0.0\n",
            "x[ 4 ] =  0.0\n",
            "\n",
            "Constraints\n",
            "constraints : Size=4\n",
            "    Key : Lower : Body  : Upper\n",
            "      3 :  None :  70.5 :  71.0\n",
            "      4 :  None : 43.75 :  87.0\n"
          ],
          "name": "stdout"
        }
      ]
    },
    {
      "cell_type": "markdown",
      "metadata": {
        "id": "UmeN5KHcSXE8"
      },
      "source": [
        "##Ans 9 :\n",
        "\n",
        "###When changes done in LP :\n",
        "\n",
        "The objective function value changes to 141.999996.\n",
        "\n",
        "$x_1=11.833333$\n",
        "\n",
        "$x_2=0$\n",
        "\n",
        "$x_3=0$\n",
        "\n",
        "$x_4=0$\n",
        "\n",
        "$x_5=0$\n",
        "\n",
        "The constraint 1 = 70.999998 and is not satisfied to equality.\n",
        "\n",
        "The constraint 2 = 50.29166525 and is not satisfied to equality.\n",
        "\n",
        "###When changes done in MILP :\n",
        "\n",
        "The objective function value changes to 138.\n",
        "\n",
        "$x_1$, quantity of MANAS model = 8\n",
        "\n",
        "$x_2$, quantity of JAY model = 3\n",
        "\n",
        "$x_3$, quantity of VEER model = 0\n",
        "\n",
        "$x_4$, quantity of SPASHT model = 0\n",
        "\n",
        "$x_5$, quantity of DHAKSH model = 0\n",
        "\n",
        "The constraint 1 = 70.5 and is not satisfied to equality.\n",
        "\n",
        "The constraint 2 = 43.75 and is not satisfied to equality.\n",
        "\n"
      ]
    },
    {
      "cell_type": "code",
      "metadata": {
        "colab": {
          "base_uri": "https://localhost:8080/"
        },
        "id": "Q-itYc1NK4jp",
        "outputId": "55302634-8dce-4bec-9739-f61986de0a6f"
      },
      "source": [
        "model_y.constraints_y[3].deactivate()\n",
        "model_y.constraints_y[4].deactivate()\n",
        "model_y.constraints_y.add(expr = summation(data_csvfile['Cost'],model_y.y) <= 67 )\n",
        "model_y.constraints_y.add(expr = summation(data_csvfile['Parking space'],model_y.y) <= 88 )"
      ],
      "execution_count": null,
      "outputs": [
        {
          "output_type": "execute_result",
          "data": {
            "text/plain": [
              "<pyomo.core.base.constraint._GeneralConstraintData at 0x7f305dfe6d00>"
            ]
          },
          "metadata": {},
          "execution_count": 41
        }
      ]
    },
    {
      "cell_type": "code",
      "metadata": {
        "colab": {
          "base_uri": "https://localhost:8080/"
        },
        "id": "tnHC-Z_RLZOg",
        "outputId": "8443c412-25e8-41a0-c4ae-7bd239bd29f6"
      },
      "source": [
        "result_y = opt_cbc.solve(model_y)\n",
        "print('Solver status:', result_y.solver.status)\n",
        "print('Solver termination condition:',result_y.solver.termination_condition)"
      ],
      "execution_count": null,
      "outputs": [
        {
          "output_type": "stream",
          "text": [
            "Solver status: ok\n",
            "Solver termination condition: optimal\n"
          ],
          "name": "stdout"
        }
      ]
    },
    {
      "cell_type": "code",
      "metadata": {
        "colab": {
          "base_uri": "https://localhost:8080/"
        },
        "id": "Qa1AR4-GLcDQ",
        "outputId": "8fb160cd-9593-451d-b9c1-dc14be5c384c"
      },
      "source": [
        "print('Objective = ', model_y.objective_y())\n",
        "\n",
        "print('\\nDecision Variables')\n",
        "for i in col_indices:\n",
        "  print('x[',i,'] = ', model_y.y[i].value)\n",
        "\n",
        "print('\\nConstraints')\n",
        "model_y.constraints_y.display()"
      ],
      "execution_count": null,
      "outputs": [
        {
          "output_type": "stream",
          "text": [
            "Objective =  134.000004\n",
            "\n",
            "Decision Variables\n",
            "x[ 0 ] =  11.166667\n",
            "x[ 1 ] =  0.0\n",
            "x[ 2 ] =  0.0\n",
            "x[ 3 ] =  0.0\n",
            "x[ 4 ] =  0.0\n",
            "\n",
            "Constraints\n",
            "constraints_y : Size=6\n",
            "    Key : Lower : Body        : Upper\n",
            "      5 :  None :   67.000002 :  67.0\n",
            "      6 :  None : 47.45833475 :  88.0\n"
          ],
          "name": "stdout"
        }
      ]
    },
    {
      "cell_type": "code",
      "metadata": {
        "colab": {
          "base_uri": "https://localhost:8080/"
        },
        "id": "0aNRdY5aLe32",
        "outputId": "68f1023d-3dde-4c44-90b4-dba1abb30c6e"
      },
      "source": [
        "model_y.constraints_y[5].deactivate()\n",
        "model_y.constraints_y[6].deactivate()\n",
        "model_y.constraints_y.add(expr = summation(data_csvfile['Cost'],model_y.y) <= 65 )\n",
        "model_y.constraints_y.add(expr = summation(data_csvfile['Parking space'],model_y.y) <= 89 )"
      ],
      "execution_count": null,
      "outputs": [
        {
          "output_type": "execute_result",
          "data": {
            "text/plain": [
              "<pyomo.core.base.constraint._GeneralConstraintData at 0x7f305e000de0>"
            ]
          },
          "metadata": {},
          "execution_count": 44
        }
      ]
    },
    {
      "cell_type": "code",
      "metadata": {
        "colab": {
          "base_uri": "https://localhost:8080/"
        },
        "id": "wYbNVSQ5Mhxh",
        "outputId": "cdd34678-3ed1-4cab-ec1a-8673557907b9"
      },
      "source": [
        "result_y = opt_cbc.solve(model_y)\n",
        "print('Solver status:', result_y.solver.status)\n",
        "print('Solver termination condition:',result_y.solver.termination_condition)"
      ],
      "execution_count": null,
      "outputs": [
        {
          "output_type": "stream",
          "text": [
            "Solver status: ok\n",
            "Solver termination condition: optimal\n"
          ],
          "name": "stdout"
        }
      ]
    },
    {
      "cell_type": "code",
      "metadata": {
        "colab": {
          "base_uri": "https://localhost:8080/"
        },
        "id": "AaeYnOUBMk32",
        "outputId": "aaa1ccd6-96c6-4a93-f7d1-15b9e3345bce"
      },
      "source": [
        "print('Objective = ', model_y.objective_y())\n",
        "\n",
        "print('\\nDecision Variables')\n",
        "for i in col_indices:\n",
        "  print('x[',i,'] = ', model_y.y[i].value)\n",
        "\n",
        "print('\\nConstraints')\n",
        "model_y.constraints_y.display()"
      ],
      "execution_count": null,
      "outputs": [
        {
          "output_type": "stream",
          "text": [
            "Objective =  129.999996\n",
            "\n",
            "Decision Variables\n",
            "x[ 0 ] =  10.833333\n",
            "x[ 1 ] =  0.0\n",
            "x[ 2 ] =  0.0\n",
            "x[ 3 ] =  0.0\n",
            "x[ 4 ] =  0.0\n",
            "\n",
            "Constraints\n",
            "constraints_y : Size=8\n",
            "    Key : Lower : Body        : Upper\n",
            "      7 :  None :   64.999998 :  65.0\n",
            "      8 :  None : 46.04166525 :  89.0\n"
          ],
          "name": "stdout"
        }
      ]
    },
    {
      "cell_type": "code",
      "metadata": {
        "colab": {
          "base_uri": "https://localhost:8080/"
        },
        "id": "vj9_vD2IMnpP",
        "outputId": "e15a272e-2389-465d-e085-b4ec478f2d57"
      },
      "source": [
        "model_y.constraints_y[7].deactivate()\n",
        "model_y.constraints_y[8].deactivate()\n",
        "model_y.constraints_y.add(expr = summation(data_csvfile['Cost'],model_y.y) <= 63 )\n",
        "model_y.constraints_y.add(expr = summation(data_csvfile['Parking space'],model_y.y) <= 90 )"
      ],
      "execution_count": null,
      "outputs": [
        {
          "output_type": "execute_result",
          "data": {
            "text/plain": [
              "<pyomo.core.base.constraint._GeneralConstraintData at 0x7f305e000d00>"
            ]
          },
          "metadata": {},
          "execution_count": 47
        }
      ]
    },
    {
      "cell_type": "code",
      "metadata": {
        "colab": {
          "base_uri": "https://localhost:8080/"
        },
        "id": "XUi23D5jNFcS",
        "outputId": "94cb7707-e73e-40fd-c5e8-6ac2e92dd472"
      },
      "source": [
        "result_y = opt_cbc.solve(model_y)\n",
        "print('Solver status:', result_y.solver.status)\n",
        "print('Solver termination condition:',result_y.solver.termination_condition)"
      ],
      "execution_count": null,
      "outputs": [
        {
          "output_type": "stream",
          "text": [
            "Solver status: ok\n",
            "Solver termination condition: optimal\n"
          ],
          "name": "stdout"
        }
      ]
    },
    {
      "cell_type": "code",
      "metadata": {
        "colab": {
          "base_uri": "https://localhost:8080/"
        },
        "id": "-I5KIXvuNIlf",
        "outputId": "9f1b7ab8-2b44-4eb2-955c-67381e4d4d8f"
      },
      "source": [
        "print('Objective = ', model_y.objective_y())\n",
        "\n",
        "print('\\nDecision Variables')\n",
        "for i in col_indices:\n",
        "  print('x[',i,'] = ', model_y.y[i].value)\n",
        "\n",
        "print('\\nConstraints')\n",
        "model_y.constraints_y.display()"
      ],
      "execution_count": null,
      "outputs": [
        {
          "output_type": "stream",
          "text": [
            "Objective =  126.0\n",
            "\n",
            "Decision Variables\n",
            "x[ 0 ] =  10.5\n",
            "x[ 1 ] =  0.0\n",
            "x[ 2 ] =  0.0\n",
            "x[ 3 ] =  0.0\n",
            "x[ 4 ] =  0.0\n",
            "\n",
            "Constraints\n",
            "constraints_y : Size=10\n",
            "    Key : Lower : Body   : Upper\n",
            "      9 :  None :   63.0 :  63.0\n",
            "     10 :  None : 44.625 :  90.0\n"
          ],
          "name": "stdout"
        }
      ]
    },
    {
      "cell_type": "code",
      "metadata": {
        "colab": {
          "base_uri": "https://localhost:8080/"
        },
        "id": "3lsfum57NLe7",
        "outputId": "12c93074-57ab-4c51-9339-308fdfe75590"
      },
      "source": [
        "model_y.constraints_y[9].deactivate()\n",
        "model_y.constraints_y[10].deactivate()\n",
        "model_y.constraints_y.add(expr = summation(data_csvfile['Cost'],model_y.y) <= 61 )\n",
        "model_y.constraints_y.add(expr = summation(data_csvfile['Parking space'],model_y.y) <= 91 )"
      ],
      "execution_count": null,
      "outputs": [
        {
          "output_type": "execute_result",
          "data": {
            "text/plain": [
              "<pyomo.core.base.constraint._GeneralConstraintData at 0x7f305e08f050>"
            ]
          },
          "metadata": {},
          "execution_count": 50
        }
      ]
    },
    {
      "cell_type": "code",
      "metadata": {
        "colab": {
          "base_uri": "https://localhost:8080/"
        },
        "id": "UYtwq5NjNkCo",
        "outputId": "e09b48b2-720e-4d82-a545-12db4afaae16"
      },
      "source": [
        "result_y = opt_cbc.solve(model_y)\n",
        "print('Solver status:', result_y.solver.status)\n",
        "print('Solver termination condition:',result_y.solver.termination_condition)"
      ],
      "execution_count": null,
      "outputs": [
        {
          "output_type": "stream",
          "text": [
            "Solver status: ok\n",
            "Solver termination condition: optimal\n"
          ],
          "name": "stdout"
        }
      ]
    },
    {
      "cell_type": "code",
      "metadata": {
        "colab": {
          "base_uri": "https://localhost:8080/"
        },
        "id": "t2GQXjG3NnRh",
        "outputId": "551443e3-cce2-482b-a675-f292113a4fd5"
      },
      "source": [
        "print('Objective = ', model_y.objective_y())\n",
        "\n",
        "print('\\nDecision Variables')\n",
        "for i in col_indices:\n",
        "  print('x[',i,'] = ', model_y.y[i].value)\n",
        "\n",
        "print('\\nConstraints')\n",
        "model_y.constraints_y.display()"
      ],
      "execution_count": null,
      "outputs": [
        {
          "output_type": "stream",
          "text": [
            "Objective =  122.000004\n",
            "\n",
            "Decision Variables\n",
            "x[ 0 ] =  10.166667\n",
            "x[ 1 ] =  0.0\n",
            "x[ 2 ] =  0.0\n",
            "x[ 3 ] =  0.0\n",
            "x[ 4 ] =  0.0\n",
            "\n",
            "Constraints\n",
            "constraints_y : Size=12\n",
            "    Key : Lower : Body        : Upper\n",
            "     11 :  None :   61.000002 :  61.0\n",
            "     12 :  None : 43.20833475 :  91.0\n"
          ],
          "name": "stdout"
        }
      ]
    },
    {
      "cell_type": "code",
      "metadata": {
        "colab": {
          "base_uri": "https://localhost:8080/"
        },
        "id": "6EmJKOkdNpxK",
        "outputId": "91a08063-9ce1-4caa-b2b8-a1fde9e8a349"
      },
      "source": [
        "model.constraints[3].deactivate()\n",
        "model.constraints[4].deactivate()\n",
        "model.constraints.add(expr = summation(data_csvfile['Cost'],model.x) <= 67 )\n",
        "model.constraints.add(expr = summation(data_csvfile['Parking space'],model.x) <= 88 )"
      ],
      "execution_count": null,
      "outputs": [
        {
          "output_type": "execute_result",
          "data": {
            "text/plain": [
              "<pyomo.core.base.constraint._GeneralConstraintData at 0x7f305e000670>"
            ]
          },
          "metadata": {},
          "execution_count": 53
        }
      ]
    },
    {
      "cell_type": "code",
      "metadata": {
        "colab": {
          "base_uri": "https://localhost:8080/"
        },
        "id": "SKtCUpoJOAyo",
        "outputId": "2d624855-e849-42a9-e85b-13ee8313b643"
      },
      "source": [
        "result = opt_cbc.solve(model)\n",
        "print('Solver status:', result.solver.status)\n",
        "print('Solver termination condition:',result.solver.termination_condition)"
      ],
      "execution_count": null,
      "outputs": [
        {
          "output_type": "stream",
          "text": [
            "Solver status: ok\n",
            "Solver termination condition: optimal\n"
          ],
          "name": "stdout"
        }
      ]
    },
    {
      "cell_type": "code",
      "metadata": {
        "colab": {
          "base_uri": "https://localhost:8080/"
        },
        "id": "8edxq83gODm1",
        "outputId": "50d9a217-d478-4893-85dd-fb3b85adc8a3"
      },
      "source": [
        "print('Objective = ', model.objective())\n",
        "\n",
        "print('\\nDecision Variables')\n",
        "for i in col_indices:\n",
        "  print('x[',i,'] = ', model.x[i].value)\n",
        "\n",
        "print('\\nConstraints')\n",
        "model.constraints.display()"
      ],
      "execution_count": null,
      "outputs": [
        {
          "output_type": "stream",
          "text": [
            "Objective =  132.0\n",
            "\n",
            "Decision Variables\n",
            "x[ 0 ] =  11.0\n",
            "x[ 1 ] =  0.0\n",
            "x[ 2 ] =  0.0\n",
            "x[ 3 ] =  0.0\n",
            "x[ 4 ] =  0.0\n",
            "\n",
            "Constraints\n",
            "constraints : Size=6\n",
            "    Key : Lower : Body  : Upper\n",
            "      5 :  None :  66.0 :  67.0\n",
            "      6 :  None : 46.75 :  88.0\n"
          ],
          "name": "stdout"
        }
      ]
    },
    {
      "cell_type": "code",
      "metadata": {
        "colab": {
          "base_uri": "https://localhost:8080/"
        },
        "id": "8ATJmMykOGF_",
        "outputId": "129b15ae-e312-4746-d7ae-ebf36f606bc7"
      },
      "source": [
        "model.constraints[5].deactivate()\n",
        "model.constraints[6].deactivate()\n",
        "model.constraints.add(expr = summation(data_csvfile['Cost'],model.x) <= 65 )\n",
        "model.constraints.add(expr = summation(data_csvfile['Parking space'],model.x) <= 89 )"
      ],
      "execution_count": null,
      "outputs": [
        {
          "output_type": "execute_result",
          "data": {
            "text/plain": [
              "<pyomo.core.base.constraint._GeneralConstraintData at 0x7f305e017980>"
            ]
          },
          "metadata": {},
          "execution_count": 56
        }
      ]
    },
    {
      "cell_type": "code",
      "metadata": {
        "colab": {
          "base_uri": "https://localhost:8080/"
        },
        "id": "o5tji7gvQhrh",
        "outputId": "8b23bc43-38a0-4dac-db11-9aeeda40f941"
      },
      "source": [
        "result = opt_cbc.solve(model)\n",
        "print('Solver status:', result.solver.status)\n",
        "print('Solver termination condition:',result.solver.termination_condition)"
      ],
      "execution_count": null,
      "outputs": [
        {
          "output_type": "stream",
          "text": [
            "Solver status: ok\n",
            "Solver termination condition: optimal\n"
          ],
          "name": "stdout"
        }
      ]
    },
    {
      "cell_type": "code",
      "metadata": {
        "colab": {
          "base_uri": "https://localhost:8080/"
        },
        "id": "oWX_jIYvQj6P",
        "outputId": "4e11436b-0b9d-4eae-838c-3661de983502"
      },
      "source": [
        "print('Objective = ', model.objective())\n",
        "\n",
        "print('\\nDecision Variables')\n",
        "for i in col_indices:\n",
        "  print('x[',i,'] = ', model.x[i].value)\n",
        "\n",
        "print('\\nConstraints')\n",
        "model.constraints.display()"
      ],
      "execution_count": null,
      "outputs": [
        {
          "output_type": "stream",
          "text": [
            "Objective =  126.0\n",
            "\n",
            "Decision Variables\n",
            "x[ 0 ] =  7.0\n",
            "x[ 1 ] =  3.0\n",
            "x[ 2 ] =  0.0\n",
            "x[ 3 ] =  0.0\n",
            "x[ 4 ] =  0.0\n",
            "\n",
            "Constraints\n",
            "constraints : Size=8\n",
            "    Key : Lower : Body : Upper\n",
            "      7 :  None : 64.5 :  65.0\n",
            "      8 :  None : 39.5 :  89.0\n"
          ],
          "name": "stdout"
        }
      ]
    },
    {
      "cell_type": "code",
      "metadata": {
        "colab": {
          "base_uri": "https://localhost:8080/"
        },
        "id": "0a-5iR_CQmL8",
        "outputId": "f3add449-25e4-48f4-ab09-bb7434986123"
      },
      "source": [
        "model.constraints[7].deactivate()\n",
        "model.constraints[8].deactivate()\n",
        "model.constraints.add(expr = summation(data_csvfile['Cost'],model.x) <= 63 )\n",
        "model.constraints.add(expr = summation(data_csvfile['Parking space'],model.x) <= 90 )"
      ],
      "execution_count": null,
      "outputs": [
        {
          "output_type": "execute_result",
          "data": {
            "text/plain": [
              "<pyomo.core.base.constraint._GeneralConstraintData at 0x7f305e017fa0>"
            ]
          },
          "metadata": {},
          "execution_count": 59
        }
      ]
    },
    {
      "cell_type": "code",
      "metadata": {
        "colab": {
          "base_uri": "https://localhost:8080/"
        },
        "id": "MunXAHnTRF2f",
        "outputId": "e93d145b-25a0-475f-e5d2-2f82acf0caa8"
      },
      "source": [
        "result = opt_cbc.solve(model)\n",
        "print('Solver status:', result.solver.status)\n",
        "print('Solver termination condition:',result.solver.termination_condition)"
      ],
      "execution_count": null,
      "outputs": [
        {
          "output_type": "stream",
          "text": [
            "Solver status: ok\n",
            "Solver termination condition: optimal\n"
          ],
          "name": "stdout"
        }
      ]
    },
    {
      "cell_type": "code",
      "metadata": {
        "colab": {
          "base_uri": "https://localhost:8080/"
        },
        "id": "O40IgKFvRKZg",
        "outputId": "37d9f2eb-468e-43f6-ffdf-c0cea6ca163d"
      },
      "source": [
        "print('Objective = ', model.objective())\n",
        "\n",
        "print('\\nDecision Variables')\n",
        "for i in col_indices:\n",
        "  print('x[',i,'] = ', model.x[i].value)\n",
        "\n",
        "print('\\nConstraints')\n",
        "model.constraints.display()"
      ],
      "execution_count": null,
      "outputs": [
        {
          "output_type": "stream",
          "text": [
            "Objective =  124.0\n",
            "\n",
            "Decision Variables\n",
            "x[ 0 ] =  8.0\n",
            "x[ 1 ] =  2.0\n",
            "x[ 2 ] =  0.0\n",
            "x[ 3 ] =  0.0\n",
            "x[ 4 ] =  0.0\n",
            "\n",
            "Constraints\n",
            "constraints : Size=10\n",
            "    Key : Lower : Body : Upper\n",
            "      9 :  None : 63.0 :  63.0\n",
            "     10 :  None : 40.5 :  90.0\n"
          ],
          "name": "stdout"
        }
      ]
    },
    {
      "cell_type": "code",
      "metadata": {
        "colab": {
          "base_uri": "https://localhost:8080/"
        },
        "id": "LzkeU4asRiTi",
        "outputId": "a6720609-f0f5-46ba-af03-b831fd3b2d07"
      },
      "source": [
        "model.constraints[9].deactivate()\n",
        "model.constraints[10].deactivate()\n",
        "model.constraints.add(expr = summation(data_csvfile['Cost'],model.x) <= 61 )\n",
        "model.constraints.add(expr = summation(data_csvfile['Parking space'],model.x) <= 91 )"
      ],
      "execution_count": null,
      "outputs": [
        {
          "output_type": "execute_result",
          "data": {
            "text/plain": [
              "<pyomo.core.base.constraint._GeneralConstraintData at 0x7f305e038fa0>"
            ]
          },
          "metadata": {},
          "execution_count": 62
        }
      ]
    },
    {
      "cell_type": "code",
      "metadata": {
        "colab": {
          "base_uri": "https://localhost:8080/"
        },
        "id": "eN4Ki9HGRmjO",
        "outputId": "9080e3b7-39c2-409e-d426-7b9132d86632"
      },
      "source": [
        "result = opt_cbc.solve(model)\n",
        "print('Solver status:', result.solver.status)\n",
        "print('Solver termination condition:',result.solver.termination_condition)"
      ],
      "execution_count": null,
      "outputs": [
        {
          "output_type": "stream",
          "text": [
            "Solver status: ok\n",
            "Solver termination condition: optimal\n"
          ],
          "name": "stdout"
        }
      ]
    },
    {
      "cell_type": "code",
      "metadata": {
        "colab": {
          "base_uri": "https://localhost:8080/"
        },
        "id": "5-GnEB5ERonv",
        "outputId": "99066507-8e4d-48cd-c083-405e8ec9f959"
      },
      "source": [
        "print('Objective = ', model.objective())\n",
        "\n",
        "print('\\nDecision Variables')\n",
        "for i in col_indices:\n",
        "  print('x[',i,'] = ', model.x[i].value)\n",
        "\n",
        "print('\\nConstraints')\n",
        "model.constraints.display()"
      ],
      "execution_count": null,
      "outputs": [
        {
          "output_type": "stream",
          "text": [
            "Objective =  120.0\n",
            "\n",
            "Decision Variables\n",
            "x[ 0 ] =  10.0\n",
            "x[ 1 ] =  0.0\n",
            "x[ 2 ] =  0.0\n",
            "x[ 3 ] =  0.0\n",
            "x[ 4 ] =  0.0\n",
            "\n",
            "Constraints\n",
            "constraints : Size=12\n",
            "    Key : Lower : Body : Upper\n",
            "     11 :  None : 60.0 :  61.0\n",
            "     12 :  None : 42.5 :  91.0\n"
          ],
          "name": "stdout"
        }
      ]
    },
    {
      "cell_type": "markdown",
      "metadata": {
        "id": "tMkEkxorS34v"
      },
      "source": [
        "##Ans 10 :\n",
        "\n",
        "#In case of LP:\n",
        "\n",
        "**When budget decreased to 67, and parking space increased to 88** \n",
        "\n",
        "The objective function value is : 134.000004.\n",
        "\n",
        "$x_1=11.166667$\n",
        "\n",
        "$x_2=0$\n",
        "\n",
        "$x_3=0$\n",
        "\n",
        "$x_4=0$\n",
        "\n",
        "$x_5=0$\n",
        "\n",
        "The constraint 1 = 67.000002 and is not satisfied to equality.\n",
        "\n",
        "The constraint 2 = 47.45833475 and is not satisfied to equality.\n",
        "\n",
        "**When budget decreased to 65, and parking space increased to 89** \n",
        "\n",
        "The objective function value is : 129.999996.\n",
        "\n",
        "$x_1=10.833333$\n",
        "\n",
        "$x_2=0$\n",
        "\n",
        "$x_3=0$\n",
        "\n",
        "$x_4=0$\n",
        "\n",
        "$x_5=0$\n",
        "\n",
        "The constraint 1 = 64.999998 and is not satisfied to equality.\n",
        "\n",
        "The constraint 2 = 46.04166525 and is not satisfied to equality.\n",
        "\n",
        "**When budget decreased to 63, and parking space increased to 90** \n",
        "\n",
        "The objective function value is : 126.0.\n",
        "\n",
        "$x_1=10.5$\n",
        "\n",
        "$x_2=0$\n",
        "\n",
        "$x_3=0$\n",
        "\n",
        "$x_4=0$\n",
        "\n",
        "$x_5=0$\n",
        "\n",
        "The constraint 1 = 63.0 and is satisfied to equality.\n",
        "\n",
        "The constraint 2 = 44.625 and is not satisfied to equality.\n",
        "\n",
        "**When budget decreased to 61, and parking space increased to 91** \n",
        "\n",
        "The objective function value is : 122.000004.\n",
        "\n",
        "$x_1=10.166667$\n",
        "\n",
        "$x_2=0$\n",
        "\n",
        "$x_3=0$\n",
        "\n",
        "$x_4=0$\n",
        "\n",
        "$x_5=0$\n",
        "\n",
        "The constraint 1 = 61.000002 and is not satisfied to equality.\n",
        "\n",
        "The constraint 2 = 43.20833475 and is not satisfied to equality.\n",
        "\n",
        "\n",
        "#In case of MILP :\n",
        "\n",
        "**When budget decreased to 67, and parking space increased to 88** \n",
        "\n",
        "The objective function value is : 132.\n",
        "\n",
        "$x_1=11$\n",
        "\n",
        "$x_2=0$\n",
        "\n",
        "$x_3=0$\n",
        "\n",
        "$x_4=0$\n",
        "\n",
        "$x_5=0$\n",
        "\n",
        "The constraint 1 = 66 and is not satisfied to equality.\n",
        "\n",
        "The constraint 2 = 46.75 and is not satisfied to equality.\n",
        "\n",
        "**When budget decreased to 65, and parking space increased to 89** \n",
        "\n",
        "The objective function value is : 126.\n",
        "\n",
        "$x_1=7$\n",
        "\n",
        "$x_2=3$\n",
        "\n",
        "$x_3=0$\n",
        "\n",
        "$x_4=0$\n",
        "\n",
        "$x_5=0$\n",
        "\n",
        "The constraint 1 = 64.5 and is not satisfied to equality.\n",
        "\n",
        "The constraint 2 = 39.5 and is not satisfied to equality.\n",
        "\n",
        "**When budget decreased to 63, and parking space increased to 90** \n",
        "\n",
        "The objective function value is : 124.\n",
        "\n",
        "$x_1=8$\n",
        "\n",
        "$x_2=2$\n",
        "\n",
        "$x_3=0$\n",
        "\n",
        "$x_4=0$\n",
        "\n",
        "$x_5=0$\n",
        "\n",
        "The constraint 1 = 63 and is not satisfied to equality.\n",
        "\n",
        "The constraint 2 = 40.5 and is not satisfied to equality.\n",
        "\n",
        "**When budget decreased to 61, and parking space increased to 91** \n",
        "\n",
        "The objective function value is : 120.\n",
        "\n",
        "$x_1=10$\n",
        "\n",
        "$x_2=0$\n",
        "\n",
        "$x_3=0$\n",
        "\n",
        "$x_4=0$\n",
        "\n",
        "$x_5=0$\n",
        "\n",
        "The constraint 1 = 60 and is not satisfied to equality.\n",
        "\n",
        "The constraint 2 = 42.5 and is not satisfied to equality.\n",
        "\n",
        "$\\bullet$ *The objective function value of the LP in one of the cases is more by around 2 than the objective function value of the MILP in that case.*\n",
        "\n",
        "$\\bullet$ *The value of the decision variables in the cases when budget is 67 and 61 with parking space 88 and 91 respectively can be rounded off in the LP to obtain the value of the decision variables in the case of MILP.*"
      ]
    }
  ]
}