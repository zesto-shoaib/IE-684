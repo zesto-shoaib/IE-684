{
  "nbformat": 4,
  "nbformat_minor": 0,
  "metadata": {
    "colab": {
      "name": "21i190012_IE507_Lab5_Ex1.ipynb",
      "provenance": [],
      "collapsed_sections": []
    },
    "kernelspec": {
      "name": "python3",
      "display_name": "Python 3"
    },
    "language_info": {
      "name": "python"
    }
  },
  "cells": [
    {
      "cell_type": "markdown",
      "metadata": {
        "id": "yJxZdK57OCdt"
      },
      "source": [
        "#Exercise 1"
      ]
    },
    {
      "cell_type": "code",
      "metadata": {
        "id": "khYOW9UDmmso"
      },
      "source": [
        "!pip install -q pyomo"
      ],
      "execution_count": null,
      "outputs": []
    },
    {
      "cell_type": "code",
      "metadata": {
        "id": "HKjN8JDfy1ij"
      },
      "source": [
        "from pyomo.environ import *"
      ],
      "execution_count": null,
      "outputs": []
    },
    {
      "cell_type": "code",
      "metadata": {
        "id": "yEaFGr6Cy4QH"
      },
      "source": [
        "import numpy as np"
      ],
      "execution_count": null,
      "outputs": []
    },
    {
      "cell_type": "code",
      "metadata": {
        "id": "vWKhzb0fy56K"
      },
      "source": [
        "import pandas as pd"
      ],
      "execution_count": null,
      "outputs": []
    },
    {
      "cell_type": "markdown",
      "metadata": {
        "id": "Om7j4KFGN_Mi"
      },
      "source": [
        "#Ans 1 :\n",
        "\n",
        "Decision Variables : $x_{wm}$ : $\\text{it denotes the units of truck-loads of WMUs}$\n",
        "\n",
        "$\\text{min} \\sum_w\\sum_m C[w,m]x_{wm}$\n",
        "\n",
        "subject to :\n",
        "\n",
        "$\\bullet\\sum_w x_{wm}\\leq a_w, m = 1,\\cdots,k\\text{;  }a_w\\text{ denotes the available stock at w.}\\\\\n",
        "\\bullet\\sum_m x_{wm}= b_m, w = 1,\\cdots,l\\text{;  }b_m\\text{ denotes the demand at m.}$"
      ]
    },
    {
      "cell_type": "code",
      "metadata": {
        "id": "R_a2rFbPy_sS"
      },
      "source": [
        "data_csvfile = pd.read_csv('/content/lab5_ex1.csv')"
      ],
      "execution_count": null,
      "outputs": []
    },
    {
      "cell_type": "code",
      "metadata": {
        "colab": {
          "base_uri": "https://localhost:8080/"
        },
        "id": "Uehq99j7zGV-",
        "outputId": "b6112c4a-001b-48eb-baa3-b4d3980d700e"
      },
      "source": [
        "print(data_csvfile.iloc[0,:])"
      ],
      "execution_count": null,
      "outputs": [
        {
          "output_type": "stream",
          "name": "stdout",
          "text": [
            "Warehouses    Ahmedabad\n",
            "Hassan              627\n",
            "Jodhpur             617\n",
            "Trichy             1270\n",
            "Simla              2072\n",
            "Vijayawada         1415\n",
            "Dibrugarh          2943\n",
            "Raipur             1064\n",
            "Agartala           4265\n",
            "Stock               185\n",
            "Name: 0, dtype: object\n"
          ]
        }
      ]
    },
    {
      "cell_type": "code",
      "metadata": {
        "colab": {
          "base_uri": "https://localhost:8080/"
        },
        "id": "CUnsxB27zRtF",
        "outputId": "77508ce4-d5a2-4ace-f5e3-65ca38063f9d"
      },
      "source": [
        "print(data_csvfile.iloc[:,0])"
      ],
      "execution_count": null,
      "outputs": [
        {
          "output_type": "stream",
          "name": "stdout",
          "text": [
            "0    Ahmedabad\n",
            "1    Bengaluru\n",
            "2      Chennai\n",
            "3        Delhi\n",
            "4      Kolkata\n",
            "5      Lucknow\n",
            "6       Mumbai\n",
            "7    Hyderabad\n",
            "8       Demand\n",
            "Name: Warehouses, dtype: object\n"
          ]
        }
      ]
    },
    {
      "cell_type": "code",
      "metadata": {
        "colab": {
          "base_uri": "https://localhost:8080/"
        },
        "id": "ON3FmjYIzdwm",
        "outputId": "6fd949c9-e859-4d7e-fb1d-f62686d07ec8"
      },
      "source": [
        "data_csvfile.columns"
      ],
      "execution_count": null,
      "outputs": [
        {
          "output_type": "execute_result",
          "data": {
            "text/plain": [
              "Index(['Warehouses', 'Hassan', 'Jodhpur', 'Trichy', 'Simla', 'Vijayawada',\n",
              "       'Dibrugarh', 'Raipur', 'Agartala', 'Stock'],\n",
              "      dtype='object')"
            ]
          },
          "metadata": {},
          "execution_count": 8
        }
      ]
    },
    {
      "cell_type": "code",
      "metadata": {
        "colab": {
          "base_uri": "https://localhost:8080/"
        },
        "id": "0sCm-8rj0CDp",
        "outputId": "9477c35c-3e38-4a75-c113-29db48c4d760"
      },
      "source": [
        "data_csvfile.index"
      ],
      "execution_count": null,
      "outputs": [
        {
          "output_type": "execute_result",
          "data": {
            "text/plain": [
              "RangeIndex(start=0, stop=9, step=1)"
            ]
          },
          "metadata": {},
          "execution_count": 9
        }
      ]
    },
    {
      "cell_type": "code",
      "metadata": {
        "id": "QXMsp4CZzqee"
      },
      "source": [
        "model = ConcreteModel()"
      ],
      "execution_count": null,
      "outputs": []
    },
    {
      "cell_type": "code",
      "metadata": {
        "colab": {
          "base_uri": "https://localhost:8080/"
        },
        "id": "pi9JQgJzzz74",
        "outputId": "aa6c1653-fc76-4a73-b5de-458ca3b853b1"
      },
      "source": [
        "M = len(data_csvfile.index)-1\n",
        "print('number of warehouses:',M)"
      ],
      "execution_count": null,
      "outputs": [
        {
          "output_type": "stream",
          "name": "stdout",
          "text": [
            "number of warehouses: 8\n"
          ]
        }
      ]
    },
    {
      "cell_type": "code",
      "metadata": {
        "colab": {
          "base_uri": "https://localhost:8080/"
        },
        "id": "2Rkhow0o0jLc",
        "outputId": "34f4d34f-c734-49c6-9a60-72bb7e2e64ca"
      },
      "source": [
        "N = len(data_csvfile.columns)-2\n",
        "print('number of markets:',N)"
      ],
      "execution_count": null,
      "outputs": [
        {
          "output_type": "stream",
          "name": "stdout",
          "text": [
            "number of markets: 8\n"
          ]
        }
      ]
    },
    {
      "cell_type": "code",
      "metadata": {
        "colab": {
          "base_uri": "https://localhost:8080/"
        },
        "id": "OYfVfqAw07C1",
        "outputId": "2deaf9a6-c916-4cf2-d7bd-c441ff3bfdf3"
      },
      "source": [
        "row_indices = np.arange(M)\n",
        "col_indices = np.arange(N)\n",
        "print(row_indices,col_indices)"
      ],
      "execution_count": null,
      "outputs": [
        {
          "output_type": "stream",
          "name": "stdout",
          "text": [
            "[0 1 2 3 4 5 6 7] [0 1 2 3 4 5 6 7]\n"
          ]
        }
      ]
    },
    {
      "cell_type": "code",
      "metadata": {
        "colab": {
          "base_uri": "https://localhost:8080/"
        },
        "id": "j_mvBvQN1Pao",
        "outputId": "e148b7eb-1f2d-4635-80e0-e4d50961298b"
      },
      "source": [
        "for i in row_indices:\n",
        "  for j in col_indices:\n",
        "    print('C[',i,'][',j+1,']:',data_csvfile.iloc[i,j+1])"
      ],
      "execution_count": null,
      "outputs": [
        {
          "output_type": "stream",
          "name": "stdout",
          "text": [
            "C[ 0 ][ 1 ]: 627\n",
            "C[ 0 ][ 2 ]: 617\n",
            "C[ 0 ][ 3 ]: 1270\n",
            "C[ 0 ][ 4 ]: 2072\n",
            "C[ 0 ][ 5 ]: 1415\n",
            "C[ 0 ][ 6 ]: 2943\n",
            "C[ 0 ][ 7 ]: 1064\n",
            "C[ 0 ][ 8 ]: 4265\n",
            "C[ 1 ][ 1 ]: 159\n",
            "C[ 1 ][ 2 ]: 1432\n",
            "C[ 1 ][ 3 ]: 351\n",
            "C[ 1 ][ 4 ]: 3372\n",
            "C[ 1 ][ 5 ]: 237\n",
            "C[ 1 ][ 6 ]: 3373\n",
            "C[ 1 ][ 7 ]: 1456\n",
            "C[ 1 ][ 8 ]: 5059\n",
            "C[ 2 ][ 1 ]: 609\n",
            "C[ 2 ][ 2 ]: 1943\n",
            "C[ 2 ][ 3 ]: 77\n",
            "C[ 2 ][ 4 ]: 3365\n",
            "C[ 2 ][ 5 ]: 298\n",
            "C[ 2 ][ 6 ]: 3021\n",
            "C[ 2 ][ 7 ]: 1484\n",
            "C[ 2 ][ 8 ]: 4803\n",
            "C[ 3 ][ 1 ]: 2143\n",
            "C[ 3 ][ 2 ]: 671\n",
            "C[ 3 ][ 3 ]: 3876\n",
            "C[ 3 ][ 4 ]: 537\n",
            "C[ 3 ][ 5 ]: 1902\n",
            "C[ 3 ][ 6 ]: 1941\n",
            "C[ 3 ][ 7 ]: 1682\n",
            "C[ 3 ][ 8 ]: 3348\n",
            "C[ 4 ][ 1 ]: 2742\n",
            "C[ 4 ][ 2 ]: 2089\n",
            "C[ 4 ][ 3 ]: 1931\n",
            "C[ 4 ][ 4 ]: 2199\n",
            "C[ 4 ][ 5 ]: 1226\n",
            "C[ 4 ][ 6 ]: 739\n",
            "C[ 4 ][ 7 ]: 691\n",
            "C[ 4 ][ 8 ]: 1128\n",
            "C[ 5 ][ 1 ]: 2053\n",
            "C[ 5 ][ 2 ]: 860\n",
            "C[ 5 ][ 3 ]: 2995\n",
            "C[ 5 ][ 4 ]: 68\n",
            "C[ 5 ][ 5 ]: 2069\n",
            "C[ 5 ][ 6 ]: 2065\n",
            "C[ 5 ][ 7 ]: 993\n",
            "C[ 5 ][ 8 ]: 3342\n",
            "C[ 6 ][ 1 ]: 656\n",
            "C[ 6 ][ 2 ]: 817\n",
            "C[ 6 ][ 3 ]: 1245\n",
            "C[ 6 ][ 4 ]: 2141\n",
            "C[ 6 ][ 5 ]: 1534\n",
            "C[ 6 ][ 6 ]: 3351\n",
            "C[ 6 ][ 7 ]: 1137\n",
            "C[ 6 ][ 8 ]: 3887\n",
            "C[ 7 ][ 1 ]: 195\n",
            "C[ 7 ][ 2 ]: 1862\n",
            "C[ 7 ][ 3 ]: 1331\n",
            "C[ 7 ][ 4 ]: 2921\n",
            "C[ 7 ][ 5 ]: 402\n",
            "C[ 7 ][ 6 ]: 2825\n",
            "C[ 7 ][ 7 ]: 563\n",
            "C[ 7 ][ 8 ]: 4441\n"
          ]
        }
      ]
    },
    {
      "cell_type": "code",
      "metadata": {
        "id": "ZeNVpvYx2GYt"
      },
      "source": [
        "model.x = Var(row_indices,col_indices,domain=NonNegativeIntegers)"
      ],
      "execution_count": null,
      "outputs": []
    },
    {
      "cell_type": "code",
      "metadata": {
        "id": "wsU1kC8u2nvU"
      },
      "source": [
        "model.objective = Objective(expr = sum(data_csvfile.iloc[i,j+1]*model.x[i,j] for i in row_indices for j in col_indices),sense = minimize)"
      ],
      "execution_count": null,
      "outputs": []
    },
    {
      "cell_type": "code",
      "metadata": {
        "id": "RucptX9e3RKS"
      },
      "source": [
        "model.constraints = ConstraintList()"
      ],
      "execution_count": null,
      "outputs": []
    },
    {
      "cell_type": "code",
      "metadata": {
        "id": "pldGA7Yr4Dpq"
      },
      "source": [
        "for i in row_indices:\n",
        "  model.constraints.add(expr=sum(model.x[i,j] for j in col_indices) <= data_csvfile.iloc[i,N+1])"
      ],
      "execution_count": null,
      "outputs": []
    },
    {
      "cell_type": "code",
      "metadata": {
        "id": "zR13pIsb6otq"
      },
      "source": [
        "for j in col_indices:\n",
        "  model.constraints.add(expr=sum(model.x[i,j] for i in row_indices) == data_csvfile.iloc[M,j+1])"
      ],
      "execution_count": null,
      "outputs": []
    },
    {
      "cell_type": "code",
      "metadata": {
        "colab": {
          "base_uri": "https://localhost:8080/"
        },
        "id": "I6GXWB7L6vh7",
        "outputId": "6823e1b0-7db7-4fde-f992-f48f4526037d"
      },
      "source": [
        "model.pprint()"
      ],
      "execution_count": null,
      "outputs": [
        {
          "output_type": "stream",
          "name": "stdout",
          "text": [
            "4 Set Declarations\n",
            "    constraints_index : Size=1, Index=None, Ordered=Insertion\n",
            "        Key  : Dimen : Domain : Size : Members\n",
            "        None :     1 :    Any :   16 : {1, 2, 3, 4, 5, 6, 7, 8, 9, 10, 11, 12, 13, 14, 15, 16}\n",
            "    x_index : Size=1, Index=None, Ordered=False\n",
            "        Key  : Dimen : Domain              : Size : Members\n",
            "        None :     2 : x_index_0*x_index_1 :   64 : {(0, 0), (0, 1), (0, 2), (0, 3), (0, 4), (0, 5), (0, 6), (0, 7), (1, 0), (1, 1), (1, 2), (1, 3), (1, 4), (1, 5), (1, 6), (1, 7), (2, 0), (2, 1), (2, 2), (2, 3), (2, 4), (2, 5), (2, 6), (2, 7), (3, 0), (3, 1), (3, 2), (3, 3), (3, 4), (3, 5), (3, 6), (3, 7), (4, 0), (4, 1), (4, 2), (4, 3), (4, 4), (4, 5), (4, 6), (4, 7), (5, 0), (5, 1), (5, 2), (5, 3), (5, 4), (5, 5), (5, 6), (5, 7), (6, 0), (6, 1), (6, 2), (6, 3), (6, 4), (6, 5), (6, 6), (6, 7), (7, 0), (7, 1), (7, 2), (7, 3), (7, 4), (7, 5), (7, 6), (7, 7)}\n",
            "    x_index_0 : Size=1, Index=None, Ordered=False\n",
            "        Key  : Dimen : Domain : Size : Members\n",
            "        None :     1 :    Any :    8 : {0, 1, 2, 3, 4, 5, 6, 7}\n",
            "    x_index_1 : Size=1, Index=None, Ordered=False\n",
            "        Key  : Dimen : Domain : Size : Members\n",
            "        None :     1 :    Any :    8 : {0, 1, 2, 3, 4, 5, 6, 7}\n",
            "\n",
            "1 Var Declarations\n",
            "    x : Size=64, Index=x_index\n",
            "        Key    : Lower : Value : Upper : Fixed : Stale : Domain\n",
            "        (0, 0) :     0 :  None :  None : False :  True : NonNegativeIntegers\n",
            "        (0, 1) :     0 :  None :  None : False :  True : NonNegativeIntegers\n",
            "        (0, 2) :     0 :  None :  None : False :  True : NonNegativeIntegers\n",
            "        (0, 3) :     0 :  None :  None : False :  True : NonNegativeIntegers\n",
            "        (0, 4) :     0 :  None :  None : False :  True : NonNegativeIntegers\n",
            "        (0, 5) :     0 :  None :  None : False :  True : NonNegativeIntegers\n",
            "        (0, 6) :     0 :  None :  None : False :  True : NonNegativeIntegers\n",
            "        (0, 7) :     0 :  None :  None : False :  True : NonNegativeIntegers\n",
            "        (1, 0) :     0 :  None :  None : False :  True : NonNegativeIntegers\n",
            "        (1, 1) :     0 :  None :  None : False :  True : NonNegativeIntegers\n",
            "        (1, 2) :     0 :  None :  None : False :  True : NonNegativeIntegers\n",
            "        (1, 3) :     0 :  None :  None : False :  True : NonNegativeIntegers\n",
            "        (1, 4) :     0 :  None :  None : False :  True : NonNegativeIntegers\n",
            "        (1, 5) :     0 :  None :  None : False :  True : NonNegativeIntegers\n",
            "        (1, 6) :     0 :  None :  None : False :  True : NonNegativeIntegers\n",
            "        (1, 7) :     0 :  None :  None : False :  True : NonNegativeIntegers\n",
            "        (2, 0) :     0 :  None :  None : False :  True : NonNegativeIntegers\n",
            "        (2, 1) :     0 :  None :  None : False :  True : NonNegativeIntegers\n",
            "        (2, 2) :     0 :  None :  None : False :  True : NonNegativeIntegers\n",
            "        (2, 3) :     0 :  None :  None : False :  True : NonNegativeIntegers\n",
            "        (2, 4) :     0 :  None :  None : False :  True : NonNegativeIntegers\n",
            "        (2, 5) :     0 :  None :  None : False :  True : NonNegativeIntegers\n",
            "        (2, 6) :     0 :  None :  None : False :  True : NonNegativeIntegers\n",
            "        (2, 7) :     0 :  None :  None : False :  True : NonNegativeIntegers\n",
            "        (3, 0) :     0 :  None :  None : False :  True : NonNegativeIntegers\n",
            "        (3, 1) :     0 :  None :  None : False :  True : NonNegativeIntegers\n",
            "        (3, 2) :     0 :  None :  None : False :  True : NonNegativeIntegers\n",
            "        (3, 3) :     0 :  None :  None : False :  True : NonNegativeIntegers\n",
            "        (3, 4) :     0 :  None :  None : False :  True : NonNegativeIntegers\n",
            "        (3, 5) :     0 :  None :  None : False :  True : NonNegativeIntegers\n",
            "        (3, 6) :     0 :  None :  None : False :  True : NonNegativeIntegers\n",
            "        (3, 7) :     0 :  None :  None : False :  True : NonNegativeIntegers\n",
            "        (4, 0) :     0 :  None :  None : False :  True : NonNegativeIntegers\n",
            "        (4, 1) :     0 :  None :  None : False :  True : NonNegativeIntegers\n",
            "        (4, 2) :     0 :  None :  None : False :  True : NonNegativeIntegers\n",
            "        (4, 3) :     0 :  None :  None : False :  True : NonNegativeIntegers\n",
            "        (4, 4) :     0 :  None :  None : False :  True : NonNegativeIntegers\n",
            "        (4, 5) :     0 :  None :  None : False :  True : NonNegativeIntegers\n",
            "        (4, 6) :     0 :  None :  None : False :  True : NonNegativeIntegers\n",
            "        (4, 7) :     0 :  None :  None : False :  True : NonNegativeIntegers\n",
            "        (5, 0) :     0 :  None :  None : False :  True : NonNegativeIntegers\n",
            "        (5, 1) :     0 :  None :  None : False :  True : NonNegativeIntegers\n",
            "        (5, 2) :     0 :  None :  None : False :  True : NonNegativeIntegers\n",
            "        (5, 3) :     0 :  None :  None : False :  True : NonNegativeIntegers\n",
            "        (5, 4) :     0 :  None :  None : False :  True : NonNegativeIntegers\n",
            "        (5, 5) :     0 :  None :  None : False :  True : NonNegativeIntegers\n",
            "        (5, 6) :     0 :  None :  None : False :  True : NonNegativeIntegers\n",
            "        (5, 7) :     0 :  None :  None : False :  True : NonNegativeIntegers\n",
            "        (6, 0) :     0 :  None :  None : False :  True : NonNegativeIntegers\n",
            "        (6, 1) :     0 :  None :  None : False :  True : NonNegativeIntegers\n",
            "        (6, 2) :     0 :  None :  None : False :  True : NonNegativeIntegers\n",
            "        (6, 3) :     0 :  None :  None : False :  True : NonNegativeIntegers\n",
            "        (6, 4) :     0 :  None :  None : False :  True : NonNegativeIntegers\n",
            "        (6, 5) :     0 :  None :  None : False :  True : NonNegativeIntegers\n",
            "        (6, 6) :     0 :  None :  None : False :  True : NonNegativeIntegers\n",
            "        (6, 7) :     0 :  None :  None : False :  True : NonNegativeIntegers\n",
            "        (7, 0) :     0 :  None :  None : False :  True : NonNegativeIntegers\n",
            "        (7, 1) :     0 :  None :  None : False :  True : NonNegativeIntegers\n",
            "        (7, 2) :     0 :  None :  None : False :  True : NonNegativeIntegers\n",
            "        (7, 3) :     0 :  None :  None : False :  True : NonNegativeIntegers\n",
            "        (7, 4) :     0 :  None :  None : False :  True : NonNegativeIntegers\n",
            "        (7, 5) :     0 :  None :  None : False :  True : NonNegativeIntegers\n",
            "        (7, 6) :     0 :  None :  None : False :  True : NonNegativeIntegers\n",
            "        (7, 7) :     0 :  None :  None : False :  True : NonNegativeIntegers\n",
            "\n",
            "1 Objective Declarations\n",
            "    objective : Size=1, Index=None, Active=True\n",
            "        Key  : Active : Sense    : Expression\n",
            "        None :   True : minimize : 627*x[0,0] + 617*x[0,1] + 1270*x[0,2] + 2072*x[0,3] + 1415*x[0,4] + 2943*x[0,5] + 1064*x[0,6] + 4265*x[0,7] + 159*x[1,0] + 1432*x[1,1] + 351*x[1,2] + 3372*x[1,3] + 237*x[1,4] + 3373*x[1,5] + 1456*x[1,6] + 5059*x[1,7] + 609*x[2,0] + 1943*x[2,1] + 77*x[2,2] + 3365*x[2,3] + 298*x[2,4] + 3021*x[2,5] + 1484*x[2,6] + 4803*x[2,7] + 2143*x[3,0] + 671*x[3,1] + 3876*x[3,2] + 537*x[3,3] + 1902*x[3,4] + 1941*x[3,5] + 1682*x[3,6] + 3348*x[3,7] + 2742*x[4,0] + 2089*x[4,1] + 1931*x[4,2] + 2199*x[4,3] + 1226*x[4,4] + 739*x[4,5] + 691*x[4,6] + 1128*x[4,7] + 2053*x[5,0] + 860*x[5,1] + 2995*x[5,2] + 68*x[5,3] + 2069*x[5,4] + 2065*x[5,5] + 993*x[5,6] + 3342*x[5,7] + 656*x[6,0] + 817*x[6,1] + 1245*x[6,2] + 2141*x[6,3] + 1534*x[6,4] + 3351*x[6,5] + 1137*x[6,6] + 3887*x[6,7] + 195*x[7,0] + 1862*x[7,1] + 1331*x[7,2] + 2921*x[7,3] + 402*x[7,4] + 2825*x[7,5] + 563*x[7,6] + 4441*x[7,7]\n",
            "\n",
            "1 Constraint Declarations\n",
            "    constraints : Size=16, Index=constraints_index, Active=True\n",
            "        Key : Lower : Body                                                                  : Upper : Active\n",
            "          1 :  -Inf : x[0,0] + x[0,1] + x[0,2] + x[0,3] + x[0,4] + x[0,5] + x[0,6] + x[0,7] : 185.0 :   True\n",
            "          2 :  -Inf : x[1,0] + x[1,1] + x[1,2] + x[1,3] + x[1,4] + x[1,5] + x[1,6] + x[1,7] : 350.0 :   True\n",
            "          3 :  -Inf : x[2,0] + x[2,1] + x[2,2] + x[2,3] + x[2,4] + x[2,5] + x[2,6] + x[2,7] : 405.0 :   True\n",
            "          4 :  -Inf : x[3,0] + x[3,1] + x[3,2] + x[3,3] + x[3,4] + x[3,5] + x[3,6] + x[3,7] : 280.0 :   True\n",
            "          5 :  -Inf : x[4,0] + x[4,1] + x[4,2] + x[4,3] + x[4,4] + x[4,5] + x[4,6] + x[4,7] : 105.0 :   True\n",
            "          6 :  -Inf : x[5,0] + x[5,1] + x[5,2] + x[5,3] + x[5,4] + x[5,5] + x[5,6] + x[5,7] :  75.0 :   True\n",
            "          7 :  -Inf : x[6,0] + x[6,1] + x[6,2] + x[6,3] + x[6,4] + x[6,5] + x[6,6] + x[6,7] : 425.0 :   True\n",
            "          8 :  -Inf : x[7,0] + x[7,1] + x[7,2] + x[7,3] + x[7,4] + x[7,5] + x[7,6] + x[7,7] : 270.0 :   True\n",
            "          9 : 175.0 : x[0,0] + x[1,0] + x[2,0] + x[3,0] + x[4,0] + x[5,0] + x[6,0] + x[7,0] : 175.0 :   True\n",
            "         10 : 400.0 : x[0,1] + x[1,1] + x[2,1] + x[3,1] + x[4,1] + x[5,1] + x[6,1] + x[7,1] : 400.0 :   True\n",
            "         11 : 550.0 : x[0,2] + x[1,2] + x[2,2] + x[3,2] + x[4,2] + x[5,2] + x[6,2] + x[7,2] : 550.0 :   True\n",
            "         12 :  70.0 : x[0,3] + x[1,3] + x[2,3] + x[3,3] + x[4,3] + x[5,3] + x[6,3] + x[7,3] :  70.0 :   True\n",
            "         13 : 650.0 : x[0,4] + x[1,4] + x[2,4] + x[3,4] + x[4,4] + x[5,4] + x[6,4] + x[7,4] : 650.0 :   True\n",
            "         14 : 100.0 : x[0,5] + x[1,5] + x[2,5] + x[3,5] + x[4,5] + x[5,5] + x[6,5] + x[7,5] : 100.0 :   True\n",
            "         15 :  65.0 : x[0,6] + x[1,6] + x[2,6] + x[3,6] + x[4,6] + x[5,6] + x[6,6] + x[7,6] :  65.0 :   True\n",
            "         16 :  85.0 : x[0,7] + x[1,7] + x[2,7] + x[3,7] + x[4,7] + x[5,7] + x[6,7] + x[7,7] :  85.0 :   True\n",
            "\n",
            "7 Declarations: x_index_0 x_index_1 x_index x objective constraints_index constraints\n"
          ]
        }
      ]
    },
    {
      "cell_type": "code",
      "metadata": {
        "id": "gqj4oYRc7j8T"
      },
      "source": [
        "!apt-get install -y -qq coinor-cbc"
      ],
      "execution_count": null,
      "outputs": []
    },
    {
      "cell_type": "code",
      "metadata": {
        "id": "-Z0Y6xpX8AFj"
      },
      "source": [
        "opt_cbc = SolverFactory('cbc')"
      ],
      "execution_count": null,
      "outputs": []
    },
    {
      "cell_type": "code",
      "metadata": {
        "colab": {
          "base_uri": "https://localhost:8080/"
        },
        "id": "BaLAhrdD8Ijb",
        "outputId": "2e0e4b3f-733f-4d35-8d58-480d7893212d"
      },
      "source": [
        "result = opt_cbc.solve(model)\n",
        "print('Solver status:', result.solver.status)\n",
        "print('Solver termination condition:',result.solver.termination_condition)"
      ],
      "execution_count": null,
      "outputs": [
        {
          "output_type": "stream",
          "name": "stdout",
          "text": [
            "Solver status: ok\n",
            "Solver termination condition: optimal\n"
          ]
        }
      ]
    },
    {
      "cell_type": "code",
      "metadata": {
        "colab": {
          "base_uri": "https://localhost:8080/"
        },
        "id": "iL1D_pXg8Kco",
        "outputId": "25c65e07-a33e-4332-ec2f-bb29b2326e95"
      },
      "source": [
        "print('Objective = ', model.objective())\n",
        "\n",
        "print('\\nDecision Variables')\n",
        "for i in row_indices:\n",
        "  for j in col_indices:\n",
        "    print('Truck-Loads of WMUs transported between ',data_csvfile['Warehouses'][i],' and ', data_csvfile.columns[j+1],':', model.x[i,j].value)\n",
        "\n",
        "print('\\nConstraints')\n",
        "model.constraints.display()"
      ],
      "execution_count": null,
      "outputs": [
        {
          "output_type": "stream",
          "name": "stdout",
          "text": [
            "Objective =  1166465.0\n",
            "\n",
            "Decision Variables\n",
            "Truck-Loads of WMUs transported between  Ahmedabad  and  Hassan : 0.0\n",
            "Truck-Loads of WMUs transported between  Ahmedabad  and  Jodhpur : 185.0\n",
            "Truck-Loads of WMUs transported between  Ahmedabad  and  Trichy : 0.0\n",
            "Truck-Loads of WMUs transported between  Ahmedabad  and  Simla : 0.0\n",
            "Truck-Loads of WMUs transported between  Ahmedabad  and  Vijayawada : 0.0\n",
            "Truck-Loads of WMUs transported between  Ahmedabad  and  Dibrugarh : 0.0\n",
            "Truck-Loads of WMUs transported between  Ahmedabad  and  Raipur : 0.0\n",
            "Truck-Loads of WMUs transported between  Ahmedabad  and  Agartala : 0.0\n",
            "Truck-Loads of WMUs transported between  Bengaluru  and  Hassan : 0.0\n",
            "Truck-Loads of WMUs transported between  Bengaluru  and  Jodhpur : 0.0\n",
            "Truck-Loads of WMUs transported between  Bengaluru  and  Trichy : 0.0\n",
            "Truck-Loads of WMUs transported between  Bengaluru  and  Simla : 0.0\n",
            "Truck-Loads of WMUs transported between  Bengaluru  and  Vijayawada : 350.0\n",
            "Truck-Loads of WMUs transported between  Bengaluru  and  Dibrugarh : 0.0\n",
            "Truck-Loads of WMUs transported between  Bengaluru  and  Raipur : 0.0\n",
            "Truck-Loads of WMUs transported between  Bengaluru  and  Agartala : 0.0\n",
            "Truck-Loads of WMUs transported between  Chennai  and  Hassan : 0.0\n",
            "Truck-Loads of WMUs transported between  Chennai  and  Jodhpur : 0.0\n",
            "Truck-Loads of WMUs transported between  Chennai  and  Trichy : 375.0\n",
            "Truck-Loads of WMUs transported between  Chennai  and  Simla : 0.0\n",
            "Truck-Loads of WMUs transported between  Chennai  and  Vijayawada : 30.0\n",
            "Truck-Loads of WMUs transported between  Chennai  and  Dibrugarh : 0.0\n",
            "Truck-Loads of WMUs transported between  Chennai  and  Raipur : 0.0\n",
            "Truck-Loads of WMUs transported between  Chennai  and  Agartala : 0.0\n",
            "Truck-Loads of WMUs transported between  Delhi  and  Hassan : 0.0\n",
            "Truck-Loads of WMUs transported between  Delhi  and  Jodhpur : 200.0\n",
            "Truck-Loads of WMUs transported between  Delhi  and  Trichy : 0.0\n",
            "Truck-Loads of WMUs transported between  Delhi  and  Simla : 0.0\n",
            "Truck-Loads of WMUs transported between  Delhi  and  Vijayawada : 0.0\n",
            "Truck-Loads of WMUs transported between  Delhi  and  Dibrugarh : 80.0\n",
            "Truck-Loads of WMUs transported between  Delhi  and  Raipur : 0.0\n",
            "Truck-Loads of WMUs transported between  Delhi  and  Agartala : 0.0\n",
            "Truck-Loads of WMUs transported between  Kolkata  and  Hassan : 0.0\n",
            "Truck-Loads of WMUs transported between  Kolkata  and  Jodhpur : 0.0\n",
            "Truck-Loads of WMUs transported between  Kolkata  and  Trichy : 0.0\n",
            "Truck-Loads of WMUs transported between  Kolkata  and  Simla : 0.0\n",
            "Truck-Loads of WMUs transported between  Kolkata  and  Vijayawada : 0.0\n",
            "Truck-Loads of WMUs transported between  Kolkata  and  Dibrugarh : 20.0\n",
            "Truck-Loads of WMUs transported between  Kolkata  and  Raipur : 0.0\n",
            "Truck-Loads of WMUs transported between  Kolkata  and  Agartala : 85.0\n",
            "Truck-Loads of WMUs transported between  Lucknow  and  Hassan : 0.0\n",
            "Truck-Loads of WMUs transported between  Lucknow  and  Jodhpur : 0.0\n",
            "Truck-Loads of WMUs transported between  Lucknow  and  Trichy : 0.0\n",
            "Truck-Loads of WMUs transported between  Lucknow  and  Simla : 70.0\n",
            "Truck-Loads of WMUs transported between  Lucknow  and  Vijayawada : 0.0\n",
            "Truck-Loads of WMUs transported between  Lucknow  and  Dibrugarh : 0.0\n",
            "Truck-Loads of WMUs transported between  Lucknow  and  Raipur : 5.0\n",
            "Truck-Loads of WMUs transported between  Lucknow  and  Agartala : 0.0\n",
            "Truck-Loads of WMUs transported between  Mumbai  and  Hassan : 175.0\n",
            "Truck-Loads of WMUs transported between  Mumbai  and  Jodhpur : 15.0\n",
            "Truck-Loads of WMUs transported between  Mumbai  and  Trichy : 175.0\n",
            "Truck-Loads of WMUs transported between  Mumbai  and  Simla : 0.0\n",
            "Truck-Loads of WMUs transported between  Mumbai  and  Vijayawada : 0.0\n",
            "Truck-Loads of WMUs transported between  Mumbai  and  Dibrugarh : 0.0\n",
            "Truck-Loads of WMUs transported between  Mumbai  and  Raipur : 60.0\n",
            "Truck-Loads of WMUs transported between  Mumbai  and  Agartala : 0.0\n",
            "Truck-Loads of WMUs transported between  Hyderabad  and  Hassan : 0.0\n",
            "Truck-Loads of WMUs transported between  Hyderabad  and  Jodhpur : 0.0\n",
            "Truck-Loads of WMUs transported between  Hyderabad  and  Trichy : 0.0\n",
            "Truck-Loads of WMUs transported between  Hyderabad  and  Simla : 0.0\n",
            "Truck-Loads of WMUs transported between  Hyderabad  and  Vijayawada : 270.0\n",
            "Truck-Loads of WMUs transported between  Hyderabad  and  Dibrugarh : 0.0\n",
            "Truck-Loads of WMUs transported between  Hyderabad  and  Raipur : 0.0\n",
            "Truck-Loads of WMUs transported between  Hyderabad  and  Agartala : 0.0\n",
            "\n",
            "Constraints\n",
            "constraints : Size=16\n",
            "    Key : Lower : Body  : Upper\n",
            "      1 :  None : 185.0 : 185.0\n",
            "      2 :  None : 350.0 : 350.0\n",
            "      3 :  None : 405.0 : 405.0\n",
            "      4 :  None : 280.0 : 280.0\n",
            "      5 :  None : 105.0 : 105.0\n",
            "      6 :  None :  75.0 :  75.0\n",
            "      7 :  None : 425.0 : 425.0\n",
            "      8 :  None : 270.0 : 270.0\n",
            "      9 : 175.0 : 175.0 : 175.0\n",
            "     10 : 400.0 : 400.0 : 400.0\n",
            "     11 : 550.0 : 550.0 : 550.0\n",
            "     12 :  70.0 :  70.0 :  70.0\n",
            "     13 : 650.0 : 650.0 : 650.0\n",
            "     14 : 100.0 : 100.0 : 100.0\n",
            "     15 :  65.0 :  65.0 :  65.0\n",
            "     16 :  85.0 :  85.0 :  85.0\n"
          ]
        }
      ]
    },
    {
      "cell_type": "markdown",
      "metadata": {
        "id": "vohrPW3TRF1Y"
      },
      "source": [
        "#Ans 7 :\n",
        "\n",
        "The total cost is : 1166465\n",
        "\n",
        "From Ahmedabad, 185 truck loads of WMUs are transported to Jodhpur.\n",
        "\n",
        "From Bengaluru, 350 truck loads of WMUs are transported to Vijaywada.\n",
        "\n",
        "From Chennai, 375 truck loads of WMUs are transported to Trichy, 30 truck loads of WMUs are transported to Trichy.\n",
        "\n",
        "From Delhi, 200 truck loads of WMUs are transported to Jodhpur, 80 truck loads of WMUs are transported to Dibrugarh.\n",
        "\n",
        "From Kolkata, 20 truck loads of WMUs are transported to Dibrugarh, 85 truck loads of WMUs are transported to Agartala.\n",
        "\n",
        "From Lucknow, 70 truck loads of WMUs are transported to Simla, 5 truck loads of WMUs are transported to Raipur.\n",
        "\n",
        "From Mumbai, 175 truck loads of WMUs are transported to Hassan, 15 to Jodhpur, 175 to Trichy, and 60 to Raipur.\n",
        "\n",
        "From Hyderabad, 270 truck loads of WMUs are transported to Vijaywada."
      ]
    },
    {
      "cell_type": "markdown",
      "metadata": {
        "id": "kGJChag6VMHx"
      },
      "source": [
        "#Ans 8 :\n",
        "\n",
        "To solve the problem without changing our model, we'd access the corresponding cost of transporting from Bengaluru to Hassan and make it absurdly large, since it is a cost minimization problem, we'll achieve the desired result."
      ]
    },
    {
      "cell_type": "code",
      "metadata": {
        "colab": {
          "base_uri": "https://localhost:8080/"
        },
        "id": "h5T-yXTAU4s3",
        "outputId": "f7e8f8af-520c-4410-9054-7e39877c02ac"
      },
      "source": [
        "data_csvfile['Hassan'][1] = 5000\n",
        "model.objective = Objective(expr = sum(data_csvfile.iloc[i,j+1]*model.x[i,j] for i in row_indices for j in col_indices),sense = minimize)"
      ],
      "execution_count": null,
      "outputs": [
        {
          "output_type": "stream",
          "name": "stdout",
          "text": [
            "WARNING: Implicitly replacing the Component attribute objective (type=<class\n",
            "    'pyomo.core.base.objective.ScalarObjective'>) on block unknown with a new\n",
            "    Component (type=<class 'pyomo.core.base.objective.ScalarObjective'>). This\n",
            "    is usually indicative of a modelling error. To avoid this warning, use\n",
            "    block.del_component() and block.add_component().\n"
          ]
        },
        {
          "output_type": "stream",
          "name": "stderr",
          "text": [
            "/usr/local/lib/python3.7/dist-packages/ipykernel_launcher.py:1: SettingWithCopyWarning: \n",
            "A value is trying to be set on a copy of a slice from a DataFrame\n",
            "\n",
            "See the caveats in the documentation: https://pandas.pydata.org/pandas-docs/stable/user_guide/indexing.html#returning-a-view-versus-a-copy\n",
            "  \"\"\"Entry point for launching an IPython kernel.\n"
          ]
        }
      ]
    },
    {
      "cell_type": "code",
      "metadata": {
        "colab": {
          "base_uri": "https://localhost:8080/"
        },
        "id": "Kwxt2walVAYG",
        "outputId": "203b5213-c385-41c6-c076-2594d53f8715"
      },
      "source": [
        "result = opt_cbc.solve(model)\n",
        "print('Solver status:', result.solver.status)\n",
        "print('Solver termination condition:',result.solver.termination_condition)"
      ],
      "execution_count": null,
      "outputs": [
        {
          "output_type": "stream",
          "name": "stdout",
          "text": [
            "Solver status: ok\n",
            "Solver termination condition: optimal\n"
          ]
        }
      ]
    },
    {
      "cell_type": "code",
      "metadata": {
        "colab": {
          "base_uri": "https://localhost:8080/"
        },
        "id": "mw25EQipVDWT",
        "outputId": "eb3c1658-5650-4e91-e894-5fb350629523"
      },
      "source": [
        "print('Objective = ', model.objective())\n",
        "\n",
        "print('\\nDecision Variables')\n",
        "for i in row_indices:\n",
        "  for j in col_indices:\n",
        "    print('Truck-Loads of WMUs transported between ',data_csvfile['Warehouses'][i],' and ', data_csvfile.columns[j+1],':', model.x[i,j].value)\n",
        "\n",
        "print('\\nConstraints')\n",
        "model.constraints.display()"
      ],
      "execution_count": null,
      "outputs": [
        {
          "output_type": "stream",
          "name": "stdout",
          "text": [
            "Objective =  1166465.0\n",
            "\n",
            "Decision Variables\n",
            "Truck-Loads of WMUs transported between  Ahmedabad  and  Hassan : 0.0\n",
            "Truck-Loads of WMUs transported between  Ahmedabad  and  Jodhpur : 185.0\n",
            "Truck-Loads of WMUs transported between  Ahmedabad  and  Trichy : 0.0\n",
            "Truck-Loads of WMUs transported between  Ahmedabad  and  Simla : 0.0\n",
            "Truck-Loads of WMUs transported between  Ahmedabad  and  Vijayawada : 0.0\n",
            "Truck-Loads of WMUs transported between  Ahmedabad  and  Dibrugarh : 0.0\n",
            "Truck-Loads of WMUs transported between  Ahmedabad  and  Raipur : 0.0\n",
            "Truck-Loads of WMUs transported between  Ahmedabad  and  Agartala : 0.0\n",
            "Truck-Loads of WMUs transported between  Bengaluru  and  Hassan : 0.0\n",
            "Truck-Loads of WMUs transported between  Bengaluru  and  Jodhpur : 0.0\n",
            "Truck-Loads of WMUs transported between  Bengaluru  and  Trichy : 0.0\n",
            "Truck-Loads of WMUs transported between  Bengaluru  and  Simla : 0.0\n",
            "Truck-Loads of WMUs transported between  Bengaluru  and  Vijayawada : 350.0\n",
            "Truck-Loads of WMUs transported between  Bengaluru  and  Dibrugarh : 0.0\n",
            "Truck-Loads of WMUs transported between  Bengaluru  and  Raipur : 0.0\n",
            "Truck-Loads of WMUs transported between  Bengaluru  and  Agartala : 0.0\n",
            "Truck-Loads of WMUs transported between  Chennai  and  Hassan : 0.0\n",
            "Truck-Loads of WMUs transported between  Chennai  and  Jodhpur : 0.0\n",
            "Truck-Loads of WMUs transported between  Chennai  and  Trichy : 375.0\n",
            "Truck-Loads of WMUs transported between  Chennai  and  Simla : 0.0\n",
            "Truck-Loads of WMUs transported between  Chennai  and  Vijayawada : 30.0\n",
            "Truck-Loads of WMUs transported between  Chennai  and  Dibrugarh : 0.0\n",
            "Truck-Loads of WMUs transported between  Chennai  and  Raipur : 0.0\n",
            "Truck-Loads of WMUs transported between  Chennai  and  Agartala : 0.0\n",
            "Truck-Loads of WMUs transported between  Delhi  and  Hassan : 0.0\n",
            "Truck-Loads of WMUs transported between  Delhi  and  Jodhpur : 200.0\n",
            "Truck-Loads of WMUs transported between  Delhi  and  Trichy : 0.0\n",
            "Truck-Loads of WMUs transported between  Delhi  and  Simla : 0.0\n",
            "Truck-Loads of WMUs transported between  Delhi  and  Vijayawada : 0.0\n",
            "Truck-Loads of WMUs transported between  Delhi  and  Dibrugarh : 80.0\n",
            "Truck-Loads of WMUs transported between  Delhi  and  Raipur : 0.0\n",
            "Truck-Loads of WMUs transported between  Delhi  and  Agartala : 0.0\n",
            "Truck-Loads of WMUs transported between  Kolkata  and  Hassan : 0.0\n",
            "Truck-Loads of WMUs transported between  Kolkata  and  Jodhpur : 0.0\n",
            "Truck-Loads of WMUs transported between  Kolkata  and  Trichy : 0.0\n",
            "Truck-Loads of WMUs transported between  Kolkata  and  Simla : 0.0\n",
            "Truck-Loads of WMUs transported between  Kolkata  and  Vijayawada : 0.0\n",
            "Truck-Loads of WMUs transported between  Kolkata  and  Dibrugarh : 20.0\n",
            "Truck-Loads of WMUs transported between  Kolkata  and  Raipur : 0.0\n",
            "Truck-Loads of WMUs transported between  Kolkata  and  Agartala : 85.0\n",
            "Truck-Loads of WMUs transported between  Lucknow  and  Hassan : 0.0\n",
            "Truck-Loads of WMUs transported between  Lucknow  and  Jodhpur : 0.0\n",
            "Truck-Loads of WMUs transported between  Lucknow  and  Trichy : 0.0\n",
            "Truck-Loads of WMUs transported between  Lucknow  and  Simla : 70.0\n",
            "Truck-Loads of WMUs transported between  Lucknow  and  Vijayawada : 0.0\n",
            "Truck-Loads of WMUs transported between  Lucknow  and  Dibrugarh : 0.0\n",
            "Truck-Loads of WMUs transported between  Lucknow  and  Raipur : 5.0\n",
            "Truck-Loads of WMUs transported between  Lucknow  and  Agartala : 0.0\n",
            "Truck-Loads of WMUs transported between  Mumbai  and  Hassan : 175.0\n",
            "Truck-Loads of WMUs transported between  Mumbai  and  Jodhpur : 15.0\n",
            "Truck-Loads of WMUs transported between  Mumbai  and  Trichy : 175.0\n",
            "Truck-Loads of WMUs transported between  Mumbai  and  Simla : 0.0\n",
            "Truck-Loads of WMUs transported between  Mumbai  and  Vijayawada : 0.0\n",
            "Truck-Loads of WMUs transported between  Mumbai  and  Dibrugarh : 0.0\n",
            "Truck-Loads of WMUs transported between  Mumbai  and  Raipur : 60.0\n",
            "Truck-Loads of WMUs transported between  Mumbai  and  Agartala : 0.0\n",
            "Truck-Loads of WMUs transported between  Hyderabad  and  Hassan : 0.0\n",
            "Truck-Loads of WMUs transported between  Hyderabad  and  Jodhpur : 0.0\n",
            "Truck-Loads of WMUs transported between  Hyderabad  and  Trichy : 0.0\n",
            "Truck-Loads of WMUs transported between  Hyderabad  and  Simla : 0.0\n",
            "Truck-Loads of WMUs transported between  Hyderabad  and  Vijayawada : 270.0\n",
            "Truck-Loads of WMUs transported between  Hyderabad  and  Dibrugarh : 0.0\n",
            "Truck-Loads of WMUs transported between  Hyderabad  and  Raipur : 0.0\n",
            "Truck-Loads of WMUs transported between  Hyderabad  and  Agartala : 0.0\n",
            "\n",
            "Constraints\n",
            "constraints : Size=16\n",
            "    Key : Lower : Body  : Upper\n",
            "      1 :  None : 185.0 : 185.0\n",
            "      2 :  None : 350.0 : 350.0\n",
            "      3 :  None : 405.0 : 405.0\n",
            "      4 :  None : 280.0 : 280.0\n",
            "      5 :  None : 105.0 : 105.0\n",
            "      6 :  None :  75.0 :  75.0\n",
            "      7 :  None : 425.0 : 425.0\n",
            "      8 :  None : 270.0 : 270.0\n",
            "      9 : 175.0 : 175.0 : 175.0\n",
            "     10 : 400.0 : 400.0 : 400.0\n",
            "     11 : 550.0 : 550.0 : 550.0\n",
            "     12 :  70.0 :  70.0 :  70.0\n",
            "     13 : 650.0 : 650.0 : 650.0\n",
            "     14 : 100.0 : 100.0 : 100.0\n",
            "     15 :  65.0 :  65.0 :  65.0\n",
            "     16 :  85.0 :  85.0 :  85.0\n"
          ]
        }
      ]
    },
    {
      "cell_type": "markdown",
      "metadata": {
        "id": "tVUMQTg8VHQe"
      },
      "source": [
        "#Ans 9 :\n",
        "\n",
        "The total cost is : 1166465\n",
        "\n",
        "From Ahmedabad, 185 truck loads of WMUs are transported to Jodhpur.\n",
        "\n",
        "From Bengaluru, 350 truck loads of WMUs are transported to Vijaywada.\n",
        "\n",
        "From Chennai, 375 truck loads of WMUs are transported to Trichy, 30 truck loads of WMUs are transported to Trichy.\n",
        "\n",
        "From Delhi, 200 truck loads of WMUs are transported to Jodhpur, 80 truck loads of WMUs are transported to Dibrugarh.\n",
        "\n",
        "From Kolkata, 20 truck loads of WMUs are transported to Dibrugarh, 85 truck loads of WMUs are transported to Agartala.\n",
        "\n",
        "From Lucknow, 70 truck loads of WMUs are transported to Simla, 5 truck loads of WMUs are transported to Raipur.\n",
        "\n",
        "From Mumbai, 175 truck loads of WMUs are transported to Hassan, 15 to Jodhpur, 175 to Trichy, and 60 to Raipur.\n",
        "\n",
        "From Hyderabad, 270 truck loads of WMUs are transported to Vijaywada.\n",
        "\n",
        "***Since there was no transportation between Bengaluru and Hassan initially, we do not see any changes in the solution.***"
      ]
    },
    {
      "cell_type": "markdown",
      "metadata": {
        "id": "JDREmQacYhlQ"
      },
      "source": [
        "#Ans 10 :\n",
        "\n",
        "Similarly, we increase the corresponding cost of transporting from Lucknow to Simla and from Kolkata to Agartala absurdly and achieve the desired result."
      ]
    },
    {
      "cell_type": "code",
      "metadata": {
        "colab": {
          "base_uri": "https://localhost:8080/"
        },
        "id": "KXaaMI9wALKV",
        "outputId": "95831477-0b67-4032-8f72-2a58e91e4cd3"
      },
      "source": [
        "data_csvfile['Simla'][5] = 5000\n",
        "data_csvfile['Agartala'][4] = 5000\n",
        "model.objective = Objective(expr = sum(data_csvfile.iloc[i,j+1]*model.x[i,j] for i in row_indices for j in col_indices),sense = minimize)"
      ],
      "execution_count": null,
      "outputs": [
        {
          "output_type": "stream",
          "name": "stdout",
          "text": [
            "WARNING: Implicitly replacing the Component attribute objective (type=<class\n",
            "    'pyomo.core.base.objective.ScalarObjective'>) on block unknown with a new\n",
            "    Component (type=<class 'pyomo.core.base.objective.ScalarObjective'>). This\n",
            "    is usually indicative of a modelling error. To avoid this warning, use\n",
            "    block.del_component() and block.add_component().\n"
          ]
        },
        {
          "output_type": "stream",
          "name": "stderr",
          "text": [
            "/usr/local/lib/python3.7/dist-packages/ipykernel_launcher.py:1: SettingWithCopyWarning: \n",
            "A value is trying to be set on a copy of a slice from a DataFrame\n",
            "\n",
            "See the caveats in the documentation: https://pandas.pydata.org/pandas-docs/stable/user_guide/indexing.html#returning-a-view-versus-a-copy\n",
            "  \"\"\"Entry point for launching an IPython kernel.\n",
            "/usr/local/lib/python3.7/dist-packages/ipykernel_launcher.py:2: SettingWithCopyWarning: \n",
            "A value is trying to be set on a copy of a slice from a DataFrame\n",
            "\n",
            "See the caveats in the documentation: https://pandas.pydata.org/pandas-docs/stable/user_guide/indexing.html#returning-a-view-versus-a-copy\n",
            "  \n"
          ]
        }
      ]
    },
    {
      "cell_type": "code",
      "metadata": {
        "colab": {
          "base_uri": "https://localhost:8080/"
        },
        "id": "bV5wwvTqMKrZ",
        "outputId": "1be2f829-3959-48fc-c4a7-d1ca785dddbd"
      },
      "source": [
        "result = opt_cbc.solve(model)\n",
        "print('Solver status:', result.solver.status)\n",
        "print('Solver termination condition:',result.solver.termination_condition)"
      ],
      "execution_count": null,
      "outputs": [
        {
          "output_type": "stream",
          "name": "stdout",
          "text": [
            "Solver status: ok\n",
            "Solver termination condition: optimal\n"
          ]
        }
      ]
    },
    {
      "cell_type": "code",
      "metadata": {
        "colab": {
          "base_uri": "https://localhost:8080/"
        },
        "id": "C-KmvoyBMjCF",
        "outputId": "ff125029-6970-462b-d79a-7a105baedfa8"
      },
      "source": [
        "print('Objective = ', model.objective())\n",
        "\n",
        "print('\\nDecision Variables')\n",
        "for i in row_indices:\n",
        "  for j in col_indices:\n",
        "    print('Truck-Loads of WMUs transported between ',data_csvfile['Warehouses'][i],' and ', data_csvfile.columns[j+1],':', model.x[i,j].value)\n",
        "\n",
        "print('\\nConstraints')\n",
        "model.constraints.display()"
      ],
      "execution_count": null,
      "outputs": [
        {
          "output_type": "stream",
          "name": "stdout",
          "text": [
            "Objective =  1289875.0\n",
            "\n",
            "Decision Variables\n",
            "Truck-Loads of WMUs transported between  Ahmedabad  and  Hassan : 0.0\n",
            "Truck-Loads of WMUs transported between  Ahmedabad  and  Jodhpur : 185.0\n",
            "Truck-Loads of WMUs transported between  Ahmedabad  and  Trichy : 0.0\n",
            "Truck-Loads of WMUs transported between  Ahmedabad  and  Simla : 0.0\n",
            "Truck-Loads of WMUs transported between  Ahmedabad  and  Vijayawada : 0.0\n",
            "Truck-Loads of WMUs transported between  Ahmedabad  and  Dibrugarh : 0.0\n",
            "Truck-Loads of WMUs transported between  Ahmedabad  and  Raipur : 0.0\n",
            "Truck-Loads of WMUs transported between  Ahmedabad  and  Agartala : 0.0\n",
            "Truck-Loads of WMUs transported between  Bengaluru  and  Hassan : 0.0\n",
            "Truck-Loads of WMUs transported between  Bengaluru  and  Jodhpur : 0.0\n",
            "Truck-Loads of WMUs transported between  Bengaluru  and  Trichy : 0.0\n",
            "Truck-Loads of WMUs transported between  Bengaluru  and  Simla : 0.0\n",
            "Truck-Loads of WMUs transported between  Bengaluru  and  Vijayawada : 350.0\n",
            "Truck-Loads of WMUs transported between  Bengaluru  and  Dibrugarh : 0.0\n",
            "Truck-Loads of WMUs transported between  Bengaluru  and  Raipur : 0.0\n",
            "Truck-Loads of WMUs transported between  Bengaluru  and  Agartala : 0.0\n",
            "Truck-Loads of WMUs transported between  Chennai  and  Hassan : 0.0\n",
            "Truck-Loads of WMUs transported between  Chennai  and  Jodhpur : 0.0\n",
            "Truck-Loads of WMUs transported between  Chennai  and  Trichy : 375.0\n",
            "Truck-Loads of WMUs transported between  Chennai  and  Simla : 0.0\n",
            "Truck-Loads of WMUs transported between  Chennai  and  Vijayawada : 30.0\n",
            "Truck-Loads of WMUs transported between  Chennai  and  Dibrugarh : 0.0\n",
            "Truck-Loads of WMUs transported between  Chennai  and  Raipur : 0.0\n",
            "Truck-Loads of WMUs transported between  Chennai  and  Agartala : 0.0\n",
            "Truck-Loads of WMUs transported between  Delhi  and  Hassan : 0.0\n",
            "Truck-Loads of WMUs transported between  Delhi  and  Jodhpur : 200.0\n",
            "Truck-Loads of WMUs transported between  Delhi  and  Trichy : 0.0\n",
            "Truck-Loads of WMUs transported between  Delhi  and  Simla : 70.0\n",
            "Truck-Loads of WMUs transported between  Delhi  and  Vijayawada : 0.0\n",
            "Truck-Loads of WMUs transported between  Delhi  and  Dibrugarh : 0.0\n",
            "Truck-Loads of WMUs transported between  Delhi  and  Raipur : 0.0\n",
            "Truck-Loads of WMUs transported between  Delhi  and  Agartala : 10.0\n",
            "Truck-Loads of WMUs transported between  Kolkata  and  Hassan : 0.0\n",
            "Truck-Loads of WMUs transported between  Kolkata  and  Jodhpur : 0.0\n",
            "Truck-Loads of WMUs transported between  Kolkata  and  Trichy : 0.0\n",
            "Truck-Loads of WMUs transported between  Kolkata  and  Simla : 0.0\n",
            "Truck-Loads of WMUs transported between  Kolkata  and  Vijayawada : 0.0\n",
            "Truck-Loads of WMUs transported between  Kolkata  and  Dibrugarh : 100.0\n",
            "Truck-Loads of WMUs transported between  Kolkata  and  Raipur : 5.0\n",
            "Truck-Loads of WMUs transported between  Kolkata  and  Agartala : 0.0\n",
            "Truck-Loads of WMUs transported between  Lucknow  and  Hassan : 0.0\n",
            "Truck-Loads of WMUs transported between  Lucknow  and  Jodhpur : 0.0\n",
            "Truck-Loads of WMUs transported between  Lucknow  and  Trichy : 0.0\n",
            "Truck-Loads of WMUs transported between  Lucknow  and  Simla : 0.0\n",
            "Truck-Loads of WMUs transported between  Lucknow  and  Vijayawada : 0.0\n",
            "Truck-Loads of WMUs transported between  Lucknow  and  Dibrugarh : 0.0\n",
            "Truck-Loads of WMUs transported between  Lucknow  and  Raipur : 0.0\n",
            "Truck-Loads of WMUs transported between  Lucknow  and  Agartala : 75.0\n",
            "Truck-Loads of WMUs transported between  Mumbai  and  Hassan : 175.0\n",
            "Truck-Loads of WMUs transported between  Mumbai  and  Jodhpur : 15.0\n",
            "Truck-Loads of WMUs transported between  Mumbai  and  Trichy : 175.0\n",
            "Truck-Loads of WMUs transported between  Mumbai  and  Simla : 0.0\n",
            "Truck-Loads of WMUs transported between  Mumbai  and  Vijayawada : 0.0\n",
            "Truck-Loads of WMUs transported between  Mumbai  and  Dibrugarh : 0.0\n",
            "Truck-Loads of WMUs transported between  Mumbai  and  Raipur : 60.0\n",
            "Truck-Loads of WMUs transported between  Mumbai  and  Agartala : 0.0\n",
            "Truck-Loads of WMUs transported between  Hyderabad  and  Hassan : 0.0\n",
            "Truck-Loads of WMUs transported between  Hyderabad  and  Jodhpur : 0.0\n",
            "Truck-Loads of WMUs transported between  Hyderabad  and  Trichy : 0.0\n",
            "Truck-Loads of WMUs transported between  Hyderabad  and  Simla : 0.0\n",
            "Truck-Loads of WMUs transported between  Hyderabad  and  Vijayawada : 270.0\n",
            "Truck-Loads of WMUs transported between  Hyderabad  and  Dibrugarh : 0.0\n",
            "Truck-Loads of WMUs transported between  Hyderabad  and  Raipur : 0.0\n",
            "Truck-Loads of WMUs transported between  Hyderabad  and  Agartala : 0.0\n",
            "\n",
            "Constraints\n",
            "constraints : Size=16\n",
            "    Key : Lower : Body  : Upper\n",
            "      1 :  None : 185.0 : 185.0\n",
            "      2 :  None : 350.0 : 350.0\n",
            "      3 :  None : 405.0 : 405.0\n",
            "      4 :  None : 280.0 : 280.0\n",
            "      5 :  None : 105.0 : 105.0\n",
            "      6 :  None :  75.0 :  75.0\n",
            "      7 :  None : 425.0 : 425.0\n",
            "      8 :  None : 270.0 : 270.0\n",
            "      9 : 175.0 : 175.0 : 175.0\n",
            "     10 : 400.0 : 400.0 : 400.0\n",
            "     11 : 550.0 : 550.0 : 550.0\n",
            "     12 :  70.0 :  70.0 :  70.0\n",
            "     13 : 650.0 : 650.0 : 650.0\n",
            "     14 : 100.0 : 100.0 : 100.0\n",
            "     15 :  65.0 :  65.0 :  65.0\n",
            "     16 :  85.0 :  85.0 :  85.0\n"
          ]
        }
      ]
    },
    {
      "cell_type": "markdown",
      "metadata": {
        "id": "u6PD-MssY_MX"
      },
      "source": [
        "#Ans 11 :\n",
        "\n",
        "The total cost is : 1289875\n",
        "\n",
        "From Ahmedabad, 185 truck loads of WMUs are transported to Jodhpur.\n",
        "\n",
        "From Bengaluru, 350 truck loads of WMUs are transported to Vijaywada.\n",
        "\n",
        "From Chennai, 375 truck loads of WMUs are transported to Trichy, 30 truck loads of WMUs are transported to Trichy.\n",
        "\n",
        "From Delhi, 200 truck loads of WMUs are transported to Jodhpur, 70 truck loads of WMUs are transported to Shimla and 10 to Agartala.\n",
        "\n",
        "From Kolkata, 100 truck loads of WMUs are transported to Dibrugarh, 5 truck loads of WMUs are transported to Raipur.\n",
        "\n",
        "From Lucknow, 75 trucks loads of WMUs are transported to Agartala.\n",
        "\n",
        "From Mumbai, 175 truck loads of WMUs are transported to Hassan, 15 to Jodhpur, 175 to Trichy, and 60 to Raipur.\n",
        "\n",
        "From Hyderabad, 270 truck loads of WMUs are transported to Vijaywada."
      ]
    },
    {
      "cell_type": "code",
      "metadata": {
        "id": "9A7jw5RXMnso"
      },
      "source": [
        ""
      ],
      "execution_count": null,
      "outputs": []
    }
  ]
}