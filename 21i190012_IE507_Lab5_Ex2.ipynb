{
  "nbformat": 4,
  "nbformat_minor": 0,
  "metadata": {
    "colab": {
      "name": "21i190012_IE507_Lab5_Ex2.ipynb",
      "provenance": [],
      "collapsed_sections": []
    },
    "kernelspec": {
      "name": "python3",
      "display_name": "Python 3"
    },
    "language_info": {
      "name": "python"
    }
  },
  "cells": [
    {
      "cell_type": "markdown",
      "metadata": {
        "id": "vtxYWln0VWCM"
      },
      "source": [
        "#Exercise 2"
      ]
    },
    {
      "cell_type": "code",
      "metadata": {
        "id": "eCsWFgojc2yn"
      },
      "source": [
        "!pip install -q pyomo"
      ],
      "execution_count": 1,
      "outputs": []
    },
    {
      "cell_type": "code",
      "metadata": {
        "id": "PJVie-pWc9uS"
      },
      "source": [
        "from pyomo.environ import *"
      ],
      "execution_count": 2,
      "outputs": []
    },
    {
      "cell_type": "code",
      "metadata": {
        "id": "x6zfzNtidD0a"
      },
      "source": [
        "import numpy as np"
      ],
      "execution_count": 3,
      "outputs": []
    },
    {
      "cell_type": "markdown",
      "metadata": {
        "id": "qn-S9gMIVYPO"
      },
      "source": [
        "#Ans 1:\n",
        "\n",
        "Decision Variables : $x_{ij}=\\left\\{\n",
        "\\begin{array}{ll}\n",
        "      1 & \\text{when facility i is located at location j} \\\\\n",
        "      0 & \\text{when facility i is not located at location j} \\\\\n",
        "\\end{array}\\right.\\\\i = 1,\\cdots,12\\\\j = 1,\\cdots,12$\n",
        "\n",
        "$\\text{min } \\sum_{i=1}^{12}\\sum_{j=1}^{12}c_{ij}x_{ij}$\n",
        "\n",
        "subject to:\n",
        "\n",
        "$\\bullet\\sum_{i=1}^{12}x_{ij}=1 \\quad \\forall \\quad j = 1,\\cdots,12\\\\\n",
        "\\bullet\\sum_{j=1}^{12}x_{ij}=1 \\quad \\forall \\quad i = 1,\\cdots,12\\\\\n",
        "\\bullet x_{ij}=\\{0,1\\}$"
      ]
    },
    {
      "cell_type": "code",
      "metadata": {
        "id": "XA2VmPO1dGBV"
      },
      "source": [
        "coef = np.loadtxt('/content/lab5_ex2.txt', delimiter = ',')"
      ],
      "execution_count": 4,
      "outputs": []
    },
    {
      "cell_type": "code",
      "metadata": {
        "id": "5_Mu1Ibddwrh",
        "colab": {
          "base_uri": "https://localhost:8080/"
        },
        "outputId": "5493a146-9ffc-4656-b571-c09bd79e963d"
      },
      "source": [
        "print(coef.shape)"
      ],
      "execution_count": 5,
      "outputs": [
        {
          "output_type": "stream",
          "name": "stdout",
          "text": [
            "(12, 12)\n"
          ]
        }
      ]
    },
    {
      "cell_type": "code",
      "metadata": {
        "id": "MA1135oSd0JN"
      },
      "source": [
        "model = ConcreteModel()"
      ],
      "execution_count": 6,
      "outputs": []
    },
    {
      "cell_type": "code",
      "metadata": {
        "id": "_I0R9AQSeQ_V"
      },
      "source": [
        "M = coef.shape[0]\n",
        "N = coef.shape[1]"
      ],
      "execution_count": 7,
      "outputs": []
    },
    {
      "cell_type": "code",
      "metadata": {
        "id": "Aa7e8MmieyaJ"
      },
      "source": [
        "row_indices = np.arange(M)\n",
        "col_indices = np.arange(N)"
      ],
      "execution_count": 8,
      "outputs": []
    },
    {
      "cell_type": "code",
      "metadata": {
        "id": "dY9CItyDfFyU"
      },
      "source": [
        "model.x = Var(row_indices,col_indices,domain=Binary)"
      ],
      "execution_count": 9,
      "outputs": []
    },
    {
      "cell_type": "code",
      "metadata": {
        "id": "SjxQnbrLgTUN"
      },
      "source": [
        "model.objective = Objective(expr=sum(coef[i][j]*model.x[i,j] for i in row_indices for j in col_indices),sense = minimize)"
      ],
      "execution_count": 10,
      "outputs": []
    },
    {
      "cell_type": "code",
      "metadata": {
        "id": "Rt84dz4u7Lxx"
      },
      "source": [
        "model.constraints = ConstraintList()"
      ],
      "execution_count": 11,
      "outputs": []
    },
    {
      "cell_type": "code",
      "metadata": {
        "id": "CAL4DiSz7X0O"
      },
      "source": [
        "for i in row_indices:\n",
        "  model.constraints.add(sum(model.x[i,j] for j in col_indices) == 1)\n",
        "for j in col_indices:\n",
        "  model.constraints.add(sum(model.x[i,j] for i in row_indices) == 1)"
      ],
      "execution_count": 12,
      "outputs": []
    },
    {
      "cell_type": "code",
      "metadata": {
        "colab": {
          "base_uri": "https://localhost:8080/"
        },
        "id": "DdLNMHBaTzw8",
        "outputId": "c78972f2-202a-4b3f-c38e-c6be549829f7"
      },
      "source": [
        "model.pprint()"
      ],
      "execution_count": 13,
      "outputs": [
        {
          "output_type": "stream",
          "name": "stdout",
          "text": [
            "4 Set Declarations\n",
            "    constraints_index : Size=1, Index=None, Ordered=Insertion\n",
            "        Key  : Dimen : Domain : Size : Members\n",
            "        None :     1 :    Any :   24 : {1, 2, 3, 4, 5, 6, 7, 8, 9, 10, 11, 12, 13, 14, 15, 16, 17, 18, 19, 20, 21, 22, 23, 24}\n",
            "    x_index : Size=1, Index=None, Ordered=False\n",
            "        Key  : Dimen : Domain              : Size : Members\n",
            "        None :     2 : x_index_0*x_index_1 :  144 : {(0, 0), (0, 1), (0, 2), (0, 3), (0, 4), (0, 5), (0, 6), (0, 7), (0, 8), (0, 9), (0, 10), (0, 11), (1, 0), (1, 1), (1, 2), (1, 3), (1, 4), (1, 5), (1, 6), (1, 7), (1, 8), (1, 9), (1, 10), (1, 11), (2, 0), (2, 1), (2, 2), (2, 3), (2, 4), (2, 5), (2, 6), (2, 7), (2, 8), (2, 9), (2, 10), (2, 11), (3, 0), (3, 1), (3, 2), (3, 3), (3, 4), (3, 5), (3, 6), (3, 7), (3, 8), (3, 9), (3, 10), (3, 11), (4, 0), (4, 1), (4, 2), (4, 3), (4, 4), (4, 5), (4, 6), (4, 7), (4, 8), (4, 9), (4, 10), (4, 11), (5, 0), (5, 1), (5, 2), (5, 3), (5, 4), (5, 5), (5, 6), (5, 7), (5, 8), (5, 9), (5, 10), (5, 11), (6, 0), (6, 1), (6, 2), (6, 3), (6, 4), (6, 5), (6, 6), (6, 7), (6, 8), (6, 9), (6, 10), (6, 11), (7, 0), (7, 1), (7, 2), (7, 3), (7, 4), (7, 5), (7, 6), (7, 7), (7, 8), (7, 9), (7, 10), (7, 11), (8, 0), (8, 1), (8, 2), (8, 3), (8, 4), (8, 5), (8, 6), (8, 7), (8, 8), (8, 9), (8, 10), (8, 11), (9, 0), (9, 1), (9, 2), (9, 3), (9, 4), (9, 5), (9, 6), (9, 7), (9, 8), (9, 9), (9, 10), (9, 11), (10, 0), (10, 1), (10, 2), (10, 3), (10, 4), (10, 5), (10, 6), (10, 7), (10, 8), (10, 9), (10, 10), (10, 11), (11, 0), (11, 1), (11, 2), (11, 3), (11, 4), (11, 5), (11, 6), (11, 7), (11, 8), (11, 9), (11, 10), (11, 11)}\n",
            "    x_index_0 : Size=1, Index=None, Ordered=False\n",
            "        Key  : Dimen : Domain : Size : Members\n",
            "        None :     1 :    Any :   12 : {0, 1, 2, 3, 4, 5, 6, 7, 8, 9, 10, 11}\n",
            "    x_index_1 : Size=1, Index=None, Ordered=False\n",
            "        Key  : Dimen : Domain : Size : Members\n",
            "        None :     1 :    Any :   12 : {0, 1, 2, 3, 4, 5, 6, 7, 8, 9, 10, 11}\n",
            "\n",
            "1 Var Declarations\n",
            "    x : Size=144, Index=x_index\n",
            "        Key      : Lower : Value : Upper : Fixed : Stale : Domain\n",
            "          (0, 0) :     0 :  None :     1 : False :  True : Binary\n",
            "          (0, 1) :     0 :  None :     1 : False :  True : Binary\n",
            "          (0, 2) :     0 :  None :     1 : False :  True : Binary\n",
            "          (0, 3) :     0 :  None :     1 : False :  True : Binary\n",
            "          (0, 4) :     0 :  None :     1 : False :  True : Binary\n",
            "          (0, 5) :     0 :  None :     1 : False :  True : Binary\n",
            "          (0, 6) :     0 :  None :     1 : False :  True : Binary\n",
            "          (0, 7) :     0 :  None :     1 : False :  True : Binary\n",
            "          (0, 8) :     0 :  None :     1 : False :  True : Binary\n",
            "          (0, 9) :     0 :  None :     1 : False :  True : Binary\n",
            "         (0, 10) :     0 :  None :     1 : False :  True : Binary\n",
            "         (0, 11) :     0 :  None :     1 : False :  True : Binary\n",
            "          (1, 0) :     0 :  None :     1 : False :  True : Binary\n",
            "          (1, 1) :     0 :  None :     1 : False :  True : Binary\n",
            "          (1, 2) :     0 :  None :     1 : False :  True : Binary\n",
            "          (1, 3) :     0 :  None :     1 : False :  True : Binary\n",
            "          (1, 4) :     0 :  None :     1 : False :  True : Binary\n",
            "          (1, 5) :     0 :  None :     1 : False :  True : Binary\n",
            "          (1, 6) :     0 :  None :     1 : False :  True : Binary\n",
            "          (1, 7) :     0 :  None :     1 : False :  True : Binary\n",
            "          (1, 8) :     0 :  None :     1 : False :  True : Binary\n",
            "          (1, 9) :     0 :  None :     1 : False :  True : Binary\n",
            "         (1, 10) :     0 :  None :     1 : False :  True : Binary\n",
            "         (1, 11) :     0 :  None :     1 : False :  True : Binary\n",
            "          (2, 0) :     0 :  None :     1 : False :  True : Binary\n",
            "          (2, 1) :     0 :  None :     1 : False :  True : Binary\n",
            "          (2, 2) :     0 :  None :     1 : False :  True : Binary\n",
            "          (2, 3) :     0 :  None :     1 : False :  True : Binary\n",
            "          (2, 4) :     0 :  None :     1 : False :  True : Binary\n",
            "          (2, 5) :     0 :  None :     1 : False :  True : Binary\n",
            "          (2, 6) :     0 :  None :     1 : False :  True : Binary\n",
            "          (2, 7) :     0 :  None :     1 : False :  True : Binary\n",
            "          (2, 8) :     0 :  None :     1 : False :  True : Binary\n",
            "          (2, 9) :     0 :  None :     1 : False :  True : Binary\n",
            "         (2, 10) :     0 :  None :     1 : False :  True : Binary\n",
            "         (2, 11) :     0 :  None :     1 : False :  True : Binary\n",
            "          (3, 0) :     0 :  None :     1 : False :  True : Binary\n",
            "          (3, 1) :     0 :  None :     1 : False :  True : Binary\n",
            "          (3, 2) :     0 :  None :     1 : False :  True : Binary\n",
            "          (3, 3) :     0 :  None :     1 : False :  True : Binary\n",
            "          (3, 4) :     0 :  None :     1 : False :  True : Binary\n",
            "          (3, 5) :     0 :  None :     1 : False :  True : Binary\n",
            "          (3, 6) :     0 :  None :     1 : False :  True : Binary\n",
            "          (3, 7) :     0 :  None :     1 : False :  True : Binary\n",
            "          (3, 8) :     0 :  None :     1 : False :  True : Binary\n",
            "          (3, 9) :     0 :  None :     1 : False :  True : Binary\n",
            "         (3, 10) :     0 :  None :     1 : False :  True : Binary\n",
            "         (3, 11) :     0 :  None :     1 : False :  True : Binary\n",
            "          (4, 0) :     0 :  None :     1 : False :  True : Binary\n",
            "          (4, 1) :     0 :  None :     1 : False :  True : Binary\n",
            "          (4, 2) :     0 :  None :     1 : False :  True : Binary\n",
            "          (4, 3) :     0 :  None :     1 : False :  True : Binary\n",
            "          (4, 4) :     0 :  None :     1 : False :  True : Binary\n",
            "          (4, 5) :     0 :  None :     1 : False :  True : Binary\n",
            "          (4, 6) :     0 :  None :     1 : False :  True : Binary\n",
            "          (4, 7) :     0 :  None :     1 : False :  True : Binary\n",
            "          (4, 8) :     0 :  None :     1 : False :  True : Binary\n",
            "          (4, 9) :     0 :  None :     1 : False :  True : Binary\n",
            "         (4, 10) :     0 :  None :     1 : False :  True : Binary\n",
            "         (4, 11) :     0 :  None :     1 : False :  True : Binary\n",
            "          (5, 0) :     0 :  None :     1 : False :  True : Binary\n",
            "          (5, 1) :     0 :  None :     1 : False :  True : Binary\n",
            "          (5, 2) :     0 :  None :     1 : False :  True : Binary\n",
            "          (5, 3) :     0 :  None :     1 : False :  True : Binary\n",
            "          (5, 4) :     0 :  None :     1 : False :  True : Binary\n",
            "          (5, 5) :     0 :  None :     1 : False :  True : Binary\n",
            "          (5, 6) :     0 :  None :     1 : False :  True : Binary\n",
            "          (5, 7) :     0 :  None :     1 : False :  True : Binary\n",
            "          (5, 8) :     0 :  None :     1 : False :  True : Binary\n",
            "          (5, 9) :     0 :  None :     1 : False :  True : Binary\n",
            "         (5, 10) :     0 :  None :     1 : False :  True : Binary\n",
            "         (5, 11) :     0 :  None :     1 : False :  True : Binary\n",
            "          (6, 0) :     0 :  None :     1 : False :  True : Binary\n",
            "          (6, 1) :     0 :  None :     1 : False :  True : Binary\n",
            "          (6, 2) :     0 :  None :     1 : False :  True : Binary\n",
            "          (6, 3) :     0 :  None :     1 : False :  True : Binary\n",
            "          (6, 4) :     0 :  None :     1 : False :  True : Binary\n",
            "          (6, 5) :     0 :  None :     1 : False :  True : Binary\n",
            "          (6, 6) :     0 :  None :     1 : False :  True : Binary\n",
            "          (6, 7) :     0 :  None :     1 : False :  True : Binary\n",
            "          (6, 8) :     0 :  None :     1 : False :  True : Binary\n",
            "          (6, 9) :     0 :  None :     1 : False :  True : Binary\n",
            "         (6, 10) :     0 :  None :     1 : False :  True : Binary\n",
            "         (6, 11) :     0 :  None :     1 : False :  True : Binary\n",
            "          (7, 0) :     0 :  None :     1 : False :  True : Binary\n",
            "          (7, 1) :     0 :  None :     1 : False :  True : Binary\n",
            "          (7, 2) :     0 :  None :     1 : False :  True : Binary\n",
            "          (7, 3) :     0 :  None :     1 : False :  True : Binary\n",
            "          (7, 4) :     0 :  None :     1 : False :  True : Binary\n",
            "          (7, 5) :     0 :  None :     1 : False :  True : Binary\n",
            "          (7, 6) :     0 :  None :     1 : False :  True : Binary\n",
            "          (7, 7) :     0 :  None :     1 : False :  True : Binary\n",
            "          (7, 8) :     0 :  None :     1 : False :  True : Binary\n",
            "          (7, 9) :     0 :  None :     1 : False :  True : Binary\n",
            "         (7, 10) :     0 :  None :     1 : False :  True : Binary\n",
            "         (7, 11) :     0 :  None :     1 : False :  True : Binary\n",
            "          (8, 0) :     0 :  None :     1 : False :  True : Binary\n",
            "          (8, 1) :     0 :  None :     1 : False :  True : Binary\n",
            "          (8, 2) :     0 :  None :     1 : False :  True : Binary\n",
            "          (8, 3) :     0 :  None :     1 : False :  True : Binary\n",
            "          (8, 4) :     0 :  None :     1 : False :  True : Binary\n",
            "          (8, 5) :     0 :  None :     1 : False :  True : Binary\n",
            "          (8, 6) :     0 :  None :     1 : False :  True : Binary\n",
            "          (8, 7) :     0 :  None :     1 : False :  True : Binary\n",
            "          (8, 8) :     0 :  None :     1 : False :  True : Binary\n",
            "          (8, 9) :     0 :  None :     1 : False :  True : Binary\n",
            "         (8, 10) :     0 :  None :     1 : False :  True : Binary\n",
            "         (8, 11) :     0 :  None :     1 : False :  True : Binary\n",
            "          (9, 0) :     0 :  None :     1 : False :  True : Binary\n",
            "          (9, 1) :     0 :  None :     1 : False :  True : Binary\n",
            "          (9, 2) :     0 :  None :     1 : False :  True : Binary\n",
            "          (9, 3) :     0 :  None :     1 : False :  True : Binary\n",
            "          (9, 4) :     0 :  None :     1 : False :  True : Binary\n",
            "          (9, 5) :     0 :  None :     1 : False :  True : Binary\n",
            "          (9, 6) :     0 :  None :     1 : False :  True : Binary\n",
            "          (9, 7) :     0 :  None :     1 : False :  True : Binary\n",
            "          (9, 8) :     0 :  None :     1 : False :  True : Binary\n",
            "          (9, 9) :     0 :  None :     1 : False :  True : Binary\n",
            "         (9, 10) :     0 :  None :     1 : False :  True : Binary\n",
            "         (9, 11) :     0 :  None :     1 : False :  True : Binary\n",
            "         (10, 0) :     0 :  None :     1 : False :  True : Binary\n",
            "         (10, 1) :     0 :  None :     1 : False :  True : Binary\n",
            "         (10, 2) :     0 :  None :     1 : False :  True : Binary\n",
            "         (10, 3) :     0 :  None :     1 : False :  True : Binary\n",
            "         (10, 4) :     0 :  None :     1 : False :  True : Binary\n",
            "         (10, 5) :     0 :  None :     1 : False :  True : Binary\n",
            "         (10, 6) :     0 :  None :     1 : False :  True : Binary\n",
            "         (10, 7) :     0 :  None :     1 : False :  True : Binary\n",
            "         (10, 8) :     0 :  None :     1 : False :  True : Binary\n",
            "         (10, 9) :     0 :  None :     1 : False :  True : Binary\n",
            "        (10, 10) :     0 :  None :     1 : False :  True : Binary\n",
            "        (10, 11) :     0 :  None :     1 : False :  True : Binary\n",
            "         (11, 0) :     0 :  None :     1 : False :  True : Binary\n",
            "         (11, 1) :     0 :  None :     1 : False :  True : Binary\n",
            "         (11, 2) :     0 :  None :     1 : False :  True : Binary\n",
            "         (11, 3) :     0 :  None :     1 : False :  True : Binary\n",
            "         (11, 4) :     0 :  None :     1 : False :  True : Binary\n",
            "         (11, 5) :     0 :  None :     1 : False :  True : Binary\n",
            "         (11, 6) :     0 :  None :     1 : False :  True : Binary\n",
            "         (11, 7) :     0 :  None :     1 : False :  True : Binary\n",
            "         (11, 8) :     0 :  None :     1 : False :  True : Binary\n",
            "         (11, 9) :     0 :  None :     1 : False :  True : Binary\n",
            "        (11, 10) :     0 :  None :     1 : False :  True : Binary\n",
            "        (11, 11) :     0 :  None :     1 : False :  True : Binary\n",
            "\n",
            "1 Objective Declarations\n",
            "    objective : Size=1, Index=None, Active=True\n",
            "        Key  : Active : Sense    : Expression\n",
            "        None :   True : minimize : 22.0*x[0,0] + 22.0*x[0,1] + 19.0*x[0,2] + 22.0*x[0,3] + 22.0*x[0,4] + 24.0*x[0,5] + 18.0*x[0,6] + 17.0*x[0,7] + 21.0*x[0,8] + 23.0*x[0,9] + 19.0*x[0,10] + 21.0*x[0,11] + 18.0*x[1,0] + 12.0*x[1,1] + 18.0*x[1,2] + 19.0*x[1,3] + 22.0*x[1,4] + 21.0*x[1,5] + 17.0*x[1,6] + 20.0*x[1,7] + 16.0*x[1,8] + 17.0*x[1,9] + 17.0*x[1,10] + 24.0*x[1,11] + 19.0*x[2,0] + 21.0*x[2,1] + 17.0*x[2,2] + 19.0*x[2,3] + 17.0*x[2,4] + 19.0*x[2,5] + 24.0*x[2,6] + 16.0*x[2,7] + 18.0*x[2,8] + 16.0*x[2,9] + 20.0*x[2,10] + 24.0*x[2,11] + 18.0*x[3,0] + 24.0*x[3,1] + 20.0*x[3,2] + 21.0*x[3,3] + 21.0*x[3,4] + 21.0*x[3,5] + 22.0*x[3,6] + 19.0*x[3,7] + 18.0*x[3,8] + 21.0*x[3,9] + 23.0*x[3,10] + 23.0*x[3,11] + 23.0*x[4,0] + 20.0*x[4,1] + 19.0*x[4,2] + 18.0*x[4,3] + 20.0*x[4,4] + 23.0*x[4,5] + 22.0*x[4,6] + 25.0*x[4,7] + 24.0*x[4,8] + 19.0*x[4,9] + 21.0*x[4,10] + 23.0*x[4,11] + 24.0*x[5,0] + 16.0*x[5,1] + 15.0*x[5,2] + 16.0*x[5,3] + 24.0*x[5,4] + 21.0*x[5,5] + 23.0*x[5,6] + 21.0*x[5,7] + 20.0*x[5,8] + 20.0*x[5,9] + 22.0*x[5,10] + 19.0*x[5,11] + 22.0*x[6,0] + 22.0*x[6,1] + 21.0*x[6,2] + 23.0*x[6,3] + 18.0*x[6,4] + 17.0*x[6,5] + 16.0*x[6,6] + 19.0*x[6,7] + 24.0*x[6,8] + 20.0*x[6,9] + 20.0*x[6,10] + 23.0*x[6,11] + 23.0*x[7,0] + 17.0*x[7,1] + 17.0*x[7,2] + 17.0*x[7,3] + 22.0*x[7,4] + 24.0*x[7,5] + 23.0*x[7,6] + 20.0*x[7,7] + 22.0*x[7,8] + 19.0*x[7,9] + 23.0*x[7,10] + 21.0*x[7,11] + 21.0*x[8,0] + 22.0*x[8,1] + 21.0*x[8,2] + 24.0*x[8,3] + 20.0*x[8,4] + 23.0*x[8,5] + 19.0*x[8,6] + 18.0*x[8,7] + 23.0*x[8,8] + 15.0*x[8,9] + 25.0*x[8,10] + 21.0*x[8,11] + 19.0*x[9,0] + 19.0*x[9,1] + 18.0*x[9,2] + 19.0*x[9,3] + 26.0*x[9,4] + 24.0*x[9,5] + 19.0*x[9,6] + 17.0*x[9,7] + 18.0*x[9,8] + 20.0*x[9,9] + 21.0*x[9,10] + 20.0*x[9,11] + 20.0*x[10,0] + 22.0*x[10,1] + 23.0*x[10,2] + 20.0*x[10,3] + 22.0*x[10,4] + 20.0*x[10,5] + 20.0*x[10,6] + 19.0*x[10,7] + 17.0*x[10,8] + 19.0*x[10,9] + 20.0*x[10,10] + 24.0*x[10,11] + 21.0*x[11,0] + 25.0*x[11,1] + 21.0*x[11,2] + 19.0*x[11,3] + 21.0*x[11,4] + 19.0*x[11,5] + 18.0*x[11,6] + 16.0*x[11,7] + 22.0*x[11,8] + 24.0*x[11,9] + 25.0*x[11,10] + 24.0*x[11,11]\n",
            "\n",
            "1 Constraint Declarations\n",
            "    constraints : Size=24, Index=constraints_index, Active=True\n",
            "        Key : Lower : Body                                                                                                                    : Upper : Active\n",
            "          1 :   1.0 :             x[0,0] + x[0,1] + x[0,2] + x[0,3] + x[0,4] + x[0,5] + x[0,6] + x[0,7] + x[0,8] + x[0,9] + x[0,10] + x[0,11] :   1.0 :   True\n",
            "          2 :   1.0 :             x[1,0] + x[1,1] + x[1,2] + x[1,3] + x[1,4] + x[1,5] + x[1,6] + x[1,7] + x[1,8] + x[1,9] + x[1,10] + x[1,11] :   1.0 :   True\n",
            "          3 :   1.0 :             x[2,0] + x[2,1] + x[2,2] + x[2,3] + x[2,4] + x[2,5] + x[2,6] + x[2,7] + x[2,8] + x[2,9] + x[2,10] + x[2,11] :   1.0 :   True\n",
            "          4 :   1.0 :             x[3,0] + x[3,1] + x[3,2] + x[3,3] + x[3,4] + x[3,5] + x[3,6] + x[3,7] + x[3,8] + x[3,9] + x[3,10] + x[3,11] :   1.0 :   True\n",
            "          5 :   1.0 :             x[4,0] + x[4,1] + x[4,2] + x[4,3] + x[4,4] + x[4,5] + x[4,6] + x[4,7] + x[4,8] + x[4,9] + x[4,10] + x[4,11] :   1.0 :   True\n",
            "          6 :   1.0 :             x[5,0] + x[5,1] + x[5,2] + x[5,3] + x[5,4] + x[5,5] + x[5,6] + x[5,7] + x[5,8] + x[5,9] + x[5,10] + x[5,11] :   1.0 :   True\n",
            "          7 :   1.0 :             x[6,0] + x[6,1] + x[6,2] + x[6,3] + x[6,4] + x[6,5] + x[6,6] + x[6,7] + x[6,8] + x[6,9] + x[6,10] + x[6,11] :   1.0 :   True\n",
            "          8 :   1.0 :             x[7,0] + x[7,1] + x[7,2] + x[7,3] + x[7,4] + x[7,5] + x[7,6] + x[7,7] + x[7,8] + x[7,9] + x[7,10] + x[7,11] :   1.0 :   True\n",
            "          9 :   1.0 :             x[8,0] + x[8,1] + x[8,2] + x[8,3] + x[8,4] + x[8,5] + x[8,6] + x[8,7] + x[8,8] + x[8,9] + x[8,10] + x[8,11] :   1.0 :   True\n",
            "         10 :   1.0 :             x[9,0] + x[9,1] + x[9,2] + x[9,3] + x[9,4] + x[9,5] + x[9,6] + x[9,7] + x[9,8] + x[9,9] + x[9,10] + x[9,11] :   1.0 :   True\n",
            "         11 :   1.0 : x[10,0] + x[10,1] + x[10,2] + x[10,3] + x[10,4] + x[10,5] + x[10,6] + x[10,7] + x[10,8] + x[10,9] + x[10,10] + x[10,11] :   1.0 :   True\n",
            "         12 :   1.0 : x[11,0] + x[11,1] + x[11,2] + x[11,3] + x[11,4] + x[11,5] + x[11,6] + x[11,7] + x[11,8] + x[11,9] + x[11,10] + x[11,11] :   1.0 :   True\n",
            "         13 :   1.0 :             x[0,0] + x[1,0] + x[2,0] + x[3,0] + x[4,0] + x[5,0] + x[6,0] + x[7,0] + x[8,0] + x[9,0] + x[10,0] + x[11,0] :   1.0 :   True\n",
            "         14 :   1.0 :             x[0,1] + x[1,1] + x[2,1] + x[3,1] + x[4,1] + x[5,1] + x[6,1] + x[7,1] + x[8,1] + x[9,1] + x[10,1] + x[11,1] :   1.0 :   True\n",
            "         15 :   1.0 :             x[0,2] + x[1,2] + x[2,2] + x[3,2] + x[4,2] + x[5,2] + x[6,2] + x[7,2] + x[8,2] + x[9,2] + x[10,2] + x[11,2] :   1.0 :   True\n",
            "         16 :   1.0 :             x[0,3] + x[1,3] + x[2,3] + x[3,3] + x[4,3] + x[5,3] + x[6,3] + x[7,3] + x[8,3] + x[9,3] + x[10,3] + x[11,3] :   1.0 :   True\n",
            "         17 :   1.0 :             x[0,4] + x[1,4] + x[2,4] + x[3,4] + x[4,4] + x[5,4] + x[6,4] + x[7,4] + x[8,4] + x[9,4] + x[10,4] + x[11,4] :   1.0 :   True\n",
            "         18 :   1.0 :             x[0,5] + x[1,5] + x[2,5] + x[3,5] + x[4,5] + x[5,5] + x[6,5] + x[7,5] + x[8,5] + x[9,5] + x[10,5] + x[11,5] :   1.0 :   True\n",
            "         19 :   1.0 :             x[0,6] + x[1,6] + x[2,6] + x[3,6] + x[4,6] + x[5,6] + x[6,6] + x[7,6] + x[8,6] + x[9,6] + x[10,6] + x[11,6] :   1.0 :   True\n",
            "         20 :   1.0 :             x[0,7] + x[1,7] + x[2,7] + x[3,7] + x[4,7] + x[5,7] + x[6,7] + x[7,7] + x[8,7] + x[9,7] + x[10,7] + x[11,7] :   1.0 :   True\n",
            "         21 :   1.0 :             x[0,8] + x[1,8] + x[2,8] + x[3,8] + x[4,8] + x[5,8] + x[6,8] + x[7,8] + x[8,8] + x[9,8] + x[10,8] + x[11,8] :   1.0 :   True\n",
            "         22 :   1.0 :             x[0,9] + x[1,9] + x[2,9] + x[3,9] + x[4,9] + x[5,9] + x[6,9] + x[7,9] + x[8,9] + x[9,9] + x[10,9] + x[11,9] :   1.0 :   True\n",
            "         23 :   1.0 : x[0,10] + x[1,10] + x[2,10] + x[3,10] + x[4,10] + x[5,10] + x[6,10] + x[7,10] + x[8,10] + x[9,10] + x[10,10] + x[11,10] :   1.0 :   True\n",
            "         24 :   1.0 : x[0,11] + x[1,11] + x[2,11] + x[3,11] + x[4,11] + x[5,11] + x[6,11] + x[7,11] + x[8,11] + x[9,11] + x[10,11] + x[11,11] :   1.0 :   True\n",
            "\n",
            "7 Declarations: x_index_0 x_index_1 x_index x objective constraints_index constraints\n"
          ]
        }
      ]
    },
    {
      "cell_type": "code",
      "metadata": {
        "id": "VXoHGWjxT6v3"
      },
      "source": [
        "!apt-get install -y -qq coinor-cbc"
      ],
      "execution_count": 14,
      "outputs": []
    },
    {
      "cell_type": "code",
      "metadata": {
        "id": "8hkVswZIULcd"
      },
      "source": [
        "opt_cbc = SolverFactory('cbc')"
      ],
      "execution_count": 15,
      "outputs": []
    },
    {
      "cell_type": "code",
      "metadata": {
        "colab": {
          "base_uri": "https://localhost:8080/"
        },
        "id": "P4m7q3X0UkLC",
        "outputId": "10d33d50-f44e-45a0-862e-99caaf704bb6"
      },
      "source": [
        "result = opt_cbc.solve(model)\n",
        "print('Solver status:', result.solver.status)\n",
        "print('Solver termination condition:',result.solver.termination_condition)"
      ],
      "execution_count": 16,
      "outputs": [
        {
          "output_type": "stream",
          "name": "stdout",
          "text": [
            "Solver status: ok\n",
            "Solver termination condition: optimal\n"
          ]
        }
      ]
    },
    {
      "cell_type": "code",
      "metadata": {
        "colab": {
          "base_uri": "https://localhost:8080/"
        },
        "id": "kAwXs7V9Ulmh",
        "outputId": "737e6a15-b44e-416a-8aae-1e8f88f79f8b"
      },
      "source": [
        "print('Objective = ', model.objective())\n",
        "\n",
        "print('\\nDecision Variables')\n",
        "for i in row_indices:\n",
        "  for j in col_indices:\n",
        "    if model.x[i,j].value == 1:\n",
        "      print('x[',i,'][',j,']:',model.x[i,j].value)\n",
        "\n",
        "print('\\nConstraints')\n",
        "model.constraints.display()"
      ],
      "execution_count": 17,
      "outputs": [
        {
          "output_type": "stream",
          "name": "stdout",
          "text": [
            "Objective =  203.0\n",
            "\n",
            "Decision Variables\n",
            "x[ 0 ][ 6 ]: 1.0\n",
            "x[ 1 ][ 1 ]: 1.0\n",
            "x[ 2 ][ 4 ]: 1.0\n",
            "x[ 3 ][ 0 ]: 1.0\n",
            "x[ 4 ][ 10 ]: 1.0\n",
            "x[ 5 ][ 2 ]: 1.0\n",
            "x[ 6 ][ 5 ]: 1.0\n",
            "x[ 7 ][ 3 ]: 1.0\n",
            "x[ 8 ][ 9 ]: 1.0\n",
            "x[ 9 ][ 11 ]: 1.0\n",
            "x[ 10 ][ 8 ]: 1.0\n",
            "x[ 11 ][ 7 ]: 1.0\n",
            "\n",
            "Constraints\n",
            "constraints : Size=24\n",
            "    Key : Lower : Body : Upper\n",
            "      1 :   1.0 :  1.0 :   1.0\n",
            "      2 :   1.0 :  1.0 :   1.0\n",
            "      3 :   1.0 :  1.0 :   1.0\n",
            "      4 :   1.0 :  1.0 :   1.0\n",
            "      5 :   1.0 :  1.0 :   1.0\n",
            "      6 :   1.0 :  1.0 :   1.0\n",
            "      7 :   1.0 :  1.0 :   1.0\n",
            "      8 :   1.0 :  1.0 :   1.0\n",
            "      9 :   1.0 :  1.0 :   1.0\n",
            "     10 :   1.0 :  1.0 :   1.0\n",
            "     11 :   1.0 :  1.0 :   1.0\n",
            "     12 :   1.0 :  1.0 :   1.0\n",
            "     13 :   1.0 :  1.0 :   1.0\n",
            "     14 :   1.0 :  1.0 :   1.0\n",
            "     15 :   1.0 :  1.0 :   1.0\n",
            "     16 :   1.0 :  1.0 :   1.0\n",
            "     17 :   1.0 :  1.0 :   1.0\n",
            "     18 :   1.0 :  1.0 :   1.0\n",
            "     19 :   1.0 :  1.0 :   1.0\n",
            "     20 :   1.0 :  1.0 :   1.0\n",
            "     21 :   1.0 :  1.0 :   1.0\n",
            "     22 :   1.0 :  1.0 :   1.0\n",
            "     23 :   1.0 :  1.0 :   1.0\n",
            "     24 :   1.0 :  1.0 :   1.0\n"
          ]
        }
      ]
    },
    {
      "cell_type": "markdown",
      "metadata": {
        "id": "YQHmzgOSYgCB"
      },
      "source": [
        "#Ans 8:\n",
        "\n",
        "Facility 1 must be opened at location 7.\n",
        "\n",
        "Facility 2 must be opened at location 2.\n",
        "\n",
        "Facility 3 must be opened at location 5.\n",
        "\n",
        "Facility 4 must be opened at location 1.\n",
        "\n",
        "Facility 5 must be opened at location 11.\n",
        "\n",
        "Facility 6 must be opened at location 3.\n",
        "\n",
        "Facility 7 must be opened at location 6.\n",
        "\n",
        "Facility 8 must be opened at location 4.\n",
        "\n",
        "Facility 9 must be opened at location 10.\n",
        "\n",
        "Facility 10 must be opened at location 12.\n",
        "\n",
        "Facility 11 must be opened at location 9.\n",
        "\n",
        "Facility 12 must be opened at location 8."
      ]
    },
    {
      "cell_type": "code",
      "metadata": {
        "id": "5IRlBNFrUt-4"
      },
      "source": [
        "model_reals = ConcreteModel()"
      ],
      "execution_count": 18,
      "outputs": []
    },
    {
      "cell_type": "code",
      "metadata": {
        "id": "ByQrbrK6cBAQ"
      },
      "source": [
        "model_reals.y = Var(row_indices,col_indices,domain=NonNegativeReals)"
      ],
      "execution_count": 19,
      "outputs": []
    },
    {
      "cell_type": "code",
      "metadata": {
        "id": "Sb8SkcmgcKbW"
      },
      "source": [
        "model_reals.objective = Objective(expr=sum(coef[i][j]*model_reals.y[i,j] for i in row_indices for j in col_indices),sense = minimize)"
      ],
      "execution_count": 20,
      "outputs": []
    },
    {
      "cell_type": "code",
      "metadata": {
        "id": "iYrO9BpFcO37"
      },
      "source": [
        "model_reals.constraints = ConstraintList()\n",
        "for i in row_indices:\n",
        "  model_reals.constraints.add(sum(model_reals.y[i,j] for j in col_indices) == 1)\n",
        "for j in col_indices:\n",
        "  model_reals.constraints.add(sum(model_reals.y[i,j] for i in row_indices) == 1)"
      ],
      "execution_count": 21,
      "outputs": []
    },
    {
      "cell_type": "code",
      "metadata": {
        "colab": {
          "base_uri": "https://localhost:8080/"
        },
        "id": "_YtIEDredEWp",
        "outputId": "360b58b2-db7d-4997-a63c-2fce7f189cbb"
      },
      "source": [
        "model_reals.pprint()"
      ],
      "execution_count": 22,
      "outputs": [
        {
          "output_type": "stream",
          "name": "stdout",
          "text": [
            "4 Set Declarations\n",
            "    constraints_index : Size=1, Index=None, Ordered=Insertion\n",
            "        Key  : Dimen : Domain : Size : Members\n",
            "        None :     1 :    Any :   24 : {1, 2, 3, 4, 5, 6, 7, 8, 9, 10, 11, 12, 13, 14, 15, 16, 17, 18, 19, 20, 21, 22, 23, 24}\n",
            "    y_index : Size=1, Index=None, Ordered=False\n",
            "        Key  : Dimen : Domain              : Size : Members\n",
            "        None :     2 : y_index_0*y_index_1 :  144 : {(0, 0), (0, 1), (0, 2), (0, 3), (0, 4), (0, 5), (0, 6), (0, 7), (0, 8), (0, 9), (0, 10), (0, 11), (1, 0), (1, 1), (1, 2), (1, 3), (1, 4), (1, 5), (1, 6), (1, 7), (1, 8), (1, 9), (1, 10), (1, 11), (2, 0), (2, 1), (2, 2), (2, 3), (2, 4), (2, 5), (2, 6), (2, 7), (2, 8), (2, 9), (2, 10), (2, 11), (3, 0), (3, 1), (3, 2), (3, 3), (3, 4), (3, 5), (3, 6), (3, 7), (3, 8), (3, 9), (3, 10), (3, 11), (4, 0), (4, 1), (4, 2), (4, 3), (4, 4), (4, 5), (4, 6), (4, 7), (4, 8), (4, 9), (4, 10), (4, 11), (5, 0), (5, 1), (5, 2), (5, 3), (5, 4), (5, 5), (5, 6), (5, 7), (5, 8), (5, 9), (5, 10), (5, 11), (6, 0), (6, 1), (6, 2), (6, 3), (6, 4), (6, 5), (6, 6), (6, 7), (6, 8), (6, 9), (6, 10), (6, 11), (7, 0), (7, 1), (7, 2), (7, 3), (7, 4), (7, 5), (7, 6), (7, 7), (7, 8), (7, 9), (7, 10), (7, 11), (8, 0), (8, 1), (8, 2), (8, 3), (8, 4), (8, 5), (8, 6), (8, 7), (8, 8), (8, 9), (8, 10), (8, 11), (9, 0), (9, 1), (9, 2), (9, 3), (9, 4), (9, 5), (9, 6), (9, 7), (9, 8), (9, 9), (9, 10), (9, 11), (10, 0), (10, 1), (10, 2), (10, 3), (10, 4), (10, 5), (10, 6), (10, 7), (10, 8), (10, 9), (10, 10), (10, 11), (11, 0), (11, 1), (11, 2), (11, 3), (11, 4), (11, 5), (11, 6), (11, 7), (11, 8), (11, 9), (11, 10), (11, 11)}\n",
            "    y_index_0 : Size=1, Index=None, Ordered=False\n",
            "        Key  : Dimen : Domain : Size : Members\n",
            "        None :     1 :    Any :   12 : {0, 1, 2, 3, 4, 5, 6, 7, 8, 9, 10, 11}\n",
            "    y_index_1 : Size=1, Index=None, Ordered=False\n",
            "        Key  : Dimen : Domain : Size : Members\n",
            "        None :     1 :    Any :   12 : {0, 1, 2, 3, 4, 5, 6, 7, 8, 9, 10, 11}\n",
            "\n",
            "1 Var Declarations\n",
            "    y : Size=144, Index=y_index\n",
            "        Key      : Lower : Value : Upper : Fixed : Stale : Domain\n",
            "          (0, 0) :     0 :  None :  None : False :  True : NonNegativeReals\n",
            "          (0, 1) :     0 :  None :  None : False :  True : NonNegativeReals\n",
            "          (0, 2) :     0 :  None :  None : False :  True : NonNegativeReals\n",
            "          (0, 3) :     0 :  None :  None : False :  True : NonNegativeReals\n",
            "          (0, 4) :     0 :  None :  None : False :  True : NonNegativeReals\n",
            "          (0, 5) :     0 :  None :  None : False :  True : NonNegativeReals\n",
            "          (0, 6) :     0 :  None :  None : False :  True : NonNegativeReals\n",
            "          (0, 7) :     0 :  None :  None : False :  True : NonNegativeReals\n",
            "          (0, 8) :     0 :  None :  None : False :  True : NonNegativeReals\n",
            "          (0, 9) :     0 :  None :  None : False :  True : NonNegativeReals\n",
            "         (0, 10) :     0 :  None :  None : False :  True : NonNegativeReals\n",
            "         (0, 11) :     0 :  None :  None : False :  True : NonNegativeReals\n",
            "          (1, 0) :     0 :  None :  None : False :  True : NonNegativeReals\n",
            "          (1, 1) :     0 :  None :  None : False :  True : NonNegativeReals\n",
            "          (1, 2) :     0 :  None :  None : False :  True : NonNegativeReals\n",
            "          (1, 3) :     0 :  None :  None : False :  True : NonNegativeReals\n",
            "          (1, 4) :     0 :  None :  None : False :  True : NonNegativeReals\n",
            "          (1, 5) :     0 :  None :  None : False :  True : NonNegativeReals\n",
            "          (1, 6) :     0 :  None :  None : False :  True : NonNegativeReals\n",
            "          (1, 7) :     0 :  None :  None : False :  True : NonNegativeReals\n",
            "          (1, 8) :     0 :  None :  None : False :  True : NonNegativeReals\n",
            "          (1, 9) :     0 :  None :  None : False :  True : NonNegativeReals\n",
            "         (1, 10) :     0 :  None :  None : False :  True : NonNegativeReals\n",
            "         (1, 11) :     0 :  None :  None : False :  True : NonNegativeReals\n",
            "          (2, 0) :     0 :  None :  None : False :  True : NonNegativeReals\n",
            "          (2, 1) :     0 :  None :  None : False :  True : NonNegativeReals\n",
            "          (2, 2) :     0 :  None :  None : False :  True : NonNegativeReals\n",
            "          (2, 3) :     0 :  None :  None : False :  True : NonNegativeReals\n",
            "          (2, 4) :     0 :  None :  None : False :  True : NonNegativeReals\n",
            "          (2, 5) :     0 :  None :  None : False :  True : NonNegativeReals\n",
            "          (2, 6) :     0 :  None :  None : False :  True : NonNegativeReals\n",
            "          (2, 7) :     0 :  None :  None : False :  True : NonNegativeReals\n",
            "          (2, 8) :     0 :  None :  None : False :  True : NonNegativeReals\n",
            "          (2, 9) :     0 :  None :  None : False :  True : NonNegativeReals\n",
            "         (2, 10) :     0 :  None :  None : False :  True : NonNegativeReals\n",
            "         (2, 11) :     0 :  None :  None : False :  True : NonNegativeReals\n",
            "          (3, 0) :     0 :  None :  None : False :  True : NonNegativeReals\n",
            "          (3, 1) :     0 :  None :  None : False :  True : NonNegativeReals\n",
            "          (3, 2) :     0 :  None :  None : False :  True : NonNegativeReals\n",
            "          (3, 3) :     0 :  None :  None : False :  True : NonNegativeReals\n",
            "          (3, 4) :     0 :  None :  None : False :  True : NonNegativeReals\n",
            "          (3, 5) :     0 :  None :  None : False :  True : NonNegativeReals\n",
            "          (3, 6) :     0 :  None :  None : False :  True : NonNegativeReals\n",
            "          (3, 7) :     0 :  None :  None : False :  True : NonNegativeReals\n",
            "          (3, 8) :     0 :  None :  None : False :  True : NonNegativeReals\n",
            "          (3, 9) :     0 :  None :  None : False :  True : NonNegativeReals\n",
            "         (3, 10) :     0 :  None :  None : False :  True : NonNegativeReals\n",
            "         (3, 11) :     0 :  None :  None : False :  True : NonNegativeReals\n",
            "          (4, 0) :     0 :  None :  None : False :  True : NonNegativeReals\n",
            "          (4, 1) :     0 :  None :  None : False :  True : NonNegativeReals\n",
            "          (4, 2) :     0 :  None :  None : False :  True : NonNegativeReals\n",
            "          (4, 3) :     0 :  None :  None : False :  True : NonNegativeReals\n",
            "          (4, 4) :     0 :  None :  None : False :  True : NonNegativeReals\n",
            "          (4, 5) :     0 :  None :  None : False :  True : NonNegativeReals\n",
            "          (4, 6) :     0 :  None :  None : False :  True : NonNegativeReals\n",
            "          (4, 7) :     0 :  None :  None : False :  True : NonNegativeReals\n",
            "          (4, 8) :     0 :  None :  None : False :  True : NonNegativeReals\n",
            "          (4, 9) :     0 :  None :  None : False :  True : NonNegativeReals\n",
            "         (4, 10) :     0 :  None :  None : False :  True : NonNegativeReals\n",
            "         (4, 11) :     0 :  None :  None : False :  True : NonNegativeReals\n",
            "          (5, 0) :     0 :  None :  None : False :  True : NonNegativeReals\n",
            "          (5, 1) :     0 :  None :  None : False :  True : NonNegativeReals\n",
            "          (5, 2) :     0 :  None :  None : False :  True : NonNegativeReals\n",
            "          (5, 3) :     0 :  None :  None : False :  True : NonNegativeReals\n",
            "          (5, 4) :     0 :  None :  None : False :  True : NonNegativeReals\n",
            "          (5, 5) :     0 :  None :  None : False :  True : NonNegativeReals\n",
            "          (5, 6) :     0 :  None :  None : False :  True : NonNegativeReals\n",
            "          (5, 7) :     0 :  None :  None : False :  True : NonNegativeReals\n",
            "          (5, 8) :     0 :  None :  None : False :  True : NonNegativeReals\n",
            "          (5, 9) :     0 :  None :  None : False :  True : NonNegativeReals\n",
            "         (5, 10) :     0 :  None :  None : False :  True : NonNegativeReals\n",
            "         (5, 11) :     0 :  None :  None : False :  True : NonNegativeReals\n",
            "          (6, 0) :     0 :  None :  None : False :  True : NonNegativeReals\n",
            "          (6, 1) :     0 :  None :  None : False :  True : NonNegativeReals\n",
            "          (6, 2) :     0 :  None :  None : False :  True : NonNegativeReals\n",
            "          (6, 3) :     0 :  None :  None : False :  True : NonNegativeReals\n",
            "          (6, 4) :     0 :  None :  None : False :  True : NonNegativeReals\n",
            "          (6, 5) :     0 :  None :  None : False :  True : NonNegativeReals\n",
            "          (6, 6) :     0 :  None :  None : False :  True : NonNegativeReals\n",
            "          (6, 7) :     0 :  None :  None : False :  True : NonNegativeReals\n",
            "          (6, 8) :     0 :  None :  None : False :  True : NonNegativeReals\n",
            "          (6, 9) :     0 :  None :  None : False :  True : NonNegativeReals\n",
            "         (6, 10) :     0 :  None :  None : False :  True : NonNegativeReals\n",
            "         (6, 11) :     0 :  None :  None : False :  True : NonNegativeReals\n",
            "          (7, 0) :     0 :  None :  None : False :  True : NonNegativeReals\n",
            "          (7, 1) :     0 :  None :  None : False :  True : NonNegativeReals\n",
            "          (7, 2) :     0 :  None :  None : False :  True : NonNegativeReals\n",
            "          (7, 3) :     0 :  None :  None : False :  True : NonNegativeReals\n",
            "          (7, 4) :     0 :  None :  None : False :  True : NonNegativeReals\n",
            "          (7, 5) :     0 :  None :  None : False :  True : NonNegativeReals\n",
            "          (7, 6) :     0 :  None :  None : False :  True : NonNegativeReals\n",
            "          (7, 7) :     0 :  None :  None : False :  True : NonNegativeReals\n",
            "          (7, 8) :     0 :  None :  None : False :  True : NonNegativeReals\n",
            "          (7, 9) :     0 :  None :  None : False :  True : NonNegativeReals\n",
            "         (7, 10) :     0 :  None :  None : False :  True : NonNegativeReals\n",
            "         (7, 11) :     0 :  None :  None : False :  True : NonNegativeReals\n",
            "          (8, 0) :     0 :  None :  None : False :  True : NonNegativeReals\n",
            "          (8, 1) :     0 :  None :  None : False :  True : NonNegativeReals\n",
            "          (8, 2) :     0 :  None :  None : False :  True : NonNegativeReals\n",
            "          (8, 3) :     0 :  None :  None : False :  True : NonNegativeReals\n",
            "          (8, 4) :     0 :  None :  None : False :  True : NonNegativeReals\n",
            "          (8, 5) :     0 :  None :  None : False :  True : NonNegativeReals\n",
            "          (8, 6) :     0 :  None :  None : False :  True : NonNegativeReals\n",
            "          (8, 7) :     0 :  None :  None : False :  True : NonNegativeReals\n",
            "          (8, 8) :     0 :  None :  None : False :  True : NonNegativeReals\n",
            "          (8, 9) :     0 :  None :  None : False :  True : NonNegativeReals\n",
            "         (8, 10) :     0 :  None :  None : False :  True : NonNegativeReals\n",
            "         (8, 11) :     0 :  None :  None : False :  True : NonNegativeReals\n",
            "          (9, 0) :     0 :  None :  None : False :  True : NonNegativeReals\n",
            "          (9, 1) :     0 :  None :  None : False :  True : NonNegativeReals\n",
            "          (9, 2) :     0 :  None :  None : False :  True : NonNegativeReals\n",
            "          (9, 3) :     0 :  None :  None : False :  True : NonNegativeReals\n",
            "          (9, 4) :     0 :  None :  None : False :  True : NonNegativeReals\n",
            "          (9, 5) :     0 :  None :  None : False :  True : NonNegativeReals\n",
            "          (9, 6) :     0 :  None :  None : False :  True : NonNegativeReals\n",
            "          (9, 7) :     0 :  None :  None : False :  True : NonNegativeReals\n",
            "          (9, 8) :     0 :  None :  None : False :  True : NonNegativeReals\n",
            "          (9, 9) :     0 :  None :  None : False :  True : NonNegativeReals\n",
            "         (9, 10) :     0 :  None :  None : False :  True : NonNegativeReals\n",
            "         (9, 11) :     0 :  None :  None : False :  True : NonNegativeReals\n",
            "         (10, 0) :     0 :  None :  None : False :  True : NonNegativeReals\n",
            "         (10, 1) :     0 :  None :  None : False :  True : NonNegativeReals\n",
            "         (10, 2) :     0 :  None :  None : False :  True : NonNegativeReals\n",
            "         (10, 3) :     0 :  None :  None : False :  True : NonNegativeReals\n",
            "         (10, 4) :     0 :  None :  None : False :  True : NonNegativeReals\n",
            "         (10, 5) :     0 :  None :  None : False :  True : NonNegativeReals\n",
            "         (10, 6) :     0 :  None :  None : False :  True : NonNegativeReals\n",
            "         (10, 7) :     0 :  None :  None : False :  True : NonNegativeReals\n",
            "         (10, 8) :     0 :  None :  None : False :  True : NonNegativeReals\n",
            "         (10, 9) :     0 :  None :  None : False :  True : NonNegativeReals\n",
            "        (10, 10) :     0 :  None :  None : False :  True : NonNegativeReals\n",
            "        (10, 11) :     0 :  None :  None : False :  True : NonNegativeReals\n",
            "         (11, 0) :     0 :  None :  None : False :  True : NonNegativeReals\n",
            "         (11, 1) :     0 :  None :  None : False :  True : NonNegativeReals\n",
            "         (11, 2) :     0 :  None :  None : False :  True : NonNegativeReals\n",
            "         (11, 3) :     0 :  None :  None : False :  True : NonNegativeReals\n",
            "         (11, 4) :     0 :  None :  None : False :  True : NonNegativeReals\n",
            "         (11, 5) :     0 :  None :  None : False :  True : NonNegativeReals\n",
            "         (11, 6) :     0 :  None :  None : False :  True : NonNegativeReals\n",
            "         (11, 7) :     0 :  None :  None : False :  True : NonNegativeReals\n",
            "         (11, 8) :     0 :  None :  None : False :  True : NonNegativeReals\n",
            "         (11, 9) :     0 :  None :  None : False :  True : NonNegativeReals\n",
            "        (11, 10) :     0 :  None :  None : False :  True : NonNegativeReals\n",
            "        (11, 11) :     0 :  None :  None : False :  True : NonNegativeReals\n",
            "\n",
            "1 Objective Declarations\n",
            "    objective : Size=1, Index=None, Active=True\n",
            "        Key  : Active : Sense    : Expression\n",
            "        None :   True : minimize : 22.0*y[0,0] + 22.0*y[0,1] + 19.0*y[0,2] + 22.0*y[0,3] + 22.0*y[0,4] + 24.0*y[0,5] + 18.0*y[0,6] + 17.0*y[0,7] + 21.0*y[0,8] + 23.0*y[0,9] + 19.0*y[0,10] + 21.0*y[0,11] + 18.0*y[1,0] + 12.0*y[1,1] + 18.0*y[1,2] + 19.0*y[1,3] + 22.0*y[1,4] + 21.0*y[1,5] + 17.0*y[1,6] + 20.0*y[1,7] + 16.0*y[1,8] + 17.0*y[1,9] + 17.0*y[1,10] + 24.0*y[1,11] + 19.0*y[2,0] + 21.0*y[2,1] + 17.0*y[2,2] + 19.0*y[2,3] + 17.0*y[2,4] + 19.0*y[2,5] + 24.0*y[2,6] + 16.0*y[2,7] + 18.0*y[2,8] + 16.0*y[2,9] + 20.0*y[2,10] + 24.0*y[2,11] + 18.0*y[3,0] + 24.0*y[3,1] + 20.0*y[3,2] + 21.0*y[3,3] + 21.0*y[3,4] + 21.0*y[3,5] + 22.0*y[3,6] + 19.0*y[3,7] + 18.0*y[3,8] + 21.0*y[3,9] + 23.0*y[3,10] + 23.0*y[3,11] + 23.0*y[4,0] + 20.0*y[4,1] + 19.0*y[4,2] + 18.0*y[4,3] + 20.0*y[4,4] + 23.0*y[4,5] + 22.0*y[4,6] + 25.0*y[4,7] + 24.0*y[4,8] + 19.0*y[4,9] + 21.0*y[4,10] + 23.0*y[4,11] + 24.0*y[5,0] + 16.0*y[5,1] + 15.0*y[5,2] + 16.0*y[5,3] + 24.0*y[5,4] + 21.0*y[5,5] + 23.0*y[5,6] + 21.0*y[5,7] + 20.0*y[5,8] + 20.0*y[5,9] + 22.0*y[5,10] + 19.0*y[5,11] + 22.0*y[6,0] + 22.0*y[6,1] + 21.0*y[6,2] + 23.0*y[6,3] + 18.0*y[6,4] + 17.0*y[6,5] + 16.0*y[6,6] + 19.0*y[6,7] + 24.0*y[6,8] + 20.0*y[6,9] + 20.0*y[6,10] + 23.0*y[6,11] + 23.0*y[7,0] + 17.0*y[7,1] + 17.0*y[7,2] + 17.0*y[7,3] + 22.0*y[7,4] + 24.0*y[7,5] + 23.0*y[7,6] + 20.0*y[7,7] + 22.0*y[7,8] + 19.0*y[7,9] + 23.0*y[7,10] + 21.0*y[7,11] + 21.0*y[8,0] + 22.0*y[8,1] + 21.0*y[8,2] + 24.0*y[8,3] + 20.0*y[8,4] + 23.0*y[8,5] + 19.0*y[8,6] + 18.0*y[8,7] + 23.0*y[8,8] + 15.0*y[8,9] + 25.0*y[8,10] + 21.0*y[8,11] + 19.0*y[9,0] + 19.0*y[9,1] + 18.0*y[9,2] + 19.0*y[9,3] + 26.0*y[9,4] + 24.0*y[9,5] + 19.0*y[9,6] + 17.0*y[9,7] + 18.0*y[9,8] + 20.0*y[9,9] + 21.0*y[9,10] + 20.0*y[9,11] + 20.0*y[10,0] + 22.0*y[10,1] + 23.0*y[10,2] + 20.0*y[10,3] + 22.0*y[10,4] + 20.0*y[10,5] + 20.0*y[10,6] + 19.0*y[10,7] + 17.0*y[10,8] + 19.0*y[10,9] + 20.0*y[10,10] + 24.0*y[10,11] + 21.0*y[11,0] + 25.0*y[11,1] + 21.0*y[11,2] + 19.0*y[11,3] + 21.0*y[11,4] + 19.0*y[11,5] + 18.0*y[11,6] + 16.0*y[11,7] + 22.0*y[11,8] + 24.0*y[11,9] + 25.0*y[11,10] + 24.0*y[11,11]\n",
            "\n",
            "1 Constraint Declarations\n",
            "    constraints : Size=24, Index=constraints_index, Active=True\n",
            "        Key : Lower : Body                                                                                                                    : Upper : Active\n",
            "          1 :   1.0 :             y[0,0] + y[0,1] + y[0,2] + y[0,3] + y[0,4] + y[0,5] + y[0,6] + y[0,7] + y[0,8] + y[0,9] + y[0,10] + y[0,11] :   1.0 :   True\n",
            "          2 :   1.0 :             y[1,0] + y[1,1] + y[1,2] + y[1,3] + y[1,4] + y[1,5] + y[1,6] + y[1,7] + y[1,8] + y[1,9] + y[1,10] + y[1,11] :   1.0 :   True\n",
            "          3 :   1.0 :             y[2,0] + y[2,1] + y[2,2] + y[2,3] + y[2,4] + y[2,5] + y[2,6] + y[2,7] + y[2,8] + y[2,9] + y[2,10] + y[2,11] :   1.0 :   True\n",
            "          4 :   1.0 :             y[3,0] + y[3,1] + y[3,2] + y[3,3] + y[3,4] + y[3,5] + y[3,6] + y[3,7] + y[3,8] + y[3,9] + y[3,10] + y[3,11] :   1.0 :   True\n",
            "          5 :   1.0 :             y[4,0] + y[4,1] + y[4,2] + y[4,3] + y[4,4] + y[4,5] + y[4,6] + y[4,7] + y[4,8] + y[4,9] + y[4,10] + y[4,11] :   1.0 :   True\n",
            "          6 :   1.0 :             y[5,0] + y[5,1] + y[5,2] + y[5,3] + y[5,4] + y[5,5] + y[5,6] + y[5,7] + y[5,8] + y[5,9] + y[5,10] + y[5,11] :   1.0 :   True\n",
            "          7 :   1.0 :             y[6,0] + y[6,1] + y[6,2] + y[6,3] + y[6,4] + y[6,5] + y[6,6] + y[6,7] + y[6,8] + y[6,9] + y[6,10] + y[6,11] :   1.0 :   True\n",
            "          8 :   1.0 :             y[7,0] + y[7,1] + y[7,2] + y[7,3] + y[7,4] + y[7,5] + y[7,6] + y[7,7] + y[7,8] + y[7,9] + y[7,10] + y[7,11] :   1.0 :   True\n",
            "          9 :   1.0 :             y[8,0] + y[8,1] + y[8,2] + y[8,3] + y[8,4] + y[8,5] + y[8,6] + y[8,7] + y[8,8] + y[8,9] + y[8,10] + y[8,11] :   1.0 :   True\n",
            "         10 :   1.0 :             y[9,0] + y[9,1] + y[9,2] + y[9,3] + y[9,4] + y[9,5] + y[9,6] + y[9,7] + y[9,8] + y[9,9] + y[9,10] + y[9,11] :   1.0 :   True\n",
            "         11 :   1.0 : y[10,0] + y[10,1] + y[10,2] + y[10,3] + y[10,4] + y[10,5] + y[10,6] + y[10,7] + y[10,8] + y[10,9] + y[10,10] + y[10,11] :   1.0 :   True\n",
            "         12 :   1.0 : y[11,0] + y[11,1] + y[11,2] + y[11,3] + y[11,4] + y[11,5] + y[11,6] + y[11,7] + y[11,8] + y[11,9] + y[11,10] + y[11,11] :   1.0 :   True\n",
            "         13 :   1.0 :             y[0,0] + y[1,0] + y[2,0] + y[3,0] + y[4,0] + y[5,0] + y[6,0] + y[7,0] + y[8,0] + y[9,0] + y[10,0] + y[11,0] :   1.0 :   True\n",
            "         14 :   1.0 :             y[0,1] + y[1,1] + y[2,1] + y[3,1] + y[4,1] + y[5,1] + y[6,1] + y[7,1] + y[8,1] + y[9,1] + y[10,1] + y[11,1] :   1.0 :   True\n",
            "         15 :   1.0 :             y[0,2] + y[1,2] + y[2,2] + y[3,2] + y[4,2] + y[5,2] + y[6,2] + y[7,2] + y[8,2] + y[9,2] + y[10,2] + y[11,2] :   1.0 :   True\n",
            "         16 :   1.0 :             y[0,3] + y[1,3] + y[2,3] + y[3,3] + y[4,3] + y[5,3] + y[6,3] + y[7,3] + y[8,3] + y[9,3] + y[10,3] + y[11,3] :   1.0 :   True\n",
            "         17 :   1.0 :             y[0,4] + y[1,4] + y[2,4] + y[3,4] + y[4,4] + y[5,4] + y[6,4] + y[7,4] + y[8,4] + y[9,4] + y[10,4] + y[11,4] :   1.0 :   True\n",
            "         18 :   1.0 :             y[0,5] + y[1,5] + y[2,5] + y[3,5] + y[4,5] + y[5,5] + y[6,5] + y[7,5] + y[8,5] + y[9,5] + y[10,5] + y[11,5] :   1.0 :   True\n",
            "         19 :   1.0 :             y[0,6] + y[1,6] + y[2,6] + y[3,6] + y[4,6] + y[5,6] + y[6,6] + y[7,6] + y[8,6] + y[9,6] + y[10,6] + y[11,6] :   1.0 :   True\n",
            "         20 :   1.0 :             y[0,7] + y[1,7] + y[2,7] + y[3,7] + y[4,7] + y[5,7] + y[6,7] + y[7,7] + y[8,7] + y[9,7] + y[10,7] + y[11,7] :   1.0 :   True\n",
            "         21 :   1.0 :             y[0,8] + y[1,8] + y[2,8] + y[3,8] + y[4,8] + y[5,8] + y[6,8] + y[7,8] + y[8,8] + y[9,8] + y[10,8] + y[11,8] :   1.0 :   True\n",
            "         22 :   1.0 :             y[0,9] + y[1,9] + y[2,9] + y[3,9] + y[4,9] + y[5,9] + y[6,9] + y[7,9] + y[8,9] + y[9,9] + y[10,9] + y[11,9] :   1.0 :   True\n",
            "         23 :   1.0 : y[0,10] + y[1,10] + y[2,10] + y[3,10] + y[4,10] + y[5,10] + y[6,10] + y[7,10] + y[8,10] + y[9,10] + y[10,10] + y[11,10] :   1.0 :   True\n",
            "         24 :   1.0 : y[0,11] + y[1,11] + y[2,11] + y[3,11] + y[4,11] + y[5,11] + y[6,11] + y[7,11] + y[8,11] + y[9,11] + y[10,11] + y[11,11] :   1.0 :   True\n",
            "\n",
            "7 Declarations: y_index_0 y_index_1 y_index y objective constraints_index constraints\n"
          ]
        }
      ]
    },
    {
      "cell_type": "code",
      "metadata": {
        "colab": {
          "base_uri": "https://localhost:8080/"
        },
        "id": "Trkdp1Qfcozo",
        "outputId": "95667434-830c-4c7c-eafd-0d95ef395b8b"
      },
      "source": [
        "result_reals = opt_cbc.solve(model_reals)\n",
        "print('Solver status:', result_reals.solver.status)\n",
        "print('Solver termination condition:',result_reals.solver.termination_condition)"
      ],
      "execution_count": 23,
      "outputs": [
        {
          "output_type": "stream",
          "name": "stdout",
          "text": [
            "Solver status: ok\n",
            "Solver termination condition: optimal\n"
          ]
        }
      ]
    },
    {
      "cell_type": "code",
      "metadata": {
        "colab": {
          "base_uri": "https://localhost:8080/"
        },
        "id": "8svkObNecxQM",
        "outputId": "f5ce1c47-b053-4783-d4f5-5c0e1d2bc4d6"
      },
      "source": [
        "print('Objective = ', model_reals.objective())\n",
        "\n",
        "print('\\nDecision Variables')\n",
        "for i in row_indices:\n",
        "  for j in col_indices:\n",
        "    if model.x[i,j].value == 1:\n",
        "      print('x[',i,'][',j,']:',model_reals.y[i,j].value)\n",
        "\n",
        "print('\\nConstraints')\n",
        "model_reals.constraints.display()"
      ],
      "execution_count": 24,
      "outputs": [
        {
          "output_type": "stream",
          "name": "stdout",
          "text": [
            "Objective =  203.0\n",
            "\n",
            "Decision Variables\n",
            "x[ 0 ][ 6 ]: 1.0\n",
            "x[ 1 ][ 1 ]: 1.0\n",
            "x[ 2 ][ 4 ]: 1.0\n",
            "x[ 3 ][ 0 ]: 1.0\n",
            "x[ 4 ][ 10 ]: 1.0\n",
            "x[ 5 ][ 2 ]: 1.0\n",
            "x[ 6 ][ 5 ]: 1.0\n",
            "x[ 7 ][ 3 ]: 1.0\n",
            "x[ 8 ][ 9 ]: 1.0\n",
            "x[ 9 ][ 11 ]: 1.0\n",
            "x[ 10 ][ 8 ]: 1.0\n",
            "x[ 11 ][ 7 ]: 1.0\n",
            "\n",
            "Constraints\n",
            "constraints : Size=24\n",
            "    Key : Lower : Body : Upper\n",
            "      1 :   1.0 :  1.0 :   1.0\n",
            "      2 :   1.0 :  1.0 :   1.0\n",
            "      3 :   1.0 :  1.0 :   1.0\n",
            "      4 :   1.0 :  1.0 :   1.0\n",
            "      5 :   1.0 :  1.0 :   1.0\n",
            "      6 :   1.0 :  1.0 :   1.0\n",
            "      7 :   1.0 :  1.0 :   1.0\n",
            "      8 :   1.0 :  1.0 :   1.0\n",
            "      9 :   1.0 :  1.0 :   1.0\n",
            "     10 :   1.0 :  1.0 :   1.0\n",
            "     11 :   1.0 :  1.0 :   1.0\n",
            "     12 :   1.0 :  1.0 :   1.0\n",
            "     13 :   1.0 :  1.0 :   1.0\n",
            "     14 :   1.0 :  1.0 :   1.0\n",
            "     15 :   1.0 :  1.0 :   1.0\n",
            "     16 :   1.0 :  1.0 :   1.0\n",
            "     17 :   1.0 :  1.0 :   1.0\n",
            "     18 :   1.0 :  1.0 :   1.0\n",
            "     19 :   1.0 :  1.0 :   1.0\n",
            "     20 :   1.0 :  1.0 :   1.0\n",
            "     21 :   1.0 :  1.0 :   1.0\n",
            "     22 :   1.0 :  1.0 :   1.0\n",
            "     23 :   1.0 :  1.0 :   1.0\n",
            "     24 :   1.0 :  1.0 :   1.0\n"
          ]
        }
      ]
    },
    {
      "cell_type": "markdown",
      "metadata": {
        "id": "ikjTpA1QdXdG"
      },
      "source": [
        "#Ans 9:\n",
        "\n",
        "The Cost is 203.\n",
        "\n",
        "$x_{1,7}=1$\n",
        "\n",
        "$x_{2,2}=1$\n",
        "\n",
        "$x_{3,5}=1$\n",
        "\n",
        "$x_{4,1}=1$\n",
        "\n",
        "$x_{5,11}=1$\n",
        "\n",
        "$x_{6,3}=1$\n",
        "\n",
        "$x_{7,6}=1$\n",
        "\n",
        "$x_{8,4}=1$\n",
        "\n",
        "$x_{9,10}=1$\n",
        "\n",
        "$x_{10,12}=1$\n",
        "\n",
        "$x_{11,9}=1$\n",
        "\n",
        "$x_{12,8}=1$"
      ]
    },
    {
      "cell_type": "markdown",
      "metadata": {
        "id": "iBNumZ02eCcm"
      },
      "source": [
        "#Ans 10:\n",
        "\n",
        "The optimal costs for the both the problems are same. Yes, the values of the variables is still integer valued, it happens because the optimal solution occurs at the extreme points, i.e. at the corners."
      ]
    },
    {
      "cell_type": "code",
      "metadata": {
        "id": "YsEnVA4JfeyG"
      },
      "source": [
        "coef_reals = np.loadtxt('/content/lab5_ex2_fractional.txt',delimiter = ',')"
      ],
      "execution_count": 25,
      "outputs": []
    },
    {
      "cell_type": "code",
      "metadata": {
        "id": "UHo5AgAcfStW"
      },
      "source": [
        "model_reals.objective_decimals = Objective(expr=sum(coef_reals[i][j]*model_reals.y[i,j] for i in row_indices for j in col_indices),sense = minimize)"
      ],
      "execution_count": 26,
      "outputs": []
    },
    {
      "cell_type": "code",
      "metadata": {
        "id": "qQ6BukVnf7GD"
      },
      "source": [
        "model_reals.objective.deactivate()"
      ],
      "execution_count": 27,
      "outputs": []
    },
    {
      "cell_type": "code",
      "metadata": {
        "colab": {
          "base_uri": "https://localhost:8080/"
        },
        "id": "4oW3pxh3gBun",
        "outputId": "1404ec01-4760-42ba-d104-61a82c3b2ea7"
      },
      "source": [
        "result_reals = opt_cbc.solve(model_reals)\n",
        "print('Solver status:', result_reals.solver.status)\n",
        "print('Solver termination condition:',result_reals.solver.termination_condition)"
      ],
      "execution_count": 28,
      "outputs": [
        {
          "output_type": "stream",
          "name": "stdout",
          "text": [
            "Solver status: ok\n",
            "Solver termination condition: optimal\n"
          ]
        }
      ]
    },
    {
      "cell_type": "code",
      "metadata": {
        "colab": {
          "base_uri": "https://localhost:8080/"
        },
        "id": "J5UlThf3gFCI",
        "outputId": "90ccf214-6b2e-4450-b369-127387f697ac"
      },
      "source": [
        "print('Objective = ', model_reals.objective())\n",
        "\n",
        "print('\\nDecision Variables')\n",
        "for i in row_indices:\n",
        "  for j in col_indices:\n",
        "    if model.x[i,j].value == 1:\n",
        "      print('x[',i,'][',j,']:',model_reals.y[i,j].value)\n",
        "\n",
        "print('\\nConstraints')\n",
        "model_reals.constraints.display()"
      ],
      "execution_count": 29,
      "outputs": [
        {
          "output_type": "stream",
          "name": "stdout",
          "text": [
            "Objective =  203.0\n",
            "\n",
            "Decision Variables\n",
            "x[ 0 ][ 6 ]: 1.0\n",
            "x[ 1 ][ 1 ]: 1.0\n",
            "x[ 2 ][ 4 ]: 1.0\n",
            "x[ 3 ][ 0 ]: 1.0\n",
            "x[ 4 ][ 10 ]: 1.0\n",
            "x[ 5 ][ 2 ]: 1.0\n",
            "x[ 6 ][ 5 ]: 1.0\n",
            "x[ 7 ][ 3 ]: 1.0\n",
            "x[ 8 ][ 9 ]: 1.0\n",
            "x[ 9 ][ 11 ]: 1.0\n",
            "x[ 10 ][ 8 ]: 1.0\n",
            "x[ 11 ][ 7 ]: 1.0\n",
            "\n",
            "Constraints\n",
            "constraints : Size=24\n",
            "    Key : Lower : Body : Upper\n",
            "      1 :   1.0 :  1.0 :   1.0\n",
            "      2 :   1.0 :  1.0 :   1.0\n",
            "      3 :   1.0 :  1.0 :   1.0\n",
            "      4 :   1.0 :  1.0 :   1.0\n",
            "      5 :   1.0 :  1.0 :   1.0\n",
            "      6 :   1.0 :  1.0 :   1.0\n",
            "      7 :   1.0 :  1.0 :   1.0\n",
            "      8 :   1.0 :  1.0 :   1.0\n",
            "      9 :   1.0 :  1.0 :   1.0\n",
            "     10 :   1.0 :  1.0 :   1.0\n",
            "     11 :   1.0 :  1.0 :   1.0\n",
            "     12 :   1.0 :  1.0 :   1.0\n",
            "     13 :   1.0 :  1.0 :   1.0\n",
            "     14 :   1.0 :  1.0 :   1.0\n",
            "     15 :   1.0 :  1.0 :   1.0\n",
            "     16 :   1.0 :  1.0 :   1.0\n",
            "     17 :   1.0 :  1.0 :   1.0\n",
            "     18 :   1.0 :  1.0 :   1.0\n",
            "     19 :   1.0 :  1.0 :   1.0\n",
            "     20 :   1.0 :  1.0 :   1.0\n",
            "     21 :   1.0 :  1.0 :   1.0\n",
            "     22 :   1.0 :  1.0 :   1.0\n",
            "     23 :   1.0 :  1.0 :   1.0\n",
            "     24 :   1.0 :  1.0 :   1.0\n"
          ]
        }
      ]
    },
    {
      "cell_type": "code",
      "metadata": {
        "colab": {
          "base_uri": "https://localhost:8080/"
        },
        "id": "DcUhJzt8dW6F",
        "outputId": "bec414bc-a35d-4e50-cd46-06b9709dae38"
      },
      "source": [
        "model.constraints.add(model.x[1,3] == 0)\n",
        "model.constraints.add(model.x[5,10] == 0)"
      ],
      "execution_count": 30,
      "outputs": [
        {
          "output_type": "execute_result",
          "data": {
            "text/plain": [
              "<pyomo.core.base.constraint._GeneralConstraintData at 0x7fa74f848fa0>"
            ]
          },
          "metadata": {},
          "execution_count": 30
        }
      ]
    },
    {
      "cell_type": "code",
      "metadata": {
        "colab": {
          "base_uri": "https://localhost:8080/"
        },
        "id": "MP6kXDJ7c8MC",
        "outputId": "f4579334-6698-49d6-ed87-093ad5c51a25"
      },
      "source": [
        "model.pprint()"
      ],
      "execution_count": 31,
      "outputs": [
        {
          "output_type": "stream",
          "name": "stdout",
          "text": [
            "4 Set Declarations\n",
            "    constraints_index : Size=1, Index=None, Ordered=Insertion\n",
            "        Key  : Dimen : Domain : Size : Members\n",
            "        None :     1 :    Any :   26 : {1, 2, 3, 4, 5, 6, 7, 8, 9, 10, 11, 12, 13, 14, 15, 16, 17, 18, 19, 20, 21, 22, 23, 24, 25, 26}\n",
            "    x_index : Size=1, Index=None, Ordered=False\n",
            "        Key  : Dimen : Domain              : Size : Members\n",
            "        None :     2 : x_index_0*x_index_1 :  144 : {(0, 0), (0, 1), (0, 2), (0, 3), (0, 4), (0, 5), (0, 6), (0, 7), (0, 8), (0, 9), (0, 10), (0, 11), (1, 0), (1, 1), (1, 2), (1, 3), (1, 4), (1, 5), (1, 6), (1, 7), (1, 8), (1, 9), (1, 10), (1, 11), (2, 0), (2, 1), (2, 2), (2, 3), (2, 4), (2, 5), (2, 6), (2, 7), (2, 8), (2, 9), (2, 10), (2, 11), (3, 0), (3, 1), (3, 2), (3, 3), (3, 4), (3, 5), (3, 6), (3, 7), (3, 8), (3, 9), (3, 10), (3, 11), (4, 0), (4, 1), (4, 2), (4, 3), (4, 4), (4, 5), (4, 6), (4, 7), (4, 8), (4, 9), (4, 10), (4, 11), (5, 0), (5, 1), (5, 2), (5, 3), (5, 4), (5, 5), (5, 6), (5, 7), (5, 8), (5, 9), (5, 10), (5, 11), (6, 0), (6, 1), (6, 2), (6, 3), (6, 4), (6, 5), (6, 6), (6, 7), (6, 8), (6, 9), (6, 10), (6, 11), (7, 0), (7, 1), (7, 2), (7, 3), (7, 4), (7, 5), (7, 6), (7, 7), (7, 8), (7, 9), (7, 10), (7, 11), (8, 0), (8, 1), (8, 2), (8, 3), (8, 4), (8, 5), (8, 6), (8, 7), (8, 8), (8, 9), (8, 10), (8, 11), (9, 0), (9, 1), (9, 2), (9, 3), (9, 4), (9, 5), (9, 6), (9, 7), (9, 8), (9, 9), (9, 10), (9, 11), (10, 0), (10, 1), (10, 2), (10, 3), (10, 4), (10, 5), (10, 6), (10, 7), (10, 8), (10, 9), (10, 10), (10, 11), (11, 0), (11, 1), (11, 2), (11, 3), (11, 4), (11, 5), (11, 6), (11, 7), (11, 8), (11, 9), (11, 10), (11, 11)}\n",
            "    x_index_0 : Size=1, Index=None, Ordered=False\n",
            "        Key  : Dimen : Domain : Size : Members\n",
            "        None :     1 :    Any :   12 : {0, 1, 2, 3, 4, 5, 6, 7, 8, 9, 10, 11}\n",
            "    x_index_1 : Size=1, Index=None, Ordered=False\n",
            "        Key  : Dimen : Domain : Size : Members\n",
            "        None :     1 :    Any :   12 : {0, 1, 2, 3, 4, 5, 6, 7, 8, 9, 10, 11}\n",
            "\n",
            "1 Var Declarations\n",
            "    x : Size=144, Index=x_index\n",
            "        Key      : Lower : Value : Upper : Fixed : Stale : Domain\n",
            "          (0, 0) :     0 :   0.0 :     1 : False : False : Binary\n",
            "          (0, 1) :     0 :   0.0 :     1 : False : False : Binary\n",
            "          (0, 2) :     0 :   0.0 :     1 : False : False : Binary\n",
            "          (0, 3) :     0 :   0.0 :     1 : False : False : Binary\n",
            "          (0, 4) :     0 :   0.0 :     1 : False : False : Binary\n",
            "          (0, 5) :     0 :   0.0 :     1 : False : False : Binary\n",
            "          (0, 6) :     0 :   1.0 :     1 : False : False : Binary\n",
            "          (0, 7) :     0 :   0.0 :     1 : False : False : Binary\n",
            "          (0, 8) :     0 :   0.0 :     1 : False : False : Binary\n",
            "          (0, 9) :     0 :   0.0 :     1 : False : False : Binary\n",
            "         (0, 10) :     0 :   0.0 :     1 : False : False : Binary\n",
            "         (0, 11) :     0 :   0.0 :     1 : False : False : Binary\n",
            "          (1, 0) :     0 :   0.0 :     1 : False : False : Binary\n",
            "          (1, 1) :     0 :   1.0 :     1 : False : False : Binary\n",
            "          (1, 2) :     0 :   0.0 :     1 : False : False : Binary\n",
            "          (1, 3) :     0 :   0.0 :     1 : False : False : Binary\n",
            "          (1, 4) :     0 :   0.0 :     1 : False : False : Binary\n",
            "          (1, 5) :     0 :   0.0 :     1 : False : False : Binary\n",
            "          (1, 6) :     0 :   0.0 :     1 : False : False : Binary\n",
            "          (1, 7) :     0 :   0.0 :     1 : False : False : Binary\n",
            "          (1, 8) :     0 :   0.0 :     1 : False : False : Binary\n",
            "          (1, 9) :     0 :   0.0 :     1 : False : False : Binary\n",
            "         (1, 10) :     0 :   0.0 :     1 : False : False : Binary\n",
            "         (1, 11) :     0 :   0.0 :     1 : False : False : Binary\n",
            "          (2, 0) :     0 :   0.0 :     1 : False : False : Binary\n",
            "          (2, 1) :     0 :   0.0 :     1 : False : False : Binary\n",
            "          (2, 2) :     0 :   0.0 :     1 : False : False : Binary\n",
            "          (2, 3) :     0 :   0.0 :     1 : False : False : Binary\n",
            "          (2, 4) :     0 :   1.0 :     1 : False : False : Binary\n",
            "          (2, 5) :     0 :   0.0 :     1 : False : False : Binary\n",
            "          (2, 6) :     0 :   0.0 :     1 : False : False : Binary\n",
            "          (2, 7) :     0 :   0.0 :     1 : False : False : Binary\n",
            "          (2, 8) :     0 :   0.0 :     1 : False : False : Binary\n",
            "          (2, 9) :     0 :   0.0 :     1 : False : False : Binary\n",
            "         (2, 10) :     0 :   0.0 :     1 : False : False : Binary\n",
            "         (2, 11) :     0 :   0.0 :     1 : False : False : Binary\n",
            "          (3, 0) :     0 :   1.0 :     1 : False : False : Binary\n",
            "          (3, 1) :     0 :   0.0 :     1 : False : False : Binary\n",
            "          (3, 2) :     0 :   0.0 :     1 : False : False : Binary\n",
            "          (3, 3) :     0 :   0.0 :     1 : False : False : Binary\n",
            "          (3, 4) :     0 :   0.0 :     1 : False : False : Binary\n",
            "          (3, 5) :     0 :   0.0 :     1 : False : False : Binary\n",
            "          (3, 6) :     0 :   0.0 :     1 : False : False : Binary\n",
            "          (3, 7) :     0 :   0.0 :     1 : False : False : Binary\n",
            "          (3, 8) :     0 :   0.0 :     1 : False : False : Binary\n",
            "          (3, 9) :     0 :   0.0 :     1 : False : False : Binary\n",
            "         (3, 10) :     0 :   0.0 :     1 : False : False : Binary\n",
            "         (3, 11) :     0 :   0.0 :     1 : False : False : Binary\n",
            "          (4, 0) :     0 :   0.0 :     1 : False : False : Binary\n",
            "          (4, 1) :     0 :   0.0 :     1 : False : False : Binary\n",
            "          (4, 2) :     0 :   0.0 :     1 : False : False : Binary\n",
            "          (4, 3) :     0 :   0.0 :     1 : False : False : Binary\n",
            "          (4, 4) :     0 :   0.0 :     1 : False : False : Binary\n",
            "          (4, 5) :     0 :   0.0 :     1 : False : False : Binary\n",
            "          (4, 6) :     0 :   0.0 :     1 : False : False : Binary\n",
            "          (4, 7) :     0 :   0.0 :     1 : False : False : Binary\n",
            "          (4, 8) :     0 :   0.0 :     1 : False : False : Binary\n",
            "          (4, 9) :     0 :   0.0 :     1 : False : False : Binary\n",
            "         (4, 10) :     0 :   1.0 :     1 : False : False : Binary\n",
            "         (4, 11) :     0 :   0.0 :     1 : False : False : Binary\n",
            "          (5, 0) :     0 :   0.0 :     1 : False : False : Binary\n",
            "          (5, 1) :     0 :   0.0 :     1 : False : False : Binary\n",
            "          (5, 2) :     0 :   1.0 :     1 : False : False : Binary\n",
            "          (5, 3) :     0 :   0.0 :     1 : False : False : Binary\n",
            "          (5, 4) :     0 :   0.0 :     1 : False : False : Binary\n",
            "          (5, 5) :     0 :   0.0 :     1 : False : False : Binary\n",
            "          (5, 6) :     0 :   0.0 :     1 : False : False : Binary\n",
            "          (5, 7) :     0 :   0.0 :     1 : False : False : Binary\n",
            "          (5, 8) :     0 :   0.0 :     1 : False : False : Binary\n",
            "          (5, 9) :     0 :   0.0 :     1 : False : False : Binary\n",
            "         (5, 10) :     0 :   0.0 :     1 : False : False : Binary\n",
            "         (5, 11) :     0 :   0.0 :     1 : False : False : Binary\n",
            "          (6, 0) :     0 :   0.0 :     1 : False : False : Binary\n",
            "          (6, 1) :     0 :   0.0 :     1 : False : False : Binary\n",
            "          (6, 2) :     0 :   0.0 :     1 : False : False : Binary\n",
            "          (6, 3) :     0 :   0.0 :     1 : False : False : Binary\n",
            "          (6, 4) :     0 :   0.0 :     1 : False : False : Binary\n",
            "          (6, 5) :     0 :   1.0 :     1 : False : False : Binary\n",
            "          (6, 6) :     0 :   0.0 :     1 : False : False : Binary\n",
            "          (6, 7) :     0 :   0.0 :     1 : False : False : Binary\n",
            "          (6, 8) :     0 :   0.0 :     1 : False : False : Binary\n",
            "          (6, 9) :     0 :   0.0 :     1 : False : False : Binary\n",
            "         (6, 10) :     0 :   0.0 :     1 : False : False : Binary\n",
            "         (6, 11) :     0 :   0.0 :     1 : False : False : Binary\n",
            "          (7, 0) :     0 :   0.0 :     1 : False : False : Binary\n",
            "          (7, 1) :     0 :   0.0 :     1 : False : False : Binary\n",
            "          (7, 2) :     0 :   0.0 :     1 : False : False : Binary\n",
            "          (7, 3) :     0 :   1.0 :     1 : False : False : Binary\n",
            "          (7, 4) :     0 :   0.0 :     1 : False : False : Binary\n",
            "          (7, 5) :     0 :   0.0 :     1 : False : False : Binary\n",
            "          (7, 6) :     0 :   0.0 :     1 : False : False : Binary\n",
            "          (7, 7) :     0 :   0.0 :     1 : False : False : Binary\n",
            "          (7, 8) :     0 :   0.0 :     1 : False : False : Binary\n",
            "          (7, 9) :     0 :   0.0 :     1 : False : False : Binary\n",
            "         (7, 10) :     0 :   0.0 :     1 : False : False : Binary\n",
            "         (7, 11) :     0 :   0.0 :     1 : False : False : Binary\n",
            "          (8, 0) :     0 :   0.0 :     1 : False : False : Binary\n",
            "          (8, 1) :     0 :   0.0 :     1 : False : False : Binary\n",
            "          (8, 2) :     0 :   0.0 :     1 : False : False : Binary\n",
            "          (8, 3) :     0 :   0.0 :     1 : False : False : Binary\n",
            "          (8, 4) :     0 :   0.0 :     1 : False : False : Binary\n",
            "          (8, 5) :     0 :   0.0 :     1 : False : False : Binary\n",
            "          (8, 6) :     0 :   0.0 :     1 : False : False : Binary\n",
            "          (8, 7) :     0 :   0.0 :     1 : False : False : Binary\n",
            "          (8, 8) :     0 :   0.0 :     1 : False : False : Binary\n",
            "          (8, 9) :     0 :   1.0 :     1 : False : False : Binary\n",
            "         (8, 10) :     0 :   0.0 :     1 : False : False : Binary\n",
            "         (8, 11) :     0 :   0.0 :     1 : False : False : Binary\n",
            "          (9, 0) :     0 :   0.0 :     1 : False : False : Binary\n",
            "          (9, 1) :     0 :   0.0 :     1 : False : False : Binary\n",
            "          (9, 2) :     0 :   0.0 :     1 : False : False : Binary\n",
            "          (9, 3) :     0 :   0.0 :     1 : False : False : Binary\n",
            "          (9, 4) :     0 :   0.0 :     1 : False : False : Binary\n",
            "          (9, 5) :     0 :   0.0 :     1 : False : False : Binary\n",
            "          (9, 6) :     0 :   0.0 :     1 : False : False : Binary\n",
            "          (9, 7) :     0 :   0.0 :     1 : False : False : Binary\n",
            "          (9, 8) :     0 :   0.0 :     1 : False : False : Binary\n",
            "          (9, 9) :     0 :   0.0 :     1 : False : False : Binary\n",
            "         (9, 10) :     0 :   0.0 :     1 : False : False : Binary\n",
            "         (9, 11) :     0 :   1.0 :     1 : False : False : Binary\n",
            "         (10, 0) :     0 :   0.0 :     1 : False : False : Binary\n",
            "         (10, 1) :     0 :   0.0 :     1 : False : False : Binary\n",
            "         (10, 2) :     0 :   0.0 :     1 : False : False : Binary\n",
            "         (10, 3) :     0 :   0.0 :     1 : False : False : Binary\n",
            "         (10, 4) :     0 :   0.0 :     1 : False : False : Binary\n",
            "         (10, 5) :     0 :   0.0 :     1 : False : False : Binary\n",
            "         (10, 6) :     0 :   0.0 :     1 : False : False : Binary\n",
            "         (10, 7) :     0 :   0.0 :     1 : False : False : Binary\n",
            "         (10, 8) :     0 :   1.0 :     1 : False : False : Binary\n",
            "         (10, 9) :     0 :   0.0 :     1 : False : False : Binary\n",
            "        (10, 10) :     0 :   0.0 :     1 : False : False : Binary\n",
            "        (10, 11) :     0 :   0.0 :     1 : False : False : Binary\n",
            "         (11, 0) :     0 :   0.0 :     1 : False : False : Binary\n",
            "         (11, 1) :     0 :   0.0 :     1 : False : False : Binary\n",
            "         (11, 2) :     0 :   0.0 :     1 : False : False : Binary\n",
            "         (11, 3) :     0 :   0.0 :     1 : False : False : Binary\n",
            "         (11, 4) :     0 :   0.0 :     1 : False : False : Binary\n",
            "         (11, 5) :     0 :   0.0 :     1 : False : False : Binary\n",
            "         (11, 6) :     0 :   0.0 :     1 : False : False : Binary\n",
            "         (11, 7) :     0 :   1.0 :     1 : False : False : Binary\n",
            "         (11, 8) :     0 :   0.0 :     1 : False : False : Binary\n",
            "         (11, 9) :     0 :   0.0 :     1 : False : False : Binary\n",
            "        (11, 10) :     0 :   0.0 :     1 : False : False : Binary\n",
            "        (11, 11) :     0 :   0.0 :     1 : False : False : Binary\n",
            "\n",
            "1 Objective Declarations\n",
            "    objective : Size=1, Index=None, Active=True\n",
            "        Key  : Active : Sense    : Expression\n",
            "        None :   True : minimize : 22.0*x[0,0] + 22.0*x[0,1] + 19.0*x[0,2] + 22.0*x[0,3] + 22.0*x[0,4] + 24.0*x[0,5] + 18.0*x[0,6] + 17.0*x[0,7] + 21.0*x[0,8] + 23.0*x[0,9] + 19.0*x[0,10] + 21.0*x[0,11] + 18.0*x[1,0] + 12.0*x[1,1] + 18.0*x[1,2] + 19.0*x[1,3] + 22.0*x[1,4] + 21.0*x[1,5] + 17.0*x[1,6] + 20.0*x[1,7] + 16.0*x[1,8] + 17.0*x[1,9] + 17.0*x[1,10] + 24.0*x[1,11] + 19.0*x[2,0] + 21.0*x[2,1] + 17.0*x[2,2] + 19.0*x[2,3] + 17.0*x[2,4] + 19.0*x[2,5] + 24.0*x[2,6] + 16.0*x[2,7] + 18.0*x[2,8] + 16.0*x[2,9] + 20.0*x[2,10] + 24.0*x[2,11] + 18.0*x[3,0] + 24.0*x[3,1] + 20.0*x[3,2] + 21.0*x[3,3] + 21.0*x[3,4] + 21.0*x[3,5] + 22.0*x[3,6] + 19.0*x[3,7] + 18.0*x[3,8] + 21.0*x[3,9] + 23.0*x[3,10] + 23.0*x[3,11] + 23.0*x[4,0] + 20.0*x[4,1] + 19.0*x[4,2] + 18.0*x[4,3] + 20.0*x[4,4] + 23.0*x[4,5] + 22.0*x[4,6] + 25.0*x[4,7] + 24.0*x[4,8] + 19.0*x[4,9] + 21.0*x[4,10] + 23.0*x[4,11] + 24.0*x[5,0] + 16.0*x[5,1] + 15.0*x[5,2] + 16.0*x[5,3] + 24.0*x[5,4] + 21.0*x[5,5] + 23.0*x[5,6] + 21.0*x[5,7] + 20.0*x[5,8] + 20.0*x[5,9] + 22.0*x[5,10] + 19.0*x[5,11] + 22.0*x[6,0] + 22.0*x[6,1] + 21.0*x[6,2] + 23.0*x[6,3] + 18.0*x[6,4] + 17.0*x[6,5] + 16.0*x[6,6] + 19.0*x[6,7] + 24.0*x[6,8] + 20.0*x[6,9] + 20.0*x[6,10] + 23.0*x[6,11] + 23.0*x[7,0] + 17.0*x[7,1] + 17.0*x[7,2] + 17.0*x[7,3] + 22.0*x[7,4] + 24.0*x[7,5] + 23.0*x[7,6] + 20.0*x[7,7] + 22.0*x[7,8] + 19.0*x[7,9] + 23.0*x[7,10] + 21.0*x[7,11] + 21.0*x[8,0] + 22.0*x[8,1] + 21.0*x[8,2] + 24.0*x[8,3] + 20.0*x[8,4] + 23.0*x[8,5] + 19.0*x[8,6] + 18.0*x[8,7] + 23.0*x[8,8] + 15.0*x[8,9] + 25.0*x[8,10] + 21.0*x[8,11] + 19.0*x[9,0] + 19.0*x[9,1] + 18.0*x[9,2] + 19.0*x[9,3] + 26.0*x[9,4] + 24.0*x[9,5] + 19.0*x[9,6] + 17.0*x[9,7] + 18.0*x[9,8] + 20.0*x[9,9] + 21.0*x[9,10] + 20.0*x[9,11] + 20.0*x[10,0] + 22.0*x[10,1] + 23.0*x[10,2] + 20.0*x[10,3] + 22.0*x[10,4] + 20.0*x[10,5] + 20.0*x[10,6] + 19.0*x[10,7] + 17.0*x[10,8] + 19.0*x[10,9] + 20.0*x[10,10] + 24.0*x[10,11] + 21.0*x[11,0] + 25.0*x[11,1] + 21.0*x[11,2] + 19.0*x[11,3] + 21.0*x[11,4] + 19.0*x[11,5] + 18.0*x[11,6] + 16.0*x[11,7] + 22.0*x[11,8] + 24.0*x[11,9] + 25.0*x[11,10] + 24.0*x[11,11]\n",
            "\n",
            "1 Constraint Declarations\n",
            "    constraints : Size=26, Index=constraints_index, Active=True\n",
            "        Key : Lower : Body                                                                                                                    : Upper : Active\n",
            "          1 :   1.0 :             x[0,0] + x[0,1] + x[0,2] + x[0,3] + x[0,4] + x[0,5] + x[0,6] + x[0,7] + x[0,8] + x[0,9] + x[0,10] + x[0,11] :   1.0 :   True\n",
            "          2 :   1.0 :             x[1,0] + x[1,1] + x[1,2] + x[1,3] + x[1,4] + x[1,5] + x[1,6] + x[1,7] + x[1,8] + x[1,9] + x[1,10] + x[1,11] :   1.0 :   True\n",
            "          3 :   1.0 :             x[2,0] + x[2,1] + x[2,2] + x[2,3] + x[2,4] + x[2,5] + x[2,6] + x[2,7] + x[2,8] + x[2,9] + x[2,10] + x[2,11] :   1.0 :   True\n",
            "          4 :   1.0 :             x[3,0] + x[3,1] + x[3,2] + x[3,3] + x[3,4] + x[3,5] + x[3,6] + x[3,7] + x[3,8] + x[3,9] + x[3,10] + x[3,11] :   1.0 :   True\n",
            "          5 :   1.0 :             x[4,0] + x[4,1] + x[4,2] + x[4,3] + x[4,4] + x[4,5] + x[4,6] + x[4,7] + x[4,8] + x[4,9] + x[4,10] + x[4,11] :   1.0 :   True\n",
            "          6 :   1.0 :             x[5,0] + x[5,1] + x[5,2] + x[5,3] + x[5,4] + x[5,5] + x[5,6] + x[5,7] + x[5,8] + x[5,9] + x[5,10] + x[5,11] :   1.0 :   True\n",
            "          7 :   1.0 :             x[6,0] + x[6,1] + x[6,2] + x[6,3] + x[6,4] + x[6,5] + x[6,6] + x[6,7] + x[6,8] + x[6,9] + x[6,10] + x[6,11] :   1.0 :   True\n",
            "          8 :   1.0 :             x[7,0] + x[7,1] + x[7,2] + x[7,3] + x[7,4] + x[7,5] + x[7,6] + x[7,7] + x[7,8] + x[7,9] + x[7,10] + x[7,11] :   1.0 :   True\n",
            "          9 :   1.0 :             x[8,0] + x[8,1] + x[8,2] + x[8,3] + x[8,4] + x[8,5] + x[8,6] + x[8,7] + x[8,8] + x[8,9] + x[8,10] + x[8,11] :   1.0 :   True\n",
            "         10 :   1.0 :             x[9,0] + x[9,1] + x[9,2] + x[9,3] + x[9,4] + x[9,5] + x[9,6] + x[9,7] + x[9,8] + x[9,9] + x[9,10] + x[9,11] :   1.0 :   True\n",
            "         11 :   1.0 : x[10,0] + x[10,1] + x[10,2] + x[10,3] + x[10,4] + x[10,5] + x[10,6] + x[10,7] + x[10,8] + x[10,9] + x[10,10] + x[10,11] :   1.0 :   True\n",
            "         12 :   1.0 : x[11,0] + x[11,1] + x[11,2] + x[11,3] + x[11,4] + x[11,5] + x[11,6] + x[11,7] + x[11,8] + x[11,9] + x[11,10] + x[11,11] :   1.0 :   True\n",
            "         13 :   1.0 :             x[0,0] + x[1,0] + x[2,0] + x[3,0] + x[4,0] + x[5,0] + x[6,0] + x[7,0] + x[8,0] + x[9,0] + x[10,0] + x[11,0] :   1.0 :   True\n",
            "         14 :   1.0 :             x[0,1] + x[1,1] + x[2,1] + x[3,1] + x[4,1] + x[5,1] + x[6,1] + x[7,1] + x[8,1] + x[9,1] + x[10,1] + x[11,1] :   1.0 :   True\n",
            "         15 :   1.0 :             x[0,2] + x[1,2] + x[2,2] + x[3,2] + x[4,2] + x[5,2] + x[6,2] + x[7,2] + x[8,2] + x[9,2] + x[10,2] + x[11,2] :   1.0 :   True\n",
            "         16 :   1.0 :             x[0,3] + x[1,3] + x[2,3] + x[3,3] + x[4,3] + x[5,3] + x[6,3] + x[7,3] + x[8,3] + x[9,3] + x[10,3] + x[11,3] :   1.0 :   True\n",
            "         17 :   1.0 :             x[0,4] + x[1,4] + x[2,4] + x[3,4] + x[4,4] + x[5,4] + x[6,4] + x[7,4] + x[8,4] + x[9,4] + x[10,4] + x[11,4] :   1.0 :   True\n",
            "         18 :   1.0 :             x[0,5] + x[1,5] + x[2,5] + x[3,5] + x[4,5] + x[5,5] + x[6,5] + x[7,5] + x[8,5] + x[9,5] + x[10,5] + x[11,5] :   1.0 :   True\n",
            "         19 :   1.0 :             x[0,6] + x[1,6] + x[2,6] + x[3,6] + x[4,6] + x[5,6] + x[6,6] + x[7,6] + x[8,6] + x[9,6] + x[10,6] + x[11,6] :   1.0 :   True\n",
            "         20 :   1.0 :             x[0,7] + x[1,7] + x[2,7] + x[3,7] + x[4,7] + x[5,7] + x[6,7] + x[7,7] + x[8,7] + x[9,7] + x[10,7] + x[11,7] :   1.0 :   True\n",
            "         21 :   1.0 :             x[0,8] + x[1,8] + x[2,8] + x[3,8] + x[4,8] + x[5,8] + x[6,8] + x[7,8] + x[8,8] + x[9,8] + x[10,8] + x[11,8] :   1.0 :   True\n",
            "         22 :   1.0 :             x[0,9] + x[1,9] + x[2,9] + x[3,9] + x[4,9] + x[5,9] + x[6,9] + x[7,9] + x[8,9] + x[9,9] + x[10,9] + x[11,9] :   1.0 :   True\n",
            "         23 :   1.0 : x[0,10] + x[1,10] + x[2,10] + x[3,10] + x[4,10] + x[5,10] + x[6,10] + x[7,10] + x[8,10] + x[9,10] + x[10,10] + x[11,10] :   1.0 :   True\n",
            "         24 :   1.0 : x[0,11] + x[1,11] + x[2,11] + x[3,11] + x[4,11] + x[5,11] + x[6,11] + x[7,11] + x[8,11] + x[9,11] + x[10,11] + x[11,11] :   1.0 :   True\n",
            "         25 :   0.0 :                                                                                                                  x[1,3] :   0.0 :   True\n",
            "         26 :   0.0 :                                                                                                                 x[5,10] :   0.0 :   True\n",
            "\n",
            "7 Declarations: x_index_0 x_index_1 x_index x objective constraints_index constraints\n"
          ]
        }
      ]
    },
    {
      "cell_type": "code",
      "metadata": {
        "colab": {
          "base_uri": "https://localhost:8080/"
        },
        "id": "xCXbc5qthDVo",
        "outputId": "42c00acf-b52c-4feb-bf37-6a3a56011115"
      },
      "source": [
        "result = opt_cbc.solve(model)\n",
        "print('Solver status:', result.solver.status)\n",
        "print('Solver termination condition:',result.solver.termination_condition)"
      ],
      "execution_count": 32,
      "outputs": [
        {
          "output_type": "stream",
          "name": "stdout",
          "text": [
            "Solver status: ok\n",
            "Solver termination condition: optimal\n"
          ]
        }
      ]
    },
    {
      "cell_type": "code",
      "metadata": {
        "colab": {
          "base_uri": "https://localhost:8080/"
        },
        "id": "zJ4uwuMihLlO",
        "outputId": "86ea2726-54b9-46a6-e9fb-30805c8415ac"
      },
      "source": [
        "print('Objective = ', model.objective())\n",
        "\n",
        "print('\\nDecision Variables')\n",
        "for i in row_indices:\n",
        "  for j in col_indices:\n",
        "    if model.x[i,j].value == 1:\n",
        "      print('x[',i,'][',j,']:',model.x[i,j].value)\n",
        "\n",
        "print('\\nConstraints')\n",
        "model.constraints.display()"
      ],
      "execution_count": 33,
      "outputs": [
        {
          "output_type": "stream",
          "name": "stdout",
          "text": [
            "Objective =  203.0\n",
            "\n",
            "Decision Variables\n",
            "x[ 0 ][ 6 ]: 1.0\n",
            "x[ 1 ][ 1 ]: 1.0\n",
            "x[ 2 ][ 4 ]: 1.0\n",
            "x[ 3 ][ 0 ]: 1.0\n",
            "x[ 4 ][ 10 ]: 1.0\n",
            "x[ 5 ][ 2 ]: 1.0\n",
            "x[ 6 ][ 5 ]: 1.0\n",
            "x[ 7 ][ 3 ]: 1.0\n",
            "x[ 8 ][ 9 ]: 1.0\n",
            "x[ 9 ][ 11 ]: 1.0\n",
            "x[ 10 ][ 8 ]: 1.0\n",
            "x[ 11 ][ 7 ]: 1.0\n",
            "\n",
            "Constraints\n",
            "constraints : Size=26\n",
            "    Key : Lower : Body : Upper\n",
            "      1 :   1.0 :  1.0 :   1.0\n",
            "      2 :   1.0 :  1.0 :   1.0\n",
            "      3 :   1.0 :  1.0 :   1.0\n",
            "      4 :   1.0 :  1.0 :   1.0\n",
            "      5 :   1.0 :  1.0 :   1.0\n",
            "      6 :   1.0 :  1.0 :   1.0\n",
            "      7 :   1.0 :  1.0 :   1.0\n",
            "      8 :   1.0 :  1.0 :   1.0\n",
            "      9 :   1.0 :  1.0 :   1.0\n",
            "     10 :   1.0 :  1.0 :   1.0\n",
            "     11 :   1.0 :  1.0 :   1.0\n",
            "     12 :   1.0 :  1.0 :   1.0\n",
            "     13 :   1.0 :  1.0 :   1.0\n",
            "     14 :   1.0 :  1.0 :   1.0\n",
            "     15 :   1.0 :  1.0 :   1.0\n",
            "     16 :   1.0 :  1.0 :   1.0\n",
            "     17 :   1.0 :  1.0 :   1.0\n",
            "     18 :   1.0 :  1.0 :   1.0\n",
            "     19 :   1.0 :  1.0 :   1.0\n",
            "     20 :   1.0 :  1.0 :   1.0\n",
            "     21 :   1.0 :  1.0 :   1.0\n",
            "     22 :   1.0 :  1.0 :   1.0\n",
            "     23 :   1.0 :  1.0 :   1.0\n",
            "     24 :   1.0 :  1.0 :   1.0\n",
            "     25 :   0.0 :  0.0 :   0.0\n",
            "     26 :   0.0 :  0.0 :   0.0\n"
          ]
        }
      ]
    },
    {
      "cell_type": "markdown",
      "metadata": {
        "id": "iocDIyvShf2O"
      },
      "source": [
        "#Ans 12:\n",
        "\n",
        "We change our pyomo model to introduce the given changes. We add two more constraints, defining $x_{2,4} \\text{ and } x_{6,11}$ equal to 0.\n",
        "\n",
        "The cost is : 203.\n",
        "\n",
        "$x_{1,7}=1$\n",
        "\n",
        "$x_{2,2}=1$\n",
        "\n",
        "$x_{3,5}=1$\n",
        "\n",
        "$x_{4,1}=1$\n",
        "\n",
        "$x_{5,11}=1$\n",
        "\n",
        "$x_{6,3}=1$\n",
        "\n",
        "$x_{7,6}=1$\n",
        "\n",
        "$x_{8,4}=1$\n",
        "\n",
        "$x_{9,10}=1$\n",
        "\n",
        "$x_{10,12}=1$\n",
        "\n",
        "$x_{11,9}=1$\n",
        "\n",
        "$x_{12,8}=1$\n",
        "\n",
        "We do not see any changes in the solution as even before when facility 2 and 6 could be located at 4 and 11 respectively, they were not."
      ]
    }
  ]
}