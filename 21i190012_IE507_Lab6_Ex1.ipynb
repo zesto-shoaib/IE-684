{
  "nbformat": 4,
  "nbformat_minor": 0,
  "metadata": {
    "colab": {
      "name": "21i190012_IE507_Lab6_Ex1.ipynb",
      "provenance": [],
      "collapsed_sections": []
    },
    "kernelspec": {
      "name": "python3",
      "display_name": "Python 3"
    },
    "language_info": {
      "name": "python"
    }
  },
  "cells": [
    {
      "cell_type": "markdown",
      "metadata": {
        "id": "FWWTRRwiXSi-"
      },
      "source": [
        "#Exercise 1"
      ]
    },
    {
      "cell_type": "code",
      "metadata": {
        "id": "dH1V8y061jUB",
        "colab": {
          "base_uri": "https://localhost:8080/"
        },
        "outputId": "091c26ea-e8ec-4c86-dc9d-b54783560613"
      },
      "source": [
        "!pip install -q pyomo"
      ],
      "execution_count": 1,
      "outputs": [
        {
          "output_type": "stream",
          "name": "stdout",
          "text": [
            "\u001b[K     |████████████████████████████████| 9.1 MB 5.2 MB/s \n",
            "\u001b[K     |████████████████████████████████| 49 kB 5.6 MB/s \n",
            "\u001b[?25h"
          ]
        }
      ]
    },
    {
      "cell_type": "code",
      "metadata": {
        "id": "turYbGGu1pGW"
      },
      "source": [
        "from pyomo.environ import *"
      ],
      "execution_count": 2,
      "outputs": []
    },
    {
      "cell_type": "code",
      "metadata": {
        "id": "HPQBZ_dw118Q"
      },
      "source": [
        "import numpy as np"
      ],
      "execution_count": 3,
      "outputs": []
    },
    {
      "cell_type": "code",
      "metadata": {
        "id": "X21qwNKa13_t"
      },
      "source": [
        "coef = np.loadtxt('lab6_practice_coef.txt', delimiter=',')"
      ],
      "execution_count": 4,
      "outputs": []
    },
    {
      "cell_type": "code",
      "metadata": {
        "colab": {
          "base_uri": "https://localhost:8080/"
        },
        "id": "nNNcU-w8382k",
        "outputId": "37986af0-83e6-411b-b4d1-99e139e28270"
      },
      "source": [
        "print(coef.shape)\n",
        "print('Num rows:',coef.shape[0])\n",
        "print('Num cols:',coef.shape[1])"
      ],
      "execution_count": 5,
      "outputs": [
        {
          "output_type": "stream",
          "name": "stdout",
          "text": [
            "(17, 11)\n",
            "Num rows: 17\n",
            "Num cols: 11\n"
          ]
        }
      ]
    },
    {
      "cell_type": "code",
      "metadata": {
        "id": "s6bnLKW83_iC"
      },
      "source": [
        "model = ConcreteModel()"
      ],
      "execution_count": 6,
      "outputs": []
    },
    {
      "cell_type": "code",
      "metadata": {
        "id": "rzI4gmpg4DHw"
      },
      "source": [
        "N = coef.shape[1]-1\n",
        "M = coef.shape[0]-1"
      ],
      "execution_count": 7,
      "outputs": []
    },
    {
      "cell_type": "code",
      "metadata": {
        "colab": {
          "base_uri": "https://localhost:8080/"
        },
        "id": "AF_pn0jM4IY5",
        "outputId": "f28c733d-3e13-4803-ca66-bba2770a761f"
      },
      "source": [
        "obj_coef = coef[0,:-1]\n",
        "print(obj_coef.shape)\n",
        "print(obj_coef)"
      ],
      "execution_count": 8,
      "outputs": [
        {
          "output_type": "stream",
          "name": "stdout",
          "text": [
            "(10,)\n",
            "[0. 0. 0. 0. 0. 1. 1. 1. 1. 1.]\n"
          ]
        }
      ]
    },
    {
      "cell_type": "code",
      "metadata": {
        "colab": {
          "base_uri": "https://localhost:8080/"
        },
        "id": "5sCaW6Es4RZe",
        "outputId": "dd2fe19e-0663-4fe5-d16b-414dfdc36eb5"
      },
      "source": [
        "constr_coef = coef[1:,:-1]\n",
        "print(constr_coef.shape)\n",
        "print(constr_coef)"
      ],
      "execution_count": 9,
      "outputs": [
        {
          "output_type": "stream",
          "name": "stdout",
          "text": [
            "(16, 10)\n",
            "[[ 85.  92.  45.  27.  31.   0.   0.   0.   0.   0.]\n",
            " [ 92.  54.  22.  20.   7.   0.   0.   0.   0.   0.]\n",
            " [ 96.  67.  29.  20.  11.   0.   0.   0.   0.   0.]\n",
            " [-91. -57. -33. -23. -12.   0.   0.   0.   0.   0.]\n",
            " [-99. -75. -26. -24. -41.   0.   0.   0.   0.   0.]\n",
            " [-98. -99. -57. -45. -65.   0.   0.   0.   0.   0.]\n",
            " [ -1.   0.   0.   0.   0.   1.   0.   0.   0.   0.]\n",
            " [  0.  -1.   0.   0.   0.   0.   1.   0.   0.   0.]\n",
            " [  0.   0.  -1.   0.   0.   0.   0.   1.   0.   0.]\n",
            " [  0.   0.   0.  -1.   0.   0.   0.   0.   1.   0.]\n",
            " [  0.   0.   0.   0.  -1.   0.   0.   0.   0.   1.]\n",
            " [  1.   0.   0.   0.   0.   1.   0.   0.   0.   0.]\n",
            " [  0.   1.   0.   0.   0.   0.   1.   0.   0.   0.]\n",
            " [  0.   0.   1.   0.   0.   0.   0.   1.   0.   0.]\n",
            " [  0.   0.   0.   1.   0.   0.   0.   0.   1.   0.]\n",
            " [  0.   0.   0.   0.   1.   0.   0.   0.   0.   1.]]\n"
          ]
        }
      ]
    },
    {
      "cell_type": "code",
      "metadata": {
        "colab": {
          "base_uri": "https://localhost:8080/"
        },
        "id": "WNU4E5724Yix",
        "outputId": "f1edf330-8f1b-4dfc-ac45-ffd65d284299"
      },
      "source": [
        "constr_rhs = coef[1:,-1]\n",
        "print(constr_rhs.shape)\n",
        "print(constr_rhs)"
      ],
      "execution_count": 10,
      "outputs": [
        {
          "output_type": "stream",
          "name": "stdout",
          "text": [
            "(16,)\n",
            "[1. 1. 1. 1. 1. 1. 0. 0. 0. 0. 0. 0. 0. 0. 0. 0.]\n"
          ]
        }
      ]
    },
    {
      "cell_type": "code",
      "metadata": {
        "colab": {
          "base_uri": "https://localhost:8080/"
        },
        "id": "qy2e7pzI4ilo",
        "outputId": "347f85fa-480f-4db6-aef9-b44724f4457a"
      },
      "source": [
        "col_indices_x = np.arange(int(N/2))\n",
        "print(col_indices_x)\n",
        "model.x = Var(col_indices_x)"
      ],
      "execution_count": 11,
      "outputs": [
        {
          "output_type": "stream",
          "name": "stdout",
          "text": [
            "[0 1 2 3 4]\n"
          ]
        }
      ]
    },
    {
      "cell_type": "code",
      "metadata": {
        "colab": {
          "base_uri": "https://localhost:8080/"
        },
        "id": "y9nG9DGk4tyx",
        "outputId": "962db465-156f-4554-dab5-018b25226b69"
      },
      "source": [
        "col_indices_u = np.arange(int(N/2))\n",
        "print(col_indices_u)\n",
        "model.u = Var(col_indices_u, domain=NonNegativeReals)"
      ],
      "execution_count": 12,
      "outputs": [
        {
          "output_type": "stream",
          "name": "stdout",
          "text": [
            "[0 1 2 3 4]\n"
          ]
        }
      ]
    },
    {
      "cell_type": "code",
      "metadata": {
        "colab": {
          "base_uri": "https://localhost:8080/"
        },
        "id": "vYAPm7Qm4zUB",
        "outputId": "20f957d8-9042-4d58-b991-ab8f030faef0"
      },
      "source": [
        "row_indices = np.arange(M)\n",
        "print(row_indices)"
      ],
      "execution_count": 13,
      "outputs": [
        {
          "output_type": "stream",
          "name": "stdout",
          "text": [
            "[ 0  1  2  3  4  5  6  7  8  9 10 11 12 13 14 15]\n"
          ]
        }
      ]
    },
    {
      "cell_type": "code",
      "metadata": {
        "id": "WN5QKsN642Yx"
      },
      "source": [
        "model.constraints = ConstraintList()"
      ],
      "execution_count": 14,
      "outputs": []
    },
    {
      "cell_type": "code",
      "metadata": {
        "id": "ZzgtoGDM47Vl"
      },
      "source": [
        "for i in row_indices:\n",
        "  model.constraints.add(summation(constr_coef[i][0:int(N/2)],model.x) + summation(constr_coef[i][int(N/2):N],model.u)  >= constr_rhs[i])"
      ],
      "execution_count": 15,
      "outputs": []
    },
    {
      "cell_type": "code",
      "metadata": {
        "id": "loQaE2TI5TTr"
      },
      "source": [
        "model.objective = Objective(expr = summation(obj_coef[0:int(N/2)],model.x) + summation(obj_coef[int(N/2):N],model.u), sense=minimize)"
      ],
      "execution_count": 16,
      "outputs": []
    },
    {
      "cell_type": "code",
      "metadata": {
        "colab": {
          "base_uri": "https://localhost:8080/"
        },
        "id": "UeUmLiFn5bul",
        "outputId": "4f553cc6-c662-4149-d27c-f31616bb018a"
      },
      "source": [
        "model.pprint()"
      ],
      "execution_count": 17,
      "outputs": [
        {
          "output_type": "stream",
          "name": "stdout",
          "text": [
            "3 Set Declarations\n",
            "    constraints_index : Size=1, Index=None, Ordered=Insertion\n",
            "        Key  : Dimen : Domain : Size : Members\n",
            "        None :     1 :    Any :   16 : {1, 2, 3, 4, 5, 6, 7, 8, 9, 10, 11, 12, 13, 14, 15, 16}\n",
            "    u_index : Size=1, Index=None, Ordered=False\n",
            "        Key  : Dimen : Domain : Size : Members\n",
            "        None :     1 :    Any :    5 : {0, 1, 2, 3, 4}\n",
            "    x_index : Size=1, Index=None, Ordered=False\n",
            "        Key  : Dimen : Domain : Size : Members\n",
            "        None :     1 :    Any :    5 : {0, 1, 2, 3, 4}\n",
            "\n",
            "2 Var Declarations\n",
            "    u : Size=5, Index=u_index\n",
            "        Key : Lower : Value : Upper : Fixed : Stale : Domain\n",
            "          0 :     0 :  None :  None : False :  True : NonNegativeReals\n",
            "          1 :     0 :  None :  None : False :  True : NonNegativeReals\n",
            "          2 :     0 :  None :  None : False :  True : NonNegativeReals\n",
            "          3 :     0 :  None :  None : False :  True : NonNegativeReals\n",
            "          4 :     0 :  None :  None : False :  True : NonNegativeReals\n",
            "    x : Size=5, Index=x_index\n",
            "        Key : Lower : Value : Upper : Fixed : Stale : Domain\n",
            "          0 :  None :  None :  None : False :  True :  Reals\n",
            "          1 :  None :  None :  None : False :  True :  Reals\n",
            "          2 :  None :  None :  None : False :  True :  Reals\n",
            "          3 :  None :  None :  None : False :  True :  Reals\n",
            "          4 :  None :  None :  None : False :  True :  Reals\n",
            "\n",
            "1 Objective Declarations\n",
            "    objective : Size=1, Index=None, Active=True\n",
            "        Key  : Active : Sense    : Expression\n",
            "        None :   True : minimize :  + (u[0] + u[1] + u[2] + u[3] + u[4])\n",
            "\n",
            "1 Constraint Declarations\n",
            "    constraints : Size=16, Index=constraints_index, Active=True\n",
            "        Key : Lower : Body                                                             : Upper : Active\n",
            "          1 :   1.0 :   85.0*x[0] + 92.0*x[1] + 45.0*x[2] + 27.0*x[3] + 31.0*x[4] + () :  +Inf :   True\n",
            "          2 :   1.0 :    92.0*x[0] + 54.0*x[1] + 22.0*x[2] + 20.0*x[3] + 7.0*x[4] + () :  +Inf :   True\n",
            "          3 :   1.0 :   96.0*x[0] + 67.0*x[1] + 29.0*x[2] + 20.0*x[3] + 11.0*x[4] + () :  +Inf :   True\n",
            "          4 :   1.0 : - 91.0*x[0] - 57.0*x[1] - 33.0*x[2] - 23.0*x[3] - 12.0*x[4] + () :  +Inf :   True\n",
            "          5 :   1.0 : - 99.0*x[0] - 75.0*x[1] - 26.0*x[2] - 24.0*x[3] - 41.0*x[4] + () :  +Inf :   True\n",
            "          6 :   1.0 : - 98.0*x[0] - 99.0*x[1] - 57.0*x[2] - 45.0*x[3] - 65.0*x[4] + () :  +Inf :   True\n",
            "          7 :   0.0 :                                                  - x[0] + (u[0]) :  +Inf :   True\n",
            "          8 :   0.0 :                                                  - x[1] + (u[1]) :  +Inf :   True\n",
            "          9 :   0.0 :                                                  - x[2] + (u[2]) :  +Inf :   True\n",
            "         10 :   0.0 :                                                  - x[3] + (u[3]) :  +Inf :   True\n",
            "         11 :   0.0 :                                                  - x[4] + (u[4]) :  +Inf :   True\n",
            "         12 :   0.0 :                                                    x[0] + (u[0]) :  +Inf :   True\n",
            "         13 :   0.0 :                                                    x[1] + (u[1]) :  +Inf :   True\n",
            "         14 :   0.0 :                                                    x[2] + (u[2]) :  +Inf :   True\n",
            "         15 :   0.0 :                                                    x[3] + (u[3]) :  +Inf :   True\n",
            "         16 :   0.0 :                                                    x[4] + (u[4]) :  +Inf :   True\n",
            "\n",
            "7 Declarations: x_index x u_index u constraints_index constraints objective\n"
          ]
        }
      ]
    },
    {
      "cell_type": "code",
      "metadata": {
        "id": "PV6NFVL-5gWD",
        "colab": {
          "base_uri": "https://localhost:8080/"
        },
        "outputId": "874f9961-5827-4e0c-fd99-e723d873fdcd"
      },
      "source": [
        "!apt-get install -y -qq coinor-cbc"
      ],
      "execution_count": 18,
      "outputs": [
        {
          "output_type": "stream",
          "name": "stdout",
          "text": [
            "Selecting previously unselected package coinor-libcoinutils3v5.\n",
            "(Reading database ... 148492 files and directories currently installed.)\n",
            "Preparing to unpack .../0-coinor-libcoinutils3v5_2.10.14+repack1-1_amd64.deb ...\n",
            "Unpacking coinor-libcoinutils3v5 (2.10.14+repack1-1) ...\n",
            "Selecting previously unselected package coinor-libosi1v5.\n",
            "Preparing to unpack .../1-coinor-libosi1v5_0.107.9+repack1-1_amd64.deb ...\n",
            "Unpacking coinor-libosi1v5 (0.107.9+repack1-1) ...\n",
            "Selecting previously unselected package coinor-libclp1.\n",
            "Preparing to unpack .../2-coinor-libclp1_1.16.11+repack1-1_amd64.deb ...\n",
            "Unpacking coinor-libclp1 (1.16.11+repack1-1) ...\n",
            "Selecting previously unselected package coinor-libcgl1.\n",
            "Preparing to unpack .../3-coinor-libcgl1_0.59.10+repack1-1_amd64.deb ...\n",
            "Unpacking coinor-libcgl1 (0.59.10+repack1-1) ...\n",
            "Selecting previously unselected package coinor-libcbc3.\n",
            "Preparing to unpack .../4-coinor-libcbc3_2.9.9+repack1-1_amd64.deb ...\n",
            "Unpacking coinor-libcbc3 (2.9.9+repack1-1) ...\n",
            "Selecting previously unselected package coinor-cbc.\n",
            "Preparing to unpack .../5-coinor-cbc_2.9.9+repack1-1_amd64.deb ...\n",
            "Unpacking coinor-cbc (2.9.9+repack1-1) ...\n",
            "Setting up coinor-libcoinutils3v5 (2.10.14+repack1-1) ...\n",
            "Setting up coinor-libosi1v5 (0.107.9+repack1-1) ...\n",
            "Setting up coinor-libclp1 (1.16.11+repack1-1) ...\n",
            "Setting up coinor-libcgl1 (0.59.10+repack1-1) ...\n",
            "Setting up coinor-libcbc3 (2.9.9+repack1-1) ...\n",
            "Setting up coinor-cbc (2.9.9+repack1-1) ...\n",
            "Processing triggers for man-db (2.8.3-2ubuntu0.1) ...\n",
            "Processing triggers for libc-bin (2.27-3ubuntu1.2) ...\n",
            "/sbin/ldconfig.real: /usr/local/lib/python3.7/dist-packages/ideep4py/lib/libmkldnn.so.0 is not a symbolic link\n",
            "\n"
          ]
        }
      ]
    },
    {
      "cell_type": "code",
      "metadata": {
        "id": "Z4loyCMQ5sz7"
      },
      "source": [
        "opt_cbc = SolverFactory('cbc')"
      ],
      "execution_count": 19,
      "outputs": []
    },
    {
      "cell_type": "code",
      "metadata": {
        "colab": {
          "base_uri": "https://localhost:8080/"
        },
        "id": "hpt7ARvh50pn",
        "outputId": "071f98ec-9579-4100-997d-59ec864dc5ce"
      },
      "source": [
        "result = opt_cbc.solve(model)\n",
        "print('Solver status:', result.solver.status)\n",
        "print('Solver termination condition:',result.solver.termination_condition)"
      ],
      "execution_count": 20,
      "outputs": [
        {
          "output_type": "stream",
          "name": "stdout",
          "text": [
            "Solver status: ok\n",
            "Solver termination condition: optimal\n"
          ]
        }
      ]
    },
    {
      "cell_type": "markdown",
      "metadata": {
        "id": "XgK5se7YXPhG"
      },
      "source": [
        "##Ans 2 :\n",
        "\n",
        "The Solver Status is Ok.\n",
        "\n",
        "The Solver Termination Condition is optimal.\n",
        "\n",
        "Yes, the solver yields an optimal solution."
      ]
    },
    {
      "cell_type": "code",
      "metadata": {
        "colab": {
          "base_uri": "https://localhost:8080/"
        },
        "id": "9FGDsOnK53SR",
        "outputId": "c226ed35-dc8d-430f-bc21-c811bf6c61ae"
      },
      "source": [
        "print('Objective = ', model.objective())\n",
        "\n",
        "print('\\nDecision Variables')\n",
        "for j in col_indices_x:\n",
        "    print('x[',j,']:', model.x[j].value)\n",
        "\n",
        "for j in col_indices_u:\n",
        "    print('u[',j,']:', model.u[j].value)\n",
        "\n",
        "print('\\nConstraints')\n",
        "model.constraints.display()"
      ],
      "execution_count": 21,
      "outputs": [
        {
          "output_type": "stream",
          "name": "stdout",
          "text": [
            "Objective =  0.547955725\n",
            "\n",
            "Decision Variables\n",
            "x[ 0 ]: -0.046448575\n",
            "x[ 1 ]: 0.18612441\n",
            "x[ 2 ]: -0.17131802\n",
            "x[ 3 ]: 0.0\n",
            "x[ 4 ]: -0.14406472\n",
            "u[ 0 ]: 0.046448575\n",
            "u[ 1 ]: 0.18612441\n",
            "u[ 2 ]: 0.17131802\n",
            "u[ 3 ]: 0.0\n",
            "u[ 4 ]: 0.14406472\n",
            "\n",
            "Constraints\n",
            "constraints : Size=16\n",
            "    Key : Lower : Body               : Upper\n",
            "      1 :   1.0 : 0.9999996250000001 :  None\n",
            "      2 :   1.0 : 0.9999997599999997 :  None\n",
            "      3 :   1.0 :  1.458337769999999 :  None\n",
            "      4 :   1.0 : 1.0000002550000002 :  None\n",
            "      5 :   1.0 :  1.000000215000001 :  None\n",
            "      6 :   1.0 : 5.2549776999999995 :  None\n",
            "      7 :   0.0 :         0.09289715 :  None\n",
            "      8 :   0.0 :                0.0 :  None\n",
            "      9 :   0.0 :         0.34263604 :  None\n",
            "     10 :   0.0 :                0.0 :  None\n",
            "     11 :   0.0 :         0.28812944 :  None\n",
            "     12 :   0.0 :                0.0 :  None\n",
            "     13 :   0.0 :         0.37224882 :  None\n",
            "     14 :   0.0 :                0.0 :  None\n",
            "     15 :   0.0 :                0.0 :  None\n",
            "     16 :   0.0 :                0.0 :  None\n"
          ]
        }
      ]
    },
    {
      "cell_type": "markdown",
      "metadata": {
        "id": "RhTqzGfDXRlp"
      },
      "source": [
        "##Ans 3 :\n",
        "\n",
        "Optimal Objective Function value : 0.547955725\n",
        "\n",
        "$x_1: -0.046448575\\\\\n",
        "x_2: 0.18612441\\\\\n",
        "x_3: -0.17131802\\\\\n",
        "x_4: 0.0\\\\\n",
        "x_5: -0.14406472\\\\\n",
        "u_1: 0.046448575\\\\\n",
        "u_2: 0.18612441\\\\\n",
        "u_3: 0.17131802\\\\\n",
        "u_4: 0.0\\\\\n",
        "u_5: 0.14406472$\n",
        "\n",
        "Constraint Activities:\n",
        "\n",
        "Constraint 1 is active by $\\epsilon$ activity concept.\n",
        "\n",
        "Constraint 2 is active by $\\epsilon$ activity concept.\n",
        "\n",
        "Constraint 3 is not active.\n",
        "\n",
        "Constraint 4 is active by $\\epsilon$ activity concept.\n",
        "\n",
        "Constraint 5 is active by $\\epsilon$ activity concept.\n",
        "\n",
        "Constraint 6 is not active.\n",
        "\n",
        "Constraint 7 is not active.\n",
        "\n",
        "Constraint 8 is active by $\\epsilon$ activity concept.\n",
        "\n",
        "Constraint 9 is not active.\n",
        "\n",
        "Constraint 10 is active by $\\epsilon$ activity concept.\n",
        "\n",
        "Constraint 11 is not active.\n",
        "\n",
        "Constraint 12 is active by $\\epsilon$ activity concept.\n",
        "\n",
        "Constraint 13 is not active. \n",
        "\n",
        "Constraint 14 is active by $\\epsilon$ activity concept.\n",
        "\n",
        "Constraint 15 is active by $\\epsilon$ activity concept.\n",
        "\n",
        "Constraint 16 is active by $\\epsilon$ activity concept.\n",
        "\n",
        "***When we observe the values of $x_i$ with $u_i$, we see $u_i$ are the absolute value of $x_i$***"
      ]
    },
    {
      "cell_type": "code",
      "metadata": {
        "id": "kj_YJOaD6Bbw"
      },
      "source": [
        "coef_OP2 = np.loadtxt('/content/lab6_practice_coef_OP2.txt',delimiter = ',')"
      ],
      "execution_count": 22,
      "outputs": []
    },
    {
      "cell_type": "code",
      "metadata": {
        "colab": {
          "base_uri": "https://localhost:8080/"
        },
        "id": "EmakmQT38sNS",
        "outputId": "83367893-e8a0-4472-c5b7-fcdf0effe4c1"
      },
      "source": [
        "print(coef_OP2.shape)\n",
        "print('Num rows:',coef_OP2.shape[0])\n",
        "print('Num cols:',coef_OP2.shape[1])"
      ],
      "execution_count": 23,
      "outputs": [
        {
          "output_type": "stream",
          "name": "stdout",
          "text": [
            "(7, 11)\n",
            "Num rows: 7\n",
            "Num cols: 11\n"
          ]
        }
      ]
    },
    {
      "cell_type": "code",
      "metadata": {
        "id": "TFfGmSjR83gn"
      },
      "source": [
        "model_OP2 = ConcreteModel()"
      ],
      "execution_count": 24,
      "outputs": []
    },
    {
      "cell_type": "code",
      "metadata": {
        "id": "AGdwGrNX87d5"
      },
      "source": [
        "n = coef_OP2.shape[1]-1\n",
        "m = coef_OP2.shape[0]-1"
      ],
      "execution_count": 25,
      "outputs": []
    },
    {
      "cell_type": "code",
      "metadata": {
        "colab": {
          "base_uri": "https://localhost:8080/"
        },
        "id": "ydOBcecY9Htp",
        "outputId": "51de3b34-83d3-47aa-8088-054e99490526"
      },
      "source": [
        "obj_coef_OP2 = coef_OP2[0,:-1]\n",
        "print(obj_coef_OP2)"
      ],
      "execution_count": 26,
      "outputs": [
        {
          "output_type": "stream",
          "name": "stdout",
          "text": [
            "[1. 1. 1. 1. 1. 1. 1. 1. 1. 1.]\n"
          ]
        }
      ]
    },
    {
      "cell_type": "code",
      "metadata": {
        "colab": {
          "base_uri": "https://localhost:8080/"
        },
        "id": "xBcwiVMe9VNc",
        "outputId": "f8e13e0f-ff2b-4f98-cf32-04125b37d1bf"
      },
      "source": [
        "constr_coef_OP2 = coef_OP2[1:,:-1]\n",
        "print(constr_coef_OP2)"
      ],
      "execution_count": 27,
      "outputs": [
        {
          "output_type": "stream",
          "name": "stdout",
          "text": [
            "[[ 85.  92.  45.  27.  31. -85. -92. -45. -27. -31.]\n",
            " [ 92.  54.  22.  20.   7. -92. -54. -22. -20.  -7.]\n",
            " [ 96.  67.  29.  20.  11. -96. -67. -29. -20. -11.]\n",
            " [-91. -57. -33. -23. -12.  91.  57.  33.  23.  12.]\n",
            " [-99. -75. -26. -24. -41.  99.  75.  26.  24.  41.]\n",
            " [-98. -99. -57. -45. -65.  98.  99.  57.  45.  65.]]\n"
          ]
        }
      ]
    },
    {
      "cell_type": "code",
      "metadata": {
        "colab": {
          "base_uri": "https://localhost:8080/"
        },
        "id": "LW-P1PR69lbG",
        "outputId": "20a01a6c-d053-4d9f-eb7e-579aee967b85"
      },
      "source": [
        "constr_rhs_OP2 = coef_OP2[1:,-1]\n",
        "print(constr_rhs_OP2)"
      ],
      "execution_count": 28,
      "outputs": [
        {
          "output_type": "stream",
          "name": "stdout",
          "text": [
            "[1. 1. 1. 1. 1. 1.]\n"
          ]
        }
      ]
    },
    {
      "cell_type": "code",
      "metadata": {
        "id": "YDWIWKOv9z6X"
      },
      "source": [
        "col_indices_a = np.arange(int(n/2))\n",
        "model_OP2.a = Var(col_indices_a,domain = NonNegativeReals)"
      ],
      "execution_count": 29,
      "outputs": []
    },
    {
      "cell_type": "code",
      "metadata": {
        "id": "7pcmzZ5n-R8A"
      },
      "source": [
        "col_indices_b = np.arange(int(n/2))\n",
        "model_OP2.b = Var(col_indices_b,domain = NonNegativeReals)"
      ],
      "execution_count": 30,
      "outputs": []
    },
    {
      "cell_type": "code",
      "metadata": {
        "id": "OaJx1DLv-eEV"
      },
      "source": [
        "row_indices = np.arange(m)"
      ],
      "execution_count": 31,
      "outputs": []
    },
    {
      "cell_type": "code",
      "metadata": {
        "id": "463CVRP7-jcj"
      },
      "source": [
        "model_OP2.constraints = ConstraintList()"
      ],
      "execution_count": 32,
      "outputs": []
    },
    {
      "cell_type": "code",
      "metadata": {
        "id": "x84IUVno-m_-"
      },
      "source": [
        "for i in row_indices:\n",
        "  model_OP2.constraints.add(summation(constr_coef_OP2[i][0:int(n/2)],model_OP2.a)+summation(constr_coef_OP2[i][int(n/2):N],model_OP2.b)>=constr_rhs_OP2[i])"
      ],
      "execution_count": 33,
      "outputs": []
    },
    {
      "cell_type": "code",
      "metadata": {
        "id": "dozAC3n7AD_m"
      },
      "source": [
        "model_OP2.objective = Objective(expr = summation(obj_coef_OP2[0:int(n/2)],model_OP2.a)+summation(obj_coef_OP2[int(n/2):n],model_OP2.b),sense = minimize)"
      ],
      "execution_count": 34,
      "outputs": []
    },
    {
      "cell_type": "code",
      "metadata": {
        "colab": {
          "base_uri": "https://localhost:8080/"
        },
        "id": "nETOCNCqAqa5",
        "outputId": "2405da9c-58fe-4b17-f608-14eeeac87b8e"
      },
      "source": [
        "model_OP2.pprint()"
      ],
      "execution_count": 35,
      "outputs": [
        {
          "output_type": "stream",
          "name": "stdout",
          "text": [
            "3 Set Declarations\n",
            "    a_index : Size=1, Index=None, Ordered=False\n",
            "        Key  : Dimen : Domain : Size : Members\n",
            "        None :     1 :    Any :    5 : {0, 1, 2, 3, 4}\n",
            "    b_index : Size=1, Index=None, Ordered=False\n",
            "        Key  : Dimen : Domain : Size : Members\n",
            "        None :     1 :    Any :    5 : {0, 1, 2, 3, 4}\n",
            "    constraints_index : Size=1, Index=None, Ordered=Insertion\n",
            "        Key  : Dimen : Domain : Size : Members\n",
            "        None :     1 :    Any :    6 : {1, 2, 3, 4, 5, 6}\n",
            "\n",
            "2 Var Declarations\n",
            "    a : Size=5, Index=a_index\n",
            "        Key : Lower : Value : Upper : Fixed : Stale : Domain\n",
            "          0 :     0 :  None :  None : False :  True : NonNegativeReals\n",
            "          1 :     0 :  None :  None : False :  True : NonNegativeReals\n",
            "          2 :     0 :  None :  None : False :  True : NonNegativeReals\n",
            "          3 :     0 :  None :  None : False :  True : NonNegativeReals\n",
            "          4 :     0 :  None :  None : False :  True : NonNegativeReals\n",
            "    b : Size=5, Index=b_index\n",
            "        Key : Lower : Value : Upper : Fixed : Stale : Domain\n",
            "          0 :     0 :  None :  None : False :  True : NonNegativeReals\n",
            "          1 :     0 :  None :  None : False :  True : NonNegativeReals\n",
            "          2 :     0 :  None :  None : False :  True : NonNegativeReals\n",
            "          3 :     0 :  None :  None : False :  True : NonNegativeReals\n",
            "          4 :     0 :  None :  None : False :  True : NonNegativeReals\n",
            "\n",
            "1 Objective Declarations\n",
            "    objective : Size=1, Index=None, Active=True\n",
            "        Key  : Active : Sense    : Expression\n",
            "        None :   True : minimize : a[0] + a[1] + a[2] + a[3] + a[4] + (b[0] + b[1] + b[2] + b[3] + b[4])\n",
            "\n",
            "1 Constraint Declarations\n",
            "    constraints : Size=6, Index=constraints_index, Active=True\n",
            "        Key : Lower : Body                                                                                                                      : Upper : Active\n",
            "          1 :   1.0 :     85.0*a[0] + 92.0*a[1] + 45.0*a[2] + 27.0*a[3] + 31.0*a[4] - 85.0*b[0] - 92.0*b[1] - 45.0*b[2] - 27.0*b[3] - 31.0*b[4] :  +Inf :   True\n",
            "          2 :   1.0 :       92.0*a[0] + 54.0*a[1] + 22.0*a[2] + 20.0*a[3] + 7.0*a[4] - 92.0*b[0] - 54.0*b[1] - 22.0*b[2] - 20.0*b[3] - 7.0*b[4] :  +Inf :   True\n",
            "          3 :   1.0 :     96.0*a[0] + 67.0*a[1] + 29.0*a[2] + 20.0*a[3] + 11.0*a[4] - 96.0*b[0] - 67.0*b[1] - 29.0*b[2] - 20.0*b[3] - 11.0*b[4] :  +Inf :   True\n",
            "          4 :   1.0 : - 91.0*a[0] - 57.0*a[1] - 33.0*a[2] - 23.0*a[3] - 12.0*a[4] + (91.0*b[0] + 57.0*b[1] + 33.0*b[2] + 23.0*b[3] + 12.0*b[4]) :  +Inf :   True\n",
            "          5 :   1.0 : - 99.0*a[0] - 75.0*a[1] - 26.0*a[2] - 24.0*a[3] - 41.0*a[4] + (99.0*b[0] + 75.0*b[1] + 26.0*b[2] + 24.0*b[3] + 41.0*b[4]) :  +Inf :   True\n",
            "          6 :   1.0 : - 98.0*a[0] - 99.0*a[1] - 57.0*a[2] - 45.0*a[3] - 65.0*a[4] + (98.0*b[0] + 99.0*b[1] + 57.0*b[2] + 45.0*b[3] + 65.0*b[4]) :  +Inf :   True\n",
            "\n",
            "7 Declarations: a_index a b_index b constraints_index constraints objective\n"
          ]
        }
      ]
    },
    {
      "cell_type": "code",
      "metadata": {
        "colab": {
          "base_uri": "https://localhost:8080/"
        },
        "id": "L7qVPDZgAtKg",
        "outputId": "60b1ba82-faf3-4a89-ac00-1734e0ec8138"
      },
      "source": [
        "result = opt_cbc.solve(model_OP2)\n",
        "print('Solver status:', result.solver.status)\n",
        "print('Solver termination condition:',result.solver.termination_condition)"
      ],
      "execution_count": 36,
      "outputs": [
        {
          "output_type": "stream",
          "name": "stdout",
          "text": [
            "Solver status: ok\n",
            "Solver termination condition: optimal\n"
          ]
        }
      ]
    },
    {
      "cell_type": "markdown",
      "metadata": {
        "id": "fxAFsxsWZumv"
      },
      "source": [
        "##Ans 9 :\n",
        "\n",
        "The Solver Status is Ok.\n",
        "\n",
        "The Solver Termination Condition is optimal.\n",
        "\n",
        "Yes, the solver yields an optimal solution."
      ]
    },
    {
      "cell_type": "code",
      "metadata": {
        "colab": {
          "base_uri": "https://localhost:8080/"
        },
        "id": "BJT2TbArBD2a",
        "outputId": "56425d20-c34e-43c9-d81b-2b509adf9bca"
      },
      "source": [
        "print('Objective = ', model_OP2.objective())\n",
        "\n",
        "print('\\nDecision Variables')\n",
        "for j in col_indices_x:\n",
        "    print('a[',j,']:', model_OP2.a[j].value)\n",
        "\n",
        "for j in col_indices_u:\n",
        "    print('b[',j,']:', model_OP2.b[j].value)\n",
        "\n",
        "print('\\nConstraints')\n",
        "model.constraints.display()"
      ],
      "execution_count": 37,
      "outputs": [
        {
          "output_type": "stream",
          "name": "stdout",
          "text": [
            "Objective =  0.547955725\n",
            "\n",
            "Decision Variables\n",
            "a[ 0 ]: 0.0\n",
            "a[ 1 ]: 0.18612441\n",
            "a[ 2 ]: 0.0\n",
            "a[ 3 ]: 0.0\n",
            "a[ 4 ]: 0.0\n",
            "b[ 0 ]: 0.046448575\n",
            "b[ 1 ]: 0.0\n",
            "b[ 2 ]: 0.17131802\n",
            "b[ 3 ]: 0.0\n",
            "b[ 4 ]: 0.14406472\n",
            "\n",
            "Constraints\n",
            "constraints : Size=16\n",
            "    Key : Lower : Body               : Upper\n",
            "      1 :   1.0 : 0.9999996250000001 :  None\n",
            "      2 :   1.0 : 0.9999997599999997 :  None\n",
            "      3 :   1.0 :  1.458337769999999 :  None\n",
            "      4 :   1.0 : 1.0000002550000002 :  None\n",
            "      5 :   1.0 :  1.000000215000001 :  None\n",
            "      6 :   1.0 : 5.2549776999999995 :  None\n",
            "      7 :   0.0 :         0.09289715 :  None\n",
            "      8 :   0.0 :                0.0 :  None\n",
            "      9 :   0.0 :         0.34263604 :  None\n",
            "     10 :   0.0 :                0.0 :  None\n",
            "     11 :   0.0 :         0.28812944 :  None\n",
            "     12 :   0.0 :                0.0 :  None\n",
            "     13 :   0.0 :         0.37224882 :  None\n",
            "     14 :   0.0 :                0.0 :  None\n",
            "     15 :   0.0 :                0.0 :  None\n",
            "     16 :   0.0 :                0.0 :  None\n"
          ]
        }
      ]
    },
    {
      "cell_type": "markdown",
      "metadata": {
        "id": "EQZ-7rS-Z25q"
      },
      "source": [
        "##Ans 10 :\n",
        "\n",
        "Optimal Objective Function value : 0.547955725\n",
        "\n",
        "$a_1: 0.0\\\\\n",
        "a_2: 0.18612441\\\\\n",
        "a_3: 0.0\\\\\n",
        "a_4: 0.0\\\\\n",
        "a_5: 0.0\\\\\n",
        "b_1: 0.046448575\\\\\n",
        "b_2: 0.0\\\\\n",
        "b_3: 0.17131802\\\\\n",
        "b_4: 0.0\\\\\n",
        "b_5: 0.14406472$\n",
        "\n",
        "Constraint Activities:\n",
        "\n",
        "Constraint 1 is active by $\\epsilon$ activity concept.\n",
        "\n",
        "Constraint 2 is active by $\\epsilon$ activity concept.\n",
        "\n",
        "Constraint 3 is not active.\n",
        "\n",
        "Constraint 4 is active by $\\epsilon$ activity concept.\n",
        "\n",
        "Constraint 5 is active by $\\epsilon$ activity concept.\n",
        "\n",
        "Constraint 6 is not active.\n",
        "\n",
        "Constraint 7 is not active.\n",
        "\n",
        "Constraint 8 is active by $\\epsilon$ activity concept.\n",
        "\n",
        "Constraint 9 is not active.\n",
        "\n",
        "Constraint 10 is active by $\\epsilon$ activity concept.\n",
        "\n",
        "Constraint 11 is not active.\n",
        "\n",
        "Constraint 12 is active by $\\epsilon$ activity concept.\n",
        "\n",
        "Constraint 13 is not active. \n",
        "\n",
        "Constraint 14 is active by $\\epsilon$ activity concept.\n",
        "\n",
        "Constraint 15 is active by $\\epsilon$ activity concept.\n",
        "\n",
        "Constraint 16 is active by $\\epsilon$ activity concept.\n",
        "\n"
      ]
    },
    {
      "cell_type": "markdown",
      "metadata": {
        "id": "5y_UXHVbapnv"
      },
      "source": [
        "##Ans 11 :\n",
        "\n",
        "Code is in the cell below:"
      ]
    },
    {
      "cell_type": "code",
      "metadata": {
        "colab": {
          "base_uri": "https://localhost:8080/"
        },
        "id": "chL3ejK8BKz4",
        "outputId": "84440654-24bc-4f04-8de4-dfcf0ed84acc"
      },
      "source": [
        "for i in col_indices_x:\n",
        "  print('x[',i+1,']:',model_OP2.a[i].value-model_OP2.b[i].value)"
      ],
      "execution_count": 39,
      "outputs": [
        {
          "output_type": "stream",
          "name": "stdout",
          "text": [
            "x[ 1 ]: -0.046448575\n",
            "x[ 2 ]: 0.18612441\n",
            "x[ 3 ]: -0.17131802\n",
            "x[ 4 ]: 0.0\n",
            "x[ 5 ]: -0.14406472\n"
          ]
        }
      ]
    },
    {
      "cell_type": "markdown",
      "metadata": {
        "id": "gcfGqZJGb_DL"
      },
      "source": [
        "##Ans 12 :\n",
        "\n",
        "The values of $x_i$ obtained from OP1 and OP2 are the same. We substitute $x_i$ with other variables to make our nonlinear program linear. But after solving, we obtain the values of x_i by putting the values accordingly.\n",
        "Since the linear programs are equivalent, i.e. the solutions of both the programs are same, our original $x_i$ can be obtained."
      ]
    }
  ]
}