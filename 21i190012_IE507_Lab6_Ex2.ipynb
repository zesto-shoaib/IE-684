{
  "nbformat": 4,
  "nbformat_minor": 0,
  "metadata": {
    "colab": {
      "name": "21i190012_IE507_Lab6_Ex2.ipynb",
      "provenance": [],
      "collapsed_sections": []
    },
    "kernelspec": {
      "name": "python3",
      "display_name": "Python 3"
    }
  },
  "cells": [
    {
      "cell_type": "markdown",
      "metadata": {
        "id": "hYf6aPpU67fu"
      },
      "source": [
        "#Exercise 2"
      ]
    },
    {
      "cell_type": "code",
      "metadata": {
        "id": "E6VwDP2RpVyd"
      },
      "source": [
        "!pip install -q pyomo"
      ],
      "execution_count": 1,
      "outputs": []
    },
    {
      "cell_type": "code",
      "metadata": {
        "id": "1r_yYUofSTFB"
      },
      "source": [
        "from pyomo.environ import * "
      ],
      "execution_count": 2,
      "outputs": []
    },
    {
      "cell_type": "code",
      "metadata": {
        "id": "4xu-ZbGQ61f4"
      },
      "source": [
        "import numpy as np"
      ],
      "execution_count": 3,
      "outputs": []
    },
    {
      "cell_type": "markdown",
      "metadata": {
        "id": "ziDVrDzQ629j"
      },
      "source": [
        "\\begin{align}\n",
        "\\max \\ 35 x_1 + 57 x_2 + 48 x_3 + 20 x_4 + 15 x_5, \\\\\n",
        "{\\rm{s.t.}} \\; x_1 + x_2 + x_3 & \\leq 75, \\\\\n",
        "x_3 + x_4 + x_5 & \\leq 100, \\\\\n",
        "x_1 + x_2 & \\geq 10, \\\\ \n",
        "30000 x_1 + 95000 x_2 + 10000 x_3 + 5000 x_4 + 4000 x_5 & \\leq 1500000, \\\\\n",
        "100000 x_1 + 500000 x_2 + 200000 x_3 + 45000 x_4 + 25000 x_5 & \\geq 900000, \\\\\n",
        "x_i & \\geq 0, \\quad i \\in \\{1,2,3,4,5\\}. \\\\\n",
        "\\end{align}\n",
        "---"
      ]
    },
    {
      "cell_type": "markdown",
      "metadata": {
        "id": "9GLqGtdPl5-s"
      },
      "source": [
        "Note: $x_1, x_2, x_3, x_4, x_5$ denote the number of different types of media slots to be used for advertisement.  "
      ]
    },
    {
      "cell_type": "code",
      "metadata": {
        "id": "g3bUiPzkmSQP"
      },
      "source": [
        "import pandas as pd"
      ],
      "execution_count": 4,
      "outputs": []
    },
    {
      "cell_type": "code",
      "metadata": {
        "id": "Z26rYgB4m25b"
      },
      "source": [
        "data_csvfile = pd.read_csv('sample_csvfile.csv')"
      ],
      "execution_count": 5,
      "outputs": []
    },
    {
      "cell_type": "code",
      "metadata": {
        "id": "83A2HyQOyrtW",
        "colab": {
          "base_uri": "https://localhost:8080/"
        },
        "outputId": "f100e2ca-31ba-42d0-d25f-2764f8eba668"
      },
      "source": [
        "print (type(data_csvfile))"
      ],
      "execution_count": 6,
      "outputs": [
        {
          "output_type": "stream",
          "name": "stdout",
          "text": [
            "<class 'pandas.core.frame.DataFrame'>\n"
          ]
        }
      ]
    },
    {
      "cell_type": "code",
      "metadata": {
        "id": "Kte6UWEjnPS7",
        "colab": {
          "base_uri": "https://localhost:8080/"
        },
        "outputId": "2451dda6-976d-429a-d0ca-3bfebc5cd38e"
      },
      "source": [
        "data_csvfile.columns"
      ],
      "execution_count": 7,
      "outputs": [
        {
          "output_type": "execute_result",
          "data": {
            "text/plain": [
              "Index(['Medium', 'Num Customers', 'Cost per advt', 'Max slots per month',\n",
              "       'Reach Quality'],\n",
              "      dtype='object')"
            ]
          },
          "metadata": {},
          "execution_count": 7
        }
      ]
    },
    {
      "cell_type": "code",
      "metadata": {
        "id": "eJ2SntTsnF2r",
        "colab": {
          "base_uri": "https://localhost:8080/"
        },
        "outputId": "2aafb15a-7b52-4d77-f1af-7b0c254ec46a"
      },
      "source": [
        "data_csvfile['Medium']"
      ],
      "execution_count": 8,
      "outputs": [
        {
          "output_type": "execute_result",
          "data": {
            "text/plain": [
              "0           Websites\n",
              "1                 TV\n",
              "2     DailyNewspaper\n",
              "3     WeeklyMagazine\n",
              "4    MonthlyMagazine\n",
              "Name: Medium, dtype: object"
            ]
          },
          "metadata": {},
          "execution_count": 8
        }
      ]
    },
    {
      "cell_type": "code",
      "metadata": {
        "id": "2aRsk9xQnK5T",
        "colab": {
          "base_uri": "https://localhost:8080/"
        },
        "outputId": "8d2b2017-8b8b-41bc-c15a-0e076bc00652"
      },
      "source": [
        "data_csvfile['Num Customers']"
      ],
      "execution_count": 9,
      "outputs": [
        {
          "output_type": "execute_result",
          "data": {
            "text/plain": [
              "0    100000\n",
              "1    500000\n",
              "2    200000\n",
              "3     45000\n",
              "4     25000\n",
              "Name: Num Customers, dtype: int64"
            ]
          },
          "metadata": {},
          "execution_count": 9
        }
      ]
    },
    {
      "cell_type": "code",
      "metadata": {
        "id": "EYInwh3mnxUK",
        "colab": {
          "base_uri": "https://localhost:8080/"
        },
        "outputId": "0e3a899d-f9f5-4017-a90c-d9bbed846eec"
      },
      "source": [
        "data_csvfile['Cost per advt']"
      ],
      "execution_count": 10,
      "outputs": [
        {
          "output_type": "execute_result",
          "data": {
            "text/plain": [
              "0    30000\n",
              "1    95000\n",
              "2    10000\n",
              "3     5000\n",
              "4     4000\n",
              "Name: Cost per advt, dtype: int64"
            ]
          },
          "metadata": {},
          "execution_count": 10
        }
      ]
    },
    {
      "cell_type": "code",
      "metadata": {
        "id": "vUSogRNnn4Iq",
        "colab": {
          "base_uri": "https://localhost:8080/"
        },
        "outputId": "4e2631f2-33f9-41fa-c60e-e61fa2d5b1e7"
      },
      "source": [
        "data_csvfile['Max slots per month']"
      ],
      "execution_count": 11,
      "outputs": [
        {
          "output_type": "execute_result",
          "data": {
            "text/plain": [
              "0    20\n",
              "1    25\n",
              "2    30\n",
              "3     4\n",
              "4     1\n",
              "Name: Max slots per month, dtype: int64"
            ]
          },
          "metadata": {},
          "execution_count": 11
        }
      ]
    },
    {
      "cell_type": "code",
      "metadata": {
        "id": "gR8C5MkBn9qX",
        "colab": {
          "base_uri": "https://localhost:8080/"
        },
        "outputId": "3dd4a43c-73a3-4248-ac1a-e8e7707be8ea"
      },
      "source": [
        "data_csvfile['Reach Quality']"
      ],
      "execution_count": 12,
      "outputs": [
        {
          "output_type": "execute_result",
          "data": {
            "text/plain": [
              "0    35\n",
              "1    57\n",
              "2    48\n",
              "3    20\n",
              "4    15\n",
              "Name: Reach Quality, dtype: int64"
            ]
          },
          "metadata": {},
          "execution_count": 12
        }
      ]
    },
    {
      "cell_type": "code",
      "metadata": {
        "id": "6ZaU5gHuokbj",
        "colab": {
          "base_uri": "https://localhost:8080/"
        },
        "outputId": "fe00461c-d997-4667-9e0d-a70eaaa2f18e"
      },
      "source": [
        "data_csvfile.index"
      ],
      "execution_count": 13,
      "outputs": [
        {
          "output_type": "execute_result",
          "data": {
            "text/plain": [
              "RangeIndex(start=0, stop=5, step=1)"
            ]
          },
          "metadata": {},
          "execution_count": 13
        }
      ]
    },
    {
      "cell_type": "code",
      "metadata": {
        "id": "fvV0qN91pafx",
        "colab": {
          "base_uri": "https://localhost:8080/"
        },
        "outputId": "2ac2c45f-b231-41d8-e6c6-305f8e5d24a6"
      },
      "source": [
        "len(data_csvfile.index)"
      ],
      "execution_count": 14,
      "outputs": [
        {
          "output_type": "execute_result",
          "data": {
            "text/plain": [
              "5"
            ]
          },
          "metadata": {},
          "execution_count": 14
        }
      ]
    },
    {
      "cell_type": "code",
      "metadata": {
        "id": "HYj3zpsvSih4"
      },
      "source": [
        "# create a model\n",
        "model_lab4_ex2 = ConcreteModel()"
      ],
      "execution_count": 15,
      "outputs": []
    },
    {
      "cell_type": "code",
      "metadata": {
        "id": "XvRZqCV8d_-e"
      },
      "source": [
        "# we can set certain values using python variables\n",
        "N = len(data_csvfile.index) #we declare a Python variable N denoting the number of decision variables  "
      ],
      "execution_count": 16,
      "outputs": []
    },
    {
      "cell_type": "code",
      "metadata": {
        "colab": {
          "base_uri": "https://localhost:8080/"
        },
        "id": "jJAdF8baLJ4m",
        "outputId": "e2a610d5-e56a-40cb-af3b-0d419efe6c5e"
      },
      "source": [
        "print(data_csvfile)"
      ],
      "execution_count": 17,
      "outputs": [
        {
          "output_type": "stream",
          "name": "stdout",
          "text": [
            "            Medium  Num Customers  ...  Max slots per month  Reach Quality\n",
            "0         Websites         100000  ...                   20             35\n",
            "1               TV         500000  ...                   25             57\n",
            "2   DailyNewspaper         200000  ...                   30             48\n",
            "3   WeeklyMagazine          45000  ...                    4             20\n",
            "4  MonthlyMagazine          25000  ...                    1             15\n",
            "\n",
            "[5 rows x 5 columns]\n"
          ]
        }
      ]
    },
    {
      "cell_type": "code",
      "metadata": {
        "id": "_8CnN-2w9EMo"
      },
      "source": [
        "M = 5 #we declare a Python variable M denoting the number of constraints"
      ],
      "execution_count": 18,
      "outputs": []
    },
    {
      "cell_type": "code",
      "metadata": {
        "id": "iUToRXB7s8-R"
      },
      "source": [
        "col_indices = range(N)"
      ],
      "execution_count": 19,
      "outputs": []
    },
    {
      "cell_type": "code",
      "metadata": {
        "id": "GWlyoZdzpoNT"
      },
      "source": [
        "#declare the decision variables in the model\n",
        "model_lab4_ex2.x = Var(col_indices)"
      ],
      "execution_count": 20,
      "outputs": []
    },
    {
      "cell_type": "code",
      "metadata": {
        "id": "6AUcuaeEqDUm"
      },
      "source": [
        "model_lab4_ex2.objective = Objective(expr=summation(data_csvfile['Reach Quality'], model_lab4_ex2.x),sense=maximize)"
      ],
      "execution_count": 21,
      "outputs": []
    },
    {
      "cell_type": "code",
      "metadata": {
        "id": "Mcu6irk6tQHz"
      },
      "source": [
        "model_lab4_ex2.constraints = ConstraintList()"
      ],
      "execution_count": 22,
      "outputs": []
    },
    {
      "cell_type": "code",
      "metadata": {
        "id": "8V05vmFPtWYZ",
        "colab": {
          "base_uri": "https://localhost:8080/"
        },
        "outputId": "0524fcb6-48f1-44f8-e711-c79642746939"
      },
      "source": [
        "#We will add the first three constraints manually\n",
        "model_lab4_ex2.constraints.add(expr= model_lab4_ex2.x[0] + model_lab4_ex2.x[1] + model_lab4_ex2.x[2]<= 75  )\n",
        "model_lab4_ex2.constraints.add(expr= model_lab4_ex2.x[2] + model_lab4_ex2.x[3] +  model_lab4_ex2.x[4] <= 100  )\n",
        "model_lab4_ex2.constraints.add(expr= model_lab4_ex2.x[0] + model_lab4_ex2.x[1] >= 10  )"
      ],
      "execution_count": 23,
      "outputs": [
        {
          "output_type": "execute_result",
          "data": {
            "text/plain": [
              "<pyomo.core.base.constraint._GeneralConstraintData at 0x7f0147d35d70>"
            ]
          },
          "metadata": {},
          "execution_count": 23
        }
      ]
    },
    {
      "cell_type": "code",
      "metadata": {
        "id": "361XIzn3t_m2",
        "colab": {
          "base_uri": "https://localhost:8080/"
        },
        "outputId": "5dba647f-21ec-44f9-e936-17270f848bde"
      },
      "source": [
        "#Now we can add the cost constraint using the data obtained from the csv file\n",
        "model_lab4_ex2.constraints.add(summation(data_csvfile['Cost per advt'], model_lab4_ex2.x) <= 1500000)\n"
      ],
      "execution_count": 24,
      "outputs": [
        {
          "output_type": "execute_result",
          "data": {
            "text/plain": [
              "<pyomo.core.base.constraint._GeneralConstraintData at 0x7f0147d35280>"
            ]
          },
          "metadata": {},
          "execution_count": 24
        }
      ]
    },
    {
      "cell_type": "code",
      "metadata": {
        "id": "JQShytXKuqAn",
        "colab": {
          "base_uri": "https://localhost:8080/"
        },
        "outputId": "b8b3f833-ea58-4570-e560-cbe35f463e46"
      },
      "source": [
        "#Similarly  we can add the constraint about number of customers to be reached, using data obtained from the csv file\n",
        "model_lab4_ex2.constraints.add(summation(data_csvfile['Num Customers'], model_lab4_ex2.x) >= 900000)\n"
      ],
      "execution_count": 25,
      "outputs": [
        {
          "output_type": "execute_result",
          "data": {
            "text/plain": [
              "<pyomo.core.base.constraint._GeneralConstraintData at 0x7f0147d353d0>"
            ]
          },
          "metadata": {},
          "execution_count": 25
        }
      ]
    },
    {
      "cell_type": "code",
      "metadata": {
        "id": "lzB0FJaNgYgI"
      },
      "source": [
        "#Since the variables have the same upper bound and lower bound, we can simply use scalars to store them\n",
        "lower_bound = 0\n",
        "upper_bound = np.inf"
      ],
      "execution_count": 26,
      "outputs": []
    },
    {
      "cell_type": "code",
      "metadata": {
        "id": "V5KOBn_sgrT1"
      },
      "source": [
        "#add the upper bound and lower bounds for the variables\n",
        "for j in col_indices:\n",
        "  model_lab4_ex2.x[j].setlb(lower_bound)\n",
        "  model_lab4_ex2.x[j].setub(upper_bound)"
      ],
      "execution_count": 27,
      "outputs": []
    },
    {
      "cell_type": "code",
      "metadata": {
        "id": "hLjlmRD8eG_X",
        "colab": {
          "base_uri": "https://localhost:8080/"
        },
        "outputId": "e5744e00-575a-4bdd-a158-661915d7636c"
      },
      "source": [
        "model_lab4_ex2.pprint()"
      ],
      "execution_count": 28,
      "outputs": [
        {
          "output_type": "stream",
          "name": "stdout",
          "text": [
            "2 Set Declarations\n",
            "    constraints_index : Size=1, Index=None, Ordered=Insertion\n",
            "        Key  : Dimen : Domain : Size : Members\n",
            "        None :     1 :    Any :    5 : {1, 2, 3, 4, 5}\n",
            "    x_index : Size=1, Index=None, Ordered=False\n",
            "        Key  : Dimen : Domain : Size : Members\n",
            "        None :     1 :    Any :    5 : {0, 1, 2, 3, 4}\n",
            "\n",
            "1 Var Declarations\n",
            "    x : Size=5, Index=x_index\n",
            "        Key : Lower : Value : Upper : Fixed : Stale : Domain\n",
            "          0 :     0 :  None :   inf : False :  True :  Reals\n",
            "          1 :     0 :  None :   inf : False :  True :  Reals\n",
            "          2 :     0 :  None :   inf : False :  True :  Reals\n",
            "          3 :     0 :  None :   inf : False :  True :  Reals\n",
            "          4 :     0 :  None :   inf : False :  True :  Reals\n",
            "\n",
            "1 Objective Declarations\n",
            "    objective : Size=1, Index=None, Active=True\n",
            "        Key  : Active : Sense    : Expression\n",
            "        None :   True : maximize : 35*x[0] + 57*x[1] + 48*x[2] + 20*x[3] + 15*x[4]\n",
            "\n",
            "1 Constraint Declarations\n",
            "    constraints : Size=5, Index=constraints_index, Active=True\n",
            "        Key : Lower    : Body                                                              : Upper     : Active\n",
            "          1 :     -Inf :                                                x[0] + x[1] + x[2] :      75.0 :   True\n",
            "          2 :     -Inf :                                                x[2] + x[3] + x[4] :     100.0 :   True\n",
            "          3 :     10.0 :                                                       x[0] + x[1] :      +Inf :   True\n",
            "          4 :     -Inf :      30000*x[0] + 95000*x[1] + 10000*x[2] + 5000*x[3] + 4000*x[4] : 1500000.0 :   True\n",
            "          5 : 900000.0 : 100000*x[0] + 500000*x[1] + 200000*x[2] + 45000*x[3] + 25000*x[4] :      +Inf :   True\n",
            "\n",
            "5 Declarations: x_index x objective constraints_index constraints\n"
          ]
        }
      ]
    },
    {
      "cell_type": "code",
      "metadata": {
        "id": "rhSG6IRMfclR"
      },
      "source": [
        "!apt-get install -y -qq coinor-cbc"
      ],
      "execution_count": 29,
      "outputs": []
    },
    {
      "cell_type": "code",
      "metadata": {
        "id": "Sq3CpPcCeIBC"
      },
      "source": [
        "opt_cbc = SolverFactory('cbc')"
      ],
      "execution_count": 30,
      "outputs": []
    },
    {
      "cell_type": "code",
      "metadata": {
        "id": "ANOu9qtsMgJQ",
        "colab": {
          "base_uri": "https://localhost:8080/"
        },
        "outputId": "71e2ca8b-c724-4d5c-93d2-80030c4f68e7"
      },
      "source": [
        "result = opt_cbc.solve(model_lab4_ex2)\n",
        "print('Solver status:', result.solver.status)\n",
        "print('Solver termination condition:',result.solver.termination_condition)"
      ],
      "execution_count": 31,
      "outputs": [
        {
          "output_type": "stream",
          "name": "stdout",
          "text": [
            "Solver status: ok\n",
            "Solver termination condition: optimal\n"
          ]
        }
      ]
    },
    {
      "cell_type": "code",
      "metadata": {
        "id": "WQZHDR3afKj5",
        "colab": {
          "base_uri": "https://localhost:8080/"
        },
        "outputId": "8027a342-519c-424e-b4c2-82566bc86849"
      },
      "source": [
        "# display solution\n",
        "print('\\nObjective = ', model_lab4_ex2.objective())\n",
        "\n",
        "print('\\nDecision Variables')\n",
        "for i in col_indices:\n",
        "  print('Num slots for medium ',data_csvfile['Medium'][i], model_lab4_ex2.x[i].value)\n",
        "\n",
        "print('\\nConstraints')\n",
        "model_lab4_ex2.constraints.display()"
      ],
      "execution_count": 32,
      "outputs": [
        {
          "output_type": "stream",
          "name": "stdout",
          "text": [
            "\n",
            "Objective =  4296.9230776\n",
            "\n",
            "Decision Variables\n",
            "Num slots for medium  Websites 4.2307692\n",
            "Num slots for medium  TV 5.7692308\n",
            "Num slots for medium  DailyNewspaper 65.0\n",
            "Num slots for medium  WeeklyMagazine 35.0\n",
            "Num slots for medium  MonthlyMagazine 0.0\n",
            "\n",
            "Constraints\n",
            "constraints : Size=5\n",
            "    Key : Lower    : Body               : Upper\n",
            "      1 :     None :               75.0 :      75.0\n",
            "      2 :     None :              100.0 :     100.0\n",
            "      3 :     10.0 :               10.0 :      None\n",
            "      4 :     None : 1500000.0019999999 : 1500000.0\n",
            "      5 : 900000.0 :        17882692.32 :      None\n"
          ]
        }
      ]
    },
    {
      "cell_type": "code",
      "metadata": {
        "id": "UW3C5a3QihA3"
      },
      "source": [
        "for i in col_indices:\n",
        "  model_lab4_ex2.x[i].domain=NonNegativeIntegers"
      ],
      "execution_count": 33,
      "outputs": []
    },
    {
      "cell_type": "code",
      "metadata": {
        "id": "NNaVDHqbyVdY",
        "colab": {
          "base_uri": "https://localhost:8080/"
        },
        "outputId": "da50b702-d798-4129-d43c-30df17a02107"
      },
      "source": [
        "result = opt_cbc.solve(model_lab4_ex2)\n",
        "print('Solver status:', result.solver.status)\n",
        "print('Solver termination condition:',result.solver.termination_condition)"
      ],
      "execution_count": 34,
      "outputs": [
        {
          "output_type": "stream",
          "name": "stdout",
          "text": [
            "Solver status: ok\n",
            "Solver termination condition: optimal\n"
          ]
        }
      ]
    },
    {
      "cell_type": "code",
      "metadata": {
        "id": "kKtz8loMyfMF",
        "colab": {
          "base_uri": "https://localhost:8080/"
        },
        "outputId": "ee5ebfa5-c158-48b2-8832-65a28390e23e"
      },
      "source": [
        "# display solution\n",
        "print('\\nObjective = ', model_lab4_ex2.objective())\n",
        "\n",
        "print('\\nDecision Variables')\n",
        "for i in col_indices:\n",
        "  print('Num slots for medium ',data_csvfile['Medium'][i], model_lab4_ex2.x[i].value)\n",
        "\n",
        "print('\\nConstraints')\n",
        "model_lab4_ex2.constraints.display()"
      ],
      "execution_count": 35,
      "outputs": [
        {
          "output_type": "stream",
          "name": "stdout",
          "text": [
            "\n",
            "Objective =  4294.0\n",
            "\n",
            "Decision Variables\n",
            "Num slots for medium  Websites 7.0\n",
            "Num slots for medium  TV 5.0\n",
            "Num slots for medium  DailyNewspaper 63.0\n",
            "Num slots for medium  WeeklyMagazine 37.0\n",
            "Num slots for medium  MonthlyMagazine 0.0\n",
            "\n",
            "Constraints\n",
            "constraints : Size=5\n",
            "    Key : Lower    : Body       : Upper\n",
            "      1 :     None :       75.0 :      75.0\n",
            "      2 :     None :      100.0 :     100.0\n",
            "      3 :     10.0 :       12.0 :      None\n",
            "      4 :     None :  1500000.0 : 1500000.0\n",
            "      5 : 900000.0 : 17465000.0 :      None\n"
          ]
        }
      ]
    },
    {
      "cell_type": "markdown",
      "metadata": {
        "id": "R8cu1bdh7KJf"
      },
      "source": [
        "##Ans 1 :\n",
        "\n",
        "We are supposed to add a new constraint : $|z_1-z_2|\\leq18$\n",
        "\n",
        "where $z_1=x_1+x_2$ and $z_2=x_3+x_4+x_5$\n",
        "\n",
        "thus, it becomes : $|(x_1+x_2)-(x_3+x_4+x_5)|\\leq18$\n",
        "\n",
        "We add the following constraints for introducing the required restrictions :\n",
        "\n",
        " $(x_1+x_2)-(x_3+x_4+x_5)\\leq18\\\\\n",
        " -(x_1+x_2)+(x_3+x_4+x_5)\\leq18$\n",
        "\n",
        " Thus, the resulting program is linear, since all our constraints and the objective function are linear."
      ]
    },
    {
      "cell_type": "code",
      "metadata": {
        "colab": {
          "base_uri": "https://localhost:8080/"
        },
        "id": "Q2s89TaMPFoG",
        "outputId": "b378dd1e-bb62-4b14-94a7-17785cd8588a"
      },
      "source": [
        "model_lab4_ex2.constraints.add(model_lab4_ex2.x[0]+model_lab4_ex2.x[1]-model_lab4_ex2.x[2]-model_lab4_ex2.x[3]-model_lab4_ex2.x[4] <= 18)\n",
        "model_lab4_ex2.constraints.add(-model_lab4_ex2.x[0]-model_lab4_ex2.x[1]+model_lab4_ex2.x[2]+model_lab4_ex2.x[3]+model_lab4_ex2.x[4] <= 18)"
      ],
      "execution_count": 36,
      "outputs": [
        {
          "output_type": "execute_result",
          "data": {
            "text/plain": [
              "<pyomo.core.base.constraint._GeneralConstraintData at 0x7f0147d35bb0>"
            ]
          },
          "metadata": {},
          "execution_count": 36
        }
      ]
    },
    {
      "cell_type": "code",
      "metadata": {
        "colab": {
          "base_uri": "https://localhost:8080/"
        },
        "id": "oFtHzPQKPrKi",
        "outputId": "f9e0ba89-b45b-4ce4-f4d1-a134927a0411"
      },
      "source": [
        "model_lab4_ex2.pprint()"
      ],
      "execution_count": 37,
      "outputs": [
        {
          "output_type": "stream",
          "name": "stdout",
          "text": [
            "2 Set Declarations\n",
            "    constraints_index : Size=1, Index=None, Ordered=Insertion\n",
            "        Key  : Dimen : Domain : Size : Members\n",
            "        None :     1 :    Any :    7 : {1, 2, 3, 4, 5, 6, 7}\n",
            "    x_index : Size=1, Index=None, Ordered=False\n",
            "        Key  : Dimen : Domain : Size : Members\n",
            "        None :     1 :    Any :    5 : {0, 1, 2, 3, 4}\n",
            "\n",
            "1 Var Declarations\n",
            "    x : Size=5, Index=x_index\n",
            "        Key : Lower : Value : Upper : Fixed : Stale : Domain\n",
            "          0 :     0 :   7.0 :   inf : False : False : NonNegativeIntegers\n",
            "          1 :     0 :   5.0 :   inf : False : False : NonNegativeIntegers\n",
            "          2 :     0 :  63.0 :   inf : False : False : NonNegativeIntegers\n",
            "          3 :     0 :  37.0 :   inf : False : False : NonNegativeIntegers\n",
            "          4 :     0 :   0.0 :   inf : False : False : NonNegativeIntegers\n",
            "\n",
            "1 Objective Declarations\n",
            "    objective : Size=1, Index=None, Active=True\n",
            "        Key  : Active : Sense    : Expression\n",
            "        None :   True : maximize : 35*x[0] + 57*x[1] + 48*x[2] + 20*x[3] + 15*x[4]\n",
            "\n",
            "1 Constraint Declarations\n",
            "    constraints : Size=7, Index=constraints_index, Active=True\n",
            "        Key : Lower    : Body                                                              : Upper     : Active\n",
            "          1 :     -Inf :                                                x[0] + x[1] + x[2] :      75.0 :   True\n",
            "          2 :     -Inf :                                                x[2] + x[3] + x[4] :     100.0 :   True\n",
            "          3 :     10.0 :                                                       x[0] + x[1] :      +Inf :   True\n",
            "          4 :     -Inf :      30000*x[0] + 95000*x[1] + 10000*x[2] + 5000*x[3] + 4000*x[4] : 1500000.0 :   True\n",
            "          5 : 900000.0 : 100000*x[0] + 500000*x[1] + 200000*x[2] + 45000*x[3] + 25000*x[4] :      +Inf :   True\n",
            "          6 :     -Inf :                                  x[0] + x[1] - x[2] - x[3] - x[4] :      18.0 :   True\n",
            "          7 :     -Inf :                                - x[0] - x[1] + x[2] + x[3] + x[4] :      18.0 :   True\n",
            "\n",
            "5 Declarations: x_index x objective constraints_index constraints\n"
          ]
        }
      ]
    },
    {
      "cell_type": "code",
      "metadata": {
        "colab": {
          "base_uri": "https://localhost:8080/"
        },
        "id": "nrsvNDdMP8Sh",
        "outputId": "a135ebfb-a591-42c9-9935-a6a51a13bfd7"
      },
      "source": [
        "result = opt_cbc.solve(model_lab4_ex2)\n",
        "print('Solver status:', result.solver.status)\n",
        "print('Solver termination condition:',result.solver.termination_condition)"
      ],
      "execution_count": 38,
      "outputs": [
        {
          "output_type": "stream",
          "name": "stdout",
          "text": [
            "Solver status: ok\n",
            "Solver termination condition: optimal\n"
          ]
        }
      ]
    },
    {
      "cell_type": "code",
      "metadata": {
        "colab": {
          "base_uri": "https://localhost:8080/"
        },
        "id": "kezsPkjyP_GW",
        "outputId": "9dee8d4c-2880-4ed8-a657-2e96ff205d41"
      },
      "source": [
        "# display solution\n",
        "print('\\nObjective = ', model_lab4_ex2.objective())\n",
        "\n",
        "print('\\nDecision Variables')\n",
        "for i in col_indices:\n",
        "  print('Num slots for medium ',data_csvfile['Medium'][i], model_lab4_ex2.x[i].value)\n",
        "\n",
        "print('\\nConstraints')\n",
        "model_lab4_ex2.constraints.display()"
      ],
      "execution_count": 39,
      "outputs": [
        {
          "output_type": "stream",
          "name": "stdout",
          "text": [
            "\n",
            "Objective =  3378.0\n",
            "\n",
            "Decision Variables\n",
            "Num slots for medium  Websites 34.0\n",
            "Num slots for medium  TV 0.0\n",
            "Num slots for medium  DailyNewspaper 41.0\n",
            "Num slots for medium  WeeklyMagazine 11.0\n",
            "Num slots for medium  MonthlyMagazine 0.0\n",
            "\n",
            "Constraints\n",
            "constraints : Size=7\n",
            "    Key : Lower    : Body       : Upper\n",
            "      1 :     None :       75.0 :      75.0\n",
            "      2 :     None :       52.0 :     100.0\n",
            "      3 :     10.0 :       34.0 :      None\n",
            "      4 :     None :  1485000.0 : 1500000.0\n",
            "      5 : 900000.0 : 12095000.0 :      None\n",
            "      6 :     None :      -18.0 :      18.0\n",
            "      7 :     None :       18.0 :      18.0\n"
          ]
        }
      ]
    },
    {
      "cell_type": "markdown",
      "metadata": {
        "id": "3wibNzWu9Pat"
      },
      "source": [
        "##Ans 7 :\n",
        "\n",
        "We are supposed to add a new constraint : $|z_3-x_3|\\leq4$\n",
        "\n",
        "where $z_3 = x_4+x_5$\n",
        "\n",
        "thus, it becomes : $|(x_4+x_5)-x_3|\\leq4$\n",
        "\n",
        "We can introduce this by introducing two constraints :\n",
        "\n",
        "$(x_4+x_5)-x_3\\leq4\\\\\n",
        "-(x_4+x_5)+x_3\\leq4$\n",
        "\n",
        "Thus, the resulting program is linear, since all the constraints and the objective function is linear."
      ]
    }
  ]
}