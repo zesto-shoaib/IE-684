{
  "nbformat": 4,
  "nbformat_minor": 0,
  "metadata": {
    "colab": {
      "name": "21i190012_IE507_Lab6_Ex3.ipynb",
      "provenance": [],
      "collapsed_sections": []
    },
    "kernelspec": {
      "name": "python3",
      "display_name": "Python 3"
    },
    "language_info": {
      "name": "python"
    }
  },
  "cells": [
    {
      "cell_type": "markdown",
      "metadata": {
        "id": "Z0NA12xXAGnl"
      },
      "source": [
        "#Exercise 3"
      ]
    },
    {
      "cell_type": "code",
      "metadata": {
        "colab": {
          "base_uri": "https://localhost:8080/"
        },
        "id": "-B6iT6fVIt4V",
        "outputId": "0aaeceaa-c75f-4254-c699-7510143ccbfc"
      },
      "source": [
        "!pip install -q pyomo"
      ],
      "execution_count": 1,
      "outputs": [
        {
          "output_type": "stream",
          "name": "stdout",
          "text": [
            "\u001b[K     |████████████████████████████████| 9.1 MB 18.2 MB/s \n",
            "\u001b[K     |████████████████████████████████| 49 kB 5.2 MB/s \n",
            "\u001b[?25h"
          ]
        }
      ]
    },
    {
      "cell_type": "code",
      "metadata": {
        "id": "pauFD7N1I1nL"
      },
      "source": [
        "from pyomo.environ import *"
      ],
      "execution_count": 2,
      "outputs": []
    },
    {
      "cell_type": "code",
      "metadata": {
        "id": "4IszvvlGJ5_K"
      },
      "source": [
        "import pandas as pd"
      ],
      "execution_count": 3,
      "outputs": []
    },
    {
      "cell_type": "markdown",
      "metadata": {
        "id": "2Le_zOUvAEvp"
      },
      "source": [
        "##Ans 1 :\n",
        "\n",
        "$\\text{min }\\sum_{i=1}^{6}|P_i-\\widetilde P_i|$\n",
        "\n",
        "$\\widetilde P_i = b_0 + b_1L_i+b_2E_i$\n",
        "\n",
        "$b_0\\geq0,b_0\\in\\mathbb{R} \\\\\n",
        "b_1\\in\\mathbb{R} \\\\\n",
        "b_2\\in\\mathbb{R}$\n",
        "\n",
        "This problem is not linear since we have an absolute function as the objective function.\n",
        "\n"
      ]
    },
    {
      "cell_type": "code",
      "metadata": {
        "id": "jyYFVA0MJ8PC"
      },
      "source": [
        "data_csvfile = pd.read_csv('lab6_ex3.csv')"
      ],
      "execution_count": 4,
      "outputs": []
    },
    {
      "cell_type": "code",
      "metadata": {
        "colab": {
          "base_uri": "https://localhost:8080/"
        },
        "id": "p8upYl_BKENA",
        "outputId": "b53f5820-996a-47a1-9dbe-b05ea6b00f6f"
      },
      "source": [
        "print(data_csvfile)"
      ],
      "execution_count": 5,
      "outputs": [
        {
          "output_type": "stream",
          "name": "stdout",
          "text": [
            "   Warehouse      SP  Lot Size  Elevation\n",
            "0          1  175000      1800        250\n",
            "1          2  150000      2800        400\n",
            "2          3  125000      3500        450\n",
            "3          4   90000       800        100\n",
            "4          5   80000       700        200\n",
            "5          6  120000       500         50\n"
          ]
        }
      ]
    },
    {
      "cell_type": "code",
      "metadata": {
        "id": "eWxae9xAKK3R"
      },
      "source": [
        "model = ConcreteModel()"
      ],
      "execution_count": 6,
      "outputs": []
    },
    {
      "cell_type": "code",
      "metadata": {
        "colab": {
          "base_uri": "https://localhost:8080/"
        },
        "id": "aLy9Ip1hKa2R",
        "outputId": "38a7de89-ce33-4272-f169-a8e9d93ea16a"
      },
      "source": [
        "data_csvfile.index"
      ],
      "execution_count": 7,
      "outputs": [
        {
          "output_type": "execute_result",
          "data": {
            "text/plain": [
              "RangeIndex(start=0, stop=6, step=1)"
            ]
          },
          "metadata": {},
          "execution_count": 7
        }
      ]
    },
    {
      "cell_type": "code",
      "metadata": {
        "id": "OPbC6sTxKglz"
      },
      "source": [
        "N = len(data_csvfile.index)"
      ],
      "execution_count": 8,
      "outputs": []
    },
    {
      "cell_type": "code",
      "metadata": {
        "colab": {
          "base_uri": "https://localhost:8080/"
        },
        "id": "6EaYwyBDKqZi",
        "outputId": "a90cbc58-ea5d-4c49-f1d3-2681abd3d423"
      },
      "source": [
        "print(N)"
      ],
      "execution_count": 9,
      "outputs": [
        {
          "output_type": "stream",
          "name": "stdout",
          "text": [
            "6\n"
          ]
        }
      ]
    },
    {
      "cell_type": "code",
      "metadata": {
        "id": "6PgsxzoiY-7y"
      },
      "source": [
        "col_indices = range(N)"
      ],
      "execution_count": 10,
      "outputs": []
    },
    {
      "cell_type": "code",
      "metadata": {
        "id": "bzNnsoKuK66L"
      },
      "source": [
        "model.u = Var(col_indices, domain = NonNegativeReals)"
      ],
      "execution_count": 11,
      "outputs": []
    },
    {
      "cell_type": "code",
      "metadata": {
        "id": "blP9qeQzZ3e4"
      },
      "source": [
        "model.b0 = Var(domain = NonNegativeReals)\n",
        "model.b1 = Var()\n",
        "model.b2 = Var()"
      ],
      "execution_count": 12,
      "outputs": []
    },
    {
      "cell_type": "code",
      "metadata": {
        "id": "7BjVckNYY8DT"
      },
      "source": [
        "model.objective = Objective(expr = summation(model.u), sense = minimize)"
      ],
      "execution_count": 13,
      "outputs": []
    },
    {
      "cell_type": "code",
      "metadata": {
        "id": "4p_YteiMZTfY"
      },
      "source": [
        "model.constraints = ConstraintList()"
      ],
      "execution_count": 14,
      "outputs": []
    },
    {
      "cell_type": "code",
      "metadata": {
        "id": "Davp3JiyZwD4"
      },
      "source": [
        "for i in col_indices:\n",
        "  model.constraints.add(data_csvfile['SP'][i] - (model.b0 + model.b1*data_csvfile['Lot Size'][i] + model.b2*data_csvfile['Elevation'][i]) <= model.u[i])\n",
        "  model.constraints.add(-data_csvfile['SP'][i] + (model.b0 + model.b1*data_csvfile['Lot Size'][i] + model.b2*data_csvfile['Elevation'][i]) <= model.u[i])"
      ],
      "execution_count": 15,
      "outputs": []
    },
    {
      "cell_type": "code",
      "metadata": {
        "colab": {
          "base_uri": "https://localhost:8080/"
        },
        "id": "8EvvRPCxbzTg",
        "outputId": "bb8e7c74-6ba1-4c53-c65e-2d6dc5dedb4f"
      },
      "source": [
        "model.pprint()"
      ],
      "execution_count": 16,
      "outputs": [
        {
          "output_type": "stream",
          "name": "stdout",
          "text": [
            "2 Set Declarations\n",
            "    constraints_index : Size=1, Index=None, Ordered=Insertion\n",
            "        Key  : Dimen : Domain : Size : Members\n",
            "        None :     1 :    Any :   12 : {1, 2, 3, 4, 5, 6, 7, 8, 9, 10, 11, 12}\n",
            "    u_index : Size=1, Index=None, Ordered=False\n",
            "        Key  : Dimen : Domain : Size : Members\n",
            "        None :     1 :    Any :    6 : {0, 1, 2, 3, 4, 5}\n",
            "\n",
            "4 Var Declarations\n",
            "    b0 : Size=1, Index=None\n",
            "        Key  : Lower : Value : Upper : Fixed : Stale : Domain\n",
            "        None :     0 :  None :  None : False :  True : NonNegativeReals\n",
            "    b1 : Size=1, Index=None\n",
            "        Key  : Lower : Value : Upper : Fixed : Stale : Domain\n",
            "        None :  None :  None :  None : False :  True :  Reals\n",
            "    b2 : Size=1, Index=None\n",
            "        Key  : Lower : Value : Upper : Fixed : Stale : Domain\n",
            "        None :  None :  None :  None : False :  True :  Reals\n",
            "    u : Size=6, Index=u_index\n",
            "        Key : Lower : Value : Upper : Fixed : Stale : Domain\n",
            "          0 :     0 :  None :  None : False :  True : NonNegativeReals\n",
            "          1 :     0 :  None :  None : False :  True : NonNegativeReals\n",
            "          2 :     0 :  None :  None : False :  True : NonNegativeReals\n",
            "          3 :     0 :  None :  None : False :  True : NonNegativeReals\n",
            "          4 :     0 :  None :  None : False :  True : NonNegativeReals\n",
            "          5 :     0 :  None :  None : False :  True : NonNegativeReals\n",
            "\n",
            "1 Objective Declarations\n",
            "    objective : Size=1, Index=None, Active=True\n",
            "        Key  : Active : Sense    : Expression\n",
            "        None :   True : minimize : u[0] + u[1] + u[2] + u[3] + u[4] + u[5]\n",
            "\n",
            "1 Constraint Declarations\n",
            "    constraints : Size=12, Index=constraints_index, Active=True\n",
            "        Key : Lower : Body                                    : Upper : Active\n",
            "          1 :  -Inf : 175000 - (b0 + 1800*b1 + 250*b2) - u[0] :   0.0 :   True\n",
            "          2 :  -Inf :   b0 + 1800*b1 + 250*b2 - 175000 - u[0] :   0.0 :   True\n",
            "          3 :  -Inf : 150000 - (b0 + 2800*b1 + 400*b2) - u[1] :   0.0 :   True\n",
            "          4 :  -Inf :   b0 + 2800*b1 + 400*b2 - 150000 - u[1] :   0.0 :   True\n",
            "          5 :  -Inf : 125000 - (b0 + 3500*b1 + 450*b2) - u[2] :   0.0 :   True\n",
            "          6 :  -Inf :   b0 + 3500*b1 + 450*b2 - 125000 - u[2] :   0.0 :   True\n",
            "          7 :  -Inf :   90000 - (b0 + 800*b1 + 100*b2) - u[3] :   0.0 :   True\n",
            "          8 :  -Inf :     b0 + 800*b1 + 100*b2 - 90000 - u[3] :   0.0 :   True\n",
            "          9 :  -Inf :   80000 - (b0 + 700*b1 + 200*b2) - u[4] :   0.0 :   True\n",
            "         10 :  -Inf :     b0 + 700*b1 + 200*b2 - 80000 - u[4] :   0.0 :   True\n",
            "         11 :  -Inf :   120000 - (b0 + 500*b1 + 50*b2) - u[5] :   0.0 :   True\n",
            "         12 :  -Inf :     b0 + 500*b1 + 50*b2 - 120000 - u[5] :   0.0 :   True\n",
            "\n",
            "8 Declarations: u_index u b0 b1 b2 objective constraints_index constraints\n"
          ]
        }
      ]
    },
    {
      "cell_type": "code",
      "metadata": {
        "colab": {
          "base_uri": "https://localhost:8080/"
        },
        "id": "EwKQne5Lb0n7",
        "outputId": "4847085c-c23c-4d91-d3b9-8c68b6a70630"
      },
      "source": [
        "!apt-get install -y -qq coinor-cbc"
      ],
      "execution_count": 17,
      "outputs": [
        {
          "output_type": "stream",
          "name": "stdout",
          "text": [
            "Selecting previously unselected package coinor-libcoinutils3v5.\n",
            "(Reading database ... 148492 files and directories currently installed.)\n",
            "Preparing to unpack .../0-coinor-libcoinutils3v5_2.10.14+repack1-1_amd64.deb ...\n",
            "Unpacking coinor-libcoinutils3v5 (2.10.14+repack1-1) ...\n",
            "Selecting previously unselected package coinor-libosi1v5.\n",
            "Preparing to unpack .../1-coinor-libosi1v5_0.107.9+repack1-1_amd64.deb ...\n",
            "Unpacking coinor-libosi1v5 (0.107.9+repack1-1) ...\n",
            "Selecting previously unselected package coinor-libclp1.\n",
            "Preparing to unpack .../2-coinor-libclp1_1.16.11+repack1-1_amd64.deb ...\n",
            "Unpacking coinor-libclp1 (1.16.11+repack1-1) ...\n",
            "Selecting previously unselected package coinor-libcgl1.\n",
            "Preparing to unpack .../3-coinor-libcgl1_0.59.10+repack1-1_amd64.deb ...\n",
            "Unpacking coinor-libcgl1 (0.59.10+repack1-1) ...\n",
            "Selecting previously unselected package coinor-libcbc3.\n",
            "Preparing to unpack .../4-coinor-libcbc3_2.9.9+repack1-1_amd64.deb ...\n",
            "Unpacking coinor-libcbc3 (2.9.9+repack1-1) ...\n",
            "Selecting previously unselected package coinor-cbc.\n",
            "Preparing to unpack .../5-coinor-cbc_2.9.9+repack1-1_amd64.deb ...\n",
            "Unpacking coinor-cbc (2.9.9+repack1-1) ...\n",
            "Setting up coinor-libcoinutils3v5 (2.10.14+repack1-1) ...\n",
            "Setting up coinor-libosi1v5 (0.107.9+repack1-1) ...\n",
            "Setting up coinor-libclp1 (1.16.11+repack1-1) ...\n",
            "Setting up coinor-libcgl1 (0.59.10+repack1-1) ...\n",
            "Setting up coinor-libcbc3 (2.9.9+repack1-1) ...\n",
            "Setting up coinor-cbc (2.9.9+repack1-1) ...\n",
            "Processing triggers for man-db (2.8.3-2ubuntu0.1) ...\n",
            "Processing triggers for libc-bin (2.27-3ubuntu1.2) ...\n",
            "/sbin/ldconfig.real: /usr/local/lib/python3.7/dist-packages/ideep4py/lib/libmkldnn.so.0 is not a symbolic link\n",
            "\n"
          ]
        }
      ]
    },
    {
      "cell_type": "code",
      "metadata": {
        "id": "PFS7U-w1cMiM"
      },
      "source": [
        "opt_cbc = SolverFactory('cbc')"
      ],
      "execution_count": 18,
      "outputs": []
    },
    {
      "cell_type": "code",
      "metadata": {
        "colab": {
          "base_uri": "https://localhost:8080/"
        },
        "id": "-Wp1xiB-cUz2",
        "outputId": "1d5f36a0-bfa5-453a-e897-6fed38cead32"
      },
      "source": [
        "result = opt_cbc.solve(model)\n",
        "print('Solver status:', result.solver.status)\n",
        "print('Solver termination condition:',result.solver.termination_condition)"
      ],
      "execution_count": 19,
      "outputs": [
        {
          "output_type": "stream",
          "name": "stdout",
          "text": [
            "Solver status: ok\n",
            "Solver termination condition: optimal\n"
          ]
        }
      ]
    },
    {
      "cell_type": "code",
      "metadata": {
        "colab": {
          "base_uri": "https://localhost:8080/"
        },
        "id": "eJ4GDIlLcWZX",
        "outputId": "6322d01c-f781-4a9d-b2f2-7d4dc757c3a9"
      },
      "source": [
        "print('\\nObjective = ', model.objective())\n",
        "\n",
        "print('\\nDecision Variables')\n",
        "for i in col_indices:\n",
        "  print('u[',i,']', model.u[i].value)\n",
        "\n",
        "print('\\nb[0]=',model.b0.value)\n",
        "print('b[1]=',model.b1.value)\n",
        "print('b[2]=',model.b2.value)\n",
        "\n",
        "print('\\nConstraints')\n",
        "model.constraints.display()"
      ],
      "execution_count": 30,
      "outputs": [
        {
          "output_type": "stream",
          "name": "stdout",
          "text": [
            "\n",
            "Objective =  125454.545\n",
            "\n",
            "Decision Variables\n",
            "u[ 0 ] 38818.182\n",
            "u[ 1 ] 0.0\n",
            "u[ 2 ] 54272.727\n",
            "u[ 3 ] 32363.636\n",
            "u[ 4 ] 0.0\n",
            "u[ 5 ] 0.0\n",
            "\n",
            "b[0]= 104181.82\n",
            "b[1]= 67.272727\n",
            "b[2]= -356.36364\n",
            "\n",
            "Constraints\n",
            "constraints : Size=12\n",
            "    Key : Lower : Body                    : Upper\n",
            "      1 :  None :  -0.0006000000576023012 :   0.0\n",
            "      2 :  None :      -77636.36339999994 :   0.0\n",
            "      3 :  None :  0.00039999998989515007 :   0.0\n",
            "      4 :  None : -0.00039999998989515007 :   0.0\n",
            "      5 :  None :     -108545.45350000005 :   0.0\n",
            "      6 :  None :  -0.0004999999509891495 :   0.0\n",
            "      7 :  None :     -64727.273600000015 :   0.0\n",
            "      8 :  None :   0.0016000000177882612 :   0.0\n",
            "      9 :  None :   -0.000900000028195791 :   0.0\n",
            "     10 :  None :    0.000900000028195791 :   0.0\n",
            "     11 :  None :   -0.001500000013038516 :   0.0\n",
            "     12 :  None :    0.001500000013038516 :   0.0\n"
          ]
        }
      ]
    },
    {
      "cell_type": "markdown",
      "metadata": {
        "id": "Iodb5INNIdSv"
      },
      "source": [
        "##Ans 5 (Approach 1) :\n",
        "\n",
        "Solver Status : Ok\n",
        "\n",
        "Solver Termination Condition : Optimal\n",
        "\n",
        "Optimal sum of residuals is : 125454.545\n",
        "\n",
        "Values of new decision variables :\n",
        "\n",
        "$u_1=38818.182\\\\\n",
        "u_2=0.0\\\\\n",
        "u_3=54272.727\\\\\n",
        "u_4=32363.636\\\\\n",
        "u_5=0.0\\\\\n",
        "u_6=0.0$\n",
        "\n",
        "Values of original decision variables :\n",
        "\n",
        "$x_1=38818.182\\\\\n",
        "x_2=0.0\\\\\n",
        "x_3=-54272.727\\\\\n",
        "x_4=-32363.636\\\\\n",
        "x_5=0.0\\\\\n",
        "x_6=0.0$"
      ]
    },
    {
      "cell_type": "code",
      "metadata": {
        "id": "MjqyichRDE5B"
      },
      "source": [
        "model_app_2 = ConcreteModel()"
      ],
      "execution_count": 21,
      "outputs": []
    },
    {
      "cell_type": "code",
      "metadata": {
        "id": "z_jMkeQ2DIVi"
      },
      "source": [
        "model_app_2.m = Var(col_indices,domain = NonNegativeReals)\n",
        "model_app_2.n = Var(col_indices,domain = NonNegativeReals)"
      ],
      "execution_count": 22,
      "outputs": []
    },
    {
      "cell_type": "code",
      "metadata": {
        "id": "aTz7IJHsDWx4"
      },
      "source": [
        "model_app_2.b0 = Var(domain = NonNegativeReals)\n",
        "model_app_2.b1 = Var()\n",
        "model_app_2.b2 = Var()"
      ],
      "execution_count": 23,
      "outputs": []
    },
    {
      "cell_type": "code",
      "metadata": {
        "id": "XUYfA8gSDgEV"
      },
      "source": [
        "model_app_2.objective = Objective(expr = summation(model_app_2.m)+summation(model_app_2.n), sense = minimize)"
      ],
      "execution_count": 24,
      "outputs": []
    },
    {
      "cell_type": "code",
      "metadata": {
        "id": "Nh82qzMPDx0P"
      },
      "source": [
        "model_app_2.constraints = ConstraintList()"
      ],
      "execution_count": 25,
      "outputs": []
    },
    {
      "cell_type": "code",
      "metadata": {
        "id": "5lKPPKcND2w9"
      },
      "source": [
        "for i in col_indices:\n",
        "  model_app_2.constraints.add(data_csvfile['SP'][i] - (model_app_2.b0 + model_app_2.b1*data_csvfile['Lot Size'][i] + model_app_2.b2*data_csvfile['Elevation'][i]) <= model_app_2.m[i]+model_app_2.n[i])\n",
        "  model_app_2.constraints.add(-data_csvfile['SP'][i] + (model_app_2.b0 + model_app_2.b1*data_csvfile['Lot Size'][i] + model_app_2.b2*data_csvfile['Elevation'][i]) <= model_app_2.m[i]+model_app_2.n[i])"
      ],
      "execution_count": 26,
      "outputs": []
    },
    {
      "cell_type": "code",
      "metadata": {
        "colab": {
          "base_uri": "https://localhost:8080/"
        },
        "id": "VxTXRwXnGqF-",
        "outputId": "553b50c5-a074-4b88-aff1-9e9f9af068bc"
      },
      "source": [
        "model_app_2.pprint()"
      ],
      "execution_count": 27,
      "outputs": [
        {
          "output_type": "stream",
          "name": "stdout",
          "text": [
            "3 Set Declarations\n",
            "    constraints_index : Size=1, Index=None, Ordered=Insertion\n",
            "        Key  : Dimen : Domain : Size : Members\n",
            "        None :     1 :    Any :   12 : {1, 2, 3, 4, 5, 6, 7, 8, 9, 10, 11, 12}\n",
            "    m_index : Size=1, Index=None, Ordered=False\n",
            "        Key  : Dimen : Domain : Size : Members\n",
            "        None :     1 :    Any :    6 : {0, 1, 2, 3, 4, 5}\n",
            "    n_index : Size=1, Index=None, Ordered=False\n",
            "        Key  : Dimen : Domain : Size : Members\n",
            "        None :     1 :    Any :    6 : {0, 1, 2, 3, 4, 5}\n",
            "\n",
            "5 Var Declarations\n",
            "    b0 : Size=1, Index=None\n",
            "        Key  : Lower : Value : Upper : Fixed : Stale : Domain\n",
            "        None :     0 :  None :  None : False :  True : NonNegativeReals\n",
            "    b1 : Size=1, Index=None\n",
            "        Key  : Lower : Value : Upper : Fixed : Stale : Domain\n",
            "        None :  None :  None :  None : False :  True :  Reals\n",
            "    b2 : Size=1, Index=None\n",
            "        Key  : Lower : Value : Upper : Fixed : Stale : Domain\n",
            "        None :  None :  None :  None : False :  True :  Reals\n",
            "    m : Size=6, Index=m_index\n",
            "        Key : Lower : Value : Upper : Fixed : Stale : Domain\n",
            "          0 :     0 :  None :  None : False :  True : NonNegativeReals\n",
            "          1 :     0 :  None :  None : False :  True : NonNegativeReals\n",
            "          2 :     0 :  None :  None : False :  True : NonNegativeReals\n",
            "          3 :     0 :  None :  None : False :  True : NonNegativeReals\n",
            "          4 :     0 :  None :  None : False :  True : NonNegativeReals\n",
            "          5 :     0 :  None :  None : False :  True : NonNegativeReals\n",
            "    n : Size=6, Index=n_index\n",
            "        Key : Lower : Value : Upper : Fixed : Stale : Domain\n",
            "          0 :     0 :  None :  None : False :  True : NonNegativeReals\n",
            "          1 :     0 :  None :  None : False :  True : NonNegativeReals\n",
            "          2 :     0 :  None :  None : False :  True : NonNegativeReals\n",
            "          3 :     0 :  None :  None : False :  True : NonNegativeReals\n",
            "          4 :     0 :  None :  None : False :  True : NonNegativeReals\n",
            "          5 :     0 :  None :  None : False :  True : NonNegativeReals\n",
            "\n",
            "1 Objective Declarations\n",
            "    objective : Size=1, Index=None, Active=True\n",
            "        Key  : Active : Sense    : Expression\n",
            "        None :   True : minimize : m[0] + m[1] + m[2] + m[3] + m[4] + m[5] + (n[0] + n[1] + n[2] + n[3] + n[4] + n[5])\n",
            "\n",
            "1 Constraint Declarations\n",
            "    constraints : Size=12, Index=constraints_index, Active=True\n",
            "        Key : Lower : Body                                             : Upper : Active\n",
            "          1 :  -Inf : 175000 - (b0 + 1800*b1 + 250*b2) - (m[0] + n[0]) :   0.0 :   True\n",
            "          2 :  -Inf :   b0 + 1800*b1 + 250*b2 - 175000 - (m[0] + n[0]) :   0.0 :   True\n",
            "          3 :  -Inf : 150000 - (b0 + 2800*b1 + 400*b2) - (m[1] + n[1]) :   0.0 :   True\n",
            "          4 :  -Inf :   b0 + 2800*b1 + 400*b2 - 150000 - (m[1] + n[1]) :   0.0 :   True\n",
            "          5 :  -Inf : 125000 - (b0 + 3500*b1 + 450*b2) - (m[2] + n[2]) :   0.0 :   True\n",
            "          6 :  -Inf :   b0 + 3500*b1 + 450*b2 - 125000 - (m[2] + n[2]) :   0.0 :   True\n",
            "          7 :  -Inf :   90000 - (b0 + 800*b1 + 100*b2) - (m[3] + n[3]) :   0.0 :   True\n",
            "          8 :  -Inf :     b0 + 800*b1 + 100*b2 - 90000 - (m[3] + n[3]) :   0.0 :   True\n",
            "          9 :  -Inf :   80000 - (b0 + 700*b1 + 200*b2) - (m[4] + n[4]) :   0.0 :   True\n",
            "         10 :  -Inf :     b0 + 700*b1 + 200*b2 - 80000 - (m[4] + n[4]) :   0.0 :   True\n",
            "         11 :  -Inf :   120000 - (b0 + 500*b1 + 50*b2) - (m[5] + n[5]) :   0.0 :   True\n",
            "         12 :  -Inf :     b0 + 500*b1 + 50*b2 - 120000 - (m[5] + n[5]) :   0.0 :   True\n",
            "\n",
            "10 Declarations: m_index m n_index n b0 b1 b2 objective constraints_index constraints\n"
          ]
        }
      ]
    },
    {
      "cell_type": "code",
      "metadata": {
        "colab": {
          "base_uri": "https://localhost:8080/"
        },
        "id": "a3DW7nwOGsQy",
        "outputId": "86ae2229-7692-488e-db19-19215104edf1"
      },
      "source": [
        "result = opt_cbc.solve(model_app_2)\n",
        "print('Solver status:', result.solver.status)\n",
        "print('Solver termination condition:',result.solver.termination_condition)"
      ],
      "execution_count": 28,
      "outputs": [
        {
          "output_type": "stream",
          "name": "stdout",
          "text": [
            "Solver status: ok\n",
            "Solver termination condition: optimal\n"
          ]
        }
      ]
    },
    {
      "cell_type": "code",
      "metadata": {
        "colab": {
          "base_uri": "https://localhost:8080/"
        },
        "id": "zk8zL8VeG3HX",
        "outputId": "9bb7f975-fd51-4a47-ec7e-cad2fbaba9f5"
      },
      "source": [
        "print('\\nObjective = ', model_app_2.objective())\n",
        "\n",
        "print('\\nDecision Variables')\n",
        "for i in col_indices:\n",
        "  print('m[',i,']', model_app_2.m[i].value)\n",
        "  print('n[',i,']', model_app_2.n[i].value)\n",
        "\n",
        "print('\\nb[0]=',model_app_2.b0.value)\n",
        "print('b[1]=',model_app_2.b1.value)\n",
        "print('b[2]=',model_app_2.b2.value)\n",
        "\n",
        "print('\\nConstraints')\n",
        "model_app_2.constraints.display()"
      ],
      "execution_count": 31,
      "outputs": [
        {
          "output_type": "stream",
          "name": "stdout",
          "text": [
            "\n",
            "Objective =  125454.545\n",
            "\n",
            "Decision Variables\n",
            "m[ 0 ] 38818.182\n",
            "n[ 0 ] 0.0\n",
            "m[ 1 ] 0.0\n",
            "n[ 1 ] 0.0\n",
            "m[ 2 ] 54272.727\n",
            "n[ 2 ] 0.0\n",
            "m[ 3 ] 0.0\n",
            "n[ 3 ] 32363.636\n",
            "m[ 4 ] 0.0\n",
            "n[ 4 ] 0.0\n",
            "m[ 5 ] 0.0\n",
            "n[ 5 ] 0.0\n",
            "\n",
            "b[0]= 104181.82\n",
            "b[1]= 67.272727\n",
            "b[2]= -356.36364\n",
            "\n",
            "Constraints\n",
            "constraints : Size=12\n",
            "    Key : Lower : Body                    : Upper\n",
            "      1 :  None :  -0.0006000000576023012 :   0.0\n",
            "      2 :  None :      -77636.36339999994 :   0.0\n",
            "      3 :  None :  0.00039999998989515007 :   0.0\n",
            "      4 :  None : -0.00039999998989515007 :   0.0\n",
            "      5 :  None :     -108545.45350000005 :   0.0\n",
            "      6 :  None :  -0.0004999999509891495 :   0.0\n",
            "      7 :  None :     -64727.273600000015 :   0.0\n",
            "      8 :  None :   0.0016000000177882612 :   0.0\n",
            "      9 :  None :   -0.000900000028195791 :   0.0\n",
            "     10 :  None :    0.000900000028195791 :   0.0\n",
            "     11 :  None :   -0.001500000013038516 :   0.0\n",
            "     12 :  None :    0.001500000013038516 :   0.0\n"
          ]
        }
      ]
    },
    {
      "cell_type": "markdown",
      "metadata": {
        "id": "e04D9yeXIVOp"
      },
      "source": [
        "##Ans 5 (Approach 2) :\n",
        "\n",
        "Solver Status : Ok\n",
        "\n",
        "Solver Termination Condition : Optimal\n",
        "\n",
        "Optimal sum of residuals is : 125454.545\n",
        "\n",
        "Values of new decision variables :\n",
        "\n",
        "$m_1=38818.182\\\\\n",
        "n_1=0.0\\\\\n",
        "m_2=0.0\\\\\n",
        "n_2=0.0\\\\\n",
        "m_3=54272.727\\\\\n",
        "n_3=0.0\\\\\n",
        "m_4=0.0\\\\\n",
        "n_4=32363.636\\\\\n",
        "m_5=0.0\\\\\n",
        "n_5=0.0\\\\\n",
        "m_6=0.0\\\\\n",
        "n_6=0.0$\n",
        "\n",
        "Values of original decision variables :\n",
        "\n",
        "$x_1=38818.182\\\\\n",
        "x_2=0.0\\\\\n",
        "x_3=-54272.727\\\\\n",
        "x_4=-32363.636\\\\\n",
        "x_5=0.0\\\\\n",
        "x_6=0.0$\n",
        "\n",
        "We see that by both the approaches, we get the same optimal solution. In Approach 2, we also see that, $m_i*n_i=0$.\n",
        "\n",
        "We see that the predicted value of 1st, 3rd and 4th warehouse is different by a significant value, whereas for 2nd, 5th and 6th warehouse is 0, by the calculated values of $b_0,b_1,b_2$"
      ]
    },
    {
      "cell_type": "code",
      "metadata": {
        "id": "45Vh0gdiHEu4"
      },
      "source": [
        ""
      ],
      "execution_count": 29,
      "outputs": []
    }
  ]
}