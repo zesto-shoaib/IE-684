{
  "nbformat": 4,
  "nbformat_minor": 0,
  "metadata": {
    "colab": {
      "name": "21i190012_IE507_Lab7_Ex1.ipynb",
      "provenance": [],
      "collapsed_sections": []
    },
    "kernelspec": {
      "name": "python3",
      "display_name": "Python 3"
    },
    "language_info": {
      "name": "python"
    }
  },
  "cells": [
    {
      "cell_type": "markdown",
      "metadata": {
        "id": "1oi4X75Q8EsO"
      },
      "source": [
        "#Exercise 1"
      ]
    },
    {
      "cell_type": "code",
      "metadata": {
        "id": "yzcL9FxuARvz"
      },
      "source": [
        "#importing the required packages\n",
        "import pandas as pd"
      ],
      "execution_count": 1,
      "outputs": []
    },
    {
      "cell_type": "code",
      "metadata": {
        "id": "7KLnSHQiENwc"
      },
      "source": [
        "#Please copy the 'cleveland_heart_attr.csv' and 'cleveland_heart_attr_description.txt' files to the current folder in colab\n",
        "#read the csv file into a dataframe\n",
        "df = pd.read_csv('cleveland_heart_attr.csv')"
      ],
      "execution_count": 2,
      "outputs": []
    },
    {
      "cell_type": "code",
      "metadata": {
        "colab": {
          "base_uri": "https://localhost:8080/",
          "height": 226
        },
        "id": "P2rHeSiiEbdC",
        "outputId": "d403f1e5-2e79-4682-b3ed-e45b5b117506"
      },
      "source": [
        "#check the data frame by printing its first few rows \n",
        "df.head()"
      ],
      "execution_count": 3,
      "outputs": [
        {
          "output_type": "execute_result",
          "data": {
            "text/html": [
              "<div>\n",
              "<style scoped>\n",
              "    .dataframe tbody tr th:only-of-type {\n",
              "        vertical-align: middle;\n",
              "    }\n",
              "\n",
              "    .dataframe tbody tr th {\n",
              "        vertical-align: top;\n",
              "    }\n",
              "\n",
              "    .dataframe thead th {\n",
              "        text-align: right;\n",
              "    }\n",
              "</style>\n",
              "<table border=\"1\" class=\"dataframe\">\n",
              "  <thead>\n",
              "    <tr style=\"text-align: right;\">\n",
              "      <th></th>\n",
              "      <th>age</th>\n",
              "      <th>sex</th>\n",
              "      <th>chest_pain_type</th>\n",
              "      <th>rest_bp</th>\n",
              "      <th>serum_cholesterol</th>\n",
              "      <th>fastblood_sugar</th>\n",
              "      <th>rest_ecg</th>\n",
              "      <th>max_heartrate</th>\n",
              "      <th>exercise_angina</th>\n",
              "      <th>ST_depression_exercise_relativeto_rest</th>\n",
              "      <th>slope_peak_STsegment</th>\n",
              "      <th>num_major_vessels_fluroscopy</th>\n",
              "      <th>thal</th>\n",
              "      <th>heart_disease_status</th>\n",
              "    </tr>\n",
              "  </thead>\n",
              "  <tbody>\n",
              "    <tr>\n",
              "      <th>0</th>\n",
              "      <td>63.0</td>\n",
              "      <td>1.0</td>\n",
              "      <td>1.0</td>\n",
              "      <td>145.0</td>\n",
              "      <td>233.0</td>\n",
              "      <td>1.0</td>\n",
              "      <td>2.0</td>\n",
              "      <td>150.0</td>\n",
              "      <td>0.0</td>\n",
              "      <td>2.3</td>\n",
              "      <td>3.0</td>\n",
              "      <td>0.0</td>\n",
              "      <td>6.0</td>\n",
              "      <td>0</td>\n",
              "    </tr>\n",
              "    <tr>\n",
              "      <th>1</th>\n",
              "      <td>67.0</td>\n",
              "      <td>1.0</td>\n",
              "      <td>4.0</td>\n",
              "      <td>160.0</td>\n",
              "      <td>286.0</td>\n",
              "      <td>0.0</td>\n",
              "      <td>2.0</td>\n",
              "      <td>108.0</td>\n",
              "      <td>1.0</td>\n",
              "      <td>1.5</td>\n",
              "      <td>2.0</td>\n",
              "      <td>3.0</td>\n",
              "      <td>3.0</td>\n",
              "      <td>2</td>\n",
              "    </tr>\n",
              "    <tr>\n",
              "      <th>2</th>\n",
              "      <td>67.0</td>\n",
              "      <td>1.0</td>\n",
              "      <td>4.0</td>\n",
              "      <td>120.0</td>\n",
              "      <td>229.0</td>\n",
              "      <td>0.0</td>\n",
              "      <td>2.0</td>\n",
              "      <td>129.0</td>\n",
              "      <td>1.0</td>\n",
              "      <td>2.6</td>\n",
              "      <td>2.0</td>\n",
              "      <td>2.0</td>\n",
              "      <td>7.0</td>\n",
              "      <td>1</td>\n",
              "    </tr>\n",
              "    <tr>\n",
              "      <th>3</th>\n",
              "      <td>37.0</td>\n",
              "      <td>1.0</td>\n",
              "      <td>3.0</td>\n",
              "      <td>130.0</td>\n",
              "      <td>250.0</td>\n",
              "      <td>0.0</td>\n",
              "      <td>0.0</td>\n",
              "      <td>187.0</td>\n",
              "      <td>0.0</td>\n",
              "      <td>3.5</td>\n",
              "      <td>3.0</td>\n",
              "      <td>0.0</td>\n",
              "      <td>3.0</td>\n",
              "      <td>0</td>\n",
              "    </tr>\n",
              "    <tr>\n",
              "      <th>4</th>\n",
              "      <td>41.0</td>\n",
              "      <td>0.0</td>\n",
              "      <td>2.0</td>\n",
              "      <td>130.0</td>\n",
              "      <td>204.0</td>\n",
              "      <td>0.0</td>\n",
              "      <td>2.0</td>\n",
              "      <td>172.0</td>\n",
              "      <td>0.0</td>\n",
              "      <td>1.4</td>\n",
              "      <td>1.0</td>\n",
              "      <td>0.0</td>\n",
              "      <td>3.0</td>\n",
              "      <td>0</td>\n",
              "    </tr>\n",
              "  </tbody>\n",
              "</table>\n",
              "</div>"
            ],
            "text/plain": [
              "    age  sex  ...  thal  heart_disease_status\n",
              "0  63.0  1.0  ...   6.0                     0\n",
              "1  67.0  1.0  ...   3.0                     2\n",
              "2  67.0  1.0  ...   7.0                     1\n",
              "3  37.0  1.0  ...   3.0                     0\n",
              "4  41.0  0.0  ...   3.0                     0\n",
              "\n",
              "[5 rows x 14 columns]"
            ]
          },
          "metadata": {},
          "execution_count": 3
        }
      ]
    },
    {
      "cell_type": "code",
      "metadata": {
        "colab": {
          "base_uri": "https://localhost:8080/",
          "height": 226
        },
        "id": "NY_NwZgIEnz-",
        "outputId": "3b554d1b-b6b1-493a-883a-e4f6a8e08ac3"
      },
      "source": [
        "#check the data frame by printing its last  few rows \n",
        "df.tail()"
      ],
      "execution_count": 4,
      "outputs": [
        {
          "output_type": "execute_result",
          "data": {
            "text/html": [
              "<div>\n",
              "<style scoped>\n",
              "    .dataframe tbody tr th:only-of-type {\n",
              "        vertical-align: middle;\n",
              "    }\n",
              "\n",
              "    .dataframe tbody tr th {\n",
              "        vertical-align: top;\n",
              "    }\n",
              "\n",
              "    .dataframe thead th {\n",
              "        text-align: right;\n",
              "    }\n",
              "</style>\n",
              "<table border=\"1\" class=\"dataframe\">\n",
              "  <thead>\n",
              "    <tr style=\"text-align: right;\">\n",
              "      <th></th>\n",
              "      <th>age</th>\n",
              "      <th>sex</th>\n",
              "      <th>chest_pain_type</th>\n",
              "      <th>rest_bp</th>\n",
              "      <th>serum_cholesterol</th>\n",
              "      <th>fastblood_sugar</th>\n",
              "      <th>rest_ecg</th>\n",
              "      <th>max_heartrate</th>\n",
              "      <th>exercise_angina</th>\n",
              "      <th>ST_depression_exercise_relativeto_rest</th>\n",
              "      <th>slope_peak_STsegment</th>\n",
              "      <th>num_major_vessels_fluroscopy</th>\n",
              "      <th>thal</th>\n",
              "      <th>heart_disease_status</th>\n",
              "    </tr>\n",
              "  </thead>\n",
              "  <tbody>\n",
              "    <tr>\n",
              "      <th>298</th>\n",
              "      <td>45.0</td>\n",
              "      <td>1.0</td>\n",
              "      <td>1.0</td>\n",
              "      <td>110.0</td>\n",
              "      <td>264.0</td>\n",
              "      <td>0.0</td>\n",
              "      <td>0.0</td>\n",
              "      <td>132.0</td>\n",
              "      <td>0.0</td>\n",
              "      <td>1.2</td>\n",
              "      <td>2.0</td>\n",
              "      <td>0.0</td>\n",
              "      <td>7.0</td>\n",
              "      <td>1</td>\n",
              "    </tr>\n",
              "    <tr>\n",
              "      <th>299</th>\n",
              "      <td>68.0</td>\n",
              "      <td>1.0</td>\n",
              "      <td>4.0</td>\n",
              "      <td>144.0</td>\n",
              "      <td>193.0</td>\n",
              "      <td>1.0</td>\n",
              "      <td>0.0</td>\n",
              "      <td>141.0</td>\n",
              "      <td>0.0</td>\n",
              "      <td>3.4</td>\n",
              "      <td>2.0</td>\n",
              "      <td>2.0</td>\n",
              "      <td>7.0</td>\n",
              "      <td>2</td>\n",
              "    </tr>\n",
              "    <tr>\n",
              "      <th>300</th>\n",
              "      <td>57.0</td>\n",
              "      <td>1.0</td>\n",
              "      <td>4.0</td>\n",
              "      <td>130.0</td>\n",
              "      <td>131.0</td>\n",
              "      <td>0.0</td>\n",
              "      <td>0.0</td>\n",
              "      <td>115.0</td>\n",
              "      <td>1.0</td>\n",
              "      <td>1.2</td>\n",
              "      <td>2.0</td>\n",
              "      <td>1.0</td>\n",
              "      <td>7.0</td>\n",
              "      <td>3</td>\n",
              "    </tr>\n",
              "    <tr>\n",
              "      <th>301</th>\n",
              "      <td>57.0</td>\n",
              "      <td>0.0</td>\n",
              "      <td>2.0</td>\n",
              "      <td>130.0</td>\n",
              "      <td>236.0</td>\n",
              "      <td>0.0</td>\n",
              "      <td>2.0</td>\n",
              "      <td>174.0</td>\n",
              "      <td>0.0</td>\n",
              "      <td>0.0</td>\n",
              "      <td>2.0</td>\n",
              "      <td>1.0</td>\n",
              "      <td>3.0</td>\n",
              "      <td>1</td>\n",
              "    </tr>\n",
              "    <tr>\n",
              "      <th>302</th>\n",
              "      <td>38.0</td>\n",
              "      <td>1.0</td>\n",
              "      <td>3.0</td>\n",
              "      <td>138.0</td>\n",
              "      <td>175.0</td>\n",
              "      <td>0.0</td>\n",
              "      <td>0.0</td>\n",
              "      <td>173.0</td>\n",
              "      <td>0.0</td>\n",
              "      <td>0.0</td>\n",
              "      <td>1.0</td>\n",
              "      <td>?</td>\n",
              "      <td>3.0</td>\n",
              "      <td>0</td>\n",
              "    </tr>\n",
              "  </tbody>\n",
              "</table>\n",
              "</div>"
            ],
            "text/plain": [
              "      age  sex  ...  thal  heart_disease_status\n",
              "298  45.0  1.0  ...   7.0                     1\n",
              "299  68.0  1.0  ...   7.0                     2\n",
              "300  57.0  1.0  ...   7.0                     3\n",
              "301  57.0  0.0  ...   3.0                     1\n",
              "302  38.0  1.0  ...   3.0                     0\n",
              "\n",
              "[5 rows x 14 columns]"
            ]
          },
          "metadata": {},
          "execution_count": 4
        }
      ]
    },
    {
      "cell_type": "markdown",
      "metadata": {
        "id": "20klCw5579l9"
      },
      "source": [
        "##Ans 1 :\n",
        "\n",
        "The no of columns in df are : 14\n",
        "\n",
        "The no of rows in df are : 303"
      ]
    },
    {
      "cell_type": "code",
      "metadata": {
        "id": "XCb3oTAEEruz",
        "colab": {
          "base_uri": "https://localhost:8080/"
        },
        "outputId": "39694cf6-48ea-4418-9b46-0ceda314e3de"
      },
      "source": [
        "#[R]\n",
        "#how many rows and columns does df have?\n",
        "#Fill the appropriate code here\n",
        "\n",
        "print('The no of columns in df are :',len(df.columns))\n",
        "print('The no of rows in df are :',len(df))"
      ],
      "execution_count": 5,
      "outputs": [
        {
          "output_type": "stream",
          "name": "stdout",
          "text": [
            "The no of columns in df are : 14\n",
            "The no of rows in df are : 303\n"
          ]
        }
      ]
    },
    {
      "cell_type": "code",
      "metadata": {
        "colab": {
          "base_uri": "https://localhost:8080/"
        },
        "id": "yffNDuTtFCqs",
        "outputId": "839cf2c0-4f0c-479c-a6eb-103920f3c302"
      },
      "source": [
        "#Printing the columns in df\n",
        "(df.columns)"
      ],
      "execution_count": 6,
      "outputs": [
        {
          "output_type": "execute_result",
          "data": {
            "text/plain": [
              "Index(['age', 'sex', 'chest_pain_type', 'rest_bp', 'serum_cholesterol',\n",
              "       'fastblood_sugar', 'rest_ecg', 'max_heartrate', 'exercise_angina',\n",
              "       'ST_depression_exercise_relativeto_rest', 'slope_peak_STsegment',\n",
              "       'num_major_vessels_fluroscopy', 'thal', 'heart_disease_status'],\n",
              "      dtype='object')"
            ]
          },
          "metadata": {},
          "execution_count": 6
        }
      ]
    },
    {
      "cell_type": "code",
      "metadata": {
        "colab": {
          "base_uri": "https://localhost:8080/"
        },
        "id": "hkYJwDI-FFpp",
        "outputId": "5c2dcff4-7163-4da5-d903-51e089ceef95"
      },
      "source": [
        "#Let us try to check the description of the data \n",
        "data_description = open('cleveland_heart_attr_description.txt','r').read()\n",
        "print (data_description)"
      ],
      "execution_count": 7,
      "outputs": [
        {
          "output_type": "stream",
          "name": "stdout",
          "text": [
            "Publication Request: \n",
            "   >>>>>>>>>>>>>>>>>>>>>>>>>>>>>>>>>>>>>>>>>>>>>>>>>>>>>>>>>>>>>>>>>>>>>>\n",
            "   This file describes the contents of the heart-disease directory.\n",
            "\n",
            "   This directory contains 1 database concerning heart disease diagnosis.\n",
            "   All attributes are numeric-valued.  The data was collected from the\n",
            "    following location:\n",
            "\n",
            "     1. Cleveland Clinic Foundation (cleveland.data)\n",
            "\n",
            "While the database contains 76 attributes, only  14 attributes were actually used in past experiments. \n",
            "\n",
            ">>>>>>>>>>>>>>>>>>>>>>>>>>>>>>>>>>>>>>>>>>>>>>>>>>>>>>>>>>>>>>>>>>>>>>\n",
            "\n",
            "1. Title: Heart Disease Databases\n",
            "\n",
            "2. Source Information:\n",
            "   (a) Creators: \n",
            "       -- 1. Hungarian Institute of Cardiology. Budapest: Andras Janosi, M.D.\n",
            "   (b) Donor: David W. Aha (aha@ics.uci.edu) (714) 856-8779   \n",
            "   (c) Date: July, 1988\n",
            "\n",
            "\n",
            "3. Relevant Information:\n",
            "     This database contains 76 attributes, but all published experiments\n",
            "     refer to using a subset of 14 of them.  In particular, the Cleveland\n",
            "     database is the only one that has been used by ML researchers to \n",
            "     this date.  The \"goal\" field refers to the presence of heart disease\n",
            "     in the patient.  It is integer valued from 0 (no presence) to 4.\n",
            "     Experiments with the Cleveland database have concentrated on simply\n",
            "     attempting to distinguish presence (values 1,2,3,4) from absence (value\n",
            "     0).  \n",
            "   \n",
            "     The names and social security numbers of the patients were recently \n",
            "     removed from the database, replaced with dummy values.\n",
            "\n",
            "     One file has been \"processed\", that one containing the Cleveland \n",
            "     database.  All four unprocessed files also exist in this directory.\n",
            "    \n",
            "4. Number of Instances: \n",
            "        Database:    # of instances:\n",
            "          Cleveland: 303\n",
            "          Hungarian: 294\n",
            "        Switzerland: 123\n",
            "      Long Beach VA: 200\n",
            "\n",
            "5. Number of Attributes: 76 (including the predicted attribute)\n",
            "\n",
            "6. Attribute Information:\n",
            "   -- Only 14 used\n",
            "      -- 1. #3  (age)       \n",
            "      -- 2. #4  (sex)       \n",
            "      -- 3. #9  (cp)        \n",
            "      -- 4. #10 (trestbps)  \n",
            "      -- 5. #12 (chol)      \n",
            "      -- 6. #16 (fbs)       \n",
            "      -- 7. #19 (restecg)   \n",
            "      -- 8. #32 (thalach)   \n",
            "      -- 9. #38 (exang)     \n",
            "      -- 10. #40 (oldpeak)   \n",
            "      -- 11. #41 (slope)     \n",
            "      -- 12. #44 (ca)        \n",
            "      -- 13. #51 (thal)      \n",
            "      -- 14. #58 (num)       (the predicted attribute)\n",
            "\n",
            "7.\n",
            "   -- Complete attribute documentation:\n",
            "      1 id: patient identification number\n",
            "      2 ccf: social security number (I replaced this with a dummy value of 0)\n",
            "      3 age: age in years\n",
            "      4 sex: sex (1 = male; 0 = female)\n",
            "      5 painloc: chest pain location (1 = substernal; 0 = otherwise)\n",
            "      6 painexer (1 = provoked by exertion; 0 = otherwise)\n",
            "      7 relrest (1 = relieved after rest; 0 = otherwise)\n",
            "      8 pncaden (sum of 5, 6, and 7)\n",
            "      9 cp: chest pain type\n",
            "        -- Value 1: typical angina\n",
            "        -- Value 2: atypical angina\n",
            "        -- Value 3: non-anginal pain\n",
            "        -- Value 4: asymptomatic\n",
            "     10 trestbps: resting blood pressure (in mm Hg on admission to the \n",
            "        hospital)\n",
            "     11 htn\n",
            "     12 chol: serum cholestoral in mg/dl\n",
            "     13 smoke: I believe this is 1 = yes; 0 = no (is or is not a smoker)\n",
            "     14 cigs (cigarettes per day)\n",
            "     15 years (number of years as a smoker)\n",
            "     16 fbs: (fasting blood sugar > 120 mg/dl)  (1 = true; 0 = false)\n",
            "     17 dm (1 = history of diabetes; 0 = no such history)\n",
            "     18 famhist: family history of coronary artery disease (1 = yes; 0 = no)\n",
            "     19 restecg: resting electrocardiographic results\n",
            "        -- Value 0: normal\n",
            "        -- Value 1: having ST-T wave abnormality (T wave inversions and/or ST \n",
            "                    elevation or depression of > 0.05 mV)\n",
            "        -- Value 2: showing probable or definite left ventricular hypertrophy\n",
            "                    by Estes' criteria\n",
            "     20 ekgmo (month of exercise ECG reading)\n",
            "     21 ekgday(day of exercise ECG reading)\n",
            "     22 ekgyr (year of exercise ECG reading)\n",
            "     23 dig (digitalis used furing exercise ECG: 1 = yes; 0 = no)\n",
            "     24 prop (Beta blocker used during exercise ECG: 1 = yes; 0 = no)\n",
            "     25 nitr (nitrates used during exercise ECG: 1 = yes; 0 = no)\n",
            "     26 pro (calcium channel blocker used during exercise ECG: 1 = yes; 0 = no)\n",
            "     27 diuretic (diuretic used used during exercise ECG: 1 = yes; 0 = no)\n",
            "     28 proto: exercise protocol\n",
            "          1 = Bruce     \n",
            "          2 = Kottus\n",
            "          3 = McHenry\n",
            "          4 = fast Balke\n",
            "          5 = Balke\n",
            "          6 = Noughton \n",
            "          7 = bike 150 kpa min/min  (Not sure if \"kpa min/min\" is what was \n",
            "              written!)\n",
            "          8 = bike 125 kpa min/min  \n",
            "          9 = bike 100 kpa min/min\n",
            "         10 = bike 75 kpa min/min\n",
            "         11 = bike 50 kpa min/min\n",
            "         12 = arm ergometer\n",
            "     29 thaldur: duration of exercise test in minutes\n",
            "     30 thaltime: time when ST measure depression was noted\n",
            "     31 met: mets achieved\n",
            "     32 thalach: maximum heart rate achieved\n",
            "     33 thalrest: resting heart rate\n",
            "     34 tpeakbps: peak exercise blood pressure (first of 2 parts)\n",
            "     35 tpeakbpd: peak exercise blood pressure (second of 2 parts)\n",
            "     36 dummy\n",
            "     37 trestbpd: resting blood pressure\n",
            "     38 exang: exercise induced angina (1 = yes; 0 = no)\n",
            "     39 xhypo: (1 = yes; 0 = no)\n",
            "     40 oldpeak = ST depression induced by exercise relative to rest\n",
            "     41 slope: the slope of the peak exercise ST segment\n",
            "        -- Value 1: upsloping\n",
            "        -- Value 2: flat\n",
            "        -- Value 3: downsloping\n",
            "     42 rldv5: height at rest\n",
            "     43 rldv5e: height at peak exercise\n",
            "     44 ca: number of major vessels (0-3) colored by flourosopy\n",
            "     45 restckm: irrelevant\n",
            "     46 exerckm: irrelevant\n",
            "     47 restef: rest raidonuclid (sp?) ejection fraction\n",
            "     48 restwm: rest wall (sp?) motion abnormality\n",
            "        0 = none\n",
            "        1 = mild or moderate\n",
            "        2 = moderate or severe\n",
            "        3 = akinesis or dyskmem (sp?)\n",
            "     49 exeref: exercise radinalid (sp?) ejection fraction\n",
            "     50 exerwm: exercise wall (sp?) motion \n",
            "     51 thal: 3 = normal; 6 = fixed defect; 7 = reversable defect\n",
            "     52 thalsev: not used\n",
            "     53 thalpul: not used\n",
            "     54 earlobe: not used\n",
            "     55 cmo: month of cardiac cath (sp?)  (perhaps \"call\")\n",
            "     56 cday: day of cardiac cath (sp?)\n",
            "     57 cyr: year of cardiac cath (sp?)\n",
            "     58 num: diagnosis of heart disease (angiographic disease status)\n",
            "        -- Value 0: < 50% diameter narrowing\n",
            "        -- Value 1: > 50% diameter narrowing\n",
            "        (in any major vessel: attributes 59 through 68 are vessels)\n",
            "     59 lmt\n",
            "     60 ladprox\n",
            "     61 laddist\n",
            "     62 diag\n",
            "     63 cxmain\n",
            "     64 ramus\n",
            "     65 om1\n",
            "     66 om2\n",
            "     67 rcaprox\n",
            "     68 rcadist\n",
            "     69 lvx1: not used\n",
            "     70 lvx2: not used\n",
            "     71 lvx3: not used\n",
            "     72 lvx4: not used\n",
            "     73 lvf: not used\n",
            "     74 cathef: not used\n",
            "     75 junk: not used\n",
            "     76 name: last name of patient \n",
            "\t(I replaced this with the dummy string \"name\")\n",
            "\n",
            "8. Missing Attribute Values: Several.  Distinguished with value -9.0.\n",
            "\n",
            "9. Class Distribution:\n",
            "        Database:      0   1   2   3   4 Total\n",
            "          Cleveland: 164  55  36  35  13   303\n",
            "\n"
          ]
        }
      ]
    },
    {
      "cell_type": "code",
      "metadata": {
        "id": "XSNSiMtF6lzR",
        "colab": {
          "base_uri": "https://localhost:8080/"
        },
        "outputId": "f8e6f61b-5fae-4804-cc3b-f4cc5c115d89"
      },
      "source": [
        "df.info()"
      ],
      "execution_count": 8,
      "outputs": [
        {
          "output_type": "stream",
          "name": "stdout",
          "text": [
            "<class 'pandas.core.frame.DataFrame'>\n",
            "RangeIndex: 303 entries, 0 to 302\n",
            "Data columns (total 14 columns):\n",
            " #   Column                                  Non-Null Count  Dtype  \n",
            "---  ------                                  --------------  -----  \n",
            " 0   age                                     303 non-null    float64\n",
            " 1   sex                                     303 non-null    float64\n",
            " 2   chest_pain_type                         303 non-null    float64\n",
            " 3   rest_bp                                 303 non-null    float64\n",
            " 4   serum_cholesterol                       303 non-null    float64\n",
            " 5   fastblood_sugar                         303 non-null    float64\n",
            " 6   rest_ecg                                303 non-null    float64\n",
            " 7   max_heartrate                           303 non-null    float64\n",
            " 8   exercise_angina                         303 non-null    float64\n",
            " 9   ST_depression_exercise_relativeto_rest  303 non-null    float64\n",
            " 10  slope_peak_STsegment                    303 non-null    float64\n",
            " 11  num_major_vessels_fluroscopy            303 non-null    object \n",
            " 12  thal                                    303 non-null    object \n",
            " 13  heart_disease_status                    303 non-null    int64  \n",
            "dtypes: float64(11), int64(1), object(2)\n",
            "memory usage: 33.3+ KB\n"
          ]
        }
      ]
    },
    {
      "cell_type": "code",
      "metadata": {
        "colab": {
          "base_uri": "https://localhost:8080/",
          "height": 320
        },
        "id": "w9vWxKxJKH7o",
        "outputId": "7a84ba04-3407-464e-be45-d71fd793d88b"
      },
      "source": [
        "#If an explicit description about data is missing, we can try to understand the data using basic statistical information\n",
        "df.describe()"
      ],
      "execution_count": 9,
      "outputs": [
        {
          "output_type": "execute_result",
          "data": {
            "text/html": [
              "<div>\n",
              "<style scoped>\n",
              "    .dataframe tbody tr th:only-of-type {\n",
              "        vertical-align: middle;\n",
              "    }\n",
              "\n",
              "    .dataframe tbody tr th {\n",
              "        vertical-align: top;\n",
              "    }\n",
              "\n",
              "    .dataframe thead th {\n",
              "        text-align: right;\n",
              "    }\n",
              "</style>\n",
              "<table border=\"1\" class=\"dataframe\">\n",
              "  <thead>\n",
              "    <tr style=\"text-align: right;\">\n",
              "      <th></th>\n",
              "      <th>age</th>\n",
              "      <th>sex</th>\n",
              "      <th>chest_pain_type</th>\n",
              "      <th>rest_bp</th>\n",
              "      <th>serum_cholesterol</th>\n",
              "      <th>fastblood_sugar</th>\n",
              "      <th>rest_ecg</th>\n",
              "      <th>max_heartrate</th>\n",
              "      <th>exercise_angina</th>\n",
              "      <th>ST_depression_exercise_relativeto_rest</th>\n",
              "      <th>slope_peak_STsegment</th>\n",
              "      <th>heart_disease_status</th>\n",
              "    </tr>\n",
              "  </thead>\n",
              "  <tbody>\n",
              "    <tr>\n",
              "      <th>count</th>\n",
              "      <td>303.000000</td>\n",
              "      <td>303.000000</td>\n",
              "      <td>303.000000</td>\n",
              "      <td>303.000000</td>\n",
              "      <td>303.000000</td>\n",
              "      <td>303.000000</td>\n",
              "      <td>303.000000</td>\n",
              "      <td>303.000000</td>\n",
              "      <td>303.000000</td>\n",
              "      <td>303.000000</td>\n",
              "      <td>303.000000</td>\n",
              "      <td>303.000000</td>\n",
              "    </tr>\n",
              "    <tr>\n",
              "      <th>mean</th>\n",
              "      <td>54.438944</td>\n",
              "      <td>0.679868</td>\n",
              "      <td>3.158416</td>\n",
              "      <td>131.689769</td>\n",
              "      <td>246.693069</td>\n",
              "      <td>0.148515</td>\n",
              "      <td>0.990099</td>\n",
              "      <td>149.607261</td>\n",
              "      <td>0.326733</td>\n",
              "      <td>1.039604</td>\n",
              "      <td>1.600660</td>\n",
              "      <td>0.937294</td>\n",
              "    </tr>\n",
              "    <tr>\n",
              "      <th>std</th>\n",
              "      <td>9.038662</td>\n",
              "      <td>0.467299</td>\n",
              "      <td>0.960126</td>\n",
              "      <td>17.599748</td>\n",
              "      <td>51.776918</td>\n",
              "      <td>0.356198</td>\n",
              "      <td>0.994971</td>\n",
              "      <td>22.875003</td>\n",
              "      <td>0.469794</td>\n",
              "      <td>1.161075</td>\n",
              "      <td>0.616226</td>\n",
              "      <td>1.228536</td>\n",
              "    </tr>\n",
              "    <tr>\n",
              "      <th>min</th>\n",
              "      <td>29.000000</td>\n",
              "      <td>0.000000</td>\n",
              "      <td>1.000000</td>\n",
              "      <td>94.000000</td>\n",
              "      <td>126.000000</td>\n",
              "      <td>0.000000</td>\n",
              "      <td>0.000000</td>\n",
              "      <td>71.000000</td>\n",
              "      <td>0.000000</td>\n",
              "      <td>0.000000</td>\n",
              "      <td>1.000000</td>\n",
              "      <td>0.000000</td>\n",
              "    </tr>\n",
              "    <tr>\n",
              "      <th>25%</th>\n",
              "      <td>48.000000</td>\n",
              "      <td>0.000000</td>\n",
              "      <td>3.000000</td>\n",
              "      <td>120.000000</td>\n",
              "      <td>211.000000</td>\n",
              "      <td>0.000000</td>\n",
              "      <td>0.000000</td>\n",
              "      <td>133.500000</td>\n",
              "      <td>0.000000</td>\n",
              "      <td>0.000000</td>\n",
              "      <td>1.000000</td>\n",
              "      <td>0.000000</td>\n",
              "    </tr>\n",
              "    <tr>\n",
              "      <th>50%</th>\n",
              "      <td>56.000000</td>\n",
              "      <td>1.000000</td>\n",
              "      <td>3.000000</td>\n",
              "      <td>130.000000</td>\n",
              "      <td>241.000000</td>\n",
              "      <td>0.000000</td>\n",
              "      <td>1.000000</td>\n",
              "      <td>153.000000</td>\n",
              "      <td>0.000000</td>\n",
              "      <td>0.800000</td>\n",
              "      <td>2.000000</td>\n",
              "      <td>0.000000</td>\n",
              "    </tr>\n",
              "    <tr>\n",
              "      <th>75%</th>\n",
              "      <td>61.000000</td>\n",
              "      <td>1.000000</td>\n",
              "      <td>4.000000</td>\n",
              "      <td>140.000000</td>\n",
              "      <td>275.000000</td>\n",
              "      <td>0.000000</td>\n",
              "      <td>2.000000</td>\n",
              "      <td>166.000000</td>\n",
              "      <td>1.000000</td>\n",
              "      <td>1.600000</td>\n",
              "      <td>2.000000</td>\n",
              "      <td>2.000000</td>\n",
              "    </tr>\n",
              "    <tr>\n",
              "      <th>max</th>\n",
              "      <td>77.000000</td>\n",
              "      <td>1.000000</td>\n",
              "      <td>4.000000</td>\n",
              "      <td>200.000000</td>\n",
              "      <td>564.000000</td>\n",
              "      <td>1.000000</td>\n",
              "      <td>2.000000</td>\n",
              "      <td>202.000000</td>\n",
              "      <td>1.000000</td>\n",
              "      <td>6.200000</td>\n",
              "      <td>3.000000</td>\n",
              "      <td>4.000000</td>\n",
              "    </tr>\n",
              "  </tbody>\n",
              "</table>\n",
              "</div>"
            ],
            "text/plain": [
              "              age         sex  ...  slope_peak_STsegment  heart_disease_status\n",
              "count  303.000000  303.000000  ...            303.000000            303.000000\n",
              "mean    54.438944    0.679868  ...              1.600660              0.937294\n",
              "std      9.038662    0.467299  ...              0.616226              1.228536\n",
              "min     29.000000    0.000000  ...              1.000000              0.000000\n",
              "25%     48.000000    0.000000  ...              1.000000              0.000000\n",
              "50%     56.000000    1.000000  ...              2.000000              0.000000\n",
              "75%     61.000000    1.000000  ...              2.000000              2.000000\n",
              "max     77.000000    1.000000  ...              3.000000              4.000000\n",
              "\n",
              "[8 rows x 12 columns]"
            ]
          },
          "metadata": {},
          "execution_count": 9
        }
      ]
    },
    {
      "cell_type": "code",
      "metadata": {
        "colab": {
          "base_uri": "https://localhost:8080/",
          "height": 175
        },
        "id": "DE_VfHlcLfLh",
        "outputId": "86b20d87-0855-4e58-b0c7-fcfd6dcae397"
      },
      "source": [
        "#for categorical variables we can use the following\n",
        "df.describe(include=object)\n",
        "#Try to see if the results make sense. \n",
        "#Think about other ways to make the results include actual categorical attributes."
      ],
      "execution_count": 10,
      "outputs": [
        {
          "output_type": "execute_result",
          "data": {
            "text/html": [
              "<div>\n",
              "<style scoped>\n",
              "    .dataframe tbody tr th:only-of-type {\n",
              "        vertical-align: middle;\n",
              "    }\n",
              "\n",
              "    .dataframe tbody tr th {\n",
              "        vertical-align: top;\n",
              "    }\n",
              "\n",
              "    .dataframe thead th {\n",
              "        text-align: right;\n",
              "    }\n",
              "</style>\n",
              "<table border=\"1\" class=\"dataframe\">\n",
              "  <thead>\n",
              "    <tr style=\"text-align: right;\">\n",
              "      <th></th>\n",
              "      <th>num_major_vessels_fluroscopy</th>\n",
              "      <th>thal</th>\n",
              "    </tr>\n",
              "  </thead>\n",
              "  <tbody>\n",
              "    <tr>\n",
              "      <th>count</th>\n",
              "      <td>303</td>\n",
              "      <td>303</td>\n",
              "    </tr>\n",
              "    <tr>\n",
              "      <th>unique</th>\n",
              "      <td>5</td>\n",
              "      <td>4</td>\n",
              "    </tr>\n",
              "    <tr>\n",
              "      <th>top</th>\n",
              "      <td>0.0</td>\n",
              "      <td>3.0</td>\n",
              "    </tr>\n",
              "    <tr>\n",
              "      <th>freq</th>\n",
              "      <td>176</td>\n",
              "      <td>166</td>\n",
              "    </tr>\n",
              "  </tbody>\n",
              "</table>\n",
              "</div>"
            ],
            "text/plain": [
              "       num_major_vessels_fluroscopy thal\n",
              "count                           303  303\n",
              "unique                            5    4\n",
              "top                             0.0  3.0\n",
              "freq                            176  166"
            ]
          },
          "metadata": {},
          "execution_count": 10
        }
      ]
    },
    {
      "cell_type": "markdown",
      "metadata": {
        "id": "7y8AzSFJ8LNk"
      },
      "source": [
        "##Ans 2 :\n",
        "\n",
        "Since they are categorical variables and have mixed numeric and non-numeric values."
      ]
    },
    {
      "cell_type": "code",
      "metadata": {
        "colab": {
          "base_uri": "https://localhost:8080/"
        },
        "id": "4qagdaj_MBKj",
        "outputId": "f0aa9193-527a-487c-a722-f293dd855020"
      },
      "source": [
        "#To get other information about the data, we can use info() \n",
        "df.info()\n",
        "#[R]Why are the num_major_vessels_fluroscopy and thal columns considered object types? Write the reason.\n",
        "\n",
        "print('\\n\\nSince they are categorical variables and have mixed numeric and non-numeric values.')"
      ],
      "execution_count": 11,
      "outputs": [
        {
          "output_type": "stream",
          "name": "stdout",
          "text": [
            "<class 'pandas.core.frame.DataFrame'>\n",
            "RangeIndex: 303 entries, 0 to 302\n",
            "Data columns (total 14 columns):\n",
            " #   Column                                  Non-Null Count  Dtype  \n",
            "---  ------                                  --------------  -----  \n",
            " 0   age                                     303 non-null    float64\n",
            " 1   sex                                     303 non-null    float64\n",
            " 2   chest_pain_type                         303 non-null    float64\n",
            " 3   rest_bp                                 303 non-null    float64\n",
            " 4   serum_cholesterol                       303 non-null    float64\n",
            " 5   fastblood_sugar                         303 non-null    float64\n",
            " 6   rest_ecg                                303 non-null    float64\n",
            " 7   max_heartrate                           303 non-null    float64\n",
            " 8   exercise_angina                         303 non-null    float64\n",
            " 9   ST_depression_exercise_relativeto_rest  303 non-null    float64\n",
            " 10  slope_peak_STsegment                    303 non-null    float64\n",
            " 11  num_major_vessels_fluroscopy            303 non-null    object \n",
            " 12  thal                                    303 non-null    object \n",
            " 13  heart_disease_status                    303 non-null    int64  \n",
            "dtypes: float64(11), int64(1), object(2)\n",
            "memory usage: 33.3+ KB\n",
            "\n",
            "\n",
            "Since they are categorical variables and have mixed numeric and non-numeric values.\n"
          ]
        }
      ]
    },
    {
      "cell_type": "markdown",
      "metadata": {
        "id": "MVQNVmcpbVNI"
      },
      "source": [
        "##Ans 3 :\n",
        "\n",
        "Number of bins : 10\n",
        "\n",
        "Bin Size : 4.8"
      ]
    },
    {
      "cell_type": "code",
      "metadata": {
        "colab": {
          "base_uri": "https://localhost:8080/",
          "height": 318
        },
        "id": "c5Hp8x_UGFdf",
        "outputId": "4cae4a5e-3a19-467c-a341-58dddde30ee1"
      },
      "source": [
        "#Let us try to understand the age distribution of the patients in the data\n",
        "#For this we will use a simple histogram. We will use pandas' hist() utility  \n",
        "\n",
        "df.hist(column='age')\n",
        "#[R] From the histogram identify the number of bins and bin size. Report these quantities.\n",
        "\n",
        "print('Number of bins : 10')\n",
        "print('Bin Size :',(df['age'].max()-df['age'].min())/10)"
      ],
      "execution_count": 12,
      "outputs": [
        {
          "output_type": "stream",
          "name": "stdout",
          "text": [
            "Number of bins : 10\n",
            "Bin Size : 4.8\n"
          ]
        },
        {
          "output_type": "display_data",
          "data": {
            "image/png": "[encoded data removed]",
            "text/plain": [
              "<Figure size 432x288 with 1 Axes>"
            ]
          },
          "metadata": {
            "needs_background": "light"
          }
        }
      ]
    },
    {
      "cell_type": "code",
      "metadata": {
        "colab": {
          "base_uri": "https://localhost:8080/",
          "height": 318
        },
        "id": "PDHbJSWONVoB",
        "outputId": "346721da-2a39-450f-b0fc-9d9919d55c43"
      },
      "source": [
        "#We can adjust the bin size and replot the histogram\n",
        "df.hist(column='age',bins=20)\n",
        "#What is the bin size in this case? "
      ],
      "execution_count": 13,
      "outputs": [
        {
          "output_type": "execute_result",
          "data": {
            "text/plain": [
              "array([[<matplotlib.axes._subplots.AxesSubplot object at 0x7f8af1e3f150>]],\n",
              "      dtype=object)"
            ]
          },
          "metadata": {},
          "execution_count": 13
        },
        {
          "output_type": "display_data",
          "data": {
            "image/png": "[encoded data removed]",
            "text/plain": [
              "<Figure size 432x288 with 1 Axes>"
            ]
          },
          "metadata": {
            "needs_background": "light"
          }
        }
      ]
    },
    {
      "cell_type": "markdown",
      "metadata": {
        "id": "p7BErzfXba-u"
      },
      "source": [
        "##Ans 4 :\n",
        "\n",
        "Bin Size : 0.96\n",
        "\n",
        "We can observe that we have the highest no of patients aged around 58.\n",
        "We can also see that as we increase the no. of bins, the bin size decreases.\n"
      ]
    },
    {
      "cell_type": "code",
      "metadata": {
        "id": "z7VcouwfN-6a",
        "colab": {
          "base_uri": "https://localhost:8080/",
          "height": 336
        },
        "outputId": "0a3e1025-088c-413f-b911-71acd11b502b"
      },
      "source": [
        "#[R]Plot the histogram for 50 bins and report the bin size and your observations. \n",
        "\n",
        "df.hist(column = 'age', bins = 50)\n",
        "\n",
        "print('Bin Size :',(df['age'].max()-df['age'].min())/50)\n",
        "\n",
        "print('We can observe that we have the highest no of patients aged around 58.\\nWe can also see that as we increase the no. of bins, the bin size decreases.')"
      ],
      "execution_count": 14,
      "outputs": [
        {
          "output_type": "stream",
          "name": "stdout",
          "text": [
            "Bin Size : 0.96\n",
            "We can observe that we have the highest no of patients aged around 58.\n",
            "We can also see that as we increase the no. of bins, the bin size decreases.\n"
          ]
        },
        {
          "output_type": "display_data",
          "data": {
            "image/png": "[encoded data removed]",
            "text/plain": [
              "<Figure size 432x288 with 1 Axes>"
            ]
          },
          "metadata": {
            "needs_background": "light"
          }
        }
      ]
    },
    {
      "cell_type": "code",
      "metadata": {
        "id": "6G2u6VfYOu1A"
      },
      "source": [
        "#Other interesting plots out of histograms can be made with other packages, especially 'seaborn'\n",
        "#For this purpose we shall import seaborn package\n",
        "import seaborn as sns "
      ],
      "execution_count": 15,
      "outputs": []
    },
    {
      "cell_type": "code",
      "metadata": {
        "colab": {
          "base_uri": "https://localhost:8080/",
          "height": 297
        },
        "id": "nV3oFvpEO56j",
        "outputId": "b14dc9ce-70c9-478b-8243-883ed3acd1a1"
      },
      "source": [
        "#seaborn has its own histogram plotting utility\n",
        "sns.histplot(df.age)"
      ],
      "execution_count": 16,
      "outputs": [
        {
          "output_type": "execute_result",
          "data": {
            "text/plain": [
              "<matplotlib.axes._subplots.AxesSubplot at 0x7f8ae2e17f50>"
            ]
          },
          "metadata": {},
          "execution_count": 16
        },
        {
          "output_type": "display_data",
          "data": {
            "image/png": "[encoded data removed]",
            "text/plain": [
              "<Figure size 432x288 with 1 Axes>"
            ]
          },
          "metadata": {
            "needs_background": "light"
          }
        }
      ]
    },
    {
      "cell_type": "code",
      "metadata": {
        "colab": {
          "base_uri": "https://localhost:8080/",
          "height": 297
        },
        "id": "-8F9ObMHPvqY",
        "outputId": "8a04906f-3102-4865-bef9-4faeb3f18c2c"
      },
      "source": [
        "#We can change some options in histplot and try replotting\n",
        "sns.histplot(df.age,binrange=(20,60))"
      ],
      "execution_count": 17,
      "outputs": [
        {
          "output_type": "execute_result",
          "data": {
            "text/plain": [
              "<matplotlib.axes._subplots.AxesSubplot at 0x7f8ae2d53890>"
            ]
          },
          "metadata": {},
          "execution_count": 17
        },
        {
          "output_type": "display_data",
          "data": {
            "image/png": "[encoded data removed]",
            "text/plain": [
              "<Figure size 432x288 with 1 Axes>"
            ]
          },
          "metadata": {
            "needs_background": "light"
          }
        }
      ]
    },
    {
      "cell_type": "code",
      "metadata": {
        "colab": {
          "base_uri": "https://localhost:8080/",
          "height": 297
        },
        "id": "nmez2n4CPGLJ",
        "outputId": "8bce28a1-87d1-49d0-99e7-4939c5958762"
      },
      "source": [
        "#The age distribution can be plotted as a graph based on the underlying histogram \n",
        "sns.histplot(df.age,kde=True)"
      ],
      "execution_count": 18,
      "outputs": [
        {
          "output_type": "execute_result",
          "data": {
            "text/plain": [
              "<matplotlib.axes._subplots.AxesSubplot at 0x7f8ae2cb7e50>"
            ]
          },
          "metadata": {},
          "execution_count": 18
        },
        {
          "output_type": "display_data",
          "data": {
            "image/png": "[encoded data removed]",
            "text/plain": [
              "<Figure size 432x288 with 1 Axes>"
            ]
          },
          "metadata": {
            "needs_background": "light"
          }
        }
      ]
    },
    {
      "cell_type": "code",
      "metadata": {
        "colab": {
          "base_uri": "https://localhost:8080/",
          "height": 297
        },
        "id": "-fki3wB4QcqA",
        "outputId": "def68d32-7031-42c3-d42a-9aa84d51d7be"
      },
      "source": [
        "#Replotting the distribution for a more fine-grained bin size\n",
        "sns.histplot(df.age,bins=20,kde=True)"
      ],
      "execution_count": 19,
      "outputs": [
        {
          "output_type": "execute_result",
          "data": {
            "text/plain": [
              "<matplotlib.axes._subplots.AxesSubplot at 0x7f8af18e6a50>"
            ]
          },
          "metadata": {},
          "execution_count": 19
        },
        {
          "output_type": "display_data",
          "data": {
            "image/png": "[encoded data removed]",
            "text/plain": [
              "<Figure size 432x288 with 1 Axes>"
            ]
          },
          "metadata": {
            "needs_background": "light"
          }
        }
      ]
    },
    {
      "cell_type": "code",
      "metadata": {
        "colab": {
          "base_uri": "https://localhost:8080/",
          "height": 297
        },
        "id": "vafWdDJlQk-f",
        "outputId": "95d9fb6a-193c-4700-dfe7-95036d138306"
      },
      "source": [
        "#Replotting the distribution for 50 bins\n",
        "sns.histplot(df.age,bins=50,kde=True)"
      ],
      "execution_count": 20,
      "outputs": [
        {
          "output_type": "execute_result",
          "data": {
            "text/plain": [
              "<matplotlib.axes._subplots.AxesSubplot at 0x7f8af21e2410>"
            ]
          },
          "metadata": {},
          "execution_count": 20
        },
        {
          "output_type": "display_data",
          "data": {
            "image/png": "[encoded data removed]",
            "text/plain": [
              "<Figure size 432x288 with 1 Axes>"
            ]
          },
          "metadata": {
            "needs_background": "light"
          }
        }
      ]
    },
    {
      "cell_type": "markdown",
      "metadata": {
        "id": "zS10APF7bko-"
      },
      "source": [
        "##Ans 5 :\n",
        "\n",
        "The KDE option is useful for visualizing the distribution of the datapoints in the dataframe. It represents the data by using a continous probability curve."
      ]
    },
    {
      "cell_type": "markdown",
      "metadata": {
        "id": "8xKjL5RhK17_"
      },
      "source": [
        "##Ans 6 (Pandas based histograms below)\n",
        "\n",
        "\n",
        "Bin Size for default : 43.8\n",
        "\n",
        "Bin Size for 20 : 21.9\n",
        "\n",
        "Bin Size for 50 : 8.76\n",
        "\n",
        "Bin Size for 100 : 4.38\n",
        "\n",
        "Bin Size for 200 : 2.19\n",
        "\n",
        "Bin Size for 500 : 0.876\n",
        "\n"
      ]
    },
    {
      "cell_type": "code",
      "metadata": {
        "id": "Gch0Uw-OQsw7",
        "colab": {
          "base_uri": "https://localhost:8080/",
          "height": 1000
        },
        "outputId": "5b4c2c44-13d1-4227-ab59-9cf5f1cbf075"
      },
      "source": [
        "#[R] What is the KDE option useful for in histplot()? Explain the details.\n",
        "\n",
        "print('The KDE option is useful for visualizing the distribution of the datapoints in the dataframe. It represents the data by using a continous probability curve.\\n\\n')\n",
        "\n",
        "#[R] Plot pandas based histogram and seaborn based histogram for serum_cholesterol attribute. Use bin sizes from {default, 20, 50, 100, 200, 500}. For seaborn, use KDE. Report the observations. \n",
        "\n",
        "df.hist(column = 'serum_cholesterol')\n",
        "print('Bin Size for default :',(df['serum_cholesterol'].max()-df['serum_cholesterol'].min())/10)\n",
        "\n",
        "for i in [20,50,100,200,500]:\n",
        "  df.hist(column = 'serum_cholesterol', bins = i)\n",
        "  print('Bin Size for',i,':',(df['serum_cholesterol'].max()-df['serum_cholesterol'].min())/i)\n"
      ],
      "execution_count": 21,
      "outputs": [
        {
          "output_type": "stream",
          "name": "stdout",
          "text": [
            "The KDE option is useful for visualizing the distribution of the datapoints in the dataframe. It represents the data by using a continous probability curve.\n",
            "\n",
            "\n",
            "Bin Size for default : 43.8\n",
            "Bin Size for 20 : 21.9\n",
            "Bin Size for 50 : 8.76\n",
            "Bin Size for 100 : 4.38\n",
            "Bin Size for 200 : 2.19\n",
            "Bin Size for 500 : 0.876\n"
          ]
        },
        {
          "output_type": "display_data",
          "data": {
            "image/png": "[encoded data removed]",
            "text/plain": [
              "<Figure size 432x288 with 1 Axes>"
            ]
          },
          "metadata": {
            "needs_background": "light"
          }
        },
        {
          "output_type": "display_data",
          "data": {
            "image/png": "[encoded data removed]",
            "text/plain": [
              "<Figure size 432x288 with 1 Axes>"
            ]
          },
          "metadata": {
            "needs_background": "light"
          }
        },
        {
          "output_type": "display_data",
          "data": {
            "image/png": "[encoded data removed]",
            "text/plain": [
              "<Figure size 432x288 with 1 Axes>"
            ]
          },
          "metadata": {
            "needs_background": "light"
          }
        },
        {
          "output_type": "display_data",
          "data": {
            "image/png": "[encoded data removed]",
            "text/plain": [
              "<Figure size 432x288 with 1 Axes>"
            ]
          },
          "metadata": {
            "needs_background": "light"
          }
        },
        {
          "output_type": "display_data",
          "data": {
            "image/png": "[encoded data removed]",
            "text/plain": [
              "<Figure size 432x288 with 1 Axes>"
            ]
          },
          "metadata": {
            "needs_background": "light"
          }
        },
        {
          "output_type": "display_data",
          "data": {
            "image/png": "[encoded data removed]",
            "text/plain": [
              "<Figure size 432x288 with 1 Axes>"
            ]
          },
          "metadata": {
            "needs_background": "light"
          }
        }
      ]
    },
    {
      "cell_type": "markdown",
      "metadata": {
        "id": "mGnK72o4buZH"
      },
      "source": [
        "##Ans 6 : SeaBorn based histogram for default no of bins"
      ]
    },
    {
      "cell_type": "code",
      "metadata": {
        "colab": {
          "base_uri": "https://localhost:8080/",
          "height": 298
        },
        "id": "SQiPqCH3D2C7",
        "outputId": "211b95bf-36a2-490f-c8fb-f1c032e1d14e"
      },
      "source": [
        "sns.histplot(df.serum_cholesterol,kde=True)"
      ],
      "execution_count": 22,
      "outputs": [
        {
          "output_type": "execute_result",
          "data": {
            "text/plain": [
              "<matplotlib.axes._subplots.AxesSubplot at 0x7f8ae0b586d0>"
            ]
          },
          "metadata": {},
          "execution_count": 22
        },
        {
          "output_type": "display_data",
          "data": {
            "image/png": "[encoded data removed]",
            "text/plain": [
              "<Figure size 432x288 with 1 Axes>"
            ]
          },
          "metadata": {
            "needs_background": "light"
          }
        }
      ]
    },
    {
      "cell_type": "markdown",
      "metadata": {
        "id": "hM8ohwdUc8hO"
      },
      "source": [
        "##Ans 6 : SeaBorn based histogram for no of bins 20"
      ]
    },
    {
      "cell_type": "code",
      "metadata": {
        "colab": {
          "base_uri": "https://localhost:8080/",
          "height": 298
        },
        "id": "MQ9bhLXTD7M4",
        "outputId": "7622d163-be3e-4af2-dc8b-e071fa527404"
      },
      "source": [
        "sns.histplot(df.serum_cholesterol,bins=20,kde=True)"
      ],
      "execution_count": 23,
      "outputs": [
        {
          "output_type": "execute_result",
          "data": {
            "text/plain": [
              "<matplotlib.axes._subplots.AxesSubplot at 0x7f8adff2c410>"
            ]
          },
          "metadata": {},
          "execution_count": 23
        },
        {
          "output_type": "display_data",
          "data": {
            "image/png": "[encoded data removed]",
            "text/plain": [
              "<Figure size 432x288 with 1 Axes>"
            ]
          },
          "metadata": {
            "needs_background": "light"
          }
        }
      ]
    },
    {
      "cell_type": "markdown",
      "metadata": {
        "id": "ANzaHfCWc-39"
      },
      "source": [
        "##Ans 6 : SeaBorn based histogram for no of bins 50"
      ]
    },
    {
      "cell_type": "code",
      "metadata": {
        "colab": {
          "base_uri": "https://localhost:8080/",
          "height": 301
        },
        "id": "OXbS4LyRECoM",
        "outputId": "f8cc75b5-7d96-48e7-c57c-752b28bd42d3"
      },
      "source": [
        "sns.histplot(df.serum_cholesterol,bins=50,kde=True)"
      ],
      "execution_count": 24,
      "outputs": [
        {
          "output_type": "execute_result",
          "data": {
            "text/plain": [
              "<matplotlib.axes._subplots.AxesSubplot at 0x7f8ae009cf10>"
            ]
          },
          "metadata": {},
          "execution_count": 24
        },
        {
          "output_type": "display_data",
          "data": {
            "image/png": "[encoded data removed]",
            "text/plain": [
              "<Figure size 432x288 with 1 Axes>"
            ]
          },
          "metadata": {
            "needs_background": "light"
          }
        }
      ]
    },
    {
      "cell_type": "markdown",
      "metadata": {
        "id": "6P2qu0kwdAle"
      },
      "source": [
        "##Ans 6 : SeaBorn based histogram for no of bins 100"
      ]
    },
    {
      "cell_type": "code",
      "metadata": {
        "id": "JtO2eBM2ERf-",
        "colab": {
          "base_uri": "https://localhost:8080/",
          "height": 298
        },
        "outputId": "452d5fd4-3952-4011-9d7f-41305c5c96f7"
      },
      "source": [
        "sns.histplot(df.serum_cholesterol,bins=100,kde=True)"
      ],
      "execution_count": 25,
      "outputs": [
        {
          "output_type": "execute_result",
          "data": {
            "text/plain": [
              "<matplotlib.axes._subplots.AxesSubplot at 0x7f8adfdba650>"
            ]
          },
          "metadata": {},
          "execution_count": 25
        },
        {
          "output_type": "display_data",
          "data": {
            "image/png": "[encoded data removed]",
            "text/plain": [
              "<Figure size 432x288 with 1 Axes>"
            ]
          },
          "metadata": {
            "needs_background": "light"
          }
        }
      ]
    },
    {
      "cell_type": "markdown",
      "metadata": {
        "id": "AmV8OJ8JdCmb"
      },
      "source": [
        "##Ans 6 : SeaBorn based histogram for no of bins 200"
      ]
    },
    {
      "cell_type": "code",
      "metadata": {
        "id": "kHLgA5DmEU6-",
        "colab": {
          "base_uri": "https://localhost:8080/",
          "height": 298
        },
        "outputId": "8e67b91a-cd93-4e6d-b00c-53c321ca6418"
      },
      "source": [
        "sns.histplot(df.serum_cholesterol,bins=200,kde=True)"
      ],
      "execution_count": 26,
      "outputs": [
        {
          "output_type": "execute_result",
          "data": {
            "text/plain": [
              "<matplotlib.axes._subplots.AxesSubplot at 0x7f8adfbbf950>"
            ]
          },
          "metadata": {},
          "execution_count": 26
        },
        {
          "output_type": "display_data",
          "data": {
            "image/png": "[encoded data removed]",
            "text/plain": [
              "<Figure size 432x288 with 1 Axes>"
            ]
          },
          "metadata": {
            "needs_background": "light"
          }
        }
      ]
    },
    {
      "cell_type": "markdown",
      "metadata": {
        "id": "E6jxR7jjdEJo"
      },
      "source": [
        "##Ans 6 : SeaBorn based histogram for no of bins 500"
      ]
    },
    {
      "cell_type": "code",
      "metadata": {
        "colab": {
          "base_uri": "https://localhost:8080/",
          "height": 298
        },
        "id": "NFerPM5UaRWs",
        "outputId": "04d5a6d2-d1a4-4f02-e640-fde1f3bf716e"
      },
      "source": [
        "sns.histplot(df.serum_cholesterol,bins=500,kde=True)"
      ],
      "execution_count": 27,
      "outputs": [
        {
          "output_type": "execute_result",
          "data": {
            "text/plain": [
              "<matplotlib.axes._subplots.AxesSubplot at 0x7f8adf8f1390>"
            ]
          },
          "metadata": {},
          "execution_count": 27
        },
        {
          "output_type": "display_data",
          "data": {
            "image/png": "[encoded data removed]",
            "text/plain": [
              "<Figure size 432x288 with 1 Axes>"
            ]
          },
          "metadata": {
            "needs_background": "light"
          }
        }
      ]
    },
    {
      "cell_type": "markdown",
      "metadata": {
        "id": "52xFPh-nLuU9"
      },
      "source": [
        "##Ans 6 (Observations)\n",
        "\n",
        "We can see that the probability distribution curve constricts down as the no of bins increases in the seaborn based histogram."
      ]
    },
    {
      "cell_type": "code",
      "metadata": {
        "colab": {
          "base_uri": "https://localhost:8080/",
          "height": 298
        },
        "id": "RXirg_iN12wY",
        "outputId": "83501feb-e79a-4d6e-ce56-45987d434ddf"
      },
      "source": [
        "#We can also plot the summary statistics like mean and median in the histogram plots\n",
        "#For this we will need pyplot from matplotlib\n",
        "import matplotlib.pyplot as plt\n",
        "import numpy as np\n",
        "sns.histplot(df.serum_cholesterol, bins=100)\n",
        "plt.axvline(x=np.mean(df.serum_cholesterol),color='red',label='mean')\n",
        "plt.axvline(x=np.median(df.serum_cholesterol),color='magenta',label='median')\n",
        "plt.legend(loc='upper right')"
      ],
      "execution_count": 28,
      "outputs": [
        {
          "output_type": "execute_result",
          "data": {
            "text/plain": [
              "<matplotlib.legend.Legend at 0x7f8ae02a8590>"
            ]
          },
          "metadata": {},
          "execution_count": 28
        },
        {
          "output_type": "display_data",
          "data": {
            "image/png": "[encoded data removed]",
            "text/plain": [
              "<Figure size 432x288 with 1 Axes>"
            ]
          },
          "metadata": {
            "needs_background": "light"
          }
        }
      ]
    },
    {
      "cell_type": "markdown",
      "metadata": {
        "id": "PFMDwRHbfSTP"
      },
      "source": [
        "##Ans 7"
      ]
    },
    {
      "cell_type": "code",
      "metadata": {
        "id": "znBeEmb7FoHP",
        "colab": {
          "base_uri": "https://localhost:8080/",
          "height": 298
        },
        "outputId": "f0cc52bb-3e46-428a-9476-5574b1fcd13e"
      },
      "source": [
        "#[R] Add to the above plot containing mean and median, the vertical lines to represent the 25 percentile and 75 percentile values in the serum_cholesterol attribute. Use different colors and appropriate legend.\n",
        "sns.histplot(df.serum_cholesterol, bins=100)\n",
        "plt.axvline(x=np.mean(df.serum_cholesterol),color='red',label='mean')\n",
        "plt.axvline(x=np.median(df.serum_cholesterol),color='magenta',label='median')\n",
        "plt.axvline(x=np.percentile(df.serum_cholesterol,25),color='blue',label='25th percentile')\n",
        "plt.axvline(x=np.percentile(df.serum_cholesterol,75),color='green',label='75th percentile')\n",
        "plt.legend(loc='upper right')"
      ],
      "execution_count": 29,
      "outputs": [
        {
          "output_type": "execute_result",
          "data": {
            "text/plain": [
              "<matplotlib.legend.Legend at 0x7f8ae0364c10>"
            ]
          },
          "metadata": {},
          "execution_count": 29
        },
        {
          "output_type": "display_data",
          "data": {
            "image/png": "[encoded data removed]",
            "text/plain": [
              "<Figure size 432x288 with 1 Axes>"
            ]
          },
          "metadata": {
            "needs_background": "light"
          }
        }
      ]
    },
    {
      "cell_type": "code",
      "metadata": {
        "id": "iiJp77ydSrlx"
      },
      "source": [
        "#Let us use bar plots now to understand about the data description\n",
        "#To do this let us first introduce new column to the data frame indicating the gender of patient\n",
        "df['gender'] = np.where(df['sex']==1.0,'male','female')"
      ],
      "execution_count": 30,
      "outputs": []
    },
    {
      "cell_type": "code",
      "metadata": {
        "colab": {
          "base_uri": "https://localhost:8080/",
          "height": 226
        },
        "id": "kTWj0ewQVEkk",
        "outputId": "58542db6-b31f-4f97-9b53-24bf6061f9ee"
      },
      "source": [
        "df.head()\n",
        "#check the last column "
      ],
      "execution_count": 31,
      "outputs": [
        {
          "output_type": "execute_result",
          "data": {
            "text/html": [
              "<div>\n",
              "<style scoped>\n",
              "    .dataframe tbody tr th:only-of-type {\n",
              "        vertical-align: middle;\n",
              "    }\n",
              "\n",
              "    .dataframe tbody tr th {\n",
              "        vertical-align: top;\n",
              "    }\n",
              "\n",
              "    .dataframe thead th {\n",
              "        text-align: right;\n",
              "    }\n",
              "</style>\n",
              "<table border=\"1\" class=\"dataframe\">\n",
              "  <thead>\n",
              "    <tr style=\"text-align: right;\">\n",
              "      <th></th>\n",
              "      <th>age</th>\n",
              "      <th>sex</th>\n",
              "      <th>chest_pain_type</th>\n",
              "      <th>rest_bp</th>\n",
              "      <th>serum_cholesterol</th>\n",
              "      <th>fastblood_sugar</th>\n",
              "      <th>rest_ecg</th>\n",
              "      <th>max_heartrate</th>\n",
              "      <th>exercise_angina</th>\n",
              "      <th>ST_depression_exercise_relativeto_rest</th>\n",
              "      <th>slope_peak_STsegment</th>\n",
              "      <th>num_major_vessels_fluroscopy</th>\n",
              "      <th>thal</th>\n",
              "      <th>heart_disease_status</th>\n",
              "      <th>gender</th>\n",
              "    </tr>\n",
              "  </thead>\n",
              "  <tbody>\n",
              "    <tr>\n",
              "      <th>0</th>\n",
              "      <td>63.0</td>\n",
              "      <td>1.0</td>\n",
              "      <td>1.0</td>\n",
              "      <td>145.0</td>\n",
              "      <td>233.0</td>\n",
              "      <td>1.0</td>\n",
              "      <td>2.0</td>\n",
              "      <td>150.0</td>\n",
              "      <td>0.0</td>\n",
              "      <td>2.3</td>\n",
              "      <td>3.0</td>\n",
              "      <td>0.0</td>\n",
              "      <td>6.0</td>\n",
              "      <td>0</td>\n",
              "      <td>male</td>\n",
              "    </tr>\n",
              "    <tr>\n",
              "      <th>1</th>\n",
              "      <td>67.0</td>\n",
              "      <td>1.0</td>\n",
              "      <td>4.0</td>\n",
              "      <td>160.0</td>\n",
              "      <td>286.0</td>\n",
              "      <td>0.0</td>\n",
              "      <td>2.0</td>\n",
              "      <td>108.0</td>\n",
              "      <td>1.0</td>\n",
              "      <td>1.5</td>\n",
              "      <td>2.0</td>\n",
              "      <td>3.0</td>\n",
              "      <td>3.0</td>\n",
              "      <td>2</td>\n",
              "      <td>male</td>\n",
              "    </tr>\n",
              "    <tr>\n",
              "      <th>2</th>\n",
              "      <td>67.0</td>\n",
              "      <td>1.0</td>\n",
              "      <td>4.0</td>\n",
              "      <td>120.0</td>\n",
              "      <td>229.0</td>\n",
              "      <td>0.0</td>\n",
              "      <td>2.0</td>\n",
              "      <td>129.0</td>\n",
              "      <td>1.0</td>\n",
              "      <td>2.6</td>\n",
              "      <td>2.0</td>\n",
              "      <td>2.0</td>\n",
              "      <td>7.0</td>\n",
              "      <td>1</td>\n",
              "      <td>male</td>\n",
              "    </tr>\n",
              "    <tr>\n",
              "      <th>3</th>\n",
              "      <td>37.0</td>\n",
              "      <td>1.0</td>\n",
              "      <td>3.0</td>\n",
              "      <td>130.0</td>\n",
              "      <td>250.0</td>\n",
              "      <td>0.0</td>\n",
              "      <td>0.0</td>\n",
              "      <td>187.0</td>\n",
              "      <td>0.0</td>\n",
              "      <td>3.5</td>\n",
              "      <td>3.0</td>\n",
              "      <td>0.0</td>\n",
              "      <td>3.0</td>\n",
              "      <td>0</td>\n",
              "      <td>male</td>\n",
              "    </tr>\n",
              "    <tr>\n",
              "      <th>4</th>\n",
              "      <td>41.0</td>\n",
              "      <td>0.0</td>\n",
              "      <td>2.0</td>\n",
              "      <td>130.0</td>\n",
              "      <td>204.0</td>\n",
              "      <td>0.0</td>\n",
              "      <td>2.0</td>\n",
              "      <td>172.0</td>\n",
              "      <td>0.0</td>\n",
              "      <td>1.4</td>\n",
              "      <td>1.0</td>\n",
              "      <td>0.0</td>\n",
              "      <td>3.0</td>\n",
              "      <td>0</td>\n",
              "      <td>female</td>\n",
              "    </tr>\n",
              "  </tbody>\n",
              "</table>\n",
              "</div>"
            ],
            "text/plain": [
              "    age  sex  chest_pain_type  ...  thal  heart_disease_status  gender\n",
              "0  63.0  1.0              1.0  ...   6.0                     0    male\n",
              "1  67.0  1.0              4.0  ...   3.0                     2    male\n",
              "2  67.0  1.0              4.0  ...   7.0                     1    male\n",
              "3  37.0  1.0              3.0  ...   3.0                     0    male\n",
              "4  41.0  0.0              2.0  ...   3.0                     0  female\n",
              "\n",
              "[5 rows x 15 columns]"
            ]
          },
          "metadata": {},
          "execution_count": 31
        }
      ]
    },
    {
      "cell_type": "code",
      "metadata": {
        "id": "1gymdlNHVIlM"
      },
      "source": [
        "gender_counts = pd.crosstab(index=df.gender, columns='count')"
      ],
      "execution_count": 32,
      "outputs": []
    },
    {
      "cell_type": "code",
      "metadata": {
        "colab": {
          "base_uri": "https://localhost:8080/",
          "height": 143
        },
        "id": "4FEO6prSV_hC",
        "outputId": "85ab7774-61f9-4740-e13d-a1c7617fc808"
      },
      "source": [
        "gender_counts"
      ],
      "execution_count": 33,
      "outputs": [
        {
          "output_type": "execute_result",
          "data": {
            "text/html": [
              "<div>\n",
              "<style scoped>\n",
              "    .dataframe tbody tr th:only-of-type {\n",
              "        vertical-align: middle;\n",
              "    }\n",
              "\n",
              "    .dataframe tbody tr th {\n",
              "        vertical-align: top;\n",
              "    }\n",
              "\n",
              "    .dataframe thead th {\n",
              "        text-align: right;\n",
              "    }\n",
              "</style>\n",
              "<table border=\"1\" class=\"dataframe\">\n",
              "  <thead>\n",
              "    <tr style=\"text-align: right;\">\n",
              "      <th>col_0</th>\n",
              "      <th>count</th>\n",
              "    </tr>\n",
              "    <tr>\n",
              "      <th>gender</th>\n",
              "      <th></th>\n",
              "    </tr>\n",
              "  </thead>\n",
              "  <tbody>\n",
              "    <tr>\n",
              "      <th>female</th>\n",
              "      <td>97</td>\n",
              "    </tr>\n",
              "    <tr>\n",
              "      <th>male</th>\n",
              "      <td>206</td>\n",
              "    </tr>\n",
              "  </tbody>\n",
              "</table>\n",
              "</div>"
            ],
            "text/plain": [
              "col_0   count\n",
              "gender       \n",
              "female     97\n",
              "male      206"
            ]
          },
          "metadata": {},
          "execution_count": 33
        }
      ]
    },
    {
      "cell_type": "code",
      "metadata": {
        "colab": {
          "base_uri": "https://localhost:8080/",
          "height": 322
        },
        "id": "cL0MUH0jWC61",
        "outputId": "be74b477-d2d9-4772-838b-eced1dd9b492"
      },
      "source": [
        "gender_counts.plot(kind='bar')"
      ],
      "execution_count": 34,
      "outputs": [
        {
          "output_type": "execute_result",
          "data": {
            "text/plain": [
              "<matplotlib.axes._subplots.AxesSubplot at 0x7f8ae08bbcd0>"
            ]
          },
          "metadata": {},
          "execution_count": 34
        },
        {
          "output_type": "display_data",
          "data": {
            "image/png": "[encoded data removed]",
            "text/plain": [
              "<Figure size 432x288 with 1 Axes>"
            ]
          },
          "metadata": {
            "needs_background": "light"
          }
        }
      ]
    },
    {
      "cell_type": "code",
      "metadata": {
        "colab": {
          "base_uri": "https://localhost:8080/",
          "height": 387
        },
        "id": "tKeNeGYpWIqi",
        "outputId": "001b06b8-9a35-4342-83ba-a2857ac5b76e"
      },
      "source": [
        "#A relatively easy way for plotting the bar plots is given using seaborn\n",
        "sns.catplot(x=\"gender\",data=df,kind='count')"
      ],
      "execution_count": 35,
      "outputs": [
        {
          "output_type": "execute_result",
          "data": {
            "text/plain": [
              "<seaborn.axisgrid.FacetGrid at 0x7f8ae0984990>"
            ]
          },
          "metadata": {},
          "execution_count": 35
        },
        {
          "output_type": "display_data",
          "data": {
            "image/png": "[encoded data removed]",
            "text/plain": [
              "<Figure size 360x360 with 1 Axes>"
            ]
          },
          "metadata": {
            "needs_background": "light"
          }
        }
      ]
    },
    {
      "cell_type": "code",
      "metadata": {
        "colab": {
          "base_uri": "https://localhost:8080/",
          "height": 387
        },
        "id": "lj0JpT8I_axV",
        "outputId": "792dd36d-6e9e-4f0c-ffd7-84e5a447c787"
      },
      "source": [
        "sns.catplot(x=\"chest_pain_type\",data=df,kind='count')"
      ],
      "execution_count": 36,
      "outputs": [
        {
          "output_type": "execute_result",
          "data": {
            "text/plain": [
              "<seaborn.axisgrid.FacetGrid at 0x7f8af2250c90>"
            ]
          },
          "metadata": {},
          "execution_count": 36
        },
        {
          "output_type": "display_data",
          "data": {
            "image/png": "[encoded data removed]",
            "text/plain": [
              "<Figure size 360x360 with 1 Axes>"
            ]
          },
          "metadata": {
            "needs_background": "light"
          }
        }
      ]
    },
    {
      "cell_type": "code",
      "metadata": {
        "colab": {
          "base_uri": "https://localhost:8080/",
          "height": 297
        },
        "id": "t9CPOTEZWfJK",
        "outputId": "7bec06b7-1873-4b01-da06-17c4a32d6ce6"
      },
      "source": [
        "#Let us plot the bar plot for gender vs serum_cholesterol \n",
        "sns.barplot(x=\"gender\",y=\"serum_cholesterol\",data=df)\n",
        "#What does the plot describe? What are the vertical bars in each bar? "
      ],
      "execution_count": 37,
      "outputs": [
        {
          "output_type": "execute_result",
          "data": {
            "text/plain": [
              "<matplotlib.axes._subplots.AxesSubplot at 0x7f8ae0503590>"
            ]
          },
          "metadata": {},
          "execution_count": 37
        },
        {
          "output_type": "display_data",
          "data": {
            "image/png": "[encoded data removed]",
            "text/plain": [
              "<Figure size 432x288 with 1 Axes>"
            ]
          },
          "metadata": {
            "needs_background": "light"
          }
        }
      ]
    },
    {
      "cell_type": "markdown",
      "metadata": {
        "id": "NnYWaetasakd"
      },
      "source": [
        "##Ans 8"
      ]
    },
    {
      "cell_type": "code",
      "metadata": {
        "id": "AGXuk3KqZBsE",
        "colab": {
          "base_uri": "https://localhost:8080/",
          "height": 297
        },
        "outputId": "a0806fba-8a13-47c2-c82f-0b4ff4dadb1a"
      },
      "source": [
        "#[R} Change the order in the bar plots from male, female to female, male\n",
        "sns.barplot(x=\"gender\",y=\"serum_cholesterol\",data=df,order = ['female','male'])"
      ],
      "execution_count": 38,
      "outputs": [
        {
          "output_type": "execute_result",
          "data": {
            "text/plain": [
              "<matplotlib.axes._subplots.AxesSubplot at 0x7f8ae0ab38d0>"
            ]
          },
          "metadata": {},
          "execution_count": 38
        },
        {
          "output_type": "display_data",
          "data": {
            "image/png": "[encoded data removed]",
            "text/plain": [
              "<Figure size 432x288 with 1 Axes>"
            ]
          },
          "metadata": {
            "needs_background": "light"
          }
        }
      ]
    },
    {
      "cell_type": "markdown",
      "metadata": {
        "id": "K7WrwpJGuj26"
      },
      "source": [
        "##Ans 9 :\n",
        "\n",
        "The difference can be seen in the error bars can be seen as when no value for estimator is given it accounts the mean\n",
        "to calculate error bars, whereas when median is given as estimator, it accounts that."
      ]
    },
    {
      "cell_type": "code",
      "metadata": {
        "colab": {
          "base_uri": "https://localhost:8080/",
          "height": 316
        },
        "id": "t4XIEaVHZj8s",
        "outputId": "7886b641-4f9d-4c2f-bb99-d28e6dfe5614"
      },
      "source": [
        "#Let us try the barplot with a different option\n",
        "sns.barplot(x=\"gender\",y=\"serum_cholesterol\",data=df,estimator=np.median)\n",
        "#[R} Explain the difference between the plot obtained below using the median estimator and the plot obtained above.\n",
        "\n",
        "print(\"The difference can be seen in the error bars, when no value for estimator it accounts the mean\\nto calculate error bars, whereas when median is given as estimator, it accounts that.\")"
      ],
      "execution_count": 39,
      "outputs": [
        {
          "output_type": "stream",
          "name": "stdout",
          "text": [
            "The difference can be seen in the error bars, when no value for estimator it accounts the mean\n",
            "to calculate error bars, whereas when median is given as estimator, it accounts that.\n"
          ]
        },
        {
          "output_type": "display_data",
          "data": {
            "image/png": "[encoded data removed]",
            "text/plain": [
              "<Figure size 432x288 with 1 Axes>"
            ]
          },
          "metadata": {
            "needs_background": "light"
          }
        }
      ]
    },
    {
      "cell_type": "markdown",
      "metadata": {
        "id": "hOCFGMpEvL4c"
      },
      "source": [
        "##Ans 10 :\n",
        "\n",
        "We can observe which chest pain types are prevalent in what gender.\n",
        "We can also see there's an increasing order in the frequencies of chest pain types in females."
      ]
    },
    {
      "cell_type": "code",
      "metadata": {
        "colab": {
          "base_uri": "https://localhost:8080/",
          "height": 319
        },
        "id": "E7RNYJrFZt2e",
        "outputId": "0f8ff322-d490-4d48-85b8-52acb680ecf1"
      },
      "source": [
        "#We can create bar plots with even more fine-grained grouping\n",
        "#Let us group according to chest_pain_type\n",
        "sns.barplot(x=\"gender\",y=\"serum_cholesterol\",hue=\"chest_pain_type\",data=df)\n",
        "#[R} Explain the observations from the plot.\n",
        "\n",
        "print(\"We can observe which chest pain types are prevalent in what gender.\\nWe can also see there's an increasing order in the frequencies of chest pain types in females.\")"
      ],
      "execution_count": 40,
      "outputs": [
        {
          "output_type": "stream",
          "name": "stdout",
          "text": [
            "We can observe which chest pain types are prevalent in what gender.\n",
            "We can also see there's an increasing order in the frequencies of chest pain types in females.\n"
          ]
        },
        {
          "output_type": "display_data",
          "data": {
            "image/png": "[encoded data removed]",
            "text/plain": [
              "<Figure size 432x288 with 1 Axes>"
            ]
          },
          "metadata": {
            "needs_background": "light"
          }
        }
      ]
    },
    {
      "cell_type": "code",
      "metadata": {
        "colab": {
          "base_uri": "https://localhost:8080/",
          "height": 298
        },
        "id": "exFqLJdEbnUv",
        "outputId": "20f532ad-3d79-451f-e876-f5e3fbd9bf22"
      },
      "source": [
        "#We can adjust the positioning of the legend. \n",
        "ax = sns.barplot(x=\"gender\",y=\"serum_cholesterol\",hue=\"chest_pain_type\",data=df)\n",
        "ax.legend(loc='upper left', ncol=4)"
      ],
      "execution_count": 41,
      "outputs": [
        {
          "output_type": "execute_result",
          "data": {
            "text/plain": [
              "<matplotlib.legend.Legend at 0x7f8ae0ab3690>"
            ]
          },
          "metadata": {},
          "execution_count": 41
        },
        {
          "output_type": "display_data",
          "data": {
            "image/png": "[encoded data removed]",
            "text/plain": [
              "<Figure size 432x288 with 1 Axes>"
            ]
          },
          "metadata": {
            "needs_background": "light"
          }
        }
      ]
    },
    {
      "cell_type": "code",
      "metadata": {
        "colab": {
          "base_uri": "https://localhost:8080/",
          "height": 303
        },
        "id": "9m1LcwwEexiK",
        "outputId": "26de6ee3-2875-4f29-b878-f1e7be0f47d1"
      },
      "source": [
        "#We can adjust the positioning of the legend. \n",
        "ax = sns.barplot(x=\"gender\",y=\"serum_cholesterol\",hue=\"chest_pain_type\",data=df)\n",
        "ax.legend(loc='upper left', ncol=4)\n",
        "ax.set_xlabel(\"Gender\",fontsize=15)\n",
        "ax.set_ylabel(\"Serum Cholesterol\",fontsize=15)"
      ],
      "execution_count": 42,
      "outputs": [
        {
          "output_type": "execute_result",
          "data": {
            "text/plain": [
              "Text(0, 0.5, 'Serum Cholesterol')"
            ]
          },
          "metadata": {},
          "execution_count": 42
        },
        {
          "output_type": "display_data",
          "data": {
            "image/png": "[encoded data removed]",
            "text/plain": [
              "<Figure size 432x288 with 1 Axes>"
            ]
          },
          "metadata": {
            "needs_background": "light"
          }
        }
      ]
    },
    {
      "cell_type": "code",
      "metadata": {
        "colab": {
          "base_uri": "https://localhost:8080/",
          "height": 370
        },
        "id": "UMyEGZnEyd52",
        "outputId": "17d50267-1fb7-4b00-b039-87de55304a17"
      },
      "source": [
        "#We can also adjust the display effects of the labels on axes\n",
        "ax = sns.barplot(x=\"gender\",y=\"serum_cholesterol\",hue=\"chest_pain_type\",data=df)\n",
        "ax.legend(loc='upper left', ncol=4)\n",
        "ax.set_xlabel(\"Gender\",fontsize=15,rotation=50)\n",
        "ax.set_ylabel(\"Serum Cholesterol\",fontsize=15)\n",
        "ax.set_xticklabels(ax.get_xticklabels(),fontsize=13,rotation=40)\n"
      ],
      "execution_count": 43,
      "outputs": [
        {
          "output_type": "execute_result",
          "data": {
            "text/plain": [
              "[Text(0, 0, 'male'), Text(0, 0, 'female')]"
            ]
          },
          "metadata": {},
          "execution_count": 43
        },
        {
          "output_type": "display_data",
          "data": {
            "image/png": "[encoded data removed]",
            "text/plain": [
              "<Figure size 432x288 with 1 Axes>"
            ]
          },
          "metadata": {
            "needs_background": "light"
          }
        }
      ]
    },
    {
      "cell_type": "markdown",
      "metadata": {
        "id": "Z8hDcLi7BpJb"
      },
      "source": [
        "##Ans 11"
      ]
    },
    {
      "cell_type": "code",
      "metadata": {
        "id": "fyY2E0VdHBYD",
        "colab": {
          "base_uri": "https://localhost:8080/",
          "height": 417
        },
        "outputId": "f5b74945-f678-46b7-d1a8-860ee9f20995"
      },
      "source": [
        "#[R} Note that the chest_pain_type is numerical and hence is of less value in the plot above. \n",
        "# To make the plot more meaningful, insert a new column to the dataframe which contains the description according to the corresponding chest_pain_type code. \n",
        "# Name this column as chest_pain_type_description. \n",
        "# To fill the values in this chest_pain_type_description column, take the description for chest_pain_type from description file.  \n",
        "# Construct the above grouped bar plot where the grouping is now with respect to the textual description of the chest_pain_type. \n",
        "# Add an appropriate legend and display the legend in a position where the bar graphs are clearly visible.\n",
        "\n",
        "df['chest_pain_type_description'] = np.where(df['chest_pain_type']==1.0,'typical angina','atypical angina')\n",
        "\n",
        "cptype = [1.0,2.0,3.0,4.0]\n",
        "cptypedesc = ['typical angina','atypical angina','non-anginal pain','asymptomatic']\n",
        "for i in cptype:\n",
        "  for j in range(len(df)):\n",
        "    if df['chest_pain_type'][j] == i:\n",
        "      df['chest_pain_type_description'][j] = cptypedesc[int(i)-1]\n",
        "\n",
        "ax = sns.barplot(x=\"gender\",y=\"serum_cholesterol\",hue=\"chest_pain_type_description\",data=df)\n",
        "ax.legend(bbox_to_anchor=(1.05, 1.0), loc='upper left')\n",
        "ax.set_xlabel(\"Gender\",fontsize=15)\n",
        "ax.set_ylabel(\"Serum Cholesterol\",fontsize=15)\n"
      ],
      "execution_count": 44,
      "outputs": [
        {
          "output_type": "stream",
          "name": "stderr",
          "text": [
            "/usr/local/lib/python3.7/dist-packages/ipykernel_launcher.py:15: SettingWithCopyWarning: \n",
            "A value is trying to be set on a copy of a slice from a DataFrame\n",
            "\n",
            "See the caveats in the documentation: https://pandas.pydata.org/pandas-docs/stable/user_guide/indexing.html#returning-a-view-versus-a-copy\n",
            "  from ipykernel import kernelapp as app\n"
          ]
        },
        {
          "output_type": "execute_result",
          "data": {
            "text/plain": [
              "Text(0, 0.5, 'Serum Cholesterol')"
            ]
          },
          "metadata": {},
          "execution_count": 44
        },
        {
          "output_type": "display_data",
          "data": {
            "image/png": "[encoded data removed]",
            "text/plain": [
              "<Figure size 432x288 with 1 Axes>"
            ]
          },
          "metadata": {
            "needs_background": "light"
          }
        }
      ]
    },
    {
      "cell_type": "code",
      "metadata": {
        "colab": {
          "base_uri": "https://localhost:8080/",
          "height": 389
        },
        "id": "J9qPSoOmZiR2",
        "outputId": "086ffe23-40b0-4b18-d881-bd8a2c8a11dc"
      },
      "source": [
        "#We can work with the different components of the bar plot if we want to process them individually\n",
        "#We will consider the bar plot based on gender vs serum_cholesterol\n",
        "plot = sns.barplot(x=\"gender\",y=\"serum_cholesterol\",data=df)\n",
        "\n",
        "#plot has bars which can be obtained from plot.patches\n",
        "for patch in plot.patches:\n",
        "  print('patch height:',patch.get_height())\n",
        "  print('patch width:',patch.get_width())\n",
        "  print('patch x:',patch.get_x(), 'patch y:',patch.get_y())\n",
        "  \n"
      ],
      "execution_count": 45,
      "outputs": [
        {
          "output_type": "stream",
          "name": "stdout",
          "text": [
            "patch height: 239.60194174757282\n",
            "patch width: 0.8\n",
            "patch x: -0.4 patch y: 0\n",
            "patch height: 261.7525773195876\n",
            "patch width: 0.8\n",
            "patch x: 0.6 patch y: 0\n"
          ]
        },
        {
          "output_type": "display_data",
          "data": {
            "image/png": "[encoded data removed]",
            "text/plain": [
              "<Figure size 432x288 with 1 Axes>"
            ]
          },
          "metadata": {
            "needs_background": "light"
          }
        }
      ]
    },
    {
      "cell_type": "code",
      "metadata": {
        "colab": {
          "base_uri": "https://localhost:8080/",
          "height": 426
        },
        "id": "OJN3uCPuZ6zd",
        "outputId": "c4077d6c-9f97-4c05-a0d2-270589aa10ec"
      },
      "source": [
        "#We can work with the different components of the bar plot if we want to process them individually\n",
        "#We will consider the bar plot based on gender vs serum_cholesterol\n",
        "plot = sns.barplot(x=\"gender\",y=\"serum_cholesterol\",data=df)\n",
        "\n",
        "#plot has error lines which can be obtained from plot.lines\n",
        "for line in plot.lines:\n",
        "  print(line.get_ydata())\n",
        "  print(line.get_xdata())\n",
        "  print(line.get_xydata())\n"
      ],
      "execution_count": 46,
      "outputs": [
        {
          "output_type": "stream",
          "name": "stdout",
          "text": [
            "[234.00230583 245.30242718]\n",
            "[0 0]\n",
            "[[  0.         234.00230583]\n",
            " [  0.         245.30242718]]\n",
            "[248.73170103 275.3       ]\n",
            "[1 1]\n",
            "[[  1.         248.73170103]\n",
            " [  1.         275.3       ]]\n"
          ]
        },
        {
          "output_type": "display_data",
          "data": {
            "image/png": "[encoded data removed]",
            "text/plain": [
              "<Figure size 432x288 with 1 Axes>"
            ]
          },
          "metadata": {
            "needs_background": "light"
          }
        }
      ]
    },
    {
      "cell_type": "code",
      "metadata": {
        "colab": {
          "base_uri": "https://localhost:8080/",
          "height": 279
        },
        "id": "IxPEbAH329Co",
        "outputId": "21cfad2e-e96c-48c3-c456-579e9316faae"
      },
      "source": [
        "#we can also use annotations for bar plots\n",
        "#We will consider the bar plot based on gender vs serum_cholesterol\n",
        "plot = sns.barplot(x=\"gender\",y=\"serum_cholesterol\",data=df)\n",
        "  \n",
        "\n",
        "for p,line in zip(plot.patches, plot.lines):\n",
        "    plot.annotate(format(p.get_height(),'.1f'), \n",
        "                   (p.get_x() + p.get_width() / 2., line.get_ydata()[1]), \n",
        "                   ha = 'center', va = 'top', \n",
        "                   xytext = (0, 9), \n",
        "                   textcoords = 'offset points')\n",
        "#Try to find the meaning of the different arguments used in annotate function"
      ],
      "execution_count": 47,
      "outputs": [
        {
          "output_type": "display_data",
          "data": {
            "image/png": "[encoded data removed]",
            "text/plain": [
              "<Figure size 432x288 with 1 Axes>"
            ]
          },
          "metadata": {
            "needs_background": "light"
          }
        }
      ]
    },
    {
      "cell_type": "markdown",
      "metadata": {
        "id": "5pCsPnx2e9Hd"
      },
      "source": [
        "##Ans 12"
      ]
    },
    {
      "cell_type": "code",
      "metadata": {
        "id": "vcBvvQ0BIj6-",
        "colab": {
          "base_uri": "https://localhost:8080/",
          "height": 279
        },
        "outputId": "2a35e373-0eee-4b7e-b916-11807d7a0f0a"
      },
      "source": [
        "#[R] Add an appropriate annotation indicating the value of the upper boundary values of the bar plots in the gender vs serum_cholesterol bar plot grouped according to chest_pain_type attribute.\n",
        "plot = sns.barplot(x=\"gender\",y=\"serum_cholesterol\",data=df)\n",
        "\n",
        "for p,line in zip(plot.patches, plot.lines):\n",
        "    plot.annotate(format(line.get_ydata()[1],'.1f'), \n",
        "                   (p.get_x() + p.get_width() / 2., line.get_ydata()[1]), \n",
        "                   ha = 'center', va = 'top', \n",
        "                   xytext = (0, 9), \n",
        "                   textcoords = 'offset points')"
      ],
      "execution_count": 48,
      "outputs": [
        {
          "output_type": "display_data",
          "data": {
            "image/png": "[encoded data removed]",
            "text/plain": [
              "<Figure size 432x288 with 1 Axes>"
            ]
          },
          "metadata": {
            "needs_background": "light"
          }
        }
      ]
    },
    {
      "cell_type": "code",
      "metadata": {
        "colab": {
          "base_uri": "https://localhost:8080/",
          "height": 327
        },
        "id": "cJDoORjT07h8",
        "outputId": "632ac4ae-f5a8-40db-f00c-054ab2e8b200"
      },
      "source": [
        "import matplotlib.pyplot as plt\n",
        "#There are other ways to add annotations to bar plots \n",
        "#We will consider the bar plot based on gender vs serum_cholesterol\n",
        "plot = sns.barplot(x=\"gender\",y=\"serum_cholesterol\",data=df)\n",
        "\n",
        "x=plot.patches[0].get_x() + plot.patches[0].get_width() / 2.\n",
        "y=plot.lines[0].get_ydata()[1]\n",
        "plt.annotate('The average serum cholesterol\\n for men is lower!', xy=(x,y), xytext=(x+0.3,y+55.5), arrowprops=dict(facecolor='red'))"
      ],
      "execution_count": 49,
      "outputs": [
        {
          "output_type": "execute_result",
          "data": {
            "text/plain": [
              "Text(0.3, 300.7871359223301, 'The average serum cholesterol\\n for men is lower!')"
            ]
          },
          "metadata": {},
          "execution_count": 49
        },
        {
          "output_type": "display_data",
          "data": {
            "image/png": "[encoded data removed]",
            "text/plain": [
              "<Figure size 432x288 with 1 Axes>"
            ]
          },
          "metadata": {
            "needs_background": "light"
          }
        }
      ]
    },
    {
      "cell_type": "markdown",
      "metadata": {
        "id": "8dhJPHZWfiQr"
      },
      "source": [
        "##Ans 13"
      ]
    },
    {
      "cell_type": "code",
      "metadata": {
        "id": "nuyxgVPyIV-k",
        "colab": {
          "base_uri": "https://localhost:8080/",
          "height": 348
        },
        "outputId": "b9e64996-30af-4b65-8222-642643211ed5"
      },
      "source": [
        "#[R] Add an appropriate annotation with pointed arrows and with textual description in bar plot of gender vs serum_cholesterol bar plot grouped according to chest_pain_type attribute. \n",
        "# Color the arrow with a color other than red. \n",
        "\n",
        "plot = sns.barplot(x=\"gender\",y=\"serum_cholesterol\",data=df)\n",
        "\n",
        "x=plot.patches[1].get_x() + plot.patches[1].get_width() / 2.\n",
        "y=plot.lines[1].get_ydata()[1]\n",
        "plt.annotate('The average serum cholesterol\\n for women is higher!', xy=(x,y), xytext=(x+0.3,y+55.5), arrowprops=dict(facecolor='green'))"
      ],
      "execution_count": 50,
      "outputs": [
        {
          "output_type": "execute_result",
          "data": {
            "text/plain": [
              "Text(1.3, 330.92731958762886, 'The average serum cholesterol\\n for women is higher!')"
            ]
          },
          "metadata": {},
          "execution_count": 50
        },
        {
          "output_type": "display_data",
          "data": {
            "image/png": "[encoded data removed]",
            "text/plain": [
              "<Figure size 432x288 with 1 Axes>"
            ]
          },
          "metadata": {
            "needs_background": "light"
          }
        }
      ]
    },
    {
      "cell_type": "markdown",
      "metadata": {
        "id": "PYaYhjOugkbi"
      },
      "source": [
        "##Ans 14 :\n",
        "\n",
        "We can infer that mostly serum cholestrol level for all ages lies between 200 and 300, but for some cases it increases in ages above 50."
      ]
    },
    {
      "cell_type": "code",
      "metadata": {
        "colab": {
          "base_uri": "https://localhost:8080/",
          "height": 317
        },
        "id": "6XndL_wPkbDb",
        "outputId": "a9472574-7ad4-458c-8e5c-bf94967dff41"
      },
      "source": [
        "#To capture whether two attributes are correlated, one way is to use scatter plot\n",
        "#Let us try to see if age is related to serum_cholesterol\n",
        "\n",
        "sns.scatterplot(x=\"age\",y=\"serum_cholesterol\",data=df)\n",
        "#[R] Explain your observations from the scatter plot.\n",
        "\n",
        "print(\"We can infer that mostly serum cholestrol level for all ages lies between 200 and 300, but for some cases it increases in ages above 50.\")"
      ],
      "execution_count": 51,
      "outputs": [
        {
          "output_type": "stream",
          "name": "stdout",
          "text": [
            "We can infer that mostly serum cholestrol level for all ages lies between 200 and 300, but for some cases it increases in ages above 50.\n"
          ]
        },
        {
          "output_type": "display_data",
          "data": {
            "image/png": "[encoded data removed]",
            "text/plain": [
              "<Figure size 432x288 with 1 Axes>"
            ]
          },
          "metadata": {
            "needs_background": "light"
          }
        }
      ]
    },
    {
      "cell_type": "code",
      "metadata": {
        "colab": {
          "base_uri": "https://localhost:8080/",
          "height": 298
        },
        "id": "baePmT1-qdoq",
        "outputId": "3a616135-d174-4501-9202-1715efe9783b"
      },
      "source": [
        "#Let us plot the relation between chest_pain_type and serum_cholesterol\n",
        "\n",
        "sns.scatterplot(x=\"chest_pain_type\",y=\"serum_cholesterol\",data=df)"
      ],
      "execution_count": 52,
      "outputs": [
        {
          "output_type": "execute_result",
          "data": {
            "text/plain": [
              "<matplotlib.axes._subplots.AxesSubplot at 0x7f8ad6bd9210>"
            ]
          },
          "metadata": {},
          "execution_count": 52
        },
        {
          "output_type": "display_data",
          "data": {
            "image/png": "[encoded data removed]",
            "text/plain": [
              "<Figure size 432x288 with 1 Axes>"
            ]
          },
          "metadata": {
            "needs_background": "light"
          }
        }
      ]
    },
    {
      "cell_type": "code",
      "metadata": {
        "colab": {
          "base_uri": "https://localhost:8080/",
          "height": 297
        },
        "id": "KTT0La6PtkOD",
        "outputId": "722240ea-ba52-4c2f-fb47-05811edf8086"
      },
      "source": [
        "#We can also use lineplot to plot the relationship between variables\n",
        "sns.lineplot(x=\"age\",y=\"serum_cholesterol\",data=df)\n"
      ],
      "execution_count": 53,
      "outputs": [
        {
          "output_type": "execute_result",
          "data": {
            "text/plain": [
              "<matplotlib.axes._subplots.AxesSubplot at 0x7f8ad6b35710>"
            ]
          },
          "metadata": {},
          "execution_count": 53
        },
        {
          "output_type": "display_data",
          "data": {
            "image/png": "[encoded data removed]",
            "text/plain": [
              "<Figure size 432x288 with 1 Axes>"
            ]
          },
          "metadata": {
            "needs_background": "light"
          }
        }
      ]
    },
    {
      "cell_type": "markdown",
      "metadata": {
        "id": "HxwYeyZxhoG5"
      },
      "source": [
        "##Ans 15 :\n",
        "\n",
        "The light-colored bands shows the 95% confidence interval and the dark central line represents the mean."
      ]
    },
    {
      "cell_type": "code",
      "metadata": {
        "id": "v2zxQvxPvK8m",
        "colab": {
          "base_uri": "https://localhost:8080/"
        },
        "outputId": "76f5ea38-710d-458b-ecd4-5b6263477769"
      },
      "source": [
        "#[R] What do the light-colored bands and the dark central line indicate in the above line plot?\n",
        "\n",
        "print('The light-colored bands shows the 95% confidence interval and the dark central line represents the mean.')"
      ],
      "execution_count": 54,
      "outputs": [
        {
          "output_type": "stream",
          "name": "stdout",
          "text": [
            "The light-colored bands shows the 95% confidence interval and the dark central line represents the mean.\n"
          ]
        }
      ]
    },
    {
      "cell_type": "code",
      "metadata": {
        "colab": {
          "base_uri": "https://localhost:8080/",
          "height": 298
        },
        "id": "BSqIr__A3Tlf",
        "outputId": "373095c3-8e76-4240-d4de-d5901afb0a17"
      },
      "source": [
        "#We can use blox plots which would provide details about summary statistics \n",
        "sns.boxplot(x=\"chest_pain_type\",y=\"serum_cholesterol\",data=df)"
      ],
      "execution_count": 55,
      "outputs": [
        {
          "output_type": "execute_result",
          "data": {
            "text/plain": [
              "<matplotlib.axes._subplots.AxesSubplot at 0x7f8ad6b297d0>"
            ]
          },
          "metadata": {},
          "execution_count": 55
        },
        {
          "output_type": "display_data",
          "data": {
            "image/png": "[encoded data removed]",
            "text/plain": [
              "<Figure size 432x288 with 1 Axes>"
            ]
          },
          "metadata": {
            "needs_background": "light"
          }
        }
      ]
    },
    {
      "cell_type": "markdown",
      "metadata": {
        "id": "33fwLweRFKyW"
      },
      "source": [
        "##Ans 16 :\n",
        "\n",
        "The upper and lower boundaries of the box represent the 75th and 25th percentile respectively.\n",
        "\n",
        "The line inside the box indicates the median.\n",
        "\n",
        "The points marked beyond the error bars are the outliers."
      ]
    },
    {
      "cell_type": "code",
      "metadata": {
        "id": "bTO4ZV5j3dBt",
        "colab": {
          "base_uri": "https://localhost:8080/"
        },
        "outputId": "ac503cf2-28af-4990-b457-b6c82a6d70ba"
      },
      "source": [
        "#[R] What do the upper and lower boundaries of the box indicate? What does the line inside the box indicate? What are the points marked beyond the error bars?  Explain.\n",
        "\n",
        "print('The upper and lower boundaries of the box represent the 75th and 25th percentile respectively.')\n",
        "print('The line inside the box indicates the median.')\n",
        "print('The points marked beyond the error bars are the outliers.')"
      ],
      "execution_count": 56,
      "outputs": [
        {
          "output_type": "stream",
          "name": "stdout",
          "text": [
            "The upper and lower boundaries of the box represent the 75th and 25th percentile respectively.\n",
            "The line inside the box indicates the median.\n",
            "The points marked beyond the error bars are the outliers.\n"
          ]
        }
      ]
    },
    {
      "cell_type": "code",
      "metadata": {
        "colab": {
          "base_uri": "https://localhost:8080/",
          "height": 298
        },
        "id": "l-Pjz_DH3-_t",
        "outputId": "11bd190a-56e8-44e3-e092-bccd484fd25f"
      },
      "source": [
        "#We can also group the above box plots according to gender\n",
        "#recall \"hue\" in barplot\n",
        "sns.boxplot(x=\"chest_pain_type\",y=\"serum_cholesterol\",hue=\"gender\",data=df)"
      ],
      "execution_count": 57,
      "outputs": [
        {
          "output_type": "execute_result",
          "data": {
            "text/plain": [
              "<matplotlib.axes._subplots.AxesSubplot at 0x7f8ad6a3a090>"
            ]
          },
          "metadata": {},
          "execution_count": 57
        },
        {
          "output_type": "display_data",
          "data": {
            "image/png": "[encoded data removed]",
            "text/plain": [
              "<Figure size 432x288 with 1 Axes>"
            ]
          },
          "metadata": {
            "needs_background": "light"
          }
        }
      ]
    },
    {
      "cell_type": "markdown",
      "metadata": {
        "id": "ruC6z3ROGoPw"
      },
      "source": [
        "##Ans 17 :\n",
        "\n",
        "The IQR and the 75th percentile for the females are larger in chest pain type 2,3,4 in comparison to men."
      ]
    },
    {
      "cell_type": "code",
      "metadata": {
        "id": "nSBnnI944Fwu",
        "colab": {
          "base_uri": "https://localhost:8080/"
        },
        "outputId": "5e3fa26a-c2df-4381-ab87-79f4f051bc3c"
      },
      "source": [
        "#[R] Discuss the observations made from the previous box plot.\n",
        "\n",
        "print('The IQR and the 75th percentile for the females are larger in chest pain type 2,3,4 in comparison to men.')"
      ],
      "execution_count": 58,
      "outputs": [
        {
          "output_type": "stream",
          "name": "stdout",
          "text": [
            "The IQR and the 75th percentile for the females are larger in chest pain type 2,3,4 in comparison to men.\n"
          ]
        }
      ]
    },
    {
      "cell_type": "markdown",
      "metadata": {
        "id": "ZcZPR1_IHcni"
      },
      "source": [
        "##Ans 18 :\n",
        "\n",
        "(a) We can observe the median by the white dot, and the first and third quartile by the lower and upper boundary of the bold black line. We can also see that for chest pain type 3, we have the largest no of outliers."
      ]
    },
    {
      "cell_type": "code",
      "metadata": {
        "id": "sfd1vmEU4Y3O",
        "colab": {
          "base_uri": "https://localhost:8080/",
          "height": 337
        },
        "outputId": "6d7e9fca-2c1d-4761-f311-0178551be6f9"
      },
      "source": [
        "#[R] Use violinplot to plot the relationship between chest_pain_type and serum_cholesterol and discuss the observations. \n",
        "#[R] Can you group the violinplots based on gender information? If so, prepare the corresponding plots and discuss the observations.\n",
        "\n",
        "sns.violinplot(x=\"chest_pain_type\",y=\"serum_cholesterol\",data=df)\n",
        "\n",
        "print('We can observe the median by the white dot, and the first and third quartile by the lower and upper boundary of the bold black line.\\nWe can also see that for chest pain type 3, we have the largest no of outliers.')"
      ],
      "execution_count": 59,
      "outputs": [
        {
          "output_type": "stream",
          "name": "stdout",
          "text": [
            "We can observe the median by the white dot, and the first and third quartile by the lower and upper boundary of the bold black line.\n",
            "We can also see that for chest pain type 3, we have the largest no of outliers.\n"
          ]
        },
        {
          "output_type": "display_data",
          "data": {
            "image/png": "[encoded data removed]",
            "text/plain": [
              "<Figure size 432x288 with 1 Axes>"
            ]
          },
          "metadata": {
            "needs_background": "light"
          }
        }
      ]
    },
    {
      "cell_type": "markdown",
      "metadata": {
        "id": "dbmhex4CXRwj"
      },
      "source": [
        "#Ans 18 :\n",
        "\n",
        "(b)In the following violin plot, we can observe the median and the 25th and 75th quartile for men and women separately. We can also see that almost all of the outliers for chest pain type 3 are females.\n",
        "\n"
      ]
    },
    {
      "cell_type": "code",
      "metadata": {
        "colab": {
          "base_uri": "https://localhost:8080/",
          "height": 318
        },
        "id": "H8YG5e1fHTsN",
        "outputId": "8dd17974-1405-4d08-b9d7-913d2b4ac92d"
      },
      "source": [
        "sns.violinplot(x=\"chest_pain_type\",y=\"serum_cholesterol\",hue=\"gender\",data=df)\n",
        "\n",
        "print('In the following violin plot, we can observe the median and the 25th and 75th quartile for men and women separately. We can also see that almost all of the outliers for chest pain type 3 are females.')"
      ],
      "execution_count": 60,
      "outputs": [
        {
          "output_type": "stream",
          "name": "stdout",
          "text": [
            "In the following violin plot, we can observe the median and the 25th and 75th quartile for men and women separately. We can also see that almost all of the outliers for chest pain type 3 are females.\n"
          ]
        },
        {
          "output_type": "display_data",
          "data": {
            "image/png": "[encoded data removed]",
            "text/plain": [
              "<Figure size 432x288 with 1 Axes>"
            ]
          },
          "metadata": {
            "needs_background": "light"
          }
        }
      ]
    },
    {
      "cell_type": "code",
      "metadata": {
        "id": "D4ckHg0rHZpE"
      },
      "source": [
        ""
      ],
      "execution_count": 60,
      "outputs": []
    }
  ]
}