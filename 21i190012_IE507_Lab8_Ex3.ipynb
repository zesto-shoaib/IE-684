{
  "nbformat": 4,
  "nbformat_minor": 0,
  "metadata": {
    "colab": {
      "name": "21i190012_IE507_Lab8_Ex3.ipynb",
      "provenance": [],
      "collapsed_sections": []
    },
    "kernelspec": {
      "name": "python3",
      "display_name": "Python 3"
    },
    "language_info": {
      "name": "python"
    }
  },
  "cells": [
    {
      "cell_type": "code",
      "metadata": {
        "id": "bNXukiNVASwH"
      },
      "source": [
        "import pandas as pd\n",
        "import numpy as np"
      ],
      "execution_count": 1,
      "outputs": []
    },
    {
      "cell_type": "code",
      "metadata": {
        "id": "wHiMshFzj8my"
      },
      "source": [
        "df_1= pd.read_csv('f8.txt', delim_whitespace=True,index_col=None,header = None)"
      ],
      "execution_count": 2,
      "outputs": []
    },
    {
      "cell_type": "code",
      "metadata": {
        "colab": {
          "base_uri": "https://localhost:8080/",
          "height": 226
        },
        "id": "ITKZb4wbARWY",
        "outputId": "94af1950-0a26-4516-941c-afbe0fcb2819"
      },
      "source": [
        "df_1.head()"
      ],
      "execution_count": 3,
      "outputs": [
        {
          "output_type": "execute_result",
          "data": {
            "text/html": [
              "<div>\n",
              "<style scoped>\n",
              "    .dataframe tbody tr th:only-of-type {\n",
              "        vertical-align: middle;\n",
              "    }\n",
              "\n",
              "    .dataframe tbody tr th {\n",
              "        vertical-align: top;\n",
              "    }\n",
              "\n",
              "    .dataframe thead th {\n",
              "        text-align: right;\n",
              "    }\n",
              "</style>\n",
              "<table border=\"1\" class=\"dataframe\">\n",
              "  <thead>\n",
              "    <tr style=\"text-align: right;\">\n",
              "      <th></th>\n",
              "      <th>0</th>\n",
              "      <th>1</th>\n",
              "      <th>2</th>\n",
              "      <th>3</th>\n",
              "      <th>4</th>\n",
              "      <th>5</th>\n",
              "      <th>6</th>\n",
              "      <th>7</th>\n",
              "      <th>8</th>\n",
              "      <th>9</th>\n",
              "      <th>10</th>\n",
              "      <th>11</th>\n",
              "      <th>12</th>\n",
              "      <th>13</th>\n",
              "      <th>14</th>\n",
              "      <th>15</th>\n",
              "      <th>16</th>\n",
              "      <th>17</th>\n",
              "      <th>18</th>\n",
              "      <th>19</th>\n",
              "      <th>20</th>\n",
              "      <th>21</th>\n",
              "      <th>22</th>\n",
              "      <th>23</th>\n",
              "      <th>24</th>\n",
              "      <th>25</th>\n",
              "      <th>26</th>\n",
              "      <th>27</th>\n",
              "      <th>28</th>\n",
              "      <th>29</th>\n",
              "      <th>30</th>\n",
              "      <th>31</th>\n",
              "      <th>32</th>\n",
              "      <th>33</th>\n",
              "      <th>34</th>\n",
              "      <th>35</th>\n",
              "      <th>36</th>\n",
              "      <th>37</th>\n",
              "      <th>38</th>\n",
              "      <th>39</th>\n",
              "      <th>40</th>\n",
              "      <th>41</th>\n",
              "      <th>42</th>\n",
              "      <th>43</th>\n",
              "      <th>44</th>\n",
              "      <th>45</th>\n",
              "      <th>46</th>\n",
              "      <th>47</th>\n",
              "      <th>48</th>\n",
              "      <th>49</th>\n",
              "      <th>50</th>\n",
              "      <th>51</th>\n",
              "      <th>52</th>\n",
              "      <th>53</th>\n",
              "      <th>54</th>\n",
              "      <th>55</th>\n",
              "      <th>56</th>\n",
              "      <th>57</th>\n",
              "      <th>58</th>\n",
              "      <th>59</th>\n",
              "      <th>60</th>\n",
              "      <th>61</th>\n",
              "      <th>62</th>\n",
              "      <th>63</th>\n",
              "    </tr>\n",
              "  </thead>\n",
              "  <tbody>\n",
              "    <tr>\n",
              "      <th>0</th>\n",
              "      <td>165</td>\n",
              "      <td>96</td>\n",
              "      <td>188</td>\n",
              "      <td>122</td>\n",
              "      <td>151</td>\n",
              "      <td>55</td>\n",
              "      <td>74</td>\n",
              "      <td>81</td>\n",
              "      <td>101</td>\n",
              "      <td>117</td>\n",
              "      <td>205</td>\n",
              "      <td>38</td>\n",
              "      <td>200</td>\n",
              "      <td>40</td>\n",
              "      <td>112</td>\n",
              "      <td>187</td>\n",
              "      <td>159</td>\n",
              "      <td>149</td>\n",
              "      <td>213</td>\n",
              "      <td>66</td>\n",
              "      <td>146</td>\n",
              "      <td>38</td>\n",
              "      <td>48</td>\n",
              "      <td>125</td>\n",
              "      <td>150</td>\n",
              "      <td>185</td>\n",
              "      <td>164</td>\n",
              "      <td>211</td>\n",
              "      <td>187</td>\n",
              "      <td>143</td>\n",
              "      <td>91</td>\n",
              "      <td>213</td>\n",
              "      <td>111</td>\n",
              "      <td>169</td>\n",
              "      <td>40</td>\n",
              "      <td>173</td>\n",
              "      <td>113</td>\n",
              "      <td>116</td>\n",
              "      <td>214</td>\n",
              "      <td>55</td>\n",
              "      <td>51</td>\n",
              "      <td>197</td>\n",
              "      <td>216</td>\n",
              "      <td>76</td>\n",
              "      <td>40</td>\n",
              "      <td>178</td>\n",
              "      <td>70</td>\n",
              "      <td>94</td>\n",
              "      <td>130</td>\n",
              "      <td>220</td>\n",
              "      <td>178</td>\n",
              "      <td>45</td>\n",
              "      <td>212</td>\n",
              "      <td>156</td>\n",
              "      <td>182</td>\n",
              "      <td>74</td>\n",
              "      <td>97</td>\n",
              "      <td>157</td>\n",
              "      <td>132</td>\n",
              "      <td>76</td>\n",
              "      <td>55</td>\n",
              "      <td>160</td>\n",
              "      <td>171</td>\n",
              "      <td>66</td>\n",
              "    </tr>\n",
              "    <tr>\n",
              "      <th>1</th>\n",
              "      <td>167</td>\n",
              "      <td>100</td>\n",
              "      <td>192</td>\n",
              "      <td>124</td>\n",
              "      <td>157</td>\n",
              "      <td>51</td>\n",
              "      <td>73</td>\n",
              "      <td>82</td>\n",
              "      <td>92</td>\n",
              "      <td>106</td>\n",
              "      <td>207</td>\n",
              "      <td>35</td>\n",
              "      <td>199</td>\n",
              "      <td>45</td>\n",
              "      <td>110</td>\n",
              "      <td>187</td>\n",
              "      <td>161</td>\n",
              "      <td>145</td>\n",
              "      <td>210</td>\n",
              "      <td>67</td>\n",
              "      <td>140</td>\n",
              "      <td>42</td>\n",
              "      <td>43</td>\n",
              "      <td>129</td>\n",
              "      <td>147</td>\n",
              "      <td>182</td>\n",
              "      <td>171</td>\n",
              "      <td>211</td>\n",
              "      <td>184</td>\n",
              "      <td>139</td>\n",
              "      <td>83</td>\n",
              "      <td>212</td>\n",
              "      <td>112</td>\n",
              "      <td>175</td>\n",
              "      <td>41</td>\n",
              "      <td>168</td>\n",
              "      <td>111</td>\n",
              "      <td>117</td>\n",
              "      <td>219</td>\n",
              "      <td>59</td>\n",
              "      <td>53</td>\n",
              "      <td>194</td>\n",
              "      <td>216</td>\n",
              "      <td>78</td>\n",
              "      <td>42</td>\n",
              "      <td>187</td>\n",
              "      <td>63</td>\n",
              "      <td>90</td>\n",
              "      <td>130</td>\n",
              "      <td>214</td>\n",
              "      <td>187</td>\n",
              "      <td>42</td>\n",
              "      <td>216</td>\n",
              "      <td>149</td>\n",
              "      <td>185</td>\n",
              "      <td>81</td>\n",
              "      <td>104</td>\n",
              "      <td>167</td>\n",
              "      <td>131</td>\n",
              "      <td>74</td>\n",
              "      <td>50</td>\n",
              "      <td>165</td>\n",
              "      <td>170</td>\n",
              "      <td>73</td>\n",
              "    </tr>\n",
              "    <tr>\n",
              "      <th>2</th>\n",
              "      <td>166</td>\n",
              "      <td>107</td>\n",
              "      <td>188</td>\n",
              "      <td>123</td>\n",
              "      <td>157</td>\n",
              "      <td>49</td>\n",
              "      <td>70</td>\n",
              "      <td>79</td>\n",
              "      <td>87</td>\n",
              "      <td>107</td>\n",
              "      <td>208</td>\n",
              "      <td>37</td>\n",
              "      <td>193</td>\n",
              "      <td>45</td>\n",
              "      <td>110</td>\n",
              "      <td>187</td>\n",
              "      <td>159</td>\n",
              "      <td>146</td>\n",
              "      <td>214</td>\n",
              "      <td>66</td>\n",
              "      <td>140</td>\n",
              "      <td>43</td>\n",
              "      <td>46</td>\n",
              "      <td>130</td>\n",
              "      <td>150</td>\n",
              "      <td>185</td>\n",
              "      <td>171</td>\n",
              "      <td>210</td>\n",
              "      <td>184</td>\n",
              "      <td>140</td>\n",
              "      <td>87</td>\n",
              "      <td>213</td>\n",
              "      <td>109</td>\n",
              "      <td>173</td>\n",
              "      <td>39</td>\n",
              "      <td>168</td>\n",
              "      <td>114</td>\n",
              "      <td>118</td>\n",
              "      <td>220</td>\n",
              "      <td>59</td>\n",
              "      <td>52</td>\n",
              "      <td>195</td>\n",
              "      <td>216</td>\n",
              "      <td>75</td>\n",
              "      <td>41</td>\n",
              "      <td>188</td>\n",
              "      <td>66</td>\n",
              "      <td>92</td>\n",
              "      <td>129</td>\n",
              "      <td>212</td>\n",
              "      <td>182</td>\n",
              "      <td>41</td>\n",
              "      <td>216</td>\n",
              "      <td>152</td>\n",
              "      <td>182</td>\n",
              "      <td>81</td>\n",
              "      <td>106</td>\n",
              "      <td>166</td>\n",
              "      <td>127</td>\n",
              "      <td>74</td>\n",
              "      <td>54</td>\n",
              "      <td>163</td>\n",
              "      <td>172</td>\n",
              "      <td>68</td>\n",
              "    </tr>\n",
              "    <tr>\n",
              "      <th>3</th>\n",
              "      <td>167</td>\n",
              "      <td>103</td>\n",
              "      <td>188</td>\n",
              "      <td>124</td>\n",
              "      <td>158</td>\n",
              "      <td>55</td>\n",
              "      <td>74</td>\n",
              "      <td>83</td>\n",
              "      <td>90</td>\n",
              "      <td>106</td>\n",
              "      <td>205</td>\n",
              "      <td>39</td>\n",
              "      <td>196</td>\n",
              "      <td>46</td>\n",
              "      <td>108</td>\n",
              "      <td>186</td>\n",
              "      <td>158</td>\n",
              "      <td>148</td>\n",
              "      <td>210</td>\n",
              "      <td>65</td>\n",
              "      <td>139</td>\n",
              "      <td>42</td>\n",
              "      <td>44</td>\n",
              "      <td>133</td>\n",
              "      <td>154</td>\n",
              "      <td>187</td>\n",
              "      <td>171</td>\n",
              "      <td>211</td>\n",
              "      <td>188</td>\n",
              "      <td>143</td>\n",
              "      <td>87</td>\n",
              "      <td>214</td>\n",
              "      <td>110</td>\n",
              "      <td>175</td>\n",
              "      <td>43</td>\n",
              "      <td>166</td>\n",
              "      <td>115</td>\n",
              "      <td>118</td>\n",
              "      <td>218</td>\n",
              "      <td>57</td>\n",
              "      <td>52</td>\n",
              "      <td>194</td>\n",
              "      <td>216</td>\n",
              "      <td>75</td>\n",
              "      <td>41</td>\n",
              "      <td>185</td>\n",
              "      <td>65</td>\n",
              "      <td>93</td>\n",
              "      <td>127</td>\n",
              "      <td>214</td>\n",
              "      <td>184</td>\n",
              "      <td>42</td>\n",
              "      <td>214</td>\n",
              "      <td>151</td>\n",
              "      <td>181</td>\n",
              "      <td>79</td>\n",
              "      <td>106</td>\n",
              "      <td>166</td>\n",
              "      <td>130</td>\n",
              "      <td>75</td>\n",
              "      <td>54</td>\n",
              "      <td>163</td>\n",
              "      <td>170</td>\n",
              "      <td>70</td>\n",
              "    </tr>\n",
              "    <tr>\n",
              "      <th>4</th>\n",
              "      <td>169</td>\n",
              "      <td>103</td>\n",
              "      <td>186</td>\n",
              "      <td>122</td>\n",
              "      <td>156</td>\n",
              "      <td>52</td>\n",
              "      <td>72</td>\n",
              "      <td>80</td>\n",
              "      <td>88</td>\n",
              "      <td>115</td>\n",
              "      <td>208</td>\n",
              "      <td>42</td>\n",
              "      <td>194</td>\n",
              "      <td>49</td>\n",
              "      <td>108</td>\n",
              "      <td>186</td>\n",
              "      <td>158</td>\n",
              "      <td>144</td>\n",
              "      <td>212</td>\n",
              "      <td>66</td>\n",
              "      <td>137</td>\n",
              "      <td>44</td>\n",
              "      <td>44</td>\n",
              "      <td>135</td>\n",
              "      <td>149</td>\n",
              "      <td>183</td>\n",
              "      <td>169</td>\n",
              "      <td>215</td>\n",
              "      <td>183</td>\n",
              "      <td>145</td>\n",
              "      <td>84</td>\n",
              "      <td>217</td>\n",
              "      <td>114</td>\n",
              "      <td>173</td>\n",
              "      <td>43</td>\n",
              "      <td>163</td>\n",
              "      <td>118</td>\n",
              "      <td>121</td>\n",
              "      <td>217</td>\n",
              "      <td>57</td>\n",
              "      <td>53</td>\n",
              "      <td>195</td>\n",
              "      <td>215</td>\n",
              "      <td>73</td>\n",
              "      <td>46</td>\n",
              "      <td>185</td>\n",
              "      <td>64</td>\n",
              "      <td>92</td>\n",
              "      <td>124</td>\n",
              "      <td>208</td>\n",
              "      <td>186</td>\n",
              "      <td>40</td>\n",
              "      <td>214</td>\n",
              "      <td>151</td>\n",
              "      <td>181</td>\n",
              "      <td>82</td>\n",
              "      <td>104</td>\n",
              "      <td>162</td>\n",
              "      <td>127</td>\n",
              "      <td>73</td>\n",
              "      <td>54</td>\n",
              "      <td>165</td>\n",
              "      <td>169</td>\n",
              "      <td>74</td>\n",
              "    </tr>\n",
              "  </tbody>\n",
              "</table>\n",
              "</div>"
            ],
            "text/plain": [
              "    0    1    2    3    4   5   6   7   ...   56   57   58  59  60   61   62  63\n",
              "0  165   96  188  122  151  55  74  81  ...   97  157  132  76  55  160  171  66\n",
              "1  167  100  192  124  157  51  73  82  ...  104  167  131  74  50  165  170  73\n",
              "2  166  107  188  123  157  49  70  79  ...  106  166  127  74  54  163  172  68\n",
              "3  167  103  188  124  158  55  74  83  ...  106  166  130  75  54  163  170  70\n",
              "4  169  103  186  122  156  52  72  80  ...  104  162  127  73  54  165  169  74\n",
              "\n",
              "[5 rows x 64 columns]"
            ]
          },
          "metadata": {},
          "execution_count": 3
        }
      ]
    },
    {
      "cell_type": "markdown",
      "metadata": {
        "id": "PJ7GlC5dg3mU"
      },
      "source": [
        "#Ans 1 :\n",
        "\n",
        "In the following code, we do K means clustering on the dataset f8.txt"
      ]
    },
    {
      "cell_type": "code",
      "metadata": {
        "id": "mYo4xZQCAx8G"
      },
      "source": [
        "from sklearn.cluster import KMeans"
      ],
      "execution_count": 4,
      "outputs": []
    },
    {
      "cell_type": "code",
      "metadata": {
        "id": "lN9Am0z5vBAm"
      },
      "source": [
        "km = KMeans(n_clusters=5, random_state=0)"
      ],
      "execution_count": 5,
      "outputs": []
    },
    {
      "cell_type": "code",
      "metadata": {
        "id": "W9BD0alP17aa"
      },
      "source": [
        "X = df_1.to_numpy()"
      ],
      "execution_count": 6,
      "outputs": []
    },
    {
      "cell_type": "code",
      "metadata": {
        "id": "qzVvnM_814VT"
      },
      "source": [
        "km_result = km.fit(X)"
      ],
      "execution_count": 7,
      "outputs": []
    },
    {
      "cell_type": "code",
      "metadata": {
        "id": "4XPxr7E-2ToE"
      },
      "source": [
        "import seaborn as sns"
      ],
      "execution_count": 8,
      "outputs": []
    },
    {
      "cell_type": "code",
      "metadata": {
        "id": "fTY99KUC26FW"
      },
      "source": [
        "import matplotlib.pyplot as plt"
      ],
      "execution_count": 9,
      "outputs": []
    },
    {
      "cell_type": "markdown",
      "metadata": {
        "id": "RVlpzpeHhE6k"
      },
      "source": [
        "#Ans 2 :\n",
        "\n",
        "We can use Principal Component Analysis from sklearn for dimensionality reduction and hence visualise the data."
      ]
    },
    {
      "cell_type": "markdown",
      "metadata": {
        "id": "Jn39syTKx0Hr"
      },
      "source": [
        "#Ans 3 :\n",
        "\n",
        "Below is the code how we implement"
      ]
    },
    {
      "cell_type": "code",
      "metadata": {
        "id": "rJpl52TK2CIh"
      },
      "source": [
        "from sklearn.decomposition import PCA"
      ],
      "execution_count": 10,
      "outputs": []
    },
    {
      "cell_type": "code",
      "metadata": {
        "colab": {
          "base_uri": "https://localhost:8080/"
        },
        "id": "TF7xbYzh2Rs0",
        "outputId": "2cee3b0e-e359-46e4-be0c-af2741dda335"
      },
      "source": [
        "df_1.shape"
      ],
      "execution_count": 11,
      "outputs": [
        {
          "output_type": "execute_result",
          "data": {
            "text/plain": [
              "(1024, 64)"
            ]
          },
          "metadata": {},
          "execution_count": 11
        }
      ]
    },
    {
      "cell_type": "code",
      "metadata": {
        "id": "t9uWYXSJ2yc6"
      },
      "source": [
        "pca_1d = PCA(n_components=1)\n",
        "pca_2d = PCA(n_components=2)"
      ],
      "execution_count": 12,
      "outputs": []
    },
    {
      "cell_type": "code",
      "metadata": {
        "id": "yh-VIjU7-Tnq"
      },
      "source": [
        "result_1d = km.fit(pca_1d.fit_transform(X))\n",
        "result_2d = km.fit(pca_2d.fit_transform(X))"
      ],
      "execution_count": 13,
      "outputs": []
    },
    {
      "cell_type": "code",
      "metadata": {
        "colab": {
          "base_uri": "https://localhost:8080/",
          "height": 283
        },
        "id": "b-IOpynY2cq-",
        "outputId": "14acce6b-4507-423c-b8f9-803faf9319ab"
      },
      "source": [
        "sns.scatterplot(x=pca_1d.fit_transform(X)[:,0],y=0,hue=result_1d.labels_)"
      ],
      "execution_count": 14,
      "outputs": [
        {
          "output_type": "execute_result",
          "data": {
            "text/plain": [
              "<matplotlib.axes._subplots.AxesSubplot at 0x7faf16fc9d90>"
            ]
          },
          "metadata": {},
          "execution_count": 14
        },
        {
          "output_type": "display_data",
          "data": {
            "image/png": "[encoded data removed]",
            "text/plain": [
              "<Figure size 432x288 with 1 Axes>"
            ]
          },
          "metadata": {
            "needs_background": "light"
          }
        }
      ]
    },
    {
      "cell_type": "code",
      "metadata": {
        "colab": {
          "base_uri": "https://localhost:8080/",
          "height": 283
        },
        "id": "PQQD3BQE_gQY",
        "outputId": "0b32919e-3d63-4ec7-d089-4d49c5a20b07"
      },
      "source": [
        "sns.scatterplot(x=pca_2d.fit_transform(X)[:,0],y=pca_2d.fit_transform(X)[:,1],hue=result_2d.labels_)"
      ],
      "execution_count": 15,
      "outputs": [
        {
          "output_type": "execute_result",
          "data": {
            "text/plain": [
              "<matplotlib.axes._subplots.AxesSubplot at 0x7faf0aaa7590>"
            ]
          },
          "metadata": {},
          "execution_count": 15
        },
        {
          "output_type": "display_data",
          "data": {
            "image/png": "[encoded data removed]",
            "text/plain": [
              "<Figure size 432x288 with 1 Axes>"
            ]
          },
          "metadata": {
            "needs_background": "light"
          }
        }
      ]
    },
    {
      "cell_type": "markdown",
      "metadata": {
        "id": "Gd6WTXLU551L"
      },
      "source": [
        "#Ans 4 :"
      ]
    },
    {
      "cell_type": "code",
      "metadata": {
        "colab": {
          "base_uri": "https://localhost:8080/",
          "height": 283
        },
        "id": "jNCxtafR54On",
        "outputId": "85e3f8ae-0f0e-4920-f9f2-e4d0025953fb"
      },
      "source": [
        "sns.scatterplot(x=pca_1d.fit_transform(X)[:,0],y=0,hue=result_1d.labels_)\n",
        "plt.scatter(x=result_1d.cluster_centers_[:,0],y=result_1d.cluster_centers_[:,1],color='black',marker=\"D\", s=34)"
      ],
      "execution_count": 16,
      "outputs": [
        {
          "output_type": "execute_result",
          "data": {
            "text/plain": [
              "<matplotlib.collections.PathCollection at 0x7faf0aaab490>"
            ]
          },
          "metadata": {},
          "execution_count": 16
        },
        {
          "output_type": "display_data",
          "data": {
            "image/png": "[encoded data removed]",
            "text/plain": [
              "<Figure size 432x288 with 1 Axes>"
            ]
          },
          "metadata": {
            "needs_background": "light"
          }
        }
      ]
    },
    {
      "cell_type": "code",
      "metadata": {
        "id": "MmGVPUL4A7ov",
        "colab": {
          "base_uri": "https://localhost:8080/",
          "height": 283
        },
        "outputId": "65f6c7dd-63e0-4538-a77f-e8ab5b3775a4"
      },
      "source": [
        "sns.scatterplot(x=pca_2d.fit_transform(X)[:,0],y=pca_2d.fit_transform(X)[:,1],hue=result_2d.labels_)\n",
        "plt.scatter(x=result_2d.cluster_centers_[:,0],y=result_2d.cluster_centers_[:,1],color='black',marker=\"D\", s=34)"
      ],
      "execution_count": 17,
      "outputs": [
        {
          "output_type": "execute_result",
          "data": {
            "text/plain": [
              "<matplotlib.collections.PathCollection at 0x7faf0a511d90>"
            ]
          },
          "metadata": {},
          "execution_count": 17
        },
        {
          "output_type": "display_data",
          "data": {
            "image/png": "[encoded data removed]",
            "text/plain": [
              "<Figure size 432x288 with 1 Axes>"
            ]
          },
          "metadata": {
            "needs_background": "light"
          }
        }
      ]
    },
    {
      "cell_type": "code",
      "metadata": {
        "id": "lPexEGqW6CgX"
      },
      "source": [
        ""
      ],
      "execution_count": 17,
      "outputs": []
    }
  ]
}