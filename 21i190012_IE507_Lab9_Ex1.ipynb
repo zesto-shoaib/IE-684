{
  "nbformat": 4,
  "nbformat_minor": 0,
  "metadata": {
    "colab": {
      "name": "21i190012_IE507_Lab9_Ex1",
      "provenance": [],
      "collapsed_sections": []
    },
    "kernelspec": {
      "name": "python3",
      "display_name": "Python 3"
    }
  },
  "cells": [
    {
      "cell_type": "markdown",
      "metadata": {
        "id": "Dww4DqeMuPdf"
      },
      "source": [
        "# IE507 Lab 09\n",
        "### Nonlinear Optimization with Pyomo\n",
        "### October 06, 2021\n",
        "(Narayan Rangaraj, Abijith P Y, Abhishek Chaudury)\n",
        "\n",
        "---\n",
        "\n",
        "One of the Pyomo's unique features is its ability to model nonlinear optimization problems. Several other Python packages are available for linear models (PuLP, CPLEX, Gurobi). However, Pyomo can be used for modeling general purpose nonlinear problems in Python also. \n",
        "\n",
        "Today we will try to model and solve some nonlinear problems. We first need to install a solver for nonlinear optimization. [Ipopt](http://projects.coin-or.org/Ipopt) is an open-source solver for constrained optimization problems. It is pronounced as \"I--P--Opt\". Like most other nonlinear solvers for continuous problems, it finds only locally minimum points. The solution it finds may not be globally optimal.\n",
        "\n",
        "Ipopt has been compiled and made available online so that we may download and run it within this notebook. Ipopt also needs some fortran libraries which need to be installed. Let us install them."
      ]
    },
    {
      "cell_type": "code",
      "metadata": {
        "id": "8ObwCpK2n1En",
        "colab": {
          "base_uri": "https://localhost:8080/"
        },
        "outputId": "739b7e84-0c69-43e9-a155-4849963e49eb"
      },
      "source": [
        "%%bash\n",
        "rm -fv ipopt*\n",
        "apt install -q -yy libgfortran5\n",
        "sleep 1\n",
        "wget -q https://www.ieor.iitb.ac.in/files/faculty/amahajan/ipopt\n",
        "wget -q https://www.ieor.iitb.ac.in/files/faculty/amahajan/test.nl\n",
        "chmod u+rx ipopt"
      ],
      "execution_count": 1,
      "outputs": [
        {
          "output_type": "stream",
          "name": "stdout",
          "text": [
            "removed 'ipopt'\n",
            "Reading package lists...\n",
            "Building dependency tree...\n",
            "Reading state information...\n",
            "libgfortran5 is already the newest version (8.4.0-1ubuntu1~18.04).\n",
            "0 upgraded, 0 newly installed, 0 to remove and 37 not upgraded.\n"
          ]
        },
        {
          "output_type": "stream",
          "name": "stderr",
          "text": [
            "\n",
            "WARNING: apt does not have a stable CLI interface. Use with caution in scripts.\n",
            "\n"
          ]
        }
      ]
    },
    {
      "cell_type": "markdown",
      "metadata": {
        "id": "B2ktVY5JxTOP"
      },
      "source": [
        "The above code also fetches an optimization problem in an '.nl' format. 'nl' format is suitable for solvers, not for humans. Lets call ipopt directly (without using any Python) to solve it."
      ]
    },
    {
      "cell_type": "code",
      "metadata": {
        "id": "DQqKeB7wxpmX",
        "colab": {
          "base_uri": "https://localhost:8080/"
        },
        "outputId": "9f4c504e-b7a9-422d-a610-d84712b044fc"
      },
      "source": [
        "!./ipopt test.nl"
      ],
      "execution_count": 2,
      "outputs": [
        {
          "output_type": "stream",
          "name": "stdout",
          "text": [
            "\n",
            "\n",
            "******************************************************************************\n",
            "This program contains Ipopt, a library for large-scale nonlinear optimization.\n",
            " Ipopt is released as open source code under the Eclipse Public License (EPL).\n",
            "         For more information visit http://projects.coin-or.org/Ipopt\n",
            "******************************************************************************\n",
            "\n",
            "This is Ipopt version 3.13.2, running with linear solver mumps.\n",
            "NOTE: Other linear solvers might be more efficient (see Ipopt documentation).\n",
            "\n",
            "Number of nonzeros in equality constraint Jacobian...:        0\n",
            "Number of nonzeros in inequality constraint Jacobian.:        0\n",
            "Number of nonzeros in Lagrangian Hessian.............:      230\n",
            "\n",
            "Total number of variables............................:       30\n",
            "                     variables with only lower bounds:       30\n",
            "                variables with lower and upper bounds:        0\n",
            "                     variables with only upper bounds:        0\n",
            "Total number of equality constraints.................:        0\n",
            "Total number of inequality constraints...............:        0\n",
            "        inequality constraints with only lower bounds:        0\n",
            "   inequality constraints with lower and upper bounds:        0\n",
            "        inequality constraints with only upper bounds:        0\n",
            "\n",
            "iter    objective    inf_pr   inf_du lg(mu)  ||d||  lg(rg) alpha_du alpha_pr  ls\n",
            "   0  1.7201186e+00 0.00e+00 1.00e+00  -1.0 0.00e+00    -  0.00e+00 0.00e+00   0\n",
            "   1  1.7260509e+00 0.00e+00 1.01e-02  -1.0 3.61e-01    -  9.90e-01 1.00e+00f  1\n",
            "   2  1.7538885e+00 0.00e+00 1.00e-06  -1.0 5.55e+00    -  1.00e+00 1.00e+00f  1\n",
            "   3  1.7211737e+00 0.00e+00 1.55e-02  -2.5 4.25e+00    -  9.50e-01 1.00e+00f  1\n",
            "   4  1.7201208e+00 0.00e+00 1.50e-09  -3.8 1.59e+00    -  1.00e+00 1.00e+00f  1\n",
            "   5  1.7201186e+00 0.00e+00 2.22e-11  -5.7 7.22e-02    -  1.00e+00 1.00e+00f  1\n",
            "   6  1.7201186e+00 0.00e+00 3.08e-12  -8.6 3.43e-04    -  1.00e+00 1.00e+00f  1\n",
            "\n",
            "Number of Iterations....: 6\n",
            "\n",
            "                                   (scaled)                 (unscaled)\n",
            "Objective...............:   1.7201185696472858e+00    1.7201185696472858e+00\n",
            "Dual infeasibility......:   3.0848629611540733e-12    3.0848629611540733e-12\n",
            "Constraint violation....:   0.0000000000000000e+00    0.0000000000000000e+00\n",
            "Complementarity.........:   2.5414705854774420e-09    2.5414705854774420e-09\n",
            "Overall NLP error.......:   2.5414705854774420e-09    2.5414705854774420e-09\n",
            "\n",
            "\n",
            "Number of objective function evaluations             = 7\n",
            "Number of objective gradient evaluations             = 7\n",
            "Number of equality constraint evaluations            = 0\n",
            "Number of inequality constraint evaluations          = 0\n",
            "Number of equality constraint Jacobian evaluations   = 0\n",
            "Number of inequality constraint Jacobian evaluations = 0\n",
            "Number of Lagrangian Hessian evaluations             = 6\n",
            "Total CPU secs in IPOPT (w/o function evaluations)   =      0.006\n",
            "Total CPU secs in NLP function evaluations           =      0.000\n",
            "\n",
            "EXIT: Optimal Solution Found.\n",
            " \n",
            "Ipopt 3.13.2: Optimal Solution Found\n"
          ]
        }
      ]
    },
    {
      "cell_type": "markdown",
      "metadata": {
        "id": "-nHb5lFVyOwD"
      },
      "source": [
        "\n",
        "If you are able to see Ipopt output, we can install pyomo as usual"
      ]
    },
    {
      "cell_type": "code",
      "metadata": {
        "id": "L3AazXhaqM6M"
      },
      "source": [
        "!pip install -q pyomo"
      ],
      "execution_count": 3,
      "outputs": []
    },
    {
      "cell_type": "code",
      "metadata": {
        "id": "NInCtaadqYSg"
      },
      "source": [
        "import numpy as np"
      ],
      "execution_count": 4,
      "outputs": []
    },
    {
      "cell_type": "code",
      "metadata": {
        "id": "hMlUScaFqPqe"
      },
      "source": [
        "from pyomo.environ import *"
      ],
      "execution_count": 5,
      "outputs": []
    },
    {
      "cell_type": "markdown",
      "metadata": {
        "id": "qg6Ya1B9rGkq"
      },
      "source": [
        "Let us try to solve a nonlinear optimization problem without any constraints\n",
        "$\\min \\ 100(x_2 - x_1^2)^2 + (1-x_1)^2$. Pyomo uses two asterisks (**) to denote 'raise to power'. Other mathematical operators like sqrt (for square root), log, sin, cos, multiplication and division etc are available."
      ]
    },
    {
      "cell_type": "code",
      "metadata": {
        "id": "8DWMvz4nrteP",
        "colab": {
          "base_uri": "https://localhost:8080/"
        },
        "outputId": "333bbc9c-f308-45d4-e8a0-81b8858da14a"
      },
      "source": [
        "model = ConcreteModel()\n",
        "model.x1 = Var()\n",
        "model.x2 = Var()\n",
        "\n",
        "model.obj = Objective(expr = 100.0*(model.x2-model.x1**2)**2 + (1-model.x1)**2, sense=minimize)\n",
        "model.pprint()"
      ],
      "execution_count": 6,
      "outputs": [
        {
          "output_type": "stream",
          "name": "stdout",
          "text": [
            "2 Var Declarations\n",
            "    x1 : Size=1, Index=None\n",
            "        Key  : Lower : Value : Upper : Fixed : Stale : Domain\n",
            "        None :  None :  None :  None : False :  True :  Reals\n",
            "    x2 : Size=1, Index=None\n",
            "        Key  : Lower : Value : Upper : Fixed : Stale : Domain\n",
            "        None :  None :  None :  None : False :  True :  Reals\n",
            "\n",
            "1 Objective Declarations\n",
            "    obj : Size=1, Index=None, Active=True\n",
            "        Key  : Active : Sense    : Expression\n",
            "        None :   True : minimize : 100.0*(x2 - x1**2)**2 + (1 - x1)**2\n",
            "\n",
            "3 Declarations: x1 x2 obj\n"
          ]
        }
      ]
    },
    {
      "cell_type": "markdown",
      "metadata": {
        "id": "Od5TNXEo03lz"
      },
      "source": [
        "\n",
        "Next load the solver and pass the model to it, solve and get the results, just like you did for linear optimization."
      ]
    },
    {
      "cell_type": "code",
      "metadata": {
        "id": "ykCuFBnAtFDz",
        "colab": {
          "base_uri": "https://localhost:8080/"
        },
        "outputId": "cb1833ba-76e3-4850-f0e5-7577595cdb96"
      },
      "source": [
        "opt_ipopt = SolverFactory('ipopt')\n",
        "result = opt_ipopt.solve(model)\n",
        "print(result)\n",
        "\n",
        "print('Solver status:', result.solver.status)\n",
        "print('Solver termination condition:',result.solver.termination_condition)\n",
        "print('\\nObjective = ', model.obj())\n",
        "\n",
        "print('\\nDecision Variables')\n",
        "print('x1 = ', model.x1.value)  \n",
        "print('x2 = ', model.x2.value)  "
      ],
      "execution_count": 7,
      "outputs": [
        {
          "output_type": "stream",
          "name": "stdout",
          "text": [
            "\n",
            "Problem: \n",
            "- Lower bound: -inf\n",
            "  Upper bound: inf\n",
            "  Number of objectives: 1\n",
            "  Number of constraints: 0\n",
            "  Number of variables: 2\n",
            "  Sense: unknown\n",
            "Solver: \n",
            "- Status: ok\n",
            "  Message: Ipopt 3.13.2\\x3a Optimal Solution Found\n",
            "  Termination condition: optimal\n",
            "  Id: 0\n",
            "  Error rc: 0\n",
            "  Time: 0.02849268913269043\n",
            "Solution: \n",
            "- number of solutions: 0\n",
            "  number of solutions displayed: 0\n",
            "\n",
            "Solver status: ok\n",
            "Solver termination condition: optimal\n",
            "\n",
            "Objective =  1.3288608467480825e-28\n",
            "\n",
            "Decision Variables\n",
            "x1 =  0.9999999999999899\n",
            "x2 =  0.9999999999999792\n"
          ]
        }
      ]
    },
    {
      "cell_type": "markdown",
      "metadata": {
        "id": "VizDLfhN1kzf"
      },
      "source": [
        "Now go to the questions and try to solve them."
      ]
    },
    {
      "cell_type": "code",
      "metadata": {
        "id": "0mKDJxCvF5HD"
      },
      "source": [
        "model.x1.setlb(5)\n",
        "model.x1.setub(10)\n",
        "model.x2.setlb(5)\n",
        "model.x2.setub(10)"
      ],
      "execution_count": 8,
      "outputs": []
    },
    {
      "cell_type": "code",
      "metadata": {
        "colab": {
          "base_uri": "https://localhost:8080/"
        },
        "id": "E5n24iezGGDE",
        "outputId": "8f3aebe2-bd3b-4bed-b294-b83f73fbe022"
      },
      "source": [
        "model.pprint()"
      ],
      "execution_count": 9,
      "outputs": [
        {
          "output_type": "stream",
          "name": "stdout",
          "text": [
            "2 Var Declarations\n",
            "    x1 : Size=1, Index=None\n",
            "        Key  : Lower : Value              : Upper : Fixed : Stale : Domain\n",
            "        None :     5 : 0.9999999999999899 :    10 : False : False :  Reals\n",
            "    x2 : Size=1, Index=None\n",
            "        Key  : Lower : Value              : Upper : Fixed : Stale : Domain\n",
            "        None :     5 : 0.9999999999999792 :    10 : False : False :  Reals\n",
            "\n",
            "1 Objective Declarations\n",
            "    obj : Size=1, Index=None, Active=True\n",
            "        Key  : Active : Sense    : Expression\n",
            "        None :   True : minimize : 100.0*(x2 - x1**2)**2 + (1 - x1)**2\n",
            "\n",
            "3 Declarations: x1 x2 obj\n"
          ]
        }
      ]
    },
    {
      "cell_type": "code",
      "metadata": {
        "colab": {
          "base_uri": "https://localhost:8080/"
        },
        "id": "7D-yGW-kGIi6",
        "outputId": "3c0bf1c5-2249-423d-fb58-fc7bf37b1f0e"
      },
      "source": [
        "result = opt_ipopt.solve(model)\n",
        "print(result)\n",
        "\n",
        "print('Solver status:', result.solver.status)\n",
        "print('Solver termination condition:',result.solver.termination_condition)\n",
        "print('\\nObjective = ', model.obj())\n",
        "\n",
        "print('\\nDecision Variables')\n",
        "print('x1 = ', model.x1.value)  \n",
        "print('x2 = ', model.x2.value) "
      ],
      "execution_count": 10,
      "outputs": [
        {
          "output_type": "stream",
          "name": "stdout",
          "text": [
            "\n",
            "Problem: \n",
            "- Lower bound: -inf\n",
            "  Upper bound: inf\n",
            "  Number of objectives: 1\n",
            "  Number of constraints: 0\n",
            "  Number of variables: 2\n",
            "  Sense: unknown\n",
            "Solver: \n",
            "- Status: ok\n",
            "  Message: Ipopt 3.13.2\\x3a Optimal Solution Found\n",
            "  Termination condition: optimal\n",
            "  Id: 0\n",
            "  Error rc: 0\n",
            "  Time: 0.02265477180480957\n",
            "Solution: \n",
            "- number of solutions: 0\n",
            "  number of solutions displayed: 0\n",
            "\n",
            "Solver status: ok\n",
            "Solver termination condition: optimal\n",
            "\n",
            "Objective =  22516.0\n",
            "\n",
            "Decision Variables\n",
            "x1 =  5.0\n",
            "x2 =  10.0\n"
          ]
        }
      ]
    },
    {
      "cell_type": "markdown",
      "metadata": {
        "id": "hBHoNnfPGZQb"
      },
      "source": [
        "#Ans 2 :\n",
        "\n",
        "The new optimal value is 22516.\n",
        "\n",
        "The new values of x1 and x2 are 5 and 10 respectively.\n",
        "\n",
        "Solver Status is Ok and Termination condition is optimal."
      ]
    },
    {
      "cell_type": "code",
      "metadata": {
        "colab": {
          "base_uri": "https://localhost:8080/"
        },
        "id": "PKdJ77ARGQVe",
        "outputId": "c5ddd688-a0a2-481f-8f76-3462a3fd3c13"
      },
      "source": [
        "model.constraints = ConstraintList()\n",
        "model.constraints.add(model.x1**2 - 14*model.x1 + model.x2**2 - 12*model.x2 <= -83)"
      ],
      "execution_count": 11,
      "outputs": [
        {
          "output_type": "execute_result",
          "data": {
            "text/plain": [
              "<pyomo.core.base.constraint._GeneralConstraintData at 0x7f0388a4b590>"
            ]
          },
          "metadata": {},
          "execution_count": 11
        }
      ]
    },
    {
      "cell_type": "code",
      "metadata": {
        "colab": {
          "base_uri": "https://localhost:8080/"
        },
        "id": "Ds8joJnBG-E-",
        "outputId": "07bc0a66-bd8f-4441-c236-82ab9d3d2eea"
      },
      "source": [
        "model.pprint()"
      ],
      "execution_count": 12,
      "outputs": [
        {
          "output_type": "stream",
          "name": "stdout",
          "text": [
            "1 Set Declarations\n",
            "    constraints_index : Size=1, Index=None, Ordered=Insertion\n",
            "        Key  : Dimen : Domain : Size : Members\n",
            "        None :     1 :    Any :    1 :    {1,}\n",
            "\n",
            "2 Var Declarations\n",
            "    x1 : Size=1, Index=None\n",
            "        Key  : Lower : Value : Upper : Fixed : Stale : Domain\n",
            "        None :     5 :   5.0 :    10 : False : False :  Reals\n",
            "    x2 : Size=1, Index=None\n",
            "        Key  : Lower : Value : Upper : Fixed : Stale : Domain\n",
            "        None :     5 :  10.0 :    10 : False : False :  Reals\n",
            "\n",
            "1 Objective Declarations\n",
            "    obj : Size=1, Index=None, Active=True\n",
            "        Key  : Active : Sense    : Expression\n",
            "        None :   True : minimize : 100.0*(x2 - x1**2)**2 + (1 - x1)**2\n",
            "\n",
            "1 Constraint Declarations\n",
            "    constraints : Size=1, Index=constraints_index, Active=True\n",
            "        Key : Lower : Body                          : Upper : Active\n",
            "          1 :  -Inf : x1**2 - 14*x1 + x2**2 - 12*x2 : -83.0 :   True\n",
            "\n",
            "5 Declarations: x1 x2 obj constraints_index constraints\n"
          ]
        }
      ]
    },
    {
      "cell_type": "code",
      "metadata": {
        "colab": {
          "base_uri": "https://localhost:8080/"
        },
        "id": "DME1A_bGHATi",
        "outputId": "d01c05fb-e047-43de-d59c-56fa87bc118c"
      },
      "source": [
        "result = opt_ipopt.solve(model)\n",
        "print(result)\n",
        "\n",
        "print('Solver status:', result.solver.status)\n",
        "print('Solver termination condition:',result.solver.termination_condition)\n",
        "print('\\nObjective = ', model.obj())\n",
        "\n",
        "print('\\nDecision Variables')\n",
        "print('x1 = ', model.x1.value)  \n",
        "print('x2 = ', model.x2.value) \n",
        "\n",
        "print('\\nConstraints')\n",
        "model.constraints.display()"
      ],
      "execution_count": 13,
      "outputs": [
        {
          "output_type": "stream",
          "name": "stdout",
          "text": [
            "\n",
            "Problem: \n",
            "- Lower bound: -inf\n",
            "  Upper bound: inf\n",
            "  Number of objectives: 1\n",
            "  Number of constraints: 1\n",
            "  Number of variables: 2\n",
            "  Sense: unknown\n",
            "Solver: \n",
            "- Status: ok\n",
            "  Message: Ipopt 3.13.2\\x3a Optimal Solution Found\n",
            "  Termination condition: optimal\n",
            "  Id: 0\n",
            "  Error rc: 0\n",
            "  Time: 0.02224874496459961\n",
            "Solution: \n",
            "- number of solutions: 0\n",
            "  number of solutions displayed: 0\n",
            "\n",
            "Solver status: ok\n",
            "Solver termination condition: optimal\n",
            "\n",
            "Objective =  63212.3297363497\n",
            "\n",
            "Decision Variables\n",
            "x1 =  5.591404989462348\n",
            "x2 =  6.125940169329545\n",
            "\n",
            "Constraints\n",
            "constraints : Size=1\n",
            "    Key : Lower : Body               : Upper\n",
            "      1 :  None : -82.99999917003768 : -83.0\n"
          ]
        }
      ]
    },
    {
      "cell_type": "markdown",
      "metadata": {
        "id": "WjdgbgkDHLPC"
      },
      "source": [
        "#Ans 3 :\n",
        "\n",
        "The new optimal value is 63212.33.\n",
        "\n",
        "The new values of x1 and x2 are 5.59 and 6.13 respectively.\n",
        "\n",
        "The constraint added is approximately equal to -83 and hence is active.\n",
        "\n",
        "Solver Status is Ok and Termination condition is optimal."
      ]
    },
    {
      "cell_type": "code",
      "metadata": {
        "id": "fNBPClGJHH3c"
      },
      "source": [
        "model.x1.setlb(None)\n",
        "model.x1.setub(None)\n",
        "model.x2.setlb(None)\n",
        "model.x2.setub(None)"
      ],
      "execution_count": 14,
      "outputs": []
    },
    {
      "cell_type": "code",
      "metadata": {
        "colab": {
          "base_uri": "https://localhost:8080/"
        },
        "id": "BTyy3VdFIbe5",
        "outputId": "c44833b7-ac28-4626-e600-32aaabdb4028"
      },
      "source": [
        "model.pprint()"
      ],
      "execution_count": 15,
      "outputs": [
        {
          "output_type": "stream",
          "name": "stdout",
          "text": [
            "1 Set Declarations\n",
            "    constraints_index : Size=1, Index=None, Ordered=Insertion\n",
            "        Key  : Dimen : Domain : Size : Members\n",
            "        None :     1 :    Any :    1 :    {1,}\n",
            "\n",
            "2 Var Declarations\n",
            "    x1 : Size=1, Index=None\n",
            "        Key  : Lower : Value             : Upper : Fixed : Stale : Domain\n",
            "        None :  None : 5.591404989462348 :  None : False : False :  Reals\n",
            "    x2 : Size=1, Index=None\n",
            "        Key  : Lower : Value             : Upper : Fixed : Stale : Domain\n",
            "        None :  None : 6.125940169329545 :  None : False : False :  Reals\n",
            "\n",
            "1 Objective Declarations\n",
            "    obj : Size=1, Index=None, Active=True\n",
            "        Key  : Active : Sense    : Expression\n",
            "        None :   True : minimize : 100.0*(x2 - x1**2)**2 + (1 - x1)**2\n",
            "\n",
            "1 Constraint Declarations\n",
            "    constraints : Size=1, Index=constraints_index, Active=True\n",
            "        Key : Lower : Body                          : Upper : Active\n",
            "          1 :  -Inf : x1**2 - 14*x1 + x2**2 - 12*x2 : -83.0 :   True\n",
            "\n",
            "5 Declarations: x1 x2 obj constraints_index constraints\n"
          ]
        }
      ]
    },
    {
      "cell_type": "code",
      "metadata": {
        "colab": {
          "base_uri": "https://localhost:8080/"
        },
        "id": "wo_K47kCIv7f",
        "outputId": "0907b9ff-d776-465f-abbe-45effd590607"
      },
      "source": [
        "result = opt_ipopt.solve(model)\n",
        "print(result)\n",
        "\n",
        "print('Solver status:', result.solver.status)\n",
        "print('Solver termination condition:',result.solver.termination_condition)\n",
        "print('\\nObjective = ', model.obj())\n",
        "\n",
        "print('\\nDecision Variables')\n",
        "print('x1 = ', model.x1.value)  \n",
        "print('x2 = ', model.x2.value) \n",
        "\n",
        "print('\\nConstraints')\n",
        "model.constraints.display()"
      ],
      "execution_count": 16,
      "outputs": [
        {
          "output_type": "stream",
          "name": "stdout",
          "text": [
            "\n",
            "Problem: \n",
            "- Lower bound: -inf\n",
            "  Upper bound: inf\n",
            "  Number of objectives: 1\n",
            "  Number of constraints: 1\n",
            "  Number of variables: 2\n",
            "  Sense: unknown\n",
            "Solver: \n",
            "- Status: ok\n",
            "  Message: Ipopt 3.13.2\\x3a Optimal Solution Found\n",
            "  Termination condition: optimal\n",
            "  Id: 0\n",
            "  Error rc: 0\n",
            "  Time: 0.01954507827758789\n",
            "Solution: \n",
            "- number of solutions: 0\n",
            "  number of solutions displayed: 0\n",
            "\n",
            "Solver status: ok\n",
            "Solver termination condition: optimal\n",
            "\n",
            "Objective =  63212.32973700665\n",
            "\n",
            "Decision Variables\n",
            "x1 =  5.591404989472647\n",
            "x2 =  6.125940169314059\n",
            "\n",
            "Constraints\n",
            "constraints : Size=1\n",
            "    Key : Lower : Body               : Upper\n",
            "      1 :  None : -82.99999917007058 : -83.0\n"
          ]
        }
      ]
    },
    {
      "cell_type": "markdown",
      "metadata": {
        "id": "o7PKchuuI4zz"
      },
      "source": [
        "#Ans 4 :\n",
        "\n",
        "Since in part (3) the bound constraints are not tight, we remove them. We see that the solution does not change.\n",
        "\n",
        "The optimal value is 63212.33.\n",
        "\n",
        "The values of x1 and x2 are 5.59 and 6.13 respectively."
      ]
    },
    {
      "cell_type": "code",
      "metadata": {
        "id": "tz_CWUIlI2Pe"
      },
      "source": [
        ""
      ],
      "execution_count": 16,
      "outputs": []
    }
  ]
}