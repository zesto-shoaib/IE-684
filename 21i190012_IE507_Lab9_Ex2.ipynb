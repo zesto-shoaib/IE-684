{
  "nbformat": 4,
  "nbformat_minor": 0,
  "metadata": {
    "colab": {
      "name": "21i190012_IE507_Lab9_Ex2.ipynb",
      "provenance": [],
      "collapsed_sections": []
    },
    "kernelspec": {
      "name": "python3",
      "display_name": "Python 3"
    },
    "language_info": {
      "name": "python"
    }
  },
  "cells": [
    {
      "cell_type": "code",
      "metadata": {
        "id": "tXpDvlGPiCqX"
      },
      "source": [
        "!pip install -q pyomo"
      ],
      "execution_count": 1,
      "outputs": []
    },
    {
      "cell_type": "code",
      "metadata": {
        "id": "p3D_0p6TqnqL"
      },
      "source": [
        "from pyomo.environ import *"
      ],
      "execution_count": 2,
      "outputs": []
    },
    {
      "cell_type": "code",
      "metadata": {
        "id": "UC2bDYhcqwY0"
      },
      "source": [
        "import numpy as np"
      ],
      "execution_count": 3,
      "outputs": []
    },
    {
      "cell_type": "code",
      "metadata": {
        "colab": {
          "base_uri": "https://localhost:8080/"
        },
        "id": "CXvPSlsAqx-P",
        "outputId": "332cb625-7077-4336-829e-b572b33bcc49"
      },
      "source": [
        "%%bash\n",
        "rm -fv ipopt*\n",
        "apt install -q -yy libgfortran5\n",
        "sleep 1\n",
        "wget -q https://www.ieor.iitb.ac.in/files/faculty/amahajan/ipopt\n",
        "chmod u+rx ipopt"
      ],
      "execution_count": 4,
      "outputs": [
        {
          "output_type": "stream",
          "name": "stdout",
          "text": [
            "removed 'ipopt'\n",
            "Reading package lists...\n",
            "Building dependency tree...\n",
            "Reading state information...\n",
            "libgfortran5 is already the newest version (8.4.0-1ubuntu1~18.04).\n",
            "0 upgraded, 0 newly installed, 0 to remove and 37 not upgraded.\n"
          ]
        },
        {
          "output_type": "stream",
          "name": "stderr",
          "text": [
            "\n",
            "WARNING: apt does not have a stable CLI interface. Use with caution in scripts.\n",
            "\n"
          ]
        }
      ]
    },
    {
      "cell_type": "markdown",
      "metadata": {
        "id": "uiQMDlBk_lgg"
      },
      "source": [
        "#Ans 1 :\n",
        "\n",
        "$\\text{min} (x_l-x_f)^2 + (y_l-y_f)^2$\n",
        "\n",
        "Since we just want to find the points, we sqaure the distance in the objective and minimize it. \n",
        "\n",
        "subject to :\n",
        "\n",
        "$(x_l+200)^2+(y_l-200)^2 \\leq50^2\\\\\n",
        "x_f+y_f\\leq0\\\\\n",
        "x_f-y_f\\leq200\\\\\n",
        "x_f+y_f\\geq-200\\\\\n",
        "x_f-3y_f\\geq0$"
      ]
    },
    {
      "cell_type": "code",
      "metadata": {
        "id": "Ck1EHO2Aq6GR"
      },
      "source": [
        "model = ConcreteModel()"
      ],
      "execution_count": 5,
      "outputs": []
    },
    {
      "cell_type": "code",
      "metadata": {
        "id": "hz3pWfVwrNF8"
      },
      "source": [
        "model.xf = Var()\n",
        "model.yf = Var()\n",
        "model.xl = Var()\n",
        "model.yl = Var()"
      ],
      "execution_count": 6,
      "outputs": []
    },
    {
      "cell_type": "code",
      "metadata": {
        "id": "SJ9MvITkrW_U"
      },
      "source": [
        "model.objective = Objective(expr = (model.xl-model.xf)**2+(model.yl-model.yf)**2, sense = minimize)"
      ],
      "execution_count": 7,
      "outputs": []
    },
    {
      "cell_type": "code",
      "metadata": {
        "id": "ANk83s6ervK5"
      },
      "source": [
        "model.constraints = ConstraintList()"
      ],
      "execution_count": 8,
      "outputs": []
    },
    {
      "cell_type": "code",
      "metadata": {
        "colab": {
          "base_uri": "https://localhost:8080/"
        },
        "id": "lu4Jfdb8srbI",
        "outputId": "c5fbf8c1-8fe8-4c57-8b43-9919590f10c6"
      },
      "source": [
        "model.constraints.add((model.xl+200)**2+(model.yl-200)**2 <= 2500)\n",
        "model.constraints.add(model.xf+model.yf <= 0)\n",
        "model.constraints.add(model.xf-model.yf <= 200)\n",
        "model.constraints.add(model.xf+model.yf >= -200)\n",
        "model.constraints.add(model.xf-3*model.yf >= 0)"
      ],
      "execution_count": 9,
      "outputs": [
        {
          "output_type": "execute_result",
          "data": {
            "text/plain": [
              "<pyomo.core.base.constraint._GeneralConstraintData at 0x7f6732d187c0>"
            ]
          },
          "metadata": {},
          "execution_count": 9
        }
      ]
    },
    {
      "cell_type": "code",
      "metadata": {
        "colab": {
          "base_uri": "https://localhost:8080/"
        },
        "id": "oJOhb8Wrthfx",
        "outputId": "566dbd5a-bc3a-4a2b-d5ed-1b66cb61d965"
      },
      "source": [
        "model.pprint()"
      ],
      "execution_count": 10,
      "outputs": [
        {
          "output_type": "stream",
          "name": "stdout",
          "text": [
            "1 Set Declarations\n",
            "    constraints_index : Size=1, Index=None, Ordered=Insertion\n",
            "        Key  : Dimen : Domain : Size : Members\n",
            "        None :     1 :    Any :    5 : {1, 2, 3, 4, 5}\n",
            "\n",
            "4 Var Declarations\n",
            "    xf : Size=1, Index=None\n",
            "        Key  : Lower : Value : Upper : Fixed : Stale : Domain\n",
            "        None :  None :  None :  None : False :  True :  Reals\n",
            "    xl : Size=1, Index=None\n",
            "        Key  : Lower : Value : Upper : Fixed : Stale : Domain\n",
            "        None :  None :  None :  None : False :  True :  Reals\n",
            "    yf : Size=1, Index=None\n",
            "        Key  : Lower : Value : Upper : Fixed : Stale : Domain\n",
            "        None :  None :  None :  None : False :  True :  Reals\n",
            "    yl : Size=1, Index=None\n",
            "        Key  : Lower : Value : Upper : Fixed : Stale : Domain\n",
            "        None :  None :  None :  None : False :  True :  Reals\n",
            "\n",
            "1 Objective Declarations\n",
            "    objective : Size=1, Index=None, Active=True\n",
            "        Key  : Active : Sense    : Expression\n",
            "        None :   True : minimize : (xl - xf)**2 + (yl - yf)**2\n",
            "\n",
            "1 Constraint Declarations\n",
            "    constraints : Size=5, Index=constraints_index, Active=True\n",
            "        Key : Lower  : Body                          : Upper  : Active\n",
            "          1 :   -Inf : (xl + 200)**2 + (yl - 200)**2 : 2500.0 :   True\n",
            "          2 :   -Inf :                       xf + yf :    0.0 :   True\n",
            "          3 :   -Inf :                       xf - yf :  200.0 :   True\n",
            "          4 : -200.0 :                       xf + yf :   +Inf :   True\n",
            "          5 :    0.0 :                     xf - 3*yf :   +Inf :   True\n",
            "\n",
            "7 Declarations: xf yf xl yl objective constraints_index constraints\n"
          ]
        }
      ]
    },
    {
      "cell_type": "code",
      "metadata": {
        "colab": {
          "base_uri": "https://localhost:8080/"
        },
        "id": "hjHiQouituFX",
        "outputId": "a4f3f3de-a698-4c8d-a9d7-ce6e8ecb14b9"
      },
      "source": [
        "opt_ipopt = SolverFactory('ipopt')\n",
        "result = opt_ipopt.solve(model)\n",
        "print(result)\n",
        "\n",
        "print('Solver status:', result.solver.status)\n",
        "print('Solver termination condition:',result.solver.termination_condition)\n",
        "print('\\nObjective = ', model.objective())\n",
        "\n",
        "print('\\nDecision Variables')\n",
        "print('xl = ', model.xl.value)\n",
        "print('yl = ', model.yl.value)  \n",
        "print('xf = ', model.xf.value)\n",
        "print('yf = ', model.yf.value)  "
      ],
      "execution_count": 11,
      "outputs": [
        {
          "output_type": "stream",
          "name": "stdout",
          "text": [
            "\n",
            "Problem: \n",
            "- Lower bound: -inf\n",
            "  Upper bound: inf\n",
            "  Number of objectives: 1\n",
            "  Number of constraints: 5\n",
            "  Number of variables: 4\n",
            "  Sense: unknown\n",
            "Solver: \n",
            "- Status: ok\n",
            "  Message: Ipopt 3.13.2\\x3a Optimal Solution Found\n",
            "  Termination condition: optimal\n",
            "  Id: 0\n",
            "  Error rc: 0\n",
            "  Time: 0.026293039321899414\n",
            "Solution: \n",
            "- number of solutions: 0\n",
            "  number of solutions displayed: 0\n",
            "\n",
            "Solver status: ok\n",
            "Solver termination condition: optimal\n",
            "\n",
            "Objective =  41201.7786158831\n",
            "\n",
            "Decision Variables\n",
            "xl =  -184.18861162009682\n",
            "yl =  152.56583486031144\n",
            "xf =  -120.00000000096625\n",
            "yf =  -39.99999999699526\n"
          ]
        }
      ]
    },
    {
      "cell_type": "markdown",
      "metadata": {
        "id": "0Heb_5CJAfnl"
      },
      "source": [
        "#Ans 3 :\n",
        "\n",
        "The locations of the two ends will be :\n",
        "\n",
        "$(x_l,y_l)=(-184.19,152.57)\\\\\n",
        "(x_f,y_f)=(-120.00,-39.99)$"
      ]
    },
    {
      "cell_type": "markdown",
      "metadata": {
        "id": "Z9pxvUSTFz4S"
      },
      "source": [
        "#Ans 4 :\n",
        "\n",
        "We introduce two new variables $x_j$ and $y_j$ which denote the coordinates of the junction. We then change the objective function accordingly:\n",
        "\n",
        "$\\text{min} \\sqrt{(x_l-x_j)^2 + (y_l-y_j)^2}+\\sqrt{(x_j-x_f)^2 + (y_j-y_f)^2}+0.2\\sqrt{(x_j+15)^2 + (y_j-20)^2}$\n",
        "\n",
        "All the constraints remain the same.\n"
      ]
    },
    {
      "cell_type": "code",
      "metadata": {
        "id": "zzNLKJQ1Cgui"
      },
      "source": [
        "model.xj = Var()\n",
        "model.yj = Var()"
      ],
      "execution_count": 12,
      "outputs": []
    },
    {
      "cell_type": "code",
      "metadata": {
        "id": "qJbxUi9CA4N6"
      },
      "source": [
        "model.objective.deactivate()"
      ],
      "execution_count": 13,
      "outputs": []
    },
    {
      "cell_type": "code",
      "metadata": {
        "id": "_LLHeUqdCVfu"
      },
      "source": [
        "model.objective_1 = Objective(expr = sqrt((model.xl-model.xj)**2+(model.yl-model.yj)**2)+sqrt((model.xj-model.xf)**2+(model.yj-model.yf)**2)+0.2*sqrt((model.xj+15)**2+(model.yj-20)**2), sense = minimize)"
      ],
      "execution_count": 14,
      "outputs": []
    },
    {
      "cell_type": "code",
      "metadata": {
        "colab": {
          "base_uri": "https://localhost:8080/"
        },
        "id": "U4pOsxHNC6ki",
        "outputId": "3ebb39e4-d10f-44f3-f066-211132480364"
      },
      "source": [
        "model.pprint()"
      ],
      "execution_count": 15,
      "outputs": [
        {
          "output_type": "stream",
          "name": "stdout",
          "text": [
            "1 Set Declarations\n",
            "    constraints_index : Size=1, Index=None, Ordered=Insertion\n",
            "        Key  : Dimen : Domain : Size : Members\n",
            "        None :     1 :    Any :    5 : {1, 2, 3, 4, 5}\n",
            "\n",
            "6 Var Declarations\n",
            "    xf : Size=1, Index=None\n",
            "        Key  : Lower : Value               : Upper : Fixed : Stale : Domain\n",
            "        None :  None : -120.00000000096625 :  None : False : False :  Reals\n",
            "    xj : Size=1, Index=None\n",
            "        Key  : Lower : Value : Upper : Fixed : Stale : Domain\n",
            "        None :  None :  None :  None : False :  True :  Reals\n",
            "    xl : Size=1, Index=None\n",
            "        Key  : Lower : Value               : Upper : Fixed : Stale : Domain\n",
            "        None :  None : -184.18861162009682 :  None : False : False :  Reals\n",
            "    yf : Size=1, Index=None\n",
            "        Key  : Lower : Value              : Upper : Fixed : Stale : Domain\n",
            "        None :  None : -39.99999999699526 :  None : False : False :  Reals\n",
            "    yj : Size=1, Index=None\n",
            "        Key  : Lower : Value : Upper : Fixed : Stale : Domain\n",
            "        None :  None :  None :  None : False :  True :  Reals\n",
            "    yl : Size=1, Index=None\n",
            "        Key  : Lower : Value              : Upper : Fixed : Stale : Domain\n",
            "        None :  None : 152.56583486031144 :  None : False : False :  Reals\n",
            "\n",
            "2 Objective Declarations\n",
            "    objective : Size=1, Index=None, Active=False\n",
            "        Key  : Active : Sense    : Expression\n",
            "        None :  False : minimize : (xl - xf)**2 + (yl - yf)**2\n",
            "    objective_1 : Size=1, Index=None, Active=True\n",
            "        Key  : Active : Sense    : Expression\n",
            "        None :   True : minimize : sqrt((xl - xj)**2 + (yl - yj)**2) + sqrt((xj - xf)**2 + (yj - yf)**2) + 0.2*sqrt((xj + 15)**2 + (yj - 20)**2)\n",
            "\n",
            "1 Constraint Declarations\n",
            "    constraints : Size=5, Index=constraints_index, Active=True\n",
            "        Key : Lower  : Body                          : Upper  : Active\n",
            "          1 :   -Inf : (xl + 200)**2 + (yl - 200)**2 : 2500.0 :   True\n",
            "          2 :   -Inf :                       xf + yf :    0.0 :   True\n",
            "          3 :   -Inf :                       xf - yf :  200.0 :   True\n",
            "          4 : -200.0 :                       xf + yf :   +Inf :   True\n",
            "          5 :    0.0 :                     xf - 3*yf :   +Inf :   True\n",
            "\n",
            "10 Declarations: xf yf xl yl objective constraints_index constraints xj yj objective_1\n"
          ]
        }
      ]
    },
    {
      "cell_type": "code",
      "metadata": {
        "colab": {
          "base_uri": "https://localhost:8080/"
        },
        "id": "vt30nGpCDBJq",
        "outputId": "832dab1c-99ed-43b0-b10e-af4180da222a"
      },
      "source": [
        "opt_ipopt = SolverFactory('ipopt')\n",
        "result = opt_ipopt.solve(model)\n",
        "print(result)\n",
        "\n",
        "print('Solver status:', result.solver.status)\n",
        "print('Solver termination condition:',result.solver.termination_condition)\n",
        "print('\\nObjective = ', model.objective())\n",
        "\n",
        "print('\\nDecision Variables')\n",
        "print('xl = ', model.xl.value)\n",
        "print('yl = ', model.yl.value) \n",
        "print('xf = ', model.xf.value)\n",
        "print('yf = ', model.yf.value)\n",
        "print('xj = ', model.xj.value)\n",
        "print('yj = ', model.yj.value)"
      ],
      "execution_count": 16,
      "outputs": [
        {
          "output_type": "stream",
          "name": "stdout",
          "text": [
            "\n",
            "Problem: \n",
            "- Lower bound: -inf\n",
            "  Upper bound: inf\n",
            "  Number of objectives: 1\n",
            "  Number of constraints: 5\n",
            "  Number of variables: 6\n",
            "  Sense: unknown\n",
            "Solver: \n",
            "- Status: ok\n",
            "  Message: Ipopt 3.13.2\\x3a Optimal Solution Found\n",
            "  Termination condition: optimal\n",
            "  Id: 0\n",
            "  Error rc: 0\n",
            "  Time: 0.03089118003845215\n",
            "Solution: \n",
            "- number of solutions: 0\n",
            "  number of solutions displayed: 0\n",
            "\n",
            "Solver status: ok\n",
            "Solver termination condition: optimal\n",
            "\n",
            "Objective =  43056.16649434129\n",
            "\n",
            "Decision Variables\n",
            "xl =  -175.06555970851505\n",
            "yl =  156.66094472534294\n",
            "xf =  -74.46804648782\n",
            "yf =  -24.822682161914805\n",
            "xj =  -79.72453251652577\n",
            "yj =  -9.05322407544095\n"
          ]
        }
      ]
    },
    {
      "cell_type": "markdown",
      "metadata": {
        "id": "S4b02iIqGhg1"
      },
      "source": [
        "#Ans 6 :\n",
        "\n",
        "The locations of the two ends will be :\n",
        "\n",
        "$(x_l,y_l)=(-175.07,156.66)\\\\\n",
        "(x_f,y_f)=(-74.47,-24.82)$\n",
        "\n"
      ]
    }
  ]
}