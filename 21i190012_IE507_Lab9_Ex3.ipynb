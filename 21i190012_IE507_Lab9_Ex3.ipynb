{
  "nbformat": 4,
  "nbformat_minor": 0,
  "metadata": {
    "colab": {
      "name": "21i190012_IE507_Lab9_Ex3.ipynb",
      "provenance": [],
      "collapsed_sections": []
    },
    "kernelspec": {
      "name": "python3",
      "display_name": "Python 3"
    },
    "language_info": {
      "name": "python"
    }
  },
  "cells": [
    {
      "cell_type": "code",
      "metadata": {
        "id": "D6CZ3KpyKIyO",
        "colab": {
          "base_uri": "https://localhost:8080/"
        },
        "outputId": "142d64be-827f-4327-9274-c7daca1a6a21"
      },
      "source": [
        "!pip install -q pyomo"
      ],
      "execution_count": 1,
      "outputs": [
        {
          "output_type": "stream",
          "name": "stdout",
          "text": [
            "\u001b[K     |████████████████████████████████| 9.1 MB 5.2 MB/s \n",
            "\u001b[K     |████████████████████████████████| 49 kB 3.5 MB/s \n",
            "\u001b[?25h"
          ]
        }
      ]
    },
    {
      "cell_type": "code",
      "metadata": {
        "id": "q0Bn9ufRheS1"
      },
      "source": [
        "from pyomo.environ import *"
      ],
      "execution_count": 2,
      "outputs": []
    },
    {
      "cell_type": "code",
      "metadata": {
        "id": "tCmEqNimhnkW"
      },
      "source": [
        "import numpy as np"
      ],
      "execution_count": 3,
      "outputs": []
    },
    {
      "cell_type": "code",
      "metadata": {
        "colab": {
          "base_uri": "https://localhost:8080/"
        },
        "id": "i-iE_3XvhpDB",
        "outputId": "3926d28e-6a75-401c-f867-32d32f23f47d"
      },
      "source": [
        "%%bash\n",
        "rm -fv ipopt*\n",
        "apt install -q -yy libgfortran5\n",
        "sleep 1\n",
        "wget -q https://www.ieor.iitb.ac.in/files/faculty/amahajan/ipopt\n",
        "chmod u+rx ipopt"
      ],
      "execution_count": 4,
      "outputs": [
        {
          "output_type": "stream",
          "name": "stdout",
          "text": [
            "Reading package lists...\n",
            "Building dependency tree...\n",
            "Reading state information...\n",
            "The following NEW packages will be installed:\n",
            "  libgfortran5\n",
            "0 upgraded, 1 newly installed, 0 to remove and 37 not upgraded.\n",
            "Need to get 589 kB of archives.\n",
            "After this operation, 2,660 kB of additional disk space will be used.\n",
            "Get:1 http://archive.ubuntu.com/ubuntu bionic-updates/universe amd64 libgfortran5 amd64 8.4.0-1ubuntu1~18.04 [589 kB]\n",
            "Fetched 589 kB in 1s (846 kB/s)\n",
            "Selecting previously unselected package libgfortran5:amd64.\r\n",
            "(Reading database ... \r(Reading database ... 5%\r(Reading database ... 10%\r(Reading database ... 15%\r(Reading database ... 20%\r(Reading database ... 25%\r(Reading database ... 30%\r(Reading database ... 35%\r(Reading database ... 40%\r(Reading database ... 45%\r(Reading database ... 50%\r(Reading database ... 55%\r(Reading database ... 60%\r(Reading database ... 65%\r(Reading database ... 70%\r(Reading database ... 75%\r(Reading database ... 80%\r(Reading database ... 85%\r(Reading database ... 90%\r(Reading database ... 95%\r(Reading database ... 100%\r(Reading database ... 155047 files and directories currently installed.)\r\n",
            "Preparing to unpack .../libgfortran5_8.4.0-1ubuntu1~18.04_amd64.deb ...\r\n",
            "Unpacking libgfortran5:amd64 (8.4.0-1ubuntu1~18.04) ...\r\n",
            "Setting up libgfortran5:amd64 (8.4.0-1ubuntu1~18.04) ...\r\n",
            "Processing triggers for libc-bin (2.27-3ubuntu1.3) ...\r\n",
            "/sbin/ldconfig.real: /usr/local/lib/python3.7/dist-packages/ideep4py/lib/libmkldnn.so.0 is not a symbolic link\r\n",
            "\r\n"
          ]
        },
        {
          "output_type": "stream",
          "name": "stderr",
          "text": [
            "\n",
            "WARNING: apt does not have a stable CLI interface. Use with caution in scripts.\n",
            "\n"
          ]
        }
      ]
    },
    {
      "cell_type": "code",
      "metadata": {
        "id": "aTfcwl0jhtDt"
      },
      "source": [
        "import pandas as pd"
      ],
      "execution_count": 5,
      "outputs": []
    },
    {
      "cell_type": "code",
      "metadata": {
        "id": "X1HXfcK5iMvi"
      },
      "source": [
        "data_csvfile = pd.read_csv('lab6_ex3.csv')"
      ],
      "execution_count": 6,
      "outputs": []
    },
    {
      "cell_type": "code",
      "metadata": {
        "id": "7zwsjpXXicx6"
      },
      "source": [
        "model = ConcreteModel()"
      ],
      "execution_count": 7,
      "outputs": []
    },
    {
      "cell_type": "code",
      "metadata": {
        "id": "K_3YOIb_igGd"
      },
      "source": [
        "N = len(data_csvfile.index)"
      ],
      "execution_count": 8,
      "outputs": []
    },
    {
      "cell_type": "code",
      "metadata": {
        "id": "uHXU_iMmihpb"
      },
      "source": [
        "col_indices = range(N)"
      ],
      "execution_count": 9,
      "outputs": []
    },
    {
      "cell_type": "code",
      "metadata": {
        "id": "sg5og_Agije8"
      },
      "source": [
        "model.r = Var(col_indices)\n",
        "model.b0 = Var(domain = NonNegativeReals)\n",
        "model.b1 = Var()\n",
        "model.b2 = Var()"
      ],
      "execution_count": 10,
      "outputs": []
    },
    {
      "cell_type": "code",
      "metadata": {
        "id": "qVmXPSbEjiwG"
      },
      "source": [
        "model.objective = Objective(expr = sum(model.r[i]**2 for i in col_indices), sense = minimize)"
      ],
      "execution_count": 11,
      "outputs": []
    },
    {
      "cell_type": "code",
      "metadata": {
        "id": "o6Fr4_WJjnNU"
      },
      "source": [
        "model.constraints = ConstraintList()"
      ],
      "execution_count": 12,
      "outputs": []
    },
    {
      "cell_type": "code",
      "metadata": {
        "id": "qI2y7E-akCct"
      },
      "source": [
        "for i in col_indices:\n",
        "  model.constraints.add(data_csvfile['SP'][i] - (model.b0 + model.b1*data_csvfile['Lot Size'][i] + model.b2*data_csvfile['Elevation'][i]) == model.r[i])"
      ],
      "execution_count": 13,
      "outputs": []
    },
    {
      "cell_type": "code",
      "metadata": {
        "colab": {
          "base_uri": "https://localhost:8080/"
        },
        "id": "snRszDlkkQ66",
        "outputId": "ead8e451-a856-4fe7-f68f-a1e44765bb70"
      },
      "source": [
        "model.pprint()"
      ],
      "execution_count": 14,
      "outputs": [
        {
          "output_type": "stream",
          "name": "stdout",
          "text": [
            "2 Set Declarations\n",
            "    constraints_index : Size=1, Index=None, Ordered=Insertion\n",
            "        Key  : Dimen : Domain : Size : Members\n",
            "        None :     1 :    Any :    6 : {1, 2, 3, 4, 5, 6}\n",
            "    r_index : Size=1, Index=None, Ordered=False\n",
            "        Key  : Dimen : Domain : Size : Members\n",
            "        None :     1 :    Any :    6 : {0, 1, 2, 3, 4, 5}\n",
            "\n",
            "4 Var Declarations\n",
            "    b0 : Size=1, Index=None\n",
            "        Key  : Lower : Value : Upper : Fixed : Stale : Domain\n",
            "        None :     0 :  None :  None : False :  True : NonNegativeReals\n",
            "    b1 : Size=1, Index=None\n",
            "        Key  : Lower : Value : Upper : Fixed : Stale : Domain\n",
            "        None :  None :  None :  None : False :  True :  Reals\n",
            "    b2 : Size=1, Index=None\n",
            "        Key  : Lower : Value : Upper : Fixed : Stale : Domain\n",
            "        None :  None :  None :  None : False :  True :  Reals\n",
            "    r : Size=6, Index=r_index\n",
            "        Key : Lower : Value : Upper : Fixed : Stale : Domain\n",
            "          0 :  None :  None :  None : False :  True :  Reals\n",
            "          1 :  None :  None :  None : False :  True :  Reals\n",
            "          2 :  None :  None :  None : False :  True :  Reals\n",
            "          3 :  None :  None :  None : False :  True :  Reals\n",
            "          4 :  None :  None :  None : False :  True :  Reals\n",
            "          5 :  None :  None :  None : False :  True :  Reals\n",
            "\n",
            "1 Objective Declarations\n",
            "    objective : Size=1, Index=None, Active=True\n",
            "        Key  : Active : Sense    : Expression\n",
            "        None :   True : minimize : r[0]**2 + r[1]**2 + r[2]**2 + r[3]**2 + r[4]**2 + r[5]**2\n",
            "\n",
            "1 Constraint Declarations\n",
            "    constraints : Size=6, Index=constraints_index, Active=True\n",
            "        Key : Lower : Body                                    : Upper : Active\n",
            "          1 :   0.0 : 175000 - (b0 + 1800*b1 + 250*b2) - r[0] :   0.0 :   True\n",
            "          2 :   0.0 : 150000 - (b0 + 2800*b1 + 400*b2) - r[1] :   0.0 :   True\n",
            "          3 :   0.0 : 125000 - (b0 + 3500*b1 + 450*b2) - r[2] :   0.0 :   True\n",
            "          4 :   0.0 :   90000 - (b0 + 800*b1 + 100*b2) - r[3] :   0.0 :   True\n",
            "          5 :   0.0 :   80000 - (b0 + 700*b1 + 200*b2) - r[4] :   0.0 :   True\n",
            "          6 :   0.0 :   120000 - (b0 + 500*b1 + 50*b2) - r[5] :   0.0 :   True\n",
            "\n",
            "8 Declarations: r_index r b0 b1 b2 objective constraints_index constraints\n"
          ]
        }
      ]
    },
    {
      "cell_type": "code",
      "metadata": {
        "colab": {
          "base_uri": "https://localhost:8080/"
        },
        "id": "gCOFn1SKkb4W",
        "outputId": "d4bdca31-20a6-4571-e935-8680b6139825"
      },
      "source": [
        "opt_ipopt = SolverFactory('ipopt')\n",
        "result = opt_ipopt.solve(model)\n",
        "print(result)\n",
        "\n",
        "print('Solver status:', result.solver.status)\n",
        "print('Solver termination condition:',result.solver.termination_condition)\n",
        "print('\\nObjective = ', model.objective())\n",
        "\n",
        "print('\\nDecision Variables')\n",
        "for i in col_indices:\n",
        "  print('r[',i,'] =', model.r[i].value)  \n",
        "print('b0 = ', model.b0.value)\n",
        "print('b1 = ', model.b1.value)\n",
        "print('b2 = ', model.b2.value)  "
      ],
      "execution_count": 15,
      "outputs": [
        {
          "output_type": "stream",
          "name": "stdout",
          "text": [
            "\n",
            "Problem: \n",
            "- Lower bound: -inf\n",
            "  Upper bound: inf\n",
            "  Number of objectives: 1\n",
            "  Number of constraints: 6\n",
            "  Number of variables: 9\n",
            "  Sense: unknown\n",
            "Solver: \n",
            "- Status: ok\n",
            "  Message: Ipopt 3.13.2\\x3a Optimal Solution Found\n",
            "  Termination condition: optimal\n",
            "  Id: 0\n",
            "  Error rc: 0\n",
            "  Time: 0.02468276023864746\n",
            "Solution: \n",
            "- number of solutions: 0\n",
            "  number of solutions displayed: 0\n",
            "\n",
            "Solver status: ok\n",
            "Solver termination condition: optimal\n",
            "\n",
            "Objective =  4291134028.807458\n",
            "\n",
            "Decision Variables\n",
            "r[ 0 ] = 48762.444397373445\n",
            "r[ 1 ] = 14058.726964626147\n",
            "r[ 2 ] = -28366.606651133246\n",
            "r[ 3 ] = -26533.838169879265\n",
            "r[ 4 ] = -13331.391654310524\n",
            "r[ 5 ] = 5410.665113323442\n",
            "b0 =  104904.41643719551\n",
            "b1 =  38.70207583139165\n",
            "b2 =  -193.32238932429573\n"
          ]
        }
      ]
    },
    {
      "cell_type": "markdown",
      "metadata": {
        "id": "w-JpcLPl7SBI"
      },
      "source": [
        "#Ans 2 :\n",
        "\n",
        "Solver Status : Ok\n",
        "\n",
        "Solver Termination Condition : Optimal\n",
        "\n",
        "Objective Value : 4291134028.807\n",
        "\n",
        "Values of decision variables :\n",
        "\n",
        "$r_1=48762.44\\\\\n",
        "r_2=14058.73\\\\\n",
        "r_3=-28366.61\\\\\n",
        "r_4=-26533.84\\\\\n",
        "r_5=-13331.39\\\\\n",
        "r_6=5410.67$\n",
        "\n",
        "Values of constants, $b_0,b_1,b_2$\n",
        "\n",
        "$b_0 = 104904.42\\\\\n",
        "b_1 = 38.70\\\\\n",
        "b_2 = -193.32$\n",
        "\n",
        "**Maximum value of residual from linear model with absolute terms is : -54272.727**\n",
        "\n",
        "**Maximum value of residual from this model with absolute terms is : 48762.44**\n",
        "\n",
        "For comparison we take the absolute values, and see the difference, i.e. 5510.287\n",
        "\n",
        "There is a difference between them as $R^2$ gives more weight to larger errors as it squares the errors.\n",
        "\n",
        "R^2 will have lower maximum value than linear model ith absolute errors.\n"
      ]
    }
  ]
}