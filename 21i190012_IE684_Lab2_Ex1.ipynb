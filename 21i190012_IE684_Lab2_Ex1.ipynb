{
  "nbformat": 4,
  "nbformat_minor": 0,
  "metadata": {
    "colab": {
      "name": "21i190012_IE684_Lab2_Ex1.ipynb",
      "provenance": [],
      "collapsed_sections": []
    },
    "kernelspec": {
      "name": "python3",
      "display_name": "Python 3"
    }
  },
  "cells": [
    {
      "cell_type": "markdown",
      "metadata": {
        "id": "nVE0Xoa0Q5wE"
      },
      "source": [
        "$\\Large\\textbf{Lab 2. Exercise 1. }$\n",
        "\n"
      ]
    },
    {
      "cell_type": "markdown",
      "metadata": {
        "id": "YVkab74DJsRL"
      },
      "source": [
        "Recall that we implemented the gradient descent algorithm to solve $\\min_{\\mathbf{x} \\in {\\mathbb{R}}^n} f(\\mathbf{x})$. The main ingredients in the gradient descent iterations are the descent direction $\\mathbf{p}^k$ which is set to $-\\nabla f(\\mathbf{x}^k)$, and the step length $\\eta^k$ which is found by solving an optimization problem (or sometimes taken as a constant value over all iterations). We used the following procedure in the previous lab:\n",
        "\n",
        "\\begin{align}\n",
        "& \\textbf{Input:} \\text{ Starting point $x^0$, Stopping tolerance $\\tau$}  \\\\\n",
        "& \\textbf{Initialize } k=0 \\\\ \n",
        "& \\mathbf{p}^k =-\\nabla f(\\mathbf{x}^k) \\\\ \n",
        "&\\textbf{While } \\| \\mathbf{p}^k \\|_2 > \\tau \\text{ do:}  \\\\   \n",
        "&\\quad \\quad \\eta^k = \\arg\\min_{\\eta\\geq 0} f(\\mathbf{x}^k + \\eta  \\mathbf{p}^k) = \\arg\\min_{\\eta\\geq 0} f(\\mathbf{x}^k - \\eta  \\nabla f(\\mathbf{x}^k)) \\\\\n",
        "&\\quad \\quad \\mathbf{x}^{k+1} = \\mathbf{x}^k + \\eta^k \\mathbf{p}^k = \\mathbf{x}^k - \\eta^k \\nabla f (\\mathbf{x}^k)  \\\\ \n",
        "&\\quad \\quad k = {k+1} \\\\ \n",
        "&\\textbf{End While} \\\\\n",
        "&\\textbf{Output: } \\mathbf{x}^k\n",
        "\\end{align}"
      ]
    },
    {
      "cell_type": "markdown",
      "metadata": {
        "id": "g7ivDCuJRP9b"
      },
      "source": [
        "We saw that for particular cases of quadratic functions, a closed form analytical solution for the minimizer of the optimization problem $\\min_{\\eta \\geq 0} f({\\mathbf{x}}^k + \\eta {\\mathbf{p}}^k)$ exists. However finding a closed form expression as a solution to this optimization problem to find a suitable step length might not always be possible. To tackle general situations, we will try to devise a different procedure in this lab. \n",
        "\n",
        "To find the step length, we will use the following property: \n",
        "Suppose a non-zero $\\mathbf{p} \\in {\\mathbb{R}}^n$ is a descent direction at point $\\mathbf{x}$, and let $\\gamma \\in (0,1)$. Then there exists $\\varepsilon >0$ such that  \n",
        "\\begin{align}\n",
        "f(\\mathbf{x}+\\alpha \\mathbf{p}) \\leq f(\\mathbf{x}) + \\gamma \\alpha \\nabla f(\\mathbf{x})^\\top \\mathbf{p}, \\ \\forall \\alpha \\in (0,\\varepsilon].  \n",
        "\\end{align}\n",
        "\n",
        "The step length $\\eta^k$ can be found using a backtracking procedure illustrated below to find appropriate value of $\\varepsilon$.  \n",
        "\n"
      ]
    },
    {
      "cell_type": "markdown",
      "metadata": {
        "id": "WV6OddaNAmpA"
      },
      "source": [
        "\n",
        "\\begin{align}\n",
        "& \\textbf{Input:}  \\text{ $\\mathbf{x}^k$, $\\mathbf{p}^k$, $\\alpha^0$, $\\rho \\in (0,1)$, $\\gamma \\in (0,1)$ }  \\\\\n",
        "& \\textbf{Initialize } \\alpha=\\alpha^0 \\\\ \n",
        "&\\textbf{While } f(\\mathbf{x}^k + \\alpha \\mathbf{p}^k)   > f(\\mathbf{x}^k) + \\gamma \\alpha \\nabla f(\\mathbf{x}^k)^\\top \\mathbf{p}^k \\text{ do:}  \\\\   \n",
        "&\\quad \\quad \\alpha = \\rho \\alpha  \\\\\n",
        "&\\textbf{End While} \\\\\n",
        "&\\textbf{Output: } \\alpha\n",
        "\\end{align}"
      ]
    },
    {
      "cell_type": "markdown",
      "metadata": {
        "id": "iW-xcDISWmGR"
      },
      "source": [
        "In this exercise, we will check if finding the steplength using the backtracking procedure is advantageous for some quadratic functions. In this sample code we consider $f(\\mathbf{x})=f(x_1,x_2) = (x_1-8)^2 + (x_2 + 12)^2$."
      ]
    },
    {
      "cell_type": "code",
      "metadata": {
        "id": "KJq7tIgIRroP"
      },
      "source": [
        "#numpy package will be used for most of our lab exercises. Please have a look at Please have a look at https://numpy.org/doc/stable/ for numpy documentation\n",
        "#we will first import the numpy package and name it as np\n",
        "import numpy as np \n",
        "#Henceforth, we can lazily use np to denote the much longer numpy !! "
      ],
      "execution_count": null,
      "outputs": []
    },
    {
      "cell_type": "code",
      "metadata": {
        "id": "GZjX2IwOR8_X"
      },
      "source": [
        "#Now we will define a function which will compute and return the function value \n",
        "def evalf(x):  \n",
        "  #Input: x is a numpy array of size 2 \n",
        "  assert type(x) is np.ndarray and len(x) == 2 #do not allow arbitrary arguments \n",
        "  #after checking if the argument is valid, we can compute the objective function value\n",
        "  #compute the function value and return it \n",
        "  return (x[1]+12)**2 + (-8+x[0])**2\n"
      ],
      "execution_count": null,
      "outputs": []
    },
    {
      "cell_type": "code",
      "metadata": {
        "id": "6klpwtDra_I8"
      },
      "source": [
        "#Now we will define a function which will compute and return the gradient value as a numpy array \n",
        "def evalg(x):  \n",
        "  #Input: x is a numpy array of size 2 \n",
        "  assert type(x) is np.ndarray and len(x) == 2 #do not allow arbitrary arguments \n",
        "  #after checking if the argument is valid, we can compute the gradient value\n",
        "  #compute the gradient value and return it \n",
        "  return np.array([2*(x[0]-8), 2*(x[1]+12)])"
      ],
      "execution_count": null,
      "outputs": []
    },
    {
      "cell_type": "code",
      "metadata": {
        "id": "f3blM08V0HOl"
      },
      "source": [
        "#Complete the module to compute the steplength by using the closed-form expression\n",
        "def compute_steplength_exact(gradf, A): #add appropriate arguments to the function \n",
        "  assert type(gradf) is np.ndarray and len(gradf) == 2 \n",
        "  assert type(A) is np.ndarray and A.shape[0] == 2 and  A.shape[1] == 2 #allow only a 2x2 array\n",
        "\n",
        "  t1 = np.matmul(gradf,gradf)/2\n",
        "  t2 = np.matmul(np.matmul(A,gradf),gradf)\n",
        "\n",
        "  step_length = t1/t2\n",
        "  \n",
        "  return step_length"
      ],
      "execution_count": null,
      "outputs": []
    },
    {
      "cell_type": "code",
      "metadata": {
        "id": "PGunDYy6Q21S"
      },
      "source": [
        "#Complete the module to compute the steplength by using the backtracking line search\n",
        "def compute_steplength_backtracking(x, gradf, alpha_start, rho, gamma): #add appropriate arguments to the function \n",
        "  assert type(x) is np.ndarray and len(x) == 2 \n",
        "  assert type(gradf) is np.ndarray and len(gradf) == 2 \n",
        "  \n",
        "  alpha = alpha_start\n",
        "  #implement the backtracking line search\n",
        "\n",
        "  while evalf(x+alpha*(-gradf)) > evalf(x) + gamma*alpha*np.matmul(gradf.transpose(),-gradf):\n",
        "    alpha = rho*alpha\n",
        "\n",
        "\n",
        "  #print('final step length:',alpha)\n",
        "  return alpha"
      ],
      "execution_count": null,
      "outputs": []
    },
    {
      "cell_type": "code",
      "metadata": {
        "id": "WaUUdzLtVSCl"
      },
      "source": [
        "#we define the types of line search methods that we have implemented\n",
        "EXACT_LINE_SEARCH = 1\n",
        "BACKTRACKING_LINE_SEARCH = 2\n",
        "CONSTANT_STEP_LENGTH = 3"
      ],
      "execution_count": null,
      "outputs": []
    },
    {
      "cell_type": "code",
      "metadata": {
        "id": "3SCJdqivdpxx"
      },
      "source": [
        "def find_minimizer(start_x, tol, line_search_type, *args):\n",
        "  #Input: start_x is a numpy array of size 2, tol denotes the tolerance and is a positive float value\n",
        "  assert type(start_x) is np.ndarray and len(start_x) == 2 #do not allow arbitrary arguments \n",
        "  assert type(tol) is float and tol>=0 \n",
        "  # construct a suitable A matrix for the quadratic function \n",
        "  A = np.array([[1, 0],[0,1]])\n",
        "  x = start_x\n",
        "  g_x = evalg(x)\n",
        "\n",
        "  #initialization for backtracking line search\n",
        "  if(line_search_type == BACKTRACKING_LINE_SEARCH):\n",
        "    alpha_start = args[0]\n",
        "    rho = args[1]\n",
        "    gamma = args[2]\n",
        "    print('Params for Backtracking LS: alpha start:', alpha_start, 'rho:', rho,' gamma:', gamma)\n",
        "\n",
        "  k = 0\n",
        "  print('iter:',k, ' x:', x, ' f(x):', evalf(x), ' grad at x:', g_x, ' gradient norm:', np.linalg.norm(g_x))\n",
        "\n",
        "  while (np.linalg.norm(g_x) > tol): #continue as long as the norm of gradient is not close to zero upto a tolerance tol\n",
        "  \n",
        "    if line_search_type == EXACT_LINE_SEARCH:\n",
        "      step_length = compute_steplength_exact(g_x, A) #call the new function you wrote to compute the steplength\n",
        "      #raise ValueError('EXACT LINE SEARCH NOT YET IMPLEMENTED')\n",
        "    elif line_search_type == BACKTRACKING_LINE_SEARCH:\n",
        "      step_length = compute_steplength_backtracking(x,g_x, alpha_start,rho, gamma) #call the new function you wrote to compute the steplength\n",
        "      #raise ValueError('BACKTRACKING LINE SEARCH NOT YET IMPLEMENTED')\n",
        "    elif line_search_type == CONSTANT_STEP_LENGTH: #do a gradient descent with constant step length\n",
        "      step_length = 0.1\n",
        "    else:  \n",
        "      raise ValueError('Line search type unknown. Please check!')\n",
        "    \n",
        "    #implement the gradient descent steps here   \n",
        "    x = np.subtract(x, np.multiply(step_length,g_x)) #update x = x - step_length*g_x\n",
        "    k += 1 #increment iteration\n",
        "    g_x = evalg(x) #compute gradient at new point\n",
        "\n",
        "    print('iter:',k, ' x:', x, ' f(x):', evalf(x), ' grad at x:', g_x, ' gradient norm:', np.linalg.norm(g_x))\n",
        "  return x\n"
      ],
      "execution_count": null,
      "outputs": []
    },
    {
      "cell_type": "code",
      "metadata": {
        "id": "n-kHCkbwe-M4",
        "colab": {
          "base_uri": "https://localhost:8080/"
        },
        "outputId": "c71d98cb-2588-4c3c-f9eb-5b14c4f12c38"
      },
      "source": [
        "my_start_x = np.array([1,1])\n",
        "my_tol= 1e-5\n",
        "\n",
        "\n",
        "x_opt = find_minimizer(my_start_x, my_tol, CONSTANT_STEP_LENGTH)\n",
        "print(x_opt)"
      ],
      "execution_count": null,
      "outputs": [
        {
          "output_type": "stream",
          "name": "stdout",
          "text": [
            "iter: 0  x: [1 1]  f(x): 218  grad at x: [-14  26]  gradient norm: 29.5296461204668\n",
            "iter: 1  x: [ 2.4 -1.6]  f(x): 139.52  grad at x: [-11.2  20.8]  gradient norm: 23.62371689637344\n",
            "iter: 2  x: [ 3.52 -3.68]  f(x): 89.2928  grad at x: [-8.96 16.64]  gradient norm: 18.898973517098753\n",
            "iter: 3  x: [ 4.416 -5.344]  f(x): 57.147391999999996  grad at x: [-7.168 13.312]  gradient norm: 15.119178813679001\n",
            "iter: 4  x: [ 5.1328 -6.6752]  f(x): 36.57433088  grad at x: [-5.7344 10.6496]  gradient norm: 12.095343050943201\n",
            "iter: 5  x: [ 5.70624 -7.74016]  f(x): 23.407571763199996  grad at x: [-4.58752  8.51968]  gradient norm: 9.676274440754561\n",
            "iter: 6  x: [ 6.164992 -8.592128]  f(x): 14.980845928447996  grad at x: [-3.670016  6.815744]  gradient norm: 7.741019552603648\n",
            "iter: 7  x: [ 6.5319936 -9.2737024]  f(x): 9.587741394206713  grad at x: [-2.9360128  5.4525952]  gradient norm: 6.192815642082918\n",
            "iter: 8  x: [ 6.82559488 -9.81896192]  f(x): 6.136154492292296  grad at x: [-2.34881024  4.36207616]  gradient norm: 4.954252513666333\n",
            "iter: 9  x: [  7.0604759  -10.25516954]  f(x): 3.9271388750670724  grad at x: [-1.87904819  3.48966093]  gradient norm: 3.963402010933068\n",
            "iter: 10  x: [  7.24838072 -10.60413563]  f(x): 2.5133688800429272  grad at x: [-1.50323855  2.79172874]  gradient norm: 3.1707216087464554\n",
            "iter: 11  x: [  7.39870458 -10.8833085 ]  f(x): 1.608556083227473  grad at x: [-1.20259084  2.23338299]  gradient norm: 2.5365772869971637\n",
            "iter: 12  x: [  7.51896366 -11.1066468 ]  f(x): 1.0294758932655836  grad at x: [-0.96207267  1.7867064 ]  gradient norm: 2.029261829597732\n",
            "iter: 13  x: [  7.61517093 -11.28531744]  f(x): 0.6588645716899738  grad at x: [-0.76965814  1.42936512]  gradient norm: 1.623409463678186\n",
            "iter: 14  x: [  7.69213674 -11.42825395]  f(x): 0.42167332588158263  grad at x: [-0.61572651  1.14349209]  gradient norm: 1.2987275709425479\n",
            "iter: 15  x: [  7.7537094  -11.54260316]  f(x): 0.2698709285642127  grad at x: [-0.49258121  0.91479367]  gradient norm: 1.0389820567540378\n",
            "iter: 16  x: [  7.80296752 -11.63408253]  f(x): 0.17271739428109584  grad at x: [-0.39406497  0.73183494]  gradient norm: 0.8311856454032296\n",
            "iter: 17  x: [  7.84237401 -11.70726602]  f(x): 0.11053913233990176  grad at x: [-0.31525197  0.58546795]  gradient norm: 0.664948516322585\n",
            "iter: 18  x: [  7.87389921 -11.76581282]  f(x): 0.07074504469753722  grad at x: [-0.25220158  0.46837436]  gradient norm: 0.5319588130580684\n",
            "iter: 19  x: [  7.89911937 -11.81265026]  f(x): 0.04527682860642402  grad at x: [-0.20176126  0.37469949]  gradient norm: 0.4255670504464556\n",
            "iter: 20  x: [  7.91929549 -11.8501202 ]  f(x): 0.028977170308111266  grad at x: [-0.16140901  0.29975959]  gradient norm: 0.34045364035716386\n",
            "iter: 21  x: [  7.9354364  -11.88009616]  f(x): 0.018545388997191298  grad at x: [-0.12912721  0.23980767]  gradient norm: 0.27236291228573173\n",
            "iter: 22  x: [  7.94834912 -11.90407693]  f(x): 0.011869048958202257  grad at x: [-0.10330177  0.19184614]  gradient norm: 0.21789032982858378\n",
            "iter: 23  x: [  7.95867929 -11.92326154]  f(x): 0.007596191333249553  grad at x: [-0.08264141  0.15347691]  gradient norm: 0.17431226386286827\n",
            "iter: 24  x: [  7.96694343 -11.93860924]  f(x): 0.004861562453279738  grad at x: [-0.06611313  0.12278153]  gradient norm: 0.13944981109029495\n",
            "iter: 25  x: [  7.97355475 -11.95088739]  f(x): 0.003111399970098944  grad at x: [-0.0528905   0.09822522]  gradient norm: 0.11155984887223437\n",
            "iter: 26  x: [  7.9788438  -11.96070991]  f(x): 0.001991295980863367  grad at x: [-0.0423124   0.07858018]  gradient norm: 0.08924787909778846\n",
            "iter: 27  x: [  7.98307504 -11.96856793]  f(x): 0.001274429427752583  grad at x: [-0.03384992  0.06286414]  gradient norm: 0.07139830327823156\n",
            "iter: 28  x: [  7.98646003 -11.97485434]  f(x): 0.0008156348337616257  grad at x: [-0.02707994  0.05029131]  gradient norm: 0.05711864262258429\n",
            "iter: 29  x: [  7.98916802 -11.97988347]  f(x): 0.000522006293607447  grad at x: [-0.02166395  0.04023305]  gradient norm: 0.045694914098067724\n",
            "iter: 30  x: [  7.99133442 -11.98390678]  f(x): 0.0003340840279087578  grad at x: [-0.01733116  0.03218644]  gradient norm: 0.03655593127845372\n",
            "iter: 31  x: [  7.99306754 -11.98712542]  f(x): 0.00021381377786159158  grad at x: [-0.01386493  0.02574915]  gradient norm: 0.029244745022762062\n",
            "iter: 32  x: [  7.99445403 -11.98970034]  f(x): 0.00013684081783143522  grad at x: [-0.01109194  0.02059932]  gradient norm: 0.023395796018211068\n",
            "iter: 33  x: [  7.99556322 -11.99176027]  f(x): 8.757812341210526e-05  grad at x: [-0.00887355  0.01647946]  gradient norm: 0.018716636814567436\n",
            "iter: 34  x: [  7.99645058 -11.99340822]  f(x): 5.6049998983743945e-05  grad at x: [-0.00709884  0.01318357]  gradient norm: 0.014973309451653491\n",
            "iter: 35  x: [  7.99716046 -11.99472657]  f(x): 3.587199934959814e-05  grad at x: [-0.00567907  0.01054685]  gradient norm: 0.011978647561323129\n",
            "iter: 36  x: [  7.99772837 -11.99578126]  f(x): 2.295807958373843e-05  grad at x: [-0.00454326  0.00843748]  gradient norm: 0.009582918049057589\n",
            "iter: 37  x: [  7.9981827  -11.99662501]  f(x): 1.469317093359739e-05  grad at x: [-0.00363461  0.00674999]  gradient norm: 0.007666334439247323\n",
            "iter: 38  x: [  7.99854616 -11.99730001]  f(x): 9.403629397501814e-06  grad at x: [-0.00290769  0.00539999]  gradient norm: 0.0061330675513976895\n",
            "iter: 39  x: [  7.99883693 -11.99784   ]  f(x): 6.018322814400039e-06  grad at x: [-0.00232615  0.00431999]  gradient norm: 0.0049064540411176945\n",
            "iter: 40  x: [  7.99906954 -11.998272  ]  f(x): 3.851726601214466e-06  grad at x: [-0.00186092  0.00345599]  gradient norm: 0.0039251632328933615\n",
            "iter: 41  x: [  7.99925563 -11.9986176 ]  f(x): 2.4651050247789585e-06  grad at x: [-0.00148874  0.00276479]  gradient norm: 0.003140130586315772\n",
            "iter: 42  x: [  7.99940451 -11.99889408]  f(x): 1.577667215859531e-06  grad at x: [-0.00119099  0.00221184]  gradient norm: 0.002512104469053412\n",
            "iter: 43  x: [  7.9995236  -11.99911527]  f(x): 1.0097070181511879e-06  grad at x: [-0.00095279  0.00176947]  gradient norm: 0.002009683575243812\n",
            "iter: 44  x: [  7.99961888 -11.99929221]  f(x): 6.462124916174952e-07  grad at x: [-0.00076223  0.00141557]  gradient norm: 0.0016077468601959641\n",
            "iter: 45  x: [  7.99969511 -11.99943377]  f(x): 4.135759946358159e-07  grad at x: [-0.00060979  0.00113246]  gradient norm: 0.0012861974881577338\n",
            "iter: 46  x: [  7.99975609 -11.99954702]  f(x): 2.646886365671574e-07  grad at x: [-0.00048783  0.00090597]  gradient norm: 0.001028957990526644\n",
            "iter: 47  x: [  7.99980487 -11.99963761]  f(x): 1.6940072740309958e-07  grad at x: [-0.00039026  0.00072477]  gradient norm: 0.0008231663924216041\n",
            "iter: 48  x: [  7.99984389 -11.99971009]  f(x): 1.084164655380788e-07  grad at x: [-0.00031221  0.00057982]  gradient norm: 0.000658533113937572\n",
            "iter: 49  x: [  7.99987512 -11.99976807]  f(x): 6.938653794453523e-08  grad at x: [-0.00024977  0.00046386]  gradient norm: 0.0005268264911506833\n",
            "iter: 50  x: [  7.99990009 -11.99981446]  f(x): 4.440738428483721e-08  grad at x: [-0.00019981  0.00037108]  gradient norm: 0.0004214611929221347\n",
            "iter: 51  x: [  7.99992007 -11.99985157]  f(x): 2.842072594202808e-08  grad at x: [-0.00015985  0.00029687]  gradient norm: 0.00033716895433611967\n",
            "iter: 52  x: [  7.99993606 -11.99988125]  f(x): 1.818926460302129e-08  grad at x: [-0.00012788  0.00023749]  gradient norm: 0.00026973516346981007\n",
            "iter: 53  x: [  7.99994885 -11.999905  ]  f(x): 1.164112934610497e-08  grad at x: [-0.00010231  0.00019   ]  gradient norm: 0.00021578813077743615\n",
            "iter: 54  x: [  7.99995908 -11.999924  ]  f(x): 7.450322781467721e-09  grad at x: [-8.18440917e-05  1.51996170e-04]  gradient norm: 0.00017263050462149173\n",
            "iter: 55  x: [  7.99996726 -11.9999392 ]  f(x): 4.7682065801825415e-09  grad at x: [-6.54752734e-05  1.21596936e-04]  gradient norm: 0.00013810440369781902\n",
            "iter: 56  x: [  7.99997381 -11.99995136]  f(x): 3.051652211238402e-09  grad at x: [-5.23802187e-05  9.72775490e-05]  gradient norm: 0.00011048352295683554\n",
            "iter: 57  x: [  7.99997905 -11.99996109]  f(x): 1.9530574151798167e-09  grad at x: [-4.19041749e-05  7.78220392e-05]  gradient norm: 8.838681836517969e-05\n",
            "iter: 58  x: [  7.99998324 -11.99996887]  f(x): 1.2499567457533644e-09  grad at x: [-3.35233400e-05  6.22576313e-05]  gradient norm: 7.070945469322654e-05\n",
            "iter: 59  x: [  7.99998659 -11.9999751 ]  f(x): 7.999723172739864e-10  grad at x: [-2.68186720e-05  4.98061051e-05]  gradient norm: 5.656756375429249e-05\n",
            "iter: 60  x: [  7.99998927 -11.99998008]  f(x): 5.119822830798517e-10  grad at x: [-2.14549376e-05  3.98448841e-05]  gradient norm: 4.525405100451678e-05\n",
            "iter: 61  x: [  7.99999142 -11.99998406]  f(x): 3.2766866116587834e-10  grad at x: [-1.71639501e-05  3.18759073e-05]  gradient norm: 3.620324080332468e-05\n",
            "iter: 62  x: [  7.99999313 -11.99998725]  f(x): 2.0970794315766094e-10  grad at x: [-1.37311600e-05  2.55007258e-05]  gradient norm: 2.8962592643453794e-05\n",
            "iter: 63  x: [  7.99999451 -11.9999898 ]  f(x): 1.3421308362619942e-10  grad at x: [-1.09849280e-05  2.04005806e-05]  gradient norm: 2.3170074115220214e-05\n",
            "iter: 64  x: [  7.99999561 -11.99999184]  f(x): 8.589637352968794e-11  grad at x: [-8.78794243e-06  1.63204645e-05]  gradient norm: 1.853605929313865e-05\n",
            "iter: 65  x: [  7.99999648 -11.99999347]  f(x): 5.49736790568594e-11  grad at x: [-7.03035395e-06  1.30563716e-05]  gradient norm: 1.4828847434222175e-05\n",
            "iter: 66  x: [  7.99999719 -11.99999478]  f(x): 3.518315459738909e-11  grad at x: [-5.62428316e-06  1.04450973e-05]  gradient norm: 1.1863077947546175e-05\n",
            "iter: 67  x: [  7.99999775 -11.99999582]  f(x): 2.2517218946096954e-11  grad at x: [-4.49942653e-06  8.35607783e-06]  gradient norm: 9.490462358830986e-06\n",
            "[  7.99999775 -11.99999582]\n"
          ]
        }
      ]
    },
    {
      "cell_type": "code",
      "source": [
        "x_opt_els = find_minimizer(my_start_x, my_tol, EXACT_LINE_SEARCH)\n",
        "print(x_opt_els)"
      ],
      "metadata": {
        "colab": {
          "base_uri": "https://localhost:8080/"
        },
        "id": "XVdK8GS0zz8-",
        "outputId": "e310661b-c10b-4068-f173-aa334fb4e2a0"
      },
      "execution_count": null,
      "outputs": [
        {
          "output_type": "stream",
          "name": "stdout",
          "text": [
            "iter: 0  x: [1 1]  f(x): 218  grad at x: [-14  26]  gradient norm: 29.5296461204668\n",
            "iter: 1  x: [  8. -12.]  f(x): 0.0  grad at x: [0. 0.]  gradient norm: 0.0\n",
            "[  8. -12.]\n"
          ]
        }
      ]
    },
    {
      "cell_type": "code",
      "source": [
        "x_opt_bls = find_minimizer(my_start_x, my_tol, BACKTRACKING_LINE_SEARCH, 1, 0.5,0.5)\n",
        "print(x_opt_bls)"
      ],
      "metadata": {
        "colab": {
          "base_uri": "https://localhost:8080/"
        },
        "id": "GTEA__IDz2dD",
        "outputId": "99180b8f-abd0-47db-c0b5-f1d194756c99"
      },
      "execution_count": null,
      "outputs": [
        {
          "output_type": "stream",
          "name": "stdout",
          "text": [
            "Params for Backtracking LS: alpha start: 1 rho: 0.5  gamma: 0.5\n",
            "iter: 0  x: [1 1]  f(x): 218  grad at x: [-14  26]  gradient norm: 29.5296461204668\n",
            "iter: 1  x: [  8. -12.]  f(x): 0.0  grad at x: [0. 0.]  gradient norm: 0.0\n",
            "[  8. -12.]\n"
          ]
        }
      ]
    },
    {
      "cell_type": "markdown",
      "metadata": {
        "id": "BYJaACtKMIGH"
      },
      "source": [
        "${\\Large\\text{Do not forget to rename the file before submission.}}$"
      ]
    },
    {
      "cell_type": "markdown",
      "source": [
        "#Ans 3:\n",
        "\n",
        "Optimizer : [8,-12]\n",
        "\n",
        "Minimum Function Value : 0"
      ],
      "metadata": {
        "id": "UmvKK7xH0ad-"
      }
    },
    {
      "cell_type": "code",
      "source": [
        "def find_minimizer(start_x, tol, line_search_type, *args):\n",
        "  #Input: start_x is a numpy array of size 2, tol denotes the tolerance and is a positive float value\n",
        "  assert type(start_x) is np.ndarray and len(start_x) == 2 #do not allow arbitrary arguments \n",
        "  assert type(tol) is float and tol>=0 \n",
        "  # construct a suitable A matrix for the quadratic function \n",
        "  A = np.array([[1, 0],[0,1]])\n",
        "  x = start_x\n",
        "  g_x = evalg(x)\n",
        "\n",
        "  #initialization for backtracking line search\n",
        "  if(line_search_type == BACKTRACKING_LINE_SEARCH):\n",
        "    alpha_start = args[0]\n",
        "    rho = args[1]\n",
        "    gamma = args[2]\n",
        "    #print('Params for Backtracking LS: alpha start:', alpha_start, 'rho:', rho,' gamma:', gamma)\n",
        "\n",
        "  k = 0\n",
        "  #print('iter:',k, ' x:', x, ' f(x):', evalf(x), ' grad at x:', g_x, ' gradient norm:', np.linalg.norm(g_x))\n",
        "\n",
        "  while (np.linalg.norm(g_x) > tol): #continue as long as the norm of gradient is not close to zero upto a tolerance tol\n",
        "  \n",
        "    if line_search_type == EXACT_LINE_SEARCH:\n",
        "      step_length = compute_steplength_exact(g_x, A) #call the new function you wrote to compute the steplength\n",
        "      #raise ValueError('EXACT LINE SEARCH NOT YET IMPLEMENTED')\n",
        "    elif line_search_type == BACKTRACKING_LINE_SEARCH:\n",
        "      step_length = compute_steplength_backtracking(x,g_x, alpha_start,rho, gamma) #call the new function you wrote to compute the steplength\n",
        "      #raise ValueError('BACKTRACKING LINE SEARCH NOT YET IMPLEMENTED')\n",
        "    elif line_search_type == CONSTANT_STEP_LENGTH: #do a gradient descent with constant step length\n",
        "      step_length = 0.1\n",
        "    else:  \n",
        "      raise ValueError('Line search type unknown. Please check!')\n",
        "    \n",
        "    #implement the gradient descent steps here   \n",
        "    x = np.subtract(x, np.multiply(step_length,g_x)) #update x = x - step_length*g_x\n",
        "    k += 1 #increment iteration\n",
        "    g_x = evalg(x) #compute gradient at new point\n",
        "\n",
        "    #print('iter:',k, ' x:', x, ' f(x):', evalf(x), ' grad at x:', g_x, ' gradient norm:', np.linalg.norm(g_x))\n",
        "  return x,evalf(x),k\n"
      ],
      "metadata": {
        "id": "0BpC8Pz8252c"
      },
      "execution_count": null,
      "outputs": []
    },
    {
      "cell_type": "code",
      "source": [
        "q2_tol = 1e-12\n",
        "q2_start_x = np.array([25,25])"
      ],
      "metadata": {
        "id": "DjwXwHBO0vZ6"
      },
      "execution_count": null,
      "outputs": []
    },
    {
      "cell_type": "code",
      "metadata": {
        "id": "GcsCIAntMNdb",
        "colab": {
          "base_uri": "https://localhost:8080/"
        },
        "outputId": "b18d016d-f5c6-4b9b-ef8f-60375cd91ad3"
      },
      "source": [
        "x,f,k = find_minimizer(q2_start_x, q2_tol, EXACT_LINE_SEARCH)\n",
        "print('Iterations taken by Exact Line Search:',k)"
      ],
      "execution_count": null,
      "outputs": [
        {
          "output_type": "stream",
          "name": "stdout",
          "text": [
            "Iterations taken by Exact Line Search: 1\n"
          ]
        }
      ]
    },
    {
      "cell_type": "code",
      "source": [
        "x,f,k = find_minimizer(q2_start_x, q2_tol, BACKTRACKING_LINE_SEARCH, 1, 0.5,0.5)\n",
        "print('Iterations taken by Backtracking Line Search:',k)"
      ],
      "metadata": {
        "colab": {
          "base_uri": "https://localhost:8080/"
        },
        "id": "wPnFHEkU1KrY",
        "outputId": "3d35f439-314b-4bd6-83b2-148cfe6db58c"
      },
      "execution_count": null,
      "outputs": [
        {
          "output_type": "stream",
          "name": "stdout",
          "text": [
            "Iterations taken by Backtracking Line Search: 1\n"
          ]
        }
      ]
    },
    {
      "cell_type": "markdown",
      "source": [
        "#Ans 4:\n",
        "\n",
        "We can observe that both the methods terminate and give the result after just one iteration for the given function."
      ],
      "metadata": {
        "id": "XPo-RS0Z1Wbz"
      }
    },
    {
      "cell_type": "code",
      "source": [
        "q3_start_x = np.array([25,25])\n",
        "q3_tol = 1e-10\n",
        "alpha_0 = [1, 0.9, 0.75, 0.6, 0.5, 0.4, 0.25, 0.1, 0.01]\n",
        "k_els = []\n",
        "k_bls = []\n",
        "x_opt = []\n",
        "f_min = []\n",
        "for i in alpha_0:\n",
        "  a_els,b_els,c_els = find_minimizer(q3_start_x, q3_tol, EXACT_LINE_SEARCH)\n",
        "  a_bls,b_bls,c_bls = find_minimizer(q3_start_x, q3_tol, BACKTRACKING_LINE_SEARCH, i, 0.5,0.5)\n",
        "  x_opt.append(a_bls)\n",
        "  f_min.append(b_bls)\n",
        "  k_els.append(c_els)\n",
        "  k_bls.append(c_bls)"
      ],
      "metadata": {
        "id": "udN7N8Jc1Rc-"
      },
      "execution_count": null,
      "outputs": []
    },
    {
      "cell_type": "code",
      "source": [
        "import matplotlib.pyplot as plt\n",
        "\n",
        "plt.plot(alpha_0,k_bls)\n",
        "plt.xlabel('Alpha_0')\n",
        "plt.ylabel('Iterations')"
      ],
      "metadata": {
        "colab": {
          "base_uri": "https://localhost:8080/",
          "height": 297
        },
        "id": "C0DKeyt431WW",
        "outputId": "9420e884-6128-45cd-f1a0-48af3fd1c97a"
      },
      "execution_count": null,
      "outputs": [
        {
          "output_type": "execute_result",
          "data": {
            "text/plain": [
              "Text(0, 0.5, 'Iterations')"
            ]
          },
          "metadata": {},
          "execution_count": 124
        },
        {
          "output_type": "display_data",
          "data": {
            "image/png": "[encoded data removed]",
            "text/plain": [
              "<Figure size 432x288 with 1 Axes>"
            ]
          },
          "metadata": {
            "needs_background": "light"
          }
        }
      ]
    },
    {
      "cell_type": "code",
      "source": [
        "for i in range(len(alpha_0)):\n",
        "  print('For alpha_0 =',alpha_0[i],'\\nFinal Optimizer :',x_opt[i],'\\nFinal Function Value :',f_min[i],'\\n')"
      ],
      "metadata": {
        "colab": {
          "base_uri": "https://localhost:8080/"
        },
        "id": "SC6eRE7e4cJb",
        "outputId": "d5bc8ca6-e885-40c6-b603-8c16463d8108"
      },
      "execution_count": null,
      "outputs": [
        {
          "output_type": "stream",
          "name": "stdout",
          "text": [
            "For alpha_0 = 1 \n",
            "Final Optimizer : [  8. -12.] \n",
            "Final Function Value : 0.0 \n",
            "\n",
            "For alpha_0 = 0.9 \n",
            "Final Optimizer : [  8. -12.] \n",
            "Final Function Value : 1.6579714975258972e-21 \n",
            "\n",
            "For alpha_0 = 0.75 \n",
            "Final Optimizer : [  8. -12.] \n",
            "Final Function Value : 1.3714654556129199e-21 \n",
            "\n",
            "For alpha_0 = 0.6 \n",
            "Final Optimizer : [  8. -12.] \n",
            "Final Function Value : 2.2038291998576117e-21 \n",
            "\n",
            "For alpha_0 = 0.5 \n",
            "Final Optimizer : [  8. -12.] \n",
            "Final Function Value : 0.0 \n",
            "\n",
            "For alpha_0 = 0.4 \n",
            "Final Optimizer : [  8. -12.] \n",
            "Final Function Value : 1.1393259623274523e-22 \n",
            "\n",
            "For alpha_0 = 0.25 \n",
            "Final Optimizer : [  8. -12.] \n",
            "Final Function Value : 1.3714654556129199e-21 \n",
            "\n",
            "For alpha_0 = 0.1 \n",
            "Final Optimizer : [  8. -12.] \n",
            "Final Function Value : 2.3972320602008796e-21 \n",
            "\n",
            "For alpha_0 = 0.01 \n",
            "Final Optimizer : [  8. -12.] \n",
            "Final Function Value : 2.4523367712209537e-21 \n",
            "\n"
          ]
        }
      ]
    },
    {
      "cell_type": "code",
      "source": [
        "for i in range(len(alpha_0)):\n",
        "  print('For alpha_0:',alpha_0[i],'\\nNo. of iterations used by Exact Line Search:',k_els[i],'\\nNo. of iterations used by Backtracking Line Search:',k_bls[i],'\\n')"
      ],
      "metadata": {
        "colab": {
          "base_uri": "https://localhost:8080/"
        },
        "id": "6thfTmyD-LAO",
        "outputId": "f275f7f9-ec52-45b5-8585-539016598e0d"
      },
      "execution_count": null,
      "outputs": [
        {
          "output_type": "stream",
          "name": "stdout",
          "text": [
            "For alpha_0: 1 \n",
            "No. of iterations used by Exact Line Search: 1 \n",
            "No. of iterations used by Backtracking Line Search: 1 \n",
            "\n",
            "For alpha_0: 0.9 \n",
            "No. of iterations used by Exact Line Search: 1 \n",
            "No. of iterations used by Backtracking Line Search: 12 \n",
            "\n",
            "For alpha_0: 0.75 \n",
            "No. of iterations used by Exact Line Search: 1 \n",
            "No. of iterations used by Backtracking Line Search: 20 \n",
            "\n",
            "For alpha_0: 0.6 \n",
            "No. of iterations used by Exact Line Search: 1 \n",
            "No. of iterations used by Backtracking Line Search: 30 \n",
            "\n",
            "For alpha_0: 0.5 \n",
            "No. of iterations used by Exact Line Search: 1 \n",
            "No. of iterations used by Backtracking Line Search: 1 \n",
            "\n",
            "For alpha_0: 0.4 \n",
            "No. of iterations used by Exact Line Search: 1 \n",
            "No. of iterations used by Backtracking Line Search: 18 \n",
            "\n",
            "For alpha_0: 0.25 \n",
            "No. of iterations used by Exact Line Search: 1 \n",
            "No. of iterations used by Backtracking Line Search: 40 \n",
            "\n",
            "For alpha_0: 0.1 \n",
            "No. of iterations used by Exact Line Search: 1 \n",
            "No. of iterations used by Backtracking Line Search: 123 \n",
            "\n",
            "For alpha_0: 0.01 \n",
            "No. of iterations used by Exact Line Search: 1 \n",
            "No. of iterations used by Backtracking Line Search: 1358 \n",
            "\n"
          ]
        }
      ]
    },
    {
      "cell_type": "markdown",
      "source": [
        "#Ans 5:\n",
        "\n",
        "We can observe from the plot between iterations taken by backtracking line search and $\\alpha^{0}$ that as the value of $\\alpha^{0}$ reduces the no. of iterations increases rapidly.\n",
        "\n",
        "\n",
        "We can observe that except for when $\\alpha^{0}$ = 1 and 0.5, the minimum function value is away from 0 by a factor of $10^{-21}$.\n",
        "\n",
        "We can observe that backtracking line search never takes lesser iterations than exact line search and only equals the no. of iterations as that of exact line search when $\\alpha^{0} = \\{1,0.5\\}$."
      ],
      "metadata": {
        "id": "Cex13hRS5RwA"
      }
    },
    {
      "cell_type": "code",
      "source": [
        "q4_start_x = np.array([25,25])\n",
        "q4_tol = 1e-10\n",
        "rho = [0.9, 0.75, 0.6, 0.5, 0.4, 0.25, 0.1, 0.01]\n",
        "k_els = []\n",
        "k_bls = []\n",
        "x_opt = []\n",
        "f_min = []\n",
        "for i in rho:\n",
        "  a_els,b_els,c_els = find_minimizer(q3_start_x, q3_tol, EXACT_LINE_SEARCH)\n",
        "  a_bls,b_bls,c_bls = find_minimizer(q3_start_x, q3_tol, BACKTRACKING_LINE_SEARCH, 1, i,0.5)\n",
        "  x_opt.append(a_bls)\n",
        "  f_min.append(b_bls)\n",
        "  k_els.append(c_els)\n",
        "  k_bls.append(c_bls)"
      ],
      "metadata": {
        "id": "iDR3hHH65Lnm"
      },
      "execution_count": null,
      "outputs": []
    },
    {
      "cell_type": "code",
      "source": [
        "plt.plot(rho,k_bls)\n",
        "plt.xlabel('Rho')\n",
        "plt.ylabel('Iterations')"
      ],
      "metadata": {
        "colab": {
          "base_uri": "https://localhost:8080/",
          "height": 297
        },
        "id": "iyjcJdyaAXoR",
        "outputId": "d66168d7-de90-45a6-898a-5791f1936f46"
      },
      "execution_count": null,
      "outputs": [
        {
          "output_type": "execute_result",
          "data": {
            "text/plain": [
              "Text(0, 0.5, 'Iterations')"
            ]
          },
          "metadata": {},
          "execution_count": 128
        },
        {
          "output_type": "display_data",
          "data": {
            "image/png": "[encoded data removed]",
            "text/plain": [
              "<Figure size 432x288 with 1 Axes>"
            ]
          },
          "metadata": {
            "needs_background": "light"
          }
        }
      ]
    },
    {
      "cell_type": "code",
      "source": [
        "for i in range(len(rho)):\n",
        "  print('For rho =',rho[i],'\\nFinal Optimizer :',x_opt[i],'\\nFinal Function Value :',f_min[i],'\\n')"
      ],
      "metadata": {
        "colab": {
          "base_uri": "https://localhost:8080/"
        },
        "id": "lvHK_CYQAo2j",
        "outputId": "e9d9f3fc-f21c-45ff-d2d4-43a57b79d424"
      },
      "execution_count": null,
      "outputs": [
        {
          "output_type": "stream",
          "name": "stdout",
          "text": [
            "For rho = 0.9 \n",
            "Final Optimizer : [  8. -12.] \n",
            "Final Function Value : 4.960536411900771e-22 \n",
            "\n",
            "For rho = 0.75 \n",
            "Final Optimizer : [  8. -12.] \n",
            "Final Function Value : 1.0819468296335504e-21 \n",
            "\n",
            "For rho = 0.6 \n",
            "Final Optimizer : [  8. -12.] \n",
            "Final Function Value : 7.844395544174143e-22 \n",
            "\n",
            "For rho = 0.5 \n",
            "Final Optimizer : [  8. -12.] \n",
            "Final Function Value : 0.0 \n",
            "\n",
            "For rho = 0.4 \n",
            "Final Optimizer : [  8. -12.] \n",
            "Final Function Value : 1.1393259623274523e-22 \n",
            "\n",
            "For rho = 0.25 \n",
            "Final Optimizer : [  8. -12.] \n",
            "Final Function Value : 1.3714654556129199e-21 \n",
            "\n",
            "For rho = 0.1 \n",
            "Final Optimizer : [  8. -12.] \n",
            "Final Function Value : 2.3972320602008796e-21 \n",
            "\n",
            "For rho = 0.01 \n",
            "Final Optimizer : [  8. -12.] \n",
            "Final Function Value : 2.4523367712209537e-21 \n",
            "\n"
          ]
        }
      ]
    },
    {
      "cell_type": "code",
      "source": [
        "for i in range(len(rho)):\n",
        "  print('For rho:',rho[i],'\\nNo. of iterations used by Exact Line Search:',k_els[i],'\\nNo. of iterations used by Backtracking Line Search:',k_bls[i],'\\n')"
      ],
      "metadata": {
        "colab": {
          "base_uri": "https://localhost:8080/"
        },
        "id": "1J_DFrGMA6ag",
        "outputId": "0b65f767-1fb2-4d4e-ed94-7730772fd64e"
      },
      "execution_count": null,
      "outputs": [
        {
          "output_type": "stream",
          "name": "stdout",
          "text": [
            "For rho: 0.9 \n",
            "No. of iterations used by Exact Line Search: 1 \n",
            "No. of iterations used by Backtracking Line Search: 9 \n",
            "\n",
            "For rho: 0.75 \n",
            "No. of iterations used by Exact Line Search: 1 \n",
            "No. of iterations used by Backtracking Line Search: 15 \n",
            "\n",
            "For rho: 0.6 \n",
            "No. of iterations used by Exact Line Search: 1 \n",
            "No. of iterations used by Backtracking Line Search: 22 \n",
            "\n",
            "For rho: 0.5 \n",
            "No. of iterations used by Exact Line Search: 1 \n",
            "No. of iterations used by Backtracking Line Search: 1 \n",
            "\n",
            "For rho: 0.4 \n",
            "No. of iterations used by Exact Line Search: 1 \n",
            "No. of iterations used by Backtracking Line Search: 18 \n",
            "\n",
            "For rho: 0.25 \n",
            "No. of iterations used by Exact Line Search: 1 \n",
            "No. of iterations used by Backtracking Line Search: 40 \n",
            "\n",
            "For rho: 0.1 \n",
            "No. of iterations used by Exact Line Search: 1 \n",
            "No. of iterations used by Backtracking Line Search: 123 \n",
            "\n",
            "For rho: 0.01 \n",
            "No. of iterations used by Exact Line Search: 1 \n",
            "No. of iterations used by Backtracking Line Search: 1358 \n",
            "\n"
          ]
        }
      ]
    },
    {
      "cell_type": "markdown",
      "source": [
        "#Ans 6:\n",
        "\n",
        "We can observe from the plot between iterations taken by backtracking line search and $\\rho$ that as the value of $\\rho$ reduces the no. of iterations increases rapidly.\n",
        "\n",
        "\n",
        "We can observe that except for when $\\rho$ = 0.5, the minimum function value is away from 0 by a factor of $10^{-21}$.\n",
        "\n",
        "We can observe that backtracking line search never takes lesser iterations than exact line search and only equals the no. of iterations as that of exact line search when $\\rho = 0.5$."
      ],
      "metadata": {
        "id": "Lt9INnDBBVle"
      }
    },
    {
      "cell_type": "code",
      "source": [
        ""
      ],
      "metadata": {
        "id": "lx_-m5U0BHl6"
      },
      "execution_count": null,
      "outputs": []
    }
  ]
}