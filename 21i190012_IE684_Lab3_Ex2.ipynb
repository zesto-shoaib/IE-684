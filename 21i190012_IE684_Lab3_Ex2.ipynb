{
  "nbformat": 4,
  "nbformat_minor": 0,
  "metadata": {
    "colab": {
      "name": "21i190012_IE684_Lab3_Ex2.ipynb",
      "provenance": [],
      "collapsed_sections": []
    },
    "kernelspec": {
      "name": "python3",
      "display_name": "Python 3"
    },
    "language_info": {
      "name": "python"
    }
  },
  "cells": [
    {
      "cell_type": "markdown",
      "source": [
        "#Ans 1:\n",
        "\n",
        "A suitable diagonal matrix $D^k$ cannot be chosen for this situation since the given function cannot be written in the form of $x^TAx + b^Tx + c$ where $A$ is a 2x2 symmetric matrix."
      ],
      "metadata": {
        "id": "uHAUy_D_lhh6"
      }
    },
    {
      "cell_type": "code",
      "execution_count": 1,
      "metadata": {
        "id": "8AO3lXCpLfGz"
      },
      "outputs": [],
      "source": [
        "import numpy as np\n",
        "from scipy.linalg import sqrtm\n",
        "import matplotlib.pyplot as plt"
      ]
    },
    {
      "cell_type": "code",
      "source": [
        "def evalf(x):\n",
        "  assert type(x) is np.ndarray and len(x) == 2\n",
        "  return (512*(x[1]-x[0]**2)**2 + (4-x[0])**2)"
      ],
      "metadata": {
        "id": "XgD9UlvxLlHA"
      },
      "execution_count": 2,
      "outputs": []
    },
    {
      "cell_type": "code",
      "source": [
        "def evalg(x):\n",
        "  assert type(x) is np.ndarray and len(x) == 2\n",
        "  return np.array([-2048*x[0]*(x[1]-x[0]**2)+2*x[0]-8, 1024*(x[1]-x[0]**2)])"
      ],
      "metadata": {
        "id": "RFEoEJHoMsAd"
      },
      "execution_count": 3,
      "outputs": []
    },
    {
      "cell_type": "code",
      "source": [
        "def evalh(x):\n",
        "  return np.array([[-2048*x[1]+6144*x[0]**2+2,-2048*x[0]],[-2048*x[0],1024]])"
      ],
      "metadata": {
        "id": "iZGCqahCQP6f"
      },
      "execution_count": 4,
      "outputs": []
    },
    {
      "cell_type": "code",
      "source": [
        "def compute_dk(hes):\n",
        "  return np.linalg.inv(hes)"
      ],
      "metadata": {
        "id": "BCh_GSLSSftg"
      },
      "execution_count": 5,
      "outputs": []
    },
    {
      "cell_type": "code",
      "source": [
        "def compute_steplength_backtracking(x, gradf, alpha_start, rho, gamma):\n",
        "  assert type(x) is np.ndarray and len(x) == 2\n",
        "  assert type(gradf) is np.ndarray and len(gradf) == 2\n",
        "  \n",
        "  alpha = alpha_start\n",
        "\n",
        "  while evalf(x+alpha*-gradf) > evalf(x) + gamma*alpha*np.matmul(gradf.transpose(),-gradf):\n",
        "    alpha = rho*alpha\n",
        "\n",
        "  return alpha"
      ],
      "metadata": {
        "id": "3qTvSHwYUECF"
      },
      "execution_count": 6,
      "outputs": []
    },
    {
      "cell_type": "code",
      "source": [
        "def compute_steplength_backtracking_scaled_direction(x, gradf, alpha_start, rho, gamma, d_k):\n",
        "  assert type(x) is np.ndarray and len(x) == 2\n",
        "  assert type(gradf) is np.ndarray and len(gradf) == 2\n",
        "  \n",
        "  alpha = alpha_start\n",
        "\n",
        "  while evalf(x+alpha*np.matmul(d_k,(-gradf))) > evalf(x) + gamma*alpha*np.matmul(gradf.transpose(),np.matmul(d_k,-gradf)):\n",
        "    alpha = rho*alpha\n",
        "\n",
        "  return alpha"
      ],
      "metadata": {
        "id": "N3-wYFhhNuGi"
      },
      "execution_count": 7,
      "outputs": []
    },
    {
      "cell_type": "code",
      "source": [
        "BACKTRACKING_LINE_SEARCH = 1\n",
        "BACKTRACKING_LINE_SEARCH_WITH_SCALING = 2"
      ],
      "metadata": {
        "id": "lj2GZJyIOHu-"
      },
      "execution_count": 8,
      "outputs": []
    },
    {
      "cell_type": "code",
      "source": [
        "def find_minimizer(start_x, tol, line_search_type, *args):\n",
        "  #Input: start_x is a numpy array of size 2, tol denotes the tolerance and is a positive float value\n",
        "  assert type(start_x) is np.ndarray and len(start_x) == 2 #do not allow arbitrary arguments \n",
        "  assert type(tol) is float and tol>=0 \n",
        "  # construct a suitable A matrix for the quadratic function\n",
        "  x = start_x\n",
        "  g_x = evalg(x)\n",
        "\n",
        "  alpha_start = args[0]\n",
        "  rho = args[1]\n",
        "  gamma = args[2]\n",
        "  hes_x = evalh(x)\n",
        "  condition_no = []\n",
        "\n",
        "  #initialization for backtracking line search\n",
        "  if(line_search_type == BACKTRACKING_LINE_SEARCH_WITH_SCALING):\n",
        "    d_k = compute_dk(hes_x)\n",
        "\n",
        "  k = 0\n",
        "  #print('iter:',k, ' x:', x, ' f(x):', evalf(x), ' grad at x:', g_x, ' gradient norm:', np.linalg.norm(g_x))\n",
        "\n",
        "  while (np.linalg.norm(g_x) > tol): #continue as long as the norm of gradient is not close to zero upto a tolerance tol\n",
        "  \n",
        "    if line_search_type == BACKTRACKING_LINE_SEARCH:\n",
        "      step_length = compute_steplength_backtracking(x,g_x, alpha_start,rho, gamma)\n",
        "      x = np.subtract(x, np.multiply(step_length,g_x)) #update x = x - step_length*g_x\n",
        "      k += 1 #increment iteration\n",
        "      g_x = evalg(x) #call the new function you wrote to compute the steplength\n",
        "      hes_x = evalh(x)\n",
        "      condition_no.append(max(np.linalg.eig(hes_x)[0])/min(np.linalg.eig(hes_x)[0]))\n",
        "      #raise ValueError('EXACT LINE SEARCH NOT YET IMPLEMENTED')\n",
        "    elif line_search_type == BACKTRACKING_LINE_SEARCH_WITH_SCALING:\n",
        "      step_length = compute_steplength_backtracking_scaled_direction(x,g_x, alpha_start,rho, gamma, d_k)\n",
        "      x = np.subtract(x, np.multiply(step_length,np.matmul(d_k,g_x))) #update x = x - step_length*g_x\n",
        "      k += 1 #increment iteration\n",
        "      g_x = evalg(x) #compute gradient at new point\n",
        "      hes_x = evalh(x)\n",
        "      d_k = compute_dk(hes_x) #call the new function you wrote to compute the steplength\n",
        "      condition_no.append(max(np.linalg.eig(np.matmul(np.matmul(sqrtm(d_k),hes_x),sqrtm(d_k)))[0])/min(np.linalg.eig(np.matmul(np.matmul(sqrtm(d_k),hes_x),sqrtm(d_k)))[0]))\n",
        "      #raise ValueError('BACKTRACKING LINE SEARCH NOT YET IMPLEMENTED')\n",
        "    else:  \n",
        "      raise ValueError('Line search type unknown. Please check!')\n",
        "    \n",
        "    #print('iter:',k, ' x:', x, ' f(x):', evalf(x), ' grad at x:', g_x, ' gradient norm:', np.linalg.norm(g_x))\n",
        "  return x,k,evalf(x),condition_no"
      ],
      "metadata": {
        "id": "6vEe83BtN0Tt"
      },
      "execution_count": 9,
      "outputs": []
    },
    {
      "cell_type": "markdown",
      "source": [
        "#Ans 3:\n",
        "\n",
        "The Q matrix can be the $M^T\\nabla_{\\mathbf{x}} f(\\mathbf{x})M$ where $M=D^{1/2}$"
      ],
      "metadata": {
        "id": "vS6osLyuiZNw"
      }
    },
    {
      "cell_type": "code",
      "source": [
        "my_start_x = np.array([8.,8.])\n",
        "my_tol = 1e-5"
      ],
      "metadata": {
        "id": "Dm7olAmCTUHJ"
      },
      "execution_count": 10,
      "outputs": []
    },
    {
      "cell_type": "code",
      "source": [
        "x_ns,k_ns,f_ns,cond_ns = find_minimizer(my_start_x, my_tol, BACKTRACKING_LINE_SEARCH,1.0,0.5,0.5)"
      ],
      "metadata": {
        "id": "5ecbFij1OCWP"
      },
      "execution_count": 11,
      "outputs": []
    },
    {
      "cell_type": "code",
      "source": [
        "x_s,k_s,f_s,cond_s = find_minimizer(my_start_x, my_tol, BACKTRACKING_LINE_SEARCH_WITH_SCALING,1.0,0.5,0.5)"
      ],
      "metadata": {
        "id": "CqSynAH4UcMZ"
      },
      "execution_count": 12,
      "outputs": []
    },
    {
      "cell_type": "code",
      "source": [
        "print(x_ns,k_ns,f_ns)"
      ],
      "metadata": {
        "colab": {
          "base_uri": "https://localhost:8080/"
        },
        "id": "NTACcFmS3bLW",
        "outputId": "03c7febb-6a59-400b-8e92-ea454fc7a2ce"
      },
      "execution_count": 13,
      "outputs": [
        {
          "output_type": "stream",
          "name": "stdout",
          "text": [
            "[ 3.99995977 15.99967817] 902389 1.6183088090612175e-09\n"
          ]
        }
      ]
    },
    {
      "cell_type": "code",
      "source": [
        "print(x_s,k_s,f_s)"
      ],
      "metadata": {
        "colab": {
          "base_uri": "https://localhost:8080/"
        },
        "id": "5ykIV4y4VI9Q",
        "outputId": "f3c41e54-7884-45b6-96a2-0fa545ca1d10"
      },
      "execution_count": 14,
      "outputs": [
        {
          "output_type": "stream",
          "name": "stdout",
          "text": [
            "[ 4. 16.] 48 2.356430075812841e-25\n"
          ]
        }
      ]
    },
    {
      "cell_type": "code",
      "source": [
        "plt.plot(cond_ns, label = 'Condition No for Backtracking without scaling')\n",
        "plt.plot(cond_s, label = 'Condition No for Backtracking with scaling')\n",
        "plt.legend()\n",
        "plt.show()"
      ],
      "metadata": {
        "colab": {
          "base_uri": "https://localhost:8080/",
          "height": 276
        },
        "id": "-3A4IkDIiyB1",
        "outputId": "7664e3f4-9c8e-45d3-eb15-8c6bf862d56f"
      },
      "execution_count": 15,
      "outputs": [
        {
          "output_type": "display_data",
          "data": {
            "image/png": "[encoded data removed]",
            "text/plain": [
              "<Figure size 432x288 with 1 Axes>"
            ]
          },
          "metadata": {
            "needs_background": "light"
          }
        }
      ]
    },
    {
      "cell_type": "code",
      "source": [
        "plt.plot(cond_s, label = 'Condition No for Backtracking with scaling')\n",
        "plt.legend()\n",
        "plt.show()"
      ],
      "metadata": {
        "colab": {
          "base_uri": "https://localhost:8080/",
          "height": 276
        },
        "id": "dUNqOaaxjIkh",
        "outputId": "ea0cebe5-0391-4de5-ef16-d9a8fdbb2d79"
      },
      "execution_count": 16,
      "outputs": [
        {
          "output_type": "display_data",
          "data": {
            "image/png": "[encoded data removed]",
            "text/plain": [
              "<Figure size 432x288 with 1 Axes>"
            ]
          },
          "metadata": {
            "needs_background": "light"
          }
        }
      ]
    },
    {
      "cell_type": "markdown",
      "source": [
        "#Ans 4:\n",
        "\n",
        "We can observe that for backtracking without scaling even after taking more than 90000 iterations the solution is not exact whereas for backtracking with scaling just after 48 iterations we get the solution.\n",
        "\n",
        "(Since the plot for backtracking with scaling was not visible in the combined plot, I have made an individual plot for it.)\n",
        "\n",
        "We can observe that for backtracking with scaling, condition no. always lingers around 1.\n",
        "\n",
        "As for backtracking without scaling, condition no. increases rapidly as iterations increase."
      ],
      "metadata": {
        "id": "BagbEnKbjtSq"
      }
    }
  ]
}