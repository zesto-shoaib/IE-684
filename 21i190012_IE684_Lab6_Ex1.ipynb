{
  "nbformat": 4,
  "nbformat_minor": 0,
  "metadata": {
    "colab": {
      "name": "21i190012_IE684_Lab6_Ex1.ipynb",
      "provenance": []
    },
    "kernelspec": {
      "name": "python3",
      "display_name": "Python 3"
    },
    "language_info": {
      "name": "python"
    }
  },
  "cells": [
    {
      "cell_type": "code",
      "execution_count": 1,
      "metadata": {
        "id": "ci9MpP6MFVdv"
      },
      "outputs": [],
      "source": [
        "import numpy as np\n",
        "import matplotlib.pyplot as plt\n",
        "from timeit import default_timer as timer"
      ]
    },
    {
      "cell_type": "code",
      "source": [
        "np.random.seed(1000)"
      ],
      "metadata": {
        "id": "9Dg04V1yFaCk"
      },
      "execution_count": 2,
      "outputs": []
    },
    {
      "cell_type": "code",
      "source": [
        "A = np.random.randn(1000,10)"
      ],
      "metadata": {
        "id": "eLGsKKLTFqsY"
      },
      "execution_count": 3,
      "outputs": []
    },
    {
      "cell_type": "code",
      "source": [
        "x_ = np.zeros(10)\n",
        "for i in range(10):\n",
        "  if i % 2 == 0:\n",
        "    x_[i] = np.random.uniform(-(i+2),-(i+1))\n",
        "  else:\n",
        "    x_[i] = np.random.uniform(i+1,i+2)\n",
        "\n",
        "x_ = x_.reshape(10,1)"
      ],
      "metadata": {
        "id": "dBgDYOOoFzY3"
      },
      "execution_count": 4,
      "outputs": []
    },
    {
      "cell_type": "code",
      "source": [
        "e = np.random.randn(1000,1)"
      ],
      "metadata": {
        "id": "8dp3XvGKHFUr"
      },
      "execution_count": 5,
      "outputs": []
    },
    {
      "cell_type": "code",
      "source": [
        "y = np.add(np.matmul(A,x_),e)"
      ],
      "metadata": {
        "id": "Sd9-eolhHhYe"
      },
      "execution_count": 6,
      "outputs": []
    },
    {
      "cell_type": "code",
      "source": [
        "def evalf(x1):\n",
        "  res = ((np.linalg.norm(np.subtract(np.matmul(A,x1),y)))**2)/2\n",
        "  return res"
      ],
      "metadata": {
        "id": "gx_iTZHmI9R_"
      },
      "execution_count": 7,
      "outputs": []
    },
    {
      "cell_type": "code",
      "source": [
        "def evalg(x1):\n",
        "  arr = np.zeros(10)\n",
        "  err = np.subtract(np.matmul(A,x1),y)\n",
        "  for i in range(10):\n",
        "    arr[i] = np.matmul(err.transpose(),A[:,i])\n",
        "  return arr.reshape(10,1)"
      ],
      "metadata": {
        "id": "kNt8malkLn7T"
      },
      "execution_count": 8,
      "outputs": []
    },
    {
      "cell_type": "code",
      "source": [
        "def evalh(x1):\n",
        "  hes = np.zeros((10,10))\n",
        "  for i in range(10):\n",
        "    for j in range(10):\n",
        "      hes[i][j] = np.matmul(A[:,i],A[:,j])\n",
        "  return hes"
      ],
      "metadata": {
        "id": "AtVG9cOnkfMI"
      },
      "execution_count": 9,
      "outputs": []
    },
    {
      "cell_type": "code",
      "source": [
        "def compute_steplength_backtracking_scaled_direction(x, p, gradf, alpha_start, rho, gamma, d_k):\n",
        "  #assert type(x) is np.ndarray and len(x) == 2\n",
        "  #assert type(gradf) is np.ndarray and len(gradf) == 2\n",
        "  \n",
        "  alpha = alpha_start\n",
        "\n",
        "  while evalf(x+alpha*np.matmul(d_k,p)) > evalf(x) + gamma*alpha*(np.matmul(gradf.transpose(),np.matmul(d_k,p))):\n",
        "    alpha = rho*alpha\n",
        "\n",
        "  return alpha"
      ],
      "metadata": {
        "id": "QQ7LPsGpnDiq"
      },
      "execution_count": 10,
      "outputs": []
    },
    {
      "cell_type": "code",
      "source": [
        "def Newton(n, tol, *args):\n",
        "  xlist = []\n",
        "  x = np.zeros(n).reshape(n,1)\n",
        "  xlist.append(x)\n",
        "  grad_f = evalg(x)\n",
        "\n",
        "  alpha = args[0]\n",
        "  rho = args[1]\n",
        "  gamma = args[2]\n",
        "\n",
        "  hes_f = evalh(x)\n",
        "\n",
        "  k = 0\n",
        "\n",
        "  while np.linalg.norm(grad_f) > tol and k < 10000:\n",
        "    p = -grad_f\n",
        "    d = np.linalg.inv(hes_f)\n",
        "    step_length = compute_steplength_backtracking_scaled_direction(x, p, grad_f, alpha, rho, gamma, d)\n",
        "    x = np.add(x, np.multiply(step_length, np.matmul(d,p)))\n",
        "    xlist.append(x)\n",
        "    k += 1 \n",
        "    grad_f = evalg(x) \n",
        "    hes_f = evalh(x)\n",
        "  return k, x, evalf(x), xlist"
      ],
      "metadata": {
        "id": "IjtP7O5enZQ7"
      },
      "execution_count": 11,
      "outputs": []
    },
    {
      "cell_type": "code",
      "source": [
        "start_time = timer()\n",
        "k, x, f, l = Newton(10, 1e-5, 0.99, 0.5, 0.5)\n",
        "end_time = timer()\n",
        "n_time = end_time - start_time"
      ],
      "metadata": {
        "id": "m9B03eM1nmK3"
      },
      "execution_count": 12,
      "outputs": []
    },
    {
      "cell_type": "code",
      "source": [
        "print(x_)\n",
        "print(x)"
      ],
      "metadata": {
        "colab": {
          "base_uri": "https://localhost:8080/"
        },
        "id": "C2f9LGn2WIcJ",
        "outputId": "3f8ba793-8b78-49e6-93af-17bd059e773b"
      },
      "execution_count": 13,
      "outputs": [
        {
          "output_type": "stream",
          "name": "stdout",
          "text": [
            "[[-1.06258705]\n",
            " [ 2.94307072]\n",
            " [-3.34150552]\n",
            " [ 4.58252615]\n",
            " [-5.75947573]\n",
            " [ 6.93512469]\n",
            " [-7.61893094]\n",
            " [ 8.16818187]\n",
            " [-9.2179964 ]\n",
            " [10.00022174]]\n",
            "[[-1.04982253]\n",
            " [ 2.95189743]\n",
            " [-3.34298192]\n",
            " [ 4.60956007]\n",
            " [-5.71176195]\n",
            " [ 6.89877618]\n",
            " [-7.62879358]\n",
            " [ 8.16821112]\n",
            " [-9.22221199]\n",
            " [10.05669293]]\n"
          ]
        }
      ]
    },
    {
      "cell_type": "markdown",
      "source": [
        "#Ans 2:\n",
        "\n",
        "\n",
        "*   $x^* : [-1.04982253,  2.95189743, -3.34298192,  4.60956007, -5.71176195, 6.89877618, -7.62879358,  8.16821112, -9.22221199, 10.05669293]\\\\\n",
        "\\bar{x} : [-1.06258705,  2.94307072, -3.34150552,  4.58252615, -5.75947573, 6.93512469, -7.61893094,  8.16818187, -9.2179964 , 10.00022174]$\n",
        "\n",
        "* The required plot is below.\n",
        "\n",
        "* The required plot is below.\n",
        "\n",
        "* We can observe from the plot and the quotient of the norm as given in notes that the convergence rate is Q-linear.\n",
        "\n",
        "\n"
      ],
      "metadata": {
        "id": "TzXduzExoyfB"
      }
    },
    {
      "cell_type": "code",
      "source": [
        "pl = []\n",
        "for i in range(k+1):\n",
        "  pl.append(np.log10(np.linalg.norm(np.subtract(l[i],x))))\n",
        "\n",
        "kl = range(0,k+1)\n",
        "\n",
        "plt.plot(kl,pl)\n",
        "ax1 = plt.subplot()\n",
        "ax1.set_xticks(kl)\n",
        "plt.xlabel('Iterations')\n",
        "plt.ylabel('log(||xk - x*||')\n",
        "plt.show()"
      ],
      "metadata": {
        "colab": {
          "base_uri": "https://localhost:8080/",
          "height": 368
        },
        "id": "I4FtMtRxrKu5",
        "outputId": "a5242817-fb5f-4e9a-9cdb-07f21b96990b"
      },
      "execution_count": 14,
      "outputs": [
        {
          "output_type": "stream",
          "name": "stderr",
          "text": [
            "/usr/local/lib/python3.7/dist-packages/ipykernel_launcher.py:3: RuntimeWarning: divide by zero encountered in log10\n",
            "  This is separate from the ipykernel package so we can avoid doing imports until\n",
            "/usr/local/lib/python3.7/dist-packages/ipykernel_launcher.py:8: MatplotlibDeprecationWarning: Adding an axes using the same arguments as a previous axes currently reuses the earlier instance.  In a future version, a new instance will always be created and returned.  Meanwhile, this warning can be suppressed, and the future behavior ensured, by passing a unique label to each axes instance.\n",
            "  \n"
          ]
        },
        {
          "output_type": "display_data",
          "data": {
            "image/png": "[encoded data removed]",
            "text/plain": [
              "<Figure size 432x288 with 1 Axes>"
            ]
          },
          "metadata": {
            "needs_background": "light"
          }
        }
      ]
    },
    {
      "cell_type": "code",
      "source": [
        "fl = []\n",
        "for i in range(k+1):\n",
        "  fl.append(np.log10(abs(evalf(l[i])-f)))\n",
        "\n",
        "kl = range(0,k+1)\n",
        "\n",
        "plt.plot(kl,fl)\n",
        "ax1 = plt.subplot()\n",
        "ax1.set_xticks(kl)\n",
        "plt.xlabel('Iterations')\n",
        "plt.ylabel('log(||xk - x*||')\n",
        "plt.show()"
      ],
      "metadata": {
        "colab": {
          "base_uri": "https://localhost:8080/",
          "height": 370
        },
        "id": "0Ha-_DwirU_z",
        "outputId": "31146673-f222-4d75-b11f-0ab01a8a50e4"
      },
      "execution_count": 15,
      "outputs": [
        {
          "output_type": "stream",
          "name": "stderr",
          "text": [
            "/usr/local/lib/python3.7/dist-packages/ipykernel_launcher.py:3: RuntimeWarning: divide by zero encountered in log10\n",
            "  This is separate from the ipykernel package so we can avoid doing imports until\n",
            "/usr/local/lib/python3.7/dist-packages/ipykernel_launcher.py:8: MatplotlibDeprecationWarning: Adding an axes using the same arguments as a previous axes currently reuses the earlier instance.  In a future version, a new instance will always be created and returned.  Meanwhile, this warning can be suppressed, and the future behavior ensured, by passing a unique label to each axes instance.\n",
            "  \n"
          ]
        },
        {
          "output_type": "display_data",
          "data": {
            "image/png": "[encoded data removed]",
            "text/plain": [
              "<Figure size 432x288 with 1 Axes>"
            ]
          },
          "metadata": {
            "needs_background": "light"
          }
        }
      ]
    },
    {
      "cell_type": "code",
      "source": [
        "def compute_steplength_backtracking(x, gradf, B, alpha_start, rho, gamma):\n",
        "  #assert type(x) is np.ndarray and len(x) == 2\n",
        "  #assert type(gradf) is np.ndarray and len(gradf) == 2\n",
        "  \n",
        "  alpha = alpha_start\n",
        "\n",
        "  while evalf(x+alpha*-np.matmul(B,gradf)) > evalf(x) + gamma*alpha*np.matmul(gradf.transpose(),-np.matmul(B,gradf)):\n",
        "    alpha = rho*alpha\n",
        "\n",
        "  return alpha"
      ],
      "metadata": {
        "id": "VXNVM5w4uizO"
      },
      "execution_count": 16,
      "outputs": []
    },
    {
      "cell_type": "code",
      "source": [
        "def BFGS(n, tol, *args):\n",
        "  xlist = []\n",
        "  x1 = np.zeros(n).reshape(n,1)\n",
        "  xlist.append(x1)\n",
        "  grad_f = evalg(x1)\n",
        "\n",
        "  alpha_start = args[0]\n",
        "  rho = args[1]\n",
        "  gamma = args[2]\n",
        "\n",
        "  I = np.identity(n)\n",
        "\n",
        "  B = I\n",
        "\n",
        "  k = 0\n",
        "\n",
        "  while np.linalg.norm(grad_f) > tol and k < 3000:\n",
        "    alpha = compute_steplength_backtracking(x1, grad_f, B, alpha_start, rho, gamma)\n",
        "    x2 = np.add(x1, np.multiply(alpha,np.matmul(B,-grad_f)))\n",
        "    s = x2 - x1\n",
        "    y = evalg(x2) - evalg(x1)\n",
        "    mu = 1/np.matmul(y.transpose(),s)\n",
        "    #print(p,alpha,x2,s,y,mu)\n",
        "    B = np.add(np.matmul(np.matmul(np.subtract(I,np.matmul(np.multiply(mu,s),y.transpose())),B),np.subtract(I,np.matmul(np.multiply(mu,y),s.transpose()))),np.matmul(np.multiply(mu,s),s.transpose()))\n",
        "    x1 = x2\n",
        "    xlist.append(x1)\n",
        "    grad_f = evalg(x2)\n",
        "    k = k+1\n",
        "    #print(np.linalg.norm(grad_f))\n",
        "  return k, xlist, x1, evalf(x1)"
      ],
      "metadata": {
        "id": "mj85IO6iRlho"
      },
      "execution_count": 17,
      "outputs": []
    },
    {
      "cell_type": "code",
      "source": [
        "start_time = timer()\n",
        "k, xl, x, f = BFGS(10, 1e-5, 0.99, 0.5, 0.5)\n",
        "end_time = timer()\n",
        "b_time = end_time - start_time"
      ],
      "metadata": {
        "id": "5kU2FHyjR4Qu"
      },
      "execution_count": 18,
      "outputs": []
    },
    {
      "cell_type": "code",
      "source": [
        "print(x_)\n",
        "print(x)"
      ],
      "metadata": {
        "id": "NbUjcV9USCwO",
        "colab": {
          "base_uri": "https://localhost:8080/"
        },
        "outputId": "7d0b6630-b1ac-411b-d9ba-49d4bf7d2d0b"
      },
      "execution_count": 19,
      "outputs": [
        {
          "output_type": "stream",
          "name": "stdout",
          "text": [
            "[[-1.06258705]\n",
            " [ 2.94307072]\n",
            " [-3.34150552]\n",
            " [ 4.58252615]\n",
            " [-5.75947573]\n",
            " [ 6.93512469]\n",
            " [-7.61893094]\n",
            " [ 8.16818187]\n",
            " [-9.2179964 ]\n",
            " [10.00022174]]\n",
            "[[-1.04982253]\n",
            " [ 2.95189743]\n",
            " [-3.34298192]\n",
            " [ 4.60956007]\n",
            " [-5.71176195]\n",
            " [ 6.89877618]\n",
            " [-7.62879358]\n",
            " [ 8.16821112]\n",
            " [-9.22221199]\n",
            " [10.05669293]]\n"
          ]
        }
      ]
    },
    {
      "cell_type": "markdown",
      "source": [
        "#Ans 3:\n",
        "\n",
        "\n",
        "*   $x^* : [-1.04982253, 2.95189743, -3.34298192, 4.60956007, -5.71176195, 6.89877618, -7.62879358, 8.16821112, -9.22221199, 10.05669293]\\\\\n",
        "\\bar{x} : [-1.06258705,  2.94307072, -3.34150552,  4.58252615, -5.75947573, 6.93512469, -7.61893094,  8.16818187, -9.2179964 , 10.00022174]$\n",
        "\n",
        "* The required plot is below.\n",
        "\n",
        "* The required plot is below.\n",
        "\n",
        "* We can observe from the plot and the quotient of the norm as given in notes that the convergence rate is Q-linear.\n",
        "\n"
      ],
      "metadata": {
        "id": "Sv5ynpA1Xam2"
      }
    },
    {
      "cell_type": "code",
      "source": [
        "pl = []\n",
        "for i in range(k+1):\n",
        "  pl.append(np.log10(np.linalg.norm(np.subtract(xl[i],x))))\n",
        "\n",
        "kl = range(0,k+1)\n",
        "\n",
        "plt.plot(kl,pl)\n",
        "ax1 = plt.subplot()\n",
        "ax1.set_xticks(kl)\n",
        "plt.xlabel('Iterations')\n",
        "plt.ylabel('log(||xk - x*||')\n",
        "plt.show()"
      ],
      "metadata": {
        "colab": {
          "base_uri": "https://localhost:8080/",
          "height": 368
        },
        "id": "YCC1DwRaXVpM",
        "outputId": "60de91af-3bc3-4430-a6b0-8aeb6f424291"
      },
      "execution_count": 20,
      "outputs": [
        {
          "output_type": "stream",
          "name": "stderr",
          "text": [
            "/usr/local/lib/python3.7/dist-packages/ipykernel_launcher.py:3: RuntimeWarning: divide by zero encountered in log10\n",
            "  This is separate from the ipykernel package so we can avoid doing imports until\n",
            "/usr/local/lib/python3.7/dist-packages/ipykernel_launcher.py:8: MatplotlibDeprecationWarning: Adding an axes using the same arguments as a previous axes currently reuses the earlier instance.  In a future version, a new instance will always be created and returned.  Meanwhile, this warning can be suppressed, and the future behavior ensured, by passing a unique label to each axes instance.\n",
            "  \n"
          ]
        },
        {
          "output_type": "display_data",
          "data": {
            "image/png": "[encoded data removed]",
            "text/plain": [
              "<Figure size 432x288 with 1 Axes>"
            ]
          },
          "metadata": {
            "needs_background": "light"
          }
        }
      ]
    },
    {
      "cell_type": "code",
      "source": [
        "fl = []\n",
        "for i in range(k+1):\n",
        "  fl.append(np.log10(abs(evalf(xl[i])-f)))\n",
        "\n",
        "kl = range(0,k+1)\n",
        "\n",
        "plt.plot(kl,fl)\n",
        "ax1 = plt.subplot()\n",
        "ax1.set_xticks(kl)\n",
        "plt.xlabel('Iterations')\n",
        "plt.ylabel('log(||xk - x*||')\n",
        "plt.show()"
      ],
      "metadata": {
        "colab": {
          "base_uri": "https://localhost:8080/",
          "height": 368
        },
        "id": "X2VNV8aOYDQH",
        "outputId": "4efc2317-4f3e-4c2d-dd23-7ee606f4050f"
      },
      "execution_count": 21,
      "outputs": [
        {
          "output_type": "stream",
          "name": "stderr",
          "text": [
            "/usr/local/lib/python3.7/dist-packages/ipykernel_launcher.py:3: RuntimeWarning: divide by zero encountered in log10\n",
            "  This is separate from the ipykernel package so we can avoid doing imports until\n",
            "/usr/local/lib/python3.7/dist-packages/ipykernel_launcher.py:8: MatplotlibDeprecationWarning: Adding an axes using the same arguments as a previous axes currently reuses the earlier instance.  In a future version, a new instance will always be created and returned.  Meanwhile, this warning can be suppressed, and the future behavior ensured, by passing a unique label to each axes instance.\n",
            "  \n"
          ]
        },
        {
          "output_type": "display_data",
          "data": {
            "image/png": "[encoded data removed]",
            "text/plain": [
              "<Figure size 432x288 with 1 Axes>"
            ]
          },
          "metadata": {
            "needs_background": "light"
          }
        }
      ]
    },
    {
      "cell_type": "code",
      "source": [
        "print(n_time)\n",
        "print(b_time)"
      ],
      "metadata": {
        "colab": {
          "base_uri": "https://localhost:8080/"
        },
        "id": "X-3yRGxzYNKf",
        "outputId": "e2bd09cc-d754-4c78-b72e-f0e2b898dd08"
      },
      "execution_count": 22,
      "outputs": [
        {
          "output_type": "stream",
          "name": "stdout",
          "text": [
            "0.01549165799997354\n",
            "0.019970591999936005\n"
          ]
        }
      ]
    },
    {
      "cell_type": "markdown",
      "source": [
        "#Ans 4:\n",
        "\n",
        "Newton's method takes 5 iterations whereas BFGS method takes 21 iterations.\n",
        "\n",
        "The minimum value reached by both functions is same.\n",
        "\n",
        "Time taken by Newton's method : 0.0138 seconds\n",
        "\n",
        "Time taken by BFGS : 0.0566 seconds\n",
        "\n",
        "Though both the methods take very less time yet time taken by BFGS method is around 4 times the time taken by Newton's method."
      ],
      "metadata": {
        "id": "wVLUoYRS28LC"
      }
    },
    {
      "cell_type": "code",
      "source": [
        ""
      ],
      "metadata": {
        "id": "nmfi9nG6294Y"
      },
      "execution_count": 22,
      "outputs": []
    }
  ]
}