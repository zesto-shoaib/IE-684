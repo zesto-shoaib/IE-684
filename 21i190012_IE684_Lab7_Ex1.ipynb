{
  "nbformat": 4,
  "nbformat_minor": 0,
  "metadata": {
    "colab": {
      "name": "21i190012_IE684_Lab7_Ex1.ipynb",
      "provenance": [],
      "collapsed_sections": []
    },
    "kernelspec": {
      "name": "python3",
      "display_name": "Python 3"
    },
    "language_info": {
      "name": "python"
    }
  },
  "cells": [
    {
      "cell_type": "code",
      "execution_count": 1,
      "metadata": {
        "id": "hwQI9R3QLybZ"
      },
      "outputs": [],
      "source": [
        "import numpy as np"
      ]
    },
    {
      "cell_type": "code",
      "source": [
        "from sklearn.datasets import load_digits"
      ],
      "metadata": {
        "id": "npTpCwVtMHR3"
      },
      "execution_count": 2,
      "outputs": []
    },
    {
      "cell_type": "code",
      "source": [
        "digits = load_digits()"
      ],
      "metadata": {
        "id": "z0KpHK0xMLl_"
      },
      "execution_count": 3,
      "outputs": []
    },
    {
      "cell_type": "code",
      "source": [
        "print(digits.data.shape)\n",
        "print(digits.target.shape)"
      ],
      "metadata": {
        "colab": {
          "base_uri": "https://localhost:8080/"
        },
        "id": "XbY48N5LMOKx",
        "outputId": "787bc313-a877-4a34-fcba-403db116f4ba"
      },
      "execution_count": 4,
      "outputs": [
        {
          "output_type": "stream",
          "name": "stdout",
          "text": [
            "(1797, 64)\n",
            "(1797,)\n"
          ]
        }
      ]
    },
    {
      "cell_type": "code",
      "source": [
        "A = digits.data"
      ],
      "metadata": {
        "id": "U_UA2jwVMQ1H"
      },
      "execution_count": 5,
      "outputs": []
    },
    {
      "cell_type": "code",
      "source": [
        "print(digits.DESCR)"
      ],
      "metadata": {
        "colab": {
          "base_uri": "https://localhost:8080/"
        },
        "id": "PolxceBjM14b",
        "outputId": "a3205701-a28c-45f8-b41a-0dc16a02ca5b"
      },
      "execution_count": 6,
      "outputs": [
        {
          "output_type": "stream",
          "name": "stdout",
          "text": [
            ".. _digits_dataset:\n",
            "\n",
            "Optical recognition of handwritten digits dataset\n",
            "--------------------------------------------------\n",
            "\n",
            "**Data Set Characteristics:**\n",
            "\n",
            "    :Number of Instances: 1797\n",
            "    :Number of Attributes: 64\n",
            "    :Attribute Information: 8x8 image of integer pixels in the range 0..16.\n",
            "    :Missing Attribute Values: None\n",
            "    :Creator: E. Alpaydin (alpaydin '@' boun.edu.tr)\n",
            "    :Date: July; 1998\n",
            "\n",
            "This is a copy of the test set of the UCI ML hand-written digits datasets\n",
            "https://archive.ics.uci.edu/ml/datasets/Optical+Recognition+of+Handwritten+Digits\n",
            "\n",
            "The data set contains images of hand-written digits: 10 classes where\n",
            "each class refers to a digit.\n",
            "\n",
            "Preprocessing programs made available by NIST were used to extract\n",
            "normalized bitmaps of handwritten digits from a preprinted form. From a\n",
            "total of 43 people, 30 contributed to the training set and different 13\n",
            "to the test set. 32x32 bitmaps are divided into nonoverlapping blocks of\n",
            "4x4 and the number of on pixels are counted in each block. This generates\n",
            "an input matrix of 8x8 where each element is an integer in the range\n",
            "0..16. This reduces dimensionality and gives invariance to small\n",
            "distortions.\n",
            "\n",
            "For info on NIST preprocessing routines, see M. D. Garris, J. L. Blue, G.\n",
            "T. Candela, D. L. Dimmick, J. Geist, P. J. Grother, S. A. Janet, and C.\n",
            "L. Wilson, NIST Form-Based Handprint Recognition System, NISTIR 5469,\n",
            "1994.\n",
            "\n",
            ".. topic:: References\n",
            "\n",
            "  - C. Kaynak (1995) Methods of Combining Multiple Classifiers and Their\n",
            "    Applications to Handwritten Digit Recognition, MSc Thesis, Institute of\n",
            "    Graduate Studies in Science and Engineering, Bogazici University.\n",
            "  - E. Alpaydin, C. Kaynak (1998) Cascading Classifiers, Kybernetika.\n",
            "  - Ken Tang and Ponnuthurai N. Suganthan and Xi Yao and A. Kai Qin.\n",
            "    Linear dimensionalityreduction using relevance weighted LDA. School of\n",
            "    Electrical and Electronic Engineering Nanyang Technological University.\n",
            "    2005.\n",
            "  - Claudio Gentile. A New Approximate Maximal Margin Classification\n",
            "    Algorithm. NIPS. 2000.\n",
            "\n"
          ]
        }
      ]
    },
    {
      "cell_type": "code",
      "source": [
        "y = 1.0*np.ones([A.shape[0],1])\n",
        "for i in range(digits.target.shape[0]):\n",
        "  y[i] = digits.target[i]"
      ],
      "metadata": {
        "id": "UtW76AhwM6jB"
      },
      "execution_count": 7,
      "outputs": []
    },
    {
      "cell_type": "code",
      "source": [
        "def evalf(x):\n",
        "  res = ((np.linalg.norm(np.subtract(np.matmul(A,x),y)))**2)/2\n",
        "  return res"
      ],
      "metadata": {
        "id": "lK02gmFINO4H"
      },
      "execution_count": 8,
      "outputs": []
    },
    {
      "cell_type": "code",
      "source": [
        "def evalg(x):\n",
        "  arr = np.zeros(64)\n",
        "  err = np.subtract(np.matmul(A,x),y)\n",
        "  for i in range(10):\n",
        "    arr[i] = np.matmul(err.transpose(),A[:,i])\n",
        "  return arr.reshape(64,1)"
      ],
      "metadata": {
        "id": "ZI3tdlIQOPSB"
      },
      "execution_count": 9,
      "outputs": []
    },
    {
      "cell_type": "code",
      "source": [
        "def evalh(x):\n",
        "  hes = np.zeros((64,64))\n",
        "  for i in range(64):\n",
        "    for j in range(64):\n",
        "      hes[i][j] = np.matmul(A[:,i],A[:,j])\n",
        "  return hes"
      ],
      "metadata": {
        "id": "Qe9dl_GAOZOt"
      },
      "execution_count": 10,
      "outputs": []
    },
    {
      "cell_type": "code",
      "source": [
        "def compute_steplength_backtracking_scaled_direction(x, p, gradf, alpha_start, rho, gamma, d_k):\n",
        "  #assert type(x) is np.ndarray and len(x) == 2\n",
        "  #assert type(gradf) is np.ndarray and len(gradf) == 2\n",
        "  \n",
        "  alpha = alpha_start\n",
        "\n",
        "  while evalf(x+alpha*np.matmul(d_k,p)) > evalf(x) + gamma*alpha*(np.matmul(gradf.transpose(),np.matmul(d_k,p))):\n",
        "    alpha = rho*alpha\n",
        "\n",
        "  return alpha"
      ],
      "metadata": {
        "id": "D6SWeN4OOhwP"
      },
      "execution_count": 11,
      "outputs": []
    },
    {
      "cell_type": "code",
      "source": [
        "def Newton(n, tol, *args):\n",
        "  xlist = []\n",
        "  x = np.zeros(n).reshape(n,1)\n",
        "  xlist.append(x)\n",
        "  grad_f = evalg(x)\n",
        "\n",
        "  alpha = args[0]\n",
        "  rho = args[1]\n",
        "  gamma = args[2]\n",
        "\n",
        "  hes_f = evalh(x)\n",
        "\n",
        "  k = 0\n",
        "\n",
        "  while np.linalg.norm(grad_f) > tol and k < 10000:\n",
        "    p = -grad_f\n",
        "    d = np.linalg.inv(hes_f)\n",
        "    step_length = compute_steplength_backtracking_scaled_direction(x, p, grad_f, alpha, rho, gamma, d)\n",
        "    x = np.add(x, np.multiply(step_length, np.matmul(d,p)))\n",
        "    xlist.append(x)\n",
        "    k += 1 \n",
        "    grad_f = evalg(x) \n",
        "    hes_f = evalh(x)\n",
        "  return k, x, evalf(x), xlist"
      ],
      "metadata": {
        "id": "_qv506HROuTw"
      },
      "execution_count": 12,
      "outputs": []
    },
    {
      "cell_type": "code",
      "source": [
        "Newton(64, 1e-5, 1, 0.5, 0.5)"
      ],
      "metadata": {
        "colab": {
          "base_uri": "https://localhost:8080/",
          "height": 345
        },
        "id": "XDSF0jRNO51l",
        "outputId": "28fbbab2-858b-474a-be32-c8f99c4d4831"
      },
      "execution_count": 13,
      "outputs": [
        {
          "output_type": "error",
          "ename": "LinAlgError",
          "evalue": "ignored",
          "traceback": [
            "\u001b[0;31m---------------------------------------------------------------------------\u001b[0m",
            "\u001b[0;31mLinAlgError\u001b[0m                               Traceback (most recent call last)",
            "\u001b[0;32m<ipython-input-13-070f4be23d72>\u001b[0m in \u001b[0;36m<module>\u001b[0;34m()\u001b[0m\n\u001b[0;32m----> 1\u001b[0;31m \u001b[0mNewton\u001b[0m\u001b[0;34m(\u001b[0m\u001b[0;36m64\u001b[0m\u001b[0;34m,\u001b[0m \u001b[0;36m1e-5\u001b[0m\u001b[0;34m,\u001b[0m \u001b[0;36m1\u001b[0m\u001b[0;34m,\u001b[0m \u001b[0;36m0.5\u001b[0m\u001b[0;34m,\u001b[0m \u001b[0;36m0.5\u001b[0m\u001b[0;34m)\u001b[0m\u001b[0;34m\u001b[0m\u001b[0;34m\u001b[0m\u001b[0m\n\u001b[0m",
            "\u001b[0;32m<ipython-input-12-a946bf343fde>\u001b[0m in \u001b[0;36mNewton\u001b[0;34m(n, tol, *args)\u001b[0m\n\u001b[1;32m     15\u001b[0m   \u001b[0;32mwhile\u001b[0m \u001b[0mnp\u001b[0m\u001b[0;34m.\u001b[0m\u001b[0mlinalg\u001b[0m\u001b[0;34m.\u001b[0m\u001b[0mnorm\u001b[0m\u001b[0;34m(\u001b[0m\u001b[0mgrad_f\u001b[0m\u001b[0;34m)\u001b[0m \u001b[0;34m>\u001b[0m \u001b[0mtol\u001b[0m \u001b[0;32mand\u001b[0m \u001b[0mk\u001b[0m \u001b[0;34m<\u001b[0m \u001b[0;36m10000\u001b[0m\u001b[0;34m:\u001b[0m\u001b[0;34m\u001b[0m\u001b[0;34m\u001b[0m\u001b[0m\n\u001b[1;32m     16\u001b[0m     \u001b[0mp\u001b[0m \u001b[0;34m=\u001b[0m \u001b[0;34m-\u001b[0m\u001b[0mgrad_f\u001b[0m\u001b[0;34m\u001b[0m\u001b[0;34m\u001b[0m\u001b[0m\n\u001b[0;32m---> 17\u001b[0;31m     \u001b[0md\u001b[0m \u001b[0;34m=\u001b[0m \u001b[0mnp\u001b[0m\u001b[0;34m.\u001b[0m\u001b[0mlinalg\u001b[0m\u001b[0;34m.\u001b[0m\u001b[0minv\u001b[0m\u001b[0;34m(\u001b[0m\u001b[0mhes_f\u001b[0m\u001b[0;34m)\u001b[0m\u001b[0;34m\u001b[0m\u001b[0;34m\u001b[0m\u001b[0m\n\u001b[0m\u001b[1;32m     18\u001b[0m     \u001b[0mstep_length\u001b[0m \u001b[0;34m=\u001b[0m \u001b[0mcompute_steplength_backtracking_scaled_direction\u001b[0m\u001b[0;34m(\u001b[0m\u001b[0mx\u001b[0m\u001b[0;34m,\u001b[0m \u001b[0mp\u001b[0m\u001b[0;34m,\u001b[0m \u001b[0mgrad_f\u001b[0m\u001b[0;34m,\u001b[0m \u001b[0malpha\u001b[0m\u001b[0;34m,\u001b[0m \u001b[0mrho\u001b[0m\u001b[0;34m,\u001b[0m \u001b[0mgamma\u001b[0m\u001b[0;34m,\u001b[0m \u001b[0md\u001b[0m\u001b[0;34m)\u001b[0m\u001b[0;34m\u001b[0m\u001b[0;34m\u001b[0m\u001b[0m\n\u001b[1;32m     19\u001b[0m     \u001b[0mx\u001b[0m \u001b[0;34m=\u001b[0m \u001b[0mnp\u001b[0m\u001b[0;34m.\u001b[0m\u001b[0madd\u001b[0m\u001b[0;34m(\u001b[0m\u001b[0mx\u001b[0m\u001b[0;34m,\u001b[0m \u001b[0mnp\u001b[0m\u001b[0;34m.\u001b[0m\u001b[0mmultiply\u001b[0m\u001b[0;34m(\u001b[0m\u001b[0mstep_length\u001b[0m\u001b[0;34m,\u001b[0m \u001b[0mnp\u001b[0m\u001b[0;34m.\u001b[0m\u001b[0mmatmul\u001b[0m\u001b[0;34m(\u001b[0m\u001b[0md\u001b[0m\u001b[0;34m,\u001b[0m\u001b[0mp\u001b[0m\u001b[0;34m)\u001b[0m\u001b[0;34m)\u001b[0m\u001b[0;34m)\u001b[0m\u001b[0;34m\u001b[0m\u001b[0;34m\u001b[0m\u001b[0m\n",
            "\u001b[0;32m<__array_function__ internals>\u001b[0m in \u001b[0;36minv\u001b[0;34m(*args, **kwargs)\u001b[0m\n",
            "\u001b[0;32m/usr/local/lib/python3.7/dist-packages/numpy/linalg/linalg.py\u001b[0m in \u001b[0;36minv\u001b[0;34m(a)\u001b[0m\n\u001b[1;32m    543\u001b[0m     \u001b[0msignature\u001b[0m \u001b[0;34m=\u001b[0m \u001b[0;34m'D->D'\u001b[0m \u001b[0;32mif\u001b[0m \u001b[0misComplexType\u001b[0m\u001b[0;34m(\u001b[0m\u001b[0mt\u001b[0m\u001b[0;34m)\u001b[0m \u001b[0;32melse\u001b[0m \u001b[0;34m'd->d'\u001b[0m\u001b[0;34m\u001b[0m\u001b[0;34m\u001b[0m\u001b[0m\n\u001b[1;32m    544\u001b[0m     \u001b[0mextobj\u001b[0m \u001b[0;34m=\u001b[0m \u001b[0mget_linalg_error_extobj\u001b[0m\u001b[0;34m(\u001b[0m\u001b[0m_raise_linalgerror_singular\u001b[0m\u001b[0;34m)\u001b[0m\u001b[0;34m\u001b[0m\u001b[0;34m\u001b[0m\u001b[0m\n\u001b[0;32m--> 545\u001b[0;31m     \u001b[0mainv\u001b[0m \u001b[0;34m=\u001b[0m \u001b[0m_umath_linalg\u001b[0m\u001b[0;34m.\u001b[0m\u001b[0minv\u001b[0m\u001b[0;34m(\u001b[0m\u001b[0ma\u001b[0m\u001b[0;34m,\u001b[0m \u001b[0msignature\u001b[0m\u001b[0;34m=\u001b[0m\u001b[0msignature\u001b[0m\u001b[0;34m,\u001b[0m \u001b[0mextobj\u001b[0m\u001b[0;34m=\u001b[0m\u001b[0mextobj\u001b[0m\u001b[0;34m)\u001b[0m\u001b[0;34m\u001b[0m\u001b[0;34m\u001b[0m\u001b[0m\n\u001b[0m\u001b[1;32m    546\u001b[0m     \u001b[0;32mreturn\u001b[0m \u001b[0mwrap\u001b[0m\u001b[0;34m(\u001b[0m\u001b[0mainv\u001b[0m\u001b[0;34m.\u001b[0m\u001b[0mastype\u001b[0m\u001b[0;34m(\u001b[0m\u001b[0mresult_t\u001b[0m\u001b[0;34m,\u001b[0m \u001b[0mcopy\u001b[0m\u001b[0;34m=\u001b[0m\u001b[0;32mFalse\u001b[0m\u001b[0;34m)\u001b[0m\u001b[0;34m)\u001b[0m\u001b[0;34m\u001b[0m\u001b[0;34m\u001b[0m\u001b[0m\n\u001b[1;32m    547\u001b[0m \u001b[0;34m\u001b[0m\u001b[0m\n",
            "\u001b[0;32m/usr/local/lib/python3.7/dist-packages/numpy/linalg/linalg.py\u001b[0m in \u001b[0;36m_raise_linalgerror_singular\u001b[0;34m(err, flag)\u001b[0m\n\u001b[1;32m     86\u001b[0m \u001b[0;34m\u001b[0m\u001b[0m\n\u001b[1;32m     87\u001b[0m \u001b[0;32mdef\u001b[0m \u001b[0m_raise_linalgerror_singular\u001b[0m\u001b[0;34m(\u001b[0m\u001b[0merr\u001b[0m\u001b[0;34m,\u001b[0m \u001b[0mflag\u001b[0m\u001b[0;34m)\u001b[0m\u001b[0;34m:\u001b[0m\u001b[0;34m\u001b[0m\u001b[0;34m\u001b[0m\u001b[0m\n\u001b[0;32m---> 88\u001b[0;31m     \u001b[0;32mraise\u001b[0m \u001b[0mLinAlgError\u001b[0m\u001b[0;34m(\u001b[0m\u001b[0;34m\"Singular matrix\"\u001b[0m\u001b[0;34m)\u001b[0m\u001b[0;34m\u001b[0m\u001b[0;34m\u001b[0m\u001b[0m\n\u001b[0m\u001b[1;32m     89\u001b[0m \u001b[0;34m\u001b[0m\u001b[0m\n\u001b[1;32m     90\u001b[0m \u001b[0;32mdef\u001b[0m \u001b[0m_raise_linalgerror_nonposdef\u001b[0m\u001b[0;34m(\u001b[0m\u001b[0merr\u001b[0m\u001b[0;34m,\u001b[0m \u001b[0mflag\u001b[0m\u001b[0;34m)\u001b[0m\u001b[0;34m:\u001b[0m\u001b[0;34m\u001b[0m\u001b[0;34m\u001b[0m\u001b[0m\n",
            "\u001b[0;31mLinAlgError\u001b[0m: Singular matrix"
          ]
        }
      ]
    },
    {
      "cell_type": "code",
      "source": [
        "def evalf_l(x, lambd):\n",
        "  res = np.multiply(lambd/2,np.matmul(x.transpose(),x))+((np.linalg.norm(np.subtract(np.matmul(A,x),y)))**2)/2\n",
        "  return res"
      ],
      "metadata": {
        "id": "Ia7rxToqPEJv"
      },
      "execution_count": 14,
      "outputs": []
    },
    {
      "cell_type": "code",
      "source": [
        "def evalg_l(x, lambd):\n",
        "  arr = np.zeros(64)\n",
        "  err = np.subtract(np.matmul(A,x),y)\n",
        "  for i in range(64):\n",
        "    arr[i] = lambd*x[i] + np.matmul(err.transpose(),A[:,i])\n",
        "  return arr.reshape(64,1)"
      ],
      "metadata": {
        "id": "lluW5mlXPb1K"
      },
      "execution_count": 15,
      "outputs": []
    },
    {
      "cell_type": "code",
      "source": [
        "def evalh_l(x, lambd):\n",
        "  hes = np.zeros((64,64))\n",
        "  for i in range(64):\n",
        "    for j in range(64):\n",
        "      hes[i][j] = np.matmul(A[:,i],A[:,j])\n",
        "      if i == j:\n",
        "        hes[i][j] += lambd\n",
        "  return hes"
      ],
      "metadata": {
        "id": "lE6ehh38PkZw"
      },
      "execution_count": 16,
      "outputs": []
    },
    {
      "cell_type": "code",
      "source": [
        "def compute_steplength_backtracking_scaled_direction(x, p, gradf, alpha_start, rho, gamma, d_k, lambd):\n",
        "  #assert type(x) is np.ndarray and len(x) == 2\n",
        "  #assert type(gradf) is np.ndarray and len(gradf) == 2\n",
        "  \n",
        "  alpha = alpha_start\n",
        "\n",
        "  while evalf_l(x+alpha*np.matmul(d_k,p), lambd) > evalf_l(x, lambd) + gamma*alpha*(np.matmul(gradf.transpose(),np.matmul(d_k,p))):\n",
        "    alpha = rho*alpha\n",
        "\n",
        "  return alpha"
      ],
      "metadata": {
        "id": "psN82bDGPz-h"
      },
      "execution_count": 17,
      "outputs": []
    },
    {
      "cell_type": "code",
      "source": [
        "def Newton_l(n, tol, lambd, *args):\n",
        "  xlist = []\n",
        "  x = np.zeros(n).reshape(n,1)\n",
        "  xlist.append(x)\n",
        "  grad_f = evalg_l(x, lambd)\n",
        "\n",
        "  alpha = args[0]\n",
        "  rho = args[1]\n",
        "  gamma = args[2]\n",
        "\n",
        "  hes_f = evalh_l(x, lambd)\n",
        "\n",
        "  k = 0\n",
        "\n",
        "  while np.linalg.norm(grad_f) > tol and k < 10000:\n",
        "    p = -grad_f\n",
        "    d = np.linalg.inv(hes_f)\n",
        "    step_length = compute_steplength_backtracking_scaled_direction(x, p, grad_f, alpha, rho, gamma, d, lambd)\n",
        "    x = np.add(x, np.multiply(step_length, np.matmul(d,p)))\n",
        "    xlist.append(x)\n",
        "    k += 1 \n",
        "    grad_f = evalg_l(x, lambd) \n",
        "    hes_f = evalh_l(x, lambd)\n",
        "  return k, x, evalf_l(x, lambd), xlist"
      ],
      "metadata": {
        "id": "0IwweSQiPqZn"
      },
      "execution_count": 18,
      "outputs": []
    },
    {
      "cell_type": "code",
      "source": [
        "iter, opt, fv, xl = Newton_l(64, 1e-5, 0.001, 1, 0.5, 0.5)"
      ],
      "metadata": {
        "id": "TD_Rq0ZbP0w4"
      },
      "execution_count": 19,
      "outputs": []
    },
    {
      "cell_type": "code",
      "source": [
        "opt"
      ],
      "metadata": {
        "colab": {
          "base_uri": "https://localhost:8080/"
        },
        "id": "05ozEVS_P5Hk",
        "outputId": "f5907383-ce30-49a9-f069-c3e55a6d92e5"
      },
      "execution_count": 20,
      "outputs": [
        {
          "output_type": "execute_result",
          "data": {
            "text/plain": [
              "array([[ 0.00000000e+00],\n",
              "       [ 9.69076882e-02],\n",
              "       [-4.32192762e-03],\n",
              "       [-7.75916338e-03],\n",
              "       [ 7.49591987e-02],\n",
              "       [ 1.13946582e-02],\n",
              "       [-2.71293921e-02],\n",
              "       [-7.34410664e-03],\n",
              "       [ 9.98267907e-01],\n",
              "       [-2.88089376e-02],\n",
              "       [ 1.18688356e-01],\n",
              "       [ 6.60922719e-02],\n",
              "       [-5.57075915e-02],\n",
              "       [-6.97056149e-02],\n",
              "       [ 9.65844014e-02],\n",
              "       [ 2.55196013e-01],\n",
              "       [-7.29830665e-01],\n",
              "       [ 2.42711745e-02],\n",
              "       [ 7.73241544e-02],\n",
              "       [-2.33008498e-02],\n",
              "       [-5.64077619e-02],\n",
              "       [ 5.72413971e-02],\n",
              "       [-4.88675248e-02],\n",
              "       [-2.62555998e-01],\n",
              "       [-9.06071169e-01],\n",
              "       [-1.49769638e-01],\n",
              "       [ 5.64022790e-02],\n",
              "       [ 8.96665319e-02],\n",
              "       [ 8.39315938e-02],\n",
              "       [ 9.85410047e-02],\n",
              "       [ 1.69269848e-03],\n",
              "       [-2.96649688e+00],\n",
              "       [ 0.00000000e+00],\n",
              "       [-1.54361470e-01],\n",
              "       [-9.32404640e-03],\n",
              "       [ 1.39497978e-01],\n",
              "       [-3.69237437e-02],\n",
              "       [ 5.46111773e-02],\n",
              "       [-9.20425586e-03],\n",
              "       [ 0.00000000e+00],\n",
              "       [ 1.03326506e-01],\n",
              "       [ 1.23983484e-01],\n",
              "       [-1.37635230e-02],\n",
              "       [ 5.40029021e-03],\n",
              "       [ 1.31185700e-01],\n",
              "       [ 5.49577815e-02],\n",
              "       [ 2.24935899e-02],\n",
              "       [ 7.48046265e-03],\n",
              "       [ 6.17507773e-01],\n",
              "       [ 2.44100619e-02],\n",
              "       [ 1.42356436e-03],\n",
              "       [-6.21114801e-02],\n",
              "       [-2.07024631e-01],\n",
              "       [-3.38510517e-02],\n",
              "       [ 1.05486785e-01],\n",
              "       [-1.40336482e-01],\n",
              "       [-9.82347827e-01],\n",
              "       [-1.14473639e-01],\n",
              "       [ 2.10485229e-02],\n",
              "       [-4.36083412e-02],\n",
              "       [ 1.87372531e-02],\n",
              "       [-6.66562217e-02],\n",
              "       [ 1.19384465e-02],\n",
              "       [-5.27782515e-02]])"
            ]
          },
          "metadata": {},
          "execution_count": 20
        }
      ]
    },
    {
      "cell_type": "markdown",
      "source": [
        "#Ans 1:\n",
        "\n",
        "In Newton's method, on using OLSLR, we get an error, since the hessian matrix comes out to be a singular matrix whose inverse does not exist.\n",
        "\n",
        "On using regularized OLSLR, we are able to get a solution successfully, since the hessian matrix has $\\lambda$ as its diagonal elements which leads to a matrix whose inverse is computable.\n",
        "\n",
        "$x_{f\\lambda}^*$ : [[ 0.00000000e+00],\n",
        "       [ 9.69076882e-02],\n",
        "       [-4.32192762e-03],\n",
        "       [-7.75916338e-03],\n",
        "       [ 7.49591987e-02],\n",
        "       [ 1.13946582e-02],\n",
        "       [-2.71293921e-02],\n",
        "       [-7.34410664e-03],\n",
        "       [ 9.98267907e-01],\n",
        "       [-2.88089376e-02],\n",
        "       [ 1.18688356e-01],\n",
        "       [ 6.60922719e-02],\n",
        "       [-5.57075915e-02],\n",
        "       [-6.97056149e-02],\n",
        "       [ 9.65844014e-02],\n",
        "       [ 2.55196013e-01],\n",
        "       [-7.29830665e-01],\n",
        "       [ 2.42711745e-02],\n",
        "       [ 7.73241544e-02],\n",
        "       [-2.33008498e-02],\n",
        "       [-5.64077619e-02],\n",
        "       [ 5.72413971e-02],\n",
        "       [-4.88675248e-02],\n",
        "       [-2.62555998e-01],\n",
        "       [-9.06071169e-01],\n",
        "       [-1.49769638e-01],\n",
        "       [ 5.64022790e-02],\n",
        "       [ 8.96665319e-02],\n",
        "       [ 8.39315938e-02],\n",
        "       [ 9.85410047e-02],\n",
        "       [ 1.69269848e-03],\n",
        "       [-2.96649688e+00],\n",
        "       [ 0.00000000e+00],\n",
        "       [-1.54361470e-01],\n",
        "       [-9.32404640e-03],\n",
        "       [ 1.39497978e-01],\n",
        "       [-3.69237437e-02],\n",
        "       [ 5.46111773e-02],\n",
        "       [-9.20425586e-03],\n",
        "       [ 0.00000000e+00],\n",
        "       [ 1.03326506e-01],\n",
        "       [ 1.23983484e-01],\n",
        "       [-1.37635230e-02],\n",
        "       [ 5.40029021e-03],\n",
        "       [ 1.31185700e-01],\n",
        "       [ 5.49577815e-02],\n",
        "       [ 2.24935899e-02],\n",
        "       [ 7.48046265e-03],\n",
        "       [ 6.17507773e-01],\n",
        "       [ 2.44100619e-02],\n",
        "       [ 1.42356436e-03],\n",
        "       [-6.21114801e-02],\n",
        "       [-2.07024631e-01],\n",
        "       [-3.38510517e-02],\n",
        "       [ 1.05486785e-01],\n",
        "       [-1.40336482e-01],\n",
        "       [-9.82347827e-01],\n",
        "       [-1.14473639e-01],\n",
        "       [ 2.10485229e-02],\n",
        "       [-4.36083412e-02],\n",
        "       [ 1.87372531e-02],\n",
        "       [-6.66562217e-02],\n",
        "       [ 1.19384465e-02],\n",
        "       [-5.27782515e-02]]\n"
      ],
      "metadata": {
        "id": "oQjJYZW09gGK"
      }
    },
    {
      "cell_type": "code",
      "source": [
        "def compute_steplength_backtracking(x, gradf, B, alpha_start, rho, gamma):\n",
        "  #assert type(x) is np.ndarray and len(x) == 2\n",
        "  #assert type(gradf) is np.ndarray and len(gradf) == 2\n",
        "  \n",
        "  alpha = alpha_start\n",
        "\n",
        "  while evalf(x+alpha*-np.matmul(B,gradf)) > evalf(x) + gamma*alpha*np.matmul(gradf.transpose(),-np.matmul(B,gradf)):\n",
        "    alpha = rho*alpha\n",
        "\n",
        "  return alpha"
      ],
      "metadata": {
        "id": "obi4DUrZQNAG"
      },
      "execution_count": 21,
      "outputs": []
    },
    {
      "cell_type": "code",
      "source": [
        "def BFGS(n, tol, *args):\n",
        "  xlist = []\n",
        "  x1 = np.zeros(n).reshape(n,1)\n",
        "  xlist.append(x1)\n",
        "  grad_f = evalg(x1)\n",
        "\n",
        "  alpha_start = args[0]\n",
        "  rho = args[1]\n",
        "  gamma = args[2]\n",
        "\n",
        "  I = np.identity(n)\n",
        "\n",
        "  B = I\n",
        "\n",
        "  k = 0\n",
        "\n",
        "  while np.linalg.norm(grad_f) > tol and k < 3000:\n",
        "    alpha = compute_steplength_backtracking(x1, grad_f, B, alpha_start, rho, gamma)\n",
        "    x2 = np.add(x1, np.multiply(alpha,np.matmul(B,-grad_f)))\n",
        "    s = x2 - x1\n",
        "    y = evalg(x2) - evalg(x1)\n",
        "    mu = 1/np.matmul(y.transpose(),s)\n",
        "    #print(p,alpha,x2,s,y,mu)\n",
        "    B = np.add(np.matmul(np.matmul(np.subtract(I,np.matmul(np.multiply(mu,s),y.transpose())),B),np.subtract(I,np.matmul(np.multiply(mu,y),s.transpose()))),np.matmul(np.multiply(mu,s),s.transpose()))\n",
        "    x1 = x2\n",
        "    xlist.append(x1)\n",
        "    grad_f = evalg(x2)\n",
        "    k = k+1\n",
        "    #print(np.linalg.norm(grad_f))\n",
        "  return k, xlist, x1, evalf(x1)"
      ],
      "metadata": {
        "id": "vF_8Y1ZmQei4"
      },
      "execution_count": 22,
      "outputs": []
    },
    {
      "cell_type": "code",
      "source": [
        "iter, xl, opt, fv = BFGS(64, 1e-5, 1, 0.5, 0.5)"
      ],
      "metadata": {
        "id": "ou_l29CeQe6g"
      },
      "execution_count": 23,
      "outputs": []
    },
    {
      "cell_type": "code",
      "source": [
        "opt"
      ],
      "metadata": {
        "colab": {
          "base_uri": "https://localhost:8080/"
        },
        "id": "o7dbNj_oSeo4",
        "outputId": "d04c1abe-041f-4211-ff88-199a20eded52"
      },
      "execution_count": 24,
      "outputs": [
        {
          "output_type": "execute_result",
          "data": {
            "text/plain": [
              "array([[ 0.        ],\n",
              "       [-0.24846114],\n",
              "       [-0.00220601],\n",
              "       [ 0.1728994 ],\n",
              "       [ 0.15515614],\n",
              "       [ 0.05214737],\n",
              "       [ 0.13749949],\n",
              "       [ 0.05760156],\n",
              "       [ 0.49559015],\n",
              "       [-0.01296211],\n",
              "       [ 0.        ],\n",
              "       [ 0.        ],\n",
              "       [ 0.        ],\n",
              "       [ 0.        ],\n",
              "       [ 0.        ],\n",
              "       [ 0.        ],\n",
              "       [ 0.        ],\n",
              "       [ 0.        ],\n",
              "       [ 0.        ],\n",
              "       [ 0.        ],\n",
              "       [ 0.        ],\n",
              "       [ 0.        ],\n",
              "       [ 0.        ],\n",
              "       [ 0.        ],\n",
              "       [ 0.        ],\n",
              "       [ 0.        ],\n",
              "       [ 0.        ],\n",
              "       [ 0.        ],\n",
              "       [ 0.        ],\n",
              "       [ 0.        ],\n",
              "       [ 0.        ],\n",
              "       [ 0.        ],\n",
              "       [ 0.        ],\n",
              "       [ 0.        ],\n",
              "       [ 0.        ],\n",
              "       [ 0.        ],\n",
              "       [ 0.        ],\n",
              "       [ 0.        ],\n",
              "       [ 0.        ],\n",
              "       [ 0.        ],\n",
              "       [ 0.        ],\n",
              "       [ 0.        ],\n",
              "       [ 0.        ],\n",
              "       [ 0.        ],\n",
              "       [ 0.        ],\n",
              "       [ 0.        ],\n",
              "       [ 0.        ],\n",
              "       [ 0.        ],\n",
              "       [ 0.        ],\n",
              "       [ 0.        ],\n",
              "       [ 0.        ],\n",
              "       [ 0.        ],\n",
              "       [ 0.        ],\n",
              "       [ 0.        ],\n",
              "       [ 0.        ],\n",
              "       [ 0.        ],\n",
              "       [ 0.        ],\n",
              "       [ 0.        ],\n",
              "       [ 0.        ],\n",
              "       [ 0.        ],\n",
              "       [ 0.        ],\n",
              "       [ 0.        ],\n",
              "       [ 0.        ],\n",
              "       [ 0.        ]])"
            ]
          },
          "metadata": {},
          "execution_count": 24
        }
      ]
    },
    {
      "cell_type": "code",
      "source": [
        "def compute_steplength_backtracking(x, gradf, B, alpha_start, rho, gamma, lambd):\n",
        "  #assert type(x) is np.ndarray and len(x) == 2\n",
        "  #assert type(gradf) is np.ndarray and len(gradf) == 2\n",
        "  \n",
        "  alpha = alpha_start\n",
        "\n",
        "  while evalf_l(x+alpha*-np.matmul(B,gradf), lambd) > evalf_l(x, lambd) + gamma*alpha*np.matmul(gradf.transpose(),-np.matmul(B,gradf)):\n",
        "    alpha = rho*alpha\n",
        "\n",
        "  return alpha"
      ],
      "metadata": {
        "id": "BbwpGBv7QjA2"
      },
      "execution_count": 25,
      "outputs": []
    },
    {
      "cell_type": "code",
      "source": [
        "def BFGS_l(n, tol, lambd, *args):\n",
        "  xlist = []\n",
        "  x1 = np.zeros(n).reshape(n,1)\n",
        "  xlist.append(x1)\n",
        "  grad_f = evalg_l(x1, lambd)\n",
        "\n",
        "  alpha_start = args[0]\n",
        "  rho = args[1]\n",
        "  gamma = args[2]\n",
        "\n",
        "  I = np.identity(n)\n",
        "\n",
        "  B = I\n",
        "\n",
        "  k = 0\n",
        "\n",
        "  while np.linalg.norm(grad_f) > tol and k < 3000:\n",
        "    alpha = compute_steplength_backtracking(x1, grad_f, B, alpha_start, rho, gamma, lambd)\n",
        "    x2 = np.add(x1, np.multiply(alpha,np.matmul(B,-grad_f)))\n",
        "    s = x2 - x1\n",
        "    y = evalg_l(x2, lambd) - evalg_l(x1, lambd)\n",
        "    mu = 1/np.matmul(y.transpose(),s)\n",
        "    #print(p,alpha,x2,s,y,mu)\n",
        "    B = np.add(np.matmul(np.matmul(np.subtract(I,np.matmul(np.multiply(mu,s),y.transpose())),B),np.subtract(I,np.matmul(np.multiply(mu,y),s.transpose()))),np.matmul(np.multiply(mu,s),s.transpose()))\n",
        "    x1 = x2\n",
        "    xlist.append(x1)\n",
        "    grad_f = evalg_l(x2, lambd)\n",
        "    k = k+1\n",
        "    #print(np.linalg.norm(grad_f))\n",
        "  return k, x1, evalf_l(x1, lambd), xlist"
      ],
      "metadata": {
        "id": "xBk0lrJgQx9m"
      },
      "execution_count": 26,
      "outputs": []
    },
    {
      "cell_type": "code",
      "source": [
        "iter, opt, fv, xl = BFGS_l(64, 1e-5, 0.001, 1, 0.5, 0.5)"
      ],
      "metadata": {
        "id": "lSV1Dc-EQzfW"
      },
      "execution_count": 27,
      "outputs": []
    },
    {
      "cell_type": "code",
      "source": [
        "opt"
      ],
      "metadata": {
        "colab": {
          "base_uri": "https://localhost:8080/"
        },
        "id": "16Rs8MM_RCOO",
        "outputId": "ab431998-63c3-405b-f25c-f3066116f9fa"
      },
      "execution_count": 28,
      "outputs": [
        {
          "output_type": "execute_result",
          "data": {
            "text/plain": [
              "array([[ 0.00000000e+00],\n",
              "       [ 9.69076881e-02],\n",
              "       [-4.32192760e-03],\n",
              "       [-7.75916338e-03],\n",
              "       [ 7.49591987e-02],\n",
              "       [ 1.13946582e-02],\n",
              "       [-2.71293921e-02],\n",
              "       [-7.34410665e-03],\n",
              "       [ 9.98267910e-01],\n",
              "       [-2.88089376e-02],\n",
              "       [ 1.18688356e-01],\n",
              "       [ 6.60922720e-02],\n",
              "       [-5.57075915e-02],\n",
              "       [-6.97056149e-02],\n",
              "       [ 9.65844014e-02],\n",
              "       [ 2.55196013e-01],\n",
              "       [-7.29830678e-01],\n",
              "       [ 2.42711745e-02],\n",
              "       [ 7.73241544e-02],\n",
              "       [-2.33008498e-02],\n",
              "       [-5.64077619e-02],\n",
              "       [ 5.72413971e-02],\n",
              "       [-4.88675248e-02],\n",
              "       [-2.62555998e-01],\n",
              "       [-9.06071136e-01],\n",
              "       [-1.49769638e-01],\n",
              "       [ 5.64022790e-02],\n",
              "       [ 8.96665319e-02],\n",
              "       [ 8.39315938e-02],\n",
              "       [ 9.85410047e-02],\n",
              "       [ 1.69269849e-03],\n",
              "       [-2.96649687e+00],\n",
              "       [ 0.00000000e+00],\n",
              "       [-1.54361470e-01],\n",
              "       [-9.32404641e-03],\n",
              "       [ 1.39497978e-01],\n",
              "       [-3.69237437e-02],\n",
              "       [ 5.46111773e-02],\n",
              "       [-9.20425584e-03],\n",
              "       [ 0.00000000e+00],\n",
              "       [ 1.03326506e-01],\n",
              "       [ 1.23983484e-01],\n",
              "       [-1.37635230e-02],\n",
              "       [ 5.40029021e-03],\n",
              "       [ 1.31185700e-01],\n",
              "       [ 5.49577815e-02],\n",
              "       [ 2.24935899e-02],\n",
              "       [ 7.48046269e-03],\n",
              "       [ 6.17507773e-01],\n",
              "       [ 2.44100619e-02],\n",
              "       [ 1.42356435e-03],\n",
              "       [-6.21114801e-02],\n",
              "       [-2.07024631e-01],\n",
              "       [-3.38510517e-02],\n",
              "       [ 1.05486785e-01],\n",
              "       [-1.40336482e-01],\n",
              "       [-9.82347828e-01],\n",
              "       [-1.14473639e-01],\n",
              "       [ 2.10485229e-02],\n",
              "       [-4.36083412e-02],\n",
              "       [ 1.87372531e-02],\n",
              "       [-6.66562217e-02],\n",
              "       [ 1.19384465e-02],\n",
              "       [-5.27782515e-02]])"
            ]
          },
          "metadata": {},
          "execution_count": 28
        }
      ]
    },
    {
      "cell_type": "markdown",
      "source": [
        "#Ans 2:\n",
        "\n",
        "On using BFGS, we successfully get a solution for both OLSLR and regularized OLSLR without facing any difficulties.\n",
        "Though, we can see that we get a lower value in regularized OLSLR in comparison to OLSLR.\n",
        "\n",
        "$x_{f}^*$ : [[ 0.        ],\n",
        "       [-0.24846114],\n",
        "       [-0.00220601],\n",
        "       [ 0.1728994 ],\n",
        "       [ 0.15515614],\n",
        "       [ 0.05214737],\n",
        "       [ 0.13749949],\n",
        "       [ 0.05760156],\n",
        "       [ 0.49559015],\n",
        "       [-0.01296211],\n",
        "       [ 0.        ],\n",
        "       [ 0.        ],\n",
        "       [ 0.        ],\n",
        "       [ 0.        ],\n",
        "       [ 0.        ],\n",
        "       [ 0.        ],\n",
        "       [ 0.        ],\n",
        "       [ 0.        ],\n",
        "       [ 0.        ],\n",
        "       [ 0.        ],\n",
        "       [ 0.        ],\n",
        "       [ 0.        ],\n",
        "       [ 0.        ],\n",
        "       [ 0.        ],\n",
        "       [ 0.        ],\n",
        "       [ 0.        ],\n",
        "       [ 0.        ],\n",
        "       [ 0.        ],\n",
        "       [ 0.        ],\n",
        "       [ 0.        ],\n",
        "       [ 0.        ],\n",
        "       [ 0.        ],\n",
        "       [ 0.        ],\n",
        "       [ 0.        ],\n",
        "       [ 0.        ],\n",
        "       [ 0.        ],\n",
        "       [ 0.        ],\n",
        "       [ 0.        ],\n",
        "       [ 0.        ],\n",
        "       [ 0.        ],\n",
        "       [ 0.        ],\n",
        "       [ 0.        ],\n",
        "       [ 0.        ],\n",
        "       [ 0.        ],\n",
        "       [ 0.        ],\n",
        "       [ 0.        ],\n",
        "       [ 0.        ],\n",
        "       [ 0.        ],\n",
        "       [ 0.        ],\n",
        "       [ 0.        ],\n",
        "       [ 0.        ],\n",
        "       [ 0.        ],\n",
        "       [ 0.        ],\n",
        "       [ 0.        ],\n",
        "       [ 0.        ],\n",
        "       [ 0.        ],\n",
        "       [ 0.        ],\n",
        "       [ 0.        ],\n",
        "       [ 0.        ],\n",
        "       [ 0.        ],\n",
        "       [ 0.        ],\n",
        "       [ 0.        ],\n",
        "       [ 0.        ],\n",
        "       [ 0.        ]]\n",
        "\n",
        "----------------------------------------------------------------------\n",
        "\n",
        "$x_{f\\lambda}^*$ : [[ 0.00000000e+00],\n",
        "       [ 9.69076881e-02],\n",
        "       [-4.32192760e-03],\n",
        "       [-7.75916338e-03],\n",
        "       [ 7.49591987e-02],\n",
        "       [ 1.13946582e-02],\n",
        "       [-2.71293921e-02],\n",
        "       [-7.34410665e-03],\n",
        "       [ 9.98267910e-01],\n",
        "       [-2.88089376e-02],\n",
        "       [ 1.18688356e-01],\n",
        "       [ 6.60922720e-02],\n",
        "       [-5.57075915e-02],\n",
        "       [-6.97056149e-02],\n",
        "       [ 9.65844014e-02],\n",
        "       [ 2.55196013e-01],\n",
        "       [-7.29830678e-01],\n",
        "       [ 2.42711745e-02],\n",
        "       [ 7.73241544e-02],\n",
        "       [-2.33008498e-02],\n",
        "       [-5.64077619e-02],\n",
        "       [ 5.72413971e-02],\n",
        "       [-4.88675248e-02],\n",
        "       [-2.62555998e-01],\n",
        "       [-9.06071136e-01],\n",
        "       [-1.49769638e-01],\n",
        "       [ 5.64022790e-02],\n",
        "       [ 8.96665319e-02],\n",
        "       [ 8.39315938e-02],\n",
        "       [ 9.85410047e-02],\n",
        "       [ 1.69269849e-03],\n",
        "       [-2.96649687e+00],\n",
        "       [ 0.00000000e+00],\n",
        "       [-1.54361470e-01],\n",
        "       [-9.32404641e-03],\n",
        "       [ 1.39497978e-01],\n",
        "       [-3.69237437e-02],\n",
        "       [ 5.46111773e-02],\n",
        "       [-9.20425584e-03],\n",
        "       [ 0.00000000e+00],\n",
        "       [ 1.03326506e-01],\n",
        "       [ 1.23983484e-01],\n",
        "       [-1.37635230e-02],\n",
        "       [ 5.40029021e-03],\n",
        "       [ 1.31185700e-01],\n",
        "       [ 5.49577815e-02],\n",
        "       [ 2.24935899e-02],\n",
        "       [ 7.48046269e-03],\n",
        "       [ 6.17507773e-01],\n",
        "       [ 2.44100619e-02],\n",
        "       [ 1.42356435e-03],\n",
        "       [-6.21114801e-02],\n",
        "       [-2.07024631e-01],\n",
        "       [-3.38510517e-02],\n",
        "       [ 1.05486785e-01],\n",
        "       [-1.40336482e-01],\n",
        "       [-9.82347828e-01],\n",
        "       [-1.14473639e-01],\n",
        "       [ 2.10485229e-02],\n",
        "       [-4.36083412e-02],\n",
        "       [ 1.87372531e-02],\n",
        "       [-6.66562217e-02],\n",
        "       [ 1.19384465e-02],\n",
        "       [-5.27782515e-02]]"
      ],
      "metadata": {
        "id": "p55NKvLa-o54"
      }
    },
    {
      "cell_type": "code",
      "source": [
        ""
      ],
      "metadata": {
        "id": "gDTb90h5ROre"
      },
      "execution_count": null,
      "outputs": []
    }
  ]
}