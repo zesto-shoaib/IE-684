{
  "nbformat": 4,
  "nbformat_minor": 0,
  "metadata": {
    "colab": {
      "name": "21i190012_IE684_Lab8_Ex0.ipynb",
      "provenance": [],
      "collapsed_sections": []
    },
    "kernelspec": {
      "name": "python3",
      "display_name": "Python 3"
    },
    "language_info": {
      "name": "python"
    }
  },
  "cells": [
    {
      "cell_type": "markdown",
      "source": [
        "$G_h(z) = \\text{max } (0, 1 - z)\\\\\n",
        "G_l(z) = \\log (1 + \\text{exp}(-z))\\\\\n",
        "G_{sh}(z) = (\\text{max } (0, 1 - z))^2$"
      ],
      "metadata": {
        "id": "GCIKOGVucXZC"
      }
    },
    {
      "cell_type": "code",
      "execution_count": 1,
      "metadata": {
        "id": "7iCL66kGIphH"
      },
      "outputs": [],
      "source": [
        "import numpy as np\n",
        "import matplotlib.pyplot as plt"
      ]
    },
    {
      "cell_type": "code",
      "source": [
        "x = np.linspace(-10000, 10000, 10000)"
      ],
      "metadata": {
        "id": "N8Cl_-31LG1v"
      },
      "execution_count": 2,
      "outputs": []
    },
    {
      "cell_type": "code",
      "source": [
        "y = [max(0, 1-i) for i in x]"
      ],
      "metadata": {
        "id": "rsHQOGQDL3r_"
      },
      "execution_count": 3,
      "outputs": []
    },
    {
      "cell_type": "markdown",
      "source": [
        "Plot for $G_h(z) = \\text{max } (0, 1 - z)$\n",
        "\n",
        "We can see that for all z greater than equal to 1 the function goes to 0 but for all other values the function goes to a positive value."
      ],
      "metadata": {
        "id": "AN-K8iFBdRzP"
      }
    },
    {
      "cell_type": "code",
      "source": [
        "plt.plot(x, y)"
      ],
      "metadata": {
        "colab": {
          "base_uri": "https://localhost:8080/",
          "height": 282
        },
        "id": "2qlXtLFEKTzT",
        "outputId": "5afd45cd-ba31-4d05-f5f7-d5efbafe7dc8"
      },
      "execution_count": 4,
      "outputs": [
        {
          "output_type": "execute_result",
          "data": {
            "text/plain": [
              "[<matplotlib.lines.Line2D at 0x7fda81e47650>]"
            ]
          },
          "metadata": {},
          "execution_count": 4
        },
        {
          "output_type": "display_data",
          "data": {
            "image/png": "[encoded data removed]",
            "text/plain": [
              "<Figure size 432x288 with 1 Axes>"
            ]
          },
          "metadata": {
            "needs_background": "light"
          }
        }
      ]
    },
    {
      "cell_type": "code",
      "source": [
        "w = np.log(1 + np.exp(-x))"
      ],
      "metadata": {
        "id": "StTJwLGdL07e",
        "colab": {
          "base_uri": "https://localhost:8080/"
        },
        "outputId": "46192eef-c197-4fbe-a820-a59393230265"
      },
      "execution_count": 9,
      "outputs": [
        {
          "output_type": "stream",
          "name": "stderr",
          "text": [
            "/usr/local/lib/python3.7/dist-packages/ipykernel_launcher.py:1: RuntimeWarning: overflow encountered in exp\n",
            "  \"\"\"Entry point for launching an IPython kernel.\n"
          ]
        }
      ]
    },
    {
      "cell_type": "markdown",
      "source": [
        "Plot for $G_l(z) = \\log (1 + \\text{exp}(-z))$\n",
        "\n",
        "We can observe that for values of z greater than 1, the function value is near 0 and for negative values it goes to a positive value, since the slope is higher, the value is very large for very small values of z."
      ],
      "metadata": {
        "id": "yt5UkhyJgaFY"
      }
    },
    {
      "cell_type": "code",
      "source": [
        "plt.plot(x, w)"
      ],
      "metadata": {
        "colab": {
          "base_uri": "https://localhost:8080/",
          "height": 282
        },
        "id": "_JWXQd2_uM1F",
        "outputId": "746ad08f-9f8c-4f7b-875f-0b9c969178ee"
      },
      "execution_count": 10,
      "outputs": [
        {
          "output_type": "execute_result",
          "data": {
            "text/plain": [
              "[<matplotlib.lines.Line2D at 0x7fda817d7c90>]"
            ]
          },
          "metadata": {},
          "execution_count": 10
        },
        {
          "output_type": "display_data",
          "data": {
            "image/png": "[encoded data removed]",
            "text/plain": [
              "<Figure size 432x288 with 1 Axes>"
            ]
          },
          "metadata": {
            "needs_background": "light"
          }
        }
      ]
    },
    {
      "cell_type": "code",
      "source": [
        "z = [(max(0, 1 - i))**2 for i in x]"
      ],
      "metadata": {
        "id": "DhT3Bf-yurqx"
      },
      "execution_count": 11,
      "outputs": []
    },
    {
      "cell_type": "markdown",
      "source": [
        "Plot for $G_{sh}(z) = (\\text{max } (0, 1 - z))^2$\n",
        "\n",
        "For values of z greater than equal to 1, the function value goes to 0, but for all other values of z, it goes to positive values, and since it is a squared function, we can see a slope which leads to even higher penalty for higher values of z."
      ],
      "metadata": {
        "id": "rr_KDA7rhRpu"
      }
    },
    {
      "cell_type": "code",
      "source": [
        "plt.plot(x, z)"
      ],
      "metadata": {
        "colab": {
          "base_uri": "https://localhost:8080/",
          "height": 293
        },
        "id": "jt6YW3xivBi7",
        "outputId": "d0c3d99e-6f0c-49da-f49f-50bc2cc1595b"
      },
      "execution_count": 12,
      "outputs": [
        {
          "output_type": "execute_result",
          "data": {
            "text/plain": [
              "[<matplotlib.lines.Line2D at 0x7fda81811d10>]"
            ]
          },
          "metadata": {},
          "execution_count": 12
        },
        {
          "output_type": "display_data",
          "data": {
            "image/png": "[encoded data removed]",
            "text/plain": [
              "<Figure size 432x288 with 1 Axes>"
            ]
          },
          "metadata": {
            "needs_background": "light"
          }
        }
      ]
    },
    {
      "cell_type": "code",
      "source": [
        ""
      ],
      "metadata": {
        "id": "A31shaiLvSBe"
      },
      "execution_count": null,
      "outputs": []
    }
  ]
}