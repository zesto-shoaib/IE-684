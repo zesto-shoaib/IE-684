{
  "nbformat": 4,
  "nbformat_minor": 0,
  "metadata": {
    "colab": {
      "name": "21i190012_IE684_Lab8_Ex1.ipynb",
      "provenance": [],
      "collapsed_sections": []
    },
    "kernelspec": {
      "name": "python3",
      "display_name": "Python 3"
    },
    "language_info": {
      "name": "python"
    }
  },
  "cells": [
    {
      "cell_type": "code",
      "execution_count": 1,
      "metadata": {
        "id": "-N-hZw5Z6Ckn"
      },
      "outputs": [],
      "source": [
        "import numpy as np"
      ]
    },
    {
      "cell_type": "code",
      "source": [
        "from sklearn.datasets import load_iris"
      ],
      "metadata": {
        "id": "lFhsum5l6N2O"
      },
      "execution_count": 2,
      "outputs": []
    },
    {
      "cell_type": "code",
      "source": [
        "iris = load_iris()"
      ],
      "metadata": {
        "id": "u07xsK696TWq"
      },
      "execution_count": 3,
      "outputs": []
    },
    {
      "cell_type": "code",
      "source": [
        "print(iris.data.shape)"
      ],
      "metadata": {
        "colab": {
          "base_uri": "https://localhost:8080/"
        },
        "id": "aF7RRO7w6XgR",
        "outputId": "1f432f1a-1ad1-4135-e3b7-c49c99945f0f"
      },
      "execution_count": 4,
      "outputs": [
        {
          "output_type": "stream",
          "name": "stdout",
          "text": [
            "(150, 4)\n"
          ]
        }
      ]
    },
    {
      "cell_type": "code",
      "source": [
        "A = iris.data"
      ],
      "metadata": {
        "id": "P9DN5kkV6b-J"
      },
      "execution_count": 5,
      "outputs": []
    },
    {
      "cell_type": "code",
      "source": [
        "print(iris.target.shape)"
      ],
      "metadata": {
        "colab": {
          "base_uri": "https://localhost:8080/"
        },
        "id": "oRTTe17D6en7",
        "outputId": "271305b3-036d-403e-ab65-f590bb7a3e5c"
      },
      "execution_count": 6,
      "outputs": [
        {
          "output_type": "stream",
          "name": "stdout",
          "text": [
            "(150,)\n"
          ]
        }
      ]
    },
    {
      "cell_type": "code",
      "source": [
        "min(iris.target)"
      ],
      "metadata": {
        "colab": {
          "base_uri": "https://localhost:8080/"
        },
        "id": "208l8I7UIR4g",
        "outputId": "ea8cd9d2-980d-42ab-a689-034e4850642e"
      },
      "execution_count": 7,
      "outputs": [
        {
          "output_type": "execute_result",
          "data": {
            "text/plain": [
              "0"
            ]
          },
          "metadata": {},
          "execution_count": 7
        }
      ]
    },
    {
      "cell_type": "code",
      "source": [
        "C = len(iris.target_names)\n",
        "print(C)"
      ],
      "metadata": {
        "colab": {
          "base_uri": "https://localhost:8080/"
        },
        "id": "CGId47NvHt4b",
        "outputId": "33e7c761-724f-4169-f1a7-352065299004"
      },
      "execution_count": 8,
      "outputs": [
        {
          "output_type": "stream",
          "name": "stdout",
          "text": [
            "3\n"
          ]
        }
      ]
    },
    {
      "cell_type": "code",
      "source": [
        "iris.target_names"
      ],
      "metadata": {
        "colab": {
          "base_uri": "https://localhost:8080/"
        },
        "id": "_Eta6NvZknkG",
        "outputId": "0f368334-46a1-4217-f9a5-21d21592cf3f"
      },
      "execution_count": 22,
      "outputs": [
        {
          "output_type": "execute_result",
          "data": {
            "text/plain": [
              "array(['setosa', 'versicolor', 'virginica'], dtype='<U10')"
            ]
          },
          "metadata": {},
          "execution_count": 22
        }
      ]
    },
    {
      "cell_type": "code",
      "source": [
        "iris.target"
      ],
      "metadata": {
        "colab": {
          "base_uri": "https://localhost:8080/"
        },
        "id": "VfRDgOOzkx49",
        "outputId": "66e47612-6aca-4ef1-bee7-4243363f02b4"
      },
      "execution_count": 23,
      "outputs": [
        {
          "output_type": "execute_result",
          "data": {
            "text/plain": [
              "array([0, 0, 0, 0, 0, 0, 0, 0, 0, 0, 0, 0, 0, 0, 0, 0, 0, 0, 0, 0, 0, 0,\n",
              "       0, 0, 0, 0, 0, 0, 0, 0, 0, 0, 0, 0, 0, 0, 0, 0, 0, 0, 0, 0, 0, 0,\n",
              "       0, 0, 0, 0, 0, 0, 1, 1, 1, 1, 1, 1, 1, 1, 1, 1, 1, 1, 1, 1, 1, 1,\n",
              "       1, 1, 1, 1, 1, 1, 1, 1, 1, 1, 1, 1, 1, 1, 1, 1, 1, 1, 1, 1, 1, 1,\n",
              "       1, 1, 1, 1, 1, 1, 1, 1, 1, 1, 1, 1, 2, 2, 2, 2, 2, 2, 2, 2, 2, 2,\n",
              "       2, 2, 2, 2, 2, 2, 2, 2, 2, 2, 2, 2, 2, 2, 2, 2, 2, 2, 2, 2, 2, 2,\n",
              "       2, 2, 2, 2, 2, 2, 2, 2, 2, 2, 2, 2, 2, 2, 2, 2, 2, 2])"
            ]
          },
          "metadata": {},
          "execution_count": 23
        }
      ]
    },
    {
      "cell_type": "markdown",
      "source": [
        "#Ans 1(a)\n",
        "\n",
        "We can see there are three classes, namely, setosa, versicolor and virginica.\n",
        "\n",
        "We can also see that the values associated to classes are 0, 1 and 2."
      ],
      "metadata": {
        "id": "_szWdqhJkhMC"
      }
    },
    {
      "cell_type": "code",
      "source": [
        "n = iris.data.shape[0]\n",
        "d = iris.data.shape[1]"
      ],
      "metadata": {
        "id": "pMol1EdD6jNQ"
      },
      "execution_count": 9,
      "outputs": []
    },
    {
      "cell_type": "code",
      "source": [
        "y = 1.0*np.ones([A.shape[0],])"
      ],
      "metadata": {
        "id": "pW3Fk2aJ6vWB"
      },
      "execution_count": 10,
      "outputs": []
    },
    {
      "cell_type": "code",
      "source": [
        "for i in range(iris.target.shape[0]):\n",
        "  if iris.target[i] != 1:\n",
        "    y[i] = -1"
      ],
      "metadata": {
        "id": "bvotw48xIto-"
      },
      "execution_count": 11,
      "outputs": []
    },
    {
      "cell_type": "code",
      "source": [
        "indexarr = np.arange(n)\n",
        "np.random.shuffle(indexarr)"
      ],
      "metadata": {
        "id": "l-zrLQx7JFF-"
      },
      "execution_count": 12,
      "outputs": []
    },
    {
      "cell_type": "code",
      "source": [
        "print(indexarr)"
      ],
      "metadata": {
        "colab": {
          "base_uri": "https://localhost:8080/"
        },
        "id": "s4fRedJAJ5Wd",
        "outputId": "6a788579-a00a-43d1-aa36-e09a31b62549"
      },
      "execution_count": 13,
      "outputs": [
        {
          "output_type": "stream",
          "name": "stdout",
          "text": [
            "[ 28  54 141  94  55 109  93   6  72  47 123 149 128 131  44  64  57  52\n",
            " 134 112 138  26 130   0  29  97  50 148  87  56  12   1  67  79  16 127\n",
            "   7 105  76  71  66 132  27 108 115  63  38  18 147   5  14  80  45  21\n",
            "  75 106  59  68  20 107 111 114  95 146   2  41 113  39  62 142  98 129\n",
            "  40 118  86  90  83  13 102 144  34 136  89  74 120  82 143  70  91 119\n",
            "  53  96  73 125 137  24  85 101  15  31  19  23  32 110  36  92 104  42\n",
            "  33  84   3  46  37 135   4  51 122  58 103  60  99  61 140 133 139  81\n",
            "  65  10  77 121  11   9  25 117  17  78  48  88 124 126 100  22 145  49\n",
            "  35  30 116  69  43   8]\n"
          ]
        }
      ]
    },
    {
      "cell_type": "code",
      "source": [
        "train_data = np.ones([int(len(indexarr)*0.8),A.shape[1]])"
      ],
      "metadata": {
        "id": "mYw8wWYaJ73H"
      },
      "execution_count": 14,
      "outputs": []
    },
    {
      "cell_type": "code",
      "source": [
        "for i in range(int(len(indexarr)*0.8)):\n",
        "  train_data[i] = A[indexarr[i]]"
      ],
      "metadata": {
        "id": "NdkpNx7SMVv2"
      },
      "execution_count": 15,
      "outputs": []
    },
    {
      "cell_type": "code",
      "source": [
        "test_data = np.ones([int(len(indexarr)*0.2),A.shape[1]])\n",
        "\n",
        "for i in range(int(len(indexarr)*0.2)):\n",
        "  test_data[i] = A[indexarr[i + int(len(indexarr)*0.8)]]"
      ],
      "metadata": {
        "id": "o2Fm9FHfN0-X"
      },
      "execution_count": 16,
      "outputs": []
    },
    {
      "cell_type": "code",
      "source": [
        "train_label = np.ones([int(len(indexarr)*0.8),])"
      ],
      "metadata": {
        "id": "81SlJ2EAOh1d"
      },
      "execution_count": 17,
      "outputs": []
    },
    {
      "cell_type": "code",
      "source": [
        "for i in range(int(len(indexarr)*0.8)):\n",
        "  train_label[i] = y[indexarr[i]]"
      ],
      "metadata": {
        "id": "CYg9nsp-O1Lk"
      },
      "execution_count": 18,
      "outputs": []
    },
    {
      "cell_type": "code",
      "source": [
        "test_label = np.ones([int(len(indexarr)*0.2),])\n",
        "\n",
        "for i in range(int(len(indexarr)*0.2)):\n",
        "  test_label[i] = y[indexarr[i + int(len(indexarr)*0.8)]]"
      ],
      "metadata": {
        "id": "d0Qd6eloPGt6"
      },
      "execution_count": 19,
      "outputs": []
    },
    {
      "cell_type": "code",
      "source": [
        "def predict(w, x):\n",
        "  if np.matmul(w.tranpose(),x)<0:\n",
        "    return -1\n",
        "  else:\n",
        "    return 1"
      ],
      "metadata": {
        "id": "4COtJixEPlRP"
      },
      "execution_count": 20,
      "outputs": []
    },
    {
      "cell_type": "code",
      "source": [
        "def compute_accuracy(data, labels, model_w):\n",
        "  no_correct = 0\n",
        "  for i in range(len(labels)):\n",
        "    if predict(model_w, data[i]) == labels[i]:\n",
        "      no_correct += 1\n",
        "  return no_correct/len(labels)"
      ],
      "metadata": {
        "id": "iRkiUTubQT_s"
      },
      "execution_count": 21,
      "outputs": []
    },
    {
      "cell_type": "code",
      "source": [
        ""
      ],
      "metadata": {
        "id": "5RqOgeSYRv2q"
      },
      "execution_count": null,
      "outputs": []
    }
  ]
}