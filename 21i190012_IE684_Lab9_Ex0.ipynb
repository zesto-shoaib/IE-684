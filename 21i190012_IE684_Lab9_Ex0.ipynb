{
  "nbformat": 4,
  "nbformat_minor": 0,
  "metadata": {
    "colab": {
      "name": "21i190012_IE684_Lab9_Ex0.ipynb",
      "provenance": [],
      "collapsed_sections": []
    },
    "kernelspec": {
      "name": "python3",
      "display_name": "Python 3"
    },
    "language_info": {
      "name": "python"
    }
  },
  "cells": [
    {
      "cell_type": "code",
      "execution_count": null,
      "metadata": {
        "id": "-N-hZw5Z6Ckn"
      },
      "outputs": [],
      "source": [
        "import numpy as np"
      ]
    },
    {
      "cell_type": "code",
      "source": [
        "from sklearn.datasets import load_wine"
      ],
      "metadata": {
        "id": "lFhsum5l6N2O"
      },
      "execution_count": null,
      "outputs": []
    },
    {
      "cell_type": "code",
      "source": [
        "wine = load_wine()"
      ],
      "metadata": {
        "id": "u07xsK696TWq"
      },
      "execution_count": null,
      "outputs": []
    },
    {
      "cell_type": "code",
      "source": [
        "print(wine.data.shape)"
      ],
      "metadata": {
        "colab": {
          "base_uri": "https://localhost:8080/"
        },
        "id": "aF7RRO7w6XgR",
        "outputId": "5c2e0304-1d53-444f-c58b-6eea4e4577c3"
      },
      "execution_count": null,
      "outputs": [
        {
          "output_type": "stream",
          "name": "stdout",
          "text": [
            "(178, 13)\n"
          ]
        }
      ]
    },
    {
      "cell_type": "code",
      "source": [
        "A = wine.data"
      ],
      "metadata": {
        "id": "P9DN5kkV6b-J"
      },
      "execution_count": null,
      "outputs": []
    },
    {
      "cell_type": "code",
      "source": [
        "print(wine.target.shape)"
      ],
      "metadata": {
        "colab": {
          "base_uri": "https://localhost:8080/"
        },
        "id": "oRTTe17D6en7",
        "outputId": "5a93f7f7-0700-4d7e-ca24-54f27a8fc15d"
      },
      "execution_count": null,
      "outputs": [
        {
          "output_type": "stream",
          "name": "stdout",
          "text": [
            "(178,)\n"
          ]
        }
      ]
    },
    {
      "cell_type": "code",
      "source": [
        "min(wine.target)"
      ],
      "metadata": {
        "colab": {
          "base_uri": "https://localhost:8080/"
        },
        "id": "208l8I7UIR4g",
        "outputId": "5b08d2ee-5155-4f3e-f233-f5770f66b20c"
      },
      "execution_count": null,
      "outputs": [
        {
          "output_type": "execute_result",
          "data": {
            "text/plain": [
              "0"
            ]
          },
          "metadata": {},
          "execution_count": 8
        }
      ]
    },
    {
      "cell_type": "code",
      "source": [
        "C = len(wine.target_names)\n",
        "print(C)"
      ],
      "metadata": {
        "colab": {
          "base_uri": "https://localhost:8080/"
        },
        "id": "CGId47NvHt4b",
        "outputId": "f90f53c8-a1ca-4b49-8e8f-fc1d2e7ad916"
      },
      "execution_count": null,
      "outputs": [
        {
          "output_type": "stream",
          "name": "stdout",
          "text": [
            "3\n"
          ]
        }
      ]
    },
    {
      "cell_type": "code",
      "source": [
        "wine.target_names"
      ],
      "metadata": {
        "colab": {
          "base_uri": "https://localhost:8080/"
        },
        "id": "_Eta6NvZknkG",
        "outputId": "54142b7f-1e32-43ad-e494-064951da4ee8"
      },
      "execution_count": null,
      "outputs": [
        {
          "output_type": "execute_result",
          "data": {
            "text/plain": [
              "array(['class_0', 'class_1', 'class_2'], dtype='<U7')"
            ]
          },
          "metadata": {},
          "execution_count": 11
        }
      ]
    },
    {
      "cell_type": "code",
      "source": [
        "wine.target"
      ],
      "metadata": {
        "id": "VfRDgOOzkx49",
        "outputId": "8463c37e-1737-4ee1-f7ed-b87a06f1de91",
        "colab": {
          "base_uri": "https://localhost:8080/"
        }
      },
      "execution_count": null,
      "outputs": [
        {
          "output_type": "execute_result",
          "data": {
            "text/plain": [
              "array([0, 0, 0, 0, 0, 0, 0, 0, 0, 0, 0, 0, 0, 0, 0, 0, 0, 0, 0, 0, 0, 0,\n",
              "       0, 0, 0, 0, 0, 0, 0, 0, 0, 0, 0, 0, 0, 0, 0, 0, 0, 0, 0, 0, 0, 0,\n",
              "       0, 0, 0, 0, 0, 0, 0, 0, 0, 0, 0, 0, 0, 0, 0, 1, 1, 1, 1, 1, 1, 1,\n",
              "       1, 1, 1, 1, 1, 1, 1, 1, 1, 1, 1, 1, 1, 1, 1, 1, 1, 1, 1, 1, 1, 1,\n",
              "       1, 1, 1, 1, 1, 1, 1, 1, 1, 1, 1, 1, 1, 1, 1, 1, 1, 1, 1, 1, 1, 1,\n",
              "       1, 1, 1, 1, 1, 1, 1, 1, 1, 1, 1, 1, 1, 1, 1, 1, 1, 1, 1, 1, 2, 2,\n",
              "       2, 2, 2, 2, 2, 2, 2, 2, 2, 2, 2, 2, 2, 2, 2, 2, 2, 2, 2, 2, 2, 2,\n",
              "       2, 2, 2, 2, 2, 2, 2, 2, 2, 2, 2, 2, 2, 2, 2, 2, 2, 2, 2, 2, 2, 2,\n",
              "       2, 2])"
            ]
          },
          "metadata": {},
          "execution_count": 12
        }
      ]
    },
    {
      "cell_type": "markdown",
      "source": [
        "#Ans 1(a)\n",
        "\n",
        "We can see there are three classes, Class 0, Class 1 and Class 2.\n",
        "\n",
        "We can also see that the values associated to classes are 0, 1 and 2."
      ],
      "metadata": {
        "id": "_szWdqhJkhMC"
      }
    },
    {
      "cell_type": "code",
      "source": [
        "n = wine.data.shape[0]\n",
        "d = wine.data.shape[1]"
      ],
      "metadata": {
        "id": "pMol1EdD6jNQ"
      },
      "execution_count": null,
      "outputs": []
    },
    {
      "cell_type": "code",
      "source": [
        "y = 1.0*np.ones([A.shape[0],])"
      ],
      "metadata": {
        "id": "pW3Fk2aJ6vWB"
      },
      "execution_count": null,
      "outputs": []
    },
    {
      "cell_type": "code",
      "source": [
        "for i in range(wine.target.shape[0]):\n",
        "  if wine.target[i] != 1:\n",
        "    y[i] = -1"
      ],
      "metadata": {
        "id": "bvotw48xIto-"
      },
      "execution_count": null,
      "outputs": []
    },
    {
      "cell_type": "code",
      "source": [
        "indexarr = np.arange(n)\n",
        "np.random.shuffle(indexarr)"
      ],
      "metadata": {
        "id": "l-zrLQx7JFF-"
      },
      "execution_count": null,
      "outputs": []
    },
    {
      "cell_type": "code",
      "source": [
        "print(indexarr)"
      ],
      "metadata": {
        "colab": {
          "base_uri": "https://localhost:8080/"
        },
        "id": "s4fRedJAJ5Wd",
        "outputId": "f9a876c2-06ef-4d91-b62d-1527e50e8f70"
      },
      "execution_count": null,
      "outputs": [
        {
          "output_type": "stream",
          "name": "stdout",
          "text": [
            "[ 70 138  17  34  56 108  75  95  36   6 149 153  86  55  39  46  93  41\n",
            "  65  88  73 140 173  89 166 105  57  79 120  60  18 174  91 121  22  96\n",
            "  52  44  28  68  61 111  35 103  11 163 135  21 104 143 171 159 115  27\n",
            "  16  33 118 154 177 139  54   2 100 146  98 176   8 119   4  51  45 148\n",
            "  49 117 134  50  38 130  76 142 156  94  19  12 141  64 131  25  31 125\n",
            "   1 137  69  47  62 116  13  85  42  63 112  84 106  14 136  97   9 144\n",
            " 157  48  80  23  77 126  20  99  87 113 170  74  37 175 122  15  66  59\n",
            " 168 114 152  32  67  40 123 133 124  43 162 132  71 107  78 128 164 155\n",
            " 110 172 145 147 161  92 151 102  30 109  26  83  81 150 129   5  24 158\n",
            " 165  53  29   0  82 167  10   3   7  72  58 160  90 169 127 101]\n"
          ]
        }
      ]
    },
    {
      "cell_type": "code",
      "source": [
        "train_data = np.ones([int(len(indexarr)*0.8),A.shape[1]])"
      ],
      "metadata": {
        "id": "mYw8wWYaJ73H"
      },
      "execution_count": null,
      "outputs": []
    },
    {
      "cell_type": "code",
      "source": [
        "for i in range(int(len(indexarr)*0.8)):\n",
        "  train_data[i] = A[indexarr[i]]"
      ],
      "metadata": {
        "id": "NdkpNx7SMVv2"
      },
      "execution_count": null,
      "outputs": []
    },
    {
      "cell_type": "code",
      "source": [
        "test_data = np.ones([int(len(indexarr)*0.2),A.shape[1]])\n",
        "\n",
        "for i in range(int(len(indexarr)*0.2)):\n",
        "  test_data[i] = A[indexarr[i + int(len(indexarr)*0.8)]]"
      ],
      "metadata": {
        "id": "o2Fm9FHfN0-X"
      },
      "execution_count": null,
      "outputs": []
    },
    {
      "cell_type": "code",
      "source": [
        "train_label = np.ones([int(len(indexarr)*0.8),])"
      ],
      "metadata": {
        "id": "81SlJ2EAOh1d"
      },
      "execution_count": null,
      "outputs": []
    },
    {
      "cell_type": "code",
      "source": [
        "for i in range(int(len(indexarr)*0.8)):\n",
        "  train_label[i] = y[indexarr[i]]"
      ],
      "metadata": {
        "id": "CYg9nsp-O1Lk"
      },
      "execution_count": null,
      "outputs": []
    },
    {
      "cell_type": "code",
      "source": [
        "test_label = np.ones([int(len(indexarr)*0.2),])\n",
        "\n",
        "for i in range(int(len(indexarr)*0.2)):\n",
        "  test_label[i] = y[indexarr[i + int(len(indexarr)*0.8)]]"
      ],
      "metadata": {
        "id": "d0Qd6eloPGt6"
      },
      "execution_count": null,
      "outputs": []
    },
    {
      "cell_type": "code",
      "source": [
        "def predict(w, x):\n",
        "  if np.matmul(w.tranpose(),x)<0:\n",
        "    return -1\n",
        "  else:\n",
        "    return 1"
      ],
      "metadata": {
        "id": "4COtJixEPlRP"
      },
      "execution_count": null,
      "outputs": []
    },
    {
      "cell_type": "code",
      "source": [
        "def compute_accuracy(data, labels, model_w):\n",
        "  no_correct = 0\n",
        "  for i in range(len(labels)):\n",
        "    if predict(model_w, data[i]) == labels[i]:\n",
        "      no_correct += 1\n",
        "  return no_correct/len(labels)"
      ],
      "metadata": {
        "id": "iRkiUTubQT_s"
      },
      "execution_count": null,
      "outputs": []
    },
    {
      "cell_type": "code",
      "source": [
        ""
      ],
      "metadata": {
        "id": "5RqOgeSYRv2q"
      },
      "execution_count": null,
      "outputs": []
    }
  ]
}